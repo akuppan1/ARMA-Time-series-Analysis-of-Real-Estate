{
 "cells": [
  {
   "cell_type": "code",
   "execution_count": 111,
   "metadata": {},
   "outputs": [],
   "source": [
    "# pip install greykite\n",
    "import sys\n",
    "sys.path.append('../greykite')"
   ]
  },
  {
   "cell_type": "code",
   "execution_count": 126,
   "metadata": {},
   "outputs": [],
   "source": [
    "import pandas as pd\n",
    "import greykite\n",
    "from greykite.framework.templates.autogen.forecast_config import ForecastConfig\n",
    "from greykite.framework.templates.autogen.forecast_config import MetadataParam\n",
    "from greykite.framework.templates.forecaster import Forecaster\n",
    "from greykite.framework.templates.model_templates import ModelTemplateEnum\n",
    "import datetime\n",
    "import plotly"
   ]
  },
  {
   "cell_type": "code",
   "execution_count": 113,
   "metadata": {},
   "outputs": [],
   "source": [
    "df = pd.read_csv('rollingsales_queens.xls_prepped_bare.csv', usecols=['SALE DATE', 'SALE PRICE'])"
   ]
  },
  {
   "cell_type": "code",
   "execution_count": 114,
   "metadata": {},
   "outputs": [],
   "source": [
    "# df = df.set_index(['SALE DATE'],drop=True)\n",
    "df['SALE DATE']= pd.to_datetime(df['SALE DATE'])"
   ]
  },
  {
   "cell_type": "code",
   "execution_count": 115,
   "metadata": {},
   "outputs": [
    {
     "data": {
      "text/html": [
       "<div>\n",
       "<style scoped>\n",
       "    .dataframe tbody tr th:only-of-type {\n",
       "        vertical-align: middle;\n",
       "    }\n",
       "\n",
       "    .dataframe tbody tr th {\n",
       "        vertical-align: top;\n",
       "    }\n",
       "\n",
       "    .dataframe thead th {\n",
       "        text-align: right;\n",
       "    }\n",
       "</style>\n",
       "<table border=\"1\" class=\"dataframe\">\n",
       "  <thead>\n",
       "    <tr style=\"text-align: right;\">\n",
       "      <th></th>\n",
       "      <th>SALE PRICE</th>\n",
       "      <th>SALE DATE</th>\n",
       "    </tr>\n",
       "  </thead>\n",
       "  <tbody>\n",
       "    <tr>\n",
       "      <th>0</th>\n",
       "      <td>4121000</td>\n",
       "      <td>2020-07-16</td>\n",
       "    </tr>\n",
       "    <tr>\n",
       "      <th>1</th>\n",
       "      <td>584569</td>\n",
       "      <td>2020-08-28</td>\n",
       "    </tr>\n",
       "    <tr>\n",
       "      <th>2</th>\n",
       "      <td>800000</td>\n",
       "      <td>2021-01-11</td>\n",
       "    </tr>\n",
       "    <tr>\n",
       "      <th>3</th>\n",
       "      <td>300000</td>\n",
       "      <td>2020-12-16</td>\n",
       "    </tr>\n",
       "    <tr>\n",
       "      <th>4</th>\n",
       "      <td>360000</td>\n",
       "      <td>2020-06-23</td>\n",
       "    </tr>\n",
       "    <tr>\n",
       "      <th>...</th>\n",
       "      <td>...</td>\n",
       "      <td>...</td>\n",
       "    </tr>\n",
       "    <tr>\n",
       "      <th>13166</th>\n",
       "      <td>254563</td>\n",
       "      <td>2020-12-31</td>\n",
       "    </tr>\n",
       "    <tr>\n",
       "      <th>13167</th>\n",
       "      <td>254563</td>\n",
       "      <td>2020-12-31</td>\n",
       "    </tr>\n",
       "    <tr>\n",
       "      <th>13168</th>\n",
       "      <td>1000000</td>\n",
       "      <td>2020-07-10</td>\n",
       "    </tr>\n",
       "    <tr>\n",
       "      <th>13169</th>\n",
       "      <td>960000</td>\n",
       "      <td>2020-07-01</td>\n",
       "    </tr>\n",
       "    <tr>\n",
       "      <th>13170</th>\n",
       "      <td>718000</td>\n",
       "      <td>2020-11-03</td>\n",
       "    </tr>\n",
       "  </tbody>\n",
       "</table>\n",
       "<p>13171 rows × 2 columns</p>\n",
       "</div>"
      ],
      "text/plain": [
       "       SALE PRICE  SALE DATE\n",
       "0         4121000 2020-07-16\n",
       "1          584569 2020-08-28\n",
       "2          800000 2021-01-11\n",
       "3          300000 2020-12-16\n",
       "4          360000 2020-06-23\n",
       "...           ...        ...\n",
       "13166      254563 2020-12-31\n",
       "13167      254563 2020-12-31\n",
       "13168     1000000 2020-07-10\n",
       "13169      960000 2020-07-01\n",
       "13170      718000 2020-11-03\n",
       "\n",
       "[13171 rows x 2 columns]"
      ]
     },
     "execution_count": 115,
     "metadata": {},
     "output_type": "execute_result"
    }
   ],
   "source": [
    "df.dropna(inplace=True)\n",
    "df.reset_index(drop=True)"
   ]
  },
  {
   "cell_type": "code",
   "execution_count": 116,
   "metadata": {},
   "outputs": [],
   "source": [
    "df = df.rename(columns={'SALE DATE':'ts', 'SALE PRICE': 'y'})"
   ]
  },
  {
   "cell_type": "code",
   "execution_count": 117,
   "metadata": {},
   "outputs": [],
   "source": [
    "df.columns = df.columns.astype(str)"
   ]
  },
  {
   "cell_type": "code",
   "execution_count": 118,
   "metadata": {},
   "outputs": [],
   "source": [
    "df = df.set_index(['ts'], drop=True)"
   ]
  },
  {
   "cell_type": "code",
   "execution_count": 119,
   "metadata": {},
   "outputs": [],
   "source": [
    "df.index= pd.to_datetime(df.index)"
   ]
  },
  {
   "cell_type": "code",
   "execution_count": 120,
   "metadata": {},
   "outputs": [
    {
     "data": {
      "text/html": [
       "<div>\n",
       "<style scoped>\n",
       "    .dataframe tbody tr th:only-of-type {\n",
       "        vertical-align: middle;\n",
       "    }\n",
       "\n",
       "    .dataframe tbody tr th {\n",
       "        vertical-align: top;\n",
       "    }\n",
       "\n",
       "    .dataframe thead th {\n",
       "        text-align: right;\n",
       "    }\n",
       "</style>\n",
       "<table border=\"1\" class=\"dataframe\">\n",
       "  <thead>\n",
       "    <tr style=\"text-align: right;\">\n",
       "      <th></th>\n",
       "      <th>y</th>\n",
       "    </tr>\n",
       "    <tr>\n",
       "      <th>ts</th>\n",
       "      <th></th>\n",
       "    </tr>\n",
       "  </thead>\n",
       "  <tbody>\n",
       "    <tr>\n",
       "      <th>2020-07-16</th>\n",
       "      <td>4121000</td>\n",
       "    </tr>\n",
       "    <tr>\n",
       "      <th>2020-08-28</th>\n",
       "      <td>584569</td>\n",
       "    </tr>\n",
       "    <tr>\n",
       "      <th>2021-01-11</th>\n",
       "      <td>800000</td>\n",
       "    </tr>\n",
       "    <tr>\n",
       "      <th>2020-12-16</th>\n",
       "      <td>300000</td>\n",
       "    </tr>\n",
       "    <tr>\n",
       "      <th>2020-06-23</th>\n",
       "      <td>360000</td>\n",
       "    </tr>\n",
       "    <tr>\n",
       "      <th>...</th>\n",
       "      <td>...</td>\n",
       "    </tr>\n",
       "    <tr>\n",
       "      <th>2020-12-31</th>\n",
       "      <td>254563</td>\n",
       "    </tr>\n",
       "    <tr>\n",
       "      <th>2020-12-31</th>\n",
       "      <td>254563</td>\n",
       "    </tr>\n",
       "    <tr>\n",
       "      <th>2020-07-10</th>\n",
       "      <td>1000000</td>\n",
       "    </tr>\n",
       "    <tr>\n",
       "      <th>2020-07-01</th>\n",
       "      <td>960000</td>\n",
       "    </tr>\n",
       "    <tr>\n",
       "      <th>2020-11-03</th>\n",
       "      <td>718000</td>\n",
       "    </tr>\n",
       "  </tbody>\n",
       "</table>\n",
       "<p>13171 rows × 1 columns</p>\n",
       "</div>"
      ],
      "text/plain": [
       "                  y\n",
       "ts                 \n",
       "2020-07-16  4121000\n",
       "2020-08-28   584569\n",
       "2021-01-11   800000\n",
       "2020-12-16   300000\n",
       "2020-06-23   360000\n",
       "...             ...\n",
       "2020-12-31   254563\n",
       "2020-12-31   254563\n",
       "2020-07-10  1000000\n",
       "2020-07-01   960000\n",
       "2020-11-03   718000\n",
       "\n",
       "[13171 rows x 1 columns]"
      ]
     },
     "execution_count": 120,
     "metadata": {},
     "output_type": "execute_result"
    }
   ],
   "source": [
    "df"
   ]
  },
  {
   "cell_type": "code",
   "execution_count": 121,
   "metadata": {},
   "outputs": [],
   "source": [
    "df = df.resample('D').mean()"
   ]
  },
  {
   "cell_type": "code",
   "execution_count": 122,
   "metadata": {},
   "outputs": [],
   "source": [
    "df = df.reset_index()"
   ]
  },
  {
   "cell_type": "code",
   "execution_count": 123,
   "metadata": {},
   "outputs": [
    {
     "data": {
      "text/html": [
       "<div>\n",
       "<style scoped>\n",
       "    .dataframe tbody tr th:only-of-type {\n",
       "        vertical-align: middle;\n",
       "    }\n",
       "\n",
       "    .dataframe tbody tr th {\n",
       "        vertical-align: top;\n",
       "    }\n",
       "\n",
       "    .dataframe thead th {\n",
       "        text-align: right;\n",
       "    }\n",
       "</style>\n",
       "<table border=\"1\" class=\"dataframe\">\n",
       "  <thead>\n",
       "    <tr style=\"text-align: right;\">\n",
       "      <th></th>\n",
       "      <th>ts</th>\n",
       "      <th>y</th>\n",
       "    </tr>\n",
       "  </thead>\n",
       "  <tbody>\n",
       "    <tr>\n",
       "      <th>0</th>\n",
       "      <td>2020-04-01</td>\n",
       "      <td>961150.000000</td>\n",
       "    </tr>\n",
       "    <tr>\n",
       "      <th>1</th>\n",
       "      <td>2020-04-02</td>\n",
       "      <td>753357.142857</td>\n",
       "    </tr>\n",
       "    <tr>\n",
       "      <th>2</th>\n",
       "      <td>2020-04-03</td>\n",
       "      <td>681724.206897</td>\n",
       "    </tr>\n",
       "    <tr>\n",
       "      <th>3</th>\n",
       "      <td>2020-04-04</td>\n",
       "      <td>0.000000</td>\n",
       "    </tr>\n",
       "    <tr>\n",
       "      <th>4</th>\n",
       "      <td>2020-04-05</td>\n",
       "      <td>0.000000</td>\n",
       "    </tr>\n",
       "    <tr>\n",
       "      <th>...</th>\n",
       "      <td>...</td>\n",
       "      <td>...</td>\n",
       "    </tr>\n",
       "    <tr>\n",
       "      <th>360</th>\n",
       "      <td>2021-03-27</td>\n",
       "      <td>0.000000</td>\n",
       "    </tr>\n",
       "    <tr>\n",
       "      <th>361</th>\n",
       "      <td>2021-03-28</td>\n",
       "      <td>0.000000</td>\n",
       "    </tr>\n",
       "    <tr>\n",
       "      <th>362</th>\n",
       "      <td>2021-03-29</td>\n",
       "      <td>694114.470588</td>\n",
       "    </tr>\n",
       "    <tr>\n",
       "      <th>363</th>\n",
       "      <td>2021-03-30</td>\n",
       "      <td>747610.935484</td>\n",
       "    </tr>\n",
       "    <tr>\n",
       "      <th>364</th>\n",
       "      <td>2021-03-31</td>\n",
       "      <td>602154.750000</td>\n",
       "    </tr>\n",
       "  </tbody>\n",
       "</table>\n",
       "<p>365 rows × 2 columns</p>\n",
       "</div>"
      ],
      "text/plain": [
       "            ts              y\n",
       "0   2020-04-01  961150.000000\n",
       "1   2020-04-02  753357.142857\n",
       "2   2020-04-03  681724.206897\n",
       "3   2020-04-04       0.000000\n",
       "4   2020-04-05       0.000000\n",
       "..         ...            ...\n",
       "360 2021-03-27       0.000000\n",
       "361 2021-03-28       0.000000\n",
       "362 2021-03-29  694114.470588\n",
       "363 2021-03-30  747610.935484\n",
       "364 2021-03-31  602154.750000\n",
       "\n",
       "[365 rows x 2 columns]"
      ]
     },
     "execution_count": 123,
     "metadata": {},
     "output_type": "execute_result"
    }
   ],
   "source": [
    "df.fillna(0)"
   ]
  },
  {
   "cell_type": "code",
   "execution_count": 124,
   "metadata": {},
   "outputs": [],
   "source": [
    "df['ts']= pd.to_datetime(df['ts'])"
   ]
  },
  {
   "cell_type": "code",
   "execution_count": 137,
   "metadata": {},
   "outputs": [
    {
     "name": "stdout",
     "output_type": "stream",
     "text": [
      "Fitting 3 folds for each of 1 candidates, totalling 3 fits\n"
     ]
    },
    {
     "name": "stderr",
     "output_type": "stream",
     "text": [
      "[Parallel(n_jobs=1)]: Using backend SequentialBackend with 1 concurrent workers.\n",
      "../greykite\\greykite\\sklearn\\transform\\null_transformer.py:177: RuntimeWarning:\n",
      "\n",
      "Input data has many null values. Missing 21.54% of one input.\n",
      "\n",
      "../greykite\\greykite\\sklearn\\transform\\null_transformer.py:177: RuntimeWarning:\n",
      "\n",
      "Input data has many null values. Missing 26.67% of one input.\n",
      "\n",
      "../greykite\\greykite\\common\\evaluation.py:90: UserWarning:\n",
      "\n",
      "8 value(s) in y_true were NA or infinite and are omitted in error calc.\n",
      "\n",
      "../greykite\\greykite\\sklearn\\transform\\null_transformer.py:177: RuntimeWarning:\n",
      "\n",
      "Input data has many null values. Missing 26.67% of one input.\n",
      "\n",
      "../greykite\\greykite\\common\\evaluation.py:90: UserWarning:\n",
      "\n",
      "8 value(s) in y_true were NA or infinite and are omitted in error calc.\n",
      "\n",
      "../greykite\\greykite\\sklearn\\transform\\null_transformer.py:177: RuntimeWarning:\n",
      "\n",
      "Input data has many null values. Missing 26.67% of one input.\n",
      "\n",
      "../greykite\\greykite\\common\\evaluation.py:90: UserWarning:\n",
      "\n",
      "8 value(s) in y_true were NA or infinite and are omitted in error calc.\n",
      "\n",
      "../greykite\\greykite\\sklearn\\transform\\null_transformer.py:177: RuntimeWarning:\n",
      "\n",
      "Input data has many null values. Missing 26.67% of one input.\n",
      "\n",
      "../greykite\\greykite\\common\\evaluation.py:90: UserWarning:\n",
      "\n",
      "8 value(s) in y_true were NA or infinite and are omitted in error calc.\n",
      "\n",
      "../greykite\\greykite\\sklearn\\transform\\null_transformer.py:177: RuntimeWarning:\n",
      "\n",
      "Input data has many null values. Missing 26.67% of one input.\n",
      "\n",
      "../greykite\\greykite\\common\\evaluation.py:90: UserWarning:\n",
      "\n",
      "8 value(s) in y_true were NA or infinite and are omitted in error calc.\n",
      "\n",
      "../greykite\\greykite\\sklearn\\transform\\null_transformer.py:177: RuntimeWarning:\n",
      "\n",
      "Input data has many null values. Missing 26.67% of one input.\n",
      "\n",
      "../greykite\\greykite\\common\\evaluation.py:90: UserWarning:\n",
      "\n",
      "8 value(s) in y_true were NA or infinite and are omitted in error calc.\n",
      "\n",
      "../greykite\\greykite\\sklearn\\transform\\null_transformer.py:177: RuntimeWarning:\n",
      "\n",
      "Input data has many null values. Missing 26.67% of one input.\n",
      "\n",
      "../greykite\\greykite\\common\\evaluation.py:90: UserWarning:\n",
      "\n",
      "8 value(s) in y_true were NA or infinite and are omitted in error calc.\n",
      "\n",
      "../greykite\\greykite\\sklearn\\transform\\null_transformer.py:177: RuntimeWarning:\n",
      "\n",
      "Input data has many null values. Missing 26.67% of one input.\n",
      "\n",
      "../greykite\\greykite\\common\\evaluation.py:90: UserWarning:\n",
      "\n",
      "8 value(s) in y_true were NA or infinite and are omitted in error calc.\n",
      "\n",
      "../greykite\\greykite\\sklearn\\transform\\null_transformer.py:177: RuntimeWarning:\n",
      "\n",
      "Input data has many null values. Missing 26.67% of one input.\n",
      "\n",
      "../greykite\\greykite\\common\\evaluation.py:90: UserWarning:\n",
      "\n",
      "8 value(s) in y_true were NA or infinite and are omitted in error calc.\n",
      "\n",
      "../greykite\\greykite\\sklearn\\transform\\null_transformer.py:177: RuntimeWarning:\n",
      "\n",
      "Input data has many null values. Missing 26.67% of one input.\n",
      "\n",
      "../greykite\\greykite\\common\\evaluation.py:90: UserWarning:\n",
      "\n",
      "8 value(s) in y_true were NA or infinite and are omitted in error calc.\n",
      "\n",
      "../greykite\\greykite\\sklearn\\transform\\null_transformer.py:177: RuntimeWarning:\n",
      "\n",
      "Input data has many null values. Missing 26.67% of one input.\n",
      "\n",
      "../greykite\\greykite\\common\\evaluation.py:90: UserWarning:\n",
      "\n",
      "8 value(s) in y_true were NA or infinite and are omitted in error calc.\n",
      "\n",
      "../greykite\\greykite\\sklearn\\transform\\null_transformer.py:177: RuntimeWarning:\n",
      "\n",
      "Input data has many null values. Missing 26.67% of one input.\n",
      "\n",
      "../greykite\\greykite\\common\\evaluation.py:90: UserWarning:\n",
      "\n",
      "8 value(s) in y_true were NA or infinite and are omitted in error calc.\n",
      "\n",
      "../greykite\\greykite\\sklearn\\transform\\null_transformer.py:177: RuntimeWarning:\n",
      "\n",
      "Input data has many null values. Missing 26.67% of one input.\n",
      "\n",
      "../greykite\\greykite\\common\\evaluation.py:90: UserWarning:\n",
      "\n",
      "8 value(s) in y_true were NA or infinite and are omitted in error calc.\n",
      "\n",
      "../greykite\\greykite\\sklearn\\transform\\null_transformer.py:177: RuntimeWarning:\n",
      "\n",
      "Input data has many null values. Missing 26.67% of one input.\n",
      "\n",
      "../greykite\\greykite\\common\\evaluation.py:90: UserWarning:\n",
      "\n",
      "8 value(s) in y_true were NA or infinite and are omitted in error calc.\n",
      "\n",
      "../greykite\\greykite\\sklearn\\transform\\null_transformer.py:177: RuntimeWarning:\n",
      "\n",
      "Input data has many null values. Missing 26.67% of one input.\n",
      "\n",
      "../greykite\\greykite\\common\\evaluation.py:90: UserWarning:\n",
      "\n",
      "8 value(s) in y_true were NA or infinite and are omitted in error calc.\n",
      "\n",
      "../greykite\\greykite\\sklearn\\transform\\null_transformer.py:177: RuntimeWarning:\n",
      "\n",
      "Input data has many null values. Missing 26.67% of one input.\n",
      "\n",
      "../greykite\\greykite\\common\\evaluation.py:90: UserWarning:\n",
      "\n",
      "8 value(s) in y_true were NA or infinite and are omitted in error calc.\n",
      "\n",
      "../greykite\\greykite\\sklearn\\transform\\null_transformer.py:177: RuntimeWarning:\n",
      "\n",
      "Input data has many null values. Missing 26.67% of one input.\n",
      "\n",
      "../greykite\\greykite\\common\\evaluation.py:90: UserWarning:\n",
      "\n",
      "8 value(s) in y_true were NA or infinite and are omitted in error calc.\n",
      "\n",
      "../greykite\\greykite\\sklearn\\transform\\null_transformer.py:177: RuntimeWarning:\n",
      "\n",
      "Input data has many null values. Missing 21.54% of one input.\n",
      "\n",
      "../greykite\\greykite\\common\\evaluation.py:90: UserWarning:\n",
      "\n",
      "14 value(s) in y_true were NA or infinite and are omitted in error calc.\n",
      "\n",
      "../greykite\\greykite\\sklearn\\transform\\null_transformer.py:177: RuntimeWarning:\n",
      "\n",
      "Input data has many null values. Missing 21.54% of one input.\n",
      "\n",
      "../greykite\\greykite\\common\\evaluation.py:90: UserWarning:\n",
      "\n",
      "14 value(s) in y_true were NA or infinite and are omitted in error calc.\n",
      "\n",
      "../greykite\\greykite\\sklearn\\transform\\null_transformer.py:177: RuntimeWarning:\n",
      "\n",
      "Input data has many null values. Missing 21.54% of one input.\n",
      "\n",
      "../greykite\\greykite\\common\\evaluation.py:90: UserWarning:\n",
      "\n",
      "14 value(s) in y_true were NA or infinite and are omitted in error calc.\n",
      "\n",
      "../greykite\\greykite\\sklearn\\transform\\null_transformer.py:177: RuntimeWarning:\n",
      "\n",
      "Input data has many null values. Missing 21.54% of one input.\n",
      "\n",
      "../greykite\\greykite\\common\\evaluation.py:90: UserWarning:\n",
      "\n",
      "14 value(s) in y_true were NA or infinite and are omitted in error calc.\n",
      "\n",
      "../greykite\\greykite\\sklearn\\transform\\null_transformer.py:177: RuntimeWarning:\n",
      "\n",
      "Input data has many null values. Missing 21.54% of one input.\n",
      "\n",
      "../greykite\\greykite\\common\\evaluation.py:90: UserWarning:\n",
      "\n",
      "14 value(s) in y_true were NA or infinite and are omitted in error calc.\n",
      "\n",
      "../greykite\\greykite\\sklearn\\transform\\null_transformer.py:177: RuntimeWarning:\n",
      "\n",
      "Input data has many null values. Missing 21.54% of one input.\n",
      "\n",
      "../greykite\\greykite\\common\\evaluation.py:90: UserWarning:\n",
      "\n",
      "14 value(s) in y_true were NA or infinite and are omitted in error calc.\n",
      "\n",
      "../greykite\\greykite\\sklearn\\transform\\null_transformer.py:177: RuntimeWarning:\n",
      "\n",
      "Input data has many null values. Missing 21.54% of one input.\n",
      "\n",
      "../greykite\\greykite\\common\\evaluation.py:90: UserWarning:\n",
      "\n",
      "14 value(s) in y_true were NA or infinite and are omitted in error calc.\n",
      "\n",
      "../greykite\\greykite\\sklearn\\transform\\null_transformer.py:177: RuntimeWarning:\n",
      "\n",
      "Input data has many null values. Missing 21.54% of one input.\n",
      "\n",
      "../greykite\\greykite\\common\\evaluation.py:90: UserWarning:\n",
      "\n",
      "14 value(s) in y_true were NA or infinite and are omitted in error calc.\n",
      "\n",
      "../greykite\\greykite\\sklearn\\transform\\null_transformer.py:177: RuntimeWarning:\n",
      "\n",
      "Input data has many null values. Missing 21.54% of one input.\n",
      "\n",
      "../greykite\\greykite\\common\\evaluation.py:90: UserWarning:\n",
      "\n",
      "14 value(s) in y_true were NA or infinite and are omitted in error calc.\n",
      "\n",
      "../greykite\\greykite\\sklearn\\transform\\null_transformer.py:177: RuntimeWarning:\n",
      "\n",
      "Input data has many null values. Missing 21.54% of one input.\n",
      "\n",
      "../greykite\\greykite\\common\\evaluation.py:90: UserWarning:\n",
      "\n",
      "14 value(s) in y_true were NA or infinite and are omitted in error calc.\n",
      "\n",
      "../greykite\\greykite\\sklearn\\transform\\null_transformer.py:177: RuntimeWarning:\n",
      "\n",
      "Input data has many null values. Missing 21.54% of one input.\n",
      "\n",
      "../greykite\\greykite\\common\\evaluation.py:90: UserWarning:\n",
      "\n",
      "14 value(s) in y_true were NA or infinite and are omitted in error calc.\n",
      "\n",
      "../greykite\\greykite\\sklearn\\transform\\null_transformer.py:177: RuntimeWarning:\n",
      "\n",
      "Input data has many null values. Missing 21.54% of one input.\n",
      "\n",
      "../greykite\\greykite\\common\\evaluation.py:90: UserWarning:\n",
      "\n",
      "14 value(s) in y_true were NA or infinite and are omitted in error calc.\n",
      "\n",
      "../greykite\\greykite\\sklearn\\transform\\null_transformer.py:177: RuntimeWarning:\n",
      "\n",
      "Input data has many null values. Missing 21.54% of one input.\n",
      "\n",
      "../greykite\\greykite\\common\\evaluation.py:90: UserWarning:\n",
      "\n",
      "14 value(s) in y_true were NA or infinite and are omitted in error calc.\n",
      "\n",
      "../greykite\\greykite\\sklearn\\transform\\null_transformer.py:177: RuntimeWarning:\n",
      "\n",
      "Input data has many null values. Missing 21.54% of one input.\n",
      "\n",
      "../greykite\\greykite\\common\\evaluation.py:90: UserWarning:\n",
      "\n",
      "14 value(s) in y_true were NA or infinite and are omitted in error calc.\n",
      "\n",
      "../greykite\\greykite\\sklearn\\transform\\null_transformer.py:177: RuntimeWarning:\n",
      "\n",
      "Input data has many null values. Missing 21.54% of one input.\n",
      "\n",
      "../greykite\\greykite\\common\\evaluation.py:90: UserWarning:\n",
      "\n",
      "14 value(s) in y_true were NA or infinite and are omitted in error calc.\n",
      "\n",
      "../greykite\\greykite\\sklearn\\transform\\null_transformer.py:177: RuntimeWarning:\n",
      "\n",
      "Input data has many null values. Missing 21.54% of one input.\n",
      "\n",
      "../greykite\\greykite\\common\\evaluation.py:90: UserWarning:\n",
      "\n",
      "14 value(s) in y_true were NA or infinite and are omitted in error calc.\n",
      "\n",
      "../greykite\\greykite\\sklearn\\transform\\null_transformer.py:177: RuntimeWarning:\n",
      "\n",
      "Input data has many null values. Missing 21.54% of one input.\n",
      "\n",
      "../greykite\\greykite\\common\\evaluation.py:90: UserWarning:\n",
      "\n",
      "14 value(s) in y_true were NA or infinite and are omitted in error calc.\n",
      "\n",
      "../greykite\\greykite\\sklearn\\transform\\null_transformer.py:177: RuntimeWarning:\n",
      "\n",
      "Input data has many null values. Missing 19.27% of one input.\n",
      "\n"
     ]
    },
    {
     "name": "stderr",
     "output_type": "stream",
     "text": [
      "../greykite\\greykite\\sklearn\\transform\\null_transformer.py:177: RuntimeWarning:\n",
      "\n",
      "Input data has many null values. Missing 16.67% of one input.\n",
      "\n",
      "../greykite\\greykite\\common\\evaluation.py:90: UserWarning:\n",
      "\n",
      "5 value(s) in y_true were NA or infinite and are omitted in error calc.\n",
      "\n",
      "../greykite\\greykite\\sklearn\\transform\\null_transformer.py:177: RuntimeWarning:\n",
      "\n",
      "Input data has many null values. Missing 16.67% of one input.\n",
      "\n",
      "../greykite\\greykite\\common\\evaluation.py:90: UserWarning:\n",
      "\n",
      "5 value(s) in y_true were NA or infinite and are omitted in error calc.\n",
      "\n",
      "../greykite\\greykite\\sklearn\\transform\\null_transformer.py:177: RuntimeWarning:\n",
      "\n",
      "Input data has many null values. Missing 16.67% of one input.\n",
      "\n",
      "../greykite\\greykite\\common\\evaluation.py:90: UserWarning:\n",
      "\n",
      "5 value(s) in y_true were NA or infinite and are omitted in error calc.\n",
      "\n",
      "../greykite\\greykite\\sklearn\\transform\\null_transformer.py:177: RuntimeWarning:\n",
      "\n",
      "Input data has many null values. Missing 16.67% of one input.\n",
      "\n",
      "../greykite\\greykite\\common\\evaluation.py:90: UserWarning:\n",
      "\n",
      "5 value(s) in y_true were NA or infinite and are omitted in error calc.\n",
      "\n",
      "../greykite\\greykite\\sklearn\\transform\\null_transformer.py:177: RuntimeWarning:\n",
      "\n",
      "Input data has many null values. Missing 16.67% of one input.\n",
      "\n",
      "../greykite\\greykite\\common\\evaluation.py:90: UserWarning:\n",
      "\n",
      "5 value(s) in y_true were NA or infinite and are omitted in error calc.\n",
      "\n",
      "../greykite\\greykite\\sklearn\\transform\\null_transformer.py:177: RuntimeWarning:\n",
      "\n",
      "Input data has many null values. Missing 16.67% of one input.\n",
      "\n",
      "../greykite\\greykite\\common\\evaluation.py:90: UserWarning:\n",
      "\n",
      "5 value(s) in y_true were NA or infinite and are omitted in error calc.\n",
      "\n",
      "../greykite\\greykite\\sklearn\\transform\\null_transformer.py:177: RuntimeWarning:\n",
      "\n",
      "Input data has many null values. Missing 16.67% of one input.\n",
      "\n",
      "../greykite\\greykite\\common\\evaluation.py:90: UserWarning:\n",
      "\n",
      "5 value(s) in y_true were NA or infinite and are omitted in error calc.\n",
      "\n",
      "../greykite\\greykite\\sklearn\\transform\\null_transformer.py:177: RuntimeWarning:\n",
      "\n",
      "Input data has many null values. Missing 16.67% of one input.\n",
      "\n",
      "../greykite\\greykite\\common\\evaluation.py:90: UserWarning:\n",
      "\n",
      "5 value(s) in y_true were NA or infinite and are omitted in error calc.\n",
      "\n",
      "../greykite\\greykite\\sklearn\\transform\\null_transformer.py:177: RuntimeWarning:\n",
      "\n",
      "Input data has many null values. Missing 16.67% of one input.\n",
      "\n",
      "../greykite\\greykite\\common\\evaluation.py:90: UserWarning:\n",
      "\n",
      "5 value(s) in y_true were NA or infinite and are omitted in error calc.\n",
      "\n",
      "../greykite\\greykite\\sklearn\\transform\\null_transformer.py:177: RuntimeWarning:\n",
      "\n",
      "Input data has many null values. Missing 16.67% of one input.\n",
      "\n",
      "../greykite\\greykite\\common\\evaluation.py:90: UserWarning:\n",
      "\n",
      "5 value(s) in y_true were NA or infinite and are omitted in error calc.\n",
      "\n",
      "../greykite\\greykite\\sklearn\\transform\\null_transformer.py:177: RuntimeWarning:\n",
      "\n",
      "Input data has many null values. Missing 16.67% of one input.\n",
      "\n",
      "../greykite\\greykite\\common\\evaluation.py:90: UserWarning:\n",
      "\n",
      "5 value(s) in y_true were NA or infinite and are omitted in error calc.\n",
      "\n",
      "../greykite\\greykite\\sklearn\\transform\\null_transformer.py:177: RuntimeWarning:\n",
      "\n",
      "Input data has many null values. Missing 16.67% of one input.\n",
      "\n",
      "../greykite\\greykite\\common\\evaluation.py:90: UserWarning:\n",
      "\n",
      "5 value(s) in y_true were NA or infinite and are omitted in error calc.\n",
      "\n",
      "../greykite\\greykite\\sklearn\\transform\\null_transformer.py:177: RuntimeWarning:\n",
      "\n",
      "Input data has many null values. Missing 16.67% of one input.\n",
      "\n",
      "../greykite\\greykite\\common\\evaluation.py:90: UserWarning:\n",
      "\n",
      "5 value(s) in y_true were NA or infinite and are omitted in error calc.\n",
      "\n",
      "../greykite\\greykite\\sklearn\\transform\\null_transformer.py:177: RuntimeWarning:\n",
      "\n",
      "Input data has many null values. Missing 16.67% of one input.\n",
      "\n",
      "../greykite\\greykite\\common\\evaluation.py:90: UserWarning:\n",
      "\n",
      "5 value(s) in y_true were NA or infinite and are omitted in error calc.\n",
      "\n",
      "../greykite\\greykite\\sklearn\\transform\\null_transformer.py:177: RuntimeWarning:\n",
      "\n",
      "Input data has many null values. Missing 16.67% of one input.\n",
      "\n",
      "../greykite\\greykite\\common\\evaluation.py:90: UserWarning:\n",
      "\n",
      "5 value(s) in y_true were NA or infinite and are omitted in error calc.\n",
      "\n",
      "../greykite\\greykite\\sklearn\\transform\\null_transformer.py:177: RuntimeWarning:\n",
      "\n",
      "Input data has many null values. Missing 16.67% of one input.\n",
      "\n",
      "../greykite\\greykite\\common\\evaluation.py:90: UserWarning:\n",
      "\n",
      "5 value(s) in y_true were NA or infinite and are omitted in error calc.\n",
      "\n",
      "../greykite\\greykite\\sklearn\\transform\\null_transformer.py:177: RuntimeWarning:\n",
      "\n",
      "Input data has many null values. Missing 16.67% of one input.\n",
      "\n",
      "../greykite\\greykite\\common\\evaluation.py:90: UserWarning:\n",
      "\n",
      "5 value(s) in y_true were NA or infinite and are omitted in error calc.\n",
      "\n",
      "../greykite\\greykite\\sklearn\\transform\\null_transformer.py:177: RuntimeWarning:\n",
      "\n",
      "Input data has many null values. Missing 19.27% of one input.\n",
      "\n",
      "../greykite\\greykite\\common\\evaluation.py:90: UserWarning:\n",
      "\n",
      "53 value(s) in y_true were NA or infinite and are omitted in error calc.\n",
      "\n",
      "../greykite\\greykite\\sklearn\\transform\\null_transformer.py:177: RuntimeWarning:\n",
      "\n",
      "Input data has many null values. Missing 19.27% of one input.\n",
      "\n",
      "../greykite\\greykite\\common\\evaluation.py:90: UserWarning:\n",
      "\n",
      "53 value(s) in y_true were NA or infinite and are omitted in error calc.\n",
      "\n",
      "../greykite\\greykite\\sklearn\\transform\\null_transformer.py:177: RuntimeWarning:\n",
      "\n",
      "Input data has many null values. Missing 19.27% of one input.\n",
      "\n",
      "../greykite\\greykite\\common\\evaluation.py:90: UserWarning:\n",
      "\n",
      "53 value(s) in y_true were NA or infinite and are omitted in error calc.\n",
      "\n",
      "../greykite\\greykite\\sklearn\\transform\\null_transformer.py:177: RuntimeWarning:\n",
      "\n",
      "Input data has many null values. Missing 19.27% of one input.\n",
      "\n",
      "../greykite\\greykite\\common\\evaluation.py:90: UserWarning:\n",
      "\n",
      "53 value(s) in y_true were NA or infinite and are omitted in error calc.\n",
      "\n",
      "../greykite\\greykite\\sklearn\\transform\\null_transformer.py:177: RuntimeWarning:\n",
      "\n",
      "Input data has many null values. Missing 19.27% of one input.\n",
      "\n",
      "../greykite\\greykite\\common\\evaluation.py:90: UserWarning:\n",
      "\n",
      "53 value(s) in y_true were NA or infinite and are omitted in error calc.\n",
      "\n",
      "../greykite\\greykite\\sklearn\\transform\\null_transformer.py:177: RuntimeWarning:\n",
      "\n",
      "Input data has many null values. Missing 19.27% of one input.\n",
      "\n",
      "../greykite\\greykite\\common\\evaluation.py:90: UserWarning:\n",
      "\n",
      "53 value(s) in y_true were NA or infinite and are omitted in error calc.\n",
      "\n",
      "../greykite\\greykite\\sklearn\\transform\\null_transformer.py:177: RuntimeWarning:\n",
      "\n",
      "Input data has many null values. Missing 19.27% of one input.\n",
      "\n",
      "../greykite\\greykite\\common\\evaluation.py:90: UserWarning:\n",
      "\n",
      "53 value(s) in y_true were NA or infinite and are omitted in error calc.\n",
      "\n",
      "../greykite\\greykite\\sklearn\\transform\\null_transformer.py:177: RuntimeWarning:\n",
      "\n",
      "Input data has many null values. Missing 19.27% of one input.\n",
      "\n",
      "../greykite\\greykite\\common\\evaluation.py:90: UserWarning:\n",
      "\n",
      "53 value(s) in y_true were NA or infinite and are omitted in error calc.\n",
      "\n",
      "../greykite\\greykite\\sklearn\\transform\\null_transformer.py:177: RuntimeWarning:\n",
      "\n",
      "Input data has many null values. Missing 19.27% of one input.\n",
      "\n",
      "../greykite\\greykite\\common\\evaluation.py:90: UserWarning:\n",
      "\n",
      "53 value(s) in y_true were NA or infinite and are omitted in error calc.\n",
      "\n",
      "../greykite\\greykite\\sklearn\\transform\\null_transformer.py:177: RuntimeWarning:\n",
      "\n",
      "Input data has many null values. Missing 19.27% of one input.\n",
      "\n",
      "../greykite\\greykite\\common\\evaluation.py:90: UserWarning:\n",
      "\n",
      "53 value(s) in y_true were NA or infinite and are omitted in error calc.\n",
      "\n",
      "../greykite\\greykite\\sklearn\\transform\\null_transformer.py:177: RuntimeWarning:\n",
      "\n",
      "Input data has many null values. Missing 19.27% of one input.\n",
      "\n",
      "../greykite\\greykite\\common\\evaluation.py:90: UserWarning:\n",
      "\n",
      "53 value(s) in y_true were NA or infinite and are omitted in error calc.\n",
      "\n",
      "../greykite\\greykite\\sklearn\\transform\\null_transformer.py:177: RuntimeWarning:\n",
      "\n",
      "Input data has many null values. Missing 19.27% of one input.\n",
      "\n",
      "../greykite\\greykite\\common\\evaluation.py:90: UserWarning:\n",
      "\n",
      "53 value(s) in y_true were NA or infinite and are omitted in error calc.\n",
      "\n",
      "../greykite\\greykite\\sklearn\\transform\\null_transformer.py:177: RuntimeWarning:\n",
      "\n",
      "Input data has many null values. Missing 19.27% of one input.\n",
      "\n",
      "../greykite\\greykite\\common\\evaluation.py:90: UserWarning:\n",
      "\n",
      "53 value(s) in y_true were NA or infinite and are omitted in error calc.\n",
      "\n",
      "../greykite\\greykite\\sklearn\\transform\\null_transformer.py:177: RuntimeWarning:\n",
      "\n",
      "Input data has many null values. Missing 19.27% of one input.\n",
      "\n",
      "../greykite\\greykite\\common\\evaluation.py:90: UserWarning:\n",
      "\n",
      "53 value(s) in y_true were NA or infinite and are omitted in error calc.\n",
      "\n",
      "../greykite\\greykite\\sklearn\\transform\\null_transformer.py:177: RuntimeWarning:\n",
      "\n",
      "Input data has many null values. Missing 19.27% of one input.\n",
      "\n",
      "../greykite\\greykite\\common\\evaluation.py:90: UserWarning:\n",
      "\n",
      "53 value(s) in y_true were NA or infinite and are omitted in error calc.\n",
      "\n",
      "../greykite\\greykite\\sklearn\\transform\\null_transformer.py:177: RuntimeWarning:\n",
      "\n",
      "Input data has many null values. Missing 19.27% of one input.\n",
      "\n",
      "../greykite\\greykite\\common\\evaluation.py:90: UserWarning:\n",
      "\n",
      "53 value(s) in y_true were NA or infinite and are omitted in error calc.\n",
      "\n",
      "../greykite\\greykite\\sklearn\\transform\\null_transformer.py:177: RuntimeWarning:\n",
      "\n",
      "Input data has many null values. Missing 19.27% of one input.\n",
      "\n",
      "../greykite\\greykite\\common\\evaluation.py:90: UserWarning:\n",
      "\n",
      "53 value(s) in y_true were NA or infinite and are omitted in error calc.\n",
      "\n",
      "../greykite\\greykite\\sklearn\\transform\\null_transformer.py:177: RuntimeWarning:\n",
      "\n",
      "Input data has many null values. Missing 19.02% of one input.\n",
      "\n"
     ]
    },
    {
     "name": "stderr",
     "output_type": "stream",
     "text": [
      "../greykite\\greykite\\sklearn\\transform\\null_transformer.py:177: RuntimeWarning:\n",
      "\n",
      "Input data has many null values. Missing 20.00% of one input.\n",
      "\n",
      "../greykite\\greykite\\common\\evaluation.py:90: UserWarning:\n",
      "\n",
      "6 value(s) in y_true were NA or infinite and are omitted in error calc.\n",
      "\n",
      "../greykite\\greykite\\sklearn\\transform\\null_transformer.py:177: RuntimeWarning:\n",
      "\n",
      "Input data has many null values. Missing 20.00% of one input.\n",
      "\n",
      "../greykite\\greykite\\common\\evaluation.py:90: UserWarning:\n",
      "\n",
      "6 value(s) in y_true were NA or infinite and are omitted in error calc.\n",
      "\n",
      "../greykite\\greykite\\sklearn\\transform\\null_transformer.py:177: RuntimeWarning:\n",
      "\n",
      "Input data has many null values. Missing 20.00% of one input.\n",
      "\n",
      "../greykite\\greykite\\common\\evaluation.py:90: UserWarning:\n",
      "\n",
      "6 value(s) in y_true were NA or infinite and are omitted in error calc.\n",
      "\n",
      "../greykite\\greykite\\sklearn\\transform\\null_transformer.py:177: RuntimeWarning:\n",
      "\n",
      "Input data has many null values. Missing 20.00% of one input.\n",
      "\n",
      "../greykite\\greykite\\common\\evaluation.py:90: UserWarning:\n",
      "\n",
      "6 value(s) in y_true were NA or infinite and are omitted in error calc.\n",
      "\n",
      "../greykite\\greykite\\sklearn\\transform\\null_transformer.py:177: RuntimeWarning:\n",
      "\n",
      "Input data has many null values. Missing 20.00% of one input.\n",
      "\n",
      "../greykite\\greykite\\common\\evaluation.py:90: UserWarning:\n",
      "\n",
      "6 value(s) in y_true were NA or infinite and are omitted in error calc.\n",
      "\n",
      "../greykite\\greykite\\sklearn\\transform\\null_transformer.py:177: RuntimeWarning:\n",
      "\n",
      "Input data has many null values. Missing 20.00% of one input.\n",
      "\n",
      "../greykite\\greykite\\common\\evaluation.py:90: UserWarning:\n",
      "\n",
      "6 value(s) in y_true were NA or infinite and are omitted in error calc.\n",
      "\n",
      "../greykite\\greykite\\sklearn\\transform\\null_transformer.py:177: RuntimeWarning:\n",
      "\n",
      "Input data has many null values. Missing 20.00% of one input.\n",
      "\n",
      "../greykite\\greykite\\common\\evaluation.py:90: UserWarning:\n",
      "\n",
      "6 value(s) in y_true were NA or infinite and are omitted in error calc.\n",
      "\n",
      "../greykite\\greykite\\sklearn\\transform\\null_transformer.py:177: RuntimeWarning:\n",
      "\n",
      "Input data has many null values. Missing 20.00% of one input.\n",
      "\n",
      "../greykite\\greykite\\common\\evaluation.py:90: UserWarning:\n",
      "\n",
      "6 value(s) in y_true were NA or infinite and are omitted in error calc.\n",
      "\n",
      "../greykite\\greykite\\sklearn\\transform\\null_transformer.py:177: RuntimeWarning:\n",
      "\n",
      "Input data has many null values. Missing 20.00% of one input.\n",
      "\n",
      "../greykite\\greykite\\common\\evaluation.py:90: UserWarning:\n",
      "\n",
      "6 value(s) in y_true were NA or infinite and are omitted in error calc.\n",
      "\n",
      "../greykite\\greykite\\sklearn\\transform\\null_transformer.py:177: RuntimeWarning:\n",
      "\n",
      "Input data has many null values. Missing 20.00% of one input.\n",
      "\n",
      "../greykite\\greykite\\common\\evaluation.py:90: UserWarning:\n",
      "\n",
      "6 value(s) in y_true were NA or infinite and are omitted in error calc.\n",
      "\n",
      "../greykite\\greykite\\sklearn\\transform\\null_transformer.py:177: RuntimeWarning:\n",
      "\n",
      "Input data has many null values. Missing 20.00% of one input.\n",
      "\n",
      "../greykite\\greykite\\common\\evaluation.py:90: UserWarning:\n",
      "\n",
      "6 value(s) in y_true were NA or infinite and are omitted in error calc.\n",
      "\n",
      "../greykite\\greykite\\sklearn\\transform\\null_transformer.py:177: RuntimeWarning:\n",
      "\n",
      "Input data has many null values. Missing 20.00% of one input.\n",
      "\n",
      "../greykite\\greykite\\common\\evaluation.py:90: UserWarning:\n",
      "\n",
      "6 value(s) in y_true were NA or infinite and are omitted in error calc.\n",
      "\n",
      "../greykite\\greykite\\sklearn\\transform\\null_transformer.py:177: RuntimeWarning:\n",
      "\n",
      "Input data has many null values. Missing 20.00% of one input.\n",
      "\n",
      "../greykite\\greykite\\common\\evaluation.py:90: UserWarning:\n",
      "\n",
      "6 value(s) in y_true were NA or infinite and are omitted in error calc.\n",
      "\n",
      "../greykite\\greykite\\sklearn\\transform\\null_transformer.py:177: RuntimeWarning:\n",
      "\n",
      "Input data has many null values. Missing 20.00% of one input.\n",
      "\n",
      "../greykite\\greykite\\common\\evaluation.py:90: UserWarning:\n",
      "\n",
      "6 value(s) in y_true were NA or infinite and are omitted in error calc.\n",
      "\n",
      "../greykite\\greykite\\sklearn\\transform\\null_transformer.py:177: RuntimeWarning:\n",
      "\n",
      "Input data has many null values. Missing 20.00% of one input.\n",
      "\n",
      "../greykite\\greykite\\common\\evaluation.py:90: UserWarning:\n",
      "\n",
      "6 value(s) in y_true were NA or infinite and are omitted in error calc.\n",
      "\n",
      "../greykite\\greykite\\sklearn\\transform\\null_transformer.py:177: RuntimeWarning:\n",
      "\n",
      "Input data has many null values. Missing 20.00% of one input.\n",
      "\n",
      "../greykite\\greykite\\common\\evaluation.py:90: UserWarning:\n",
      "\n",
      "6 value(s) in y_true were NA or infinite and are omitted in error calc.\n",
      "\n",
      "../greykite\\greykite\\sklearn\\transform\\null_transformer.py:177: RuntimeWarning:\n",
      "\n",
      "Input data has many null values. Missing 20.00% of one input.\n",
      "\n",
      "../greykite\\greykite\\common\\evaluation.py:90: UserWarning:\n",
      "\n",
      "6 value(s) in y_true were NA or infinite and are omitted in error calc.\n",
      "\n",
      "../greykite\\greykite\\sklearn\\transform\\null_transformer.py:177: RuntimeWarning:\n",
      "\n",
      "Input data has many null values. Missing 19.02% of one input.\n",
      "\n",
      "../greykite\\greykite\\common\\evaluation.py:90: UserWarning:\n",
      "\n",
      "58 value(s) in y_true were NA or infinite and are omitted in error calc.\n",
      "\n",
      "../greykite\\greykite\\sklearn\\transform\\null_transformer.py:177: RuntimeWarning:\n",
      "\n",
      "Input data has many null values. Missing 19.02% of one input.\n",
      "\n",
      "../greykite\\greykite\\common\\evaluation.py:90: UserWarning:\n",
      "\n",
      "58 value(s) in y_true were NA or infinite and are omitted in error calc.\n",
      "\n",
      "../greykite\\greykite\\sklearn\\transform\\null_transformer.py:177: RuntimeWarning:\n",
      "\n",
      "Input data has many null values. Missing 19.02% of one input.\n",
      "\n",
      "../greykite\\greykite\\common\\evaluation.py:90: UserWarning:\n",
      "\n",
      "58 value(s) in y_true were NA or infinite and are omitted in error calc.\n",
      "\n",
      "../greykite\\greykite\\sklearn\\transform\\null_transformer.py:177: RuntimeWarning:\n",
      "\n",
      "Input data has many null values. Missing 19.02% of one input.\n",
      "\n",
      "../greykite\\greykite\\common\\evaluation.py:90: UserWarning:\n",
      "\n",
      "58 value(s) in y_true were NA or infinite and are omitted in error calc.\n",
      "\n",
      "../greykite\\greykite\\sklearn\\transform\\null_transformer.py:177: RuntimeWarning:\n",
      "\n",
      "Input data has many null values. Missing 19.02% of one input.\n",
      "\n",
      "../greykite\\greykite\\common\\evaluation.py:90: UserWarning:\n",
      "\n",
      "58 value(s) in y_true were NA or infinite and are omitted in error calc.\n",
      "\n",
      "../greykite\\greykite\\sklearn\\transform\\null_transformer.py:177: RuntimeWarning:\n",
      "\n",
      "Input data has many null values. Missing 19.02% of one input.\n",
      "\n",
      "../greykite\\greykite\\common\\evaluation.py:90: UserWarning:\n",
      "\n",
      "58 value(s) in y_true were NA or infinite and are omitted in error calc.\n",
      "\n",
      "../greykite\\greykite\\sklearn\\transform\\null_transformer.py:177: RuntimeWarning:\n",
      "\n",
      "Input data has many null values. Missing 19.02% of one input.\n",
      "\n",
      "../greykite\\greykite\\common\\evaluation.py:90: UserWarning:\n",
      "\n",
      "58 value(s) in y_true were NA or infinite and are omitted in error calc.\n",
      "\n",
      "../greykite\\greykite\\sklearn\\transform\\null_transformer.py:177: RuntimeWarning:\n",
      "\n",
      "Input data has many null values. Missing 19.02% of one input.\n",
      "\n",
      "../greykite\\greykite\\common\\evaluation.py:90: UserWarning:\n",
      "\n",
      "58 value(s) in y_true were NA or infinite and are omitted in error calc.\n",
      "\n",
      "../greykite\\greykite\\sklearn\\transform\\null_transformer.py:177: RuntimeWarning:\n",
      "\n",
      "Input data has many null values. Missing 19.02% of one input.\n",
      "\n",
      "../greykite\\greykite\\common\\evaluation.py:90: UserWarning:\n",
      "\n",
      "58 value(s) in y_true were NA or infinite and are omitted in error calc.\n",
      "\n",
      "../greykite\\greykite\\sklearn\\transform\\null_transformer.py:177: RuntimeWarning:\n",
      "\n",
      "Input data has many null values. Missing 19.02% of one input.\n",
      "\n",
      "../greykite\\greykite\\common\\evaluation.py:90: UserWarning:\n",
      "\n",
      "58 value(s) in y_true were NA or infinite and are omitted in error calc.\n",
      "\n",
      "../greykite\\greykite\\sklearn\\transform\\null_transformer.py:177: RuntimeWarning:\n",
      "\n",
      "Input data has many null values. Missing 19.02% of one input.\n",
      "\n",
      "../greykite\\greykite\\common\\evaluation.py:90: UserWarning:\n",
      "\n",
      "58 value(s) in y_true were NA or infinite and are omitted in error calc.\n",
      "\n",
      "../greykite\\greykite\\sklearn\\transform\\null_transformer.py:177: RuntimeWarning:\n",
      "\n",
      "Input data has many null values. Missing 19.02% of one input.\n",
      "\n",
      "../greykite\\greykite\\common\\evaluation.py:90: UserWarning:\n",
      "\n",
      "58 value(s) in y_true were NA or infinite and are omitted in error calc.\n",
      "\n",
      "../greykite\\greykite\\sklearn\\transform\\null_transformer.py:177: RuntimeWarning:\n",
      "\n",
      "Input data has many null values. Missing 19.02% of one input.\n",
      "\n",
      "../greykite\\greykite\\common\\evaluation.py:90: UserWarning:\n",
      "\n",
      "58 value(s) in y_true were NA or infinite and are omitted in error calc.\n",
      "\n",
      "../greykite\\greykite\\sklearn\\transform\\null_transformer.py:177: RuntimeWarning:\n",
      "\n",
      "Input data has many null values. Missing 19.02% of one input.\n",
      "\n",
      "../greykite\\greykite\\common\\evaluation.py:90: UserWarning:\n",
      "\n",
      "58 value(s) in y_true were NA or infinite and are omitted in error calc.\n",
      "\n",
      "../greykite\\greykite\\sklearn\\transform\\null_transformer.py:177: RuntimeWarning:\n",
      "\n",
      "Input data has many null values. Missing 19.02% of one input.\n",
      "\n",
      "../greykite\\greykite\\common\\evaluation.py:90: UserWarning:\n",
      "\n",
      "58 value(s) in y_true were NA or infinite and are omitted in error calc.\n",
      "\n",
      "../greykite\\greykite\\sklearn\\transform\\null_transformer.py:177: RuntimeWarning:\n",
      "\n",
      "Input data has many null values. Missing 19.02% of one input.\n",
      "\n",
      "../greykite\\greykite\\common\\evaluation.py:90: UserWarning:\n",
      "\n",
      "58 value(s) in y_true were NA or infinite and are omitted in error calc.\n",
      "\n",
      "../greykite\\greykite\\sklearn\\transform\\null_transformer.py:177: RuntimeWarning:\n",
      "\n",
      "Input data has many null values. Missing 19.02% of one input.\n",
      "\n",
      "../greykite\\greykite\\common\\evaluation.py:90: UserWarning:\n",
      "\n",
      "58 value(s) in y_true were NA or infinite and are omitted in error calc.\n",
      "\n",
      "[Parallel(n_jobs=1)]: Done   3 out of   3 | elapsed:   13.4s finished\n",
      "../greykite\\greykite\\sklearn\\transform\\null_transformer.py:177: RuntimeWarning:\n",
      "\n",
      "Input data has many null values. Missing 19.10% of one input.\n",
      "\n"
     ]
    },
    {
     "name": "stderr",
     "output_type": "stream",
     "text": [
      "../greykite\\greykite\\sklearn\\transform\\null_transformer.py:177: RuntimeWarning:\n",
      "\n",
      "Input data has many null values. Missing 19.18% of one input.\n",
      "\n",
      "../greykite\\greykite\\common\\evaluation.py:90: UserWarning:\n",
      "\n",
      "64 value(s) in y_true were NA or infinite and are omitted in error calc.\n",
      "\n",
      "../greykite\\greykite\\common\\evaluation.py:90: UserWarning:\n",
      "\n",
      "64 value(s) in y_true were NA or infinite and are omitted in error calc.\n",
      "\n",
      "../greykite\\greykite\\common\\evaluation.py:90: UserWarning:\n",
      "\n",
      "6 value(s) in y_true were NA or infinite and are omitted in error calc.\n",
      "\n",
      "../greykite\\greykite\\common\\evaluation.py:90: UserWarning:\n",
      "\n",
      "6 value(s) in y_true were NA or infinite and are omitted in error calc.\n",
      "\n",
      "../greykite\\greykite\\sklearn\\transform\\null_transformer.py:177: RuntimeWarning:\n",
      "\n",
      "Input data has many null values. Missing 19.18% of one input.\n",
      "\n",
      "../greykite\\greykite\\sklearn\\transform\\null_transformer.py:177: RuntimeWarning:\n",
      "\n",
      "Input data has many null values. Missing 25.32% of one input.\n",
      "\n",
      "../greykite\\greykite\\common\\evaluation.py:90: UserWarning:\n",
      "\n",
      "70 value(s) in y_true were NA or infinite and are omitted in error calc.\n",
      "\n",
      "../greykite\\greykite\\common\\evaluation.py:90: UserWarning:\n",
      "\n",
      "70 value(s) in y_true were NA or infinite and are omitted in error calc.\n",
      "\n"
     ]
    },
    {
     "data": {
      "text/plain": [
       "ForecastResult(timeseries=<greykite.framework.input.univariate_time_series.UnivariateTimeSeries object at 0x00000205515B7C10>, grid_search=RandomizedSearchCV(cv=RollingTimeSeriesSplit(expanding_window=True, forecast_horizon=30,\n",
       "            max_splits=3, min_train_periods=60, periods_between_splits=30,\n",
       "            periods_between_train_test=0, use_most_recent_splits=False),\n",
       "                   estimator=Pipeline(steps=[('input',\n",
       "                                              PandasFeatureUnion(transformer_list=[('date',\n",
       "                                                                                    Pipeline(steps=[('select_date',\n",
       "                                                                                                     ColumnSelector(column_names=['ts'...\n",
       "                            'OutsideTolerance3p': make_scorer(score_func_finite),\n",
       "                            'OutsideTolerance4p': make_scorer(score_func_finite),\n",
       "                            'OutsideTolerance5p': make_scorer(score_func_finite),\n",
       "                            'Q80': make_scorer(score_func_finite),\n",
       "                            'Q95': make_scorer(score_func_finite),\n",
       "                            'Q99': make_scorer(score_func_finite),\n",
       "                            'R2': make_scorer(score_func_finite),\n",
       "                            'RMSE': make_scorer(score_func_finite),\n",
       "                            'sMAPE': make_scorer(score_func_finite)},\n",
       "                   verbose=1), model=Pipeline(steps=[('input',\n",
       "                 PandasFeatureUnion(transformer_list=[('date',\n",
       "                                                       Pipeline(steps=[('select_date',\n",
       "                                                                        ColumnSelector(column_names=['ts']))])),\n",
       "                                                      ('response',\n",
       "                                                       Pipeline(steps=[('select_val',\n",
       "                                                                        ColumnSelector(column_names=['y'])),\n",
       "                                                                       ('outlier',\n",
       "                                                                        ZscoreOutlierTransformer()),\n",
       "                                                                       ('null',\n",
       "                                                                        NullTransformer(impute_algorithm='interpolate',\n",
       "                                                                                        impute_params={'axis': 0,\n",
       "                                                                                                       'limit_direct...\n",
       "                                                            'simple_freq': <SimpleTimeFrequencyEnum.DAY: Frequency(default_horizon=30, seconds_per_observation=86400, valid_seas={'QUARTERLY_SEASONALITY', 'YEARLY_SEASONALITY', 'WEEKLY_SEASONALITY', 'MONTHLY_SEASONALITY'})>,\n",
       "                                                            'start_year': 2020},\n",
       "                                           uncertainty_dict={'params': {'conditional_cols': ['dow_hr'],\n",
       "                                                                        'quantile_estimation_method': 'normal_fit',\n",
       "                                                                        'quantiles': [0.025000000000000022,\n",
       "                                                                                      0.975],\n",
       "                                                                        'sample_size_thresh': 5,\n",
       "                                                                        'small_sample_size_method': 'std_quantiles',\n",
       "                                                                        'small_sample_size_quantile': 0.98},\n",
       "                                                             'uncertainty_method': 'simple_conditional_residuals'}))]), backtest=<greykite.framework.output.univariate_forecast.UnivariateForecast object at 0x0000020553EF04F0>, forecast=<greykite.framework.output.univariate_forecast.UnivariateForecast object at 0x0000020553F79FD0>)"
      ]
     },
     "execution_count": 137,
     "metadata": {},
     "output_type": "execute_result"
    }
   ],
   "source": [
    "\n",
    "\n",
    "# df = ...  # your input timeseries!\n",
    "df=df\n",
    "metadata = MetadataParam(\n",
    "    time_col= 'ts',     # time column in `df`\n",
    "    value_col='y'      # value in `df`\n",
    ")\n",
    "forecaster = Forecaster()  # creates forecasts and stores the result\n",
    "result = forecaster.run_forecast_config(\n",
    "     df=df,\n",
    "     config=ForecastConfig(\n",
    "         # uses the SILVERKITE model template parameters\n",
    "         model_template=ModelTemplateEnum.SILVERKITE.name,\n",
    "         forecast_horizon=30,  # forecasts 365 steps ahead\n",
    "         coverage=0.95,         # 95% prediction intervals\n",
    "         metadata_param=metadata\n",
    "     )\n",
    " )\n",
    "# Access the result\n",
    "forecaster.forecast_result"
   ]
  },
  {
   "cell_type": "code",
   "execution_count": 138,
   "metadata": {
    "scrolled": true
   },
   "outputs": [
    {
     "data": {
      "application/vnd.plotly.v1+json": {
       "config": {
        "plotlyServerURL": "https://plot.ly"
       },
       "data": [
        {
         "line": {
          "color": "rgb(32, 149, 212)"
         },
         "mode": "lines",
         "name": "y",
         "opacity": 0.8,
         "type": "scatter",
         "x": [
          "2020-04-01T00:00:00",
          "2020-04-02T00:00:00",
          "2020-04-03T00:00:00",
          "2020-04-04T00:00:00",
          "2020-04-05T00:00:00",
          "2020-04-06T00:00:00",
          "2020-04-07T00:00:00",
          "2020-04-08T00:00:00",
          "2020-04-09T00:00:00",
          "2020-04-10T00:00:00",
          "2020-04-11T00:00:00",
          "2020-04-12T00:00:00",
          "2020-04-13T00:00:00",
          "2020-04-14T00:00:00",
          "2020-04-15T00:00:00",
          "2020-04-16T00:00:00",
          "2020-04-17T00:00:00",
          "2020-04-18T00:00:00",
          "2020-04-19T00:00:00",
          "2020-04-20T00:00:00",
          "2020-04-21T00:00:00",
          "2020-04-22T00:00:00",
          "2020-04-23T00:00:00",
          "2020-04-24T00:00:00",
          "2020-04-25T00:00:00",
          "2020-04-26T00:00:00",
          "2020-04-27T00:00:00",
          "2020-04-28T00:00:00",
          "2020-04-29T00:00:00",
          "2020-04-30T00:00:00",
          "2020-05-01T00:00:00",
          "2020-05-02T00:00:00",
          "2020-05-03T00:00:00",
          "2020-05-04T00:00:00",
          "2020-05-05T00:00:00",
          "2020-05-06T00:00:00",
          "2020-05-07T00:00:00",
          "2020-05-08T00:00:00",
          "2020-05-09T00:00:00",
          "2020-05-10T00:00:00",
          "2020-05-11T00:00:00",
          "2020-05-12T00:00:00",
          "2020-05-13T00:00:00",
          "2020-05-14T00:00:00",
          "2020-05-15T00:00:00",
          "2020-05-16T00:00:00",
          "2020-05-17T00:00:00",
          "2020-05-18T00:00:00",
          "2020-05-19T00:00:00",
          "2020-05-20T00:00:00",
          "2020-05-21T00:00:00",
          "2020-05-22T00:00:00",
          "2020-05-23T00:00:00",
          "2020-05-24T00:00:00",
          "2020-05-25T00:00:00",
          "2020-05-26T00:00:00",
          "2020-05-27T00:00:00",
          "2020-05-28T00:00:00",
          "2020-05-29T00:00:00",
          "2020-05-30T00:00:00",
          "2020-05-31T00:00:00",
          "2020-06-01T00:00:00",
          "2020-06-02T00:00:00",
          "2020-06-03T00:00:00",
          "2020-06-04T00:00:00",
          "2020-06-05T00:00:00",
          "2020-06-06T00:00:00",
          "2020-06-07T00:00:00",
          "2020-06-08T00:00:00",
          "2020-06-09T00:00:00",
          "2020-06-10T00:00:00",
          "2020-06-11T00:00:00",
          "2020-06-12T00:00:00",
          "2020-06-13T00:00:00",
          "2020-06-14T00:00:00",
          "2020-06-15T00:00:00",
          "2020-06-16T00:00:00",
          "2020-06-17T00:00:00",
          "2020-06-18T00:00:00",
          "2020-06-19T00:00:00",
          "2020-06-20T00:00:00",
          "2020-06-21T00:00:00",
          "2020-06-22T00:00:00",
          "2020-06-23T00:00:00",
          "2020-06-24T00:00:00",
          "2020-06-25T00:00:00",
          "2020-06-26T00:00:00",
          "2020-06-27T00:00:00",
          "2020-06-28T00:00:00",
          "2020-06-29T00:00:00",
          "2020-06-30T00:00:00",
          "2020-07-01T00:00:00",
          "2020-07-02T00:00:00",
          "2020-07-03T00:00:00",
          "2020-07-04T00:00:00",
          "2020-07-05T00:00:00",
          "2020-07-06T00:00:00",
          "2020-07-07T00:00:00",
          "2020-07-08T00:00:00",
          "2020-07-09T00:00:00",
          "2020-07-10T00:00:00",
          "2020-07-11T00:00:00",
          "2020-07-12T00:00:00",
          "2020-07-13T00:00:00",
          "2020-07-14T00:00:00",
          "2020-07-15T00:00:00",
          "2020-07-16T00:00:00",
          "2020-07-17T00:00:00",
          "2020-07-18T00:00:00",
          "2020-07-19T00:00:00",
          "2020-07-20T00:00:00",
          "2020-07-21T00:00:00",
          "2020-07-22T00:00:00",
          "2020-07-23T00:00:00",
          "2020-07-24T00:00:00",
          "2020-07-25T00:00:00",
          "2020-07-26T00:00:00",
          "2020-07-27T00:00:00",
          "2020-07-28T00:00:00",
          "2020-07-29T00:00:00",
          "2020-07-30T00:00:00",
          "2020-07-31T00:00:00",
          "2020-08-01T00:00:00",
          "2020-08-02T00:00:00",
          "2020-08-03T00:00:00",
          "2020-08-04T00:00:00",
          "2020-08-05T00:00:00",
          "2020-08-06T00:00:00",
          "2020-08-07T00:00:00",
          "2020-08-08T00:00:00",
          "2020-08-09T00:00:00",
          "2020-08-10T00:00:00",
          "2020-08-11T00:00:00",
          "2020-08-12T00:00:00",
          "2020-08-13T00:00:00",
          "2020-08-14T00:00:00",
          "2020-08-15T00:00:00",
          "2020-08-16T00:00:00",
          "2020-08-17T00:00:00",
          "2020-08-18T00:00:00",
          "2020-08-19T00:00:00",
          "2020-08-20T00:00:00",
          "2020-08-21T00:00:00",
          "2020-08-22T00:00:00",
          "2020-08-23T00:00:00",
          "2020-08-24T00:00:00",
          "2020-08-25T00:00:00",
          "2020-08-26T00:00:00",
          "2020-08-27T00:00:00",
          "2020-08-28T00:00:00",
          "2020-08-29T00:00:00",
          "2020-08-30T00:00:00",
          "2020-08-31T00:00:00",
          "2020-09-01T00:00:00",
          "2020-09-02T00:00:00",
          "2020-09-03T00:00:00",
          "2020-09-04T00:00:00",
          "2020-09-05T00:00:00",
          "2020-09-06T00:00:00",
          "2020-09-07T00:00:00",
          "2020-09-08T00:00:00",
          "2020-09-09T00:00:00",
          "2020-09-10T00:00:00",
          "2020-09-11T00:00:00",
          "2020-09-12T00:00:00",
          "2020-09-13T00:00:00",
          "2020-09-14T00:00:00",
          "2020-09-15T00:00:00",
          "2020-09-16T00:00:00",
          "2020-09-17T00:00:00",
          "2020-09-18T00:00:00",
          "2020-09-19T00:00:00",
          "2020-09-20T00:00:00",
          "2020-09-21T00:00:00",
          "2020-09-22T00:00:00",
          "2020-09-23T00:00:00",
          "2020-09-24T00:00:00",
          "2020-09-25T00:00:00",
          "2020-09-26T00:00:00",
          "2020-09-27T00:00:00",
          "2020-09-28T00:00:00",
          "2020-09-29T00:00:00",
          "2020-09-30T00:00:00",
          "2020-10-01T00:00:00",
          "2020-10-02T00:00:00",
          "2020-10-03T00:00:00",
          "2020-10-04T00:00:00",
          "2020-10-05T00:00:00",
          "2020-10-06T00:00:00",
          "2020-10-07T00:00:00",
          "2020-10-08T00:00:00",
          "2020-10-09T00:00:00",
          "2020-10-10T00:00:00",
          "2020-10-11T00:00:00",
          "2020-10-12T00:00:00",
          "2020-10-13T00:00:00",
          "2020-10-14T00:00:00",
          "2020-10-15T00:00:00",
          "2020-10-16T00:00:00",
          "2020-10-17T00:00:00",
          "2020-10-18T00:00:00",
          "2020-10-19T00:00:00",
          "2020-10-20T00:00:00",
          "2020-10-21T00:00:00",
          "2020-10-22T00:00:00",
          "2020-10-23T00:00:00",
          "2020-10-24T00:00:00",
          "2020-10-25T00:00:00",
          "2020-10-26T00:00:00",
          "2020-10-27T00:00:00",
          "2020-10-28T00:00:00",
          "2020-10-29T00:00:00",
          "2020-10-30T00:00:00",
          "2020-10-31T00:00:00",
          "2020-11-01T00:00:00",
          "2020-11-02T00:00:00",
          "2020-11-03T00:00:00",
          "2020-11-04T00:00:00",
          "2020-11-05T00:00:00",
          "2020-11-06T00:00:00",
          "2020-11-07T00:00:00",
          "2020-11-08T00:00:00",
          "2020-11-09T00:00:00",
          "2020-11-10T00:00:00",
          "2020-11-11T00:00:00",
          "2020-11-12T00:00:00",
          "2020-11-13T00:00:00",
          "2020-11-14T00:00:00",
          "2020-11-15T00:00:00",
          "2020-11-16T00:00:00",
          "2020-11-17T00:00:00",
          "2020-11-18T00:00:00",
          "2020-11-19T00:00:00",
          "2020-11-20T00:00:00",
          "2020-11-21T00:00:00",
          "2020-11-22T00:00:00",
          "2020-11-23T00:00:00",
          "2020-11-24T00:00:00",
          "2020-11-25T00:00:00",
          "2020-11-26T00:00:00",
          "2020-11-27T00:00:00",
          "2020-11-28T00:00:00",
          "2020-11-29T00:00:00",
          "2020-11-30T00:00:00",
          "2020-12-01T00:00:00",
          "2020-12-02T00:00:00",
          "2020-12-03T00:00:00",
          "2020-12-04T00:00:00",
          "2020-12-05T00:00:00",
          "2020-12-06T00:00:00",
          "2020-12-07T00:00:00",
          "2020-12-08T00:00:00",
          "2020-12-09T00:00:00",
          "2020-12-10T00:00:00",
          "2020-12-11T00:00:00",
          "2020-12-12T00:00:00",
          "2020-12-13T00:00:00",
          "2020-12-14T00:00:00",
          "2020-12-15T00:00:00",
          "2020-12-16T00:00:00",
          "2020-12-17T00:00:00",
          "2020-12-18T00:00:00",
          "2020-12-19T00:00:00",
          "2020-12-20T00:00:00",
          "2020-12-21T00:00:00",
          "2020-12-22T00:00:00",
          "2020-12-23T00:00:00",
          "2020-12-24T00:00:00",
          "2020-12-25T00:00:00",
          "2020-12-26T00:00:00",
          "2020-12-27T00:00:00",
          "2020-12-28T00:00:00",
          "2020-12-29T00:00:00",
          "2020-12-30T00:00:00",
          "2020-12-31T00:00:00",
          "2021-01-01T00:00:00",
          "2021-01-02T00:00:00",
          "2021-01-03T00:00:00",
          "2021-01-04T00:00:00",
          "2021-01-05T00:00:00",
          "2021-01-06T00:00:00",
          "2021-01-07T00:00:00",
          "2021-01-08T00:00:00",
          "2021-01-09T00:00:00",
          "2021-01-10T00:00:00",
          "2021-01-11T00:00:00",
          "2021-01-12T00:00:00",
          "2021-01-13T00:00:00",
          "2021-01-14T00:00:00",
          "2021-01-15T00:00:00",
          "2021-01-16T00:00:00",
          "2021-01-17T00:00:00",
          "2021-01-18T00:00:00",
          "2021-01-19T00:00:00",
          "2021-01-20T00:00:00",
          "2021-01-21T00:00:00",
          "2021-01-22T00:00:00",
          "2021-01-23T00:00:00",
          "2021-01-24T00:00:00",
          "2021-01-25T00:00:00",
          "2021-01-26T00:00:00",
          "2021-01-27T00:00:00",
          "2021-01-28T00:00:00",
          "2021-01-29T00:00:00",
          "2021-01-30T00:00:00",
          "2021-01-31T00:00:00",
          "2021-02-01T00:00:00",
          "2021-02-02T00:00:00",
          "2021-02-03T00:00:00",
          "2021-02-04T00:00:00",
          "2021-02-05T00:00:00",
          "2021-02-06T00:00:00",
          "2021-02-07T00:00:00",
          "2021-02-08T00:00:00",
          "2021-02-09T00:00:00",
          "2021-02-10T00:00:00",
          "2021-02-11T00:00:00",
          "2021-02-12T00:00:00",
          "2021-02-13T00:00:00",
          "2021-02-14T00:00:00",
          "2021-02-15T00:00:00",
          "2021-02-16T00:00:00",
          "2021-02-17T00:00:00",
          "2021-02-18T00:00:00",
          "2021-02-19T00:00:00",
          "2021-02-20T00:00:00",
          "2021-02-21T00:00:00",
          "2021-02-22T00:00:00",
          "2021-02-23T00:00:00",
          "2021-02-24T00:00:00",
          "2021-02-25T00:00:00",
          "2021-02-26T00:00:00",
          "2021-02-27T00:00:00",
          "2021-02-28T00:00:00",
          "2021-03-01T00:00:00",
          "2021-03-02T00:00:00",
          "2021-03-03T00:00:00",
          "2021-03-04T00:00:00",
          "2021-03-05T00:00:00",
          "2021-03-06T00:00:00",
          "2021-03-07T00:00:00",
          "2021-03-08T00:00:00",
          "2021-03-09T00:00:00",
          "2021-03-10T00:00:00",
          "2021-03-11T00:00:00",
          "2021-03-12T00:00:00",
          "2021-03-13T00:00:00",
          "2021-03-14T00:00:00",
          "2021-03-15T00:00:00",
          "2021-03-16T00:00:00",
          "2021-03-17T00:00:00",
          "2021-03-18T00:00:00",
          "2021-03-19T00:00:00",
          "2021-03-20T00:00:00",
          "2021-03-21T00:00:00",
          "2021-03-22T00:00:00",
          "2021-03-23T00:00:00",
          "2021-03-24T00:00:00",
          "2021-03-25T00:00:00",
          "2021-03-26T00:00:00",
          "2021-03-27T00:00:00",
          "2021-03-28T00:00:00",
          "2021-03-29T00:00:00",
          "2021-03-30T00:00:00",
          "2021-03-31T00:00:00"
         ],
         "y": [
          961150,
          753357.1428571428,
          681724.2068965518,
          null,
          null,
          725208,
          630053.7368421053,
          676583.3333333334,
          773225.2692307692,
          666255.6428571428,
          null,
          325000,
          1192963.4347826086,
          883883.5,
          1115649.0666666667,
          703075.8947368421,
          593240.8,
          null,
          null,
          630549.76,
          788538.3684210526,
          534571.5,
          706054.68,
          766311.7619047619,
          670000,
          null,
          672223.2571428572,
          589203.6666666666,
          717248.3928571428,
          645056.5660377359,
          761566.3846153846,
          null,
          null,
          742996.5925925926,
          928117.8571428572,
          722244.3181818182,
          802193.448275862,
          737056.8913043478,
          null,
          null,
          1010215.1176470588,
          559954.9,
          594030.4,
          786627.5,
          2423803.590909091,
          400000,
          null,
          580116.6333333333,
          649406.4285714285,
          571375.7666666667,
          1257801.9523809524,
          1018404.1714285715,
          null,
          325000,
          null,
          572714.6086956522,
          601808.6341463415,
          818277.015625,
          685398.4583333334,
          null,
          340000,
          558506.7741935484,
          694160.2666666667,
          1809577.5,
          759085.9375,
          663100.880952381,
          null,
          null,
          584458.6,
          1286910.6304347827,
          674959.5454545454,
          6283043.34375,
          821677.42,
          484787,
          null,
          833615.7916666666,
          796530.75,
          626165.4705882353,
          562851.2580645161,
          680855.3958333334,
          null,
          null,
          634731.0952380953,
          2134153.5555555555,
          1374770.888888889,
          705734.1449275363,
          732110.9016393443,
          null,
          null,
          3128182.919354839,
          771592.4027777778,
          786353.2962962963,
          635133.3111111111,
          365000,
          null,
          null,
          610116.2727272727,
          855789.3243243244,
          942172.3255813953,
          1002349.9333333333,
          1207195.462962963,
          265000,
          null,
          521447.625,
          1019686.8163265307,
          734260.9615384615,
          782620.7435897436,
          675106.5769230769,
          356000,
          null,
          625668.5319148937,
          631018.0769230769,
          623849.725490196,
          1151866.625,
          608356.5416666666,
          null,
          null,
          566493.1904761905,
          716382.7727272727,
          1063304.0487804879,
          657447.7843137255,
          606157.1694915254,
          336500,
          null,
          1100150.775,
          703381.2105263158,
          698784.5666666667,
          597978.6666666666,
          662752.4583333334,
          null,
          null,
          737526.5357142857,
          759952.6315789474,
          664542.6666666666,
          587161.7608695652,
          640727.659574468,
          804097,
          120000,
          681732.3103448276,
          580265.8837209302,
          1042224.8666666667,
          822008.9818181818,
          783539.5217391305,
          306146,
          471271.25,
          684929.4545454546,
          640625.1081081082,
          1140819.3703703703,
          631340,
          3335524.5070422534,
          303280,
          null,
          1679717.844155844,
          633616.3225806452,
          690991.1,
          681047.9714285714,
          1435634,
          850000,
          null,
          6000,
          583332.512195122,
          11782759.705882354,
          1010899.8372093023,
          1133387.7567567567,
          null,
          null,
          5504713.85106383,
          690470.3278688524,
          872583.051724138,
          615537.4716981133,
          643329.4761904762,
          null,
          217000,
          674469.5263157894,
          1033372.1272727273,
          802347.9649122807,
          758760.3768115942,
          715879.4533333334,
          null,
          null,
          693191.303030303,
          862207.5540540541,
          14690100.05,
          923863.4225352113,
          712918.0363636364,
          null,
          90000,
          683918.8484848485,
          731857.1111111111,
          631391.24,
          587772.3191489362,
          620802.2205882353,
          null,
          null,
          317422.5,
          712517.5714285715,
          730325.5769230769,
          830288.86,
          639017.6101694915,
          3000,
          null,
          575891.0333333333,
          699273.3928571428,
          693789.1833333333,
          753131.0754716981,
          747951.3,
          285000,
          5000,
          652001.9298245613,
          709614.3606557377,
          831534.3918918918,
          729093.1382978724,
          1050691.7684210527,
          410000,
          399000,
          694042.5588235294,
          704709.475,
          758629.3103448276,
          640258.0714285715,
          705806.2380952381,
          null,
          420000,
          740381.828125,
          744469.9344262296,
          500318.1818181818,
          704503.1891891892,
          2660488.6923076925,
          null,
          null,
          673783.0363636364,
          763621.4736842106,
          1125740.4705882352,
          697605.71875,
          680614.3333333334,
          null,
          null,
          639074.205479452,
          779583.9784946237,
          741491.7611940298,
          null,
          832958.75,
          null,
          246664,
          687234.4642857143,
          710952.6323529412,
          675483.515625,
          781023.96875,
          679605.7702702703,
          null,
          360000,
          757934.828125,
          676002.6111111111,
          612785.8153846153,
          673998.8533333334,
          639837.875,
          1000000,
          395801.5,
          1057572.6712328766,
          787623.5,
          815271.8,
          1206976.66,
          1029722.0260869565,
          null,
          null,
          2140242.969072165,
          3079420.9344262294,
          818685.9696969697,
          3036481.242424242,
          null,
          390787,
          null,
          1193972.0833333333,
          745306.5108695652,
          1182410.3086419753,
          904587.4307692308,
          null,
          null,
          null,
          515441.9655172414,
          937195.8113207547,
          629678.7924528302,
          870835.4074074074,
          673749.8793103448,
          200000,
          null,
          638217.0757575758,
          941716.2987012987,
          629515.2909090909,
          617809.5576923077,
          2060531.569620253,
          980000,
          75000,
          665439.8,
          734202.775862069,
          728799.0289855072,
          733167.7333333333,
          798184.8815789474,
          634500,
          null,
          664862.0714285715,
          700602.1551724138,
          808769.0724637681,
          716158.5384615385,
          965531.6880733945,
          4098400,
          1100000,
          1030374.6666666666,
          678594.1666666666,
          673120.3773584906,
          646879.6060606061,
          679965.2934782609,
          461500,
          null,
          735113.6166666667,
          709083.7464788732,
          721104.9714285714,
          876941.2133333334,
          809655.5571428571,
          null,
          null,
          585533.3333333334,
          620100.220338983,
          672292.9245283019,
          767958.2676056338,
          934185.5,
          null,
          386000,
          1820586.35,
          776674.421875,
          714328.8309859155,
          787634.8292682926,
          707944.7699115045,
          null,
          null,
          669714.0757575758,
          823997.4807692308,
          631401.1692307693,
          1185896.3088235294,
          688686.8831168831,
          null,
          null,
          803755.25,
          644934.7166666667,
          1258062.7878787878,
          687746.140625,
          679635.9852941176,
          null,
          475000,
          684445.9333333333,
          943197.7692307692,
          600407.2586206896,
          735364.7924528302,
          614789.2542372881,
          null,
          30000,
          639942.1607142857,
          656634.75,
          634332.9649122807,
          609609.756097561,
          652589.2857142857,
          null,
          null,
          694114.4705882353,
          747610.9354838709,
          602154.75
         ]
        }
       ],
       "layout": {
        "legend": {
         "traceorder": "reversed"
        },
        "showlegend": true,
        "template": {
         "data": {
          "bar": [
           {
            "error_x": {
             "color": "#2a3f5f"
            },
            "error_y": {
             "color": "#2a3f5f"
            },
            "marker": {
             "line": {
              "color": "#E5ECF6",
              "width": 0.5
             }
            },
            "type": "bar"
           }
          ],
          "barpolar": [
           {
            "marker": {
             "line": {
              "color": "#E5ECF6",
              "width": 0.5
             }
            },
            "type": "barpolar"
           }
          ],
          "carpet": [
           {
            "aaxis": {
             "endlinecolor": "#2a3f5f",
             "gridcolor": "white",
             "linecolor": "white",
             "minorgridcolor": "white",
             "startlinecolor": "#2a3f5f"
            },
            "baxis": {
             "endlinecolor": "#2a3f5f",
             "gridcolor": "white",
             "linecolor": "white",
             "minorgridcolor": "white",
             "startlinecolor": "#2a3f5f"
            },
            "type": "carpet"
           }
          ],
          "choropleth": [
           {
            "colorbar": {
             "outlinewidth": 0,
             "ticks": ""
            },
            "type": "choropleth"
           }
          ],
          "contour": [
           {
            "colorbar": {
             "outlinewidth": 0,
             "ticks": ""
            },
            "colorscale": [
             [
              0,
              "#0d0887"
             ],
             [
              0.1111111111111111,
              "#46039f"
             ],
             [
              0.2222222222222222,
              "#7201a8"
             ],
             [
              0.3333333333333333,
              "#9c179e"
             ],
             [
              0.4444444444444444,
              "#bd3786"
             ],
             [
              0.5555555555555556,
              "#d8576b"
             ],
             [
              0.6666666666666666,
              "#ed7953"
             ],
             [
              0.7777777777777778,
              "#fb9f3a"
             ],
             [
              0.8888888888888888,
              "#fdca26"
             ],
             [
              1,
              "#f0f921"
             ]
            ],
            "type": "contour"
           }
          ],
          "contourcarpet": [
           {
            "colorbar": {
             "outlinewidth": 0,
             "ticks": ""
            },
            "type": "contourcarpet"
           }
          ],
          "heatmap": [
           {
            "colorbar": {
             "outlinewidth": 0,
             "ticks": ""
            },
            "colorscale": [
             [
              0,
              "#0d0887"
             ],
             [
              0.1111111111111111,
              "#46039f"
             ],
             [
              0.2222222222222222,
              "#7201a8"
             ],
             [
              0.3333333333333333,
              "#9c179e"
             ],
             [
              0.4444444444444444,
              "#bd3786"
             ],
             [
              0.5555555555555556,
              "#d8576b"
             ],
             [
              0.6666666666666666,
              "#ed7953"
             ],
             [
              0.7777777777777778,
              "#fb9f3a"
             ],
             [
              0.8888888888888888,
              "#fdca26"
             ],
             [
              1,
              "#f0f921"
             ]
            ],
            "type": "heatmap"
           }
          ],
          "heatmapgl": [
           {
            "colorbar": {
             "outlinewidth": 0,
             "ticks": ""
            },
            "colorscale": [
             [
              0,
              "#0d0887"
             ],
             [
              0.1111111111111111,
              "#46039f"
             ],
             [
              0.2222222222222222,
              "#7201a8"
             ],
             [
              0.3333333333333333,
              "#9c179e"
             ],
             [
              0.4444444444444444,
              "#bd3786"
             ],
             [
              0.5555555555555556,
              "#d8576b"
             ],
             [
              0.6666666666666666,
              "#ed7953"
             ],
             [
              0.7777777777777778,
              "#fb9f3a"
             ],
             [
              0.8888888888888888,
              "#fdca26"
             ],
             [
              1,
              "#f0f921"
             ]
            ],
            "type": "heatmapgl"
           }
          ],
          "histogram": [
           {
            "marker": {
             "colorbar": {
              "outlinewidth": 0,
              "ticks": ""
             }
            },
            "type": "histogram"
           }
          ],
          "histogram2d": [
           {
            "colorbar": {
             "outlinewidth": 0,
             "ticks": ""
            },
            "colorscale": [
             [
              0,
              "#0d0887"
             ],
             [
              0.1111111111111111,
              "#46039f"
             ],
             [
              0.2222222222222222,
              "#7201a8"
             ],
             [
              0.3333333333333333,
              "#9c179e"
             ],
             [
              0.4444444444444444,
              "#bd3786"
             ],
             [
              0.5555555555555556,
              "#d8576b"
             ],
             [
              0.6666666666666666,
              "#ed7953"
             ],
             [
              0.7777777777777778,
              "#fb9f3a"
             ],
             [
              0.8888888888888888,
              "#fdca26"
             ],
             [
              1,
              "#f0f921"
             ]
            ],
            "type": "histogram2d"
           }
          ],
          "histogram2dcontour": [
           {
            "colorbar": {
             "outlinewidth": 0,
             "ticks": ""
            },
            "colorscale": [
             [
              0,
              "#0d0887"
             ],
             [
              0.1111111111111111,
              "#46039f"
             ],
             [
              0.2222222222222222,
              "#7201a8"
             ],
             [
              0.3333333333333333,
              "#9c179e"
             ],
             [
              0.4444444444444444,
              "#bd3786"
             ],
             [
              0.5555555555555556,
              "#d8576b"
             ],
             [
              0.6666666666666666,
              "#ed7953"
             ],
             [
              0.7777777777777778,
              "#fb9f3a"
             ],
             [
              0.8888888888888888,
              "#fdca26"
             ],
             [
              1,
              "#f0f921"
             ]
            ],
            "type": "histogram2dcontour"
           }
          ],
          "mesh3d": [
           {
            "colorbar": {
             "outlinewidth": 0,
             "ticks": ""
            },
            "type": "mesh3d"
           }
          ],
          "parcoords": [
           {
            "line": {
             "colorbar": {
              "outlinewidth": 0,
              "ticks": ""
             }
            },
            "type": "parcoords"
           }
          ],
          "pie": [
           {
            "automargin": true,
            "type": "pie"
           }
          ],
          "scatter": [
           {
            "marker": {
             "colorbar": {
              "outlinewidth": 0,
              "ticks": ""
             }
            },
            "type": "scatter"
           }
          ],
          "scatter3d": [
           {
            "line": {
             "colorbar": {
              "outlinewidth": 0,
              "ticks": ""
             }
            },
            "marker": {
             "colorbar": {
              "outlinewidth": 0,
              "ticks": ""
             }
            },
            "type": "scatter3d"
           }
          ],
          "scattercarpet": [
           {
            "marker": {
             "colorbar": {
              "outlinewidth": 0,
              "ticks": ""
             }
            },
            "type": "scattercarpet"
           }
          ],
          "scattergeo": [
           {
            "marker": {
             "colorbar": {
              "outlinewidth": 0,
              "ticks": ""
             }
            },
            "type": "scattergeo"
           }
          ],
          "scattergl": [
           {
            "marker": {
             "colorbar": {
              "outlinewidth": 0,
              "ticks": ""
             }
            },
            "type": "scattergl"
           }
          ],
          "scattermapbox": [
           {
            "marker": {
             "colorbar": {
              "outlinewidth": 0,
              "ticks": ""
             }
            },
            "type": "scattermapbox"
           }
          ],
          "scatterpolar": [
           {
            "marker": {
             "colorbar": {
              "outlinewidth": 0,
              "ticks": ""
             }
            },
            "type": "scatterpolar"
           }
          ],
          "scatterpolargl": [
           {
            "marker": {
             "colorbar": {
              "outlinewidth": 0,
              "ticks": ""
             }
            },
            "type": "scatterpolargl"
           }
          ],
          "scatterternary": [
           {
            "marker": {
             "colorbar": {
              "outlinewidth": 0,
              "ticks": ""
             }
            },
            "type": "scatterternary"
           }
          ],
          "surface": [
           {
            "colorbar": {
             "outlinewidth": 0,
             "ticks": ""
            },
            "colorscale": [
             [
              0,
              "#0d0887"
             ],
             [
              0.1111111111111111,
              "#46039f"
             ],
             [
              0.2222222222222222,
              "#7201a8"
             ],
             [
              0.3333333333333333,
              "#9c179e"
             ],
             [
              0.4444444444444444,
              "#bd3786"
             ],
             [
              0.5555555555555556,
              "#d8576b"
             ],
             [
              0.6666666666666666,
              "#ed7953"
             ],
             [
              0.7777777777777778,
              "#fb9f3a"
             ],
             [
              0.8888888888888888,
              "#fdca26"
             ],
             [
              1,
              "#f0f921"
             ]
            ],
            "type": "surface"
           }
          ],
          "table": [
           {
            "cells": {
             "fill": {
              "color": "#EBF0F8"
             },
             "line": {
              "color": "white"
             }
            },
            "header": {
             "fill": {
              "color": "#C8D4E3"
             },
             "line": {
              "color": "white"
             }
            },
            "type": "table"
           }
          ]
         },
         "layout": {
          "annotationdefaults": {
           "arrowcolor": "#2a3f5f",
           "arrowhead": 0,
           "arrowwidth": 1
          },
          "coloraxis": {
           "colorbar": {
            "outlinewidth": 0,
            "ticks": ""
           }
          },
          "colorscale": {
           "diverging": [
            [
             0,
             "#8e0152"
            ],
            [
             0.1,
             "#c51b7d"
            ],
            [
             0.2,
             "#de77ae"
            ],
            [
             0.3,
             "#f1b6da"
            ],
            [
             0.4,
             "#fde0ef"
            ],
            [
             0.5,
             "#f7f7f7"
            ],
            [
             0.6,
             "#e6f5d0"
            ],
            [
             0.7,
             "#b8e186"
            ],
            [
             0.8,
             "#7fbc41"
            ],
            [
             0.9,
             "#4d9221"
            ],
            [
             1,
             "#276419"
            ]
           ],
           "sequential": [
            [
             0,
             "#0d0887"
            ],
            [
             0.1111111111111111,
             "#46039f"
            ],
            [
             0.2222222222222222,
             "#7201a8"
            ],
            [
             0.3333333333333333,
             "#9c179e"
            ],
            [
             0.4444444444444444,
             "#bd3786"
            ],
            [
             0.5555555555555556,
             "#d8576b"
            ],
            [
             0.6666666666666666,
             "#ed7953"
            ],
            [
             0.7777777777777778,
             "#fb9f3a"
            ],
            [
             0.8888888888888888,
             "#fdca26"
            ],
            [
             1,
             "#f0f921"
            ]
           ],
           "sequentialminus": [
            [
             0,
             "#0d0887"
            ],
            [
             0.1111111111111111,
             "#46039f"
            ],
            [
             0.2222222222222222,
             "#7201a8"
            ],
            [
             0.3333333333333333,
             "#9c179e"
            ],
            [
             0.4444444444444444,
             "#bd3786"
            ],
            [
             0.5555555555555556,
             "#d8576b"
            ],
            [
             0.6666666666666666,
             "#ed7953"
            ],
            [
             0.7777777777777778,
             "#fb9f3a"
            ],
            [
             0.8888888888888888,
             "#fdca26"
            ],
            [
             1,
             "#f0f921"
            ]
           ]
          },
          "colorway": [
           "#636efa",
           "#EF553B",
           "#00cc96",
           "#ab63fa",
           "#FFA15A",
           "#19d3f3",
           "#FF6692",
           "#B6E880",
           "#FF97FF",
           "#FECB52"
          ],
          "font": {
           "color": "#2a3f5f"
          },
          "geo": {
           "bgcolor": "white",
           "lakecolor": "white",
           "landcolor": "#E5ECF6",
           "showlakes": true,
           "showland": true,
           "subunitcolor": "white"
          },
          "hoverlabel": {
           "align": "left"
          },
          "hovermode": "closest",
          "mapbox": {
           "style": "light"
          },
          "paper_bgcolor": "white",
          "plot_bgcolor": "#E5ECF6",
          "polar": {
           "angularaxis": {
            "gridcolor": "white",
            "linecolor": "white",
            "ticks": ""
           },
           "bgcolor": "#E5ECF6",
           "radialaxis": {
            "gridcolor": "white",
            "linecolor": "white",
            "ticks": ""
           }
          },
          "scene": {
           "xaxis": {
            "backgroundcolor": "#E5ECF6",
            "gridcolor": "white",
            "gridwidth": 2,
            "linecolor": "white",
            "showbackground": true,
            "ticks": "",
            "zerolinecolor": "white"
           },
           "yaxis": {
            "backgroundcolor": "#E5ECF6",
            "gridcolor": "white",
            "gridwidth": 2,
            "linecolor": "white",
            "showbackground": true,
            "ticks": "",
            "zerolinecolor": "white"
           },
           "zaxis": {
            "backgroundcolor": "#E5ECF6",
            "gridcolor": "white",
            "gridwidth": 2,
            "linecolor": "white",
            "showbackground": true,
            "ticks": "",
            "zerolinecolor": "white"
           }
          },
          "shapedefaults": {
           "line": {
            "color": "#2a3f5f"
           }
          },
          "ternary": {
           "aaxis": {
            "gridcolor": "white",
            "linecolor": "white",
            "ticks": ""
           },
           "baxis": {
            "gridcolor": "white",
            "linecolor": "white",
            "ticks": ""
           },
           "bgcolor": "#E5ECF6",
           "caxis": {
            "gridcolor": "white",
            "linecolor": "white",
            "ticks": ""
           }
          },
          "title": {
           "x": 0.05
          },
          "xaxis": {
           "automargin": true,
           "gridcolor": "white",
           "linecolor": "white",
           "ticks": "",
           "title": {
            "standoff": 15
           },
           "zerolinecolor": "white",
           "zerolinewidth": 2
          },
          "yaxis": {
           "automargin": true,
           "gridcolor": "white",
           "linecolor": "white",
           "ticks": "",
           "title": {
            "standoff": 15
           },
           "zerolinecolor": "white",
           "zerolinewidth": 2
          }
         }
        },
        "title": {
         "text": "y vs ts"
        },
        "xaxis": {
         "title": {
          "text": "ts"
         }
        },
        "yaxis": {
         "title": {
          "text": "y"
         }
        }
       }
      },
      "text/html": [
       "<div>                            <div id=\"a6dee1e4-7162-4412-9266-b2d3ac161606\" class=\"plotly-graph-div\" style=\"height:525px; width:100%;\"></div>            <script type=\"text/javascript\">                require([\"plotly\"], function(Plotly) {                    window.PLOTLYENV=window.PLOTLYENV || {};                                    if (document.getElementById(\"a6dee1e4-7162-4412-9266-b2d3ac161606\")) {                    Plotly.newPlot(                        \"a6dee1e4-7162-4412-9266-b2d3ac161606\",                        [{\"line\": {\"color\": \"rgb(32, 149, 212)\"}, \"mode\": \"lines\", \"name\": \"y\", \"opacity\": 0.8, \"type\": \"scatter\", \"x\": [\"2020-04-01T00:00:00\", \"2020-04-02T00:00:00\", \"2020-04-03T00:00:00\", \"2020-04-04T00:00:00\", \"2020-04-05T00:00:00\", \"2020-04-06T00:00:00\", \"2020-04-07T00:00:00\", \"2020-04-08T00:00:00\", \"2020-04-09T00:00:00\", \"2020-04-10T00:00:00\", \"2020-04-11T00:00:00\", \"2020-04-12T00:00:00\", \"2020-04-13T00:00:00\", \"2020-04-14T00:00:00\", \"2020-04-15T00:00:00\", \"2020-04-16T00:00:00\", \"2020-04-17T00:00:00\", \"2020-04-18T00:00:00\", \"2020-04-19T00:00:00\", \"2020-04-20T00:00:00\", \"2020-04-21T00:00:00\", \"2020-04-22T00:00:00\", \"2020-04-23T00:00:00\", \"2020-04-24T00:00:00\", \"2020-04-25T00:00:00\", \"2020-04-26T00:00:00\", \"2020-04-27T00:00:00\", \"2020-04-28T00:00:00\", \"2020-04-29T00:00:00\", \"2020-04-30T00:00:00\", \"2020-05-01T00:00:00\", \"2020-05-02T00:00:00\", \"2020-05-03T00:00:00\", \"2020-05-04T00:00:00\", \"2020-05-05T00:00:00\", \"2020-05-06T00:00:00\", \"2020-05-07T00:00:00\", \"2020-05-08T00:00:00\", \"2020-05-09T00:00:00\", \"2020-05-10T00:00:00\", \"2020-05-11T00:00:00\", \"2020-05-12T00:00:00\", \"2020-05-13T00:00:00\", \"2020-05-14T00:00:00\", \"2020-05-15T00:00:00\", \"2020-05-16T00:00:00\", \"2020-05-17T00:00:00\", \"2020-05-18T00:00:00\", \"2020-05-19T00:00:00\", \"2020-05-20T00:00:00\", \"2020-05-21T00:00:00\", \"2020-05-22T00:00:00\", \"2020-05-23T00:00:00\", \"2020-05-24T00:00:00\", \"2020-05-25T00:00:00\", \"2020-05-26T00:00:00\", \"2020-05-27T00:00:00\", \"2020-05-28T00:00:00\", \"2020-05-29T00:00:00\", \"2020-05-30T00:00:00\", \"2020-05-31T00:00:00\", \"2020-06-01T00:00:00\", \"2020-06-02T00:00:00\", \"2020-06-03T00:00:00\", \"2020-06-04T00:00:00\", \"2020-06-05T00:00:00\", \"2020-06-06T00:00:00\", \"2020-06-07T00:00:00\", \"2020-06-08T00:00:00\", \"2020-06-09T00:00:00\", \"2020-06-10T00:00:00\", \"2020-06-11T00:00:00\", \"2020-06-12T00:00:00\", \"2020-06-13T00:00:00\", \"2020-06-14T00:00:00\", \"2020-06-15T00:00:00\", \"2020-06-16T00:00:00\", \"2020-06-17T00:00:00\", \"2020-06-18T00:00:00\", \"2020-06-19T00:00:00\", \"2020-06-20T00:00:00\", \"2020-06-21T00:00:00\", \"2020-06-22T00:00:00\", \"2020-06-23T00:00:00\", \"2020-06-24T00:00:00\", \"2020-06-25T00:00:00\", \"2020-06-26T00:00:00\", \"2020-06-27T00:00:00\", \"2020-06-28T00:00:00\", \"2020-06-29T00:00:00\", \"2020-06-30T00:00:00\", \"2020-07-01T00:00:00\", \"2020-07-02T00:00:00\", \"2020-07-03T00:00:00\", \"2020-07-04T00:00:00\", \"2020-07-05T00:00:00\", \"2020-07-06T00:00:00\", \"2020-07-07T00:00:00\", \"2020-07-08T00:00:00\", \"2020-07-09T00:00:00\", \"2020-07-10T00:00:00\", \"2020-07-11T00:00:00\", \"2020-07-12T00:00:00\", \"2020-07-13T00:00:00\", \"2020-07-14T00:00:00\", \"2020-07-15T00:00:00\", \"2020-07-16T00:00:00\", \"2020-07-17T00:00:00\", \"2020-07-18T00:00:00\", \"2020-07-19T00:00:00\", \"2020-07-20T00:00:00\", \"2020-07-21T00:00:00\", \"2020-07-22T00:00:00\", \"2020-07-23T00:00:00\", \"2020-07-24T00:00:00\", \"2020-07-25T00:00:00\", \"2020-07-26T00:00:00\", \"2020-07-27T00:00:00\", \"2020-07-28T00:00:00\", \"2020-07-29T00:00:00\", \"2020-07-30T00:00:00\", \"2020-07-31T00:00:00\", \"2020-08-01T00:00:00\", \"2020-08-02T00:00:00\", \"2020-08-03T00:00:00\", \"2020-08-04T00:00:00\", \"2020-08-05T00:00:00\", \"2020-08-06T00:00:00\", \"2020-08-07T00:00:00\", \"2020-08-08T00:00:00\", \"2020-08-09T00:00:00\", \"2020-08-10T00:00:00\", \"2020-08-11T00:00:00\", \"2020-08-12T00:00:00\", \"2020-08-13T00:00:00\", \"2020-08-14T00:00:00\", \"2020-08-15T00:00:00\", \"2020-08-16T00:00:00\", \"2020-08-17T00:00:00\", \"2020-08-18T00:00:00\", \"2020-08-19T00:00:00\", \"2020-08-20T00:00:00\", \"2020-08-21T00:00:00\", \"2020-08-22T00:00:00\", \"2020-08-23T00:00:00\", \"2020-08-24T00:00:00\", \"2020-08-25T00:00:00\", \"2020-08-26T00:00:00\", \"2020-08-27T00:00:00\", \"2020-08-28T00:00:00\", \"2020-08-29T00:00:00\", \"2020-08-30T00:00:00\", \"2020-08-31T00:00:00\", \"2020-09-01T00:00:00\", \"2020-09-02T00:00:00\", \"2020-09-03T00:00:00\", \"2020-09-04T00:00:00\", \"2020-09-05T00:00:00\", \"2020-09-06T00:00:00\", \"2020-09-07T00:00:00\", \"2020-09-08T00:00:00\", \"2020-09-09T00:00:00\", \"2020-09-10T00:00:00\", \"2020-09-11T00:00:00\", \"2020-09-12T00:00:00\", \"2020-09-13T00:00:00\", \"2020-09-14T00:00:00\", \"2020-09-15T00:00:00\", \"2020-09-16T00:00:00\", \"2020-09-17T00:00:00\", \"2020-09-18T00:00:00\", \"2020-09-19T00:00:00\", \"2020-09-20T00:00:00\", \"2020-09-21T00:00:00\", \"2020-09-22T00:00:00\", \"2020-09-23T00:00:00\", \"2020-09-24T00:00:00\", \"2020-09-25T00:00:00\", \"2020-09-26T00:00:00\", \"2020-09-27T00:00:00\", \"2020-09-28T00:00:00\", \"2020-09-29T00:00:00\", \"2020-09-30T00:00:00\", \"2020-10-01T00:00:00\", \"2020-10-02T00:00:00\", \"2020-10-03T00:00:00\", \"2020-10-04T00:00:00\", \"2020-10-05T00:00:00\", \"2020-10-06T00:00:00\", \"2020-10-07T00:00:00\", \"2020-10-08T00:00:00\", \"2020-10-09T00:00:00\", \"2020-10-10T00:00:00\", \"2020-10-11T00:00:00\", \"2020-10-12T00:00:00\", \"2020-10-13T00:00:00\", \"2020-10-14T00:00:00\", \"2020-10-15T00:00:00\", \"2020-10-16T00:00:00\", \"2020-10-17T00:00:00\", \"2020-10-18T00:00:00\", \"2020-10-19T00:00:00\", \"2020-10-20T00:00:00\", \"2020-10-21T00:00:00\", \"2020-10-22T00:00:00\", \"2020-10-23T00:00:00\", \"2020-10-24T00:00:00\", \"2020-10-25T00:00:00\", \"2020-10-26T00:00:00\", \"2020-10-27T00:00:00\", \"2020-10-28T00:00:00\", \"2020-10-29T00:00:00\", \"2020-10-30T00:00:00\", \"2020-10-31T00:00:00\", \"2020-11-01T00:00:00\", \"2020-11-02T00:00:00\", \"2020-11-03T00:00:00\", \"2020-11-04T00:00:00\", \"2020-11-05T00:00:00\", \"2020-11-06T00:00:00\", \"2020-11-07T00:00:00\", \"2020-11-08T00:00:00\", \"2020-11-09T00:00:00\", \"2020-11-10T00:00:00\", \"2020-11-11T00:00:00\", \"2020-11-12T00:00:00\", \"2020-11-13T00:00:00\", \"2020-11-14T00:00:00\", \"2020-11-15T00:00:00\", \"2020-11-16T00:00:00\", \"2020-11-17T00:00:00\", \"2020-11-18T00:00:00\", \"2020-11-19T00:00:00\", \"2020-11-20T00:00:00\", \"2020-11-21T00:00:00\", \"2020-11-22T00:00:00\", \"2020-11-23T00:00:00\", \"2020-11-24T00:00:00\", \"2020-11-25T00:00:00\", \"2020-11-26T00:00:00\", \"2020-11-27T00:00:00\", \"2020-11-28T00:00:00\", \"2020-11-29T00:00:00\", \"2020-11-30T00:00:00\", \"2020-12-01T00:00:00\", \"2020-12-02T00:00:00\", \"2020-12-03T00:00:00\", \"2020-12-04T00:00:00\", \"2020-12-05T00:00:00\", \"2020-12-06T00:00:00\", \"2020-12-07T00:00:00\", \"2020-12-08T00:00:00\", \"2020-12-09T00:00:00\", \"2020-12-10T00:00:00\", \"2020-12-11T00:00:00\", \"2020-12-12T00:00:00\", \"2020-12-13T00:00:00\", \"2020-12-14T00:00:00\", \"2020-12-15T00:00:00\", \"2020-12-16T00:00:00\", \"2020-12-17T00:00:00\", \"2020-12-18T00:00:00\", \"2020-12-19T00:00:00\", \"2020-12-20T00:00:00\", \"2020-12-21T00:00:00\", \"2020-12-22T00:00:00\", \"2020-12-23T00:00:00\", \"2020-12-24T00:00:00\", \"2020-12-25T00:00:00\", \"2020-12-26T00:00:00\", \"2020-12-27T00:00:00\", \"2020-12-28T00:00:00\", \"2020-12-29T00:00:00\", \"2020-12-30T00:00:00\", \"2020-12-31T00:00:00\", \"2021-01-01T00:00:00\", \"2021-01-02T00:00:00\", \"2021-01-03T00:00:00\", \"2021-01-04T00:00:00\", \"2021-01-05T00:00:00\", \"2021-01-06T00:00:00\", \"2021-01-07T00:00:00\", \"2021-01-08T00:00:00\", \"2021-01-09T00:00:00\", \"2021-01-10T00:00:00\", \"2021-01-11T00:00:00\", \"2021-01-12T00:00:00\", \"2021-01-13T00:00:00\", \"2021-01-14T00:00:00\", \"2021-01-15T00:00:00\", \"2021-01-16T00:00:00\", \"2021-01-17T00:00:00\", \"2021-01-18T00:00:00\", \"2021-01-19T00:00:00\", \"2021-01-20T00:00:00\", \"2021-01-21T00:00:00\", \"2021-01-22T00:00:00\", \"2021-01-23T00:00:00\", \"2021-01-24T00:00:00\", \"2021-01-25T00:00:00\", \"2021-01-26T00:00:00\", \"2021-01-27T00:00:00\", \"2021-01-28T00:00:00\", \"2021-01-29T00:00:00\", \"2021-01-30T00:00:00\", \"2021-01-31T00:00:00\", \"2021-02-01T00:00:00\", \"2021-02-02T00:00:00\", \"2021-02-03T00:00:00\", \"2021-02-04T00:00:00\", \"2021-02-05T00:00:00\", \"2021-02-06T00:00:00\", \"2021-02-07T00:00:00\", \"2021-02-08T00:00:00\", \"2021-02-09T00:00:00\", \"2021-02-10T00:00:00\", \"2021-02-11T00:00:00\", \"2021-02-12T00:00:00\", \"2021-02-13T00:00:00\", \"2021-02-14T00:00:00\", \"2021-02-15T00:00:00\", \"2021-02-16T00:00:00\", \"2021-02-17T00:00:00\", \"2021-02-18T00:00:00\", \"2021-02-19T00:00:00\", \"2021-02-20T00:00:00\", \"2021-02-21T00:00:00\", \"2021-02-22T00:00:00\", \"2021-02-23T00:00:00\", \"2021-02-24T00:00:00\", \"2021-02-25T00:00:00\", \"2021-02-26T00:00:00\", \"2021-02-27T00:00:00\", \"2021-02-28T00:00:00\", \"2021-03-01T00:00:00\", \"2021-03-02T00:00:00\", \"2021-03-03T00:00:00\", \"2021-03-04T00:00:00\", \"2021-03-05T00:00:00\", \"2021-03-06T00:00:00\", \"2021-03-07T00:00:00\", \"2021-03-08T00:00:00\", \"2021-03-09T00:00:00\", \"2021-03-10T00:00:00\", \"2021-03-11T00:00:00\", \"2021-03-12T00:00:00\", \"2021-03-13T00:00:00\", \"2021-03-14T00:00:00\", \"2021-03-15T00:00:00\", \"2021-03-16T00:00:00\", \"2021-03-17T00:00:00\", \"2021-03-18T00:00:00\", \"2021-03-19T00:00:00\", \"2021-03-20T00:00:00\", \"2021-03-21T00:00:00\", \"2021-03-22T00:00:00\", \"2021-03-23T00:00:00\", \"2021-03-24T00:00:00\", \"2021-03-25T00:00:00\", \"2021-03-26T00:00:00\", \"2021-03-27T00:00:00\", \"2021-03-28T00:00:00\", \"2021-03-29T00:00:00\", \"2021-03-30T00:00:00\", \"2021-03-31T00:00:00\"], \"y\": [961150.0, 753357.1428571428, 681724.2068965518, null, null, 725208.0, 630053.7368421053, 676583.3333333334, 773225.2692307692, 666255.6428571428, null, 325000.0, 1192963.4347826086, 883883.5, 1115649.0666666667, 703075.8947368421, 593240.8, null, null, 630549.76, 788538.3684210526, 534571.5, 706054.68, 766311.7619047619, 670000.0, null, 672223.2571428572, 589203.6666666666, 717248.3928571428, 645056.5660377359, 761566.3846153846, null, null, 742996.5925925926, 928117.8571428572, 722244.3181818182, 802193.448275862, 737056.8913043478, null, null, 1010215.1176470588, 559954.9, 594030.4, 786627.5, 2423803.590909091, 400000.0, null, 580116.6333333333, 649406.4285714285, 571375.7666666667, 1257801.9523809524, 1018404.1714285715, null, 325000.0, null, 572714.6086956522, 601808.6341463415, 818277.015625, 685398.4583333334, null, 340000.0, 558506.7741935484, 694160.2666666667, 1809577.5, 759085.9375, 663100.880952381, null, null, 584458.6, 1286910.6304347827, 674959.5454545454, 6283043.34375, 821677.42, 484787.0, null, 833615.7916666666, 796530.75, 626165.4705882353, 562851.2580645161, 680855.3958333334, null, null, 634731.0952380953, 2134153.5555555555, 1374770.888888889, 705734.1449275363, 732110.9016393443, null, null, 3128182.919354839, 771592.4027777778, 786353.2962962963, 635133.3111111111, 365000.0, null, null, 610116.2727272727, 855789.3243243244, 942172.3255813953, 1002349.9333333333, 1207195.462962963, 265000.0, null, 521447.625, 1019686.8163265307, 734260.9615384615, 782620.7435897436, 675106.5769230769, 356000.0, null, 625668.5319148937, 631018.0769230769, 623849.725490196, 1151866.625, 608356.5416666666, null, null, 566493.1904761905, 716382.7727272727, 1063304.0487804879, 657447.7843137255, 606157.1694915254, 336500.0, null, 1100150.775, 703381.2105263158, 698784.5666666667, 597978.6666666666, 662752.4583333334, null, null, 737526.5357142857, 759952.6315789474, 664542.6666666666, 587161.7608695652, 640727.659574468, 804097.0, 120000.0, 681732.3103448276, 580265.8837209302, 1042224.8666666667, 822008.9818181818, 783539.5217391305, 306146.0, 471271.25, 684929.4545454546, 640625.1081081082, 1140819.3703703703, 631340.0, 3335524.5070422534, 303280.0, null, 1679717.844155844, 633616.3225806452, 690991.1, 681047.9714285714, 1435634.0, 850000.0, null, 6000.0, 583332.512195122, 11782759.705882354, 1010899.8372093023, 1133387.7567567567, null, null, 5504713.85106383, 690470.3278688524, 872583.051724138, 615537.4716981133, 643329.4761904762, null, 217000.0, 674469.5263157894, 1033372.1272727273, 802347.9649122807, 758760.3768115942, 715879.4533333334, null, null, 693191.303030303, 862207.5540540541, 14690100.05, 923863.4225352113, 712918.0363636364, null, 90000.0, 683918.8484848485, 731857.1111111111, 631391.24, 587772.3191489362, 620802.2205882353, null, null, 317422.5, 712517.5714285715, 730325.5769230769, 830288.86, 639017.6101694915, 3000.0, null, 575891.0333333333, 699273.3928571428, 693789.1833333333, 753131.0754716981, 747951.3, 285000.0, 5000.0, 652001.9298245613, 709614.3606557377, 831534.3918918918, 729093.1382978724, 1050691.7684210527, 410000.0, 399000.0, 694042.5588235294, 704709.475, 758629.3103448276, 640258.0714285715, 705806.2380952381, null, 420000.0, 740381.828125, 744469.9344262296, 500318.1818181818, 704503.1891891892, 2660488.6923076925, null, null, 673783.0363636364, 763621.4736842106, 1125740.4705882352, 697605.71875, 680614.3333333334, null, null, 639074.205479452, 779583.9784946237, 741491.7611940298, null, 832958.75, null, 246664.0, 687234.4642857143, 710952.6323529412, 675483.515625, 781023.96875, 679605.7702702703, null, 360000.0, 757934.828125, 676002.6111111111, 612785.8153846153, 673998.8533333334, 639837.875, 1000000.0, 395801.5, 1057572.6712328766, 787623.5, 815271.8, 1206976.66, 1029722.0260869565, null, null, 2140242.969072165, 3079420.9344262294, 818685.9696969697, 3036481.242424242, null, 390787.0, null, 1193972.0833333333, 745306.5108695652, 1182410.3086419753, 904587.4307692308, null, null, null, 515441.9655172414, 937195.8113207547, 629678.7924528302, 870835.4074074074, 673749.8793103448, 200000.0, null, 638217.0757575758, 941716.2987012987, 629515.2909090909, 617809.5576923077, 2060531.569620253, 980000.0, 75000.0, 665439.8, 734202.775862069, 728799.0289855072, 733167.7333333333, 798184.8815789474, 634500.0, null, 664862.0714285715, 700602.1551724138, 808769.0724637681, 716158.5384615385, 965531.6880733945, 4098400.0, 1100000.0, 1030374.6666666666, 678594.1666666666, 673120.3773584906, 646879.6060606061, 679965.2934782609, 461500.0, null, 735113.6166666667, 709083.7464788732, 721104.9714285714, 876941.2133333334, 809655.5571428571, null, null, 585533.3333333334, 620100.220338983, 672292.9245283019, 767958.2676056338, 934185.5, null, 386000.0, 1820586.35, 776674.421875, 714328.8309859155, 787634.8292682926, 707944.7699115045, null, null, 669714.0757575758, 823997.4807692308, 631401.1692307693, 1185896.3088235294, 688686.8831168831, null, null, 803755.25, 644934.7166666667, 1258062.7878787878, 687746.140625, 679635.9852941176, null, 475000.0, 684445.9333333333, 943197.7692307692, 600407.2586206896, 735364.7924528302, 614789.2542372881, null, 30000.0, 639942.1607142857, 656634.75, 634332.9649122807, 609609.756097561, 652589.2857142857, null, null, 694114.4705882353, 747610.9354838709, 602154.75]}],                        {\"legend\": {\"traceorder\": \"reversed\"}, \"showlegend\": true, \"template\": {\"data\": {\"bar\": [{\"error_x\": {\"color\": \"#2a3f5f\"}, \"error_y\": {\"color\": \"#2a3f5f\"}, \"marker\": {\"line\": {\"color\": \"#E5ECF6\", \"width\": 0.5}}, \"type\": \"bar\"}], \"barpolar\": [{\"marker\": {\"line\": {\"color\": \"#E5ECF6\", \"width\": 0.5}}, \"type\": \"barpolar\"}], \"carpet\": [{\"aaxis\": {\"endlinecolor\": \"#2a3f5f\", \"gridcolor\": \"white\", \"linecolor\": \"white\", \"minorgridcolor\": \"white\", \"startlinecolor\": \"#2a3f5f\"}, \"baxis\": {\"endlinecolor\": \"#2a3f5f\", \"gridcolor\": \"white\", \"linecolor\": \"white\", \"minorgridcolor\": \"white\", \"startlinecolor\": \"#2a3f5f\"}, \"type\": \"carpet\"}], \"choropleth\": [{\"colorbar\": {\"outlinewidth\": 0, \"ticks\": \"\"}, \"type\": \"choropleth\"}], \"contour\": [{\"colorbar\": {\"outlinewidth\": 0, \"ticks\": \"\"}, \"colorscale\": [[0.0, \"#0d0887\"], [0.1111111111111111, \"#46039f\"], [0.2222222222222222, \"#7201a8\"], [0.3333333333333333, \"#9c179e\"], [0.4444444444444444, \"#bd3786\"], [0.5555555555555556, \"#d8576b\"], [0.6666666666666666, \"#ed7953\"], [0.7777777777777778, \"#fb9f3a\"], [0.8888888888888888, \"#fdca26\"], [1.0, \"#f0f921\"]], \"type\": \"contour\"}], \"contourcarpet\": [{\"colorbar\": {\"outlinewidth\": 0, \"ticks\": \"\"}, \"type\": \"contourcarpet\"}], \"heatmap\": [{\"colorbar\": {\"outlinewidth\": 0, \"ticks\": \"\"}, \"colorscale\": [[0.0, \"#0d0887\"], [0.1111111111111111, \"#46039f\"], [0.2222222222222222, \"#7201a8\"], [0.3333333333333333, \"#9c179e\"], [0.4444444444444444, \"#bd3786\"], [0.5555555555555556, \"#d8576b\"], [0.6666666666666666, \"#ed7953\"], [0.7777777777777778, \"#fb9f3a\"], [0.8888888888888888, \"#fdca26\"], [1.0, \"#f0f921\"]], \"type\": \"heatmap\"}], \"heatmapgl\": [{\"colorbar\": {\"outlinewidth\": 0, \"ticks\": \"\"}, \"colorscale\": [[0.0, \"#0d0887\"], [0.1111111111111111, \"#46039f\"], [0.2222222222222222, \"#7201a8\"], [0.3333333333333333, \"#9c179e\"], [0.4444444444444444, \"#bd3786\"], [0.5555555555555556, \"#d8576b\"], [0.6666666666666666, \"#ed7953\"], [0.7777777777777778, \"#fb9f3a\"], [0.8888888888888888, \"#fdca26\"], [1.0, \"#f0f921\"]], \"type\": \"heatmapgl\"}], \"histogram\": [{\"marker\": {\"colorbar\": {\"outlinewidth\": 0, \"ticks\": \"\"}}, \"type\": \"histogram\"}], \"histogram2d\": [{\"colorbar\": {\"outlinewidth\": 0, \"ticks\": \"\"}, \"colorscale\": [[0.0, \"#0d0887\"], [0.1111111111111111, \"#46039f\"], [0.2222222222222222, \"#7201a8\"], [0.3333333333333333, \"#9c179e\"], [0.4444444444444444, \"#bd3786\"], [0.5555555555555556, \"#d8576b\"], [0.6666666666666666, \"#ed7953\"], [0.7777777777777778, \"#fb9f3a\"], [0.8888888888888888, \"#fdca26\"], [1.0, \"#f0f921\"]], \"type\": \"histogram2d\"}], \"histogram2dcontour\": [{\"colorbar\": {\"outlinewidth\": 0, \"ticks\": \"\"}, \"colorscale\": [[0.0, \"#0d0887\"], [0.1111111111111111, \"#46039f\"], [0.2222222222222222, \"#7201a8\"], [0.3333333333333333, \"#9c179e\"], [0.4444444444444444, \"#bd3786\"], [0.5555555555555556, \"#d8576b\"], [0.6666666666666666, \"#ed7953\"], [0.7777777777777778, \"#fb9f3a\"], [0.8888888888888888, \"#fdca26\"], [1.0, \"#f0f921\"]], \"type\": \"histogram2dcontour\"}], \"mesh3d\": [{\"colorbar\": {\"outlinewidth\": 0, \"ticks\": \"\"}, \"type\": \"mesh3d\"}], \"parcoords\": [{\"line\": {\"colorbar\": {\"outlinewidth\": 0, \"ticks\": \"\"}}, \"type\": \"parcoords\"}], \"pie\": [{\"automargin\": true, \"type\": \"pie\"}], \"scatter\": [{\"marker\": {\"colorbar\": {\"outlinewidth\": 0, \"ticks\": \"\"}}, \"type\": \"scatter\"}], \"scatter3d\": [{\"line\": {\"colorbar\": {\"outlinewidth\": 0, \"ticks\": \"\"}}, \"marker\": {\"colorbar\": {\"outlinewidth\": 0, \"ticks\": \"\"}}, \"type\": \"scatter3d\"}], \"scattercarpet\": [{\"marker\": {\"colorbar\": {\"outlinewidth\": 0, \"ticks\": \"\"}}, \"type\": \"scattercarpet\"}], \"scattergeo\": [{\"marker\": {\"colorbar\": {\"outlinewidth\": 0, \"ticks\": \"\"}}, \"type\": \"scattergeo\"}], \"scattergl\": [{\"marker\": {\"colorbar\": {\"outlinewidth\": 0, \"ticks\": \"\"}}, \"type\": \"scattergl\"}], \"scattermapbox\": [{\"marker\": {\"colorbar\": {\"outlinewidth\": 0, \"ticks\": \"\"}}, \"type\": \"scattermapbox\"}], \"scatterpolar\": [{\"marker\": {\"colorbar\": {\"outlinewidth\": 0, \"ticks\": \"\"}}, \"type\": \"scatterpolar\"}], \"scatterpolargl\": [{\"marker\": {\"colorbar\": {\"outlinewidth\": 0, \"ticks\": \"\"}}, \"type\": \"scatterpolargl\"}], \"scatterternary\": [{\"marker\": {\"colorbar\": {\"outlinewidth\": 0, \"ticks\": \"\"}}, \"type\": \"scatterternary\"}], \"surface\": [{\"colorbar\": {\"outlinewidth\": 0, \"ticks\": \"\"}, \"colorscale\": [[0.0, \"#0d0887\"], [0.1111111111111111, \"#46039f\"], [0.2222222222222222, \"#7201a8\"], [0.3333333333333333, \"#9c179e\"], [0.4444444444444444, \"#bd3786\"], [0.5555555555555556, \"#d8576b\"], [0.6666666666666666, \"#ed7953\"], [0.7777777777777778, \"#fb9f3a\"], [0.8888888888888888, \"#fdca26\"], [1.0, \"#f0f921\"]], \"type\": \"surface\"}], \"table\": [{\"cells\": {\"fill\": {\"color\": \"#EBF0F8\"}, \"line\": {\"color\": \"white\"}}, \"header\": {\"fill\": {\"color\": \"#C8D4E3\"}, \"line\": {\"color\": \"white\"}}, \"type\": \"table\"}]}, \"layout\": {\"annotationdefaults\": {\"arrowcolor\": \"#2a3f5f\", \"arrowhead\": 0, \"arrowwidth\": 1}, \"coloraxis\": {\"colorbar\": {\"outlinewidth\": 0, \"ticks\": \"\"}}, \"colorscale\": {\"diverging\": [[0, \"#8e0152\"], [0.1, \"#c51b7d\"], [0.2, \"#de77ae\"], [0.3, \"#f1b6da\"], [0.4, \"#fde0ef\"], [0.5, \"#f7f7f7\"], [0.6, \"#e6f5d0\"], [0.7, \"#b8e186\"], [0.8, \"#7fbc41\"], [0.9, \"#4d9221\"], [1, \"#276419\"]], \"sequential\": [[0.0, \"#0d0887\"], [0.1111111111111111, \"#46039f\"], [0.2222222222222222, \"#7201a8\"], [0.3333333333333333, \"#9c179e\"], [0.4444444444444444, \"#bd3786\"], [0.5555555555555556, \"#d8576b\"], [0.6666666666666666, \"#ed7953\"], [0.7777777777777778, \"#fb9f3a\"], [0.8888888888888888, \"#fdca26\"], [1.0, \"#f0f921\"]], \"sequentialminus\": [[0.0, \"#0d0887\"], [0.1111111111111111, \"#46039f\"], [0.2222222222222222, \"#7201a8\"], [0.3333333333333333, \"#9c179e\"], [0.4444444444444444, \"#bd3786\"], [0.5555555555555556, \"#d8576b\"], [0.6666666666666666, \"#ed7953\"], [0.7777777777777778, \"#fb9f3a\"], [0.8888888888888888, \"#fdca26\"], [1.0, \"#f0f921\"]]}, \"colorway\": [\"#636efa\", \"#EF553B\", \"#00cc96\", \"#ab63fa\", \"#FFA15A\", \"#19d3f3\", \"#FF6692\", \"#B6E880\", \"#FF97FF\", \"#FECB52\"], \"font\": {\"color\": \"#2a3f5f\"}, \"geo\": {\"bgcolor\": \"white\", \"lakecolor\": \"white\", \"landcolor\": \"#E5ECF6\", \"showlakes\": true, \"showland\": true, \"subunitcolor\": \"white\"}, \"hoverlabel\": {\"align\": \"left\"}, \"hovermode\": \"closest\", \"mapbox\": {\"style\": \"light\"}, \"paper_bgcolor\": \"white\", \"plot_bgcolor\": \"#E5ECF6\", \"polar\": {\"angularaxis\": {\"gridcolor\": \"white\", \"linecolor\": \"white\", \"ticks\": \"\"}, \"bgcolor\": \"#E5ECF6\", \"radialaxis\": {\"gridcolor\": \"white\", \"linecolor\": \"white\", \"ticks\": \"\"}}, \"scene\": {\"xaxis\": {\"backgroundcolor\": \"#E5ECF6\", \"gridcolor\": \"white\", \"gridwidth\": 2, \"linecolor\": \"white\", \"showbackground\": true, \"ticks\": \"\", \"zerolinecolor\": \"white\"}, \"yaxis\": {\"backgroundcolor\": \"#E5ECF6\", \"gridcolor\": \"white\", \"gridwidth\": 2, \"linecolor\": \"white\", \"showbackground\": true, \"ticks\": \"\", \"zerolinecolor\": \"white\"}, \"zaxis\": {\"backgroundcolor\": \"#E5ECF6\", \"gridcolor\": \"white\", \"gridwidth\": 2, \"linecolor\": \"white\", \"showbackground\": true, \"ticks\": \"\", \"zerolinecolor\": \"white\"}}, \"shapedefaults\": {\"line\": {\"color\": \"#2a3f5f\"}}, \"ternary\": {\"aaxis\": {\"gridcolor\": \"white\", \"linecolor\": \"white\", \"ticks\": \"\"}, \"baxis\": {\"gridcolor\": \"white\", \"linecolor\": \"white\", \"ticks\": \"\"}, \"bgcolor\": \"#E5ECF6\", \"caxis\": {\"gridcolor\": \"white\", \"linecolor\": \"white\", \"ticks\": \"\"}}, \"title\": {\"x\": 0.05}, \"xaxis\": {\"automargin\": true, \"gridcolor\": \"white\", \"linecolor\": \"white\", \"ticks\": \"\", \"title\": {\"standoff\": 15}, \"zerolinecolor\": \"white\", \"zerolinewidth\": 2}, \"yaxis\": {\"automargin\": true, \"gridcolor\": \"white\", \"linecolor\": \"white\", \"ticks\": \"\", \"title\": {\"standoff\": 15}, \"zerolinecolor\": \"white\", \"zerolinewidth\": 2}}}, \"title\": {\"text\": \"y vs ts\"}, \"xaxis\": {\"title\": {\"text\": \"ts\"}}, \"yaxis\": {\"title\": {\"text\": \"y\"}}},                        {\"responsive\": true}                    ).then(function(){\n",
       "                            \n",
       "var gd = document.getElementById('a6dee1e4-7162-4412-9266-b2d3ac161606');\n",
       "var x = new MutationObserver(function (mutations, observer) {{\n",
       "        var display = window.getComputedStyle(gd).display;\n",
       "        if (!display || display === 'none') {{\n",
       "            console.log([gd, 'removed!']);\n",
       "            Plotly.purge(gd);\n",
       "            observer.disconnect();\n",
       "        }}\n",
       "}});\n",
       "\n",
       "// Listen for the removal of the full notebook cells\n",
       "var notebookContainer = gd.closest('#notebook-container');\n",
       "if (notebookContainer) {{\n",
       "    x.observe(notebookContainer, {childList: true});\n",
       "}}\n",
       "\n",
       "// Listen for the clearing of the current output cell\n",
       "var outputEl = gd.closest('.output');\n",
       "if (outputEl) {{\n",
       "    x.observe(outputEl, {childList: true});\n",
       "}}\n",
       "\n",
       "                        })                };                });            </script>        </div>"
      ]
     },
     "metadata": {},
     "output_type": "display_data"
    }
   ],
   "source": [
    "ts = result.timeseries\n",
    "fig = ts.plot()\n",
    "plotly.io.show(fig)"
   ]
  },
  {
   "cell_type": "code",
   "execution_count": 139,
   "metadata": {},
   "outputs": [
    {
     "data": {
      "application/vnd.plotly.v1+json": {
       "config": {
        "plotlyServerURL": "https://plot.ly"
       },
       "data": [
        {
         "line": {
          "color": "rgb(32, 149, 212)"
         },
         "mode": "lines",
         "name": "y",
         "opacity": 0.8,
         "type": "scatter",
         "x": [
          "2020-04-01T00:00:00",
          "2020-04-02T00:00:00",
          "2020-04-03T00:00:00",
          "2020-04-04T00:00:00",
          "2020-04-05T00:00:00",
          "2020-04-06T00:00:00",
          "2020-04-07T00:00:00",
          "2020-04-08T00:00:00",
          "2020-04-09T00:00:00",
          "2020-04-10T00:00:00",
          "2020-04-11T00:00:00",
          "2020-04-12T00:00:00",
          "2020-04-13T00:00:00",
          "2020-04-14T00:00:00",
          "2020-04-15T00:00:00",
          "2020-04-16T00:00:00",
          "2020-04-17T00:00:00",
          "2020-04-18T00:00:00",
          "2020-04-19T00:00:00",
          "2020-04-20T00:00:00",
          "2020-04-21T00:00:00",
          "2020-04-22T00:00:00",
          "2020-04-23T00:00:00",
          "2020-04-24T00:00:00",
          "2020-04-25T00:00:00",
          "2020-04-26T00:00:00",
          "2020-04-27T00:00:00",
          "2020-04-28T00:00:00",
          "2020-04-29T00:00:00",
          "2020-04-30T00:00:00",
          "2020-05-01T00:00:00",
          "2020-05-02T00:00:00",
          "2020-05-03T00:00:00",
          "2020-05-04T00:00:00",
          "2020-05-05T00:00:00",
          "2020-05-06T00:00:00",
          "2020-05-07T00:00:00",
          "2020-05-08T00:00:00",
          "2020-05-09T00:00:00",
          "2020-05-10T00:00:00",
          "2020-05-11T00:00:00",
          "2020-05-12T00:00:00",
          "2020-05-13T00:00:00",
          "2020-05-14T00:00:00",
          "2020-05-15T00:00:00",
          "2020-05-16T00:00:00",
          "2020-05-17T00:00:00",
          "2020-05-18T00:00:00",
          "2020-05-19T00:00:00",
          "2020-05-20T00:00:00",
          "2020-05-21T00:00:00",
          "2020-05-22T00:00:00",
          "2020-05-23T00:00:00",
          "2020-05-24T00:00:00",
          "2020-05-25T00:00:00",
          "2020-05-26T00:00:00",
          "2020-05-27T00:00:00",
          "2020-05-28T00:00:00",
          "2020-05-29T00:00:00",
          "2020-05-30T00:00:00",
          "2020-05-31T00:00:00",
          "2020-06-01T00:00:00",
          "2020-06-02T00:00:00",
          "2020-06-03T00:00:00",
          "2020-06-04T00:00:00",
          "2020-06-05T00:00:00",
          "2020-06-06T00:00:00",
          "2020-06-07T00:00:00",
          "2020-06-08T00:00:00",
          "2020-06-09T00:00:00",
          "2020-06-10T00:00:00",
          "2020-06-11T00:00:00",
          "2020-06-12T00:00:00",
          "2020-06-13T00:00:00",
          "2020-06-14T00:00:00",
          "2020-06-15T00:00:00",
          "2020-06-16T00:00:00",
          "2020-06-17T00:00:00",
          "2020-06-18T00:00:00",
          "2020-06-19T00:00:00",
          "2020-06-20T00:00:00",
          "2020-06-21T00:00:00",
          "2020-06-22T00:00:00",
          "2020-06-23T00:00:00",
          "2020-06-24T00:00:00",
          "2020-06-25T00:00:00",
          "2020-06-26T00:00:00",
          "2020-06-27T00:00:00",
          "2020-06-28T00:00:00",
          "2020-06-29T00:00:00",
          "2020-06-30T00:00:00",
          "2020-07-01T00:00:00",
          "2020-07-02T00:00:00",
          "2020-07-03T00:00:00",
          "2020-07-04T00:00:00",
          "2020-07-05T00:00:00",
          "2020-07-06T00:00:00",
          "2020-07-07T00:00:00",
          "2020-07-08T00:00:00",
          "2020-07-09T00:00:00",
          "2020-07-10T00:00:00",
          "2020-07-11T00:00:00",
          "2020-07-12T00:00:00",
          "2020-07-13T00:00:00",
          "2020-07-14T00:00:00",
          "2020-07-15T00:00:00",
          "2020-07-16T00:00:00",
          "2020-07-17T00:00:00",
          "2020-07-18T00:00:00",
          "2020-07-19T00:00:00",
          "2020-07-20T00:00:00",
          "2020-07-21T00:00:00",
          "2020-07-22T00:00:00",
          "2020-07-23T00:00:00",
          "2020-07-24T00:00:00",
          "2020-07-25T00:00:00",
          "2020-07-26T00:00:00",
          "2020-07-27T00:00:00",
          "2020-07-28T00:00:00",
          "2020-07-29T00:00:00",
          "2020-07-30T00:00:00",
          "2020-07-31T00:00:00",
          "2020-08-01T00:00:00",
          "2020-08-02T00:00:00",
          "2020-08-03T00:00:00",
          "2020-08-04T00:00:00",
          "2020-08-05T00:00:00",
          "2020-08-06T00:00:00",
          "2020-08-07T00:00:00",
          "2020-08-08T00:00:00",
          "2020-08-09T00:00:00",
          "2020-08-10T00:00:00",
          "2020-08-11T00:00:00",
          "2020-08-12T00:00:00",
          "2020-08-13T00:00:00",
          "2020-08-14T00:00:00",
          "2020-08-15T00:00:00",
          "2020-08-16T00:00:00",
          "2020-08-17T00:00:00",
          "2020-08-18T00:00:00",
          "2020-08-19T00:00:00",
          "2020-08-20T00:00:00",
          "2020-08-21T00:00:00",
          "2020-08-22T00:00:00",
          "2020-08-23T00:00:00",
          "2020-08-24T00:00:00",
          "2020-08-25T00:00:00",
          "2020-08-26T00:00:00",
          "2020-08-27T00:00:00",
          "2020-08-28T00:00:00",
          "2020-08-29T00:00:00",
          "2020-08-30T00:00:00",
          "2020-08-31T00:00:00",
          "2020-09-01T00:00:00",
          "2020-09-02T00:00:00",
          "2020-09-03T00:00:00",
          "2020-09-04T00:00:00",
          "2020-09-05T00:00:00",
          "2020-09-06T00:00:00",
          "2020-09-07T00:00:00",
          "2020-09-08T00:00:00",
          "2020-09-09T00:00:00",
          "2020-09-10T00:00:00",
          "2020-09-11T00:00:00",
          "2020-09-12T00:00:00",
          "2020-09-13T00:00:00",
          "2020-09-14T00:00:00",
          "2020-09-15T00:00:00",
          "2020-09-16T00:00:00",
          "2020-09-17T00:00:00",
          "2020-09-18T00:00:00",
          "2020-09-19T00:00:00",
          "2020-09-20T00:00:00",
          "2020-09-21T00:00:00",
          "2020-09-22T00:00:00",
          "2020-09-23T00:00:00",
          "2020-09-24T00:00:00",
          "2020-09-25T00:00:00",
          "2020-09-26T00:00:00",
          "2020-09-27T00:00:00",
          "2020-09-28T00:00:00",
          "2020-09-29T00:00:00",
          "2020-09-30T00:00:00",
          "2020-10-01T00:00:00",
          "2020-10-02T00:00:00",
          "2020-10-03T00:00:00",
          "2020-10-04T00:00:00",
          "2020-10-05T00:00:00",
          "2020-10-06T00:00:00",
          "2020-10-07T00:00:00",
          "2020-10-08T00:00:00",
          "2020-10-09T00:00:00",
          "2020-10-10T00:00:00",
          "2020-10-11T00:00:00",
          "2020-10-12T00:00:00",
          "2020-10-13T00:00:00",
          "2020-10-14T00:00:00",
          "2020-10-15T00:00:00",
          "2020-10-16T00:00:00",
          "2020-10-17T00:00:00",
          "2020-10-18T00:00:00",
          "2020-10-19T00:00:00",
          "2020-10-20T00:00:00",
          "2020-10-21T00:00:00",
          "2020-10-22T00:00:00",
          "2020-10-23T00:00:00",
          "2020-10-24T00:00:00",
          "2020-10-25T00:00:00",
          "2020-10-26T00:00:00",
          "2020-10-27T00:00:00",
          "2020-10-28T00:00:00",
          "2020-10-29T00:00:00",
          "2020-10-30T00:00:00",
          "2020-10-31T00:00:00",
          "2020-11-01T00:00:00",
          "2020-11-02T00:00:00",
          "2020-11-03T00:00:00",
          "2020-11-04T00:00:00",
          "2020-11-05T00:00:00",
          "2020-11-06T00:00:00",
          "2020-11-07T00:00:00",
          "2020-11-08T00:00:00",
          "2020-11-09T00:00:00",
          "2020-11-10T00:00:00",
          "2020-11-11T00:00:00",
          "2020-11-12T00:00:00",
          "2020-11-13T00:00:00",
          "2020-11-14T00:00:00",
          "2020-11-15T00:00:00",
          "2020-11-16T00:00:00",
          "2020-11-17T00:00:00",
          "2020-11-18T00:00:00",
          "2020-11-19T00:00:00",
          "2020-11-20T00:00:00",
          "2020-11-21T00:00:00",
          "2020-11-22T00:00:00",
          "2020-11-23T00:00:00",
          "2020-11-24T00:00:00",
          "2020-11-25T00:00:00",
          "2020-11-26T00:00:00",
          "2020-11-27T00:00:00",
          "2020-11-28T00:00:00",
          "2020-11-29T00:00:00",
          "2020-11-30T00:00:00",
          "2020-12-01T00:00:00",
          "2020-12-02T00:00:00",
          "2020-12-03T00:00:00",
          "2020-12-04T00:00:00",
          "2020-12-05T00:00:00",
          "2020-12-06T00:00:00",
          "2020-12-07T00:00:00",
          "2020-12-08T00:00:00",
          "2020-12-09T00:00:00",
          "2020-12-10T00:00:00",
          "2020-12-11T00:00:00",
          "2020-12-12T00:00:00",
          "2020-12-13T00:00:00",
          "2020-12-14T00:00:00",
          "2020-12-15T00:00:00",
          "2020-12-16T00:00:00",
          "2020-12-17T00:00:00",
          "2020-12-18T00:00:00",
          "2020-12-19T00:00:00",
          "2020-12-20T00:00:00",
          "2020-12-21T00:00:00",
          "2020-12-22T00:00:00",
          "2020-12-23T00:00:00",
          "2020-12-24T00:00:00",
          "2020-12-25T00:00:00",
          "2020-12-26T00:00:00",
          "2020-12-27T00:00:00",
          "2020-12-28T00:00:00",
          "2020-12-29T00:00:00",
          "2020-12-30T00:00:00",
          "2020-12-31T00:00:00",
          "2021-01-01T00:00:00",
          "2021-01-02T00:00:00",
          "2021-01-03T00:00:00",
          "2021-01-04T00:00:00",
          "2021-01-05T00:00:00",
          "2021-01-06T00:00:00",
          "2021-01-07T00:00:00",
          "2021-01-08T00:00:00",
          "2021-01-09T00:00:00",
          "2021-01-10T00:00:00",
          "2021-01-11T00:00:00",
          "2021-01-12T00:00:00",
          "2021-01-13T00:00:00",
          "2021-01-14T00:00:00",
          "2021-01-15T00:00:00",
          "2021-01-16T00:00:00",
          "2021-01-17T00:00:00",
          "2021-01-18T00:00:00",
          "2021-01-19T00:00:00",
          "2021-01-20T00:00:00",
          "2021-01-21T00:00:00",
          "2021-01-22T00:00:00",
          "2021-01-23T00:00:00",
          "2021-01-24T00:00:00",
          "2021-01-25T00:00:00",
          "2021-01-26T00:00:00",
          "2021-01-27T00:00:00",
          "2021-01-28T00:00:00",
          "2021-01-29T00:00:00",
          "2021-01-30T00:00:00",
          "2021-01-31T00:00:00",
          "2021-02-01T00:00:00",
          "2021-02-02T00:00:00",
          "2021-02-03T00:00:00",
          "2021-02-04T00:00:00",
          "2021-02-05T00:00:00",
          "2021-02-06T00:00:00",
          "2021-02-07T00:00:00",
          "2021-02-08T00:00:00",
          "2021-02-09T00:00:00",
          "2021-02-10T00:00:00",
          "2021-02-11T00:00:00",
          "2021-02-12T00:00:00",
          "2021-02-13T00:00:00",
          "2021-02-14T00:00:00",
          "2021-02-15T00:00:00",
          "2021-02-16T00:00:00",
          "2021-02-17T00:00:00",
          "2021-02-18T00:00:00",
          "2021-02-19T00:00:00",
          "2021-02-20T00:00:00",
          "2021-02-21T00:00:00",
          "2021-02-22T00:00:00",
          "2021-02-23T00:00:00",
          "2021-02-24T00:00:00",
          "2021-02-25T00:00:00",
          "2021-02-26T00:00:00",
          "2021-02-27T00:00:00",
          "2021-02-28T00:00:00",
          "2021-03-01T00:00:00",
          "2021-03-02T00:00:00",
          "2021-03-03T00:00:00",
          "2021-03-04T00:00:00",
          "2021-03-05T00:00:00",
          "2021-03-06T00:00:00",
          "2021-03-07T00:00:00",
          "2021-03-08T00:00:00",
          "2021-03-09T00:00:00",
          "2021-03-10T00:00:00",
          "2021-03-11T00:00:00",
          "2021-03-12T00:00:00",
          "2021-03-13T00:00:00",
          "2021-03-14T00:00:00",
          "2021-03-15T00:00:00",
          "2021-03-16T00:00:00",
          "2021-03-17T00:00:00",
          "2021-03-18T00:00:00",
          "2021-03-19T00:00:00",
          "2021-03-20T00:00:00",
          "2021-03-21T00:00:00",
          "2021-03-22T00:00:00",
          "2021-03-23T00:00:00",
          "2021-03-24T00:00:00",
          "2021-03-25T00:00:00",
          "2021-03-26T00:00:00",
          "2021-03-27T00:00:00",
          "2021-03-28T00:00:00",
          "2021-03-29T00:00:00",
          "2021-03-30T00:00:00",
          "2021-03-31T00:00:00"
         ],
         "y": [
          961150,
          753357.1428571428,
          681724.2068965518,
          null,
          null,
          725208,
          630053.7368421053,
          676583.3333333334,
          773225.2692307692,
          666255.6428571428,
          null,
          325000,
          1192963.4347826086,
          883883.5,
          1115649.0666666667,
          703075.8947368421,
          593240.8,
          null,
          null,
          630549.76,
          788538.3684210526,
          534571.5,
          706054.68,
          766311.7619047619,
          670000,
          null,
          672223.2571428572,
          589203.6666666666,
          717248.3928571428,
          645056.5660377359,
          761566.3846153846,
          null,
          null,
          742996.5925925926,
          928117.8571428572,
          722244.3181818182,
          802193.448275862,
          737056.8913043478,
          null,
          null,
          1010215.1176470588,
          559954.9,
          594030.4,
          786627.5,
          2423803.590909091,
          400000,
          null,
          580116.6333333333,
          649406.4285714285,
          571375.7666666667,
          1257801.9523809524,
          1018404.1714285715,
          null,
          325000,
          null,
          572714.6086956522,
          601808.6341463415,
          818277.015625,
          685398.4583333334,
          null,
          340000,
          558506.7741935484,
          694160.2666666667,
          1809577.5,
          759085.9375,
          663100.880952381,
          null,
          null,
          584458.6,
          1286910.6304347827,
          674959.5454545454,
          6283043.34375,
          821677.42,
          484787,
          null,
          833615.7916666666,
          796530.75,
          626165.4705882353,
          562851.2580645161,
          680855.3958333334,
          null,
          null,
          634731.0952380953,
          2134153.5555555555,
          1374770.888888889,
          705734.1449275363,
          732110.9016393443,
          null,
          null,
          3128182.919354839,
          771592.4027777778,
          786353.2962962963,
          635133.3111111111,
          365000,
          null,
          null,
          610116.2727272727,
          855789.3243243244,
          942172.3255813953,
          1002349.9333333333,
          1207195.462962963,
          265000,
          null,
          521447.625,
          1019686.8163265307,
          734260.9615384615,
          782620.7435897436,
          675106.5769230769,
          356000,
          null,
          625668.5319148937,
          631018.0769230769,
          623849.725490196,
          1151866.625,
          608356.5416666666,
          null,
          null,
          566493.1904761905,
          716382.7727272727,
          1063304.0487804879,
          657447.7843137255,
          606157.1694915254,
          336500,
          null,
          1100150.775,
          703381.2105263158,
          698784.5666666667,
          597978.6666666666,
          662752.4583333334,
          null,
          null,
          737526.5357142857,
          759952.6315789474,
          664542.6666666666,
          587161.7608695652,
          640727.659574468,
          804097,
          120000,
          681732.3103448276,
          580265.8837209302,
          1042224.8666666667,
          822008.9818181818,
          783539.5217391305,
          306146,
          471271.25,
          684929.4545454546,
          640625.1081081082,
          1140819.3703703703,
          631340,
          3335524.5070422534,
          303280,
          null,
          1679717.844155844,
          633616.3225806452,
          690991.1,
          681047.9714285714,
          1435634,
          850000,
          null,
          6000,
          583332.512195122,
          11782759.705882354,
          1010899.8372093023,
          1133387.7567567567,
          null,
          null,
          5504713.85106383,
          690470.3278688524,
          872583.051724138,
          615537.4716981133,
          643329.4761904762,
          null,
          217000,
          674469.5263157894,
          1033372.1272727273,
          802347.9649122807,
          758760.3768115942,
          715879.4533333334,
          null,
          null,
          693191.303030303,
          862207.5540540541,
          14690100.05,
          923863.4225352113,
          712918.0363636364,
          null,
          90000,
          683918.8484848485,
          731857.1111111111,
          631391.24,
          587772.3191489362,
          620802.2205882353,
          null,
          null,
          317422.5,
          712517.5714285715,
          730325.5769230769,
          830288.86,
          639017.6101694915,
          3000,
          null,
          575891.0333333333,
          699273.3928571428,
          693789.1833333333,
          753131.0754716981,
          747951.3,
          285000,
          5000,
          652001.9298245613,
          709614.3606557377,
          831534.3918918918,
          729093.1382978724,
          1050691.7684210527,
          410000,
          399000,
          694042.5588235294,
          704709.475,
          758629.3103448276,
          640258.0714285715,
          705806.2380952381,
          null,
          420000,
          740381.828125,
          744469.9344262296,
          500318.1818181818,
          704503.1891891892,
          2660488.6923076925,
          null,
          null,
          673783.0363636364,
          763621.4736842106,
          1125740.4705882352,
          697605.71875,
          680614.3333333334,
          null,
          null,
          639074.205479452,
          779583.9784946237,
          741491.7611940298,
          null,
          832958.75,
          null,
          246664,
          687234.4642857143,
          710952.6323529412,
          675483.515625,
          781023.96875,
          679605.7702702703,
          null,
          360000,
          757934.828125,
          676002.6111111111,
          612785.8153846153,
          673998.8533333334,
          639837.875,
          1000000,
          395801.5,
          1057572.6712328766,
          787623.5,
          815271.8,
          1206976.66,
          1029722.0260869565,
          null,
          null,
          2140242.969072165,
          3079420.9344262294,
          818685.9696969697,
          3036481.242424242,
          null,
          390787,
          null,
          1193972.0833333333,
          745306.5108695652,
          1182410.3086419753,
          904587.4307692308,
          null,
          null,
          null,
          515441.9655172414,
          937195.8113207547,
          629678.7924528302,
          870835.4074074074,
          673749.8793103448,
          200000,
          null,
          638217.0757575758,
          941716.2987012987,
          629515.2909090909,
          617809.5576923077,
          2060531.569620253,
          980000,
          75000,
          665439.8,
          734202.775862069,
          728799.0289855072,
          733167.7333333333,
          798184.8815789474,
          634500,
          null,
          664862.0714285715,
          700602.1551724138,
          808769.0724637681,
          716158.5384615385,
          965531.6880733945,
          4098400,
          1100000,
          1030374.6666666666,
          678594.1666666666,
          673120.3773584906,
          646879.6060606061,
          679965.2934782609,
          461500,
          null,
          735113.6166666667,
          709083.7464788732,
          721104.9714285714,
          876941.2133333334,
          809655.5571428571,
          null,
          null,
          585533.3333333334,
          620100.220338983,
          672292.9245283019,
          767958.2676056338,
          934185.5,
          null,
          386000,
          1820586.35,
          776674.421875,
          714328.8309859155,
          787634.8292682926,
          707944.7699115045,
          null,
          null,
          669714.0757575758,
          823997.4807692308,
          631401.1692307693,
          1185896.3088235294,
          688686.8831168831,
          null,
          null,
          803755.25,
          644934.7166666667,
          1258062.7878787878,
          687746.140625,
          679635.9852941176,
          null,
          475000,
          684445.9333333333,
          943197.7692307692,
          600407.2586206896,
          735364.7924528302,
          614789.2542372881,
          null,
          30000,
          639942.1607142857,
          656634.75,
          634332.9649122807,
          609609.756097561,
          652589.2857142857,
          null,
          null,
          694114.4705882353,
          747610.9354838709,
          602154.75
         ]
        }
       ],
       "layout": {
        "legend": {
         "traceorder": "reversed"
        },
        "showlegend": true,
        "template": {
         "data": {
          "bar": [
           {
            "error_x": {
             "color": "#2a3f5f"
            },
            "error_y": {
             "color": "#2a3f5f"
            },
            "marker": {
             "line": {
              "color": "#E5ECF6",
              "width": 0.5
             }
            },
            "type": "bar"
           }
          ],
          "barpolar": [
           {
            "marker": {
             "line": {
              "color": "#E5ECF6",
              "width": 0.5
             }
            },
            "type": "barpolar"
           }
          ],
          "carpet": [
           {
            "aaxis": {
             "endlinecolor": "#2a3f5f",
             "gridcolor": "white",
             "linecolor": "white",
             "minorgridcolor": "white",
             "startlinecolor": "#2a3f5f"
            },
            "baxis": {
             "endlinecolor": "#2a3f5f",
             "gridcolor": "white",
             "linecolor": "white",
             "minorgridcolor": "white",
             "startlinecolor": "#2a3f5f"
            },
            "type": "carpet"
           }
          ],
          "choropleth": [
           {
            "colorbar": {
             "outlinewidth": 0,
             "ticks": ""
            },
            "type": "choropleth"
           }
          ],
          "contour": [
           {
            "colorbar": {
             "outlinewidth": 0,
             "ticks": ""
            },
            "colorscale": [
             [
              0,
              "#0d0887"
             ],
             [
              0.1111111111111111,
              "#46039f"
             ],
             [
              0.2222222222222222,
              "#7201a8"
             ],
             [
              0.3333333333333333,
              "#9c179e"
             ],
             [
              0.4444444444444444,
              "#bd3786"
             ],
             [
              0.5555555555555556,
              "#d8576b"
             ],
             [
              0.6666666666666666,
              "#ed7953"
             ],
             [
              0.7777777777777778,
              "#fb9f3a"
             ],
             [
              0.8888888888888888,
              "#fdca26"
             ],
             [
              1,
              "#f0f921"
             ]
            ],
            "type": "contour"
           }
          ],
          "contourcarpet": [
           {
            "colorbar": {
             "outlinewidth": 0,
             "ticks": ""
            },
            "type": "contourcarpet"
           }
          ],
          "heatmap": [
           {
            "colorbar": {
             "outlinewidth": 0,
             "ticks": ""
            },
            "colorscale": [
             [
              0,
              "#0d0887"
             ],
             [
              0.1111111111111111,
              "#46039f"
             ],
             [
              0.2222222222222222,
              "#7201a8"
             ],
             [
              0.3333333333333333,
              "#9c179e"
             ],
             [
              0.4444444444444444,
              "#bd3786"
             ],
             [
              0.5555555555555556,
              "#d8576b"
             ],
             [
              0.6666666666666666,
              "#ed7953"
             ],
             [
              0.7777777777777778,
              "#fb9f3a"
             ],
             [
              0.8888888888888888,
              "#fdca26"
             ],
             [
              1,
              "#f0f921"
             ]
            ],
            "type": "heatmap"
           }
          ],
          "heatmapgl": [
           {
            "colorbar": {
             "outlinewidth": 0,
             "ticks": ""
            },
            "colorscale": [
             [
              0,
              "#0d0887"
             ],
             [
              0.1111111111111111,
              "#46039f"
             ],
             [
              0.2222222222222222,
              "#7201a8"
             ],
             [
              0.3333333333333333,
              "#9c179e"
             ],
             [
              0.4444444444444444,
              "#bd3786"
             ],
             [
              0.5555555555555556,
              "#d8576b"
             ],
             [
              0.6666666666666666,
              "#ed7953"
             ],
             [
              0.7777777777777778,
              "#fb9f3a"
             ],
             [
              0.8888888888888888,
              "#fdca26"
             ],
             [
              1,
              "#f0f921"
             ]
            ],
            "type": "heatmapgl"
           }
          ],
          "histogram": [
           {
            "marker": {
             "colorbar": {
              "outlinewidth": 0,
              "ticks": ""
             }
            },
            "type": "histogram"
           }
          ],
          "histogram2d": [
           {
            "colorbar": {
             "outlinewidth": 0,
             "ticks": ""
            },
            "colorscale": [
             [
              0,
              "#0d0887"
             ],
             [
              0.1111111111111111,
              "#46039f"
             ],
             [
              0.2222222222222222,
              "#7201a8"
             ],
             [
              0.3333333333333333,
              "#9c179e"
             ],
             [
              0.4444444444444444,
              "#bd3786"
             ],
             [
              0.5555555555555556,
              "#d8576b"
             ],
             [
              0.6666666666666666,
              "#ed7953"
             ],
             [
              0.7777777777777778,
              "#fb9f3a"
             ],
             [
              0.8888888888888888,
              "#fdca26"
             ],
             [
              1,
              "#f0f921"
             ]
            ],
            "type": "histogram2d"
           }
          ],
          "histogram2dcontour": [
           {
            "colorbar": {
             "outlinewidth": 0,
             "ticks": ""
            },
            "colorscale": [
             [
              0,
              "#0d0887"
             ],
             [
              0.1111111111111111,
              "#46039f"
             ],
             [
              0.2222222222222222,
              "#7201a8"
             ],
             [
              0.3333333333333333,
              "#9c179e"
             ],
             [
              0.4444444444444444,
              "#bd3786"
             ],
             [
              0.5555555555555556,
              "#d8576b"
             ],
             [
              0.6666666666666666,
              "#ed7953"
             ],
             [
              0.7777777777777778,
              "#fb9f3a"
             ],
             [
              0.8888888888888888,
              "#fdca26"
             ],
             [
              1,
              "#f0f921"
             ]
            ],
            "type": "histogram2dcontour"
           }
          ],
          "mesh3d": [
           {
            "colorbar": {
             "outlinewidth": 0,
             "ticks": ""
            },
            "type": "mesh3d"
           }
          ],
          "parcoords": [
           {
            "line": {
             "colorbar": {
              "outlinewidth": 0,
              "ticks": ""
             }
            },
            "type": "parcoords"
           }
          ],
          "pie": [
           {
            "automargin": true,
            "type": "pie"
           }
          ],
          "scatter": [
           {
            "marker": {
             "colorbar": {
              "outlinewidth": 0,
              "ticks": ""
             }
            },
            "type": "scatter"
           }
          ],
          "scatter3d": [
           {
            "line": {
             "colorbar": {
              "outlinewidth": 0,
              "ticks": ""
             }
            },
            "marker": {
             "colorbar": {
              "outlinewidth": 0,
              "ticks": ""
             }
            },
            "type": "scatter3d"
           }
          ],
          "scattercarpet": [
           {
            "marker": {
             "colorbar": {
              "outlinewidth": 0,
              "ticks": ""
             }
            },
            "type": "scattercarpet"
           }
          ],
          "scattergeo": [
           {
            "marker": {
             "colorbar": {
              "outlinewidth": 0,
              "ticks": ""
             }
            },
            "type": "scattergeo"
           }
          ],
          "scattergl": [
           {
            "marker": {
             "colorbar": {
              "outlinewidth": 0,
              "ticks": ""
             }
            },
            "type": "scattergl"
           }
          ],
          "scattermapbox": [
           {
            "marker": {
             "colorbar": {
              "outlinewidth": 0,
              "ticks": ""
             }
            },
            "type": "scattermapbox"
           }
          ],
          "scatterpolar": [
           {
            "marker": {
             "colorbar": {
              "outlinewidth": 0,
              "ticks": ""
             }
            },
            "type": "scatterpolar"
           }
          ],
          "scatterpolargl": [
           {
            "marker": {
             "colorbar": {
              "outlinewidth": 0,
              "ticks": ""
             }
            },
            "type": "scatterpolargl"
           }
          ],
          "scatterternary": [
           {
            "marker": {
             "colorbar": {
              "outlinewidth": 0,
              "ticks": ""
             }
            },
            "type": "scatterternary"
           }
          ],
          "surface": [
           {
            "colorbar": {
             "outlinewidth": 0,
             "ticks": ""
            },
            "colorscale": [
             [
              0,
              "#0d0887"
             ],
             [
              0.1111111111111111,
              "#46039f"
             ],
             [
              0.2222222222222222,
              "#7201a8"
             ],
             [
              0.3333333333333333,
              "#9c179e"
             ],
             [
              0.4444444444444444,
              "#bd3786"
             ],
             [
              0.5555555555555556,
              "#d8576b"
             ],
             [
              0.6666666666666666,
              "#ed7953"
             ],
             [
              0.7777777777777778,
              "#fb9f3a"
             ],
             [
              0.8888888888888888,
              "#fdca26"
             ],
             [
              1,
              "#f0f921"
             ]
            ],
            "type": "surface"
           }
          ],
          "table": [
           {
            "cells": {
             "fill": {
              "color": "#EBF0F8"
             },
             "line": {
              "color": "white"
             }
            },
            "header": {
             "fill": {
              "color": "#C8D4E3"
             },
             "line": {
              "color": "white"
             }
            },
            "type": "table"
           }
          ]
         },
         "layout": {
          "annotationdefaults": {
           "arrowcolor": "#2a3f5f",
           "arrowhead": 0,
           "arrowwidth": 1
          },
          "coloraxis": {
           "colorbar": {
            "outlinewidth": 0,
            "ticks": ""
           }
          },
          "colorscale": {
           "diverging": [
            [
             0,
             "#8e0152"
            ],
            [
             0.1,
             "#c51b7d"
            ],
            [
             0.2,
             "#de77ae"
            ],
            [
             0.3,
             "#f1b6da"
            ],
            [
             0.4,
             "#fde0ef"
            ],
            [
             0.5,
             "#f7f7f7"
            ],
            [
             0.6,
             "#e6f5d0"
            ],
            [
             0.7,
             "#b8e186"
            ],
            [
             0.8,
             "#7fbc41"
            ],
            [
             0.9,
             "#4d9221"
            ],
            [
             1,
             "#276419"
            ]
           ],
           "sequential": [
            [
             0,
             "#0d0887"
            ],
            [
             0.1111111111111111,
             "#46039f"
            ],
            [
             0.2222222222222222,
             "#7201a8"
            ],
            [
             0.3333333333333333,
             "#9c179e"
            ],
            [
             0.4444444444444444,
             "#bd3786"
            ],
            [
             0.5555555555555556,
             "#d8576b"
            ],
            [
             0.6666666666666666,
             "#ed7953"
            ],
            [
             0.7777777777777778,
             "#fb9f3a"
            ],
            [
             0.8888888888888888,
             "#fdca26"
            ],
            [
             1,
             "#f0f921"
            ]
           ],
           "sequentialminus": [
            [
             0,
             "#0d0887"
            ],
            [
             0.1111111111111111,
             "#46039f"
            ],
            [
             0.2222222222222222,
             "#7201a8"
            ],
            [
             0.3333333333333333,
             "#9c179e"
            ],
            [
             0.4444444444444444,
             "#bd3786"
            ],
            [
             0.5555555555555556,
             "#d8576b"
            ],
            [
             0.6666666666666666,
             "#ed7953"
            ],
            [
             0.7777777777777778,
             "#fb9f3a"
            ],
            [
             0.8888888888888888,
             "#fdca26"
            ],
            [
             1,
             "#f0f921"
            ]
           ]
          },
          "colorway": [
           "#636efa",
           "#EF553B",
           "#00cc96",
           "#ab63fa",
           "#FFA15A",
           "#19d3f3",
           "#FF6692",
           "#B6E880",
           "#FF97FF",
           "#FECB52"
          ],
          "font": {
           "color": "#2a3f5f"
          },
          "geo": {
           "bgcolor": "white",
           "lakecolor": "white",
           "landcolor": "#E5ECF6",
           "showlakes": true,
           "showland": true,
           "subunitcolor": "white"
          },
          "hoverlabel": {
           "align": "left"
          },
          "hovermode": "closest",
          "mapbox": {
           "style": "light"
          },
          "paper_bgcolor": "white",
          "plot_bgcolor": "#E5ECF6",
          "polar": {
           "angularaxis": {
            "gridcolor": "white",
            "linecolor": "white",
            "ticks": ""
           },
           "bgcolor": "#E5ECF6",
           "radialaxis": {
            "gridcolor": "white",
            "linecolor": "white",
            "ticks": ""
           }
          },
          "scene": {
           "xaxis": {
            "backgroundcolor": "#E5ECF6",
            "gridcolor": "white",
            "gridwidth": 2,
            "linecolor": "white",
            "showbackground": true,
            "ticks": "",
            "zerolinecolor": "white"
           },
           "yaxis": {
            "backgroundcolor": "#E5ECF6",
            "gridcolor": "white",
            "gridwidth": 2,
            "linecolor": "white",
            "showbackground": true,
            "ticks": "",
            "zerolinecolor": "white"
           },
           "zaxis": {
            "backgroundcolor": "#E5ECF6",
            "gridcolor": "white",
            "gridwidth": 2,
            "linecolor": "white",
            "showbackground": true,
            "ticks": "",
            "zerolinecolor": "white"
           }
          },
          "shapedefaults": {
           "line": {
            "color": "#2a3f5f"
           }
          },
          "ternary": {
           "aaxis": {
            "gridcolor": "white",
            "linecolor": "white",
            "ticks": ""
           },
           "baxis": {
            "gridcolor": "white",
            "linecolor": "white",
            "ticks": ""
           },
           "bgcolor": "#E5ECF6",
           "caxis": {
            "gridcolor": "white",
            "linecolor": "white",
            "ticks": ""
           }
          },
          "title": {
           "x": 0.05
          },
          "xaxis": {
           "automargin": true,
           "gridcolor": "white",
           "linecolor": "white",
           "ticks": "",
           "title": {
            "standoff": 15
           },
           "zerolinecolor": "white",
           "zerolinewidth": 2
          },
          "yaxis": {
           "automargin": true,
           "gridcolor": "white",
           "linecolor": "white",
           "ticks": "",
           "title": {
            "standoff": 15
           },
           "zerolinecolor": "white",
           "zerolinewidth": 2
          }
         }
        },
        "title": {
         "text": "y vs ts"
        },
        "xaxis": {
         "title": {
          "text": "ts"
         }
        },
        "yaxis": {
         "title": {
          "text": "y"
         }
        }
       }
      },
      "text/html": [
       "<div>                            <div id=\"67095576-dbcf-4235-a9ed-d84aeb9480b5\" class=\"plotly-graph-div\" style=\"height:525px; width:100%;\"></div>            <script type=\"text/javascript\">                require([\"plotly\"], function(Plotly) {                    window.PLOTLYENV=window.PLOTLYENV || {};                                    if (document.getElementById(\"67095576-dbcf-4235-a9ed-d84aeb9480b5\")) {                    Plotly.newPlot(                        \"67095576-dbcf-4235-a9ed-d84aeb9480b5\",                        [{\"line\": {\"color\": \"rgb(32, 149, 212)\"}, \"mode\": \"lines\", \"name\": \"y\", \"opacity\": 0.8, \"type\": \"scatter\", \"x\": [\"2020-04-01T00:00:00\", \"2020-04-02T00:00:00\", \"2020-04-03T00:00:00\", \"2020-04-04T00:00:00\", \"2020-04-05T00:00:00\", \"2020-04-06T00:00:00\", \"2020-04-07T00:00:00\", \"2020-04-08T00:00:00\", \"2020-04-09T00:00:00\", \"2020-04-10T00:00:00\", \"2020-04-11T00:00:00\", \"2020-04-12T00:00:00\", \"2020-04-13T00:00:00\", \"2020-04-14T00:00:00\", \"2020-04-15T00:00:00\", \"2020-04-16T00:00:00\", \"2020-04-17T00:00:00\", \"2020-04-18T00:00:00\", \"2020-04-19T00:00:00\", \"2020-04-20T00:00:00\", \"2020-04-21T00:00:00\", \"2020-04-22T00:00:00\", \"2020-04-23T00:00:00\", \"2020-04-24T00:00:00\", \"2020-04-25T00:00:00\", \"2020-04-26T00:00:00\", \"2020-04-27T00:00:00\", \"2020-04-28T00:00:00\", \"2020-04-29T00:00:00\", \"2020-04-30T00:00:00\", \"2020-05-01T00:00:00\", \"2020-05-02T00:00:00\", \"2020-05-03T00:00:00\", \"2020-05-04T00:00:00\", \"2020-05-05T00:00:00\", \"2020-05-06T00:00:00\", \"2020-05-07T00:00:00\", \"2020-05-08T00:00:00\", \"2020-05-09T00:00:00\", \"2020-05-10T00:00:00\", \"2020-05-11T00:00:00\", \"2020-05-12T00:00:00\", \"2020-05-13T00:00:00\", \"2020-05-14T00:00:00\", \"2020-05-15T00:00:00\", \"2020-05-16T00:00:00\", \"2020-05-17T00:00:00\", \"2020-05-18T00:00:00\", \"2020-05-19T00:00:00\", \"2020-05-20T00:00:00\", \"2020-05-21T00:00:00\", \"2020-05-22T00:00:00\", \"2020-05-23T00:00:00\", \"2020-05-24T00:00:00\", \"2020-05-25T00:00:00\", \"2020-05-26T00:00:00\", \"2020-05-27T00:00:00\", \"2020-05-28T00:00:00\", \"2020-05-29T00:00:00\", \"2020-05-30T00:00:00\", \"2020-05-31T00:00:00\", \"2020-06-01T00:00:00\", \"2020-06-02T00:00:00\", \"2020-06-03T00:00:00\", \"2020-06-04T00:00:00\", \"2020-06-05T00:00:00\", \"2020-06-06T00:00:00\", \"2020-06-07T00:00:00\", \"2020-06-08T00:00:00\", \"2020-06-09T00:00:00\", \"2020-06-10T00:00:00\", \"2020-06-11T00:00:00\", \"2020-06-12T00:00:00\", \"2020-06-13T00:00:00\", \"2020-06-14T00:00:00\", \"2020-06-15T00:00:00\", \"2020-06-16T00:00:00\", \"2020-06-17T00:00:00\", \"2020-06-18T00:00:00\", \"2020-06-19T00:00:00\", \"2020-06-20T00:00:00\", \"2020-06-21T00:00:00\", \"2020-06-22T00:00:00\", \"2020-06-23T00:00:00\", \"2020-06-24T00:00:00\", \"2020-06-25T00:00:00\", \"2020-06-26T00:00:00\", \"2020-06-27T00:00:00\", \"2020-06-28T00:00:00\", \"2020-06-29T00:00:00\", \"2020-06-30T00:00:00\", \"2020-07-01T00:00:00\", \"2020-07-02T00:00:00\", \"2020-07-03T00:00:00\", \"2020-07-04T00:00:00\", \"2020-07-05T00:00:00\", \"2020-07-06T00:00:00\", \"2020-07-07T00:00:00\", \"2020-07-08T00:00:00\", \"2020-07-09T00:00:00\", \"2020-07-10T00:00:00\", \"2020-07-11T00:00:00\", \"2020-07-12T00:00:00\", \"2020-07-13T00:00:00\", \"2020-07-14T00:00:00\", \"2020-07-15T00:00:00\", \"2020-07-16T00:00:00\", \"2020-07-17T00:00:00\", \"2020-07-18T00:00:00\", \"2020-07-19T00:00:00\", \"2020-07-20T00:00:00\", \"2020-07-21T00:00:00\", \"2020-07-22T00:00:00\", \"2020-07-23T00:00:00\", \"2020-07-24T00:00:00\", \"2020-07-25T00:00:00\", \"2020-07-26T00:00:00\", \"2020-07-27T00:00:00\", \"2020-07-28T00:00:00\", \"2020-07-29T00:00:00\", \"2020-07-30T00:00:00\", \"2020-07-31T00:00:00\", \"2020-08-01T00:00:00\", \"2020-08-02T00:00:00\", \"2020-08-03T00:00:00\", \"2020-08-04T00:00:00\", \"2020-08-05T00:00:00\", \"2020-08-06T00:00:00\", \"2020-08-07T00:00:00\", \"2020-08-08T00:00:00\", \"2020-08-09T00:00:00\", \"2020-08-10T00:00:00\", \"2020-08-11T00:00:00\", \"2020-08-12T00:00:00\", \"2020-08-13T00:00:00\", \"2020-08-14T00:00:00\", \"2020-08-15T00:00:00\", \"2020-08-16T00:00:00\", \"2020-08-17T00:00:00\", \"2020-08-18T00:00:00\", \"2020-08-19T00:00:00\", \"2020-08-20T00:00:00\", \"2020-08-21T00:00:00\", \"2020-08-22T00:00:00\", \"2020-08-23T00:00:00\", \"2020-08-24T00:00:00\", \"2020-08-25T00:00:00\", \"2020-08-26T00:00:00\", \"2020-08-27T00:00:00\", \"2020-08-28T00:00:00\", \"2020-08-29T00:00:00\", \"2020-08-30T00:00:00\", \"2020-08-31T00:00:00\", \"2020-09-01T00:00:00\", \"2020-09-02T00:00:00\", \"2020-09-03T00:00:00\", \"2020-09-04T00:00:00\", \"2020-09-05T00:00:00\", \"2020-09-06T00:00:00\", \"2020-09-07T00:00:00\", \"2020-09-08T00:00:00\", \"2020-09-09T00:00:00\", \"2020-09-10T00:00:00\", \"2020-09-11T00:00:00\", \"2020-09-12T00:00:00\", \"2020-09-13T00:00:00\", \"2020-09-14T00:00:00\", \"2020-09-15T00:00:00\", \"2020-09-16T00:00:00\", \"2020-09-17T00:00:00\", \"2020-09-18T00:00:00\", \"2020-09-19T00:00:00\", \"2020-09-20T00:00:00\", \"2020-09-21T00:00:00\", \"2020-09-22T00:00:00\", \"2020-09-23T00:00:00\", \"2020-09-24T00:00:00\", \"2020-09-25T00:00:00\", \"2020-09-26T00:00:00\", \"2020-09-27T00:00:00\", \"2020-09-28T00:00:00\", \"2020-09-29T00:00:00\", \"2020-09-30T00:00:00\", \"2020-10-01T00:00:00\", \"2020-10-02T00:00:00\", \"2020-10-03T00:00:00\", \"2020-10-04T00:00:00\", \"2020-10-05T00:00:00\", \"2020-10-06T00:00:00\", \"2020-10-07T00:00:00\", \"2020-10-08T00:00:00\", \"2020-10-09T00:00:00\", \"2020-10-10T00:00:00\", \"2020-10-11T00:00:00\", \"2020-10-12T00:00:00\", \"2020-10-13T00:00:00\", \"2020-10-14T00:00:00\", \"2020-10-15T00:00:00\", \"2020-10-16T00:00:00\", \"2020-10-17T00:00:00\", \"2020-10-18T00:00:00\", \"2020-10-19T00:00:00\", \"2020-10-20T00:00:00\", \"2020-10-21T00:00:00\", \"2020-10-22T00:00:00\", \"2020-10-23T00:00:00\", \"2020-10-24T00:00:00\", \"2020-10-25T00:00:00\", \"2020-10-26T00:00:00\", \"2020-10-27T00:00:00\", \"2020-10-28T00:00:00\", \"2020-10-29T00:00:00\", \"2020-10-30T00:00:00\", \"2020-10-31T00:00:00\", \"2020-11-01T00:00:00\", \"2020-11-02T00:00:00\", \"2020-11-03T00:00:00\", \"2020-11-04T00:00:00\", \"2020-11-05T00:00:00\", \"2020-11-06T00:00:00\", \"2020-11-07T00:00:00\", \"2020-11-08T00:00:00\", \"2020-11-09T00:00:00\", \"2020-11-10T00:00:00\", \"2020-11-11T00:00:00\", \"2020-11-12T00:00:00\", \"2020-11-13T00:00:00\", \"2020-11-14T00:00:00\", \"2020-11-15T00:00:00\", \"2020-11-16T00:00:00\", \"2020-11-17T00:00:00\", \"2020-11-18T00:00:00\", \"2020-11-19T00:00:00\", \"2020-11-20T00:00:00\", \"2020-11-21T00:00:00\", \"2020-11-22T00:00:00\", \"2020-11-23T00:00:00\", \"2020-11-24T00:00:00\", \"2020-11-25T00:00:00\", \"2020-11-26T00:00:00\", \"2020-11-27T00:00:00\", \"2020-11-28T00:00:00\", \"2020-11-29T00:00:00\", \"2020-11-30T00:00:00\", \"2020-12-01T00:00:00\", \"2020-12-02T00:00:00\", \"2020-12-03T00:00:00\", \"2020-12-04T00:00:00\", \"2020-12-05T00:00:00\", \"2020-12-06T00:00:00\", \"2020-12-07T00:00:00\", \"2020-12-08T00:00:00\", \"2020-12-09T00:00:00\", \"2020-12-10T00:00:00\", \"2020-12-11T00:00:00\", \"2020-12-12T00:00:00\", \"2020-12-13T00:00:00\", \"2020-12-14T00:00:00\", \"2020-12-15T00:00:00\", \"2020-12-16T00:00:00\", \"2020-12-17T00:00:00\", \"2020-12-18T00:00:00\", \"2020-12-19T00:00:00\", \"2020-12-20T00:00:00\", \"2020-12-21T00:00:00\", \"2020-12-22T00:00:00\", \"2020-12-23T00:00:00\", \"2020-12-24T00:00:00\", \"2020-12-25T00:00:00\", \"2020-12-26T00:00:00\", \"2020-12-27T00:00:00\", \"2020-12-28T00:00:00\", \"2020-12-29T00:00:00\", \"2020-12-30T00:00:00\", \"2020-12-31T00:00:00\", \"2021-01-01T00:00:00\", \"2021-01-02T00:00:00\", \"2021-01-03T00:00:00\", \"2021-01-04T00:00:00\", \"2021-01-05T00:00:00\", \"2021-01-06T00:00:00\", \"2021-01-07T00:00:00\", \"2021-01-08T00:00:00\", \"2021-01-09T00:00:00\", \"2021-01-10T00:00:00\", \"2021-01-11T00:00:00\", \"2021-01-12T00:00:00\", \"2021-01-13T00:00:00\", \"2021-01-14T00:00:00\", \"2021-01-15T00:00:00\", \"2021-01-16T00:00:00\", \"2021-01-17T00:00:00\", \"2021-01-18T00:00:00\", \"2021-01-19T00:00:00\", \"2021-01-20T00:00:00\", \"2021-01-21T00:00:00\", \"2021-01-22T00:00:00\", \"2021-01-23T00:00:00\", \"2021-01-24T00:00:00\", \"2021-01-25T00:00:00\", \"2021-01-26T00:00:00\", \"2021-01-27T00:00:00\", \"2021-01-28T00:00:00\", \"2021-01-29T00:00:00\", \"2021-01-30T00:00:00\", \"2021-01-31T00:00:00\", \"2021-02-01T00:00:00\", \"2021-02-02T00:00:00\", \"2021-02-03T00:00:00\", \"2021-02-04T00:00:00\", \"2021-02-05T00:00:00\", \"2021-02-06T00:00:00\", \"2021-02-07T00:00:00\", \"2021-02-08T00:00:00\", \"2021-02-09T00:00:00\", \"2021-02-10T00:00:00\", \"2021-02-11T00:00:00\", \"2021-02-12T00:00:00\", \"2021-02-13T00:00:00\", \"2021-02-14T00:00:00\", \"2021-02-15T00:00:00\", \"2021-02-16T00:00:00\", \"2021-02-17T00:00:00\", \"2021-02-18T00:00:00\", \"2021-02-19T00:00:00\", \"2021-02-20T00:00:00\", \"2021-02-21T00:00:00\", \"2021-02-22T00:00:00\", \"2021-02-23T00:00:00\", \"2021-02-24T00:00:00\", \"2021-02-25T00:00:00\", \"2021-02-26T00:00:00\", \"2021-02-27T00:00:00\", \"2021-02-28T00:00:00\", \"2021-03-01T00:00:00\", \"2021-03-02T00:00:00\", \"2021-03-03T00:00:00\", \"2021-03-04T00:00:00\", \"2021-03-05T00:00:00\", \"2021-03-06T00:00:00\", \"2021-03-07T00:00:00\", \"2021-03-08T00:00:00\", \"2021-03-09T00:00:00\", \"2021-03-10T00:00:00\", \"2021-03-11T00:00:00\", \"2021-03-12T00:00:00\", \"2021-03-13T00:00:00\", \"2021-03-14T00:00:00\", \"2021-03-15T00:00:00\", \"2021-03-16T00:00:00\", \"2021-03-17T00:00:00\", \"2021-03-18T00:00:00\", \"2021-03-19T00:00:00\", \"2021-03-20T00:00:00\", \"2021-03-21T00:00:00\", \"2021-03-22T00:00:00\", \"2021-03-23T00:00:00\", \"2021-03-24T00:00:00\", \"2021-03-25T00:00:00\", \"2021-03-26T00:00:00\", \"2021-03-27T00:00:00\", \"2021-03-28T00:00:00\", \"2021-03-29T00:00:00\", \"2021-03-30T00:00:00\", \"2021-03-31T00:00:00\"], \"y\": [961150.0, 753357.1428571428, 681724.2068965518, null, null, 725208.0, 630053.7368421053, 676583.3333333334, 773225.2692307692, 666255.6428571428, null, 325000.0, 1192963.4347826086, 883883.5, 1115649.0666666667, 703075.8947368421, 593240.8, null, null, 630549.76, 788538.3684210526, 534571.5, 706054.68, 766311.7619047619, 670000.0, null, 672223.2571428572, 589203.6666666666, 717248.3928571428, 645056.5660377359, 761566.3846153846, null, null, 742996.5925925926, 928117.8571428572, 722244.3181818182, 802193.448275862, 737056.8913043478, null, null, 1010215.1176470588, 559954.9, 594030.4, 786627.5, 2423803.590909091, 400000.0, null, 580116.6333333333, 649406.4285714285, 571375.7666666667, 1257801.9523809524, 1018404.1714285715, null, 325000.0, null, 572714.6086956522, 601808.6341463415, 818277.015625, 685398.4583333334, null, 340000.0, 558506.7741935484, 694160.2666666667, 1809577.5, 759085.9375, 663100.880952381, null, null, 584458.6, 1286910.6304347827, 674959.5454545454, 6283043.34375, 821677.42, 484787.0, null, 833615.7916666666, 796530.75, 626165.4705882353, 562851.2580645161, 680855.3958333334, null, null, 634731.0952380953, 2134153.5555555555, 1374770.888888889, 705734.1449275363, 732110.9016393443, null, null, 3128182.919354839, 771592.4027777778, 786353.2962962963, 635133.3111111111, 365000.0, null, null, 610116.2727272727, 855789.3243243244, 942172.3255813953, 1002349.9333333333, 1207195.462962963, 265000.0, null, 521447.625, 1019686.8163265307, 734260.9615384615, 782620.7435897436, 675106.5769230769, 356000.0, null, 625668.5319148937, 631018.0769230769, 623849.725490196, 1151866.625, 608356.5416666666, null, null, 566493.1904761905, 716382.7727272727, 1063304.0487804879, 657447.7843137255, 606157.1694915254, 336500.0, null, 1100150.775, 703381.2105263158, 698784.5666666667, 597978.6666666666, 662752.4583333334, null, null, 737526.5357142857, 759952.6315789474, 664542.6666666666, 587161.7608695652, 640727.659574468, 804097.0, 120000.0, 681732.3103448276, 580265.8837209302, 1042224.8666666667, 822008.9818181818, 783539.5217391305, 306146.0, 471271.25, 684929.4545454546, 640625.1081081082, 1140819.3703703703, 631340.0, 3335524.5070422534, 303280.0, null, 1679717.844155844, 633616.3225806452, 690991.1, 681047.9714285714, 1435634.0, 850000.0, null, 6000.0, 583332.512195122, 11782759.705882354, 1010899.8372093023, 1133387.7567567567, null, null, 5504713.85106383, 690470.3278688524, 872583.051724138, 615537.4716981133, 643329.4761904762, null, 217000.0, 674469.5263157894, 1033372.1272727273, 802347.9649122807, 758760.3768115942, 715879.4533333334, null, null, 693191.303030303, 862207.5540540541, 14690100.05, 923863.4225352113, 712918.0363636364, null, 90000.0, 683918.8484848485, 731857.1111111111, 631391.24, 587772.3191489362, 620802.2205882353, null, null, 317422.5, 712517.5714285715, 730325.5769230769, 830288.86, 639017.6101694915, 3000.0, null, 575891.0333333333, 699273.3928571428, 693789.1833333333, 753131.0754716981, 747951.3, 285000.0, 5000.0, 652001.9298245613, 709614.3606557377, 831534.3918918918, 729093.1382978724, 1050691.7684210527, 410000.0, 399000.0, 694042.5588235294, 704709.475, 758629.3103448276, 640258.0714285715, 705806.2380952381, null, 420000.0, 740381.828125, 744469.9344262296, 500318.1818181818, 704503.1891891892, 2660488.6923076925, null, null, 673783.0363636364, 763621.4736842106, 1125740.4705882352, 697605.71875, 680614.3333333334, null, null, 639074.205479452, 779583.9784946237, 741491.7611940298, null, 832958.75, null, 246664.0, 687234.4642857143, 710952.6323529412, 675483.515625, 781023.96875, 679605.7702702703, null, 360000.0, 757934.828125, 676002.6111111111, 612785.8153846153, 673998.8533333334, 639837.875, 1000000.0, 395801.5, 1057572.6712328766, 787623.5, 815271.8, 1206976.66, 1029722.0260869565, null, null, 2140242.969072165, 3079420.9344262294, 818685.9696969697, 3036481.242424242, null, 390787.0, null, 1193972.0833333333, 745306.5108695652, 1182410.3086419753, 904587.4307692308, null, null, null, 515441.9655172414, 937195.8113207547, 629678.7924528302, 870835.4074074074, 673749.8793103448, 200000.0, null, 638217.0757575758, 941716.2987012987, 629515.2909090909, 617809.5576923077, 2060531.569620253, 980000.0, 75000.0, 665439.8, 734202.775862069, 728799.0289855072, 733167.7333333333, 798184.8815789474, 634500.0, null, 664862.0714285715, 700602.1551724138, 808769.0724637681, 716158.5384615385, 965531.6880733945, 4098400.0, 1100000.0, 1030374.6666666666, 678594.1666666666, 673120.3773584906, 646879.6060606061, 679965.2934782609, 461500.0, null, 735113.6166666667, 709083.7464788732, 721104.9714285714, 876941.2133333334, 809655.5571428571, null, null, 585533.3333333334, 620100.220338983, 672292.9245283019, 767958.2676056338, 934185.5, null, 386000.0, 1820586.35, 776674.421875, 714328.8309859155, 787634.8292682926, 707944.7699115045, null, null, 669714.0757575758, 823997.4807692308, 631401.1692307693, 1185896.3088235294, 688686.8831168831, null, null, 803755.25, 644934.7166666667, 1258062.7878787878, 687746.140625, 679635.9852941176, null, 475000.0, 684445.9333333333, 943197.7692307692, 600407.2586206896, 735364.7924528302, 614789.2542372881, null, 30000.0, 639942.1607142857, 656634.75, 634332.9649122807, 609609.756097561, 652589.2857142857, null, null, 694114.4705882353, 747610.9354838709, 602154.75]}],                        {\"legend\": {\"traceorder\": \"reversed\"}, \"showlegend\": true, \"template\": {\"data\": {\"bar\": [{\"error_x\": {\"color\": \"#2a3f5f\"}, \"error_y\": {\"color\": \"#2a3f5f\"}, \"marker\": {\"line\": {\"color\": \"#E5ECF6\", \"width\": 0.5}}, \"type\": \"bar\"}], \"barpolar\": [{\"marker\": {\"line\": {\"color\": \"#E5ECF6\", \"width\": 0.5}}, \"type\": \"barpolar\"}], \"carpet\": [{\"aaxis\": {\"endlinecolor\": \"#2a3f5f\", \"gridcolor\": \"white\", \"linecolor\": \"white\", \"minorgridcolor\": \"white\", \"startlinecolor\": \"#2a3f5f\"}, \"baxis\": {\"endlinecolor\": \"#2a3f5f\", \"gridcolor\": \"white\", \"linecolor\": \"white\", \"minorgridcolor\": \"white\", \"startlinecolor\": \"#2a3f5f\"}, \"type\": \"carpet\"}], \"choropleth\": [{\"colorbar\": {\"outlinewidth\": 0, \"ticks\": \"\"}, \"type\": \"choropleth\"}], \"contour\": [{\"colorbar\": {\"outlinewidth\": 0, \"ticks\": \"\"}, \"colorscale\": [[0.0, \"#0d0887\"], [0.1111111111111111, \"#46039f\"], [0.2222222222222222, \"#7201a8\"], [0.3333333333333333, \"#9c179e\"], [0.4444444444444444, \"#bd3786\"], [0.5555555555555556, \"#d8576b\"], [0.6666666666666666, \"#ed7953\"], [0.7777777777777778, \"#fb9f3a\"], [0.8888888888888888, \"#fdca26\"], [1.0, \"#f0f921\"]], \"type\": \"contour\"}], \"contourcarpet\": [{\"colorbar\": {\"outlinewidth\": 0, \"ticks\": \"\"}, \"type\": \"contourcarpet\"}], \"heatmap\": [{\"colorbar\": {\"outlinewidth\": 0, \"ticks\": \"\"}, \"colorscale\": [[0.0, \"#0d0887\"], [0.1111111111111111, \"#46039f\"], [0.2222222222222222, \"#7201a8\"], [0.3333333333333333, \"#9c179e\"], [0.4444444444444444, \"#bd3786\"], [0.5555555555555556, \"#d8576b\"], [0.6666666666666666, \"#ed7953\"], [0.7777777777777778, \"#fb9f3a\"], [0.8888888888888888, \"#fdca26\"], [1.0, \"#f0f921\"]], \"type\": \"heatmap\"}], \"heatmapgl\": [{\"colorbar\": {\"outlinewidth\": 0, \"ticks\": \"\"}, \"colorscale\": [[0.0, \"#0d0887\"], [0.1111111111111111, \"#46039f\"], [0.2222222222222222, \"#7201a8\"], [0.3333333333333333, \"#9c179e\"], [0.4444444444444444, \"#bd3786\"], [0.5555555555555556, \"#d8576b\"], [0.6666666666666666, \"#ed7953\"], [0.7777777777777778, \"#fb9f3a\"], [0.8888888888888888, \"#fdca26\"], [1.0, \"#f0f921\"]], \"type\": \"heatmapgl\"}], \"histogram\": [{\"marker\": {\"colorbar\": {\"outlinewidth\": 0, \"ticks\": \"\"}}, \"type\": \"histogram\"}], \"histogram2d\": [{\"colorbar\": {\"outlinewidth\": 0, \"ticks\": \"\"}, \"colorscale\": [[0.0, \"#0d0887\"], [0.1111111111111111, \"#46039f\"], [0.2222222222222222, \"#7201a8\"], [0.3333333333333333, \"#9c179e\"], [0.4444444444444444, \"#bd3786\"], [0.5555555555555556, \"#d8576b\"], [0.6666666666666666, \"#ed7953\"], [0.7777777777777778, \"#fb9f3a\"], [0.8888888888888888, \"#fdca26\"], [1.0, \"#f0f921\"]], \"type\": \"histogram2d\"}], \"histogram2dcontour\": [{\"colorbar\": {\"outlinewidth\": 0, \"ticks\": \"\"}, \"colorscale\": [[0.0, \"#0d0887\"], [0.1111111111111111, \"#46039f\"], [0.2222222222222222, \"#7201a8\"], [0.3333333333333333, \"#9c179e\"], [0.4444444444444444, \"#bd3786\"], [0.5555555555555556, \"#d8576b\"], [0.6666666666666666, \"#ed7953\"], [0.7777777777777778, \"#fb9f3a\"], [0.8888888888888888, \"#fdca26\"], [1.0, \"#f0f921\"]], \"type\": \"histogram2dcontour\"}], \"mesh3d\": [{\"colorbar\": {\"outlinewidth\": 0, \"ticks\": \"\"}, \"type\": \"mesh3d\"}], \"parcoords\": [{\"line\": {\"colorbar\": {\"outlinewidth\": 0, \"ticks\": \"\"}}, \"type\": \"parcoords\"}], \"pie\": [{\"automargin\": true, \"type\": \"pie\"}], \"scatter\": [{\"marker\": {\"colorbar\": {\"outlinewidth\": 0, \"ticks\": \"\"}}, \"type\": \"scatter\"}], \"scatter3d\": [{\"line\": {\"colorbar\": {\"outlinewidth\": 0, \"ticks\": \"\"}}, \"marker\": {\"colorbar\": {\"outlinewidth\": 0, \"ticks\": \"\"}}, \"type\": \"scatter3d\"}], \"scattercarpet\": [{\"marker\": {\"colorbar\": {\"outlinewidth\": 0, \"ticks\": \"\"}}, \"type\": \"scattercarpet\"}], \"scattergeo\": [{\"marker\": {\"colorbar\": {\"outlinewidth\": 0, \"ticks\": \"\"}}, \"type\": \"scattergeo\"}], \"scattergl\": [{\"marker\": {\"colorbar\": {\"outlinewidth\": 0, \"ticks\": \"\"}}, \"type\": \"scattergl\"}], \"scattermapbox\": [{\"marker\": {\"colorbar\": {\"outlinewidth\": 0, \"ticks\": \"\"}}, \"type\": \"scattermapbox\"}], \"scatterpolar\": [{\"marker\": {\"colorbar\": {\"outlinewidth\": 0, \"ticks\": \"\"}}, \"type\": \"scatterpolar\"}], \"scatterpolargl\": [{\"marker\": {\"colorbar\": {\"outlinewidth\": 0, \"ticks\": \"\"}}, \"type\": \"scatterpolargl\"}], \"scatterternary\": [{\"marker\": {\"colorbar\": {\"outlinewidth\": 0, \"ticks\": \"\"}}, \"type\": \"scatterternary\"}], \"surface\": [{\"colorbar\": {\"outlinewidth\": 0, \"ticks\": \"\"}, \"colorscale\": [[0.0, \"#0d0887\"], [0.1111111111111111, \"#46039f\"], [0.2222222222222222, \"#7201a8\"], [0.3333333333333333, \"#9c179e\"], [0.4444444444444444, \"#bd3786\"], [0.5555555555555556, \"#d8576b\"], [0.6666666666666666, \"#ed7953\"], [0.7777777777777778, \"#fb9f3a\"], [0.8888888888888888, \"#fdca26\"], [1.0, \"#f0f921\"]], \"type\": \"surface\"}], \"table\": [{\"cells\": {\"fill\": {\"color\": \"#EBF0F8\"}, \"line\": {\"color\": \"white\"}}, \"header\": {\"fill\": {\"color\": \"#C8D4E3\"}, \"line\": {\"color\": \"white\"}}, \"type\": \"table\"}]}, \"layout\": {\"annotationdefaults\": {\"arrowcolor\": \"#2a3f5f\", \"arrowhead\": 0, \"arrowwidth\": 1}, \"coloraxis\": {\"colorbar\": {\"outlinewidth\": 0, \"ticks\": \"\"}}, \"colorscale\": {\"diverging\": [[0, \"#8e0152\"], [0.1, \"#c51b7d\"], [0.2, \"#de77ae\"], [0.3, \"#f1b6da\"], [0.4, \"#fde0ef\"], [0.5, \"#f7f7f7\"], [0.6, \"#e6f5d0\"], [0.7, \"#b8e186\"], [0.8, \"#7fbc41\"], [0.9, \"#4d9221\"], [1, \"#276419\"]], \"sequential\": [[0.0, \"#0d0887\"], [0.1111111111111111, \"#46039f\"], [0.2222222222222222, \"#7201a8\"], [0.3333333333333333, \"#9c179e\"], [0.4444444444444444, \"#bd3786\"], [0.5555555555555556, \"#d8576b\"], [0.6666666666666666, \"#ed7953\"], [0.7777777777777778, \"#fb9f3a\"], [0.8888888888888888, \"#fdca26\"], [1.0, \"#f0f921\"]], \"sequentialminus\": [[0.0, \"#0d0887\"], [0.1111111111111111, \"#46039f\"], [0.2222222222222222, \"#7201a8\"], [0.3333333333333333, \"#9c179e\"], [0.4444444444444444, \"#bd3786\"], [0.5555555555555556, \"#d8576b\"], [0.6666666666666666, \"#ed7953\"], [0.7777777777777778, \"#fb9f3a\"], [0.8888888888888888, \"#fdca26\"], [1.0, \"#f0f921\"]]}, \"colorway\": [\"#636efa\", \"#EF553B\", \"#00cc96\", \"#ab63fa\", \"#FFA15A\", \"#19d3f3\", \"#FF6692\", \"#B6E880\", \"#FF97FF\", \"#FECB52\"], \"font\": {\"color\": \"#2a3f5f\"}, \"geo\": {\"bgcolor\": \"white\", \"lakecolor\": \"white\", \"landcolor\": \"#E5ECF6\", \"showlakes\": true, \"showland\": true, \"subunitcolor\": \"white\"}, \"hoverlabel\": {\"align\": \"left\"}, \"hovermode\": \"closest\", \"mapbox\": {\"style\": \"light\"}, \"paper_bgcolor\": \"white\", \"plot_bgcolor\": \"#E5ECF6\", \"polar\": {\"angularaxis\": {\"gridcolor\": \"white\", \"linecolor\": \"white\", \"ticks\": \"\"}, \"bgcolor\": \"#E5ECF6\", \"radialaxis\": {\"gridcolor\": \"white\", \"linecolor\": \"white\", \"ticks\": \"\"}}, \"scene\": {\"xaxis\": {\"backgroundcolor\": \"#E5ECF6\", \"gridcolor\": \"white\", \"gridwidth\": 2, \"linecolor\": \"white\", \"showbackground\": true, \"ticks\": \"\", \"zerolinecolor\": \"white\"}, \"yaxis\": {\"backgroundcolor\": \"#E5ECF6\", \"gridcolor\": \"white\", \"gridwidth\": 2, \"linecolor\": \"white\", \"showbackground\": true, \"ticks\": \"\", \"zerolinecolor\": \"white\"}, \"zaxis\": {\"backgroundcolor\": \"#E5ECF6\", \"gridcolor\": \"white\", \"gridwidth\": 2, \"linecolor\": \"white\", \"showbackground\": true, \"ticks\": \"\", \"zerolinecolor\": \"white\"}}, \"shapedefaults\": {\"line\": {\"color\": \"#2a3f5f\"}}, \"ternary\": {\"aaxis\": {\"gridcolor\": \"white\", \"linecolor\": \"white\", \"ticks\": \"\"}, \"baxis\": {\"gridcolor\": \"white\", \"linecolor\": \"white\", \"ticks\": \"\"}, \"bgcolor\": \"#E5ECF6\", \"caxis\": {\"gridcolor\": \"white\", \"linecolor\": \"white\", \"ticks\": \"\"}}, \"title\": {\"x\": 0.05}, \"xaxis\": {\"automargin\": true, \"gridcolor\": \"white\", \"linecolor\": \"white\", \"ticks\": \"\", \"title\": {\"standoff\": 15}, \"zerolinecolor\": \"white\", \"zerolinewidth\": 2}, \"yaxis\": {\"automargin\": true, \"gridcolor\": \"white\", \"linecolor\": \"white\", \"ticks\": \"\", \"title\": {\"standoff\": 15}, \"zerolinecolor\": \"white\", \"zerolinewidth\": 2}}}, \"title\": {\"text\": \"y vs ts\"}, \"xaxis\": {\"title\": {\"text\": \"ts\"}}, \"yaxis\": {\"title\": {\"text\": \"y\"}}},                        {\"responsive\": true}                    ).then(function(){\n",
       "                            \n",
       "var gd = document.getElementById('67095576-dbcf-4235-a9ed-d84aeb9480b5');\n",
       "var x = new MutationObserver(function (mutations, observer) {{\n",
       "        var display = window.getComputedStyle(gd).display;\n",
       "        if (!display || display === 'none') {{\n",
       "            console.log([gd, 'removed!']);\n",
       "            Plotly.purge(gd);\n",
       "            observer.disconnect();\n",
       "        }}\n",
       "}});\n",
       "\n",
       "// Listen for the removal of the full notebook cells\n",
       "var notebookContainer = gd.closest('#notebook-container');\n",
       "if (notebookContainer) {{\n",
       "    x.observe(notebookContainer, {childList: true});\n",
       "}}\n",
       "\n",
       "// Listen for the clearing of the current output cell\n",
       "var outputEl = gd.closest('.output');\n",
       "if (outputEl) {{\n",
       "    x.observe(outputEl, {childList: true});\n",
       "}}\n",
       "\n",
       "                        })                };                });            </script>        </div>"
      ]
     },
     "metadata": {},
     "output_type": "display_data"
    }
   ],
   "source": [
    "ts = result.timeseries\n",
    "fig = ts.plot()\n",
    "plotly.io.show(fig)"
   ]
  },
  {
   "cell_type": "code",
   "execution_count": 140,
   "metadata": {},
   "outputs": [
    {
     "data": {
      "text/html": [
       "        <script type=\"text/javascript\">\n",
       "        window.PlotlyConfig = {MathJaxConfig: 'local'};\n",
       "        if (window.MathJax) {MathJax.Hub.Config({SVG: {font: \"STIX-Web\"}});}\n",
       "        if (typeof require !== 'undefined') {\n",
       "        require.undef(\"plotly\");\n",
       "        requirejs.config({\n",
       "            paths: {\n",
       "                'plotly': ['https://cdn.plot.ly/plotly-latest.min']\n",
       "            }\n",
       "        });\n",
       "        require(['plotly'], function(Plotly) {\n",
       "            window._Plotly = Plotly;\n",
       "        });\n",
       "        }\n",
       "        </script>\n",
       "        "
      ]
     },
     "metadata": {},
     "output_type": "display_data"
    },
    {
     "data": {
      "application/vnd.plotly.v1+json": {
       "config": {
        "linkText": "Export to plot.ly",
        "plotlyServerURL": "https://plot.ly",
        "showLink": false
       },
       "data": [
        {
         "legendgroup": "interval",
         "line": {
          "color": "rgba(0, 90, 181, 0.5)",
          "width": 0
         },
         "mode": "lines",
         "name": "Lower Bound",
         "type": "scatter",
         "x": [
          "2020-04-01T00:00:00",
          "2020-04-02T00:00:00",
          "2020-04-03T00:00:00",
          "2020-04-04T00:00:00",
          "2020-04-05T00:00:00",
          "2020-04-06T00:00:00",
          "2020-04-07T00:00:00",
          "2020-04-08T00:00:00",
          "2020-04-09T00:00:00",
          "2020-04-10T00:00:00",
          "2020-04-11T00:00:00",
          "2020-04-12T00:00:00",
          "2020-04-13T00:00:00",
          "2020-04-14T00:00:00",
          "2020-04-15T00:00:00",
          "2020-04-16T00:00:00",
          "2020-04-17T00:00:00",
          "2020-04-18T00:00:00",
          "2020-04-19T00:00:00",
          "2020-04-20T00:00:00",
          "2020-04-21T00:00:00",
          "2020-04-22T00:00:00",
          "2020-04-23T00:00:00",
          "2020-04-24T00:00:00",
          "2020-04-25T00:00:00",
          "2020-04-26T00:00:00",
          "2020-04-27T00:00:00",
          "2020-04-28T00:00:00",
          "2020-04-29T00:00:00",
          "2020-04-30T00:00:00",
          "2020-05-01T00:00:00",
          "2020-05-02T00:00:00",
          "2020-05-03T00:00:00",
          "2020-05-04T00:00:00",
          "2020-05-05T00:00:00",
          "2020-05-06T00:00:00",
          "2020-05-07T00:00:00",
          "2020-05-08T00:00:00",
          "2020-05-09T00:00:00",
          "2020-05-10T00:00:00",
          "2020-05-11T00:00:00",
          "2020-05-12T00:00:00",
          "2020-05-13T00:00:00",
          "2020-05-14T00:00:00",
          "2020-05-15T00:00:00",
          "2020-05-16T00:00:00",
          "2020-05-17T00:00:00",
          "2020-05-18T00:00:00",
          "2020-05-19T00:00:00",
          "2020-05-20T00:00:00",
          "2020-05-21T00:00:00",
          "2020-05-22T00:00:00",
          "2020-05-23T00:00:00",
          "2020-05-24T00:00:00",
          "2020-05-25T00:00:00",
          "2020-05-26T00:00:00",
          "2020-05-27T00:00:00",
          "2020-05-28T00:00:00",
          "2020-05-29T00:00:00",
          "2020-05-30T00:00:00",
          "2020-05-31T00:00:00",
          "2020-06-01T00:00:00",
          "2020-06-02T00:00:00",
          "2020-06-03T00:00:00",
          "2020-06-04T00:00:00",
          "2020-06-05T00:00:00",
          "2020-06-06T00:00:00",
          "2020-06-07T00:00:00",
          "2020-06-08T00:00:00",
          "2020-06-09T00:00:00",
          "2020-06-10T00:00:00",
          "2020-06-11T00:00:00",
          "2020-06-12T00:00:00",
          "2020-06-13T00:00:00",
          "2020-06-14T00:00:00",
          "2020-06-15T00:00:00",
          "2020-06-16T00:00:00",
          "2020-06-17T00:00:00",
          "2020-06-18T00:00:00",
          "2020-06-19T00:00:00",
          "2020-06-20T00:00:00",
          "2020-06-21T00:00:00",
          "2020-06-22T00:00:00",
          "2020-06-23T00:00:00",
          "2020-06-24T00:00:00",
          "2020-06-25T00:00:00",
          "2020-06-26T00:00:00",
          "2020-06-27T00:00:00",
          "2020-06-28T00:00:00",
          "2020-06-29T00:00:00",
          "2020-06-30T00:00:00",
          "2020-07-01T00:00:00",
          "2020-07-02T00:00:00",
          "2020-07-03T00:00:00",
          "2020-07-04T00:00:00",
          "2020-07-05T00:00:00",
          "2020-07-06T00:00:00",
          "2020-07-07T00:00:00",
          "2020-07-08T00:00:00",
          "2020-07-09T00:00:00",
          "2020-07-10T00:00:00",
          "2020-07-11T00:00:00",
          "2020-07-12T00:00:00",
          "2020-07-13T00:00:00",
          "2020-07-14T00:00:00",
          "2020-07-15T00:00:00",
          "2020-07-16T00:00:00",
          "2020-07-17T00:00:00",
          "2020-07-18T00:00:00",
          "2020-07-19T00:00:00",
          "2020-07-20T00:00:00",
          "2020-07-21T00:00:00",
          "2020-07-22T00:00:00",
          "2020-07-23T00:00:00",
          "2020-07-24T00:00:00",
          "2020-07-25T00:00:00",
          "2020-07-26T00:00:00",
          "2020-07-27T00:00:00",
          "2020-07-28T00:00:00",
          "2020-07-29T00:00:00",
          "2020-07-30T00:00:00",
          "2020-07-31T00:00:00",
          "2020-08-01T00:00:00",
          "2020-08-02T00:00:00",
          "2020-08-03T00:00:00",
          "2020-08-04T00:00:00",
          "2020-08-05T00:00:00",
          "2020-08-06T00:00:00",
          "2020-08-07T00:00:00",
          "2020-08-08T00:00:00",
          "2020-08-09T00:00:00",
          "2020-08-10T00:00:00",
          "2020-08-11T00:00:00",
          "2020-08-12T00:00:00",
          "2020-08-13T00:00:00",
          "2020-08-14T00:00:00",
          "2020-08-15T00:00:00",
          "2020-08-16T00:00:00",
          "2020-08-17T00:00:00",
          "2020-08-18T00:00:00",
          "2020-08-19T00:00:00",
          "2020-08-20T00:00:00",
          "2020-08-21T00:00:00",
          "2020-08-22T00:00:00",
          "2020-08-23T00:00:00",
          "2020-08-24T00:00:00",
          "2020-08-25T00:00:00",
          "2020-08-26T00:00:00",
          "2020-08-27T00:00:00",
          "2020-08-28T00:00:00",
          "2020-08-29T00:00:00",
          "2020-08-30T00:00:00",
          "2020-08-31T00:00:00",
          "2020-09-01T00:00:00",
          "2020-09-02T00:00:00",
          "2020-09-03T00:00:00",
          "2020-09-04T00:00:00",
          "2020-09-05T00:00:00",
          "2020-09-06T00:00:00",
          "2020-09-07T00:00:00",
          "2020-09-08T00:00:00",
          "2020-09-09T00:00:00",
          "2020-09-10T00:00:00",
          "2020-09-11T00:00:00",
          "2020-09-12T00:00:00",
          "2020-09-13T00:00:00",
          "2020-09-14T00:00:00",
          "2020-09-15T00:00:00",
          "2020-09-16T00:00:00",
          "2020-09-17T00:00:00",
          "2020-09-18T00:00:00",
          "2020-09-19T00:00:00",
          "2020-09-20T00:00:00",
          "2020-09-21T00:00:00",
          "2020-09-22T00:00:00",
          "2020-09-23T00:00:00",
          "2020-09-24T00:00:00",
          "2020-09-25T00:00:00",
          "2020-09-26T00:00:00",
          "2020-09-27T00:00:00",
          "2020-09-28T00:00:00",
          "2020-09-29T00:00:00",
          "2020-09-30T00:00:00",
          "2020-10-01T00:00:00",
          "2020-10-02T00:00:00",
          "2020-10-03T00:00:00",
          "2020-10-04T00:00:00",
          "2020-10-05T00:00:00",
          "2020-10-06T00:00:00",
          "2020-10-07T00:00:00",
          "2020-10-08T00:00:00",
          "2020-10-09T00:00:00",
          "2020-10-10T00:00:00",
          "2020-10-11T00:00:00",
          "2020-10-12T00:00:00",
          "2020-10-13T00:00:00",
          "2020-10-14T00:00:00",
          "2020-10-15T00:00:00",
          "2020-10-16T00:00:00",
          "2020-10-17T00:00:00",
          "2020-10-18T00:00:00",
          "2020-10-19T00:00:00",
          "2020-10-20T00:00:00",
          "2020-10-21T00:00:00",
          "2020-10-22T00:00:00",
          "2020-10-23T00:00:00",
          "2020-10-24T00:00:00",
          "2020-10-25T00:00:00",
          "2020-10-26T00:00:00",
          "2020-10-27T00:00:00",
          "2020-10-28T00:00:00",
          "2020-10-29T00:00:00",
          "2020-10-30T00:00:00",
          "2020-10-31T00:00:00",
          "2020-11-01T00:00:00",
          "2020-11-02T00:00:00",
          "2020-11-03T00:00:00",
          "2020-11-04T00:00:00",
          "2020-11-05T00:00:00",
          "2020-11-06T00:00:00",
          "2020-11-07T00:00:00",
          "2020-11-08T00:00:00",
          "2020-11-09T00:00:00",
          "2020-11-10T00:00:00",
          "2020-11-11T00:00:00",
          "2020-11-12T00:00:00",
          "2020-11-13T00:00:00",
          "2020-11-14T00:00:00",
          "2020-11-15T00:00:00",
          "2020-11-16T00:00:00",
          "2020-11-17T00:00:00",
          "2020-11-18T00:00:00",
          "2020-11-19T00:00:00",
          "2020-11-20T00:00:00",
          "2020-11-21T00:00:00",
          "2020-11-22T00:00:00",
          "2020-11-23T00:00:00",
          "2020-11-24T00:00:00",
          "2020-11-25T00:00:00",
          "2020-11-26T00:00:00",
          "2020-11-27T00:00:00",
          "2020-11-28T00:00:00",
          "2020-11-29T00:00:00",
          "2020-11-30T00:00:00",
          "2020-12-01T00:00:00",
          "2020-12-02T00:00:00",
          "2020-12-03T00:00:00",
          "2020-12-04T00:00:00",
          "2020-12-05T00:00:00",
          "2020-12-06T00:00:00",
          "2020-12-07T00:00:00",
          "2020-12-08T00:00:00",
          "2020-12-09T00:00:00",
          "2020-12-10T00:00:00",
          "2020-12-11T00:00:00",
          "2020-12-12T00:00:00",
          "2020-12-13T00:00:00",
          "2020-12-14T00:00:00",
          "2020-12-15T00:00:00",
          "2020-12-16T00:00:00",
          "2020-12-17T00:00:00",
          "2020-12-18T00:00:00",
          "2020-12-19T00:00:00",
          "2020-12-20T00:00:00",
          "2020-12-21T00:00:00",
          "2020-12-22T00:00:00",
          "2020-12-23T00:00:00",
          "2020-12-24T00:00:00",
          "2020-12-25T00:00:00",
          "2020-12-26T00:00:00",
          "2020-12-27T00:00:00",
          "2020-12-28T00:00:00",
          "2020-12-29T00:00:00",
          "2020-12-30T00:00:00",
          "2020-12-31T00:00:00",
          "2021-01-01T00:00:00",
          "2021-01-02T00:00:00",
          "2021-01-03T00:00:00",
          "2021-01-04T00:00:00",
          "2021-01-05T00:00:00",
          "2021-01-06T00:00:00",
          "2021-01-07T00:00:00",
          "2021-01-08T00:00:00",
          "2021-01-09T00:00:00",
          "2021-01-10T00:00:00",
          "2021-01-11T00:00:00",
          "2021-01-12T00:00:00",
          "2021-01-13T00:00:00",
          "2021-01-14T00:00:00",
          "2021-01-15T00:00:00",
          "2021-01-16T00:00:00",
          "2021-01-17T00:00:00",
          "2021-01-18T00:00:00",
          "2021-01-19T00:00:00",
          "2021-01-20T00:00:00",
          "2021-01-21T00:00:00",
          "2021-01-22T00:00:00",
          "2021-01-23T00:00:00",
          "2021-01-24T00:00:00",
          "2021-01-25T00:00:00",
          "2021-01-26T00:00:00",
          "2021-01-27T00:00:00",
          "2021-01-28T00:00:00",
          "2021-01-29T00:00:00",
          "2021-01-30T00:00:00",
          "2021-01-31T00:00:00",
          "2021-02-01T00:00:00",
          "2021-02-02T00:00:00",
          "2021-02-03T00:00:00",
          "2021-02-04T00:00:00",
          "2021-02-05T00:00:00",
          "2021-02-06T00:00:00",
          "2021-02-07T00:00:00",
          "2021-02-08T00:00:00",
          "2021-02-09T00:00:00",
          "2021-02-10T00:00:00",
          "2021-02-11T00:00:00",
          "2021-02-12T00:00:00",
          "2021-02-13T00:00:00",
          "2021-02-14T00:00:00",
          "2021-02-15T00:00:00",
          "2021-02-16T00:00:00",
          "2021-02-17T00:00:00",
          "2021-02-18T00:00:00",
          "2021-02-19T00:00:00",
          "2021-02-20T00:00:00",
          "2021-02-21T00:00:00",
          "2021-02-22T00:00:00",
          "2021-02-23T00:00:00",
          "2021-02-24T00:00:00",
          "2021-02-25T00:00:00",
          "2021-02-26T00:00:00",
          "2021-02-27T00:00:00",
          "2021-02-28T00:00:00",
          "2021-03-01T00:00:00",
          "2021-03-02T00:00:00",
          "2021-03-03T00:00:00",
          "2021-03-04T00:00:00",
          "2021-03-05T00:00:00",
          "2021-03-06T00:00:00",
          "2021-03-07T00:00:00",
          "2021-03-08T00:00:00",
          "2021-03-09T00:00:00",
          "2021-03-10T00:00:00",
          "2021-03-11T00:00:00",
          "2021-03-12T00:00:00",
          "2021-03-13T00:00:00",
          "2021-03-14T00:00:00",
          "2021-03-15T00:00:00",
          "2021-03-16T00:00:00",
          "2021-03-17T00:00:00",
          "2021-03-18T00:00:00",
          "2021-03-19T00:00:00",
          "2021-03-20T00:00:00",
          "2021-03-21T00:00:00",
          "2021-03-22T00:00:00",
          "2021-03-23T00:00:00",
          "2021-03-24T00:00:00",
          "2021-03-25T00:00:00",
          "2021-03-26T00:00:00",
          "2021-03-27T00:00:00",
          "2021-03-28T00:00:00",
          "2021-03-29T00:00:00",
          "2021-03-30T00:00:00",
          "2021-03-31T00:00:00"
         ],
         "y": [
          -3872889.644937067,
          -707342.3930459279,
          -159514.3464427297,
          -385146.25930235593,
          -368353.67711043195,
          -708674.5096043226,
          48929.38768112974,
          -3973127.447181017,
          -829528.010482572,
          -262762.76744367694,
          -453682.0727542889,
          -419589.01214633405,
          -744605.1952907286,
          30260.82960320369,
          -3982001.5980060347,
          -802764.2554925308,
          -245256.2035688687,
          -434937.0763610295,
          -391196.62170328246,
          -715314.05089004,
          50334.60451219941,
          -3967933.491008552,
          -802964.0361379712,
          -253557.24691850925,
          -448604.0383808606,
          -406631.7984693224,
          -728459.9875995506,
          42733.329881795915,
          -3958420.2265677685,
          -783467.6365961827,
          -242820.5550833193,
          -420677.8825818711,
          -370733.0526016586,
          -697404.0137612498,
          71979.60439716803,
          -3933982.3760683425,
          -766983.1038431424,
          -235798.87842337217,
          -424676.2170460719,
          -395574.4955319539,
          -717819.6856676529,
          48104.460663697915,
          -3967066.420993387,
          -798461.9584174177,
          -243517.5323738173,
          -432888.18540577276,
          -385547.2843153643,
          -702304.2643476508,
          81130.47872829263,
          -3927335.6765125035,
          -775406.8377348986,
          -205476.29961733334,
          -400185.15854604787,
          -375262.64885064436,
          -712414.7202928109,
          49777.05515558366,
          -3975841.3598438036,
          -810708.4951755073,
          -253681.83553625608,
          -437461.1366294841,
          -407626.4620139267,
          -729207.933596824,
          53601.1407888215,
          -3947635.783733653,
          -757864.1776876923,
          -186304.56015941757,
          -361084.49547971087,
          -301525.7555791378,
          -608098.5297313698,
          172497.28433836834,
          -3834573.1460974775,
          -667331.3305217583,
          -120072.50725997414,
          -323469.95916356565,
          -294015.4665995642,
          -629045.74231554,
          127017.59419896116,
          -3898360.940625371,
          -742176.571795128,
          -197205.87809638563,
          -394488.99093615345,
          -351316.264283511,
          -666476.9911575768,
          122301.94520127412,
          -3877342.0658606887,
          -716876.7838615126,
          -145674.37823790777,
          -341106.19801823434,
          -291182.0642342579,
          -611927.4896762241,
          154003.36723352212,
          -3857809.0387368384,
          -703962.3640249177,
          -186039.84886250598,
          -389601.6267898241,
          -375976.1089773275,
          -709142.726110216,
          46648.993687510374,
          -3977682.756049291,
          -821110.2618603711,
          -265569.87981899583,
          -460767.0266672401,
          -425630.4409350025,
          -730269.7653120927,
          21622.19690003444,
          -3969358.370997761,
          -806118.2850936274,
          -245563.66261889006,
          -438087.1960080429,
          -396081.8999735203,
          -716589.591174045,
          52726.13260187418,
          -3961545.031912824,
          -800088.0155682445,
          -252443.08367133245,
          -450938.81029138307,
          -411494.38018914685,
          -730578.0990986597,
          43475.579589560395,
          -3963444.5074982904,
          -793695.7000425651,
          -237371.46125022962,
          -418880.1905559016,
          -372218.44340771635,
          -705472.9005841002,
          77395.36002844176,
          -3941731.7137575014,
          -774960.0610052589,
          -227926.94147359487,
          -429133.9430241849,
          -393942.3411599413,
          -717744.2407133584,
          50933.72930625465,
          -3961246.11965733,
          -788285.6237637372,
          -234297.03312874655,
          -444143.3989067605,
          -390483.74606658635,
          -711734.0044343125,
          70961.5089772715,
          -3934714.705611229,
          -768210.229645046,
          -217434.54651365837,
          -416676.99972538033,
          -381504.3858956547,
          -706962.0546012681,
          57661.61563527607,
          -3960495.381547094,
          -795198.0849113095,
          -249109.4535842809,
          -457106.921414625,
          -405711.49858012795,
          -744691.0794642852,
          51244.041542657185,
          -3953215.500733504,
          -759429.2525276373,
          -188711.6188560964,
          -383920.0746928749,
          -306853.6000620349,
          -614829.1717498148,
          160359.5622945053,
          -3818207.150134071,
          -669829.4978453969,
          -115864.23215192859,
          -319028.0668139792,
          -289107.8100817967,
          -619404.8350278167,
          140281.43205537566,
          -3882280.1940106414,
          -731773.2878547113,
          -191460.16975086124,
          -395487.69039751054,
          -358165.4009846151,
          -673556.5142977631,
          106320.4375663856,
          -3893089.9064892232,
          -719704.4990004104,
          -158712.2052395309,
          -346895.40030361374,
          -300220.081279967,
          -613567.7001526305,
          169784.93171215488,
          -3831842.822896204,
          -693925.1088226752,
          -164921.7233028086,
          -378401.17632011685,
          -361330.815709651,
          -692634.4039763383,
          63941.96047016606,
          -3959581.82175328,
          -810184.2291486408,
          -269618.2025142206,
          -464038.6017074038,
          -424950.1873921928,
          -757066.5120601816,
          31255.77075925446,
          -3978621.3275502175,
          -805880.6660088747,
          -250281.7621038676,
          -444274.63228195626,
          -402431.8376154399,
          -717795.1753649144,
          56474.72203252744,
          -3952918.65405518,
          -794592.1017263553,
          -248845.93040401652,
          -451396.3011090567,
          -415444.9327812244,
          -732957.9557970719,
          52218.10998804576,
          -3950596.215470217,
          -802458.6522675824,
          -229357.48246430908,
          -420283.3040414585,
          -387435.18927176495,
          -706658.5494815772,
          73081.86190087942,
          -3935880.87213412,
          -770854.9295506431,
          -223967.95002295345,
          -427364.65446063527,
          -393963.0272789147,
          -705608.5124938881,
          67248.21595763392,
          -3960025.5443498734,
          -782079.9084689276,
          -237588.3061588807,
          -450058.95045715733,
          -399181.6986786651,
          -718330.7673885975,
          67372.93245954264,
          -3933511.2201123103,
          -768852.9688531226,
          -217468.0928446632,
          -417356.75505001505,
          -381829.0457449986,
          -701969.1623697034,
          67304.75152211252,
          -3946778.573133258,
          -794995.6948567103,
          -254108.3350074133,
          -451389.2787103453,
          -414919.2904629251,
          -746648.8526294595,
          43837.78420910402,
          -3960860.133052432,
          -783429.9099550084,
          -218410.18585949275,
          -400398.3001471774,
          -343372.9191818187,
          -639276.0888057894,
          154416.6784548912,
          -3837030.4265454016,
          -667973.3310711964,
          -114992.87158332695,
          -316513.1840122596,
          -284664.55548093014,
          -608823.4872054383,
          155729.87761729222,
          -3863019.2394667333,
          -717509.6506808975,
          -181531.0994181733,
          -392351.36938585027,
          -361285.6599469058,
          -677631.3783247876,
          101836.99827716302,
          -3887455.8752083527,
          -705665.5677160127,
          -163228.49865949864,
          -352886.61053249065,
          -302432.9429356861,
          -620126.9902195953,
          177112.61311219446,
          -3843000.71852955,
          -663973.4149774755,
          -148594.0669627434,
          -357380.7251607276,
          -334298.87740375544,
          -687216.1637606894,
          85413.28853983502,
          -3944790.7794042276,
          -797485.8616747236,
          -261945.036567103,
          -472407.96277272434,
          -440333.4452398468,
          -754759.5952159629,
          25703.07903980289,
          -3973110.949496757,
          -808565.6309187053,
          -254101.42465967685,
          -440793.2261635106,
          -397993.3971484556,
          -725781.2494835447,
          62454.41966591345,
          -3950482.745196197,
          -790757.4420346436,
          -246567.93895628862,
          -452571.2880397906,
          -409832.77052092284,
          -723039.8491937865,
          38273.56973802298,
          -3953785.4607048407,
          -800945.3315021519,
          -244173.99221054337,
          -441307.1173472225,
          -399613.9811441266,
          -707624.4890112287,
          74794.65391759935,
          -3926054.2329095574,
          -768558.5051176458,
          -222934.3874437915,
          -429280.2299161508,
          -397941.33685761096,
          -715736.9354520952,
          58437.25499654503,
          -3948193.2738092914,
          -792957.5496356878,
          -245957.2489396294,
          -437853.8657199447,
          -396742.8567464205,
          -721123.7909193586,
          73046.45699482819,
          -3932142.859427508,
          -766548.6155795504,
          -216892.90639478003,
          -420174.08063931705,
          -387110.10593109217,
          -704436.0735316612,
          67862.93918881251,
          -3942574.3850898887,
          -794651.7262152624,
          -255268.30709561508,
          -464401.82327114174,
          -431241.79114927235,
          -741476.9159985052,
          44482.67735218664,
          -3946496.3838622635,
          -775439.4970613492,
          -210633.01400947536,
          -394792.05192176544,
          -339483.8182732059,
          -632461.3634221477,
          163520.4435791747,
          -3825904.2572087487,
          -662777.739489147,
          -114175.87596020428,
          -321707.3803432367,
          -294622.68744554836,
          -608222.7096137446,
          160094.04849618534,
          -3872287.6761687165,
          -720338.7333454185,
          -192653.9618149012,
          -399753.5749976239,
          -367781.9603563113,
          -677598.1658466273,
          108398.62864397082,
          -3883662.1866223975,
          -717340.4048660372,
          -149842.5637306174,
          -342089.40405692393,
          -316118.04930064816,
          -613115.9369321357,
          169012.82754099497,
          -3830234.7652656715
         ]
        },
        {
         "fill": "tonexty",
         "fillcolor": "rgba(0, 90, 181, 0.15)",
         "legendgroup": "interval",
         "line": {
          "color": "rgba(0, 90, 181, 0.5)",
          "width": 0
         },
         "mode": "lines",
         "name": "Upper Bound",
         "type": "scatter",
         "x": [
          "2020-04-01T00:00:00",
          "2020-04-02T00:00:00",
          "2020-04-03T00:00:00",
          "2020-04-04T00:00:00",
          "2020-04-05T00:00:00",
          "2020-04-06T00:00:00",
          "2020-04-07T00:00:00",
          "2020-04-08T00:00:00",
          "2020-04-09T00:00:00",
          "2020-04-10T00:00:00",
          "2020-04-11T00:00:00",
          "2020-04-12T00:00:00",
          "2020-04-13T00:00:00",
          "2020-04-14T00:00:00",
          "2020-04-15T00:00:00",
          "2020-04-16T00:00:00",
          "2020-04-17T00:00:00",
          "2020-04-18T00:00:00",
          "2020-04-19T00:00:00",
          "2020-04-20T00:00:00",
          "2020-04-21T00:00:00",
          "2020-04-22T00:00:00",
          "2020-04-23T00:00:00",
          "2020-04-24T00:00:00",
          "2020-04-25T00:00:00",
          "2020-04-26T00:00:00",
          "2020-04-27T00:00:00",
          "2020-04-28T00:00:00",
          "2020-04-29T00:00:00",
          "2020-04-30T00:00:00",
          "2020-05-01T00:00:00",
          "2020-05-02T00:00:00",
          "2020-05-03T00:00:00",
          "2020-05-04T00:00:00",
          "2020-05-05T00:00:00",
          "2020-05-06T00:00:00",
          "2020-05-07T00:00:00",
          "2020-05-08T00:00:00",
          "2020-05-09T00:00:00",
          "2020-05-10T00:00:00",
          "2020-05-11T00:00:00",
          "2020-05-12T00:00:00",
          "2020-05-13T00:00:00",
          "2020-05-14T00:00:00",
          "2020-05-15T00:00:00",
          "2020-05-16T00:00:00",
          "2020-05-17T00:00:00",
          "2020-05-18T00:00:00",
          "2020-05-19T00:00:00",
          "2020-05-20T00:00:00",
          "2020-05-21T00:00:00",
          "2020-05-22T00:00:00",
          "2020-05-23T00:00:00",
          "2020-05-24T00:00:00",
          "2020-05-25T00:00:00",
          "2020-05-26T00:00:00",
          "2020-05-27T00:00:00",
          "2020-05-28T00:00:00",
          "2020-05-29T00:00:00",
          "2020-05-30T00:00:00",
          "2020-05-31T00:00:00",
          "2020-06-01T00:00:00",
          "2020-06-02T00:00:00",
          "2020-06-03T00:00:00",
          "2020-06-04T00:00:00",
          "2020-06-05T00:00:00",
          "2020-06-06T00:00:00",
          "2020-06-07T00:00:00",
          "2020-06-08T00:00:00",
          "2020-06-09T00:00:00",
          "2020-06-10T00:00:00",
          "2020-06-11T00:00:00",
          "2020-06-12T00:00:00",
          "2020-06-13T00:00:00",
          "2020-06-14T00:00:00",
          "2020-06-15T00:00:00",
          "2020-06-16T00:00:00",
          "2020-06-17T00:00:00",
          "2020-06-18T00:00:00",
          "2020-06-19T00:00:00",
          "2020-06-20T00:00:00",
          "2020-06-21T00:00:00",
          "2020-06-22T00:00:00",
          "2020-06-23T00:00:00",
          "2020-06-24T00:00:00",
          "2020-06-25T00:00:00",
          "2020-06-26T00:00:00",
          "2020-06-27T00:00:00",
          "2020-06-28T00:00:00",
          "2020-06-29T00:00:00",
          "2020-06-30T00:00:00",
          "2020-07-01T00:00:00",
          "2020-07-02T00:00:00",
          "2020-07-03T00:00:00",
          "2020-07-04T00:00:00",
          "2020-07-05T00:00:00",
          "2020-07-06T00:00:00",
          "2020-07-07T00:00:00",
          "2020-07-08T00:00:00",
          "2020-07-09T00:00:00",
          "2020-07-10T00:00:00",
          "2020-07-11T00:00:00",
          "2020-07-12T00:00:00",
          "2020-07-13T00:00:00",
          "2020-07-14T00:00:00",
          "2020-07-15T00:00:00",
          "2020-07-16T00:00:00",
          "2020-07-17T00:00:00",
          "2020-07-18T00:00:00",
          "2020-07-19T00:00:00",
          "2020-07-20T00:00:00",
          "2020-07-21T00:00:00",
          "2020-07-22T00:00:00",
          "2020-07-23T00:00:00",
          "2020-07-24T00:00:00",
          "2020-07-25T00:00:00",
          "2020-07-26T00:00:00",
          "2020-07-27T00:00:00",
          "2020-07-28T00:00:00",
          "2020-07-29T00:00:00",
          "2020-07-30T00:00:00",
          "2020-07-31T00:00:00",
          "2020-08-01T00:00:00",
          "2020-08-02T00:00:00",
          "2020-08-03T00:00:00",
          "2020-08-04T00:00:00",
          "2020-08-05T00:00:00",
          "2020-08-06T00:00:00",
          "2020-08-07T00:00:00",
          "2020-08-08T00:00:00",
          "2020-08-09T00:00:00",
          "2020-08-10T00:00:00",
          "2020-08-11T00:00:00",
          "2020-08-12T00:00:00",
          "2020-08-13T00:00:00",
          "2020-08-14T00:00:00",
          "2020-08-15T00:00:00",
          "2020-08-16T00:00:00",
          "2020-08-17T00:00:00",
          "2020-08-18T00:00:00",
          "2020-08-19T00:00:00",
          "2020-08-20T00:00:00",
          "2020-08-21T00:00:00",
          "2020-08-22T00:00:00",
          "2020-08-23T00:00:00",
          "2020-08-24T00:00:00",
          "2020-08-25T00:00:00",
          "2020-08-26T00:00:00",
          "2020-08-27T00:00:00",
          "2020-08-28T00:00:00",
          "2020-08-29T00:00:00",
          "2020-08-30T00:00:00",
          "2020-08-31T00:00:00",
          "2020-09-01T00:00:00",
          "2020-09-02T00:00:00",
          "2020-09-03T00:00:00",
          "2020-09-04T00:00:00",
          "2020-09-05T00:00:00",
          "2020-09-06T00:00:00",
          "2020-09-07T00:00:00",
          "2020-09-08T00:00:00",
          "2020-09-09T00:00:00",
          "2020-09-10T00:00:00",
          "2020-09-11T00:00:00",
          "2020-09-12T00:00:00",
          "2020-09-13T00:00:00",
          "2020-09-14T00:00:00",
          "2020-09-15T00:00:00",
          "2020-09-16T00:00:00",
          "2020-09-17T00:00:00",
          "2020-09-18T00:00:00",
          "2020-09-19T00:00:00",
          "2020-09-20T00:00:00",
          "2020-09-21T00:00:00",
          "2020-09-22T00:00:00",
          "2020-09-23T00:00:00",
          "2020-09-24T00:00:00",
          "2020-09-25T00:00:00",
          "2020-09-26T00:00:00",
          "2020-09-27T00:00:00",
          "2020-09-28T00:00:00",
          "2020-09-29T00:00:00",
          "2020-09-30T00:00:00",
          "2020-10-01T00:00:00",
          "2020-10-02T00:00:00",
          "2020-10-03T00:00:00",
          "2020-10-04T00:00:00",
          "2020-10-05T00:00:00",
          "2020-10-06T00:00:00",
          "2020-10-07T00:00:00",
          "2020-10-08T00:00:00",
          "2020-10-09T00:00:00",
          "2020-10-10T00:00:00",
          "2020-10-11T00:00:00",
          "2020-10-12T00:00:00",
          "2020-10-13T00:00:00",
          "2020-10-14T00:00:00",
          "2020-10-15T00:00:00",
          "2020-10-16T00:00:00",
          "2020-10-17T00:00:00",
          "2020-10-18T00:00:00",
          "2020-10-19T00:00:00",
          "2020-10-20T00:00:00",
          "2020-10-21T00:00:00",
          "2020-10-22T00:00:00",
          "2020-10-23T00:00:00",
          "2020-10-24T00:00:00",
          "2020-10-25T00:00:00",
          "2020-10-26T00:00:00",
          "2020-10-27T00:00:00",
          "2020-10-28T00:00:00",
          "2020-10-29T00:00:00",
          "2020-10-30T00:00:00",
          "2020-10-31T00:00:00",
          "2020-11-01T00:00:00",
          "2020-11-02T00:00:00",
          "2020-11-03T00:00:00",
          "2020-11-04T00:00:00",
          "2020-11-05T00:00:00",
          "2020-11-06T00:00:00",
          "2020-11-07T00:00:00",
          "2020-11-08T00:00:00",
          "2020-11-09T00:00:00",
          "2020-11-10T00:00:00",
          "2020-11-11T00:00:00",
          "2020-11-12T00:00:00",
          "2020-11-13T00:00:00",
          "2020-11-14T00:00:00",
          "2020-11-15T00:00:00",
          "2020-11-16T00:00:00",
          "2020-11-17T00:00:00",
          "2020-11-18T00:00:00",
          "2020-11-19T00:00:00",
          "2020-11-20T00:00:00",
          "2020-11-21T00:00:00",
          "2020-11-22T00:00:00",
          "2020-11-23T00:00:00",
          "2020-11-24T00:00:00",
          "2020-11-25T00:00:00",
          "2020-11-26T00:00:00",
          "2020-11-27T00:00:00",
          "2020-11-28T00:00:00",
          "2020-11-29T00:00:00",
          "2020-11-30T00:00:00",
          "2020-12-01T00:00:00",
          "2020-12-02T00:00:00",
          "2020-12-03T00:00:00",
          "2020-12-04T00:00:00",
          "2020-12-05T00:00:00",
          "2020-12-06T00:00:00",
          "2020-12-07T00:00:00",
          "2020-12-08T00:00:00",
          "2020-12-09T00:00:00",
          "2020-12-10T00:00:00",
          "2020-12-11T00:00:00",
          "2020-12-12T00:00:00",
          "2020-12-13T00:00:00",
          "2020-12-14T00:00:00",
          "2020-12-15T00:00:00",
          "2020-12-16T00:00:00",
          "2020-12-17T00:00:00",
          "2020-12-18T00:00:00",
          "2020-12-19T00:00:00",
          "2020-12-20T00:00:00",
          "2020-12-21T00:00:00",
          "2020-12-22T00:00:00",
          "2020-12-23T00:00:00",
          "2020-12-24T00:00:00",
          "2020-12-25T00:00:00",
          "2020-12-26T00:00:00",
          "2020-12-27T00:00:00",
          "2020-12-28T00:00:00",
          "2020-12-29T00:00:00",
          "2020-12-30T00:00:00",
          "2020-12-31T00:00:00",
          "2021-01-01T00:00:00",
          "2021-01-02T00:00:00",
          "2021-01-03T00:00:00",
          "2021-01-04T00:00:00",
          "2021-01-05T00:00:00",
          "2021-01-06T00:00:00",
          "2021-01-07T00:00:00",
          "2021-01-08T00:00:00",
          "2021-01-09T00:00:00",
          "2021-01-10T00:00:00",
          "2021-01-11T00:00:00",
          "2021-01-12T00:00:00",
          "2021-01-13T00:00:00",
          "2021-01-14T00:00:00",
          "2021-01-15T00:00:00",
          "2021-01-16T00:00:00",
          "2021-01-17T00:00:00",
          "2021-01-18T00:00:00",
          "2021-01-19T00:00:00",
          "2021-01-20T00:00:00",
          "2021-01-21T00:00:00",
          "2021-01-22T00:00:00",
          "2021-01-23T00:00:00",
          "2021-01-24T00:00:00",
          "2021-01-25T00:00:00",
          "2021-01-26T00:00:00",
          "2021-01-27T00:00:00",
          "2021-01-28T00:00:00",
          "2021-01-29T00:00:00",
          "2021-01-30T00:00:00",
          "2021-01-31T00:00:00",
          "2021-02-01T00:00:00",
          "2021-02-02T00:00:00",
          "2021-02-03T00:00:00",
          "2021-02-04T00:00:00",
          "2021-02-05T00:00:00",
          "2021-02-06T00:00:00",
          "2021-02-07T00:00:00",
          "2021-02-08T00:00:00",
          "2021-02-09T00:00:00",
          "2021-02-10T00:00:00",
          "2021-02-11T00:00:00",
          "2021-02-12T00:00:00",
          "2021-02-13T00:00:00",
          "2021-02-14T00:00:00",
          "2021-02-15T00:00:00",
          "2021-02-16T00:00:00",
          "2021-02-17T00:00:00",
          "2021-02-18T00:00:00",
          "2021-02-19T00:00:00",
          "2021-02-20T00:00:00",
          "2021-02-21T00:00:00",
          "2021-02-22T00:00:00",
          "2021-02-23T00:00:00",
          "2021-02-24T00:00:00",
          "2021-02-25T00:00:00",
          "2021-02-26T00:00:00",
          "2021-02-27T00:00:00",
          "2021-02-28T00:00:00",
          "2021-03-01T00:00:00",
          "2021-03-02T00:00:00",
          "2021-03-03T00:00:00",
          "2021-03-04T00:00:00",
          "2021-03-05T00:00:00",
          "2021-03-06T00:00:00",
          "2021-03-07T00:00:00",
          "2021-03-08T00:00:00",
          "2021-03-09T00:00:00",
          "2021-03-10T00:00:00",
          "2021-03-11T00:00:00",
          "2021-03-12T00:00:00",
          "2021-03-13T00:00:00",
          "2021-03-14T00:00:00",
          "2021-03-15T00:00:00",
          "2021-03-16T00:00:00",
          "2021-03-17T00:00:00",
          "2021-03-18T00:00:00",
          "2021-03-19T00:00:00",
          "2021-03-20T00:00:00",
          "2021-03-21T00:00:00",
          "2021-03-22T00:00:00",
          "2021-03-23T00:00:00",
          "2021-03-24T00:00:00",
          "2021-03-25T00:00:00",
          "2021-03-26T00:00:00",
          "2021-03-27T00:00:00",
          "2021-03-28T00:00:00",
          "2021-03-29T00:00:00",
          "2021-03-30T00:00:00",
          "2021-03-31T00:00:00"
         ],
         "y": [
          6000921.268322628,
          2627489.6731380094,
          2118291.1459344453,
          2186187.69663158,
          2082134.5434915035,
          2517572.3237213963,
          1648183.061764828,
          5900683.466078677,
          2505304.055701365,
          2015042.724933498,
          2117651.883179647,
          2030899.2084556012,
          2481641.6380349905,
          1629514.5036869016,
          5891809.31525366,
          2532067.8106914065,
          2032549.2888083062,
          2136396.8795729065,
          2059291.598898653,
          2510932.782435679,
          1649588.2785958974,
          5905877.422251143,
          2531868.030045966,
          2024248.2454586658,
          2122729.9175530756,
          2043856.4221326131,
          2497786.8457261682,
          1641987.003965494,
          5915390.686691926,
          2551364.4295877544,
          2034984.9372938557,
          2150656.073352065,
          2079755.1680002767,
          2528842.819564469,
          1671233.278480866,
          5939828.537191352,
          2567848.962340795,
          2042006.6139538027,
          2146657.738887864,
          2054913.7250699815,
          2508427.147658066,
          1647358.134747396,
          5906744.492266308,
          2536370.1077665193,
          2034287.9600033578,
          2138445.7705281633,
          2064940.936286571,
          2523942.5689780684,
          1680384.1528119906,
          5946475.236747191,
          2559425.2284490387,
          2072329.1927598417,
          2171148.797387888,
          2075225.571751291,
          2513832.113032908,
          1649030.7292392817,
          5897969.553415891,
          2524123.57100843,
          2024123.656840919,
          2133872.819304452,
          2042861.7585880086,
          2497038.899728895,
          1652854.8148725196,
          5926175.129526041,
          2576967.888496245,
          2091500.9322177575,
          2210249.460454225,
          2148962.4650227977,
          2618148.303594349,
          1771750.9584220664,
          6039237.767162217,
          2667500.735662179,
          2157732.9851172008,
          2247863.9967703703,
          2156472.7540023713,
          2597201.091010179,
          1726271.2682826594,
          5975449.972634323,
          2592655.4943888094,
          2080599.6142807894,
          2176844.9649977824,
          2099171.9563184245,
          2559769.842168142,
          1721555.619284972,
          5996468.847399006,
          2617955.2823224245,
          2132131.1141392672,
          2230227.7579157017,
          2159306.1563676773,
          2614319.343649495,
          1753257.0413172203,
          6016001.8745228555,
          2630869.7021590197,
          2091765.643514669,
          2181732.329144112,
          2074512.1116246078,
          2517104.107215503,
          1645902.6677712086,
          5896128.157210403,
          2513721.804323566,
          2012235.612558179,
          2110566.929266696,
          2024857.7796669328,
          2495977.068013626,
          1620875.8709837324,
          5904452.542261934,
          2528713.78109031,
          2032241.829758285,
          2133246.759925893,
          2054406.320628415,
          2509657.242151674,
          1651979.8066855723,
          5912265.88134687,
          2534744.0506156925,
          2025362.4087058427,
          2120395.145642553,
          2038993.8404127886,
          2495668.7342270594,
          1642729.2536732585,
          5910366.405761404,
          2541136.3661413724,
          2040434.0311269453,
          2152453.765378034,
          2078269.7771942192,
          2520773.9327416187,
          1676649.0341121398,
          5932079.199502193,
          2559872.0051786783,
          2049878.5509035802,
          2142200.012909751,
          2056545.8794419942,
          2508502.5926123606,
          1650187.4033899526,
          5912564.793602364,
          2546546.4424202,
          2043508.4592484285,
          2127190.5570271756,
          2060004.474535349,
          2514512.8288914068,
          1670215.1830609697,
          5939096.207648465,
          2566621.8365388913,
          2060370.9458635165,
          2154656.9562085555,
          2068983.8347062808,
          2519284.7787244506,
          1656915.2897189741,
          5913315.5317126,
          2539633.9812726276,
          2028696.0387928942,
          2114227.034519311,
          2044776.7220218075,
          2481555.753861434,
          1650497.7156263553,
          5920595.41252619,
          2575402.8136563,
          2089093.8735210786,
          2187413.881241061,
          2143634.6205399004,
          2611417.661575904,
          1759613.2363782034,
          6055603.763125624,
          2665002.5683385404,
          2161941.2602252467,
          2252305.8891199566,
          2161380.4105201387,
          2606841.9982979023,
          1739535.1061390736,
          5991530.719249053,
          2603058.778329226,
          2086345.3226263137,
          2175846.2655364256,
          2092322.8196173203,
          2552690.3190279556,
          1705574.1116500837,
          5980721.006770471,
          2615127.5671835267,
          2119093.2871376444,
          2224438.555630322,
          2150268.1393219684,
          2612679.1331730885,
          1769038.6057958528,
          6041968.09036349,
          2640906.9573612623,
          2112883.7690743664,
          2192932.779613819,
          2089157.4048922844,
          2533612.4293493805,
          1663195.6345538641,
          5914229.091506414,
          2524647.8370352965,
          2008187.2898629545,
          2107295.3542265324,
          2025538.0332097425,
          2469180.3212655373,
          1630509.4448429525,
          5895189.585709477,
          2528951.4001750625,
          2027523.7302733073,
          2127059.3236519797,
          2048056.3829864955,
          2508451.6579608046,
          1655728.3961162255,
          5920892.259204514,
          2540239.9644575818,
          2028959.5619731585,
          2119937.654824879,
          2035043.287820711,
          2493288.877528647,
          1651471.784071744,
          5923214.697789477,
          2532373.413916355,
          2048448.009912866,
          2151050.6518924776,
          2063053.0313301706,
          2519588.2838441418,
          1672335.5359845776,
          5937930.041125574,
          2563977.136633294,
          2053837.5423542215,
          2143969.301473301,
          2056525.1933230208,
          2520638.3208318306,
          1666501.890041332,
          5913785.368909821,
          2552752.1577150095,
          2040217.1862182943,
          2121275.0054767784,
          2051306.5219232703,
          2507916.0659371214,
          1666626.6065432406,
          5940299.693147385,
          2565979.0973308147,
          2060337.3995325118,
          2153977.200883921,
          2068659.1748569368,
          2524277.6709560156,
          1666558.4256058107,
          5927032.340126436,
          2539836.371327227,
          2023697.1573697617,
          2119944.6772235907,
          2035568.9301390103,
          2479597.9806962595,
          1643091.458292802,
          5912950.780207262,
          2551402.156228929,
          2059395.3065176823,
          2170935.6557867583,
          2107115.301420117,
          2586970.7445199294,
          1753670.3525385894,
          6036780.486714292,
          2666858.7351127407,
          2162812.6207938483,
          2254820.7719216766,
          2165823.6651210054,
          2617423.3461202807,
          1754983.5517009902,
          6010791.673792961,
          2617322.41550304,
          2096274.3929590017,
          2178982.586548086,
          2089202.5606550295,
          2548615.4550009314,
          1701090.6723608612,
          5986355.038051342,
          2629166.4984679245,
          2114576.9937176765,
          2218447.3454014454,
          2148055.2776662493,
          2606119.8431061236,
          1776366.2871958925,
          6030810.194730144,
          2670858.6512064617,
          2129211.425414432,
          2213953.230773208,
          2116189.34319818,
          2539030.6695650294,
          1684666.962623533,
          5929020.133855467,
          2537346.2045092136,
          2015860.455810072,
          2098925.9931612117,
          2010154.7753620886,
          2471487.2381097563,
          1624956.7531235009,
          5900699.963762937,
          2526266.435265232,
          2023704.0677174982,
          2130540.7297704252,
          2052494.82345348,
          2500465.583842174,
          1661708.0937496116,
          5923328.168063497,
          2544074.6241492936,
          2031237.5534208864,
          2118762.6678941455,
          2040655.4500810127,
          2503206.9841319323,
          1637527.243821721,
          5920025.452554854,
          2533886.734681785,
          2033631.5001666318,
          2130026.838586713,
          2050874.239457809,
          2518622.3443144904,
          1674048.3280012975,
          5947756.680350137,
          2566273.5610662913,
          2054871.1049333834,
          2142053.7260177853,
          2052546.8837443246,
          2510509.8978736238,
          1657690.9290802432,
          5925617.639450403,
          2541874.5165482494,
          2031848.2434375456,
          2133480.0902139912,
          2053745.363855515,
          2505123.0424063606,
          1672300.1310785264,
          5941668.053832186,
          2568283.4506043866,
          2060912.5859823949,
          2151159.875294619,
          2063378.1146708434,
          2521810.759794058,
          1667116.6132725105,
          5931236.528169806,
          2540180.339968675,
          2022537.1852815598,
          2106932.132662794,
          2019246.429452663,
          2484769.917327214,
          1643736.3514358848,
          5927314.529397431,
          2559392.5691225883,
          2067172.4783676998,
          2176541.9040121706,
          2111004.4023287296,
          2593785.4699035715,
          1762774.1176628727,
          6047906.656050946,
          2672054.3266947903,
          2163629.6164169707,
          2249626.575590699,
          2155865.533156387,
          2618024.1237119744,
          1759347.7225798834,
          6001523.237090978,
          2614493.3328385185,
          2085151.5305622737,
          2171580.380936312,
          2082706.260245624,
          2548648.667479092,
          1707652.302727669,
          5990148.726637296,
          2617491.6613179,
          2127962.9286465575,
          2229244.551877012,
          2134370.171301287,
          2613130.896393583,
          1768266.5016246932,
          6043576.147994023
         ]
        },
        {
         "line": {
          "color": "rgba(250, 43, 20, 0.7)"
         },
         "marker": {
          "color": "rgba(250, 43, 20, 0.7)",
          "size": 2
         },
         "mode": "lines+markers",
         "name": "Actual",
         "opacity": 1,
         "type": "scatter",
         "x": [
          "2020-04-01T00:00:00",
          "2020-04-02T00:00:00",
          "2020-04-03T00:00:00",
          "2020-04-04T00:00:00",
          "2020-04-05T00:00:00",
          "2020-04-06T00:00:00",
          "2020-04-07T00:00:00",
          "2020-04-08T00:00:00",
          "2020-04-09T00:00:00",
          "2020-04-10T00:00:00",
          "2020-04-11T00:00:00",
          "2020-04-12T00:00:00",
          "2020-04-13T00:00:00",
          "2020-04-14T00:00:00",
          "2020-04-15T00:00:00",
          "2020-04-16T00:00:00",
          "2020-04-17T00:00:00",
          "2020-04-18T00:00:00",
          "2020-04-19T00:00:00",
          "2020-04-20T00:00:00",
          "2020-04-21T00:00:00",
          "2020-04-22T00:00:00",
          "2020-04-23T00:00:00",
          "2020-04-24T00:00:00",
          "2020-04-25T00:00:00",
          "2020-04-26T00:00:00",
          "2020-04-27T00:00:00",
          "2020-04-28T00:00:00",
          "2020-04-29T00:00:00",
          "2020-04-30T00:00:00",
          "2020-05-01T00:00:00",
          "2020-05-02T00:00:00",
          "2020-05-03T00:00:00",
          "2020-05-04T00:00:00",
          "2020-05-05T00:00:00",
          "2020-05-06T00:00:00",
          "2020-05-07T00:00:00",
          "2020-05-08T00:00:00",
          "2020-05-09T00:00:00",
          "2020-05-10T00:00:00",
          "2020-05-11T00:00:00",
          "2020-05-12T00:00:00",
          "2020-05-13T00:00:00",
          "2020-05-14T00:00:00",
          "2020-05-15T00:00:00",
          "2020-05-16T00:00:00",
          "2020-05-17T00:00:00",
          "2020-05-18T00:00:00",
          "2020-05-19T00:00:00",
          "2020-05-20T00:00:00",
          "2020-05-21T00:00:00",
          "2020-05-22T00:00:00",
          "2020-05-23T00:00:00",
          "2020-05-24T00:00:00",
          "2020-05-25T00:00:00",
          "2020-05-26T00:00:00",
          "2020-05-27T00:00:00",
          "2020-05-28T00:00:00",
          "2020-05-29T00:00:00",
          "2020-05-30T00:00:00",
          "2020-05-31T00:00:00",
          "2020-06-01T00:00:00",
          "2020-06-02T00:00:00",
          "2020-06-03T00:00:00",
          "2020-06-04T00:00:00",
          "2020-06-05T00:00:00",
          "2020-06-06T00:00:00",
          "2020-06-07T00:00:00",
          "2020-06-08T00:00:00",
          "2020-06-09T00:00:00",
          "2020-06-10T00:00:00",
          "2020-06-11T00:00:00",
          "2020-06-12T00:00:00",
          "2020-06-13T00:00:00",
          "2020-06-14T00:00:00",
          "2020-06-15T00:00:00",
          "2020-06-16T00:00:00",
          "2020-06-17T00:00:00",
          "2020-06-18T00:00:00",
          "2020-06-19T00:00:00",
          "2020-06-20T00:00:00",
          "2020-06-21T00:00:00",
          "2020-06-22T00:00:00",
          "2020-06-23T00:00:00",
          "2020-06-24T00:00:00",
          "2020-06-25T00:00:00",
          "2020-06-26T00:00:00",
          "2020-06-27T00:00:00",
          "2020-06-28T00:00:00",
          "2020-06-29T00:00:00",
          "2020-06-30T00:00:00",
          "2020-07-01T00:00:00",
          "2020-07-02T00:00:00",
          "2020-07-03T00:00:00",
          "2020-07-04T00:00:00",
          "2020-07-05T00:00:00",
          "2020-07-06T00:00:00",
          "2020-07-07T00:00:00",
          "2020-07-08T00:00:00",
          "2020-07-09T00:00:00",
          "2020-07-10T00:00:00",
          "2020-07-11T00:00:00",
          "2020-07-12T00:00:00",
          "2020-07-13T00:00:00",
          "2020-07-14T00:00:00",
          "2020-07-15T00:00:00",
          "2020-07-16T00:00:00",
          "2020-07-17T00:00:00",
          "2020-07-18T00:00:00",
          "2020-07-19T00:00:00",
          "2020-07-20T00:00:00",
          "2020-07-21T00:00:00",
          "2020-07-22T00:00:00",
          "2020-07-23T00:00:00",
          "2020-07-24T00:00:00",
          "2020-07-25T00:00:00",
          "2020-07-26T00:00:00",
          "2020-07-27T00:00:00",
          "2020-07-28T00:00:00",
          "2020-07-29T00:00:00",
          "2020-07-30T00:00:00",
          "2020-07-31T00:00:00",
          "2020-08-01T00:00:00",
          "2020-08-02T00:00:00",
          "2020-08-03T00:00:00",
          "2020-08-04T00:00:00",
          "2020-08-05T00:00:00",
          "2020-08-06T00:00:00",
          "2020-08-07T00:00:00",
          "2020-08-08T00:00:00",
          "2020-08-09T00:00:00",
          "2020-08-10T00:00:00",
          "2020-08-11T00:00:00",
          "2020-08-12T00:00:00",
          "2020-08-13T00:00:00",
          "2020-08-14T00:00:00",
          "2020-08-15T00:00:00",
          "2020-08-16T00:00:00",
          "2020-08-17T00:00:00",
          "2020-08-18T00:00:00",
          "2020-08-19T00:00:00",
          "2020-08-20T00:00:00",
          "2020-08-21T00:00:00",
          "2020-08-22T00:00:00",
          "2020-08-23T00:00:00",
          "2020-08-24T00:00:00",
          "2020-08-25T00:00:00",
          "2020-08-26T00:00:00",
          "2020-08-27T00:00:00",
          "2020-08-28T00:00:00",
          "2020-08-29T00:00:00",
          "2020-08-30T00:00:00",
          "2020-08-31T00:00:00",
          "2020-09-01T00:00:00",
          "2020-09-02T00:00:00",
          "2020-09-03T00:00:00",
          "2020-09-04T00:00:00",
          "2020-09-05T00:00:00",
          "2020-09-06T00:00:00",
          "2020-09-07T00:00:00",
          "2020-09-08T00:00:00",
          "2020-09-09T00:00:00",
          "2020-09-10T00:00:00",
          "2020-09-11T00:00:00",
          "2020-09-12T00:00:00",
          "2020-09-13T00:00:00",
          "2020-09-14T00:00:00",
          "2020-09-15T00:00:00",
          "2020-09-16T00:00:00",
          "2020-09-17T00:00:00",
          "2020-09-18T00:00:00",
          "2020-09-19T00:00:00",
          "2020-09-20T00:00:00",
          "2020-09-21T00:00:00",
          "2020-09-22T00:00:00",
          "2020-09-23T00:00:00",
          "2020-09-24T00:00:00",
          "2020-09-25T00:00:00",
          "2020-09-26T00:00:00",
          "2020-09-27T00:00:00",
          "2020-09-28T00:00:00",
          "2020-09-29T00:00:00",
          "2020-09-30T00:00:00",
          "2020-10-01T00:00:00",
          "2020-10-02T00:00:00",
          "2020-10-03T00:00:00",
          "2020-10-04T00:00:00",
          "2020-10-05T00:00:00",
          "2020-10-06T00:00:00",
          "2020-10-07T00:00:00",
          "2020-10-08T00:00:00",
          "2020-10-09T00:00:00",
          "2020-10-10T00:00:00",
          "2020-10-11T00:00:00",
          "2020-10-12T00:00:00",
          "2020-10-13T00:00:00",
          "2020-10-14T00:00:00",
          "2020-10-15T00:00:00",
          "2020-10-16T00:00:00",
          "2020-10-17T00:00:00",
          "2020-10-18T00:00:00",
          "2020-10-19T00:00:00",
          "2020-10-20T00:00:00",
          "2020-10-21T00:00:00",
          "2020-10-22T00:00:00",
          "2020-10-23T00:00:00",
          "2020-10-24T00:00:00",
          "2020-10-25T00:00:00",
          "2020-10-26T00:00:00",
          "2020-10-27T00:00:00",
          "2020-10-28T00:00:00",
          "2020-10-29T00:00:00",
          "2020-10-30T00:00:00",
          "2020-10-31T00:00:00",
          "2020-11-01T00:00:00",
          "2020-11-02T00:00:00",
          "2020-11-03T00:00:00",
          "2020-11-04T00:00:00",
          "2020-11-05T00:00:00",
          "2020-11-06T00:00:00",
          "2020-11-07T00:00:00",
          "2020-11-08T00:00:00",
          "2020-11-09T00:00:00",
          "2020-11-10T00:00:00",
          "2020-11-11T00:00:00",
          "2020-11-12T00:00:00",
          "2020-11-13T00:00:00",
          "2020-11-14T00:00:00",
          "2020-11-15T00:00:00",
          "2020-11-16T00:00:00",
          "2020-11-17T00:00:00",
          "2020-11-18T00:00:00",
          "2020-11-19T00:00:00",
          "2020-11-20T00:00:00",
          "2020-11-21T00:00:00",
          "2020-11-22T00:00:00",
          "2020-11-23T00:00:00",
          "2020-11-24T00:00:00",
          "2020-11-25T00:00:00",
          "2020-11-26T00:00:00",
          "2020-11-27T00:00:00",
          "2020-11-28T00:00:00",
          "2020-11-29T00:00:00",
          "2020-11-30T00:00:00",
          "2020-12-01T00:00:00",
          "2020-12-02T00:00:00",
          "2020-12-03T00:00:00",
          "2020-12-04T00:00:00",
          "2020-12-05T00:00:00",
          "2020-12-06T00:00:00",
          "2020-12-07T00:00:00",
          "2020-12-08T00:00:00",
          "2020-12-09T00:00:00",
          "2020-12-10T00:00:00",
          "2020-12-11T00:00:00",
          "2020-12-12T00:00:00",
          "2020-12-13T00:00:00",
          "2020-12-14T00:00:00",
          "2020-12-15T00:00:00",
          "2020-12-16T00:00:00",
          "2020-12-17T00:00:00",
          "2020-12-18T00:00:00",
          "2020-12-19T00:00:00",
          "2020-12-20T00:00:00",
          "2020-12-21T00:00:00",
          "2020-12-22T00:00:00",
          "2020-12-23T00:00:00",
          "2020-12-24T00:00:00",
          "2020-12-25T00:00:00",
          "2020-12-26T00:00:00",
          "2020-12-27T00:00:00",
          "2020-12-28T00:00:00",
          "2020-12-29T00:00:00",
          "2020-12-30T00:00:00",
          "2020-12-31T00:00:00",
          "2021-01-01T00:00:00",
          "2021-01-02T00:00:00",
          "2021-01-03T00:00:00",
          "2021-01-04T00:00:00",
          "2021-01-05T00:00:00",
          "2021-01-06T00:00:00",
          "2021-01-07T00:00:00",
          "2021-01-08T00:00:00",
          "2021-01-09T00:00:00",
          "2021-01-10T00:00:00",
          "2021-01-11T00:00:00",
          "2021-01-12T00:00:00",
          "2021-01-13T00:00:00",
          "2021-01-14T00:00:00",
          "2021-01-15T00:00:00",
          "2021-01-16T00:00:00",
          "2021-01-17T00:00:00",
          "2021-01-18T00:00:00",
          "2021-01-19T00:00:00",
          "2021-01-20T00:00:00",
          "2021-01-21T00:00:00",
          "2021-01-22T00:00:00",
          "2021-01-23T00:00:00",
          "2021-01-24T00:00:00",
          "2021-01-25T00:00:00",
          "2021-01-26T00:00:00",
          "2021-01-27T00:00:00",
          "2021-01-28T00:00:00",
          "2021-01-29T00:00:00",
          "2021-01-30T00:00:00",
          "2021-01-31T00:00:00",
          "2021-02-01T00:00:00",
          "2021-02-02T00:00:00",
          "2021-02-03T00:00:00",
          "2021-02-04T00:00:00",
          "2021-02-05T00:00:00",
          "2021-02-06T00:00:00",
          "2021-02-07T00:00:00",
          "2021-02-08T00:00:00",
          "2021-02-09T00:00:00",
          "2021-02-10T00:00:00",
          "2021-02-11T00:00:00",
          "2021-02-12T00:00:00",
          "2021-02-13T00:00:00",
          "2021-02-14T00:00:00",
          "2021-02-15T00:00:00",
          "2021-02-16T00:00:00",
          "2021-02-17T00:00:00",
          "2021-02-18T00:00:00",
          "2021-02-19T00:00:00",
          "2021-02-20T00:00:00",
          "2021-02-21T00:00:00",
          "2021-02-22T00:00:00",
          "2021-02-23T00:00:00",
          "2021-02-24T00:00:00",
          "2021-02-25T00:00:00",
          "2021-02-26T00:00:00",
          "2021-02-27T00:00:00",
          "2021-02-28T00:00:00",
          "2021-03-01T00:00:00",
          "2021-03-02T00:00:00",
          "2021-03-03T00:00:00",
          "2021-03-04T00:00:00",
          "2021-03-05T00:00:00",
          "2021-03-06T00:00:00",
          "2021-03-07T00:00:00",
          "2021-03-08T00:00:00",
          "2021-03-09T00:00:00",
          "2021-03-10T00:00:00",
          "2021-03-11T00:00:00",
          "2021-03-12T00:00:00",
          "2021-03-13T00:00:00",
          "2021-03-14T00:00:00",
          "2021-03-15T00:00:00",
          "2021-03-16T00:00:00",
          "2021-03-17T00:00:00",
          "2021-03-18T00:00:00",
          "2021-03-19T00:00:00",
          "2021-03-20T00:00:00",
          "2021-03-21T00:00:00",
          "2021-03-22T00:00:00",
          "2021-03-23T00:00:00",
          "2021-03-24T00:00:00",
          "2021-03-25T00:00:00",
          "2021-03-26T00:00:00",
          "2021-03-27T00:00:00",
          "2021-03-28T00:00:00",
          "2021-03-29T00:00:00",
          "2021-03-30T00:00:00",
          "2021-03-31T00:00:00"
         ],
         "y": [
          961150,
          753357.1428571428,
          681724.2068965518,
          null,
          null,
          725208,
          630053.7368421053,
          676583.3333333334,
          773225.2692307692,
          666255.6428571428,
          null,
          325000,
          1192963.4347826086,
          883883.5,
          1115649.0666666667,
          703075.8947368421,
          593240.8,
          null,
          null,
          630549.76,
          788538.3684210526,
          534571.5,
          706054.68,
          766311.7619047619,
          670000,
          null,
          672223.2571428572,
          589203.6666666666,
          717248.3928571428,
          645056.5660377359,
          761566.3846153846,
          null,
          null,
          742996.5925925926,
          928117.8571428572,
          722244.3181818182,
          802193.448275862,
          737056.8913043478,
          null,
          null,
          1010215.1176470588,
          559954.9,
          594030.4,
          786627.5,
          2423803.590909091,
          400000,
          null,
          580116.6333333333,
          649406.4285714285,
          571375.7666666667,
          1257801.9523809524,
          1018404.1714285715,
          null,
          325000,
          null,
          572714.6086956522,
          601808.6341463415,
          818277.015625,
          685398.4583333334,
          null,
          340000,
          558506.7741935484,
          694160.2666666667,
          1809577.5,
          759085.9375,
          663100.880952381,
          null,
          null,
          584458.6,
          1286910.6304347827,
          674959.5454545454,
          6283043.34375,
          821677.42,
          484787,
          null,
          833615.7916666666,
          796530.75,
          626165.4705882353,
          562851.2580645161,
          680855.3958333334,
          null,
          null,
          634731.0952380953,
          2134153.5555555555,
          1374770.888888889,
          705734.1449275363,
          732110.9016393443,
          null,
          null,
          3128182.919354839,
          771592.4027777778,
          786353.2962962963,
          635133.3111111111,
          365000,
          null,
          null,
          610116.2727272727,
          855789.3243243244,
          942172.3255813953,
          1002349.9333333333,
          1207195.462962963,
          265000,
          null,
          521447.625,
          1019686.8163265307,
          734260.9615384615,
          782620.7435897436,
          675106.5769230769,
          356000,
          null,
          625668.5319148937,
          631018.0769230769,
          623849.725490196,
          1151866.625,
          608356.5416666666,
          null,
          null,
          566493.1904761905,
          716382.7727272727,
          1063304.0487804879,
          657447.7843137255,
          606157.1694915254,
          336500,
          null,
          1100150.775,
          703381.2105263158,
          698784.5666666667,
          597978.6666666666,
          662752.4583333334,
          null,
          null,
          737526.5357142857,
          759952.6315789474,
          664542.6666666666,
          587161.7608695652,
          640727.659574468,
          804097,
          120000,
          681732.3103448276,
          580265.8837209302,
          1042224.8666666667,
          822008.9818181818,
          783539.5217391305,
          306146,
          471271.25,
          684929.4545454546,
          640625.1081081082,
          1140819.3703703703,
          631340,
          3335524.5070422534,
          303280,
          null,
          1679717.844155844,
          633616.3225806452,
          690991.1,
          681047.9714285714,
          1435634,
          850000,
          null,
          6000,
          583332.512195122,
          11782759.705882354,
          1010899.8372093023,
          1133387.7567567567,
          null,
          null,
          5504713.85106383,
          690470.3278688524,
          872583.051724138,
          615537.4716981133,
          643329.4761904762,
          null,
          217000,
          674469.5263157894,
          1033372.1272727273,
          802347.9649122807,
          758760.3768115942,
          715879.4533333334,
          null,
          null,
          693191.303030303,
          862207.5540540541,
          14690100.05,
          923863.4225352113,
          712918.0363636364,
          null,
          90000,
          683918.8484848485,
          731857.1111111111,
          631391.24,
          587772.3191489362,
          620802.2205882353,
          null,
          null,
          317422.5,
          712517.5714285715,
          730325.5769230769,
          830288.86,
          639017.6101694915,
          3000,
          null,
          575891.0333333333,
          699273.3928571428,
          693789.1833333333,
          753131.0754716981,
          747951.3,
          285000,
          5000,
          652001.9298245613,
          709614.3606557377,
          831534.3918918918,
          729093.1382978724,
          1050691.7684210527,
          410000,
          399000,
          694042.5588235294,
          704709.475,
          758629.3103448276,
          640258.0714285715,
          705806.2380952381,
          null,
          420000,
          740381.828125,
          744469.9344262296,
          500318.1818181818,
          704503.1891891892,
          2660488.6923076925,
          null,
          null,
          673783.0363636364,
          763621.4736842106,
          1125740.4705882352,
          697605.71875,
          680614.3333333334,
          null,
          null,
          639074.205479452,
          779583.9784946237,
          741491.7611940298,
          null,
          832958.75,
          null,
          246664,
          687234.4642857143,
          710952.6323529412,
          675483.515625,
          781023.96875,
          679605.7702702703,
          null,
          360000,
          757934.828125,
          676002.6111111111,
          612785.8153846153,
          673998.8533333334,
          639837.875,
          1000000,
          395801.5,
          1057572.6712328766,
          787623.5,
          815271.8,
          1206976.66,
          1029722.0260869565,
          null,
          null,
          2140242.969072165,
          3079420.9344262294,
          818685.9696969697,
          3036481.242424242,
          null,
          390787,
          null,
          1193972.0833333333,
          745306.5108695652,
          1182410.3086419753,
          904587.4307692308,
          null,
          null,
          null,
          515441.9655172414,
          937195.8113207547,
          629678.7924528302,
          870835.4074074074,
          673749.8793103448,
          200000,
          null,
          638217.0757575758,
          941716.2987012987,
          629515.2909090909,
          617809.5576923077,
          2060531.569620253,
          980000,
          75000,
          665439.8,
          734202.775862069,
          728799.0289855072,
          733167.7333333333,
          798184.8815789474,
          634500,
          null,
          664862.0714285715,
          700602.1551724138,
          808769.0724637681,
          716158.5384615385,
          965531.6880733945,
          4098400,
          1100000,
          1030374.6666666666,
          678594.1666666666,
          673120.3773584906,
          646879.6060606061,
          679965.2934782609,
          461500,
          null,
          735113.6166666667,
          709083.7464788732,
          721104.9714285714,
          876941.2133333334,
          809655.5571428571,
          null,
          null,
          585533.3333333334,
          620100.220338983,
          672292.9245283019,
          767958.2676056338,
          934185.5,
          null,
          386000,
          1820586.35,
          776674.421875,
          714328.8309859155,
          787634.8292682926,
          707944.7699115045,
          null,
          null,
          669714.0757575758,
          823997.4807692308,
          631401.1692307693,
          1185896.3088235294,
          688686.8831168831,
          null,
          null,
          803755.25,
          644934.7166666667,
          1258062.7878787878,
          687746.140625,
          679635.9852941176,
          null,
          475000,
          684445.9333333333,
          943197.7692307692,
          600407.2586206896,
          735364.7924528302,
          614789.2542372881,
          null,
          30000,
          639942.1607142857,
          656634.75,
          634332.9649122807,
          609609.756097561,
          652589.2857142857,
          null,
          null,
          694114.4705882353,
          747610.9354838709,
          602154.75
         ]
        },
        {
         "line": {
          "color": "rgba(0, 90, 181, 0.7)",
          "dash": "solid"
         },
         "name": "Forecast",
         "type": "scatter",
         "x": [
          "2020-04-01T00:00:00",
          "2020-04-02T00:00:00",
          "2020-04-03T00:00:00",
          "2020-04-04T00:00:00",
          "2020-04-05T00:00:00",
          "2020-04-06T00:00:00",
          "2020-04-07T00:00:00",
          "2020-04-08T00:00:00",
          "2020-04-09T00:00:00",
          "2020-04-10T00:00:00",
          "2020-04-11T00:00:00",
          "2020-04-12T00:00:00",
          "2020-04-13T00:00:00",
          "2020-04-14T00:00:00",
          "2020-04-15T00:00:00",
          "2020-04-16T00:00:00",
          "2020-04-17T00:00:00",
          "2020-04-18T00:00:00",
          "2020-04-19T00:00:00",
          "2020-04-20T00:00:00",
          "2020-04-21T00:00:00",
          "2020-04-22T00:00:00",
          "2020-04-23T00:00:00",
          "2020-04-24T00:00:00",
          "2020-04-25T00:00:00",
          "2020-04-26T00:00:00",
          "2020-04-27T00:00:00",
          "2020-04-28T00:00:00",
          "2020-04-29T00:00:00",
          "2020-04-30T00:00:00",
          "2020-05-01T00:00:00",
          "2020-05-02T00:00:00",
          "2020-05-03T00:00:00",
          "2020-05-04T00:00:00",
          "2020-05-05T00:00:00",
          "2020-05-06T00:00:00",
          "2020-05-07T00:00:00",
          "2020-05-08T00:00:00",
          "2020-05-09T00:00:00",
          "2020-05-10T00:00:00",
          "2020-05-11T00:00:00",
          "2020-05-12T00:00:00",
          "2020-05-13T00:00:00",
          "2020-05-14T00:00:00",
          "2020-05-15T00:00:00",
          "2020-05-16T00:00:00",
          "2020-05-17T00:00:00",
          "2020-05-18T00:00:00",
          "2020-05-19T00:00:00",
          "2020-05-20T00:00:00",
          "2020-05-21T00:00:00",
          "2020-05-22T00:00:00",
          "2020-05-23T00:00:00",
          "2020-05-24T00:00:00",
          "2020-05-25T00:00:00",
          "2020-05-26T00:00:00",
          "2020-05-27T00:00:00",
          "2020-05-28T00:00:00",
          "2020-05-29T00:00:00",
          "2020-05-30T00:00:00",
          "2020-05-31T00:00:00",
          "2020-06-01T00:00:00",
          "2020-06-02T00:00:00",
          "2020-06-03T00:00:00",
          "2020-06-04T00:00:00",
          "2020-06-05T00:00:00",
          "2020-06-06T00:00:00",
          "2020-06-07T00:00:00",
          "2020-06-08T00:00:00",
          "2020-06-09T00:00:00",
          "2020-06-10T00:00:00",
          "2020-06-11T00:00:00",
          "2020-06-12T00:00:00",
          "2020-06-13T00:00:00",
          "2020-06-14T00:00:00",
          "2020-06-15T00:00:00",
          "2020-06-16T00:00:00",
          "2020-06-17T00:00:00",
          "2020-06-18T00:00:00",
          "2020-06-19T00:00:00",
          "2020-06-20T00:00:00",
          "2020-06-21T00:00:00",
          "2020-06-22T00:00:00",
          "2020-06-23T00:00:00",
          "2020-06-24T00:00:00",
          "2020-06-25T00:00:00",
          "2020-06-26T00:00:00",
          "2020-06-27T00:00:00",
          "2020-06-28T00:00:00",
          "2020-06-29T00:00:00",
          "2020-06-30T00:00:00",
          "2020-07-01T00:00:00",
          "2020-07-02T00:00:00",
          "2020-07-03T00:00:00",
          "2020-07-04T00:00:00",
          "2020-07-05T00:00:00",
          "2020-07-06T00:00:00",
          "2020-07-07T00:00:00",
          "2020-07-08T00:00:00",
          "2020-07-09T00:00:00",
          "2020-07-10T00:00:00",
          "2020-07-11T00:00:00",
          "2020-07-12T00:00:00",
          "2020-07-13T00:00:00",
          "2020-07-14T00:00:00",
          "2020-07-15T00:00:00",
          "2020-07-16T00:00:00",
          "2020-07-17T00:00:00",
          "2020-07-18T00:00:00",
          "2020-07-19T00:00:00",
          "2020-07-20T00:00:00",
          "2020-07-21T00:00:00",
          "2020-07-22T00:00:00",
          "2020-07-23T00:00:00",
          "2020-07-24T00:00:00",
          "2020-07-25T00:00:00",
          "2020-07-26T00:00:00",
          "2020-07-27T00:00:00",
          "2020-07-28T00:00:00",
          "2020-07-29T00:00:00",
          "2020-07-30T00:00:00",
          "2020-07-31T00:00:00",
          "2020-08-01T00:00:00",
          "2020-08-02T00:00:00",
          "2020-08-03T00:00:00",
          "2020-08-04T00:00:00",
          "2020-08-05T00:00:00",
          "2020-08-06T00:00:00",
          "2020-08-07T00:00:00",
          "2020-08-08T00:00:00",
          "2020-08-09T00:00:00",
          "2020-08-10T00:00:00",
          "2020-08-11T00:00:00",
          "2020-08-12T00:00:00",
          "2020-08-13T00:00:00",
          "2020-08-14T00:00:00",
          "2020-08-15T00:00:00",
          "2020-08-16T00:00:00",
          "2020-08-17T00:00:00",
          "2020-08-18T00:00:00",
          "2020-08-19T00:00:00",
          "2020-08-20T00:00:00",
          "2020-08-21T00:00:00",
          "2020-08-22T00:00:00",
          "2020-08-23T00:00:00",
          "2020-08-24T00:00:00",
          "2020-08-25T00:00:00",
          "2020-08-26T00:00:00",
          "2020-08-27T00:00:00",
          "2020-08-28T00:00:00",
          "2020-08-29T00:00:00",
          "2020-08-30T00:00:00",
          "2020-08-31T00:00:00",
          "2020-09-01T00:00:00",
          "2020-09-02T00:00:00",
          "2020-09-03T00:00:00",
          "2020-09-04T00:00:00",
          "2020-09-05T00:00:00",
          "2020-09-06T00:00:00",
          "2020-09-07T00:00:00",
          "2020-09-08T00:00:00",
          "2020-09-09T00:00:00",
          "2020-09-10T00:00:00",
          "2020-09-11T00:00:00",
          "2020-09-12T00:00:00",
          "2020-09-13T00:00:00",
          "2020-09-14T00:00:00",
          "2020-09-15T00:00:00",
          "2020-09-16T00:00:00",
          "2020-09-17T00:00:00",
          "2020-09-18T00:00:00",
          "2020-09-19T00:00:00",
          "2020-09-20T00:00:00",
          "2020-09-21T00:00:00",
          "2020-09-22T00:00:00",
          "2020-09-23T00:00:00",
          "2020-09-24T00:00:00",
          "2020-09-25T00:00:00",
          "2020-09-26T00:00:00",
          "2020-09-27T00:00:00",
          "2020-09-28T00:00:00",
          "2020-09-29T00:00:00",
          "2020-09-30T00:00:00",
          "2020-10-01T00:00:00",
          "2020-10-02T00:00:00",
          "2020-10-03T00:00:00",
          "2020-10-04T00:00:00",
          "2020-10-05T00:00:00",
          "2020-10-06T00:00:00",
          "2020-10-07T00:00:00",
          "2020-10-08T00:00:00",
          "2020-10-09T00:00:00",
          "2020-10-10T00:00:00",
          "2020-10-11T00:00:00",
          "2020-10-12T00:00:00",
          "2020-10-13T00:00:00",
          "2020-10-14T00:00:00",
          "2020-10-15T00:00:00",
          "2020-10-16T00:00:00",
          "2020-10-17T00:00:00",
          "2020-10-18T00:00:00",
          "2020-10-19T00:00:00",
          "2020-10-20T00:00:00",
          "2020-10-21T00:00:00",
          "2020-10-22T00:00:00",
          "2020-10-23T00:00:00",
          "2020-10-24T00:00:00",
          "2020-10-25T00:00:00",
          "2020-10-26T00:00:00",
          "2020-10-27T00:00:00",
          "2020-10-28T00:00:00",
          "2020-10-29T00:00:00",
          "2020-10-30T00:00:00",
          "2020-10-31T00:00:00",
          "2020-11-01T00:00:00",
          "2020-11-02T00:00:00",
          "2020-11-03T00:00:00",
          "2020-11-04T00:00:00",
          "2020-11-05T00:00:00",
          "2020-11-06T00:00:00",
          "2020-11-07T00:00:00",
          "2020-11-08T00:00:00",
          "2020-11-09T00:00:00",
          "2020-11-10T00:00:00",
          "2020-11-11T00:00:00",
          "2020-11-12T00:00:00",
          "2020-11-13T00:00:00",
          "2020-11-14T00:00:00",
          "2020-11-15T00:00:00",
          "2020-11-16T00:00:00",
          "2020-11-17T00:00:00",
          "2020-11-18T00:00:00",
          "2020-11-19T00:00:00",
          "2020-11-20T00:00:00",
          "2020-11-21T00:00:00",
          "2020-11-22T00:00:00",
          "2020-11-23T00:00:00",
          "2020-11-24T00:00:00",
          "2020-11-25T00:00:00",
          "2020-11-26T00:00:00",
          "2020-11-27T00:00:00",
          "2020-11-28T00:00:00",
          "2020-11-29T00:00:00",
          "2020-11-30T00:00:00",
          "2020-12-01T00:00:00",
          "2020-12-02T00:00:00",
          "2020-12-03T00:00:00",
          "2020-12-04T00:00:00",
          "2020-12-05T00:00:00",
          "2020-12-06T00:00:00",
          "2020-12-07T00:00:00",
          "2020-12-08T00:00:00",
          "2020-12-09T00:00:00",
          "2020-12-10T00:00:00",
          "2020-12-11T00:00:00",
          "2020-12-12T00:00:00",
          "2020-12-13T00:00:00",
          "2020-12-14T00:00:00",
          "2020-12-15T00:00:00",
          "2020-12-16T00:00:00",
          "2020-12-17T00:00:00",
          "2020-12-18T00:00:00",
          "2020-12-19T00:00:00",
          "2020-12-20T00:00:00",
          "2020-12-21T00:00:00",
          "2020-12-22T00:00:00",
          "2020-12-23T00:00:00",
          "2020-12-24T00:00:00",
          "2020-12-25T00:00:00",
          "2020-12-26T00:00:00",
          "2020-12-27T00:00:00",
          "2020-12-28T00:00:00",
          "2020-12-29T00:00:00",
          "2020-12-30T00:00:00",
          "2020-12-31T00:00:00",
          "2021-01-01T00:00:00",
          "2021-01-02T00:00:00",
          "2021-01-03T00:00:00",
          "2021-01-04T00:00:00",
          "2021-01-05T00:00:00",
          "2021-01-06T00:00:00",
          "2021-01-07T00:00:00",
          "2021-01-08T00:00:00",
          "2021-01-09T00:00:00",
          "2021-01-10T00:00:00",
          "2021-01-11T00:00:00",
          "2021-01-12T00:00:00",
          "2021-01-13T00:00:00",
          "2021-01-14T00:00:00",
          "2021-01-15T00:00:00",
          "2021-01-16T00:00:00",
          "2021-01-17T00:00:00",
          "2021-01-18T00:00:00",
          "2021-01-19T00:00:00",
          "2021-01-20T00:00:00",
          "2021-01-21T00:00:00",
          "2021-01-22T00:00:00",
          "2021-01-23T00:00:00",
          "2021-01-24T00:00:00",
          "2021-01-25T00:00:00",
          "2021-01-26T00:00:00",
          "2021-01-27T00:00:00",
          "2021-01-28T00:00:00",
          "2021-01-29T00:00:00",
          "2021-01-30T00:00:00",
          "2021-01-31T00:00:00",
          "2021-02-01T00:00:00",
          "2021-02-02T00:00:00",
          "2021-02-03T00:00:00",
          "2021-02-04T00:00:00",
          "2021-02-05T00:00:00",
          "2021-02-06T00:00:00",
          "2021-02-07T00:00:00",
          "2021-02-08T00:00:00",
          "2021-02-09T00:00:00",
          "2021-02-10T00:00:00",
          "2021-02-11T00:00:00",
          "2021-02-12T00:00:00",
          "2021-02-13T00:00:00",
          "2021-02-14T00:00:00",
          "2021-02-15T00:00:00",
          "2021-02-16T00:00:00",
          "2021-02-17T00:00:00",
          "2021-02-18T00:00:00",
          "2021-02-19T00:00:00",
          "2021-02-20T00:00:00",
          "2021-02-21T00:00:00",
          "2021-02-22T00:00:00",
          "2021-02-23T00:00:00",
          "2021-02-24T00:00:00",
          "2021-02-25T00:00:00",
          "2021-02-26T00:00:00",
          "2021-02-27T00:00:00",
          "2021-02-28T00:00:00",
          "2021-03-01T00:00:00",
          "2021-03-02T00:00:00",
          "2021-03-03T00:00:00",
          "2021-03-04T00:00:00",
          "2021-03-05T00:00:00",
          "2021-03-06T00:00:00",
          "2021-03-07T00:00:00",
          "2021-03-08T00:00:00",
          "2021-03-09T00:00:00",
          "2021-03-10T00:00:00",
          "2021-03-11T00:00:00",
          "2021-03-12T00:00:00",
          "2021-03-13T00:00:00",
          "2021-03-14T00:00:00",
          "2021-03-15T00:00:00",
          "2021-03-16T00:00:00",
          "2021-03-17T00:00:00",
          "2021-03-18T00:00:00",
          "2021-03-19T00:00:00",
          "2021-03-20T00:00:00",
          "2021-03-21T00:00:00",
          "2021-03-22T00:00:00",
          "2021-03-23T00:00:00",
          "2021-03-24T00:00:00",
          "2021-03-25T00:00:00",
          "2021-03-26T00:00:00",
          "2021-03-27T00:00:00",
          "2021-03-28T00:00:00",
          "2021-03-29T00:00:00",
          "2021-03-30T00:00:00",
          "2021-03-31T00:00:00"
         ],
         "y": [
          1064015.8116927803,
          960073.6400460408,
          979388.3997458578,
          900520.718664612,
          856890.4331905358,
          904448.9070585369,
          848556.2247229788,
          963778.0094488298,
          837888.0226093966,
          876139.9787449106,
          831984.9052126791,
          805655.0981546337,
          868518.2213721309,
          829887.6666450527,
          954903.8586238124,
          864651.7775994379,
          893646.5426197188,
          850729.9016059384,
          834047.4885976852,
          897809.3657728195,
          849961.4415540484,
          968971.9656212952,
          864451.9969539974,
          885345.4992700783,
          837062.9395861074,
          818612.3118316453,
          884663.4290633089,
          842360.166923645,
          978485.2300620787,
          883948.3964957859,
          896082.1911052682,
          864989.0953850969,
          854511.0576993091,
          915719.4029016097,
          871606.4414390171,
          1002923.0805615048,
          900432.9292488262,
          903103.8677652153,
          860990.7609208961,
          829669.6147690138,
          895303.7309952066,
          847731.297705547,
          969839.0356364602,
          868954.0746745509,
          895385.2138147702,
          852778.7925611952,
          839696.8259856034,
          910819.1523152087,
          880757.3157701417,
          1009569.7801173438,
          892009.1953570701,
          933426.4465712542,
          885481.8194209201,
          849981.4614503233,
          900708.6963700486,
          849403.8921974327,
          961064.0967860437,
          856707.5379164614,
          885220.9106523314,
          848205.8413374838,
          817617.648287041,
          883915.4830660356,
          853227.9778306705,
          989269.672896194,
          909551.8554042763,
          952598.1860291699,
          924582.4824872571,
          923718.3547218299,
          1005024.8869314897,
          972124.1213802174,
          1102332.3105323694,
          1000084.7025702103,
          1018830.2389286134,
          962197.0188034023,
          931228.6437014035,
          984077.6743473195,
          926644.4312408102,
          1038544.5160044762,
          925239.4612968406,
          941696.8680922019,
          891177.9870308145,
          873927.8460174567,
          946646.4255052827,
          921928.7822431232,
          1059563.3907691587,
          950539.2492304561,
          993228.3679506797,
          944560.7799487336,
          934062.0460667098,
          1001195.9269866354,
          953630.2042753712,
          1079096.4178930088,
          963453.6690670509,
          952862.8973260815,
          896065.3511771439,
          849268.0013236402,
          903980.6905526435,
          846275.8307293594,
          959222.7005805562,
          846305.7712315975,
          873332.8663695917,
          824899.9512997279,
          799613.6693659652,
          882853.6513507668,
          821249.0339418835,
          967547.0856320864,
          861297.7479983412,
          893339.0835696975,
          847579.7819589251,
          829162.2103274474,
          896533.8254888145,
          852352.9696437232,
          975360.4247170229,
          867328.0175237241,
          886459.662517255,
          834728.1676755849,
          813749.7301118209,
          882545.3175641998,
          843102.4166314094,
          973460.9491315567,
          873720.3330494035,
          901531.2849383579,
          866786.7874110664,
          853025.6668932514,
          907650.5160787593,
          877022.1970702908,
          995173.7428723458,
          892455.9720867097,
          910975.8047149926,
          856533.0349427831,
          831301.7691410264,
          895379.1759495011,
          850560.5663481037,
          975659.3369725168,
          879130.4093282315,
          904605.713059841,
          841523.5790602075,
          834760.3642343814,
          901389.412228547,
          870588.3460191205,
          1002190.7510186182,
          899205.8034469226,
          921468.1996749291,
          868989.9782415876,
          843739.724405313,
          906161.3620615914,
          857288.4526771251,
          976410.0750827532,
          872217.9481806591,
          889793.2926043066,
          828560.056552343,
          819532.6117208397,
          868432.3371985743,
          850870.8785845062,
          983689.9558963431,
          907986.7805643313,
          950191.1273324911,
          901746.903274093,
          918390.5102389328,
          998294.2449130447,
          959986.3993363543,
          1118698.3064957766,
          997586.5352465718,
          1023038.5140366589,
          966638.9111529888,
          936136.300219171,
          993718.5816350428,
          939908.2690972247,
          1054625.262619206,
          935642.7452372573,
          947442.5764377263,
          890179.2875694574,
          867078.7093163526,
          939566.9023650964,
          905947.2746082346,
          1043815.5501406238,
          947711.5340915582,
          980190.5409490566,
          938771.5776633542,
          925024.0290210007,
          999555.716510229,
          969411.7687540039,
          1105062.6337336435,
          973490.9242692934,
          973981.0228857789,
          907265.8016468511,
          863913.2945913167,
          920489.0126865212,
          863568.7975120151,
          977323.6348765674,
          857231.8039433279,
          869284.5436743669,
          821628.3762595642,
          800293.9229087749,
          856056.9046026779,
          830882.6078011035,
          958284.1290796297,
          861535.367083094,
          888620.9840847199,
          841392.3456850117,
          822812.2726855278,
          895328.2412979451,
          856101.5590743765,
          983986.8025746674,
          872823.9313656134,
          890056.815784571,
          834270.6768579113,
          809799.1775197433,
          880165.4608657876,
          851844.9470298948,
          986309.2411596299,
          864957.3808243863,
          909545.2637242784,
          865383.6739255094,
          837808.9210292028,
          906464.8671812823,
          872708.6989427285,
          1001024.5844957271,
          896561.1035413255,
          914934.7961656341,
          858302.3235063327,
          831281.083022053,
          907514.9041689713,
          866875.052999483,
          976879.9122799736,
          885336.124623041,
          901314.4400297068,
          835608.0275098106,
          826062.4116223026,
          894792.649274262,
          866999.7695013917,
          1003394.236517537,
          898563.0642388461,
          921434.6533439243,
          868310.2229169529,
          843415.0645559691,
          911154.2542931561,
          866931.5885639616,
          990126.8834965888,
          872420.3382352584,
          884794.4111811742,
          834277.6992566227,
          810324.8198380426,
          866474.5640334,
          843464.6212509531,
          976045.323577415,
          883986.1231369602,
          920492.5603290948,
          885268.6778197906,
          881871.191119149,
          973847.3278570701,
          954043.5154967402,
          1099875.0300844456,
          999442.7020207723,
          1023909.8746052606,
          969153.7939547084,
          940579.5548200376,
          1004299.9294574212,
          955356.7146591413,
          1073886.2171631136,
          949906.3824110711,
          957371.6467704142,
          893315.6085811177,
          863958.4503540619,
          935492.0383380719,
          901463.835319012,
          1049449.5814214943,
          961750.4653759559,
          975674.2475290889,
          932780.3674344773,
          922811.1673652816,
          992996.4264432642,
          976739.4501540435,
          1093904.7381002973,
          1003442.6181144931,
          990308.6792258441,
          928286.2528062403,
          890945.2328972123,
          925907.2529021701,
          885040.125581684,
          992114.6772256193,
          869930.1714172451,
          876957.7096214845,
          813259.0151942436,
          784910.6650611209,
          858363.8214468966,
          825329.9160816519,
          963794.5071330903,
          858850.4021732634,
          884801.3215289107,
          844873.7518034574,
          827250.7131525121,
          887342.1671793148,
          862081.2567077625,
          986422.7114336502,
          876658.591057325,
          892334.8072322989,
          833095.6899271774,
          815411.3397800449,
          890083.567469073,
          837900.406779872,
          983119.9959250065,
          866470.7015898167,
          894728.7539780441,
          844359.8606197455,
          825630.1291568411,
          905498.9276516308,
          874421.4909594484,
          1010851.2237202895,
          898857.5279743228,
          915968.358744796,
          856386.7480508172,
          827302.7734433567,
          897386.4812107643,
          858064.0920383941,
          988712.1828205555,
          874458.4834562808,
          892945.4972489581,
          847813.1122470233,
          828501.2535545472,
          891999.6257435009,
          872673.2940366772,
          1004762.597202339,
          900867.4175124182,
          922009.8397938075,
          865492.8973276509,
          838134.0043698755,
          908687.3431311983,
          867489.7762306615,
          994331.0715399586,
          872764.3068767062,
          883634.4390929724,
          821265.1546958262,
          794002.3191516954,
          871646.5006643543,
          844109.5143940357,
          990409.0727675834,
          891976.5360306194,
          928269.7321791122,
          890874.9260452025,
          885760.2920277618,
          980662.0532407118,
          963147.2806210237,
          1111001.1994210987,
          1004638.2936028216,
          1024726.8702283832,
          963959.5976237312,
          930621.4228554193,
          1004900.7070491149,
          959720.8855380344,
          1064617.7804611307,
          947077.2997465502,
          946248.7843736863,
          885913.402969344,
          857462.1499446564,
          935525.2508162322,
          908025.4656858199,
          1053243.2700074497,
          950075.6282259314,
          989060.1824579701,
          943577.573910044,
          909126.0610003195,
          1000007.4797307238,
          968639.664582844,
          1106670.6913641759
         ]
        }
       ],
       "layout": {
        "annotations": [
         {
          "arrowhead": 0,
          "ax": -60,
          "ay": 0,
          "showarrow": true,
          "text": "Train End Date",
          "x": "2021-03-01T00:00:00",
          "xref": "x",
          "y": 0.97,
          "yref": "paper"
         }
        ],
        "legend": {
         "traceorder": "reversed"
        },
        "shapes": [
         {
          "line": {
           "color": "rgba(100, 100, 100, 0.9)",
           "width": 1
          },
          "type": "line",
          "x0": "2021-03-01T00:00:00",
          "x1": "2021-03-01T00:00:00",
          "xref": "x",
          "y0": 0,
          "y1": 1,
          "yref": "paper"
         }
        ],
        "showlegend": true,
        "template": {
         "data": {
          "bar": [
           {
            "error_x": {
             "color": "#2a3f5f"
            },
            "error_y": {
             "color": "#2a3f5f"
            },
            "marker": {
             "line": {
              "color": "#E5ECF6",
              "width": 0.5
             }
            },
            "type": "bar"
           }
          ],
          "barpolar": [
           {
            "marker": {
             "line": {
              "color": "#E5ECF6",
              "width": 0.5
             }
            },
            "type": "barpolar"
           }
          ],
          "carpet": [
           {
            "aaxis": {
             "endlinecolor": "#2a3f5f",
             "gridcolor": "white",
             "linecolor": "white",
             "minorgridcolor": "white",
             "startlinecolor": "#2a3f5f"
            },
            "baxis": {
             "endlinecolor": "#2a3f5f",
             "gridcolor": "white",
             "linecolor": "white",
             "minorgridcolor": "white",
             "startlinecolor": "#2a3f5f"
            },
            "type": "carpet"
           }
          ],
          "choropleth": [
           {
            "colorbar": {
             "outlinewidth": 0,
             "ticks": ""
            },
            "type": "choropleth"
           }
          ],
          "contour": [
           {
            "colorbar": {
             "outlinewidth": 0,
             "ticks": ""
            },
            "colorscale": [
             [
              0,
              "#0d0887"
             ],
             [
              0.1111111111111111,
              "#46039f"
             ],
             [
              0.2222222222222222,
              "#7201a8"
             ],
             [
              0.3333333333333333,
              "#9c179e"
             ],
             [
              0.4444444444444444,
              "#bd3786"
             ],
             [
              0.5555555555555556,
              "#d8576b"
             ],
             [
              0.6666666666666666,
              "#ed7953"
             ],
             [
              0.7777777777777778,
              "#fb9f3a"
             ],
             [
              0.8888888888888888,
              "#fdca26"
             ],
             [
              1,
              "#f0f921"
             ]
            ],
            "type": "contour"
           }
          ],
          "contourcarpet": [
           {
            "colorbar": {
             "outlinewidth": 0,
             "ticks": ""
            },
            "type": "contourcarpet"
           }
          ],
          "heatmap": [
           {
            "colorbar": {
             "outlinewidth": 0,
             "ticks": ""
            },
            "colorscale": [
             [
              0,
              "#0d0887"
             ],
             [
              0.1111111111111111,
              "#46039f"
             ],
             [
              0.2222222222222222,
              "#7201a8"
             ],
             [
              0.3333333333333333,
              "#9c179e"
             ],
             [
              0.4444444444444444,
              "#bd3786"
             ],
             [
              0.5555555555555556,
              "#d8576b"
             ],
             [
              0.6666666666666666,
              "#ed7953"
             ],
             [
              0.7777777777777778,
              "#fb9f3a"
             ],
             [
              0.8888888888888888,
              "#fdca26"
             ],
             [
              1,
              "#f0f921"
             ]
            ],
            "type": "heatmap"
           }
          ],
          "heatmapgl": [
           {
            "colorbar": {
             "outlinewidth": 0,
             "ticks": ""
            },
            "colorscale": [
             [
              0,
              "#0d0887"
             ],
             [
              0.1111111111111111,
              "#46039f"
             ],
             [
              0.2222222222222222,
              "#7201a8"
             ],
             [
              0.3333333333333333,
              "#9c179e"
             ],
             [
              0.4444444444444444,
              "#bd3786"
             ],
             [
              0.5555555555555556,
              "#d8576b"
             ],
             [
              0.6666666666666666,
              "#ed7953"
             ],
             [
              0.7777777777777778,
              "#fb9f3a"
             ],
             [
              0.8888888888888888,
              "#fdca26"
             ],
             [
              1,
              "#f0f921"
             ]
            ],
            "type": "heatmapgl"
           }
          ],
          "histogram": [
           {
            "marker": {
             "colorbar": {
              "outlinewidth": 0,
              "ticks": ""
             }
            },
            "type": "histogram"
           }
          ],
          "histogram2d": [
           {
            "colorbar": {
             "outlinewidth": 0,
             "ticks": ""
            },
            "colorscale": [
             [
              0,
              "#0d0887"
             ],
             [
              0.1111111111111111,
              "#46039f"
             ],
             [
              0.2222222222222222,
              "#7201a8"
             ],
             [
              0.3333333333333333,
              "#9c179e"
             ],
             [
              0.4444444444444444,
              "#bd3786"
             ],
             [
              0.5555555555555556,
              "#d8576b"
             ],
             [
              0.6666666666666666,
              "#ed7953"
             ],
             [
              0.7777777777777778,
              "#fb9f3a"
             ],
             [
              0.8888888888888888,
              "#fdca26"
             ],
             [
              1,
              "#f0f921"
             ]
            ],
            "type": "histogram2d"
           }
          ],
          "histogram2dcontour": [
           {
            "colorbar": {
             "outlinewidth": 0,
             "ticks": ""
            },
            "colorscale": [
             [
              0,
              "#0d0887"
             ],
             [
              0.1111111111111111,
              "#46039f"
             ],
             [
              0.2222222222222222,
              "#7201a8"
             ],
             [
              0.3333333333333333,
              "#9c179e"
             ],
             [
              0.4444444444444444,
              "#bd3786"
             ],
             [
              0.5555555555555556,
              "#d8576b"
             ],
             [
              0.6666666666666666,
              "#ed7953"
             ],
             [
              0.7777777777777778,
              "#fb9f3a"
             ],
             [
              0.8888888888888888,
              "#fdca26"
             ],
             [
              1,
              "#f0f921"
             ]
            ],
            "type": "histogram2dcontour"
           }
          ],
          "mesh3d": [
           {
            "colorbar": {
             "outlinewidth": 0,
             "ticks": ""
            },
            "type": "mesh3d"
           }
          ],
          "parcoords": [
           {
            "line": {
             "colorbar": {
              "outlinewidth": 0,
              "ticks": ""
             }
            },
            "type": "parcoords"
           }
          ],
          "pie": [
           {
            "automargin": true,
            "type": "pie"
           }
          ],
          "scatter": [
           {
            "marker": {
             "colorbar": {
              "outlinewidth": 0,
              "ticks": ""
             }
            },
            "type": "scatter"
           }
          ],
          "scatter3d": [
           {
            "line": {
             "colorbar": {
              "outlinewidth": 0,
              "ticks": ""
             }
            },
            "marker": {
             "colorbar": {
              "outlinewidth": 0,
              "ticks": ""
             }
            },
            "type": "scatter3d"
           }
          ],
          "scattercarpet": [
           {
            "marker": {
             "colorbar": {
              "outlinewidth": 0,
              "ticks": ""
             }
            },
            "type": "scattercarpet"
           }
          ],
          "scattergeo": [
           {
            "marker": {
             "colorbar": {
              "outlinewidth": 0,
              "ticks": ""
             }
            },
            "type": "scattergeo"
           }
          ],
          "scattergl": [
           {
            "marker": {
             "colorbar": {
              "outlinewidth": 0,
              "ticks": ""
             }
            },
            "type": "scattergl"
           }
          ],
          "scattermapbox": [
           {
            "marker": {
             "colorbar": {
              "outlinewidth": 0,
              "ticks": ""
             }
            },
            "type": "scattermapbox"
           }
          ],
          "scatterpolar": [
           {
            "marker": {
             "colorbar": {
              "outlinewidth": 0,
              "ticks": ""
             }
            },
            "type": "scatterpolar"
           }
          ],
          "scatterpolargl": [
           {
            "marker": {
             "colorbar": {
              "outlinewidth": 0,
              "ticks": ""
             }
            },
            "type": "scatterpolargl"
           }
          ],
          "scatterternary": [
           {
            "marker": {
             "colorbar": {
              "outlinewidth": 0,
              "ticks": ""
             }
            },
            "type": "scatterternary"
           }
          ],
          "surface": [
           {
            "colorbar": {
             "outlinewidth": 0,
             "ticks": ""
            },
            "colorscale": [
             [
              0,
              "#0d0887"
             ],
             [
              0.1111111111111111,
              "#46039f"
             ],
             [
              0.2222222222222222,
              "#7201a8"
             ],
             [
              0.3333333333333333,
              "#9c179e"
             ],
             [
              0.4444444444444444,
              "#bd3786"
             ],
             [
              0.5555555555555556,
              "#d8576b"
             ],
             [
              0.6666666666666666,
              "#ed7953"
             ],
             [
              0.7777777777777778,
              "#fb9f3a"
             ],
             [
              0.8888888888888888,
              "#fdca26"
             ],
             [
              1,
              "#f0f921"
             ]
            ],
            "type": "surface"
           }
          ],
          "table": [
           {
            "cells": {
             "fill": {
              "color": "#EBF0F8"
             },
             "line": {
              "color": "white"
             }
            },
            "header": {
             "fill": {
              "color": "#C8D4E3"
             },
             "line": {
              "color": "white"
             }
            },
            "type": "table"
           }
          ]
         },
         "layout": {
          "annotationdefaults": {
           "arrowcolor": "#2a3f5f",
           "arrowhead": 0,
           "arrowwidth": 1
          },
          "coloraxis": {
           "colorbar": {
            "outlinewidth": 0,
            "ticks": ""
           }
          },
          "colorscale": {
           "diverging": [
            [
             0,
             "#8e0152"
            ],
            [
             0.1,
             "#c51b7d"
            ],
            [
             0.2,
             "#de77ae"
            ],
            [
             0.3,
             "#f1b6da"
            ],
            [
             0.4,
             "#fde0ef"
            ],
            [
             0.5,
             "#f7f7f7"
            ],
            [
             0.6,
             "#e6f5d0"
            ],
            [
             0.7,
             "#b8e186"
            ],
            [
             0.8,
             "#7fbc41"
            ],
            [
             0.9,
             "#4d9221"
            ],
            [
             1,
             "#276419"
            ]
           ],
           "sequential": [
            [
             0,
             "#0d0887"
            ],
            [
             0.1111111111111111,
             "#46039f"
            ],
            [
             0.2222222222222222,
             "#7201a8"
            ],
            [
             0.3333333333333333,
             "#9c179e"
            ],
            [
             0.4444444444444444,
             "#bd3786"
            ],
            [
             0.5555555555555556,
             "#d8576b"
            ],
            [
             0.6666666666666666,
             "#ed7953"
            ],
            [
             0.7777777777777778,
             "#fb9f3a"
            ],
            [
             0.8888888888888888,
             "#fdca26"
            ],
            [
             1,
             "#f0f921"
            ]
           ],
           "sequentialminus": [
            [
             0,
             "#0d0887"
            ],
            [
             0.1111111111111111,
             "#46039f"
            ],
            [
             0.2222222222222222,
             "#7201a8"
            ],
            [
             0.3333333333333333,
             "#9c179e"
            ],
            [
             0.4444444444444444,
             "#bd3786"
            ],
            [
             0.5555555555555556,
             "#d8576b"
            ],
            [
             0.6666666666666666,
             "#ed7953"
            ],
            [
             0.7777777777777778,
             "#fb9f3a"
            ],
            [
             0.8888888888888888,
             "#fdca26"
            ],
            [
             1,
             "#f0f921"
            ]
           ]
          },
          "colorway": [
           "#636efa",
           "#EF553B",
           "#00cc96",
           "#ab63fa",
           "#FFA15A",
           "#19d3f3",
           "#FF6692",
           "#B6E880",
           "#FF97FF",
           "#FECB52"
          ],
          "font": {
           "color": "#2a3f5f"
          },
          "geo": {
           "bgcolor": "white",
           "lakecolor": "white",
           "landcolor": "#E5ECF6",
           "showlakes": true,
           "showland": true,
           "subunitcolor": "white"
          },
          "hoverlabel": {
           "align": "left"
          },
          "hovermode": "closest",
          "mapbox": {
           "style": "light"
          },
          "paper_bgcolor": "white",
          "plot_bgcolor": "#E5ECF6",
          "polar": {
           "angularaxis": {
            "gridcolor": "white",
            "linecolor": "white",
            "ticks": ""
           },
           "bgcolor": "#E5ECF6",
           "radialaxis": {
            "gridcolor": "white",
            "linecolor": "white",
            "ticks": ""
           }
          },
          "scene": {
           "xaxis": {
            "backgroundcolor": "#E5ECF6",
            "gridcolor": "white",
            "gridwidth": 2,
            "linecolor": "white",
            "showbackground": true,
            "ticks": "",
            "zerolinecolor": "white"
           },
           "yaxis": {
            "backgroundcolor": "#E5ECF6",
            "gridcolor": "white",
            "gridwidth": 2,
            "linecolor": "white",
            "showbackground": true,
            "ticks": "",
            "zerolinecolor": "white"
           },
           "zaxis": {
            "backgroundcolor": "#E5ECF6",
            "gridcolor": "white",
            "gridwidth": 2,
            "linecolor": "white",
            "showbackground": true,
            "ticks": "",
            "zerolinecolor": "white"
           }
          },
          "shapedefaults": {
           "line": {
            "color": "#2a3f5f"
           }
          },
          "ternary": {
           "aaxis": {
            "gridcolor": "white",
            "linecolor": "white",
            "ticks": ""
           },
           "baxis": {
            "gridcolor": "white",
            "linecolor": "white",
            "ticks": ""
           },
           "bgcolor": "#E5ECF6",
           "caxis": {
            "gridcolor": "white",
            "linecolor": "white",
            "ticks": ""
           }
          },
          "title": {
           "x": 0.05
          },
          "xaxis": {
           "automargin": true,
           "gridcolor": "white",
           "linecolor": "white",
           "ticks": "",
           "title": {
            "standoff": 15
           },
           "zerolinecolor": "white",
           "zerolinewidth": 2
          },
          "yaxis": {
           "automargin": true,
           "gridcolor": "white",
           "linecolor": "white",
           "ticks": "",
           "title": {
            "standoff": 15
           },
           "zerolinecolor": "white",
           "zerolinewidth": 2
          }
         }
        },
        "title": {
         "text": "Forecast vs Actual"
        },
        "xaxis": {
         "title": {
          "text": "ts"
         }
        },
        "yaxis": {
         "title": {
          "text": "y"
         }
        }
       }
      },
      "text/html": [
       "<div>                            <div id=\"b4b026c6-7732-4ba0-b618-81e77dabb33e\" class=\"plotly-graph-div\" style=\"height:525px; width:100%;\"></div>            <script type=\"text/javascript\">                require([\"plotly\"], function(Plotly) {                    window.PLOTLYENV=window.PLOTLYENV || {};                                    if (document.getElementById(\"b4b026c6-7732-4ba0-b618-81e77dabb33e\")) {                    Plotly.newPlot(                        \"b4b026c6-7732-4ba0-b618-81e77dabb33e\",                        [{\"legendgroup\": \"interval\", \"line\": {\"color\": \"rgba(0, 90, 181, 0.5)\", \"width\": 0.0}, \"mode\": \"lines\", \"name\": \"Lower Bound\", \"type\": \"scatter\", \"x\": [\"2020-04-01T00:00:00\", \"2020-04-02T00:00:00\", \"2020-04-03T00:00:00\", \"2020-04-04T00:00:00\", \"2020-04-05T00:00:00\", \"2020-04-06T00:00:00\", \"2020-04-07T00:00:00\", \"2020-04-08T00:00:00\", \"2020-04-09T00:00:00\", \"2020-04-10T00:00:00\", \"2020-04-11T00:00:00\", \"2020-04-12T00:00:00\", \"2020-04-13T00:00:00\", \"2020-04-14T00:00:00\", \"2020-04-15T00:00:00\", \"2020-04-16T00:00:00\", \"2020-04-17T00:00:00\", \"2020-04-18T00:00:00\", \"2020-04-19T00:00:00\", \"2020-04-20T00:00:00\", \"2020-04-21T00:00:00\", \"2020-04-22T00:00:00\", \"2020-04-23T00:00:00\", \"2020-04-24T00:00:00\", \"2020-04-25T00:00:00\", \"2020-04-26T00:00:00\", \"2020-04-27T00:00:00\", \"2020-04-28T00:00:00\", \"2020-04-29T00:00:00\", \"2020-04-30T00:00:00\", \"2020-05-01T00:00:00\", \"2020-05-02T00:00:00\", \"2020-05-03T00:00:00\", \"2020-05-04T00:00:00\", \"2020-05-05T00:00:00\", \"2020-05-06T00:00:00\", \"2020-05-07T00:00:00\", \"2020-05-08T00:00:00\", \"2020-05-09T00:00:00\", \"2020-05-10T00:00:00\", \"2020-05-11T00:00:00\", \"2020-05-12T00:00:00\", \"2020-05-13T00:00:00\", \"2020-05-14T00:00:00\", \"2020-05-15T00:00:00\", \"2020-05-16T00:00:00\", \"2020-05-17T00:00:00\", \"2020-05-18T00:00:00\", \"2020-05-19T00:00:00\", \"2020-05-20T00:00:00\", \"2020-05-21T00:00:00\", \"2020-05-22T00:00:00\", \"2020-05-23T00:00:00\", \"2020-05-24T00:00:00\", \"2020-05-25T00:00:00\", \"2020-05-26T00:00:00\", \"2020-05-27T00:00:00\", \"2020-05-28T00:00:00\", \"2020-05-29T00:00:00\", \"2020-05-30T00:00:00\", \"2020-05-31T00:00:00\", \"2020-06-01T00:00:00\", \"2020-06-02T00:00:00\", \"2020-06-03T00:00:00\", \"2020-06-04T00:00:00\", \"2020-06-05T00:00:00\", \"2020-06-06T00:00:00\", \"2020-06-07T00:00:00\", \"2020-06-08T00:00:00\", \"2020-06-09T00:00:00\", \"2020-06-10T00:00:00\", \"2020-06-11T00:00:00\", \"2020-06-12T00:00:00\", \"2020-06-13T00:00:00\", \"2020-06-14T00:00:00\", \"2020-06-15T00:00:00\", \"2020-06-16T00:00:00\", \"2020-06-17T00:00:00\", \"2020-06-18T00:00:00\", \"2020-06-19T00:00:00\", \"2020-06-20T00:00:00\", \"2020-06-21T00:00:00\", \"2020-06-22T00:00:00\", \"2020-06-23T00:00:00\", \"2020-06-24T00:00:00\", \"2020-06-25T00:00:00\", \"2020-06-26T00:00:00\", \"2020-06-27T00:00:00\", \"2020-06-28T00:00:00\", \"2020-06-29T00:00:00\", \"2020-06-30T00:00:00\", \"2020-07-01T00:00:00\", \"2020-07-02T00:00:00\", \"2020-07-03T00:00:00\", \"2020-07-04T00:00:00\", \"2020-07-05T00:00:00\", \"2020-07-06T00:00:00\", \"2020-07-07T00:00:00\", \"2020-07-08T00:00:00\", \"2020-07-09T00:00:00\", \"2020-07-10T00:00:00\", \"2020-07-11T00:00:00\", \"2020-07-12T00:00:00\", \"2020-07-13T00:00:00\", \"2020-07-14T00:00:00\", \"2020-07-15T00:00:00\", \"2020-07-16T00:00:00\", \"2020-07-17T00:00:00\", \"2020-07-18T00:00:00\", \"2020-07-19T00:00:00\", \"2020-07-20T00:00:00\", \"2020-07-21T00:00:00\", \"2020-07-22T00:00:00\", \"2020-07-23T00:00:00\", \"2020-07-24T00:00:00\", \"2020-07-25T00:00:00\", \"2020-07-26T00:00:00\", \"2020-07-27T00:00:00\", \"2020-07-28T00:00:00\", \"2020-07-29T00:00:00\", \"2020-07-30T00:00:00\", \"2020-07-31T00:00:00\", \"2020-08-01T00:00:00\", \"2020-08-02T00:00:00\", \"2020-08-03T00:00:00\", \"2020-08-04T00:00:00\", \"2020-08-05T00:00:00\", \"2020-08-06T00:00:00\", \"2020-08-07T00:00:00\", \"2020-08-08T00:00:00\", \"2020-08-09T00:00:00\", \"2020-08-10T00:00:00\", \"2020-08-11T00:00:00\", \"2020-08-12T00:00:00\", \"2020-08-13T00:00:00\", \"2020-08-14T00:00:00\", \"2020-08-15T00:00:00\", \"2020-08-16T00:00:00\", \"2020-08-17T00:00:00\", \"2020-08-18T00:00:00\", \"2020-08-19T00:00:00\", \"2020-08-20T00:00:00\", \"2020-08-21T00:00:00\", \"2020-08-22T00:00:00\", \"2020-08-23T00:00:00\", \"2020-08-24T00:00:00\", \"2020-08-25T00:00:00\", \"2020-08-26T00:00:00\", \"2020-08-27T00:00:00\", \"2020-08-28T00:00:00\", \"2020-08-29T00:00:00\", \"2020-08-30T00:00:00\", \"2020-08-31T00:00:00\", \"2020-09-01T00:00:00\", \"2020-09-02T00:00:00\", \"2020-09-03T00:00:00\", \"2020-09-04T00:00:00\", \"2020-09-05T00:00:00\", \"2020-09-06T00:00:00\", \"2020-09-07T00:00:00\", \"2020-09-08T00:00:00\", \"2020-09-09T00:00:00\", \"2020-09-10T00:00:00\", \"2020-09-11T00:00:00\", \"2020-09-12T00:00:00\", \"2020-09-13T00:00:00\", \"2020-09-14T00:00:00\", \"2020-09-15T00:00:00\", \"2020-09-16T00:00:00\", \"2020-09-17T00:00:00\", \"2020-09-18T00:00:00\", \"2020-09-19T00:00:00\", \"2020-09-20T00:00:00\", \"2020-09-21T00:00:00\", \"2020-09-22T00:00:00\", \"2020-09-23T00:00:00\", \"2020-09-24T00:00:00\", \"2020-09-25T00:00:00\", \"2020-09-26T00:00:00\", \"2020-09-27T00:00:00\", \"2020-09-28T00:00:00\", \"2020-09-29T00:00:00\", \"2020-09-30T00:00:00\", \"2020-10-01T00:00:00\", \"2020-10-02T00:00:00\", \"2020-10-03T00:00:00\", \"2020-10-04T00:00:00\", \"2020-10-05T00:00:00\", \"2020-10-06T00:00:00\", \"2020-10-07T00:00:00\", \"2020-10-08T00:00:00\", \"2020-10-09T00:00:00\", \"2020-10-10T00:00:00\", \"2020-10-11T00:00:00\", \"2020-10-12T00:00:00\", \"2020-10-13T00:00:00\", \"2020-10-14T00:00:00\", \"2020-10-15T00:00:00\", \"2020-10-16T00:00:00\", \"2020-10-17T00:00:00\", \"2020-10-18T00:00:00\", \"2020-10-19T00:00:00\", \"2020-10-20T00:00:00\", \"2020-10-21T00:00:00\", \"2020-10-22T00:00:00\", \"2020-10-23T00:00:00\", \"2020-10-24T00:00:00\", \"2020-10-25T00:00:00\", \"2020-10-26T00:00:00\", \"2020-10-27T00:00:00\", \"2020-10-28T00:00:00\", \"2020-10-29T00:00:00\", \"2020-10-30T00:00:00\", \"2020-10-31T00:00:00\", \"2020-11-01T00:00:00\", \"2020-11-02T00:00:00\", \"2020-11-03T00:00:00\", \"2020-11-04T00:00:00\", \"2020-11-05T00:00:00\", \"2020-11-06T00:00:00\", \"2020-11-07T00:00:00\", \"2020-11-08T00:00:00\", \"2020-11-09T00:00:00\", \"2020-11-10T00:00:00\", \"2020-11-11T00:00:00\", \"2020-11-12T00:00:00\", \"2020-11-13T00:00:00\", \"2020-11-14T00:00:00\", \"2020-11-15T00:00:00\", \"2020-11-16T00:00:00\", \"2020-11-17T00:00:00\", \"2020-11-18T00:00:00\", \"2020-11-19T00:00:00\", \"2020-11-20T00:00:00\", \"2020-11-21T00:00:00\", \"2020-11-22T00:00:00\", \"2020-11-23T00:00:00\", \"2020-11-24T00:00:00\", \"2020-11-25T00:00:00\", \"2020-11-26T00:00:00\", \"2020-11-27T00:00:00\", \"2020-11-28T00:00:00\", \"2020-11-29T00:00:00\", \"2020-11-30T00:00:00\", \"2020-12-01T00:00:00\", \"2020-12-02T00:00:00\", \"2020-12-03T00:00:00\", \"2020-12-04T00:00:00\", \"2020-12-05T00:00:00\", \"2020-12-06T00:00:00\", \"2020-12-07T00:00:00\", \"2020-12-08T00:00:00\", \"2020-12-09T00:00:00\", \"2020-12-10T00:00:00\", \"2020-12-11T00:00:00\", \"2020-12-12T00:00:00\", \"2020-12-13T00:00:00\", \"2020-12-14T00:00:00\", \"2020-12-15T00:00:00\", \"2020-12-16T00:00:00\", \"2020-12-17T00:00:00\", \"2020-12-18T00:00:00\", \"2020-12-19T00:00:00\", \"2020-12-20T00:00:00\", \"2020-12-21T00:00:00\", \"2020-12-22T00:00:00\", \"2020-12-23T00:00:00\", \"2020-12-24T00:00:00\", \"2020-12-25T00:00:00\", \"2020-12-26T00:00:00\", \"2020-12-27T00:00:00\", \"2020-12-28T00:00:00\", \"2020-12-29T00:00:00\", \"2020-12-30T00:00:00\", \"2020-12-31T00:00:00\", \"2021-01-01T00:00:00\", \"2021-01-02T00:00:00\", \"2021-01-03T00:00:00\", \"2021-01-04T00:00:00\", \"2021-01-05T00:00:00\", \"2021-01-06T00:00:00\", \"2021-01-07T00:00:00\", \"2021-01-08T00:00:00\", \"2021-01-09T00:00:00\", \"2021-01-10T00:00:00\", \"2021-01-11T00:00:00\", \"2021-01-12T00:00:00\", \"2021-01-13T00:00:00\", \"2021-01-14T00:00:00\", \"2021-01-15T00:00:00\", \"2021-01-16T00:00:00\", \"2021-01-17T00:00:00\", \"2021-01-18T00:00:00\", \"2021-01-19T00:00:00\", \"2021-01-20T00:00:00\", \"2021-01-21T00:00:00\", \"2021-01-22T00:00:00\", \"2021-01-23T00:00:00\", \"2021-01-24T00:00:00\", \"2021-01-25T00:00:00\", \"2021-01-26T00:00:00\", \"2021-01-27T00:00:00\", \"2021-01-28T00:00:00\", \"2021-01-29T00:00:00\", \"2021-01-30T00:00:00\", \"2021-01-31T00:00:00\", \"2021-02-01T00:00:00\", \"2021-02-02T00:00:00\", \"2021-02-03T00:00:00\", \"2021-02-04T00:00:00\", \"2021-02-05T00:00:00\", \"2021-02-06T00:00:00\", \"2021-02-07T00:00:00\", \"2021-02-08T00:00:00\", \"2021-02-09T00:00:00\", \"2021-02-10T00:00:00\", \"2021-02-11T00:00:00\", \"2021-02-12T00:00:00\", \"2021-02-13T00:00:00\", \"2021-02-14T00:00:00\", \"2021-02-15T00:00:00\", \"2021-02-16T00:00:00\", \"2021-02-17T00:00:00\", \"2021-02-18T00:00:00\", \"2021-02-19T00:00:00\", \"2021-02-20T00:00:00\", \"2021-02-21T00:00:00\", \"2021-02-22T00:00:00\", \"2021-02-23T00:00:00\", \"2021-02-24T00:00:00\", \"2021-02-25T00:00:00\", \"2021-02-26T00:00:00\", \"2021-02-27T00:00:00\", \"2021-02-28T00:00:00\", \"2021-03-01T00:00:00\", \"2021-03-02T00:00:00\", \"2021-03-03T00:00:00\", \"2021-03-04T00:00:00\", \"2021-03-05T00:00:00\", \"2021-03-06T00:00:00\", \"2021-03-07T00:00:00\", \"2021-03-08T00:00:00\", \"2021-03-09T00:00:00\", \"2021-03-10T00:00:00\", \"2021-03-11T00:00:00\", \"2021-03-12T00:00:00\", \"2021-03-13T00:00:00\", \"2021-03-14T00:00:00\", \"2021-03-15T00:00:00\", \"2021-03-16T00:00:00\", \"2021-03-17T00:00:00\", \"2021-03-18T00:00:00\", \"2021-03-19T00:00:00\", \"2021-03-20T00:00:00\", \"2021-03-21T00:00:00\", \"2021-03-22T00:00:00\", \"2021-03-23T00:00:00\", \"2021-03-24T00:00:00\", \"2021-03-25T00:00:00\", \"2021-03-26T00:00:00\", \"2021-03-27T00:00:00\", \"2021-03-28T00:00:00\", \"2021-03-29T00:00:00\", \"2021-03-30T00:00:00\", \"2021-03-31T00:00:00\"], \"y\": [-3872889.644937067, -707342.3930459279, -159514.3464427297, -385146.25930235593, -368353.67711043195, -708674.5096043226, 48929.38768112974, -3973127.447181017, -829528.010482572, -262762.76744367694, -453682.0727542889, -419589.01214633405, -744605.1952907286, 30260.82960320369, -3982001.5980060347, -802764.2554925308, -245256.2035688687, -434937.0763610295, -391196.62170328246, -715314.05089004, 50334.60451219941, -3967933.491008552, -802964.0361379712, -253557.24691850925, -448604.0383808606, -406631.7984693224, -728459.9875995506, 42733.329881795915, -3958420.2265677685, -783467.6365961827, -242820.5550833193, -420677.8825818711, -370733.0526016586, -697404.0137612498, 71979.60439716803, -3933982.3760683425, -766983.1038431424, -235798.87842337217, -424676.2170460719, -395574.4955319539, -717819.6856676529, 48104.460663697915, -3967066.420993387, -798461.9584174177, -243517.5323738173, -432888.18540577276, -385547.2843153643, -702304.2643476508, 81130.47872829263, -3927335.6765125035, -775406.8377348986, -205476.29961733334, -400185.15854604787, -375262.64885064436, -712414.7202928109, 49777.05515558366, -3975841.3598438036, -810708.4951755073, -253681.83553625608, -437461.1366294841, -407626.4620139267, -729207.933596824, 53601.1407888215, -3947635.783733653, -757864.1776876923, -186304.56015941757, -361084.49547971087, -301525.7555791378, -608098.5297313698, 172497.28433836834, -3834573.1460974775, -667331.3305217583, -120072.50725997414, -323469.95916356565, -294015.4665995642, -629045.74231554, 127017.59419896116, -3898360.940625371, -742176.571795128, -197205.87809638563, -394488.99093615345, -351316.264283511, -666476.9911575768, 122301.94520127412, -3877342.0658606887, -716876.7838615126, -145674.37823790777, -341106.19801823434, -291182.0642342579, -611927.4896762241, 154003.36723352212, -3857809.0387368384, -703962.3640249177, -186039.84886250598, -389601.6267898241, -375976.1089773275, -709142.726110216, 46648.993687510374, -3977682.756049291, -821110.2618603711, -265569.87981899583, -460767.0266672401, -425630.4409350025, -730269.7653120927, 21622.19690003444, -3969358.370997761, -806118.2850936274, -245563.66261889006, -438087.1960080429, -396081.8999735203, -716589.591174045, 52726.13260187418, -3961545.031912824, -800088.0155682445, -252443.08367133245, -450938.81029138307, -411494.38018914685, -730578.0990986597, 43475.579589560395, -3963444.5074982904, -793695.7000425651, -237371.46125022962, -418880.1905559016, -372218.44340771635, -705472.9005841002, 77395.36002844176, -3941731.7137575014, -774960.0610052589, -227926.94147359487, -429133.9430241849, -393942.3411599413, -717744.2407133584, 50933.72930625465, -3961246.11965733, -788285.6237637372, -234297.03312874655, -444143.3989067605, -390483.74606658635, -711734.0044343125, 70961.5089772715, -3934714.705611229, -768210.229645046, -217434.54651365837, -416676.99972538033, -381504.3858956547, -706962.0546012681, 57661.61563527607, -3960495.381547094, -795198.0849113095, -249109.4535842809, -457106.921414625, -405711.49858012795, -744691.0794642852, 51244.041542657185, -3953215.500733504, -759429.2525276373, -188711.6188560964, -383920.0746928749, -306853.6000620349, -614829.1717498148, 160359.5622945053, -3818207.150134071, -669829.4978453969, -115864.23215192859, -319028.0668139792, -289107.8100817967, -619404.8350278167, 140281.43205537566, -3882280.1940106414, -731773.2878547113, -191460.16975086124, -395487.69039751054, -358165.4009846151, -673556.5142977631, 106320.4375663856, -3893089.9064892232, -719704.4990004104, -158712.2052395309, -346895.40030361374, -300220.081279967, -613567.7001526305, 169784.93171215488, -3831842.822896204, -693925.1088226752, -164921.7233028086, -378401.17632011685, -361330.815709651, -692634.4039763383, 63941.96047016606, -3959581.82175328, -810184.2291486408, -269618.2025142206, -464038.6017074038, -424950.1873921928, -757066.5120601816, 31255.77075925446, -3978621.3275502175, -805880.6660088747, -250281.7621038676, -444274.63228195626, -402431.8376154399, -717795.1753649144, 56474.72203252744, -3952918.65405518, -794592.1017263553, -248845.93040401652, -451396.3011090567, -415444.9327812244, -732957.9557970719, 52218.10998804576, -3950596.215470217, -802458.6522675824, -229357.48246430908, -420283.3040414585, -387435.18927176495, -706658.5494815772, 73081.86190087942, -3935880.87213412, -770854.9295506431, -223967.95002295345, -427364.65446063527, -393963.0272789147, -705608.5124938881, 67248.21595763392, -3960025.5443498734, -782079.9084689276, -237588.3061588807, -450058.95045715733, -399181.6986786651, -718330.7673885975, 67372.93245954264, -3933511.2201123103, -768852.9688531226, -217468.0928446632, -417356.75505001505, -381829.0457449986, -701969.1623697034, 67304.75152211252, -3946778.573133258, -794995.6948567103, -254108.3350074133, -451389.2787103453, -414919.2904629251, -746648.8526294595, 43837.78420910402, -3960860.133052432, -783429.9099550084, -218410.18585949275, -400398.3001471774, -343372.9191818187, -639276.0888057894, 154416.6784548912, -3837030.4265454016, -667973.3310711964, -114992.87158332695, -316513.1840122596, -284664.55548093014, -608823.4872054383, 155729.87761729222, -3863019.2394667333, -717509.6506808975, -181531.0994181733, -392351.36938585027, -361285.6599469058, -677631.3783247876, 101836.99827716302, -3887455.8752083527, -705665.5677160127, -163228.49865949864, -352886.61053249065, -302432.9429356861, -620126.9902195953, 177112.61311219446, -3843000.71852955, -663973.4149774755, -148594.0669627434, -357380.7251607276, -334298.87740375544, -687216.1637606894, 85413.28853983502, -3944790.7794042276, -797485.8616747236, -261945.036567103, -472407.96277272434, -440333.4452398468, -754759.5952159629, 25703.07903980289, -3973110.949496757, -808565.6309187053, -254101.42465967685, -440793.2261635106, -397993.3971484556, -725781.2494835447, 62454.41966591345, -3950482.745196197, -790757.4420346436, -246567.93895628862, -452571.2880397906, -409832.77052092284, -723039.8491937865, 38273.56973802298, -3953785.4607048407, -800945.3315021519, -244173.99221054337, -441307.1173472225, -399613.9811441266, -707624.4890112287, 74794.65391759935, -3926054.2329095574, -768558.5051176458, -222934.3874437915, -429280.2299161508, -397941.33685761096, -715736.9354520952, 58437.25499654503, -3948193.2738092914, -792957.5496356878, -245957.2489396294, -437853.8657199447, -396742.8567464205, -721123.7909193586, 73046.45699482819, -3932142.859427508, -766548.6155795504, -216892.90639478003, -420174.08063931705, -387110.10593109217, -704436.0735316612, 67862.93918881251, -3942574.3850898887, -794651.7262152624, -255268.30709561508, -464401.82327114174, -431241.79114927235, -741476.9159985052, 44482.67735218664, -3946496.3838622635, -775439.4970613492, -210633.01400947536, -394792.05192176544, -339483.8182732059, -632461.3634221477, 163520.4435791747, -3825904.2572087487, -662777.739489147, -114175.87596020428, -321707.3803432367, -294622.68744554836, -608222.7096137446, 160094.04849618534, -3872287.6761687165, -720338.7333454185, -192653.9618149012, -399753.5749976239, -367781.9603563113, -677598.1658466273, 108398.62864397082, -3883662.1866223975, -717340.4048660372, -149842.5637306174, -342089.40405692393, -316118.04930064816, -613115.9369321357, 169012.82754099497, -3830234.7652656715]}, {\"fill\": \"tonexty\", \"fillcolor\": \"rgba(0, 90, 181, 0.15)\", \"legendgroup\": \"interval\", \"line\": {\"color\": \"rgba(0, 90, 181, 0.5)\", \"width\": 0.0}, \"mode\": \"lines\", \"name\": \"Upper Bound\", \"type\": \"scatter\", \"x\": [\"2020-04-01T00:00:00\", \"2020-04-02T00:00:00\", \"2020-04-03T00:00:00\", \"2020-04-04T00:00:00\", \"2020-04-05T00:00:00\", \"2020-04-06T00:00:00\", \"2020-04-07T00:00:00\", \"2020-04-08T00:00:00\", \"2020-04-09T00:00:00\", \"2020-04-10T00:00:00\", \"2020-04-11T00:00:00\", \"2020-04-12T00:00:00\", \"2020-04-13T00:00:00\", \"2020-04-14T00:00:00\", \"2020-04-15T00:00:00\", \"2020-04-16T00:00:00\", \"2020-04-17T00:00:00\", \"2020-04-18T00:00:00\", \"2020-04-19T00:00:00\", \"2020-04-20T00:00:00\", \"2020-04-21T00:00:00\", \"2020-04-22T00:00:00\", \"2020-04-23T00:00:00\", \"2020-04-24T00:00:00\", \"2020-04-25T00:00:00\", \"2020-04-26T00:00:00\", \"2020-04-27T00:00:00\", \"2020-04-28T00:00:00\", \"2020-04-29T00:00:00\", \"2020-04-30T00:00:00\", \"2020-05-01T00:00:00\", \"2020-05-02T00:00:00\", \"2020-05-03T00:00:00\", \"2020-05-04T00:00:00\", \"2020-05-05T00:00:00\", \"2020-05-06T00:00:00\", \"2020-05-07T00:00:00\", \"2020-05-08T00:00:00\", \"2020-05-09T00:00:00\", \"2020-05-10T00:00:00\", \"2020-05-11T00:00:00\", \"2020-05-12T00:00:00\", \"2020-05-13T00:00:00\", \"2020-05-14T00:00:00\", \"2020-05-15T00:00:00\", \"2020-05-16T00:00:00\", \"2020-05-17T00:00:00\", \"2020-05-18T00:00:00\", \"2020-05-19T00:00:00\", \"2020-05-20T00:00:00\", \"2020-05-21T00:00:00\", \"2020-05-22T00:00:00\", \"2020-05-23T00:00:00\", \"2020-05-24T00:00:00\", \"2020-05-25T00:00:00\", \"2020-05-26T00:00:00\", \"2020-05-27T00:00:00\", \"2020-05-28T00:00:00\", \"2020-05-29T00:00:00\", \"2020-05-30T00:00:00\", \"2020-05-31T00:00:00\", \"2020-06-01T00:00:00\", \"2020-06-02T00:00:00\", \"2020-06-03T00:00:00\", \"2020-06-04T00:00:00\", \"2020-06-05T00:00:00\", \"2020-06-06T00:00:00\", \"2020-06-07T00:00:00\", \"2020-06-08T00:00:00\", \"2020-06-09T00:00:00\", \"2020-06-10T00:00:00\", \"2020-06-11T00:00:00\", \"2020-06-12T00:00:00\", \"2020-06-13T00:00:00\", \"2020-06-14T00:00:00\", \"2020-06-15T00:00:00\", \"2020-06-16T00:00:00\", \"2020-06-17T00:00:00\", \"2020-06-18T00:00:00\", \"2020-06-19T00:00:00\", \"2020-06-20T00:00:00\", \"2020-06-21T00:00:00\", \"2020-06-22T00:00:00\", \"2020-06-23T00:00:00\", \"2020-06-24T00:00:00\", \"2020-06-25T00:00:00\", \"2020-06-26T00:00:00\", \"2020-06-27T00:00:00\", \"2020-06-28T00:00:00\", \"2020-06-29T00:00:00\", \"2020-06-30T00:00:00\", \"2020-07-01T00:00:00\", \"2020-07-02T00:00:00\", \"2020-07-03T00:00:00\", \"2020-07-04T00:00:00\", \"2020-07-05T00:00:00\", \"2020-07-06T00:00:00\", \"2020-07-07T00:00:00\", \"2020-07-08T00:00:00\", \"2020-07-09T00:00:00\", \"2020-07-10T00:00:00\", \"2020-07-11T00:00:00\", \"2020-07-12T00:00:00\", \"2020-07-13T00:00:00\", \"2020-07-14T00:00:00\", \"2020-07-15T00:00:00\", \"2020-07-16T00:00:00\", \"2020-07-17T00:00:00\", \"2020-07-18T00:00:00\", \"2020-07-19T00:00:00\", \"2020-07-20T00:00:00\", \"2020-07-21T00:00:00\", \"2020-07-22T00:00:00\", \"2020-07-23T00:00:00\", \"2020-07-24T00:00:00\", \"2020-07-25T00:00:00\", \"2020-07-26T00:00:00\", \"2020-07-27T00:00:00\", \"2020-07-28T00:00:00\", \"2020-07-29T00:00:00\", \"2020-07-30T00:00:00\", \"2020-07-31T00:00:00\", \"2020-08-01T00:00:00\", \"2020-08-02T00:00:00\", \"2020-08-03T00:00:00\", \"2020-08-04T00:00:00\", \"2020-08-05T00:00:00\", \"2020-08-06T00:00:00\", \"2020-08-07T00:00:00\", \"2020-08-08T00:00:00\", \"2020-08-09T00:00:00\", \"2020-08-10T00:00:00\", \"2020-08-11T00:00:00\", \"2020-08-12T00:00:00\", \"2020-08-13T00:00:00\", \"2020-08-14T00:00:00\", \"2020-08-15T00:00:00\", \"2020-08-16T00:00:00\", \"2020-08-17T00:00:00\", \"2020-08-18T00:00:00\", \"2020-08-19T00:00:00\", \"2020-08-20T00:00:00\", \"2020-08-21T00:00:00\", \"2020-08-22T00:00:00\", \"2020-08-23T00:00:00\", \"2020-08-24T00:00:00\", \"2020-08-25T00:00:00\", \"2020-08-26T00:00:00\", \"2020-08-27T00:00:00\", \"2020-08-28T00:00:00\", \"2020-08-29T00:00:00\", \"2020-08-30T00:00:00\", \"2020-08-31T00:00:00\", \"2020-09-01T00:00:00\", \"2020-09-02T00:00:00\", \"2020-09-03T00:00:00\", \"2020-09-04T00:00:00\", \"2020-09-05T00:00:00\", \"2020-09-06T00:00:00\", \"2020-09-07T00:00:00\", \"2020-09-08T00:00:00\", \"2020-09-09T00:00:00\", \"2020-09-10T00:00:00\", \"2020-09-11T00:00:00\", \"2020-09-12T00:00:00\", \"2020-09-13T00:00:00\", \"2020-09-14T00:00:00\", \"2020-09-15T00:00:00\", \"2020-09-16T00:00:00\", \"2020-09-17T00:00:00\", \"2020-09-18T00:00:00\", \"2020-09-19T00:00:00\", \"2020-09-20T00:00:00\", \"2020-09-21T00:00:00\", \"2020-09-22T00:00:00\", \"2020-09-23T00:00:00\", \"2020-09-24T00:00:00\", \"2020-09-25T00:00:00\", \"2020-09-26T00:00:00\", \"2020-09-27T00:00:00\", \"2020-09-28T00:00:00\", \"2020-09-29T00:00:00\", \"2020-09-30T00:00:00\", \"2020-10-01T00:00:00\", \"2020-10-02T00:00:00\", \"2020-10-03T00:00:00\", \"2020-10-04T00:00:00\", \"2020-10-05T00:00:00\", \"2020-10-06T00:00:00\", \"2020-10-07T00:00:00\", \"2020-10-08T00:00:00\", \"2020-10-09T00:00:00\", \"2020-10-10T00:00:00\", \"2020-10-11T00:00:00\", \"2020-10-12T00:00:00\", \"2020-10-13T00:00:00\", \"2020-10-14T00:00:00\", \"2020-10-15T00:00:00\", \"2020-10-16T00:00:00\", \"2020-10-17T00:00:00\", \"2020-10-18T00:00:00\", \"2020-10-19T00:00:00\", \"2020-10-20T00:00:00\", \"2020-10-21T00:00:00\", \"2020-10-22T00:00:00\", \"2020-10-23T00:00:00\", \"2020-10-24T00:00:00\", \"2020-10-25T00:00:00\", \"2020-10-26T00:00:00\", \"2020-10-27T00:00:00\", \"2020-10-28T00:00:00\", \"2020-10-29T00:00:00\", \"2020-10-30T00:00:00\", \"2020-10-31T00:00:00\", \"2020-11-01T00:00:00\", \"2020-11-02T00:00:00\", \"2020-11-03T00:00:00\", \"2020-11-04T00:00:00\", \"2020-11-05T00:00:00\", \"2020-11-06T00:00:00\", \"2020-11-07T00:00:00\", \"2020-11-08T00:00:00\", \"2020-11-09T00:00:00\", \"2020-11-10T00:00:00\", \"2020-11-11T00:00:00\", \"2020-11-12T00:00:00\", \"2020-11-13T00:00:00\", \"2020-11-14T00:00:00\", \"2020-11-15T00:00:00\", \"2020-11-16T00:00:00\", \"2020-11-17T00:00:00\", \"2020-11-18T00:00:00\", \"2020-11-19T00:00:00\", \"2020-11-20T00:00:00\", \"2020-11-21T00:00:00\", \"2020-11-22T00:00:00\", \"2020-11-23T00:00:00\", \"2020-11-24T00:00:00\", \"2020-11-25T00:00:00\", \"2020-11-26T00:00:00\", \"2020-11-27T00:00:00\", \"2020-11-28T00:00:00\", \"2020-11-29T00:00:00\", \"2020-11-30T00:00:00\", \"2020-12-01T00:00:00\", \"2020-12-02T00:00:00\", \"2020-12-03T00:00:00\", \"2020-12-04T00:00:00\", \"2020-12-05T00:00:00\", \"2020-12-06T00:00:00\", \"2020-12-07T00:00:00\", \"2020-12-08T00:00:00\", \"2020-12-09T00:00:00\", \"2020-12-10T00:00:00\", \"2020-12-11T00:00:00\", \"2020-12-12T00:00:00\", \"2020-12-13T00:00:00\", \"2020-12-14T00:00:00\", \"2020-12-15T00:00:00\", \"2020-12-16T00:00:00\", \"2020-12-17T00:00:00\", \"2020-12-18T00:00:00\", \"2020-12-19T00:00:00\", \"2020-12-20T00:00:00\", \"2020-12-21T00:00:00\", \"2020-12-22T00:00:00\", \"2020-12-23T00:00:00\", \"2020-12-24T00:00:00\", \"2020-12-25T00:00:00\", \"2020-12-26T00:00:00\", \"2020-12-27T00:00:00\", \"2020-12-28T00:00:00\", \"2020-12-29T00:00:00\", \"2020-12-30T00:00:00\", \"2020-12-31T00:00:00\", \"2021-01-01T00:00:00\", \"2021-01-02T00:00:00\", \"2021-01-03T00:00:00\", \"2021-01-04T00:00:00\", \"2021-01-05T00:00:00\", \"2021-01-06T00:00:00\", \"2021-01-07T00:00:00\", \"2021-01-08T00:00:00\", \"2021-01-09T00:00:00\", \"2021-01-10T00:00:00\", \"2021-01-11T00:00:00\", \"2021-01-12T00:00:00\", \"2021-01-13T00:00:00\", \"2021-01-14T00:00:00\", \"2021-01-15T00:00:00\", \"2021-01-16T00:00:00\", \"2021-01-17T00:00:00\", \"2021-01-18T00:00:00\", \"2021-01-19T00:00:00\", \"2021-01-20T00:00:00\", \"2021-01-21T00:00:00\", \"2021-01-22T00:00:00\", \"2021-01-23T00:00:00\", \"2021-01-24T00:00:00\", \"2021-01-25T00:00:00\", \"2021-01-26T00:00:00\", \"2021-01-27T00:00:00\", \"2021-01-28T00:00:00\", \"2021-01-29T00:00:00\", \"2021-01-30T00:00:00\", \"2021-01-31T00:00:00\", \"2021-02-01T00:00:00\", \"2021-02-02T00:00:00\", \"2021-02-03T00:00:00\", \"2021-02-04T00:00:00\", \"2021-02-05T00:00:00\", \"2021-02-06T00:00:00\", \"2021-02-07T00:00:00\", \"2021-02-08T00:00:00\", \"2021-02-09T00:00:00\", \"2021-02-10T00:00:00\", \"2021-02-11T00:00:00\", \"2021-02-12T00:00:00\", \"2021-02-13T00:00:00\", \"2021-02-14T00:00:00\", \"2021-02-15T00:00:00\", \"2021-02-16T00:00:00\", \"2021-02-17T00:00:00\", \"2021-02-18T00:00:00\", \"2021-02-19T00:00:00\", \"2021-02-20T00:00:00\", \"2021-02-21T00:00:00\", \"2021-02-22T00:00:00\", \"2021-02-23T00:00:00\", \"2021-02-24T00:00:00\", \"2021-02-25T00:00:00\", \"2021-02-26T00:00:00\", \"2021-02-27T00:00:00\", \"2021-02-28T00:00:00\", \"2021-03-01T00:00:00\", \"2021-03-02T00:00:00\", \"2021-03-03T00:00:00\", \"2021-03-04T00:00:00\", \"2021-03-05T00:00:00\", \"2021-03-06T00:00:00\", \"2021-03-07T00:00:00\", \"2021-03-08T00:00:00\", \"2021-03-09T00:00:00\", \"2021-03-10T00:00:00\", \"2021-03-11T00:00:00\", \"2021-03-12T00:00:00\", \"2021-03-13T00:00:00\", \"2021-03-14T00:00:00\", \"2021-03-15T00:00:00\", \"2021-03-16T00:00:00\", \"2021-03-17T00:00:00\", \"2021-03-18T00:00:00\", \"2021-03-19T00:00:00\", \"2021-03-20T00:00:00\", \"2021-03-21T00:00:00\", \"2021-03-22T00:00:00\", \"2021-03-23T00:00:00\", \"2021-03-24T00:00:00\", \"2021-03-25T00:00:00\", \"2021-03-26T00:00:00\", \"2021-03-27T00:00:00\", \"2021-03-28T00:00:00\", \"2021-03-29T00:00:00\", \"2021-03-30T00:00:00\", \"2021-03-31T00:00:00\"], \"y\": [6000921.268322628, 2627489.6731380094, 2118291.1459344453, 2186187.69663158, 2082134.5434915035, 2517572.3237213963, 1648183.061764828, 5900683.466078677, 2505304.055701365, 2015042.724933498, 2117651.883179647, 2030899.2084556012, 2481641.6380349905, 1629514.5036869016, 5891809.31525366, 2532067.8106914065, 2032549.2888083062, 2136396.8795729065, 2059291.598898653, 2510932.782435679, 1649588.2785958974, 5905877.422251143, 2531868.030045966, 2024248.2454586658, 2122729.9175530756, 2043856.4221326131, 2497786.8457261682, 1641987.003965494, 5915390.686691926, 2551364.4295877544, 2034984.9372938557, 2150656.073352065, 2079755.1680002767, 2528842.819564469, 1671233.278480866, 5939828.537191352, 2567848.962340795, 2042006.6139538027, 2146657.738887864, 2054913.7250699815, 2508427.147658066, 1647358.134747396, 5906744.492266308, 2536370.1077665193, 2034287.9600033578, 2138445.7705281633, 2064940.936286571, 2523942.5689780684, 1680384.1528119906, 5946475.236747191, 2559425.2284490387, 2072329.1927598417, 2171148.797387888, 2075225.571751291, 2513832.113032908, 1649030.7292392817, 5897969.553415891, 2524123.57100843, 2024123.656840919, 2133872.819304452, 2042861.7585880086, 2497038.899728895, 1652854.8148725196, 5926175.129526041, 2576967.888496245, 2091500.9322177575, 2210249.460454225, 2148962.4650227977, 2618148.303594349, 1771750.9584220664, 6039237.767162217, 2667500.735662179, 2157732.9851172008, 2247863.9967703703, 2156472.7540023713, 2597201.091010179, 1726271.2682826594, 5975449.972634323, 2592655.4943888094, 2080599.6142807894, 2176844.9649977824, 2099171.9563184245, 2559769.842168142, 1721555.619284972, 5996468.847399006, 2617955.2823224245, 2132131.1141392672, 2230227.7579157017, 2159306.1563676773, 2614319.343649495, 1753257.0413172203, 6016001.8745228555, 2630869.7021590197, 2091765.643514669, 2181732.329144112, 2074512.1116246078, 2517104.107215503, 1645902.6677712086, 5896128.157210403, 2513721.804323566, 2012235.612558179, 2110566.929266696, 2024857.7796669328, 2495977.068013626, 1620875.8709837324, 5904452.542261934, 2528713.78109031, 2032241.829758285, 2133246.759925893, 2054406.320628415, 2509657.242151674, 1651979.8066855723, 5912265.88134687, 2534744.0506156925, 2025362.4087058427, 2120395.145642553, 2038993.8404127886, 2495668.7342270594, 1642729.2536732585, 5910366.405761404, 2541136.3661413724, 2040434.0311269453, 2152453.765378034, 2078269.7771942192, 2520773.9327416187, 1676649.0341121398, 5932079.199502193, 2559872.0051786783, 2049878.5509035802, 2142200.012909751, 2056545.8794419942, 2508502.5926123606, 1650187.4033899526, 5912564.793602364, 2546546.4424202, 2043508.4592484285, 2127190.5570271756, 2060004.474535349, 2514512.8288914068, 1670215.1830609697, 5939096.207648465, 2566621.8365388913, 2060370.9458635165, 2154656.9562085555, 2068983.8347062808, 2519284.7787244506, 1656915.2897189741, 5913315.5317126, 2539633.9812726276, 2028696.0387928942, 2114227.034519311, 2044776.7220218075, 2481555.753861434, 1650497.7156263553, 5920595.41252619, 2575402.8136563, 2089093.8735210786, 2187413.881241061, 2143634.6205399004, 2611417.661575904, 1759613.2363782034, 6055603.763125624, 2665002.5683385404, 2161941.2602252467, 2252305.8891199566, 2161380.4105201387, 2606841.9982979023, 1739535.1061390736, 5991530.719249053, 2603058.778329226, 2086345.3226263137, 2175846.2655364256, 2092322.8196173203, 2552690.3190279556, 1705574.1116500837, 5980721.006770471, 2615127.5671835267, 2119093.2871376444, 2224438.555630322, 2150268.1393219684, 2612679.1331730885, 1769038.6057958528, 6041968.09036349, 2640906.9573612623, 2112883.7690743664, 2192932.779613819, 2089157.4048922844, 2533612.4293493805, 1663195.6345538641, 5914229.091506414, 2524647.8370352965, 2008187.2898629545, 2107295.3542265324, 2025538.0332097425, 2469180.3212655373, 1630509.4448429525, 5895189.585709477, 2528951.4001750625, 2027523.7302733073, 2127059.3236519797, 2048056.3829864955, 2508451.6579608046, 1655728.3961162255, 5920892.259204514, 2540239.9644575818, 2028959.5619731585, 2119937.654824879, 2035043.287820711, 2493288.877528647, 1651471.784071744, 5923214.697789477, 2532373.413916355, 2048448.009912866, 2151050.6518924776, 2063053.0313301706, 2519588.2838441418, 1672335.5359845776, 5937930.041125574, 2563977.136633294, 2053837.5423542215, 2143969.301473301, 2056525.1933230208, 2520638.3208318306, 1666501.890041332, 5913785.368909821, 2552752.1577150095, 2040217.1862182943, 2121275.0054767784, 2051306.5219232703, 2507916.0659371214, 1666626.6065432406, 5940299.693147385, 2565979.0973308147, 2060337.3995325118, 2153977.200883921, 2068659.1748569368, 2524277.6709560156, 1666558.4256058107, 5927032.340126436, 2539836.371327227, 2023697.1573697617, 2119944.6772235907, 2035568.9301390103, 2479597.9806962595, 1643091.458292802, 5912950.780207262, 2551402.156228929, 2059395.3065176823, 2170935.6557867583, 2107115.301420117, 2586970.7445199294, 1753670.3525385894, 6036780.486714292, 2666858.7351127407, 2162812.6207938483, 2254820.7719216766, 2165823.6651210054, 2617423.3461202807, 1754983.5517009902, 6010791.673792961, 2617322.41550304, 2096274.3929590017, 2178982.586548086, 2089202.5606550295, 2548615.4550009314, 1701090.6723608612, 5986355.038051342, 2629166.4984679245, 2114576.9937176765, 2218447.3454014454, 2148055.2776662493, 2606119.8431061236, 1776366.2871958925, 6030810.194730144, 2670858.6512064617, 2129211.425414432, 2213953.230773208, 2116189.34319818, 2539030.6695650294, 1684666.962623533, 5929020.133855467, 2537346.2045092136, 2015860.455810072, 2098925.9931612117, 2010154.7753620886, 2471487.2381097563, 1624956.7531235009, 5900699.963762937, 2526266.435265232, 2023704.0677174982, 2130540.7297704252, 2052494.82345348, 2500465.583842174, 1661708.0937496116, 5923328.168063497, 2544074.6241492936, 2031237.5534208864, 2118762.6678941455, 2040655.4500810127, 2503206.9841319323, 1637527.243821721, 5920025.452554854, 2533886.734681785, 2033631.5001666318, 2130026.838586713, 2050874.239457809, 2518622.3443144904, 1674048.3280012975, 5947756.680350137, 2566273.5610662913, 2054871.1049333834, 2142053.7260177853, 2052546.8837443246, 2510509.8978736238, 1657690.9290802432, 5925617.639450403, 2541874.5165482494, 2031848.2434375456, 2133480.0902139912, 2053745.363855515, 2505123.0424063606, 1672300.1310785264, 5941668.053832186, 2568283.4506043866, 2060912.5859823949, 2151159.875294619, 2063378.1146708434, 2521810.759794058, 1667116.6132725105, 5931236.528169806, 2540180.339968675, 2022537.1852815598, 2106932.132662794, 2019246.429452663, 2484769.917327214, 1643736.3514358848, 5927314.529397431, 2559392.5691225883, 2067172.4783676998, 2176541.9040121706, 2111004.4023287296, 2593785.4699035715, 1762774.1176628727, 6047906.656050946, 2672054.3266947903, 2163629.6164169707, 2249626.575590699, 2155865.533156387, 2618024.1237119744, 1759347.7225798834, 6001523.237090978, 2614493.3328385185, 2085151.5305622737, 2171580.380936312, 2082706.260245624, 2548648.667479092, 1707652.302727669, 5990148.726637296, 2617491.6613179, 2127962.9286465575, 2229244.551877012, 2134370.171301287, 2613130.896393583, 1768266.5016246932, 6043576.147994023]}, {\"line\": {\"color\": \"rgba(250, 43, 20, 0.7)\"}, \"marker\": {\"color\": \"rgba(250, 43, 20, 0.7)\", \"size\": 2.0}, \"mode\": \"lines+markers\", \"name\": \"Actual\", \"opacity\": 1.0, \"type\": \"scatter\", \"x\": [\"2020-04-01T00:00:00\", \"2020-04-02T00:00:00\", \"2020-04-03T00:00:00\", \"2020-04-04T00:00:00\", \"2020-04-05T00:00:00\", \"2020-04-06T00:00:00\", \"2020-04-07T00:00:00\", \"2020-04-08T00:00:00\", \"2020-04-09T00:00:00\", \"2020-04-10T00:00:00\", \"2020-04-11T00:00:00\", \"2020-04-12T00:00:00\", \"2020-04-13T00:00:00\", \"2020-04-14T00:00:00\", \"2020-04-15T00:00:00\", \"2020-04-16T00:00:00\", \"2020-04-17T00:00:00\", \"2020-04-18T00:00:00\", \"2020-04-19T00:00:00\", \"2020-04-20T00:00:00\", \"2020-04-21T00:00:00\", \"2020-04-22T00:00:00\", \"2020-04-23T00:00:00\", \"2020-04-24T00:00:00\", \"2020-04-25T00:00:00\", \"2020-04-26T00:00:00\", \"2020-04-27T00:00:00\", \"2020-04-28T00:00:00\", \"2020-04-29T00:00:00\", \"2020-04-30T00:00:00\", \"2020-05-01T00:00:00\", \"2020-05-02T00:00:00\", \"2020-05-03T00:00:00\", \"2020-05-04T00:00:00\", \"2020-05-05T00:00:00\", \"2020-05-06T00:00:00\", \"2020-05-07T00:00:00\", \"2020-05-08T00:00:00\", \"2020-05-09T00:00:00\", \"2020-05-10T00:00:00\", \"2020-05-11T00:00:00\", \"2020-05-12T00:00:00\", \"2020-05-13T00:00:00\", \"2020-05-14T00:00:00\", \"2020-05-15T00:00:00\", \"2020-05-16T00:00:00\", \"2020-05-17T00:00:00\", \"2020-05-18T00:00:00\", \"2020-05-19T00:00:00\", \"2020-05-20T00:00:00\", \"2020-05-21T00:00:00\", \"2020-05-22T00:00:00\", \"2020-05-23T00:00:00\", \"2020-05-24T00:00:00\", \"2020-05-25T00:00:00\", \"2020-05-26T00:00:00\", \"2020-05-27T00:00:00\", \"2020-05-28T00:00:00\", \"2020-05-29T00:00:00\", \"2020-05-30T00:00:00\", \"2020-05-31T00:00:00\", \"2020-06-01T00:00:00\", \"2020-06-02T00:00:00\", \"2020-06-03T00:00:00\", \"2020-06-04T00:00:00\", \"2020-06-05T00:00:00\", \"2020-06-06T00:00:00\", \"2020-06-07T00:00:00\", \"2020-06-08T00:00:00\", \"2020-06-09T00:00:00\", \"2020-06-10T00:00:00\", \"2020-06-11T00:00:00\", \"2020-06-12T00:00:00\", \"2020-06-13T00:00:00\", \"2020-06-14T00:00:00\", \"2020-06-15T00:00:00\", \"2020-06-16T00:00:00\", \"2020-06-17T00:00:00\", \"2020-06-18T00:00:00\", \"2020-06-19T00:00:00\", \"2020-06-20T00:00:00\", \"2020-06-21T00:00:00\", \"2020-06-22T00:00:00\", \"2020-06-23T00:00:00\", \"2020-06-24T00:00:00\", \"2020-06-25T00:00:00\", \"2020-06-26T00:00:00\", \"2020-06-27T00:00:00\", \"2020-06-28T00:00:00\", \"2020-06-29T00:00:00\", \"2020-06-30T00:00:00\", \"2020-07-01T00:00:00\", \"2020-07-02T00:00:00\", \"2020-07-03T00:00:00\", \"2020-07-04T00:00:00\", \"2020-07-05T00:00:00\", \"2020-07-06T00:00:00\", \"2020-07-07T00:00:00\", \"2020-07-08T00:00:00\", \"2020-07-09T00:00:00\", \"2020-07-10T00:00:00\", \"2020-07-11T00:00:00\", \"2020-07-12T00:00:00\", \"2020-07-13T00:00:00\", \"2020-07-14T00:00:00\", \"2020-07-15T00:00:00\", \"2020-07-16T00:00:00\", \"2020-07-17T00:00:00\", \"2020-07-18T00:00:00\", \"2020-07-19T00:00:00\", \"2020-07-20T00:00:00\", \"2020-07-21T00:00:00\", \"2020-07-22T00:00:00\", \"2020-07-23T00:00:00\", \"2020-07-24T00:00:00\", \"2020-07-25T00:00:00\", \"2020-07-26T00:00:00\", \"2020-07-27T00:00:00\", \"2020-07-28T00:00:00\", \"2020-07-29T00:00:00\", \"2020-07-30T00:00:00\", \"2020-07-31T00:00:00\", \"2020-08-01T00:00:00\", \"2020-08-02T00:00:00\", \"2020-08-03T00:00:00\", \"2020-08-04T00:00:00\", \"2020-08-05T00:00:00\", \"2020-08-06T00:00:00\", \"2020-08-07T00:00:00\", \"2020-08-08T00:00:00\", \"2020-08-09T00:00:00\", \"2020-08-10T00:00:00\", \"2020-08-11T00:00:00\", \"2020-08-12T00:00:00\", \"2020-08-13T00:00:00\", \"2020-08-14T00:00:00\", \"2020-08-15T00:00:00\", \"2020-08-16T00:00:00\", \"2020-08-17T00:00:00\", \"2020-08-18T00:00:00\", \"2020-08-19T00:00:00\", \"2020-08-20T00:00:00\", \"2020-08-21T00:00:00\", \"2020-08-22T00:00:00\", \"2020-08-23T00:00:00\", \"2020-08-24T00:00:00\", \"2020-08-25T00:00:00\", \"2020-08-26T00:00:00\", \"2020-08-27T00:00:00\", \"2020-08-28T00:00:00\", \"2020-08-29T00:00:00\", \"2020-08-30T00:00:00\", \"2020-08-31T00:00:00\", \"2020-09-01T00:00:00\", \"2020-09-02T00:00:00\", \"2020-09-03T00:00:00\", \"2020-09-04T00:00:00\", \"2020-09-05T00:00:00\", \"2020-09-06T00:00:00\", \"2020-09-07T00:00:00\", \"2020-09-08T00:00:00\", \"2020-09-09T00:00:00\", \"2020-09-10T00:00:00\", \"2020-09-11T00:00:00\", \"2020-09-12T00:00:00\", \"2020-09-13T00:00:00\", \"2020-09-14T00:00:00\", \"2020-09-15T00:00:00\", \"2020-09-16T00:00:00\", \"2020-09-17T00:00:00\", \"2020-09-18T00:00:00\", \"2020-09-19T00:00:00\", \"2020-09-20T00:00:00\", \"2020-09-21T00:00:00\", \"2020-09-22T00:00:00\", \"2020-09-23T00:00:00\", \"2020-09-24T00:00:00\", \"2020-09-25T00:00:00\", \"2020-09-26T00:00:00\", \"2020-09-27T00:00:00\", \"2020-09-28T00:00:00\", \"2020-09-29T00:00:00\", \"2020-09-30T00:00:00\", \"2020-10-01T00:00:00\", \"2020-10-02T00:00:00\", \"2020-10-03T00:00:00\", \"2020-10-04T00:00:00\", \"2020-10-05T00:00:00\", \"2020-10-06T00:00:00\", \"2020-10-07T00:00:00\", \"2020-10-08T00:00:00\", \"2020-10-09T00:00:00\", \"2020-10-10T00:00:00\", \"2020-10-11T00:00:00\", \"2020-10-12T00:00:00\", \"2020-10-13T00:00:00\", \"2020-10-14T00:00:00\", \"2020-10-15T00:00:00\", \"2020-10-16T00:00:00\", \"2020-10-17T00:00:00\", \"2020-10-18T00:00:00\", \"2020-10-19T00:00:00\", \"2020-10-20T00:00:00\", \"2020-10-21T00:00:00\", \"2020-10-22T00:00:00\", \"2020-10-23T00:00:00\", \"2020-10-24T00:00:00\", \"2020-10-25T00:00:00\", \"2020-10-26T00:00:00\", \"2020-10-27T00:00:00\", \"2020-10-28T00:00:00\", \"2020-10-29T00:00:00\", \"2020-10-30T00:00:00\", \"2020-10-31T00:00:00\", \"2020-11-01T00:00:00\", \"2020-11-02T00:00:00\", \"2020-11-03T00:00:00\", \"2020-11-04T00:00:00\", \"2020-11-05T00:00:00\", \"2020-11-06T00:00:00\", \"2020-11-07T00:00:00\", \"2020-11-08T00:00:00\", \"2020-11-09T00:00:00\", \"2020-11-10T00:00:00\", \"2020-11-11T00:00:00\", \"2020-11-12T00:00:00\", \"2020-11-13T00:00:00\", \"2020-11-14T00:00:00\", \"2020-11-15T00:00:00\", \"2020-11-16T00:00:00\", \"2020-11-17T00:00:00\", \"2020-11-18T00:00:00\", \"2020-11-19T00:00:00\", \"2020-11-20T00:00:00\", \"2020-11-21T00:00:00\", \"2020-11-22T00:00:00\", \"2020-11-23T00:00:00\", \"2020-11-24T00:00:00\", \"2020-11-25T00:00:00\", \"2020-11-26T00:00:00\", \"2020-11-27T00:00:00\", \"2020-11-28T00:00:00\", \"2020-11-29T00:00:00\", \"2020-11-30T00:00:00\", \"2020-12-01T00:00:00\", \"2020-12-02T00:00:00\", \"2020-12-03T00:00:00\", \"2020-12-04T00:00:00\", \"2020-12-05T00:00:00\", \"2020-12-06T00:00:00\", \"2020-12-07T00:00:00\", \"2020-12-08T00:00:00\", \"2020-12-09T00:00:00\", \"2020-12-10T00:00:00\", \"2020-12-11T00:00:00\", \"2020-12-12T00:00:00\", \"2020-12-13T00:00:00\", \"2020-12-14T00:00:00\", \"2020-12-15T00:00:00\", \"2020-12-16T00:00:00\", \"2020-12-17T00:00:00\", \"2020-12-18T00:00:00\", \"2020-12-19T00:00:00\", \"2020-12-20T00:00:00\", \"2020-12-21T00:00:00\", \"2020-12-22T00:00:00\", \"2020-12-23T00:00:00\", \"2020-12-24T00:00:00\", \"2020-12-25T00:00:00\", \"2020-12-26T00:00:00\", \"2020-12-27T00:00:00\", \"2020-12-28T00:00:00\", \"2020-12-29T00:00:00\", \"2020-12-30T00:00:00\", \"2020-12-31T00:00:00\", \"2021-01-01T00:00:00\", \"2021-01-02T00:00:00\", \"2021-01-03T00:00:00\", \"2021-01-04T00:00:00\", \"2021-01-05T00:00:00\", \"2021-01-06T00:00:00\", \"2021-01-07T00:00:00\", \"2021-01-08T00:00:00\", \"2021-01-09T00:00:00\", \"2021-01-10T00:00:00\", \"2021-01-11T00:00:00\", \"2021-01-12T00:00:00\", \"2021-01-13T00:00:00\", \"2021-01-14T00:00:00\", \"2021-01-15T00:00:00\", \"2021-01-16T00:00:00\", \"2021-01-17T00:00:00\", \"2021-01-18T00:00:00\", \"2021-01-19T00:00:00\", \"2021-01-20T00:00:00\", \"2021-01-21T00:00:00\", \"2021-01-22T00:00:00\", \"2021-01-23T00:00:00\", \"2021-01-24T00:00:00\", \"2021-01-25T00:00:00\", \"2021-01-26T00:00:00\", \"2021-01-27T00:00:00\", \"2021-01-28T00:00:00\", \"2021-01-29T00:00:00\", \"2021-01-30T00:00:00\", \"2021-01-31T00:00:00\", \"2021-02-01T00:00:00\", \"2021-02-02T00:00:00\", \"2021-02-03T00:00:00\", \"2021-02-04T00:00:00\", \"2021-02-05T00:00:00\", \"2021-02-06T00:00:00\", \"2021-02-07T00:00:00\", \"2021-02-08T00:00:00\", \"2021-02-09T00:00:00\", \"2021-02-10T00:00:00\", \"2021-02-11T00:00:00\", \"2021-02-12T00:00:00\", \"2021-02-13T00:00:00\", \"2021-02-14T00:00:00\", \"2021-02-15T00:00:00\", \"2021-02-16T00:00:00\", \"2021-02-17T00:00:00\", \"2021-02-18T00:00:00\", \"2021-02-19T00:00:00\", \"2021-02-20T00:00:00\", \"2021-02-21T00:00:00\", \"2021-02-22T00:00:00\", \"2021-02-23T00:00:00\", \"2021-02-24T00:00:00\", \"2021-02-25T00:00:00\", \"2021-02-26T00:00:00\", \"2021-02-27T00:00:00\", \"2021-02-28T00:00:00\", \"2021-03-01T00:00:00\", \"2021-03-02T00:00:00\", \"2021-03-03T00:00:00\", \"2021-03-04T00:00:00\", \"2021-03-05T00:00:00\", \"2021-03-06T00:00:00\", \"2021-03-07T00:00:00\", \"2021-03-08T00:00:00\", \"2021-03-09T00:00:00\", \"2021-03-10T00:00:00\", \"2021-03-11T00:00:00\", \"2021-03-12T00:00:00\", \"2021-03-13T00:00:00\", \"2021-03-14T00:00:00\", \"2021-03-15T00:00:00\", \"2021-03-16T00:00:00\", \"2021-03-17T00:00:00\", \"2021-03-18T00:00:00\", \"2021-03-19T00:00:00\", \"2021-03-20T00:00:00\", \"2021-03-21T00:00:00\", \"2021-03-22T00:00:00\", \"2021-03-23T00:00:00\", \"2021-03-24T00:00:00\", \"2021-03-25T00:00:00\", \"2021-03-26T00:00:00\", \"2021-03-27T00:00:00\", \"2021-03-28T00:00:00\", \"2021-03-29T00:00:00\", \"2021-03-30T00:00:00\", \"2021-03-31T00:00:00\"], \"y\": [961150.0, 753357.1428571428, 681724.2068965518, null, null, 725208.0, 630053.7368421053, 676583.3333333334, 773225.2692307692, 666255.6428571428, null, 325000.0, 1192963.4347826086, 883883.5, 1115649.0666666667, 703075.8947368421, 593240.8, null, null, 630549.76, 788538.3684210526, 534571.5, 706054.68, 766311.7619047619, 670000.0, null, 672223.2571428572, 589203.6666666666, 717248.3928571428, 645056.5660377359, 761566.3846153846, null, null, 742996.5925925926, 928117.8571428572, 722244.3181818182, 802193.448275862, 737056.8913043478, null, null, 1010215.1176470588, 559954.9, 594030.4, 786627.5, 2423803.590909091, 400000.0, null, 580116.6333333333, 649406.4285714285, 571375.7666666667, 1257801.9523809524, 1018404.1714285715, null, 325000.0, null, 572714.6086956522, 601808.6341463415, 818277.015625, 685398.4583333334, null, 340000.0, 558506.7741935484, 694160.2666666667, 1809577.5, 759085.9375, 663100.880952381, null, null, 584458.6, 1286910.6304347827, 674959.5454545454, 6283043.34375, 821677.42, 484787.0, null, 833615.7916666666, 796530.75, 626165.4705882353, 562851.2580645161, 680855.3958333334, null, null, 634731.0952380953, 2134153.5555555555, 1374770.888888889, 705734.1449275363, 732110.9016393443, null, null, 3128182.919354839, 771592.4027777778, 786353.2962962963, 635133.3111111111, 365000.0, null, null, 610116.2727272727, 855789.3243243244, 942172.3255813953, 1002349.9333333333, 1207195.462962963, 265000.0, null, 521447.625, 1019686.8163265307, 734260.9615384615, 782620.7435897436, 675106.5769230769, 356000.0, null, 625668.5319148937, 631018.0769230769, 623849.725490196, 1151866.625, 608356.5416666666, null, null, 566493.1904761905, 716382.7727272727, 1063304.0487804879, 657447.7843137255, 606157.1694915254, 336500.0, null, 1100150.775, 703381.2105263158, 698784.5666666667, 597978.6666666666, 662752.4583333334, null, null, 737526.5357142857, 759952.6315789474, 664542.6666666666, 587161.7608695652, 640727.659574468, 804097.0, 120000.0, 681732.3103448276, 580265.8837209302, 1042224.8666666667, 822008.9818181818, 783539.5217391305, 306146.0, 471271.25, 684929.4545454546, 640625.1081081082, 1140819.3703703703, 631340.0, 3335524.5070422534, 303280.0, null, 1679717.844155844, 633616.3225806452, 690991.1, 681047.9714285714, 1435634.0, 850000.0, null, 6000.0, 583332.512195122, 11782759.705882354, 1010899.8372093023, 1133387.7567567567, null, null, 5504713.85106383, 690470.3278688524, 872583.051724138, 615537.4716981133, 643329.4761904762, null, 217000.0, 674469.5263157894, 1033372.1272727273, 802347.9649122807, 758760.3768115942, 715879.4533333334, null, null, 693191.303030303, 862207.5540540541, 14690100.05, 923863.4225352113, 712918.0363636364, null, 90000.0, 683918.8484848485, 731857.1111111111, 631391.24, 587772.3191489362, 620802.2205882353, null, null, 317422.5, 712517.5714285715, 730325.5769230769, 830288.86, 639017.6101694915, 3000.0, null, 575891.0333333333, 699273.3928571428, 693789.1833333333, 753131.0754716981, 747951.3, 285000.0, 5000.0, 652001.9298245613, 709614.3606557377, 831534.3918918918, 729093.1382978724, 1050691.7684210527, 410000.0, 399000.0, 694042.5588235294, 704709.475, 758629.3103448276, 640258.0714285715, 705806.2380952381, null, 420000.0, 740381.828125, 744469.9344262296, 500318.1818181818, 704503.1891891892, 2660488.6923076925, null, null, 673783.0363636364, 763621.4736842106, 1125740.4705882352, 697605.71875, 680614.3333333334, null, null, 639074.205479452, 779583.9784946237, 741491.7611940298, null, 832958.75, null, 246664.0, 687234.4642857143, 710952.6323529412, 675483.515625, 781023.96875, 679605.7702702703, null, 360000.0, 757934.828125, 676002.6111111111, 612785.8153846153, 673998.8533333334, 639837.875, 1000000.0, 395801.5, 1057572.6712328766, 787623.5, 815271.8, 1206976.66, 1029722.0260869565, null, null, 2140242.969072165, 3079420.9344262294, 818685.9696969697, 3036481.242424242, null, 390787.0, null, 1193972.0833333333, 745306.5108695652, 1182410.3086419753, 904587.4307692308, null, null, null, 515441.9655172414, 937195.8113207547, 629678.7924528302, 870835.4074074074, 673749.8793103448, 200000.0, null, 638217.0757575758, 941716.2987012987, 629515.2909090909, 617809.5576923077, 2060531.569620253, 980000.0, 75000.0, 665439.8, 734202.775862069, 728799.0289855072, 733167.7333333333, 798184.8815789474, 634500.0, null, 664862.0714285715, 700602.1551724138, 808769.0724637681, 716158.5384615385, 965531.6880733945, 4098400.0, 1100000.0, 1030374.6666666666, 678594.1666666666, 673120.3773584906, 646879.6060606061, 679965.2934782609, 461500.0, null, 735113.6166666667, 709083.7464788732, 721104.9714285714, 876941.2133333334, 809655.5571428571, null, null, 585533.3333333334, 620100.220338983, 672292.9245283019, 767958.2676056338, 934185.5, null, 386000.0, 1820586.35, 776674.421875, 714328.8309859155, 787634.8292682926, 707944.7699115045, null, null, 669714.0757575758, 823997.4807692308, 631401.1692307693, 1185896.3088235294, 688686.8831168831, null, null, 803755.25, 644934.7166666667, 1258062.7878787878, 687746.140625, 679635.9852941176, null, 475000.0, 684445.9333333333, 943197.7692307692, 600407.2586206896, 735364.7924528302, 614789.2542372881, null, 30000.0, 639942.1607142857, 656634.75, 634332.9649122807, 609609.756097561, 652589.2857142857, null, null, 694114.4705882353, 747610.9354838709, 602154.75]}, {\"line\": {\"color\": \"rgba(0, 90, 181, 0.7)\", \"dash\": \"solid\"}, \"name\": \"Forecast\", \"type\": \"scatter\", \"x\": [\"2020-04-01T00:00:00\", \"2020-04-02T00:00:00\", \"2020-04-03T00:00:00\", \"2020-04-04T00:00:00\", \"2020-04-05T00:00:00\", \"2020-04-06T00:00:00\", \"2020-04-07T00:00:00\", \"2020-04-08T00:00:00\", \"2020-04-09T00:00:00\", \"2020-04-10T00:00:00\", \"2020-04-11T00:00:00\", \"2020-04-12T00:00:00\", \"2020-04-13T00:00:00\", \"2020-04-14T00:00:00\", \"2020-04-15T00:00:00\", \"2020-04-16T00:00:00\", \"2020-04-17T00:00:00\", \"2020-04-18T00:00:00\", \"2020-04-19T00:00:00\", \"2020-04-20T00:00:00\", \"2020-04-21T00:00:00\", \"2020-04-22T00:00:00\", \"2020-04-23T00:00:00\", \"2020-04-24T00:00:00\", \"2020-04-25T00:00:00\", \"2020-04-26T00:00:00\", \"2020-04-27T00:00:00\", \"2020-04-28T00:00:00\", \"2020-04-29T00:00:00\", \"2020-04-30T00:00:00\", \"2020-05-01T00:00:00\", \"2020-05-02T00:00:00\", \"2020-05-03T00:00:00\", \"2020-05-04T00:00:00\", \"2020-05-05T00:00:00\", \"2020-05-06T00:00:00\", \"2020-05-07T00:00:00\", \"2020-05-08T00:00:00\", \"2020-05-09T00:00:00\", \"2020-05-10T00:00:00\", \"2020-05-11T00:00:00\", \"2020-05-12T00:00:00\", \"2020-05-13T00:00:00\", \"2020-05-14T00:00:00\", \"2020-05-15T00:00:00\", \"2020-05-16T00:00:00\", \"2020-05-17T00:00:00\", \"2020-05-18T00:00:00\", \"2020-05-19T00:00:00\", \"2020-05-20T00:00:00\", \"2020-05-21T00:00:00\", \"2020-05-22T00:00:00\", \"2020-05-23T00:00:00\", \"2020-05-24T00:00:00\", \"2020-05-25T00:00:00\", \"2020-05-26T00:00:00\", \"2020-05-27T00:00:00\", \"2020-05-28T00:00:00\", \"2020-05-29T00:00:00\", \"2020-05-30T00:00:00\", \"2020-05-31T00:00:00\", \"2020-06-01T00:00:00\", \"2020-06-02T00:00:00\", \"2020-06-03T00:00:00\", \"2020-06-04T00:00:00\", \"2020-06-05T00:00:00\", \"2020-06-06T00:00:00\", \"2020-06-07T00:00:00\", \"2020-06-08T00:00:00\", \"2020-06-09T00:00:00\", \"2020-06-10T00:00:00\", \"2020-06-11T00:00:00\", \"2020-06-12T00:00:00\", \"2020-06-13T00:00:00\", \"2020-06-14T00:00:00\", \"2020-06-15T00:00:00\", \"2020-06-16T00:00:00\", \"2020-06-17T00:00:00\", \"2020-06-18T00:00:00\", \"2020-06-19T00:00:00\", \"2020-06-20T00:00:00\", \"2020-06-21T00:00:00\", \"2020-06-22T00:00:00\", \"2020-06-23T00:00:00\", \"2020-06-24T00:00:00\", \"2020-06-25T00:00:00\", \"2020-06-26T00:00:00\", \"2020-06-27T00:00:00\", \"2020-06-28T00:00:00\", \"2020-06-29T00:00:00\", \"2020-06-30T00:00:00\", \"2020-07-01T00:00:00\", \"2020-07-02T00:00:00\", \"2020-07-03T00:00:00\", \"2020-07-04T00:00:00\", \"2020-07-05T00:00:00\", \"2020-07-06T00:00:00\", \"2020-07-07T00:00:00\", \"2020-07-08T00:00:00\", \"2020-07-09T00:00:00\", \"2020-07-10T00:00:00\", \"2020-07-11T00:00:00\", \"2020-07-12T00:00:00\", \"2020-07-13T00:00:00\", \"2020-07-14T00:00:00\", \"2020-07-15T00:00:00\", \"2020-07-16T00:00:00\", \"2020-07-17T00:00:00\", \"2020-07-18T00:00:00\", \"2020-07-19T00:00:00\", \"2020-07-20T00:00:00\", \"2020-07-21T00:00:00\", \"2020-07-22T00:00:00\", \"2020-07-23T00:00:00\", \"2020-07-24T00:00:00\", \"2020-07-25T00:00:00\", \"2020-07-26T00:00:00\", \"2020-07-27T00:00:00\", \"2020-07-28T00:00:00\", \"2020-07-29T00:00:00\", \"2020-07-30T00:00:00\", \"2020-07-31T00:00:00\", \"2020-08-01T00:00:00\", \"2020-08-02T00:00:00\", \"2020-08-03T00:00:00\", \"2020-08-04T00:00:00\", \"2020-08-05T00:00:00\", \"2020-08-06T00:00:00\", \"2020-08-07T00:00:00\", \"2020-08-08T00:00:00\", \"2020-08-09T00:00:00\", \"2020-08-10T00:00:00\", \"2020-08-11T00:00:00\", \"2020-08-12T00:00:00\", \"2020-08-13T00:00:00\", \"2020-08-14T00:00:00\", \"2020-08-15T00:00:00\", \"2020-08-16T00:00:00\", \"2020-08-17T00:00:00\", \"2020-08-18T00:00:00\", \"2020-08-19T00:00:00\", \"2020-08-20T00:00:00\", \"2020-08-21T00:00:00\", \"2020-08-22T00:00:00\", \"2020-08-23T00:00:00\", \"2020-08-24T00:00:00\", \"2020-08-25T00:00:00\", \"2020-08-26T00:00:00\", \"2020-08-27T00:00:00\", \"2020-08-28T00:00:00\", \"2020-08-29T00:00:00\", \"2020-08-30T00:00:00\", \"2020-08-31T00:00:00\", \"2020-09-01T00:00:00\", \"2020-09-02T00:00:00\", \"2020-09-03T00:00:00\", \"2020-09-04T00:00:00\", \"2020-09-05T00:00:00\", \"2020-09-06T00:00:00\", \"2020-09-07T00:00:00\", \"2020-09-08T00:00:00\", \"2020-09-09T00:00:00\", \"2020-09-10T00:00:00\", \"2020-09-11T00:00:00\", \"2020-09-12T00:00:00\", \"2020-09-13T00:00:00\", \"2020-09-14T00:00:00\", \"2020-09-15T00:00:00\", \"2020-09-16T00:00:00\", \"2020-09-17T00:00:00\", \"2020-09-18T00:00:00\", \"2020-09-19T00:00:00\", \"2020-09-20T00:00:00\", \"2020-09-21T00:00:00\", \"2020-09-22T00:00:00\", \"2020-09-23T00:00:00\", \"2020-09-24T00:00:00\", \"2020-09-25T00:00:00\", \"2020-09-26T00:00:00\", \"2020-09-27T00:00:00\", \"2020-09-28T00:00:00\", \"2020-09-29T00:00:00\", \"2020-09-30T00:00:00\", \"2020-10-01T00:00:00\", \"2020-10-02T00:00:00\", \"2020-10-03T00:00:00\", \"2020-10-04T00:00:00\", \"2020-10-05T00:00:00\", \"2020-10-06T00:00:00\", \"2020-10-07T00:00:00\", \"2020-10-08T00:00:00\", \"2020-10-09T00:00:00\", \"2020-10-10T00:00:00\", \"2020-10-11T00:00:00\", \"2020-10-12T00:00:00\", \"2020-10-13T00:00:00\", \"2020-10-14T00:00:00\", \"2020-10-15T00:00:00\", \"2020-10-16T00:00:00\", \"2020-10-17T00:00:00\", \"2020-10-18T00:00:00\", \"2020-10-19T00:00:00\", \"2020-10-20T00:00:00\", \"2020-10-21T00:00:00\", \"2020-10-22T00:00:00\", \"2020-10-23T00:00:00\", \"2020-10-24T00:00:00\", \"2020-10-25T00:00:00\", \"2020-10-26T00:00:00\", \"2020-10-27T00:00:00\", \"2020-10-28T00:00:00\", \"2020-10-29T00:00:00\", \"2020-10-30T00:00:00\", \"2020-10-31T00:00:00\", \"2020-11-01T00:00:00\", \"2020-11-02T00:00:00\", \"2020-11-03T00:00:00\", \"2020-11-04T00:00:00\", \"2020-11-05T00:00:00\", \"2020-11-06T00:00:00\", \"2020-11-07T00:00:00\", \"2020-11-08T00:00:00\", \"2020-11-09T00:00:00\", \"2020-11-10T00:00:00\", \"2020-11-11T00:00:00\", \"2020-11-12T00:00:00\", \"2020-11-13T00:00:00\", \"2020-11-14T00:00:00\", \"2020-11-15T00:00:00\", \"2020-11-16T00:00:00\", \"2020-11-17T00:00:00\", \"2020-11-18T00:00:00\", \"2020-11-19T00:00:00\", \"2020-11-20T00:00:00\", \"2020-11-21T00:00:00\", \"2020-11-22T00:00:00\", \"2020-11-23T00:00:00\", \"2020-11-24T00:00:00\", \"2020-11-25T00:00:00\", \"2020-11-26T00:00:00\", \"2020-11-27T00:00:00\", \"2020-11-28T00:00:00\", \"2020-11-29T00:00:00\", \"2020-11-30T00:00:00\", \"2020-12-01T00:00:00\", \"2020-12-02T00:00:00\", \"2020-12-03T00:00:00\", \"2020-12-04T00:00:00\", \"2020-12-05T00:00:00\", \"2020-12-06T00:00:00\", \"2020-12-07T00:00:00\", \"2020-12-08T00:00:00\", \"2020-12-09T00:00:00\", \"2020-12-10T00:00:00\", \"2020-12-11T00:00:00\", \"2020-12-12T00:00:00\", \"2020-12-13T00:00:00\", \"2020-12-14T00:00:00\", \"2020-12-15T00:00:00\", \"2020-12-16T00:00:00\", \"2020-12-17T00:00:00\", \"2020-12-18T00:00:00\", \"2020-12-19T00:00:00\", \"2020-12-20T00:00:00\", \"2020-12-21T00:00:00\", \"2020-12-22T00:00:00\", \"2020-12-23T00:00:00\", \"2020-12-24T00:00:00\", \"2020-12-25T00:00:00\", \"2020-12-26T00:00:00\", \"2020-12-27T00:00:00\", \"2020-12-28T00:00:00\", \"2020-12-29T00:00:00\", \"2020-12-30T00:00:00\", \"2020-12-31T00:00:00\", \"2021-01-01T00:00:00\", \"2021-01-02T00:00:00\", \"2021-01-03T00:00:00\", \"2021-01-04T00:00:00\", \"2021-01-05T00:00:00\", \"2021-01-06T00:00:00\", \"2021-01-07T00:00:00\", \"2021-01-08T00:00:00\", \"2021-01-09T00:00:00\", \"2021-01-10T00:00:00\", \"2021-01-11T00:00:00\", \"2021-01-12T00:00:00\", \"2021-01-13T00:00:00\", \"2021-01-14T00:00:00\", \"2021-01-15T00:00:00\", \"2021-01-16T00:00:00\", \"2021-01-17T00:00:00\", \"2021-01-18T00:00:00\", \"2021-01-19T00:00:00\", \"2021-01-20T00:00:00\", \"2021-01-21T00:00:00\", \"2021-01-22T00:00:00\", \"2021-01-23T00:00:00\", \"2021-01-24T00:00:00\", \"2021-01-25T00:00:00\", \"2021-01-26T00:00:00\", \"2021-01-27T00:00:00\", \"2021-01-28T00:00:00\", \"2021-01-29T00:00:00\", \"2021-01-30T00:00:00\", \"2021-01-31T00:00:00\", \"2021-02-01T00:00:00\", \"2021-02-02T00:00:00\", \"2021-02-03T00:00:00\", \"2021-02-04T00:00:00\", \"2021-02-05T00:00:00\", \"2021-02-06T00:00:00\", \"2021-02-07T00:00:00\", \"2021-02-08T00:00:00\", \"2021-02-09T00:00:00\", \"2021-02-10T00:00:00\", \"2021-02-11T00:00:00\", \"2021-02-12T00:00:00\", \"2021-02-13T00:00:00\", \"2021-02-14T00:00:00\", \"2021-02-15T00:00:00\", \"2021-02-16T00:00:00\", \"2021-02-17T00:00:00\", \"2021-02-18T00:00:00\", \"2021-02-19T00:00:00\", \"2021-02-20T00:00:00\", \"2021-02-21T00:00:00\", \"2021-02-22T00:00:00\", \"2021-02-23T00:00:00\", \"2021-02-24T00:00:00\", \"2021-02-25T00:00:00\", \"2021-02-26T00:00:00\", \"2021-02-27T00:00:00\", \"2021-02-28T00:00:00\", \"2021-03-01T00:00:00\", \"2021-03-02T00:00:00\", \"2021-03-03T00:00:00\", \"2021-03-04T00:00:00\", \"2021-03-05T00:00:00\", \"2021-03-06T00:00:00\", \"2021-03-07T00:00:00\", \"2021-03-08T00:00:00\", \"2021-03-09T00:00:00\", \"2021-03-10T00:00:00\", \"2021-03-11T00:00:00\", \"2021-03-12T00:00:00\", \"2021-03-13T00:00:00\", \"2021-03-14T00:00:00\", \"2021-03-15T00:00:00\", \"2021-03-16T00:00:00\", \"2021-03-17T00:00:00\", \"2021-03-18T00:00:00\", \"2021-03-19T00:00:00\", \"2021-03-20T00:00:00\", \"2021-03-21T00:00:00\", \"2021-03-22T00:00:00\", \"2021-03-23T00:00:00\", \"2021-03-24T00:00:00\", \"2021-03-25T00:00:00\", \"2021-03-26T00:00:00\", \"2021-03-27T00:00:00\", \"2021-03-28T00:00:00\", \"2021-03-29T00:00:00\", \"2021-03-30T00:00:00\", \"2021-03-31T00:00:00\"], \"y\": [1064015.8116927803, 960073.6400460408, 979388.3997458578, 900520.718664612, 856890.4331905358, 904448.9070585369, 848556.2247229788, 963778.0094488298, 837888.0226093966, 876139.9787449106, 831984.9052126791, 805655.0981546337, 868518.2213721309, 829887.6666450527, 954903.8586238124, 864651.7775994379, 893646.5426197188, 850729.9016059384, 834047.4885976852, 897809.3657728195, 849961.4415540484, 968971.9656212952, 864451.9969539974, 885345.4992700783, 837062.9395861074, 818612.3118316453, 884663.4290633089, 842360.166923645, 978485.2300620787, 883948.3964957859, 896082.1911052682, 864989.0953850969, 854511.0576993091, 915719.4029016097, 871606.4414390171, 1002923.0805615048, 900432.9292488262, 903103.8677652153, 860990.7609208961, 829669.6147690138, 895303.7309952066, 847731.297705547, 969839.0356364602, 868954.0746745509, 895385.2138147702, 852778.7925611952, 839696.8259856034, 910819.1523152087, 880757.3157701417, 1009569.7801173438, 892009.1953570701, 933426.4465712542, 885481.8194209201, 849981.4614503233, 900708.6963700486, 849403.8921974327, 961064.0967860437, 856707.5379164614, 885220.9106523314, 848205.8413374838, 817617.648287041, 883915.4830660356, 853227.9778306705, 989269.672896194, 909551.8554042763, 952598.1860291699, 924582.4824872571, 923718.3547218299, 1005024.8869314897, 972124.1213802174, 1102332.3105323694, 1000084.7025702103, 1018830.2389286134, 962197.0188034023, 931228.6437014035, 984077.6743473195, 926644.4312408102, 1038544.5160044762, 925239.4612968406, 941696.8680922019, 891177.9870308145, 873927.8460174567, 946646.4255052827, 921928.7822431232, 1059563.3907691587, 950539.2492304561, 993228.3679506797, 944560.7799487336, 934062.0460667098, 1001195.9269866354, 953630.2042753712, 1079096.4178930088, 963453.6690670509, 952862.8973260815, 896065.3511771439, 849268.0013236402, 903980.6905526435, 846275.8307293594, 959222.7005805562, 846305.7712315975, 873332.8663695917, 824899.9512997279, 799613.6693659652, 882853.6513507668, 821249.0339418835, 967547.0856320864, 861297.7479983412, 893339.0835696975, 847579.7819589251, 829162.2103274474, 896533.8254888145, 852352.9696437232, 975360.4247170229, 867328.0175237241, 886459.662517255, 834728.1676755849, 813749.7301118209, 882545.3175641998, 843102.4166314094, 973460.9491315567, 873720.3330494035, 901531.2849383579, 866786.7874110664, 853025.6668932514, 907650.5160787593, 877022.1970702908, 995173.7428723458, 892455.9720867097, 910975.8047149926, 856533.0349427831, 831301.7691410264, 895379.1759495011, 850560.5663481037, 975659.3369725168, 879130.4093282315, 904605.713059841, 841523.5790602075, 834760.3642343814, 901389.412228547, 870588.3460191205, 1002190.7510186182, 899205.8034469226, 921468.1996749291, 868989.9782415876, 843739.724405313, 906161.3620615914, 857288.4526771251, 976410.0750827532, 872217.9481806591, 889793.2926043066, 828560.056552343, 819532.6117208397, 868432.3371985743, 850870.8785845062, 983689.9558963431, 907986.7805643313, 950191.1273324911, 901746.903274093, 918390.5102389328, 998294.2449130447, 959986.3993363543, 1118698.3064957766, 997586.5352465718, 1023038.5140366589, 966638.9111529888, 936136.300219171, 993718.5816350428, 939908.2690972247, 1054625.262619206, 935642.7452372573, 947442.5764377263, 890179.2875694574, 867078.7093163526, 939566.9023650964, 905947.2746082346, 1043815.5501406238, 947711.5340915582, 980190.5409490566, 938771.5776633542, 925024.0290210007, 999555.716510229, 969411.7687540039, 1105062.6337336435, 973490.9242692934, 973981.0228857789, 907265.8016468511, 863913.2945913167, 920489.0126865212, 863568.7975120151, 977323.6348765674, 857231.8039433279, 869284.5436743669, 821628.3762595642, 800293.9229087749, 856056.9046026779, 830882.6078011035, 958284.1290796297, 861535.367083094, 888620.9840847199, 841392.3456850117, 822812.2726855278, 895328.2412979451, 856101.5590743765, 983986.8025746674, 872823.9313656134, 890056.815784571, 834270.6768579113, 809799.1775197433, 880165.4608657876, 851844.9470298948, 986309.2411596299, 864957.3808243863, 909545.2637242784, 865383.6739255094, 837808.9210292028, 906464.8671812823, 872708.6989427285, 1001024.5844957271, 896561.1035413255, 914934.7961656341, 858302.3235063327, 831281.083022053, 907514.9041689713, 866875.052999483, 976879.9122799736, 885336.124623041, 901314.4400297068, 835608.0275098106, 826062.4116223026, 894792.649274262, 866999.7695013917, 1003394.236517537, 898563.0642388461, 921434.6533439243, 868310.2229169529, 843415.0645559691, 911154.2542931561, 866931.5885639616, 990126.8834965888, 872420.3382352584, 884794.4111811742, 834277.6992566227, 810324.8198380426, 866474.5640334, 843464.6212509531, 976045.323577415, 883986.1231369602, 920492.5603290948, 885268.6778197906, 881871.191119149, 973847.3278570701, 954043.5154967402, 1099875.0300844456, 999442.7020207723, 1023909.8746052606, 969153.7939547084, 940579.5548200376, 1004299.9294574212, 955356.7146591413, 1073886.2171631136, 949906.3824110711, 957371.6467704142, 893315.6085811177, 863958.4503540619, 935492.0383380719, 901463.835319012, 1049449.5814214943, 961750.4653759559, 975674.2475290889, 932780.3674344773, 922811.1673652816, 992996.4264432642, 976739.4501540435, 1093904.7381002973, 1003442.6181144931, 990308.6792258441, 928286.2528062403, 890945.2328972123, 925907.2529021701, 885040.125581684, 992114.6772256193, 869930.1714172451, 876957.7096214845, 813259.0151942436, 784910.6650611209, 858363.8214468966, 825329.9160816519, 963794.5071330903, 858850.4021732634, 884801.3215289107, 844873.7518034574, 827250.7131525121, 887342.1671793148, 862081.2567077625, 986422.7114336502, 876658.591057325, 892334.8072322989, 833095.6899271774, 815411.3397800449, 890083.567469073, 837900.406779872, 983119.9959250065, 866470.7015898167, 894728.7539780441, 844359.8606197455, 825630.1291568411, 905498.9276516308, 874421.4909594484, 1010851.2237202895, 898857.5279743228, 915968.358744796, 856386.7480508172, 827302.7734433567, 897386.4812107643, 858064.0920383941, 988712.1828205555, 874458.4834562808, 892945.4972489581, 847813.1122470233, 828501.2535545472, 891999.6257435009, 872673.2940366772, 1004762.597202339, 900867.4175124182, 922009.8397938075, 865492.8973276509, 838134.0043698755, 908687.3431311983, 867489.7762306615, 994331.0715399586, 872764.3068767062, 883634.4390929724, 821265.1546958262, 794002.3191516954, 871646.5006643543, 844109.5143940357, 990409.0727675834, 891976.5360306194, 928269.7321791122, 890874.9260452025, 885760.2920277618, 980662.0532407118, 963147.2806210237, 1111001.1994210987, 1004638.2936028216, 1024726.8702283832, 963959.5976237312, 930621.4228554193, 1004900.7070491149, 959720.8855380344, 1064617.7804611307, 947077.2997465502, 946248.7843736863, 885913.402969344, 857462.1499446564, 935525.2508162322, 908025.4656858199, 1053243.2700074497, 950075.6282259314, 989060.1824579701, 943577.573910044, 909126.0610003195, 1000007.4797307238, 968639.664582844, 1106670.6913641759]}],                        {\"annotations\": [{\"arrowhead\": 0, \"ax\": -60, \"ay\": 0, \"showarrow\": true, \"text\": \"Train End Date\", \"x\": \"2021-03-01T00:00:00\", \"xref\": \"x\", \"y\": 0.97, \"yref\": \"paper\"}], \"legend\": {\"traceorder\": \"reversed\"}, \"shapes\": [{\"line\": {\"color\": \"rgba(100, 100, 100, 0.9)\", \"width\": 1.0}, \"type\": \"line\", \"x0\": \"2021-03-01T00:00:00\", \"x1\": \"2021-03-01T00:00:00\", \"xref\": \"x\", \"y0\": 0, \"y1\": 1, \"yref\": \"paper\"}], \"showlegend\": true, \"template\": {\"data\": {\"bar\": [{\"error_x\": {\"color\": \"#2a3f5f\"}, \"error_y\": {\"color\": \"#2a3f5f\"}, \"marker\": {\"line\": {\"color\": \"#E5ECF6\", \"width\": 0.5}}, \"type\": \"bar\"}], \"barpolar\": [{\"marker\": {\"line\": {\"color\": \"#E5ECF6\", \"width\": 0.5}}, \"type\": \"barpolar\"}], \"carpet\": [{\"aaxis\": {\"endlinecolor\": \"#2a3f5f\", \"gridcolor\": \"white\", \"linecolor\": \"white\", \"minorgridcolor\": \"white\", \"startlinecolor\": \"#2a3f5f\"}, \"baxis\": {\"endlinecolor\": \"#2a3f5f\", \"gridcolor\": \"white\", \"linecolor\": \"white\", \"minorgridcolor\": \"white\", \"startlinecolor\": \"#2a3f5f\"}, \"type\": \"carpet\"}], \"choropleth\": [{\"colorbar\": {\"outlinewidth\": 0, \"ticks\": \"\"}, \"type\": \"choropleth\"}], \"contour\": [{\"colorbar\": {\"outlinewidth\": 0, \"ticks\": \"\"}, \"colorscale\": [[0.0, \"#0d0887\"], [0.1111111111111111, \"#46039f\"], [0.2222222222222222, \"#7201a8\"], [0.3333333333333333, \"#9c179e\"], [0.4444444444444444, \"#bd3786\"], [0.5555555555555556, \"#d8576b\"], [0.6666666666666666, \"#ed7953\"], [0.7777777777777778, \"#fb9f3a\"], [0.8888888888888888, \"#fdca26\"], [1.0, \"#f0f921\"]], \"type\": \"contour\"}], \"contourcarpet\": [{\"colorbar\": {\"outlinewidth\": 0, \"ticks\": \"\"}, \"type\": \"contourcarpet\"}], \"heatmap\": [{\"colorbar\": {\"outlinewidth\": 0, \"ticks\": \"\"}, \"colorscale\": [[0.0, \"#0d0887\"], [0.1111111111111111, \"#46039f\"], [0.2222222222222222, \"#7201a8\"], [0.3333333333333333, \"#9c179e\"], [0.4444444444444444, \"#bd3786\"], [0.5555555555555556, \"#d8576b\"], [0.6666666666666666, \"#ed7953\"], [0.7777777777777778, \"#fb9f3a\"], [0.8888888888888888, \"#fdca26\"], [1.0, \"#f0f921\"]], \"type\": \"heatmap\"}], \"heatmapgl\": [{\"colorbar\": {\"outlinewidth\": 0, \"ticks\": \"\"}, \"colorscale\": [[0.0, \"#0d0887\"], [0.1111111111111111, \"#46039f\"], [0.2222222222222222, \"#7201a8\"], [0.3333333333333333, \"#9c179e\"], [0.4444444444444444, \"#bd3786\"], [0.5555555555555556, \"#d8576b\"], [0.6666666666666666, \"#ed7953\"], [0.7777777777777778, \"#fb9f3a\"], [0.8888888888888888, \"#fdca26\"], [1.0, \"#f0f921\"]], \"type\": \"heatmapgl\"}], \"histogram\": [{\"marker\": {\"colorbar\": {\"outlinewidth\": 0, \"ticks\": \"\"}}, \"type\": \"histogram\"}], \"histogram2d\": [{\"colorbar\": {\"outlinewidth\": 0, \"ticks\": \"\"}, \"colorscale\": [[0.0, \"#0d0887\"], [0.1111111111111111, \"#46039f\"], [0.2222222222222222, \"#7201a8\"], [0.3333333333333333, \"#9c179e\"], [0.4444444444444444, \"#bd3786\"], [0.5555555555555556, \"#d8576b\"], [0.6666666666666666, \"#ed7953\"], [0.7777777777777778, \"#fb9f3a\"], [0.8888888888888888, \"#fdca26\"], [1.0, \"#f0f921\"]], \"type\": \"histogram2d\"}], \"histogram2dcontour\": [{\"colorbar\": {\"outlinewidth\": 0, \"ticks\": \"\"}, \"colorscale\": [[0.0, \"#0d0887\"], [0.1111111111111111, \"#46039f\"], [0.2222222222222222, \"#7201a8\"], [0.3333333333333333, \"#9c179e\"], [0.4444444444444444, \"#bd3786\"], [0.5555555555555556, \"#d8576b\"], [0.6666666666666666, \"#ed7953\"], [0.7777777777777778, \"#fb9f3a\"], [0.8888888888888888, \"#fdca26\"], [1.0, \"#f0f921\"]], \"type\": \"histogram2dcontour\"}], \"mesh3d\": [{\"colorbar\": {\"outlinewidth\": 0, \"ticks\": \"\"}, \"type\": \"mesh3d\"}], \"parcoords\": [{\"line\": {\"colorbar\": {\"outlinewidth\": 0, \"ticks\": \"\"}}, \"type\": \"parcoords\"}], \"pie\": [{\"automargin\": true, \"type\": \"pie\"}], \"scatter\": [{\"marker\": {\"colorbar\": {\"outlinewidth\": 0, \"ticks\": \"\"}}, \"type\": \"scatter\"}], \"scatter3d\": [{\"line\": {\"colorbar\": {\"outlinewidth\": 0, \"ticks\": \"\"}}, \"marker\": {\"colorbar\": {\"outlinewidth\": 0, \"ticks\": \"\"}}, \"type\": \"scatter3d\"}], \"scattercarpet\": [{\"marker\": {\"colorbar\": {\"outlinewidth\": 0, \"ticks\": \"\"}}, \"type\": \"scattercarpet\"}], \"scattergeo\": [{\"marker\": {\"colorbar\": {\"outlinewidth\": 0, \"ticks\": \"\"}}, \"type\": \"scattergeo\"}], \"scattergl\": [{\"marker\": {\"colorbar\": {\"outlinewidth\": 0, \"ticks\": \"\"}}, \"type\": \"scattergl\"}], \"scattermapbox\": [{\"marker\": {\"colorbar\": {\"outlinewidth\": 0, \"ticks\": \"\"}}, \"type\": \"scattermapbox\"}], \"scatterpolar\": [{\"marker\": {\"colorbar\": {\"outlinewidth\": 0, \"ticks\": \"\"}}, \"type\": \"scatterpolar\"}], \"scatterpolargl\": [{\"marker\": {\"colorbar\": {\"outlinewidth\": 0, \"ticks\": \"\"}}, \"type\": \"scatterpolargl\"}], \"scatterternary\": [{\"marker\": {\"colorbar\": {\"outlinewidth\": 0, \"ticks\": \"\"}}, \"type\": \"scatterternary\"}], \"surface\": [{\"colorbar\": {\"outlinewidth\": 0, \"ticks\": \"\"}, \"colorscale\": [[0.0, \"#0d0887\"], [0.1111111111111111, \"#46039f\"], [0.2222222222222222, \"#7201a8\"], [0.3333333333333333, \"#9c179e\"], [0.4444444444444444, \"#bd3786\"], [0.5555555555555556, \"#d8576b\"], [0.6666666666666666, \"#ed7953\"], [0.7777777777777778, \"#fb9f3a\"], [0.8888888888888888, \"#fdca26\"], [1.0, \"#f0f921\"]], \"type\": \"surface\"}], \"table\": [{\"cells\": {\"fill\": {\"color\": \"#EBF0F8\"}, \"line\": {\"color\": \"white\"}}, \"header\": {\"fill\": {\"color\": \"#C8D4E3\"}, \"line\": {\"color\": \"white\"}}, \"type\": \"table\"}]}, \"layout\": {\"annotationdefaults\": {\"arrowcolor\": \"#2a3f5f\", \"arrowhead\": 0, \"arrowwidth\": 1}, \"coloraxis\": {\"colorbar\": {\"outlinewidth\": 0, \"ticks\": \"\"}}, \"colorscale\": {\"diverging\": [[0, \"#8e0152\"], [0.1, \"#c51b7d\"], [0.2, \"#de77ae\"], [0.3, \"#f1b6da\"], [0.4, \"#fde0ef\"], [0.5, \"#f7f7f7\"], [0.6, \"#e6f5d0\"], [0.7, \"#b8e186\"], [0.8, \"#7fbc41\"], [0.9, \"#4d9221\"], [1, \"#276419\"]], \"sequential\": [[0.0, \"#0d0887\"], [0.1111111111111111, \"#46039f\"], [0.2222222222222222, \"#7201a8\"], [0.3333333333333333, \"#9c179e\"], [0.4444444444444444, \"#bd3786\"], [0.5555555555555556, \"#d8576b\"], [0.6666666666666666, \"#ed7953\"], [0.7777777777777778, \"#fb9f3a\"], [0.8888888888888888, \"#fdca26\"], [1.0, \"#f0f921\"]], \"sequentialminus\": [[0.0, \"#0d0887\"], [0.1111111111111111, \"#46039f\"], [0.2222222222222222, \"#7201a8\"], [0.3333333333333333, \"#9c179e\"], [0.4444444444444444, \"#bd3786\"], [0.5555555555555556, \"#d8576b\"], [0.6666666666666666, \"#ed7953\"], [0.7777777777777778, \"#fb9f3a\"], [0.8888888888888888, \"#fdca26\"], [1.0, \"#f0f921\"]]}, \"colorway\": [\"#636efa\", \"#EF553B\", \"#00cc96\", \"#ab63fa\", \"#FFA15A\", \"#19d3f3\", \"#FF6692\", \"#B6E880\", \"#FF97FF\", \"#FECB52\"], \"font\": {\"color\": \"#2a3f5f\"}, \"geo\": {\"bgcolor\": \"white\", \"lakecolor\": \"white\", \"landcolor\": \"#E5ECF6\", \"showlakes\": true, \"showland\": true, \"subunitcolor\": \"white\"}, \"hoverlabel\": {\"align\": \"left\"}, \"hovermode\": \"closest\", \"mapbox\": {\"style\": \"light\"}, \"paper_bgcolor\": \"white\", \"plot_bgcolor\": \"#E5ECF6\", \"polar\": {\"angularaxis\": {\"gridcolor\": \"white\", \"linecolor\": \"white\", \"ticks\": \"\"}, \"bgcolor\": \"#E5ECF6\", \"radialaxis\": {\"gridcolor\": \"white\", \"linecolor\": \"white\", \"ticks\": \"\"}}, \"scene\": {\"xaxis\": {\"backgroundcolor\": \"#E5ECF6\", \"gridcolor\": \"white\", \"gridwidth\": 2, \"linecolor\": \"white\", \"showbackground\": true, \"ticks\": \"\", \"zerolinecolor\": \"white\"}, \"yaxis\": {\"backgroundcolor\": \"#E5ECF6\", \"gridcolor\": \"white\", \"gridwidth\": 2, \"linecolor\": \"white\", \"showbackground\": true, \"ticks\": \"\", \"zerolinecolor\": \"white\"}, \"zaxis\": {\"backgroundcolor\": \"#E5ECF6\", \"gridcolor\": \"white\", \"gridwidth\": 2, \"linecolor\": \"white\", \"showbackground\": true, \"ticks\": \"\", \"zerolinecolor\": \"white\"}}, \"shapedefaults\": {\"line\": {\"color\": \"#2a3f5f\"}}, \"ternary\": {\"aaxis\": {\"gridcolor\": \"white\", \"linecolor\": \"white\", \"ticks\": \"\"}, \"baxis\": {\"gridcolor\": \"white\", \"linecolor\": \"white\", \"ticks\": \"\"}, \"bgcolor\": \"#E5ECF6\", \"caxis\": {\"gridcolor\": \"white\", \"linecolor\": \"white\", \"ticks\": \"\"}}, \"title\": {\"x\": 0.05}, \"xaxis\": {\"automargin\": true, \"gridcolor\": \"white\", \"linecolor\": \"white\", \"ticks\": \"\", \"title\": {\"standoff\": 15}, \"zerolinecolor\": \"white\", \"zerolinewidth\": 2}, \"yaxis\": {\"automargin\": true, \"gridcolor\": \"white\", \"linecolor\": \"white\", \"ticks\": \"\", \"title\": {\"standoff\": 15}, \"zerolinecolor\": \"white\", \"zerolinewidth\": 2}}}, \"title\": {\"text\": \"Forecast vs Actual\"}, \"xaxis\": {\"title\": {\"text\": \"ts\"}}, \"yaxis\": {\"title\": {\"text\": \"y\"}}},                        {\"responsive\": true}                    ).then(function(){\n",
       "                            \n",
       "var gd = document.getElementById('b4b026c6-7732-4ba0-b618-81e77dabb33e');\n",
       "var x = new MutationObserver(function (mutations, observer) {{\n",
       "        var display = window.getComputedStyle(gd).display;\n",
       "        if (!display || display === 'none') {{\n",
       "            console.log([gd, 'removed!']);\n",
       "            Plotly.purge(gd);\n",
       "            observer.disconnect();\n",
       "        }}\n",
       "}});\n",
       "\n",
       "// Listen for the removal of the full notebook cells\n",
       "var notebookContainer = gd.closest('#notebook-container');\n",
       "if (notebookContainer) {{\n",
       "    x.observe(notebookContainer, {childList: true});\n",
       "}}\n",
       "\n",
       "// Listen for the clearing of the current output cell\n",
       "var outputEl = gd.closest('.output');\n",
       "if (outputEl) {{\n",
       "    x.observe(outputEl, {childList: true});\n",
       "}}\n",
       "\n",
       "                        })                };                });            </script>        </div>"
      ]
     },
     "metadata": {},
     "output_type": "display_data"
    }
   ],
   "source": [
    "from plotly.offline import init_notebook_mode, iplot\n",
    "init_notebook_mode(connected=True)   # for generating offline graphs within Jupyter Notebook\n",
    "\n",
    "backtest = result.backtest\n",
    "fig = backtest.plot()\n",
    "iplot(fig)"
   ]
  },
  {
   "cell_type": "code",
   "execution_count": 141,
   "metadata": {},
   "outputs": [
    {
     "data": {
      "text/html": [
       "        <script type=\"text/javascript\">\n",
       "        window.PlotlyConfig = {MathJaxConfig: 'local'};\n",
       "        if (window.MathJax) {MathJax.Hub.Config({SVG: {font: \"STIX-Web\"}});}\n",
       "        if (typeof require !== 'undefined') {\n",
       "        require.undef(\"plotly\");\n",
       "        requirejs.config({\n",
       "            paths: {\n",
       "                'plotly': ['https://cdn.plot.ly/plotly-latest.min']\n",
       "            }\n",
       "        });\n",
       "        require(['plotly'], function(Plotly) {\n",
       "            window._Plotly = Plotly;\n",
       "        });\n",
       "        }\n",
       "        </script>\n",
       "        "
      ]
     },
     "metadata": {},
     "output_type": "display_data"
    },
    {
     "data": {
      "application/vnd.plotly.v1+json": {
       "config": {
        "linkText": "Export to plot.ly",
        "plotlyServerURL": "https://plot.ly",
        "showLink": false
       },
       "data": [
        {
         "mode": "lines",
         "name": "y",
         "opacity": 0.8,
         "showlegend": false,
         "type": "scatter",
         "x": [
          "2020-04-01T00:00:00",
          "2020-04-02T00:00:00",
          "2020-04-03T00:00:00",
          "2020-04-04T00:00:00",
          "2020-04-05T00:00:00",
          "2020-04-06T00:00:00",
          "2020-04-07T00:00:00",
          "2020-04-08T00:00:00",
          "2020-04-09T00:00:00",
          "2020-04-10T00:00:00",
          "2020-04-11T00:00:00",
          "2020-04-12T00:00:00",
          "2020-04-13T00:00:00",
          "2020-04-14T00:00:00",
          "2020-04-15T00:00:00",
          "2020-04-16T00:00:00",
          "2020-04-17T00:00:00",
          "2020-04-18T00:00:00",
          "2020-04-19T00:00:00",
          "2020-04-20T00:00:00",
          "2020-04-21T00:00:00",
          "2020-04-22T00:00:00",
          "2020-04-23T00:00:00",
          "2020-04-24T00:00:00",
          "2020-04-25T00:00:00",
          "2020-04-26T00:00:00",
          "2020-04-27T00:00:00",
          "2020-04-28T00:00:00",
          "2020-04-29T00:00:00",
          "2020-04-30T00:00:00",
          "2020-05-01T00:00:00",
          "2020-05-02T00:00:00",
          "2020-05-03T00:00:00",
          "2020-05-04T00:00:00",
          "2020-05-05T00:00:00",
          "2020-05-06T00:00:00",
          "2020-05-07T00:00:00",
          "2020-05-08T00:00:00",
          "2020-05-09T00:00:00",
          "2020-05-10T00:00:00",
          "2020-05-11T00:00:00",
          "2020-05-12T00:00:00",
          "2020-05-13T00:00:00",
          "2020-05-14T00:00:00",
          "2020-05-15T00:00:00",
          "2020-05-16T00:00:00",
          "2020-05-17T00:00:00",
          "2020-05-18T00:00:00",
          "2020-05-19T00:00:00",
          "2020-05-20T00:00:00",
          "2020-05-21T00:00:00",
          "2020-05-22T00:00:00",
          "2020-05-23T00:00:00",
          "2020-05-24T00:00:00",
          "2020-05-25T00:00:00",
          "2020-05-26T00:00:00",
          "2020-05-27T00:00:00",
          "2020-05-28T00:00:00",
          "2020-05-29T00:00:00",
          "2020-05-30T00:00:00",
          "2020-05-31T00:00:00",
          "2020-06-01T00:00:00",
          "2020-06-02T00:00:00",
          "2020-06-03T00:00:00",
          "2020-06-04T00:00:00",
          "2020-06-05T00:00:00",
          "2020-06-06T00:00:00",
          "2020-06-07T00:00:00",
          "2020-06-08T00:00:00",
          "2020-06-09T00:00:00",
          "2020-06-10T00:00:00",
          "2020-06-11T00:00:00",
          "2020-06-12T00:00:00",
          "2020-06-13T00:00:00",
          "2020-06-14T00:00:00",
          "2020-06-15T00:00:00",
          "2020-06-16T00:00:00",
          "2020-06-17T00:00:00",
          "2020-06-18T00:00:00",
          "2020-06-19T00:00:00",
          "2020-06-20T00:00:00",
          "2020-06-21T00:00:00",
          "2020-06-22T00:00:00",
          "2020-06-23T00:00:00",
          "2020-06-24T00:00:00",
          "2020-06-25T00:00:00",
          "2020-06-26T00:00:00",
          "2020-06-27T00:00:00",
          "2020-06-28T00:00:00",
          "2020-06-29T00:00:00",
          "2020-06-30T00:00:00",
          "2020-07-01T00:00:00",
          "2020-07-02T00:00:00",
          "2020-07-03T00:00:00",
          "2020-07-04T00:00:00",
          "2020-07-05T00:00:00",
          "2020-07-06T00:00:00",
          "2020-07-07T00:00:00",
          "2020-07-08T00:00:00",
          "2020-07-09T00:00:00",
          "2020-07-10T00:00:00",
          "2020-07-11T00:00:00",
          "2020-07-12T00:00:00",
          "2020-07-13T00:00:00",
          "2020-07-14T00:00:00",
          "2020-07-15T00:00:00",
          "2020-07-16T00:00:00",
          "2020-07-17T00:00:00",
          "2020-07-18T00:00:00",
          "2020-07-19T00:00:00",
          "2020-07-20T00:00:00",
          "2020-07-21T00:00:00",
          "2020-07-22T00:00:00",
          "2020-07-23T00:00:00",
          "2020-07-24T00:00:00",
          "2020-07-25T00:00:00",
          "2020-07-26T00:00:00",
          "2020-07-27T00:00:00",
          "2020-07-28T00:00:00",
          "2020-07-29T00:00:00",
          "2020-07-30T00:00:00",
          "2020-07-31T00:00:00",
          "2020-08-01T00:00:00",
          "2020-08-02T00:00:00",
          "2020-08-03T00:00:00",
          "2020-08-04T00:00:00",
          "2020-08-05T00:00:00",
          "2020-08-06T00:00:00",
          "2020-08-07T00:00:00",
          "2020-08-08T00:00:00",
          "2020-08-09T00:00:00",
          "2020-08-10T00:00:00",
          "2020-08-11T00:00:00",
          "2020-08-12T00:00:00",
          "2020-08-13T00:00:00",
          "2020-08-14T00:00:00",
          "2020-08-15T00:00:00",
          "2020-08-16T00:00:00",
          "2020-08-17T00:00:00",
          "2020-08-18T00:00:00",
          "2020-08-19T00:00:00",
          "2020-08-20T00:00:00",
          "2020-08-21T00:00:00",
          "2020-08-22T00:00:00",
          "2020-08-23T00:00:00",
          "2020-08-24T00:00:00",
          "2020-08-25T00:00:00",
          "2020-08-26T00:00:00",
          "2020-08-27T00:00:00",
          "2020-08-28T00:00:00",
          "2020-08-29T00:00:00",
          "2020-08-30T00:00:00",
          "2020-08-31T00:00:00",
          "2020-09-01T00:00:00",
          "2020-09-02T00:00:00",
          "2020-09-03T00:00:00",
          "2020-09-04T00:00:00",
          "2020-09-05T00:00:00",
          "2020-09-06T00:00:00",
          "2020-09-07T00:00:00",
          "2020-09-08T00:00:00",
          "2020-09-09T00:00:00",
          "2020-09-10T00:00:00",
          "2020-09-11T00:00:00",
          "2020-09-12T00:00:00",
          "2020-09-13T00:00:00",
          "2020-09-14T00:00:00",
          "2020-09-15T00:00:00",
          "2020-09-16T00:00:00",
          "2020-09-17T00:00:00",
          "2020-09-18T00:00:00",
          "2020-09-19T00:00:00",
          "2020-09-20T00:00:00",
          "2020-09-21T00:00:00",
          "2020-09-22T00:00:00",
          "2020-09-23T00:00:00",
          "2020-09-24T00:00:00",
          "2020-09-25T00:00:00",
          "2020-09-26T00:00:00",
          "2020-09-27T00:00:00",
          "2020-09-28T00:00:00",
          "2020-09-29T00:00:00",
          "2020-09-30T00:00:00",
          "2020-10-01T00:00:00",
          "2020-10-02T00:00:00",
          "2020-10-03T00:00:00",
          "2020-10-04T00:00:00",
          "2020-10-05T00:00:00",
          "2020-10-06T00:00:00",
          "2020-10-07T00:00:00",
          "2020-10-08T00:00:00",
          "2020-10-09T00:00:00",
          "2020-10-10T00:00:00",
          "2020-10-11T00:00:00",
          "2020-10-12T00:00:00",
          "2020-10-13T00:00:00",
          "2020-10-14T00:00:00",
          "2020-10-15T00:00:00",
          "2020-10-16T00:00:00",
          "2020-10-17T00:00:00",
          "2020-10-18T00:00:00",
          "2020-10-19T00:00:00",
          "2020-10-20T00:00:00",
          "2020-10-21T00:00:00",
          "2020-10-22T00:00:00",
          "2020-10-23T00:00:00",
          "2020-10-24T00:00:00",
          "2020-10-25T00:00:00",
          "2020-10-26T00:00:00",
          "2020-10-27T00:00:00",
          "2020-10-28T00:00:00",
          "2020-10-29T00:00:00",
          "2020-10-30T00:00:00",
          "2020-10-31T00:00:00",
          "2020-11-01T00:00:00",
          "2020-11-02T00:00:00",
          "2020-11-03T00:00:00",
          "2020-11-04T00:00:00",
          "2020-11-05T00:00:00",
          "2020-11-06T00:00:00",
          "2020-11-07T00:00:00",
          "2020-11-08T00:00:00",
          "2020-11-09T00:00:00",
          "2020-11-10T00:00:00",
          "2020-11-11T00:00:00",
          "2020-11-12T00:00:00",
          "2020-11-13T00:00:00",
          "2020-11-14T00:00:00",
          "2020-11-15T00:00:00",
          "2020-11-16T00:00:00",
          "2020-11-17T00:00:00",
          "2020-11-18T00:00:00",
          "2020-11-19T00:00:00",
          "2020-11-20T00:00:00",
          "2020-11-21T00:00:00",
          "2020-11-22T00:00:00",
          "2020-11-23T00:00:00",
          "2020-11-24T00:00:00",
          "2020-11-25T00:00:00",
          "2020-11-26T00:00:00",
          "2020-11-27T00:00:00",
          "2020-11-28T00:00:00",
          "2020-11-29T00:00:00",
          "2020-11-30T00:00:00",
          "2020-12-01T00:00:00",
          "2020-12-02T00:00:00",
          "2020-12-03T00:00:00",
          "2020-12-04T00:00:00",
          "2020-12-05T00:00:00",
          "2020-12-06T00:00:00",
          "2020-12-07T00:00:00",
          "2020-12-08T00:00:00",
          "2020-12-09T00:00:00",
          "2020-12-10T00:00:00",
          "2020-12-11T00:00:00",
          "2020-12-12T00:00:00",
          "2020-12-13T00:00:00",
          "2020-12-14T00:00:00",
          "2020-12-15T00:00:00",
          "2020-12-16T00:00:00",
          "2020-12-17T00:00:00",
          "2020-12-18T00:00:00",
          "2020-12-19T00:00:00",
          "2020-12-20T00:00:00",
          "2020-12-21T00:00:00",
          "2020-12-22T00:00:00",
          "2020-12-23T00:00:00",
          "2020-12-24T00:00:00",
          "2020-12-25T00:00:00",
          "2020-12-26T00:00:00",
          "2020-12-27T00:00:00",
          "2020-12-28T00:00:00",
          "2020-12-29T00:00:00",
          "2020-12-30T00:00:00",
          "2020-12-31T00:00:00",
          "2021-01-01T00:00:00",
          "2021-01-02T00:00:00",
          "2021-01-03T00:00:00",
          "2021-01-04T00:00:00",
          "2021-01-05T00:00:00",
          "2021-01-06T00:00:00",
          "2021-01-07T00:00:00",
          "2021-01-08T00:00:00",
          "2021-01-09T00:00:00",
          "2021-01-10T00:00:00",
          "2021-01-11T00:00:00",
          "2021-01-12T00:00:00",
          "2021-01-13T00:00:00",
          "2021-01-14T00:00:00",
          "2021-01-15T00:00:00",
          "2021-01-16T00:00:00",
          "2021-01-17T00:00:00",
          "2021-01-18T00:00:00",
          "2021-01-19T00:00:00",
          "2021-01-20T00:00:00",
          "2021-01-21T00:00:00",
          "2021-01-22T00:00:00",
          "2021-01-23T00:00:00",
          "2021-01-24T00:00:00",
          "2021-01-25T00:00:00",
          "2021-01-26T00:00:00",
          "2021-01-27T00:00:00",
          "2021-01-28T00:00:00",
          "2021-01-29T00:00:00",
          "2021-01-30T00:00:00",
          "2021-01-31T00:00:00",
          "2021-02-01T00:00:00",
          "2021-02-02T00:00:00",
          "2021-02-03T00:00:00",
          "2021-02-04T00:00:00",
          "2021-02-05T00:00:00",
          "2021-02-06T00:00:00",
          "2021-02-07T00:00:00",
          "2021-02-08T00:00:00",
          "2021-02-09T00:00:00",
          "2021-02-10T00:00:00",
          "2021-02-11T00:00:00",
          "2021-02-12T00:00:00",
          "2021-02-13T00:00:00",
          "2021-02-14T00:00:00",
          "2021-02-15T00:00:00",
          "2021-02-16T00:00:00",
          "2021-02-17T00:00:00",
          "2021-02-18T00:00:00",
          "2021-02-19T00:00:00",
          "2021-02-20T00:00:00",
          "2021-02-21T00:00:00",
          "2021-02-22T00:00:00",
          "2021-02-23T00:00:00",
          "2021-02-24T00:00:00",
          "2021-02-25T00:00:00",
          "2021-02-26T00:00:00",
          "2021-02-27T00:00:00",
          "2021-02-28T00:00:00",
          "2021-03-01T00:00:00"
         ],
         "xaxis": "x",
         "y": [
          961150,
          753357.1428571428,
          681724.2068965518,
          696218.8045977012,
          710713.4022988506,
          725208,
          630053.7368421053,
          676583.3333333334,
          773225.2692307692,
          666255.6428571428,
          495627.8214285714,
          325000,
          1192963.4347826086,
          883883.5,
          1115649.0666666667,
          703075.8947368421,
          593240.8,
          605677.12,
          618113.4400000001,
          630549.76,
          788538.3684210526,
          534571.5,
          706054.68,
          766311.7619047619,
          670000,
          671111.6285714286,
          672223.2571428572,
          589203.6666666666,
          717248.3928571428,
          645056.5660377359,
          761566.3846153846,
          755376.4539411206,
          749186.5232668566,
          742996.5925925926,
          928117.8571428572,
          722244.3181818182,
          802193.448275862,
          737056.8913043478,
          828109.6334185848,
          919162.3755328218,
          1010215.1176470588,
          559954.9,
          594030.4,
          786627.5,
          2423803.590909091,
          400000,
          490058.31666666665,
          580116.6333333333,
          649406.4285714285,
          571375.7666666667,
          1257801.9523809524,
          1018404.1714285715,
          671702.0857142857,
          325000,
          448857.3043478261,
          572714.6086956522,
          601808.6341463415,
          818277.015625,
          685398.4583333334,
          512699.2291666667,
          340000,
          558506.7741935484,
          694160.2666666667,
          1809577.5,
          759085.9375,
          663100.880952381,
          636886.7873015873,
          610672.6936507936,
          584458.6,
          1286910.6304347827,
          674959.5454545454,
          6283043.34375,
          821677.42,
          484787,
          659201.3958333333,
          833615.7916666666,
          796530.75,
          626165.4705882353,
          562851.2580645161,
          680855.3958333334,
          665480.628968254,
          650105.8621031747,
          634731.0952380953,
          2134153.5555555555,
          1374770.888888889,
          705734.1449275363,
          732110.9016393443,
          1530801.5742111758,
          2329492.2467830074,
          3128182.919354839,
          771592.4027777778,
          786353.2962962963,
          635133.3111111111,
          365000,
          446705.42424242425,
          528410.8484848485,
          610116.2727272727,
          855789.3243243244,
          942172.3255813953,
          1002349.9333333333,
          1207195.462962963,
          265000,
          393223.8125,
          521447.625,
          1019686.8163265307,
          734260.9615384615,
          782620.7435897436,
          675106.5769230769,
          356000,
          490834.2659574468,
          625668.5319148937,
          631018.0769230769,
          623849.725490196,
          1151866.625,
          608356.5416666666,
          594402.0912698413,
          580447.6408730159,
          566493.1904761905,
          716382.7727272727,
          1063304.0487804879,
          657447.7843137255,
          606157.1694915254,
          336500,
          718325.3875,
          1100150.775,
          703381.2105263158,
          698784.5666666667,
          597978.6666666666,
          662752.4583333334,
          687677.1507936508,
          712601.8432539683,
          737526.5357142857,
          759952.6315789474,
          664542.6666666666,
          587161.7608695652,
          640727.659574468,
          804097,
          120000,
          681732.3103448276,
          580265.8837209302,
          1042224.8666666667,
          822008.9818181818,
          783539.5217391305,
          306146,
          471271.25,
          684929.4545454546,
          640625.1081081082,
          1140819.3703703703,
          631340,
          3335524.5070422534,
          303280,
          991498.922077922,
          1679717.844155844,
          633616.3225806452,
          690991.1,
          681047.9714285714,
          1435634,
          850000,
          428000,
          6000,
          583332.512195122,
          11782759.705882354,
          1010899.8372093023,
          1133387.7567567567,
          2590496.4548591143,
          4047605.152961472,
          5504713.85106383,
          690470.3278688524,
          872583.051724138,
          615537.4716981133,
          643329.4761904762,
          430164.7380952381,
          217000,
          674469.5263157894,
          1033372.1272727273,
          802347.9649122807,
          758760.3768115942,
          715879.4533333334,
          708316.7365656566,
          700754.0197979797,
          693191.303030303,
          862207.5540540541,
          14690100.05,
          923863.4225352113,
          712918.0363636364,
          401459.0181818182,
          90000,
          683918.8484848485,
          731857.1111111111,
          631391.24,
          587772.3191489362,
          620802.2205882353,
          519675.64705882355,
          418549.0735294118,
          317422.5,
          712517.5714285715,
          730325.5769230769,
          830288.86,
          639017.6101694915,
          3000,
          289445.51666666666,
          575891.0333333333,
          699273.3928571428,
          693789.1833333333,
          753131.0754716981,
          747951.3,
          285000,
          5000,
          652001.9298245613,
          709614.3606557377,
          831534.3918918918,
          729093.1382978724,
          1050691.7684210527,
          410000,
          399000,
          694042.5588235294,
          704709.475,
          758629.3103448276,
          640258.0714285715,
          705806.2380952381,
          562903.119047619,
          420000,
          740381.828125,
          744469.9344262296,
          500318.1818181818,
          704503.1891891892,
          2660488.6923076925,
          1998253.4736596737,
          1336018.2550116552,
          673783.0363636364,
          763621.4736842106,
          1125740.4705882352,
          697605.71875,
          680614.3333333334,
          666767.6240487063,
          652920.9147640791,
          639074.205479452,
          779583.9784946237,
          741491.7611940298,
          787225.2555970149,
          832958.75,
          539811.375,
          246664,
          687234.4642857143,
          710952.6323529412,
          675483.515625,
          781023.96875,
          679605.7702702703,
          519802.88513513515,
          360000,
          757934.828125,
          676002.6111111111,
          612785.8153846153,
          673998.8533333334,
          639837.875,
          1000000,
          395801.5,
          1057572.6712328766,
          787623.5,
          815271.8,
          1206976.66,
          1029722.0260869565,
          1399895.6737486927,
          1770069.3214104287,
          2140242.969072165,
          3079420.9344262294,
          818685.9696969697,
          3036481.242424242,
          1713634.121212121,
          390787,
          792379.5416666666,
          1193972.0833333333,
          745306.5108695652,
          1182410.3086419753,
          904587.4307692308,
          807301.0644562335,
          710014.6981432361,
          612728.3318302387,
          515441.9655172414,
          937195.8113207547,
          629678.7924528302,
          870835.4074074074,
          673749.8793103448,
          200000,
          419108.5378787879,
          638217.0757575758,
          941716.2987012987,
          629515.2909090909,
          617809.5576923077,
          2060531.569620253,
          980000,
          75000,
          665439.8,
          734202.775862069,
          728799.0289855072,
          733167.7333333333,
          798184.8815789474,
          634500,
          649681.0357142857,
          664862.0714285715,
          700602.1551724138,
          808769.0724637681,
          716158.5384615385,
          965531.6880733945,
          4098400,
          1100000,
          1030374.6666666666,
          678594.1666666666,
          673120.3773584906,
          646879.6060606061,
          679965.2934782609,
          461500,
          598306.8083333333,
          735113.6166666667,
          709083.7464788732,
          721104.9714285714,
          876941.2133333334,
          809655.5571428571,
          734948.1492063492,
          660240.7412698413,
          585533.3333333334,
          620100.220338983,
          672292.9245283019,
          767958.2676056338,
          934185.5,
          660092.75,
          386000,
          1820586.35,
          776674.421875,
          714328.8309859155,
          787634.8292682926,
          707944.7699115045,
          695201.2051935282,
          682457.6404755521,
          669714.0757575758
         ],
         "yaxis": "y"
        },
        {
         "mode": "lines",
         "name": "trend",
         "opacity": 0.8,
         "showlegend": false,
         "type": "scatter",
         "x": [
          "2020-04-01T00:00:00",
          "2020-04-02T00:00:00",
          "2020-04-03T00:00:00",
          "2020-04-04T00:00:00",
          "2020-04-05T00:00:00",
          "2020-04-06T00:00:00",
          "2020-04-07T00:00:00",
          "2020-04-08T00:00:00",
          "2020-04-09T00:00:00",
          "2020-04-10T00:00:00",
          "2020-04-11T00:00:00",
          "2020-04-12T00:00:00",
          "2020-04-13T00:00:00",
          "2020-04-14T00:00:00",
          "2020-04-15T00:00:00",
          "2020-04-16T00:00:00",
          "2020-04-17T00:00:00",
          "2020-04-18T00:00:00",
          "2020-04-19T00:00:00",
          "2020-04-20T00:00:00",
          "2020-04-21T00:00:00",
          "2020-04-22T00:00:00",
          "2020-04-23T00:00:00",
          "2020-04-24T00:00:00",
          "2020-04-25T00:00:00",
          "2020-04-26T00:00:00",
          "2020-04-27T00:00:00",
          "2020-04-28T00:00:00",
          "2020-04-29T00:00:00",
          "2020-04-30T00:00:00",
          "2020-05-01T00:00:00",
          "2020-05-02T00:00:00",
          "2020-05-03T00:00:00",
          "2020-05-04T00:00:00",
          "2020-05-05T00:00:00",
          "2020-05-06T00:00:00",
          "2020-05-07T00:00:00",
          "2020-05-08T00:00:00",
          "2020-05-09T00:00:00",
          "2020-05-10T00:00:00",
          "2020-05-11T00:00:00",
          "2020-05-12T00:00:00",
          "2020-05-13T00:00:00",
          "2020-05-14T00:00:00",
          "2020-05-15T00:00:00",
          "2020-05-16T00:00:00",
          "2020-05-17T00:00:00",
          "2020-05-18T00:00:00",
          "2020-05-19T00:00:00",
          "2020-05-20T00:00:00",
          "2020-05-21T00:00:00",
          "2020-05-22T00:00:00",
          "2020-05-23T00:00:00",
          "2020-05-24T00:00:00",
          "2020-05-25T00:00:00",
          "2020-05-26T00:00:00",
          "2020-05-27T00:00:00",
          "2020-05-28T00:00:00",
          "2020-05-29T00:00:00",
          "2020-05-30T00:00:00",
          "2020-05-31T00:00:00",
          "2020-06-01T00:00:00",
          "2020-06-02T00:00:00",
          "2020-06-03T00:00:00",
          "2020-06-04T00:00:00",
          "2020-06-05T00:00:00",
          "2020-06-06T00:00:00",
          "2020-06-07T00:00:00",
          "2020-06-08T00:00:00",
          "2020-06-09T00:00:00",
          "2020-06-10T00:00:00",
          "2020-06-11T00:00:00",
          "2020-06-12T00:00:00",
          "2020-06-13T00:00:00",
          "2020-06-14T00:00:00",
          "2020-06-15T00:00:00",
          "2020-06-16T00:00:00",
          "2020-06-17T00:00:00",
          "2020-06-18T00:00:00",
          "2020-06-19T00:00:00",
          "2020-06-20T00:00:00",
          "2020-06-21T00:00:00",
          "2020-06-22T00:00:00",
          "2020-06-23T00:00:00",
          "2020-06-24T00:00:00",
          "2020-06-25T00:00:00",
          "2020-06-26T00:00:00",
          "2020-06-27T00:00:00",
          "2020-06-28T00:00:00",
          "2020-06-29T00:00:00",
          "2020-06-30T00:00:00",
          "2020-07-01T00:00:00",
          "2020-07-02T00:00:00",
          "2020-07-03T00:00:00",
          "2020-07-04T00:00:00",
          "2020-07-05T00:00:00",
          "2020-07-06T00:00:00",
          "2020-07-07T00:00:00",
          "2020-07-08T00:00:00",
          "2020-07-09T00:00:00",
          "2020-07-10T00:00:00",
          "2020-07-11T00:00:00",
          "2020-07-12T00:00:00",
          "2020-07-13T00:00:00",
          "2020-07-14T00:00:00",
          "2020-07-15T00:00:00",
          "2020-07-16T00:00:00",
          "2020-07-17T00:00:00",
          "2020-07-18T00:00:00",
          "2020-07-19T00:00:00",
          "2020-07-20T00:00:00",
          "2020-07-21T00:00:00",
          "2020-07-22T00:00:00",
          "2020-07-23T00:00:00",
          "2020-07-24T00:00:00",
          "2020-07-25T00:00:00",
          "2020-07-26T00:00:00",
          "2020-07-27T00:00:00",
          "2020-07-28T00:00:00",
          "2020-07-29T00:00:00",
          "2020-07-30T00:00:00",
          "2020-07-31T00:00:00",
          "2020-08-01T00:00:00",
          "2020-08-02T00:00:00",
          "2020-08-03T00:00:00",
          "2020-08-04T00:00:00",
          "2020-08-05T00:00:00",
          "2020-08-06T00:00:00",
          "2020-08-07T00:00:00",
          "2020-08-08T00:00:00",
          "2020-08-09T00:00:00",
          "2020-08-10T00:00:00",
          "2020-08-11T00:00:00",
          "2020-08-12T00:00:00",
          "2020-08-13T00:00:00",
          "2020-08-14T00:00:00",
          "2020-08-15T00:00:00",
          "2020-08-16T00:00:00",
          "2020-08-17T00:00:00",
          "2020-08-18T00:00:00",
          "2020-08-19T00:00:00",
          "2020-08-20T00:00:00",
          "2020-08-21T00:00:00",
          "2020-08-22T00:00:00",
          "2020-08-23T00:00:00",
          "2020-08-24T00:00:00",
          "2020-08-25T00:00:00",
          "2020-08-26T00:00:00",
          "2020-08-27T00:00:00",
          "2020-08-28T00:00:00",
          "2020-08-29T00:00:00",
          "2020-08-30T00:00:00",
          "2020-08-31T00:00:00",
          "2020-09-01T00:00:00",
          "2020-09-02T00:00:00",
          "2020-09-03T00:00:00",
          "2020-09-04T00:00:00",
          "2020-09-05T00:00:00",
          "2020-09-06T00:00:00",
          "2020-09-07T00:00:00",
          "2020-09-08T00:00:00",
          "2020-09-09T00:00:00",
          "2020-09-10T00:00:00",
          "2020-09-11T00:00:00",
          "2020-09-12T00:00:00",
          "2020-09-13T00:00:00",
          "2020-09-14T00:00:00",
          "2020-09-15T00:00:00",
          "2020-09-16T00:00:00",
          "2020-09-17T00:00:00",
          "2020-09-18T00:00:00",
          "2020-09-19T00:00:00",
          "2020-09-20T00:00:00",
          "2020-09-21T00:00:00",
          "2020-09-22T00:00:00",
          "2020-09-23T00:00:00",
          "2020-09-24T00:00:00",
          "2020-09-25T00:00:00",
          "2020-09-26T00:00:00",
          "2020-09-27T00:00:00",
          "2020-09-28T00:00:00",
          "2020-09-29T00:00:00",
          "2020-09-30T00:00:00",
          "2020-10-01T00:00:00",
          "2020-10-02T00:00:00",
          "2020-10-03T00:00:00",
          "2020-10-04T00:00:00",
          "2020-10-05T00:00:00",
          "2020-10-06T00:00:00",
          "2020-10-07T00:00:00",
          "2020-10-08T00:00:00",
          "2020-10-09T00:00:00",
          "2020-10-10T00:00:00",
          "2020-10-11T00:00:00",
          "2020-10-12T00:00:00",
          "2020-10-13T00:00:00",
          "2020-10-14T00:00:00",
          "2020-10-15T00:00:00",
          "2020-10-16T00:00:00",
          "2020-10-17T00:00:00",
          "2020-10-18T00:00:00",
          "2020-10-19T00:00:00",
          "2020-10-20T00:00:00",
          "2020-10-21T00:00:00",
          "2020-10-22T00:00:00",
          "2020-10-23T00:00:00",
          "2020-10-24T00:00:00",
          "2020-10-25T00:00:00",
          "2020-10-26T00:00:00",
          "2020-10-27T00:00:00",
          "2020-10-28T00:00:00",
          "2020-10-29T00:00:00",
          "2020-10-30T00:00:00",
          "2020-10-31T00:00:00",
          "2020-11-01T00:00:00",
          "2020-11-02T00:00:00",
          "2020-11-03T00:00:00",
          "2020-11-04T00:00:00",
          "2020-11-05T00:00:00",
          "2020-11-06T00:00:00",
          "2020-11-07T00:00:00",
          "2020-11-08T00:00:00",
          "2020-11-09T00:00:00",
          "2020-11-10T00:00:00",
          "2020-11-11T00:00:00",
          "2020-11-12T00:00:00",
          "2020-11-13T00:00:00",
          "2020-11-14T00:00:00",
          "2020-11-15T00:00:00",
          "2020-11-16T00:00:00",
          "2020-11-17T00:00:00",
          "2020-11-18T00:00:00",
          "2020-11-19T00:00:00",
          "2020-11-20T00:00:00",
          "2020-11-21T00:00:00",
          "2020-11-22T00:00:00",
          "2020-11-23T00:00:00",
          "2020-11-24T00:00:00",
          "2020-11-25T00:00:00",
          "2020-11-26T00:00:00",
          "2020-11-27T00:00:00",
          "2020-11-28T00:00:00",
          "2020-11-29T00:00:00",
          "2020-11-30T00:00:00",
          "2020-12-01T00:00:00",
          "2020-12-02T00:00:00",
          "2020-12-03T00:00:00",
          "2020-12-04T00:00:00",
          "2020-12-05T00:00:00",
          "2020-12-06T00:00:00",
          "2020-12-07T00:00:00",
          "2020-12-08T00:00:00",
          "2020-12-09T00:00:00",
          "2020-12-10T00:00:00",
          "2020-12-11T00:00:00",
          "2020-12-12T00:00:00",
          "2020-12-13T00:00:00",
          "2020-12-14T00:00:00",
          "2020-12-15T00:00:00",
          "2020-12-16T00:00:00",
          "2020-12-17T00:00:00",
          "2020-12-18T00:00:00",
          "2020-12-19T00:00:00",
          "2020-12-20T00:00:00",
          "2020-12-21T00:00:00",
          "2020-12-22T00:00:00",
          "2020-12-23T00:00:00",
          "2020-12-24T00:00:00",
          "2020-12-25T00:00:00",
          "2020-12-26T00:00:00",
          "2020-12-27T00:00:00",
          "2020-12-28T00:00:00",
          "2020-12-29T00:00:00",
          "2020-12-30T00:00:00",
          "2020-12-31T00:00:00",
          "2021-01-01T00:00:00",
          "2021-01-02T00:00:00",
          "2021-01-03T00:00:00",
          "2021-01-04T00:00:00",
          "2021-01-05T00:00:00",
          "2021-01-06T00:00:00",
          "2021-01-07T00:00:00",
          "2021-01-08T00:00:00",
          "2021-01-09T00:00:00",
          "2021-01-10T00:00:00",
          "2021-01-11T00:00:00",
          "2021-01-12T00:00:00",
          "2021-01-13T00:00:00",
          "2021-01-14T00:00:00",
          "2021-01-15T00:00:00",
          "2021-01-16T00:00:00",
          "2021-01-17T00:00:00",
          "2021-01-18T00:00:00",
          "2021-01-19T00:00:00",
          "2021-01-20T00:00:00",
          "2021-01-21T00:00:00",
          "2021-01-22T00:00:00",
          "2021-01-23T00:00:00",
          "2021-01-24T00:00:00",
          "2021-01-25T00:00:00",
          "2021-01-26T00:00:00",
          "2021-01-27T00:00:00",
          "2021-01-28T00:00:00",
          "2021-01-29T00:00:00",
          "2021-01-30T00:00:00",
          "2021-01-31T00:00:00",
          "2021-02-01T00:00:00",
          "2021-02-02T00:00:00",
          "2021-02-03T00:00:00",
          "2021-02-04T00:00:00",
          "2021-02-05T00:00:00",
          "2021-02-06T00:00:00",
          "2021-02-07T00:00:00",
          "2021-02-08T00:00:00",
          "2021-02-09T00:00:00",
          "2021-02-10T00:00:00",
          "2021-02-11T00:00:00",
          "2021-02-12T00:00:00",
          "2021-02-13T00:00:00",
          "2021-02-14T00:00:00",
          "2021-02-15T00:00:00",
          "2021-02-16T00:00:00",
          "2021-02-17T00:00:00",
          "2021-02-18T00:00:00",
          "2021-02-19T00:00:00",
          "2021-02-20T00:00:00",
          "2021-02-21T00:00:00",
          "2021-02-22T00:00:00",
          "2021-02-23T00:00:00",
          "2021-02-24T00:00:00",
          "2021-02-25T00:00:00",
          "2021-02-26T00:00:00",
          "2021-02-27T00:00:00",
          "2021-02-28T00:00:00",
          "2021-03-01T00:00:00"
         ],
         "xaxis": "x2",
         "y": [
          0,
          4.688215623393865,
          16.344920811436868,
          -41.66749220963711,
          -88.65923460672082,
          25.41863742476722,
          15.869285475217966,
          170.72156761357752,
          37.505724987541065,
          73.55214365214601,
          -138.8916406999462,
          -243.81289517032678,
          61.00472981927211,
          34.383451862935566,
          341.44313522715504,
          70.32323435168826,
          130.75936649285515,
          -236.1157891902553,
          -398.96655573393264,
          96.59082221377699,
          52.89761825065318,
          512.1647028407326,
          103.14074371583547,
          187.9665893335643,
          -333.3399376805644,
          -554.1202162975387,
          132.17691460828186,
          71.41178463837078,
          682.8862704543101,
          135.95825307998265,
          245.17381217427342,
          -430.5640861708735,
          -709.2738768611446,
          167.76300700278676,
          89.9259510260884,
          853.6078380678878,
          168.77576244412987,
          302.38103501498256,
          -527.7882346611826,
          -864.4275374247505,
          203.34909939729164,
          108.44011741380601,
          1024.3294056814652,
          201.59327180827705,
          359.5882578556917,
          -625.0123831514917,
          -1019.5811979883565,
          238.9351917917965,
          126.9542838015236,
          1195.0509732950427,
          234.41078117242427,
          416.7954806964009,
          -722.2365316418008,
          -1174.7348585519624,
          274.5212841863014,
          145.46845018924122,
          1365.7725409086202,
          267.2282905365715,
          474.00270353711,
          -819.4606801321098,
          -1329.8885191155684,
          310.1073765808063,
          163.98261657695883,
          1536.4941085221978,
          300.0457999007187,
          531.2099263778191,
          -916.684828622419,
          -1485.0421796791743,
          345.6934689753112,
          182.4967829646764,
          1707.2156761357755,
          332.86330926486585,
          588.4171492185283,
          -1013.908977112728,
          -1640.1958402427802,
          381.27956136981607,
          201.01094935239402,
          1877.937243749353,
          365.68081862901306,
          645.6243720592374,
          -1111.1331256030373,
          -1795.3495008063862,
          416.86565376432094,
          219.52511574011166,
          2048.6588113629305,
          398.4983279931603,
          702.8315948999466,
          -1208.3572740933464,
          -1950.503161369992,
          452.4517461588258,
          238.03928212782927,
          2219.380378976508,
          431.3158373573075,
          760.0388177406558,
          -1305.5814225836555,
          -2105.656821933598,
          488.0378385533307,
          256.55344851554685,
          2390.1019465900854,
          464.1333467214547,
          817.2460405813648,
          -1402.8055710739643,
          -2260.8104824972042,
          523.6239309478356,
          275.0676149032645,
          2560.823514203663,
          496.9508560856019,
          874.453263422074,
          -1500.0297195642734,
          -2415.96414306081,
          559.2100233423405,
          293.5817812909821,
          2731.5450818172403,
          529.768365449749,
          931.6604862627831,
          -1597.2538680545824,
          -2571.1178036244164,
          594.7961157368453,
          312.09594767869964,
          2902.2666494308182,
          562.5858748138963,
          988.8677091034922,
          -1694.4780165448917,
          -2726.271464188022,
          630.3822081313502,
          330.61011406641734,
          3072.9882170443957,
          595.4033841780434,
          1046.0749319442014,
          -1791.7021650352008,
          -2881.4251247516277,
          665.9683005258552,
          349.12428045413486,
          3243.7097846579736,
          628.2208935421907,
          1103.2821547849107,
          -1888.9263135255096,
          -3036.578785315234,
          701.55439292036,
          367.6384468418525,
          3414.431352271551,
          661.0384029063379,
          1160.4893776256197,
          -1986.1504620158194,
          -3191.73244587884,
          737.1404853148649,
          386.1526132295702,
          3585.152919885128,
          693.8559122704851,
          1217.6966004663288,
          -2083.3746105061277,
          -3346.8861064424455,
          772.7265777093697,
          404.6667796172877,
          3755.874487498706,
          726.6734216346323,
          1274.903823307038,
          -2180.5987589964375,
          -3502.0397670060515,
          808.3126701038747,
          423.18094600500535,
          3926.5960551122835,
          759.4909309987795,
          1332.1110461477472,
          -2277.8229074867463,
          -3657.1934275696576,
          843.8987624983796,
          441.6951123927229,
          4097.317622725861,
          792.3084403629267,
          1389.3182689884563,
          -2375.0470559770556,
          -3812.3470881332632,
          879.4848548928844,
          460.20927878044057,
          4268.039190339439,
          825.1259497270738,
          1446.5254918291653,
          -2472.2712044673644,
          -3967.5007486968693,
          915.0709472873893,
          478.7234451681581,
          4438.760757953016,
          857.943459091221,
          1503.7327146698744,
          -2569.4953529576733,
          -4122.654409260475,
          950.6570396814711,
          497.23761155587573,
          4609.482325566593,
          890.7609684553684,
          1560.9399375105836,
          -2666.719501447983,
          -4277.808069824082,
          986.2431320759761,
          515.7517779435934,
          4780.203893180171,
          923.5784778195155,
          1618.1471603512928,
          -2763.943649938292,
          -4432.961730387688,
          1021.8292244704809,
          534.265944331311,
          4950.925460793749,
          956.3959871836627,
          1675.354383192002,
          -2861.1677984286007,
          -4588.115390951292,
          1057.4153168649857,
          552.7801107190286,
          5121.647028407326,
          989.21349654781,
          1732.561606032711,
          -2958.39194691891,
          -4743.269051514899,
          1093.0014092594906,
          571.2942771067462,
          5292.368596020904,
          1022.031005911957,
          1789.7688288734203,
          -3055.6160954092197,
          -4898.422712078505,
          1128.5875016539956,
          589.8084434944639,
          5463.090163634481,
          1054.8485152761043,
          1846.9760517141294,
          -3152.840243899528,
          -5053.576372642111,
          1164.1735940485005,
          608.3226098821814,
          5633.811731248059,
          1087.6660246402514,
          1904.1832745548386,
          -3250.064392389837,
          -5208.730033205717,
          1199.7596864430054,
          626.836776269899,
          5804.5332988616365,
          1120.4835340043987,
          1961.3904973955478,
          -3347.2885408801462,
          -5363.883693769323,
          1235.3457788375101,
          645.3509426576167,
          5975.254866475214,
          1153.301043368546,
          2018.597720236257,
          -3444.5126893704555,
          -5519.03735433293,
          1270.931871232015,
          663.8651090453343,
          6145.976434088791,
          1186.118552732693,
          2075.804943076966,
          -3541.7368378607644,
          -5674.191014896534,
          1306.51796362652,
          682.3792754330517,
          6316.698001702369,
          1218.9360620968403,
          2133.0121659176752,
          -3638.9609863510736,
          -5829.344675460141,
          1342.104056021025,
          700.8934418207693,
          6487.419569315947,
          1251.7535714609876,
          2190.2193887583844,
          -3736.185134841383,
          -5984.4983360237475,
          1377.6901484155298,
          719.4076082084871,
          6658.141136929525,
          1284.5710808251347,
          2247.4266115990936,
          -3833.4473358359546,
          -6139.773447593542,
          1413.3180248719354,
          737.9507595924771,
          6829.196797630071,
          1317.4656567473976,
          2304.790566557016,
          -3930.937851856105,
          -6295.352186680655,
          1449.0016134098885,
          756.5156497236713,
          7000.3860955654045,
          1350.3730770960133,
          2362.1545215149386,
          -4028.428367877411,
          -6450.930925765924,
          1484.6852019478413,
          775.0805398548657,
          7171.575393500739,
          1383.2804974450191,
          2419.5184764735413,
          -4125.9188838975615,
          -6606.509664851192,
          1520.3687904857943,
          793.6454299860602,
          7342.764691438102,
          1416.1879177936348,
          2476.882431431464,
          -4223.409399917712,
          -6762.088403936461,
          1556.0523790237473,
          812.2103201174746,
          7513.953989373435,
          1449.0953381422505,
          2534.2463863893863,
          -4320.899915937863,
          -6917.667143021728,
          1591.7359675621233,
          830.7752102486689,
          7685.14328730877,
          1482.002758490866,
          2591.610341347309,
          -4418.390431959168,
          -7073.245882108842,
          1627.4195561000763,
          849.3401003798632,
          7856.332585244103,
          1514.9101788394817,
          2648.9742963059116,
          -4515.88094797932,
          -7228.8246211941105,
          1663.103144638029,
          867.9049905110576,
          8027.521883179437,
          1547.8175991884875,
          2706.338251263834,
          -4613.37146399947,
          -7384.403360279379,
          1698.7867331759821
         ],
         "yaxis": "y2"
        },
        {
         "mode": "lines",
         "name": "WEEKLY_SEASONALITY",
         "opacity": 0.8,
         "showlegend": false,
         "type": "scatter",
         "x": [
          0,
          1,
          2,
          3,
          4,
          5,
          6
         ],
         "xaxis": "x3",
         "y": [
          11623.718763610044,
          -25600.129427988824,
          80979.54393368073,
          -8456.240800609385,
          12926.683147631404,
          -27098.041001380305,
          -44603.772789900475
         ],
         "yaxis": "y3"
        },
        {
         "mode": "lines",
         "name": "QUARTERLY_SEASONALITY",
         "opacity": 0.8,
         "showlegend": false,
         "type": "scatter",
         "x": [
          0,
          0.010869565217391304,
          0.01098901098901099,
          0.011111111111111112,
          0.021739130434782608,
          0.02197802197802198,
          0.022222222222222223,
          0.03260869565217391,
          0.03296703296703297,
          0.03333333333333333,
          0.043478260869565216,
          0.04395604395604396,
          0.044444444444444446,
          0.05434782608695652,
          0.054945054945054944,
          0.05555555555555555,
          0.06521739130434782,
          0.06593406593406594,
          0.06666666666666667,
          0.07608695652173914,
          0.07692307692307693,
          0.07777777777777778,
          0.08695652173913043,
          0.08791208791208792,
          0.08888888888888889,
          0.09782608695652174,
          0.0989010989010989,
          0.1,
          0.10869565217391304,
          0.10989010989010989,
          0.1111111111111111,
          0.11956521739130435,
          0.12087912087912088,
          0.12222222222222222,
          0.13043478260869565,
          0.13186813186813187,
          0.13333333333333333,
          0.14130434782608695,
          0.14285714285714285,
          0.14444444444444443,
          0.15217391304347827,
          0.15384615384615385,
          0.15555555555555556,
          0.16304347826086957,
          0.16483516483516483,
          0.16666666666666666,
          0.17391304347826086,
          0.17582417582417584,
          0.17777777777777778,
          0.18478260869565216,
          0.18681318681318682,
          0.18888888888888888,
          0.1956521739130435,
          0.1978021978021978,
          0.2,
          0.20652173913043478,
          0.2087912087912088,
          0.2111111111111111,
          0.21739130434782608,
          0.21978021978021978,
          0.2222222222222222,
          0.22826086956521738,
          0.23076923076923078,
          0.23333333333333334,
          0.2391304347826087,
          0.24175824175824176,
          0.24444444444444444,
          0.25,
          0.25274725274725274,
          0.25555555555555554,
          0.2608695652173913,
          0.26373626373626374,
          0.26666666666666666,
          0.2717391304347826,
          0.27472527472527475,
          0.2777777777777778,
          0.2826086956521739,
          0.2857142857142857,
          0.28888888888888886,
          0.29347826086956524,
          0.2967032967032967,
          0.3,
          0.30434782608695654,
          0.3076923076923077,
          0.3111111111111111,
          0.31521739130434784,
          0.31868131868131866,
          0.32222222222222224,
          0.32608695652173914,
          0.32967032967032966,
          0.3333333333333333,
          0.33695652173913043,
          0.34065934065934067,
          0.34444444444444444,
          0.34782608695652173,
          0.3516483516483517,
          0.35555555555555557,
          0.358695652173913,
          0.3626373626373626,
          0.36666666666666664,
          0.3695652173913043,
          0.37362637362637363,
          0.37777777777777777,
          0.3804347826086957,
          0.38461538461538464,
          0.3888888888888889,
          0.391304347826087,
          0.3956043956043956,
          0.4,
          0.40217391304347827,
          0.4065934065934066,
          0.4111111111111111,
          0.41304347826086957,
          0.4175824175824176,
          0.4222222222222222,
          0.42391304347826086,
          0.42857142857142855,
          0.43333333333333335,
          0.43478260869565216,
          0.43956043956043955,
          0.4444444444444444,
          0.44565217391304346,
          0.45054945054945056,
          0.45555555555555555,
          0.45652173913043476,
          0.46153846153846156,
          0.4666666666666667,
          0.4673913043478261,
          0.4725274725274725,
          0.4777777777777778,
          0.4782608695652174,
          0.4835164835164835,
          0.4888888888888889,
          0.4891304347826087,
          0.4945054945054945,
          0.5,
          0.5054945054945055,
          0.5108695652173914,
          0.5111111111111111,
          0.5164835164835165,
          0.5217391304347826,
          0.5222222222222223,
          0.5274725274725275,
          0.532608695652174,
          0.5333333333333333,
          0.5384615384615384,
          0.5434782608695652,
          0.5444444444444444,
          0.5494505494505495,
          0.5543478260869565,
          0.5555555555555556,
          0.5604395604395604,
          0.5652173913043478,
          0.5666666666666667,
          0.5714285714285714,
          0.5760869565217391,
          0.5777777777777777,
          0.5824175824175825,
          0.5869565217391305,
          0.5888888888888889,
          0.5934065934065934,
          0.5978260869565217,
          0.6,
          0.6043956043956044,
          0.6086956521739131,
          0.6111111111111112,
          0.6153846153846154,
          0.6195652173913043,
          0.6222222222222222,
          0.6263736263736264,
          0.6304347826086957,
          0.6333333333333333,
          0.6373626373626373,
          0.6413043478260869,
          0.6444444444444445,
          0.6483516483516484,
          0.6521739130434783,
          0.6555555555555556,
          0.6593406593406593,
          0.6630434782608695,
          0.6703296703296703,
          0.6739130434782609,
          0.6813186813186813,
          0.6847826086956522,
          0.6923076923076923,
          0.6956521739130435,
          0.7032967032967034,
          0.7065217391304348,
          0.7142857142857143,
          0.717391304347826,
          0.7252747252747253,
          0.7282608695652174,
          0.7362637362637363,
          0.7391304347826086,
          0.7472527472527473,
          0.75,
          0.7582417582417582,
          0.7608695652173914,
          0.7692307692307693,
          0.7717391304347826,
          0.7802197802197802,
          0.782608695652174,
          0.7912087912087912,
          0.7934782608695652,
          0.8021978021978022,
          0.8043478260869565,
          0.8131868131868132,
          0.8152173913043478,
          0.8241758241758241,
          0.8260869565217391,
          0.8351648351648352,
          0.8369565217391305,
          0.8461538461538461,
          0.8478260869565217,
          0.8571428571428571,
          0.8586956521739131,
          0.8681318681318682,
          0.8695652173913043,
          0.8791208791208791,
          0.8804347826086957,
          0.8901098901098901,
          0.8913043478260869,
          0.9010989010989011,
          0.9021739130434783,
          0.9120879120879121,
          0.9130434782608695,
          0.9230769230769231,
          0.9239130434782609,
          0.9340659340659341,
          0.9347826086956522,
          0.945054945054945,
          0.9456521739130435,
          0.9560439560439561,
          0.9565217391304348,
          0.967032967032967,
          0.967391304347826,
          0.978021978021978,
          0.9782608695652174,
          0.989010989010989,
          0.9891304347826086
         ],
         "xaxis": "x4",
         "y": [
          64702.377479454066,
          51681.801820677894,
          51519.96112809205,
          51354.14559340393,
          35640.29647825812,
          35262.451331512115,
          34875.30367077651,
          17767.438840588642,
          17162.242418749192,
          16543.08661043358,
          -605.0983194297246,
          -1402.9664849516184,
          -2216.7583600820353,
          -18141.523151856818,
          -19055.928631504747,
          -19984.028068349122,
          -33636.1667788851,
          -34561.09484538363,
          -35492.727284245135,
          -46129.590824983716,
          -46945.87924538978,
          -47757.7173563995,
          -54994.49192897984,
          -55589.09062571825,
          -56165.65580768198,
          -59982.965758832914,
          -60267.699376409655,
          -60520.99722858677,
          -61231.193619078724,
          -61158.060608120984,
          -61043.27475108189,
          -59222.46242521866,
          -58793.004303764144,
          -58317.65584916214,
          -54714.06896787477,
          -53981.21499091301,
          -53206.177610193154,
          -48637.5687835532,
          -47699.47996370779,
          -46731.47949312228,
          -41984.57627042797,
          -40971.21795167628,
          -39947.75889252164,
          -35691.613012875925,
          -34745.90253861564,
          -33814.757125139215,
          -30537.21410266037,
          -29793.455627400923,
          -29089.745023140887,
          -27062.69947406436,
          -26625.5014723684,
          -26249.854992995006,
          -25524.934949237373,
          -25451.829796092195,
          -25453.050321446368,
          -25885.426690361208,
          -26175.962338350808,
          -26541.051289807034,
          -27835.69296538706,
          -28428.897899434458,
          -29082.27357395787,
          -30854.560573118968,
          -31635.509418934023,
          -32447.926632682087,
          -34289.3428072739,
          -35104.23176926644,
          -35910.46502746087,
          -37450.196649351776,
          -38128.06047129066,
          -38751.055821053036,
          -39705.62747699552,
          -40083.777211790344,
          -40361.91108031651,
          -40567.24800201072,
          -40516.83939927879,
          -40330.31163971455,
          -39753.46723559165,
          -39201.43166847725,
          -38493.76980244443,
          -37224.578528133694,
          -36168.50508027088,
          -34959.69527179096,
          -33185.38310088621,
          -31698.801173874563,
          -30087.63333048518,
          -28055.575866804884,
          -26282.350349750937,
          -24437.036311250344,
          -22412.135722498082,
          -20550.189571428135,
          -18687.98917447814,
          -16911.417411420975,
          -15187.538211665153,
          -13545.776265351891,
          -12201.121263135112,
          -10839.974703478149,
          -9642.215602531294,
          -8833.524742977816,
          -8024.990450792262,
          -7447.047167232411,
          -7191.154194358625,
          -7060.563115331524,
          -7201.302586750948,
          -7434.4855678273925,
          -8020.184313642254,
          -8881.682007281612,
          -9478.485414708997,
          -10720.373850266413,
          -12200.89085653625,
          -13001.17744011241,
          -14742.538365981527,
          -16644.16356849964,
          -17483.387648979344,
          -19486.60687085713,
          -21537.42527921839,
          -22274.874647098568,
          -24249.75140163309,
          -26138.326067307004,
          -26678.67409152201,
          -28320.19497781107,
          -29738.26725149641,
          -30043.093912305165,
          -31074.039399234523,
          -31761.93101661737,
          -31849.689144527936,
          -32062.48023067195,
          -31850.94109336368,
          -31785.868174311294,
          -31077.79980434388,
          -29920.125473781685,
          -29792.510557555215,
          -28189.030409345884,
          -26178.206980008275,
          -26079.915440549998,
          -23741.86539547553,
          -21109.20672081297,
          -18321.823756760954,
          -15540.546465077488,
          -15415.85916741864,
          -12684.306278424881,
          -10153.646791721265,
          -9931.280380101154,
          -7659.4498353886465,
          -5749.622040727454,
          -5509.378978446168,
          -4043.059897497502,
          -3045.7512249168453,
          -2907.50784536713,
          -2486.951108364976,
          -2575.9054686740596,
          -2676.225532415125,
          -3402.4786521003953,
          -4609.071789356709,
          -5070.570003050816,
          -6889.815659836737,
          -9096.58505710542,
          -9994.968504787073,
          -12702.742886987819,
          -15655.553220663263,
          -16990.064962482225,
          -20254.67516400173,
          -23591.87268414956,
          -25264.785491796618,
          -28666.818776292846,
          -31961.64491889346,
          -33771.472579055575,
          -36854.300549182604,
          -39665.25102670643,
          -41316.561989750415,
          -43641.43373285405,
          -45564.351238953845,
          -46694.71014059732,
          -47893.5525105987,
          -48609.12654983815,
          -48831.07390176825,
          -48650.517214092906,
          -47961.531338807064,
          -46915.01354463243,
          -45246.367736354856,
          -43100.38337105535,
          -37400.78772483294,
          -33895.802881874726,
          -25270.92974551239,
          -20643.66031303398,
          -9456.433063270404,
          -4054.96722824457,
          9044.33516975055,
          14799.921994981567,
          28923.257322306607,
          34587.38909952972,
          48687.88337181356,
          53837.42326557706,
          66810.20646802543,
          71088.20187897242,
          81882.83047600875,
          85033.10594828425,
          92765.45407370431,
          94654.36998556774,
          98705.40689603346,
          99328.78555367207,
          99418.63375047423,
          98893.72441030848,
          95121.74872750093,
          93665.91996327156,
          86511.10596836769,
          84410.49224531237,
          74690.66261045227,
          72263.06849094067,
          61056.08527122277,
          58612.94608465146,
          47147.43138386427,
          44959.50179065626,
          34486.26542583926,
          32756.996224576644,
          24414.84389189418,
          23264.225317126773,
          17954.81639684041,
          17414.982660149235,
          15700.760476188949,
          15723.068505347359,
          17760.032089358785,
          18231.856600378527,
          23745.303808570206,
          24513.619045228446,
          32820.35388542853,
          33718.442369773315,
          43793.81604281253,
          44667.23649366725,
          55250.35983896949,
          55978.62833420807,
          65704.73120639572,
          66215.95903445507,
          73761.69040908774,
          74038.55537284867,
          78264.39930146516,
          78341.13812489544,
          78415.27266930712,
          78366.68469024898,
          73856.53931755954,
          73781.10586476795
         ],
         "yaxis": "y4"
        },
        {
         "mode": "lines",
         "name": "events",
         "opacity": 0.8,
         "showlegend": false,
         "type": "scatter",
         "x": [
          "2020-04-01T00:00:00",
          "2020-04-02T00:00:00",
          "2020-04-03T00:00:00",
          "2020-04-04T00:00:00",
          "2020-04-05T00:00:00",
          "2020-04-06T00:00:00",
          "2020-04-07T00:00:00",
          "2020-04-08T00:00:00",
          "2020-04-09T00:00:00",
          "2020-04-10T00:00:00",
          "2020-04-11T00:00:00",
          "2020-04-12T00:00:00",
          "2020-04-13T00:00:00",
          "2020-04-14T00:00:00",
          "2020-04-15T00:00:00",
          "2020-04-16T00:00:00",
          "2020-04-17T00:00:00",
          "2020-04-18T00:00:00",
          "2020-04-19T00:00:00",
          "2020-04-20T00:00:00",
          "2020-04-21T00:00:00",
          "2020-04-22T00:00:00",
          "2020-04-23T00:00:00",
          "2020-04-24T00:00:00",
          "2020-04-25T00:00:00",
          "2020-04-26T00:00:00",
          "2020-04-27T00:00:00",
          "2020-04-28T00:00:00",
          "2020-04-29T00:00:00",
          "2020-04-30T00:00:00",
          "2020-05-01T00:00:00",
          "2020-05-02T00:00:00",
          "2020-05-03T00:00:00",
          "2020-05-04T00:00:00",
          "2020-05-05T00:00:00",
          "2020-05-06T00:00:00",
          "2020-05-07T00:00:00",
          "2020-05-08T00:00:00",
          "2020-05-09T00:00:00",
          "2020-05-10T00:00:00",
          "2020-05-11T00:00:00",
          "2020-05-12T00:00:00",
          "2020-05-13T00:00:00",
          "2020-05-14T00:00:00",
          "2020-05-15T00:00:00",
          "2020-05-16T00:00:00",
          "2020-05-17T00:00:00",
          "2020-05-18T00:00:00",
          "2020-05-19T00:00:00",
          "2020-05-20T00:00:00",
          "2020-05-21T00:00:00",
          "2020-05-22T00:00:00",
          "2020-05-23T00:00:00",
          "2020-05-24T00:00:00",
          "2020-05-25T00:00:00",
          "2020-05-26T00:00:00",
          "2020-05-27T00:00:00",
          "2020-05-28T00:00:00",
          "2020-05-29T00:00:00",
          "2020-05-30T00:00:00",
          "2020-05-31T00:00:00",
          "2020-06-01T00:00:00",
          "2020-06-02T00:00:00",
          "2020-06-03T00:00:00",
          "2020-06-04T00:00:00",
          "2020-06-05T00:00:00",
          "2020-06-06T00:00:00",
          "2020-06-07T00:00:00",
          "2020-06-08T00:00:00",
          "2020-06-09T00:00:00",
          "2020-06-10T00:00:00",
          "2020-06-11T00:00:00",
          "2020-06-12T00:00:00",
          "2020-06-13T00:00:00",
          "2020-06-14T00:00:00",
          "2020-06-15T00:00:00",
          "2020-06-16T00:00:00",
          "2020-06-17T00:00:00",
          "2020-06-18T00:00:00",
          "2020-06-19T00:00:00",
          "2020-06-20T00:00:00",
          "2020-06-21T00:00:00",
          "2020-06-22T00:00:00",
          "2020-06-23T00:00:00",
          "2020-06-24T00:00:00",
          "2020-06-25T00:00:00",
          "2020-06-26T00:00:00",
          "2020-06-27T00:00:00",
          "2020-06-28T00:00:00",
          "2020-06-29T00:00:00",
          "2020-06-30T00:00:00",
          "2020-07-01T00:00:00",
          "2020-07-02T00:00:00",
          "2020-07-03T00:00:00",
          "2020-07-04T00:00:00",
          "2020-07-05T00:00:00",
          "2020-07-06T00:00:00",
          "2020-07-07T00:00:00",
          "2020-07-08T00:00:00",
          "2020-07-09T00:00:00",
          "2020-07-10T00:00:00",
          "2020-07-11T00:00:00",
          "2020-07-12T00:00:00",
          "2020-07-13T00:00:00",
          "2020-07-14T00:00:00",
          "2020-07-15T00:00:00",
          "2020-07-16T00:00:00",
          "2020-07-17T00:00:00",
          "2020-07-18T00:00:00",
          "2020-07-19T00:00:00",
          "2020-07-20T00:00:00",
          "2020-07-21T00:00:00",
          "2020-07-22T00:00:00",
          "2020-07-23T00:00:00",
          "2020-07-24T00:00:00",
          "2020-07-25T00:00:00",
          "2020-07-26T00:00:00",
          "2020-07-27T00:00:00",
          "2020-07-28T00:00:00",
          "2020-07-29T00:00:00",
          "2020-07-30T00:00:00",
          "2020-07-31T00:00:00",
          "2020-08-01T00:00:00",
          "2020-08-02T00:00:00",
          "2020-08-03T00:00:00",
          "2020-08-04T00:00:00",
          "2020-08-05T00:00:00",
          "2020-08-06T00:00:00",
          "2020-08-07T00:00:00",
          "2020-08-08T00:00:00",
          "2020-08-09T00:00:00",
          "2020-08-10T00:00:00",
          "2020-08-11T00:00:00",
          "2020-08-12T00:00:00",
          "2020-08-13T00:00:00",
          "2020-08-14T00:00:00",
          "2020-08-15T00:00:00",
          "2020-08-16T00:00:00",
          "2020-08-17T00:00:00",
          "2020-08-18T00:00:00",
          "2020-08-19T00:00:00",
          "2020-08-20T00:00:00",
          "2020-08-21T00:00:00",
          "2020-08-22T00:00:00",
          "2020-08-23T00:00:00",
          "2020-08-24T00:00:00",
          "2020-08-25T00:00:00",
          "2020-08-26T00:00:00",
          "2020-08-27T00:00:00",
          "2020-08-28T00:00:00",
          "2020-08-29T00:00:00",
          "2020-08-30T00:00:00",
          "2020-08-31T00:00:00",
          "2020-09-01T00:00:00",
          "2020-09-02T00:00:00",
          "2020-09-03T00:00:00",
          "2020-09-04T00:00:00",
          "2020-09-05T00:00:00",
          "2020-09-06T00:00:00",
          "2020-09-07T00:00:00",
          "2020-09-08T00:00:00",
          "2020-09-09T00:00:00",
          "2020-09-10T00:00:00",
          "2020-09-11T00:00:00",
          "2020-09-12T00:00:00",
          "2020-09-13T00:00:00",
          "2020-09-14T00:00:00",
          "2020-09-15T00:00:00",
          "2020-09-16T00:00:00",
          "2020-09-17T00:00:00",
          "2020-09-18T00:00:00",
          "2020-09-19T00:00:00",
          "2020-09-20T00:00:00",
          "2020-09-21T00:00:00",
          "2020-09-22T00:00:00",
          "2020-09-23T00:00:00",
          "2020-09-24T00:00:00",
          "2020-09-25T00:00:00",
          "2020-09-26T00:00:00",
          "2020-09-27T00:00:00",
          "2020-09-28T00:00:00",
          "2020-09-29T00:00:00",
          "2020-09-30T00:00:00",
          "2020-10-01T00:00:00",
          "2020-10-02T00:00:00",
          "2020-10-03T00:00:00",
          "2020-10-04T00:00:00",
          "2020-10-05T00:00:00",
          "2020-10-06T00:00:00",
          "2020-10-07T00:00:00",
          "2020-10-08T00:00:00",
          "2020-10-09T00:00:00",
          "2020-10-10T00:00:00",
          "2020-10-11T00:00:00",
          "2020-10-12T00:00:00",
          "2020-10-13T00:00:00",
          "2020-10-14T00:00:00",
          "2020-10-15T00:00:00",
          "2020-10-16T00:00:00",
          "2020-10-17T00:00:00",
          "2020-10-18T00:00:00",
          "2020-10-19T00:00:00",
          "2020-10-20T00:00:00",
          "2020-10-21T00:00:00",
          "2020-10-22T00:00:00",
          "2020-10-23T00:00:00",
          "2020-10-24T00:00:00",
          "2020-10-25T00:00:00",
          "2020-10-26T00:00:00",
          "2020-10-27T00:00:00",
          "2020-10-28T00:00:00",
          "2020-10-29T00:00:00",
          "2020-10-30T00:00:00",
          "2020-10-31T00:00:00",
          "2020-11-01T00:00:00",
          "2020-11-02T00:00:00",
          "2020-11-03T00:00:00",
          "2020-11-04T00:00:00",
          "2020-11-05T00:00:00",
          "2020-11-06T00:00:00",
          "2020-11-07T00:00:00",
          "2020-11-08T00:00:00",
          "2020-11-09T00:00:00",
          "2020-11-10T00:00:00",
          "2020-11-11T00:00:00",
          "2020-11-12T00:00:00",
          "2020-11-13T00:00:00",
          "2020-11-14T00:00:00",
          "2020-11-15T00:00:00",
          "2020-11-16T00:00:00",
          "2020-11-17T00:00:00",
          "2020-11-18T00:00:00",
          "2020-11-19T00:00:00",
          "2020-11-20T00:00:00",
          "2020-11-21T00:00:00",
          "2020-11-22T00:00:00",
          "2020-11-23T00:00:00",
          "2020-11-24T00:00:00",
          "2020-11-25T00:00:00",
          "2020-11-26T00:00:00",
          "2020-11-27T00:00:00",
          "2020-11-28T00:00:00",
          "2020-11-29T00:00:00",
          "2020-11-30T00:00:00",
          "2020-12-01T00:00:00",
          "2020-12-02T00:00:00",
          "2020-12-03T00:00:00",
          "2020-12-04T00:00:00",
          "2020-12-05T00:00:00",
          "2020-12-06T00:00:00",
          "2020-12-07T00:00:00",
          "2020-12-08T00:00:00",
          "2020-12-09T00:00:00",
          "2020-12-10T00:00:00",
          "2020-12-11T00:00:00",
          "2020-12-12T00:00:00",
          "2020-12-13T00:00:00",
          "2020-12-14T00:00:00",
          "2020-12-15T00:00:00",
          "2020-12-16T00:00:00",
          "2020-12-17T00:00:00",
          "2020-12-18T00:00:00",
          "2020-12-19T00:00:00",
          "2020-12-20T00:00:00",
          "2020-12-21T00:00:00",
          "2020-12-22T00:00:00",
          "2020-12-23T00:00:00",
          "2020-12-24T00:00:00",
          "2020-12-25T00:00:00",
          "2020-12-26T00:00:00",
          "2020-12-27T00:00:00",
          "2020-12-28T00:00:00",
          "2020-12-29T00:00:00",
          "2020-12-30T00:00:00",
          "2020-12-31T00:00:00",
          "2021-01-01T00:00:00",
          "2021-01-02T00:00:00",
          "2021-01-03T00:00:00",
          "2021-01-04T00:00:00",
          "2021-01-05T00:00:00",
          "2021-01-06T00:00:00",
          "2021-01-07T00:00:00",
          "2021-01-08T00:00:00",
          "2021-01-09T00:00:00",
          "2021-01-10T00:00:00",
          "2021-01-11T00:00:00",
          "2021-01-12T00:00:00",
          "2021-01-13T00:00:00",
          "2021-01-14T00:00:00",
          "2021-01-15T00:00:00",
          "2021-01-16T00:00:00",
          "2021-01-17T00:00:00",
          "2021-01-18T00:00:00",
          "2021-01-19T00:00:00",
          "2021-01-20T00:00:00",
          "2021-01-21T00:00:00",
          "2021-01-22T00:00:00",
          "2021-01-23T00:00:00",
          "2021-01-24T00:00:00",
          "2021-01-25T00:00:00",
          "2021-01-26T00:00:00",
          "2021-01-27T00:00:00",
          "2021-01-28T00:00:00",
          "2021-01-29T00:00:00",
          "2021-01-30T00:00:00",
          "2021-01-31T00:00:00",
          "2021-02-01T00:00:00",
          "2021-02-02T00:00:00",
          "2021-02-03T00:00:00",
          "2021-02-04T00:00:00",
          "2021-02-05T00:00:00",
          "2021-02-06T00:00:00",
          "2021-02-07T00:00:00",
          "2021-02-08T00:00:00",
          "2021-02-09T00:00:00",
          "2021-02-10T00:00:00",
          "2021-02-11T00:00:00",
          "2021-02-12T00:00:00",
          "2021-02-13T00:00:00",
          "2021-02-14T00:00:00",
          "2021-02-15T00:00:00",
          "2021-02-16T00:00:00",
          "2021-02-17T00:00:00",
          "2021-02-18T00:00:00",
          "2021-02-19T00:00:00",
          "2021-02-20T00:00:00",
          "2021-02-21T00:00:00",
          "2021-02-22T00:00:00",
          "2021-02-23T00:00:00",
          "2021-02-24T00:00:00",
          "2021-02-25T00:00:00",
          "2021-02-26T00:00:00",
          "2021-02-27T00:00:00",
          "2021-02-28T00:00:00",
          "2021-03-01T00:00:00"
         ],
         "xaxis": "x5",
         "y": [
          0,
          9473.095950315894,
          20753.073155724058,
          5585.700606738041,
          -1946.253043996663,
          -721.4271798971577,
          5003.645215745274,
          10979.107538592247,
          -5762.018317728328,
          13001.241368449533,
          15578.87646208419,
          4578.6169017671255,
          -1606.3591275106414,
          -664.8602942895086,
          -4301.051522439473,
          0,
          0,
          0,
          0,
          0,
          0,
          0,
          0,
          0,
          0,
          0,
          0,
          0,
          9145.20925342303,
          10515.969537062687,
          -6874.740558921564,
          3238.6030792732518,
          6592.0483347163035,
          0,
          0,
          9473.095950315894,
          11279.977205408166,
          -5694.276598670125,
          3748.023554673462,
          -4469.45073457062,
          0,
          0,
          0,
          0,
          0,
          0,
          0,
          0,
          9473.095950315894,
          11279.977205408166,
          -5694.276598670125,
          13221.119504989356,
          16059.66340449519,
          5035.721757800141,
          -2419.6196801990823,
          -1011.2912319217085,
          -4845.8124165077115,
          0,
          9473.095950315894,
          20753.073155724058,
          5585.700606738041,
          -1946.253043996663,
          -721.4271798971577,
          -4469.45073457062,
          0,
          0,
          0,
          0,
          0,
          0,
          0,
          0,
          0,
          0,
          0,
          0,
          0,
          0,
          0,
          0,
          0,
          0,
          0,
          9473.095950315894,
          11279.977205408166,
          -5694.276598670125,
          3748.023554673462,
          -4469.45073457062,
          0,
          0,
          0,
          9473.095950315894,
          10630.152671005975,
          -6586.573836036254,
          3238.058342747735,
          -5554.379959321396,
          -537.9732334437323,
          0,
          0,
          0,
          9473.095950315894,
          11279.977205408166,
          3778.8193516457686,
          15028.000760081628,
          -10163.727333240746,
          3748.023554673462,
          -4469.45073457062,
          0,
          0,
          0,
          0,
          0,
          0,
          0,
          0,
          0,
          0,
          0,
          0,
          0,
          0,
          0,
          9473.095950315894,
          11279.977205408166,
          -5694.276598670125,
          3748.023554673462,
          -4469.45073457062,
          0,
          0,
          0,
          0,
          0,
          0,
          0,
          8823.271415913703,
          10387.679968042037,
          -6204.241810595852,
          2663.0943299226856,
          -5007.423968014352,
          0,
          0,
          0,
          0,
          0,
          0,
          0,
          0,
          0,
          9473.095950315894,
          11279.977205408166,
          3778.8193516457686,
          15028.000760081628,
          -10163.727333240746,
          3748.023554673462,
          -4469.45073457062,
          9473.095950315894,
          11279.977205408166,
          -6022.163295562988,
          12457.111836643877,
          5630.062510586106,
          -6203.6970740703355,
          14809.522623960385,
          -4469.45073457062,
          0,
          0,
          0,
          0,
          0,
          0,
          0,
          0,
          0,
          0,
          0,
          0,
          0,
          0,
          0,
          0,
          0,
          0,
          9473.095950315894,
          20753.073155724058,
          5585.700606738041,
          -1946.253043996663,
          -721.4271798971577,
          -4469.45073457062,
          0,
          0,
          0,
          0,
          0,
          9473.095950315894,
          11279.977205408166,
          -5694.276598670125,
          3748.023554673462,
          -4469.45073457062,
          0,
          0,
          0,
          0,
          0,
          0,
          0,
          0,
          0,
          0,
          0,
          0,
          9473.095950315894,
          11279.977205408166,
          -5694.276598670125,
          13221.119504989356,
          16283.622421153439,
          5585.700606738041,
          -1946.253043996663,
          -721.4271798971577,
          -4469.45073457062,
          0,
          0,
          0,
          0,
          9298.004707040036,
          11151.743674968739,
          -6193.530174678602,
          13031.676073205655,
          8653.465129425946,
          -5694.276598670125,
          3748.023554673462,
          -4469.45073457062,
          0,
          0,
          0,
          0,
          0,
          0,
          0,
          -91.50673227716734,
          -260.4740708209458,
          -89.25171063204111,
          -54.30385520966567,
          9164.608390358586,
          11279.977205408166,
          -5694.276598670125,
          3748.023554673462,
          -4469.45073457062,
          0,
          0,
          0,
          0,
          0,
          0,
          0,
          0,
          0,
          0,
          0,
          0,
          0,
          0,
          0,
          0,
          0,
          0,
          0,
          0,
          9231.344355502644,
          22926.593800557384,
          6358.798995335059,
          6959.042116687355,
          10421.907799767174,
          -690.6313829248511,
          15028.000760081628,
          -597.9115530157524,
          24397.53445888965,
          924.5282120543143,
          7298.178187268377,
          10267.085617260924,
          -10163.727333240746,
          3748.023554673462,
          -4469.45073457062,
          0,
          0,
          0,
          0,
          0,
          0,
          0,
          0,
          0,
          9473.095950315894,
          11279.977205408166,
          -5694.276598670125,
          3748.023554673462,
          -4469.45073457062,
          0,
          0,
          0,
          9473.095950315894,
          11279.977205408166,
          -5694.276598670125,
          3748.023554673462,
          -4469.45073457062,
          0,
          0,
          0,
          0,
          0,
          0,
          0,
          0,
          0,
          0,
          0,
          0,
          -280.34953021435626,
          2.600946929122013,
          -87.25585330405903,
          9354.85683709646,
          11103.70484216625,
          -5694.276598670125,
          3748.023554673462,
          -4469.45073457062,
          0,
          0,
          0,
          0,
          0,
          0,
          0,
          0,
          0,
          0,
          0,
          0
         ],
         "yaxis": "y5"
        }
       ],
       "layout": {
        "height": 1750,
        "showlegend": true,
        "template": {
         "data": {
          "bar": [
           {
            "error_x": {
             "color": "#2a3f5f"
            },
            "error_y": {
             "color": "#2a3f5f"
            },
            "marker": {
             "line": {
              "color": "#E5ECF6",
              "width": 0.5
             }
            },
            "type": "bar"
           }
          ],
          "barpolar": [
           {
            "marker": {
             "line": {
              "color": "#E5ECF6",
              "width": 0.5
             }
            },
            "type": "barpolar"
           }
          ],
          "carpet": [
           {
            "aaxis": {
             "endlinecolor": "#2a3f5f",
             "gridcolor": "white",
             "linecolor": "white",
             "minorgridcolor": "white",
             "startlinecolor": "#2a3f5f"
            },
            "baxis": {
             "endlinecolor": "#2a3f5f",
             "gridcolor": "white",
             "linecolor": "white",
             "minorgridcolor": "white",
             "startlinecolor": "#2a3f5f"
            },
            "type": "carpet"
           }
          ],
          "choropleth": [
           {
            "colorbar": {
             "outlinewidth": 0,
             "ticks": ""
            },
            "type": "choropleth"
           }
          ],
          "contour": [
           {
            "colorbar": {
             "outlinewidth": 0,
             "ticks": ""
            },
            "colorscale": [
             [
              0,
              "#0d0887"
             ],
             [
              0.1111111111111111,
              "#46039f"
             ],
             [
              0.2222222222222222,
              "#7201a8"
             ],
             [
              0.3333333333333333,
              "#9c179e"
             ],
             [
              0.4444444444444444,
              "#bd3786"
             ],
             [
              0.5555555555555556,
              "#d8576b"
             ],
             [
              0.6666666666666666,
              "#ed7953"
             ],
             [
              0.7777777777777778,
              "#fb9f3a"
             ],
             [
              0.8888888888888888,
              "#fdca26"
             ],
             [
              1,
              "#f0f921"
             ]
            ],
            "type": "contour"
           }
          ],
          "contourcarpet": [
           {
            "colorbar": {
             "outlinewidth": 0,
             "ticks": ""
            },
            "type": "contourcarpet"
           }
          ],
          "heatmap": [
           {
            "colorbar": {
             "outlinewidth": 0,
             "ticks": ""
            },
            "colorscale": [
             [
              0,
              "#0d0887"
             ],
             [
              0.1111111111111111,
              "#46039f"
             ],
             [
              0.2222222222222222,
              "#7201a8"
             ],
             [
              0.3333333333333333,
              "#9c179e"
             ],
             [
              0.4444444444444444,
              "#bd3786"
             ],
             [
              0.5555555555555556,
              "#d8576b"
             ],
             [
              0.6666666666666666,
              "#ed7953"
             ],
             [
              0.7777777777777778,
              "#fb9f3a"
             ],
             [
              0.8888888888888888,
              "#fdca26"
             ],
             [
              1,
              "#f0f921"
             ]
            ],
            "type": "heatmap"
           }
          ],
          "heatmapgl": [
           {
            "colorbar": {
             "outlinewidth": 0,
             "ticks": ""
            },
            "colorscale": [
             [
              0,
              "#0d0887"
             ],
             [
              0.1111111111111111,
              "#46039f"
             ],
             [
              0.2222222222222222,
              "#7201a8"
             ],
             [
              0.3333333333333333,
              "#9c179e"
             ],
             [
              0.4444444444444444,
              "#bd3786"
             ],
             [
              0.5555555555555556,
              "#d8576b"
             ],
             [
              0.6666666666666666,
              "#ed7953"
             ],
             [
              0.7777777777777778,
              "#fb9f3a"
             ],
             [
              0.8888888888888888,
              "#fdca26"
             ],
             [
              1,
              "#f0f921"
             ]
            ],
            "type": "heatmapgl"
           }
          ],
          "histogram": [
           {
            "marker": {
             "colorbar": {
              "outlinewidth": 0,
              "ticks": ""
             }
            },
            "type": "histogram"
           }
          ],
          "histogram2d": [
           {
            "colorbar": {
             "outlinewidth": 0,
             "ticks": ""
            },
            "colorscale": [
             [
              0,
              "#0d0887"
             ],
             [
              0.1111111111111111,
              "#46039f"
             ],
             [
              0.2222222222222222,
              "#7201a8"
             ],
             [
              0.3333333333333333,
              "#9c179e"
             ],
             [
              0.4444444444444444,
              "#bd3786"
             ],
             [
              0.5555555555555556,
              "#d8576b"
             ],
             [
              0.6666666666666666,
              "#ed7953"
             ],
             [
              0.7777777777777778,
              "#fb9f3a"
             ],
             [
              0.8888888888888888,
              "#fdca26"
             ],
             [
              1,
              "#f0f921"
             ]
            ],
            "type": "histogram2d"
           }
          ],
          "histogram2dcontour": [
           {
            "colorbar": {
             "outlinewidth": 0,
             "ticks": ""
            },
            "colorscale": [
             [
              0,
              "#0d0887"
             ],
             [
              0.1111111111111111,
              "#46039f"
             ],
             [
              0.2222222222222222,
              "#7201a8"
             ],
             [
              0.3333333333333333,
              "#9c179e"
             ],
             [
              0.4444444444444444,
              "#bd3786"
             ],
             [
              0.5555555555555556,
              "#d8576b"
             ],
             [
              0.6666666666666666,
              "#ed7953"
             ],
             [
              0.7777777777777778,
              "#fb9f3a"
             ],
             [
              0.8888888888888888,
              "#fdca26"
             ],
             [
              1,
              "#f0f921"
             ]
            ],
            "type": "histogram2dcontour"
           }
          ],
          "mesh3d": [
           {
            "colorbar": {
             "outlinewidth": 0,
             "ticks": ""
            },
            "type": "mesh3d"
           }
          ],
          "parcoords": [
           {
            "line": {
             "colorbar": {
              "outlinewidth": 0,
              "ticks": ""
             }
            },
            "type": "parcoords"
           }
          ],
          "pie": [
           {
            "automargin": true,
            "type": "pie"
           }
          ],
          "scatter": [
           {
            "marker": {
             "colorbar": {
              "outlinewidth": 0,
              "ticks": ""
             }
            },
            "type": "scatter"
           }
          ],
          "scatter3d": [
           {
            "line": {
             "colorbar": {
              "outlinewidth": 0,
              "ticks": ""
             }
            },
            "marker": {
             "colorbar": {
              "outlinewidth": 0,
              "ticks": ""
             }
            },
            "type": "scatter3d"
           }
          ],
          "scattercarpet": [
           {
            "marker": {
             "colorbar": {
              "outlinewidth": 0,
              "ticks": ""
             }
            },
            "type": "scattercarpet"
           }
          ],
          "scattergeo": [
           {
            "marker": {
             "colorbar": {
              "outlinewidth": 0,
              "ticks": ""
             }
            },
            "type": "scattergeo"
           }
          ],
          "scattergl": [
           {
            "marker": {
             "colorbar": {
              "outlinewidth": 0,
              "ticks": ""
             }
            },
            "type": "scattergl"
           }
          ],
          "scattermapbox": [
           {
            "marker": {
             "colorbar": {
              "outlinewidth": 0,
              "ticks": ""
             }
            },
            "type": "scattermapbox"
           }
          ],
          "scatterpolar": [
           {
            "marker": {
             "colorbar": {
              "outlinewidth": 0,
              "ticks": ""
             }
            },
            "type": "scatterpolar"
           }
          ],
          "scatterpolargl": [
           {
            "marker": {
             "colorbar": {
              "outlinewidth": 0,
              "ticks": ""
             }
            },
            "type": "scatterpolargl"
           }
          ],
          "scatterternary": [
           {
            "marker": {
             "colorbar": {
              "outlinewidth": 0,
              "ticks": ""
             }
            },
            "type": "scatterternary"
           }
          ],
          "surface": [
           {
            "colorbar": {
             "outlinewidth": 0,
             "ticks": ""
            },
            "colorscale": [
             [
              0,
              "#0d0887"
             ],
             [
              0.1111111111111111,
              "#46039f"
             ],
             [
              0.2222222222222222,
              "#7201a8"
             ],
             [
              0.3333333333333333,
              "#9c179e"
             ],
             [
              0.4444444444444444,
              "#bd3786"
             ],
             [
              0.5555555555555556,
              "#d8576b"
             ],
             [
              0.6666666666666666,
              "#ed7953"
             ],
             [
              0.7777777777777778,
              "#fb9f3a"
             ],
             [
              0.8888888888888888,
              "#fdca26"
             ],
             [
              1,
              "#f0f921"
             ]
            ],
            "type": "surface"
           }
          ],
          "table": [
           {
            "cells": {
             "fill": {
              "color": "#EBF0F8"
             },
             "line": {
              "color": "white"
             }
            },
            "header": {
             "fill": {
              "color": "#C8D4E3"
             },
             "line": {
              "color": "white"
             }
            },
            "type": "table"
           }
          ]
         },
         "layout": {
          "annotationdefaults": {
           "arrowcolor": "#2a3f5f",
           "arrowhead": 0,
           "arrowwidth": 1
          },
          "coloraxis": {
           "colorbar": {
            "outlinewidth": 0,
            "ticks": ""
           }
          },
          "colorscale": {
           "diverging": [
            [
             0,
             "#8e0152"
            ],
            [
             0.1,
             "#c51b7d"
            ],
            [
             0.2,
             "#de77ae"
            ],
            [
             0.3,
             "#f1b6da"
            ],
            [
             0.4,
             "#fde0ef"
            ],
            [
             0.5,
             "#f7f7f7"
            ],
            [
             0.6,
             "#e6f5d0"
            ],
            [
             0.7,
             "#b8e186"
            ],
            [
             0.8,
             "#7fbc41"
            ],
            [
             0.9,
             "#4d9221"
            ],
            [
             1,
             "#276419"
            ]
           ],
           "sequential": [
            [
             0,
             "#0d0887"
            ],
            [
             0.1111111111111111,
             "#46039f"
            ],
            [
             0.2222222222222222,
             "#7201a8"
            ],
            [
             0.3333333333333333,
             "#9c179e"
            ],
            [
             0.4444444444444444,
             "#bd3786"
            ],
            [
             0.5555555555555556,
             "#d8576b"
            ],
            [
             0.6666666666666666,
             "#ed7953"
            ],
            [
             0.7777777777777778,
             "#fb9f3a"
            ],
            [
             0.8888888888888888,
             "#fdca26"
            ],
            [
             1,
             "#f0f921"
            ]
           ],
           "sequentialminus": [
            [
             0,
             "#0d0887"
            ],
            [
             0.1111111111111111,
             "#46039f"
            ],
            [
             0.2222222222222222,
             "#7201a8"
            ],
            [
             0.3333333333333333,
             "#9c179e"
            ],
            [
             0.4444444444444444,
             "#bd3786"
            ],
            [
             0.5555555555555556,
             "#d8576b"
            ],
            [
             0.6666666666666666,
             "#ed7953"
            ],
            [
             0.7777777777777778,
             "#fb9f3a"
            ],
            [
             0.8888888888888888,
             "#fdca26"
            ],
            [
             1,
             "#f0f921"
            ]
           ]
          },
          "colorway": [
           "#636efa",
           "#EF553B",
           "#00cc96",
           "#ab63fa",
           "#FFA15A",
           "#19d3f3",
           "#FF6692",
           "#B6E880",
           "#FF97FF",
           "#FECB52"
          ],
          "font": {
           "color": "#2a3f5f"
          },
          "geo": {
           "bgcolor": "white",
           "lakecolor": "white",
           "landcolor": "#E5ECF6",
           "showlakes": true,
           "showland": true,
           "subunitcolor": "white"
          },
          "hoverlabel": {
           "align": "left"
          },
          "hovermode": "closest",
          "mapbox": {
           "style": "light"
          },
          "paper_bgcolor": "white",
          "plot_bgcolor": "#E5ECF6",
          "polar": {
           "angularaxis": {
            "gridcolor": "white",
            "linecolor": "white",
            "ticks": ""
           },
           "bgcolor": "#E5ECF6",
           "radialaxis": {
            "gridcolor": "white",
            "linecolor": "white",
            "ticks": ""
           }
          },
          "scene": {
           "xaxis": {
            "backgroundcolor": "#E5ECF6",
            "gridcolor": "white",
            "gridwidth": 2,
            "linecolor": "white",
            "showbackground": true,
            "ticks": "",
            "zerolinecolor": "white"
           },
           "yaxis": {
            "backgroundcolor": "#E5ECF6",
            "gridcolor": "white",
            "gridwidth": 2,
            "linecolor": "white",
            "showbackground": true,
            "ticks": "",
            "zerolinecolor": "white"
           },
           "zaxis": {
            "backgroundcolor": "#E5ECF6",
            "gridcolor": "white",
            "gridwidth": 2,
            "linecolor": "white",
            "showbackground": true,
            "ticks": "",
            "zerolinecolor": "white"
           }
          },
          "shapedefaults": {
           "line": {
            "color": "#2a3f5f"
           }
          },
          "ternary": {
           "aaxis": {
            "gridcolor": "white",
            "linecolor": "white",
            "ticks": ""
           },
           "baxis": {
            "gridcolor": "white",
            "linecolor": "white",
            "ticks": ""
           },
           "bgcolor": "#E5ECF6",
           "caxis": {
            "gridcolor": "white",
            "linecolor": "white",
            "ticks": ""
           }
          },
          "title": {
           "x": 0.05
          },
          "xaxis": {
           "automargin": true,
           "gridcolor": "white",
           "linecolor": "white",
           "ticks": "",
           "title": {
            "standoff": 15
           },
           "zerolinecolor": "white",
           "zerolinewidth": 2
          },
          "yaxis": {
           "automargin": true,
           "gridcolor": "white",
           "linecolor": "white",
           "ticks": "",
           "title": {
            "standoff": 15
           },
           "zerolinecolor": "white",
           "zerolinewidth": 2
          }
         }
        },
        "title": {
         "text": "Component plots"
        },
        "xaxis": {
         "anchor": "y",
         "domain": [
          0,
          1
         ],
         "mirror": true,
         "showline": true,
         "title": {
          "text": "ts"
         }
        },
        "xaxis2": {
         "anchor": "y2",
         "domain": [
          0,
          1
         ],
         "mirror": true,
         "showline": true,
         "title": {
          "text": "ts"
         }
        },
        "xaxis3": {
         "anchor": "y3",
         "domain": [
          0,
          1
         ],
         "mirror": true,
         "showline": true,
         "title": {
          "text": "Day of week"
         }
        },
        "xaxis4": {
         "anchor": "y4",
         "domain": [
          0,
          1
         ],
         "mirror": true,
         "showline": true,
         "title": {
          "text": "Time of quarter"
         }
        },
        "xaxis5": {
         "anchor": "y5",
         "domain": [
          0,
          1
         ],
         "mirror": true,
         "showline": true,
         "title": {
          "text": "ts"
         }
        },
        "yaxis": {
         "anchor": "x",
         "domain": [
          0.8559999999999999,
          0.9999999999999999
         ],
         "mirror": true,
         "showline": true,
         "title": {
          "text": "y"
         }
        },
        "yaxis2": {
         "anchor": "x2",
         "domain": [
          0.6419999999999999,
          0.7859999999999999
         ],
         "mirror": true,
         "showline": true,
         "title": {
          "text": "trend"
         }
        },
        "yaxis3": {
         "anchor": "x3",
         "domain": [
          0.42799999999999994,
          0.572
         ],
         "mirror": true,
         "showline": true,
         "title": {
          "text": "weekly"
         }
        },
        "yaxis4": {
         "anchor": "x4",
         "domain": [
          0.21399999999999997,
          0.358
         ],
         "mirror": true,
         "showline": true,
         "title": {
          "text": "quarterly"
         }
        },
        "yaxis5": {
         "anchor": "x5",
         "domain": [
          0,
          0.144
         ],
         "mirror": true,
         "showline": true,
         "title": {
          "text": "events"
         }
        }
       }
      },
      "text/html": [
       "<div>                            <div id=\"df7b5635-be92-4517-bc38-e02a8f1fa845\" class=\"plotly-graph-div\" style=\"height:1750px; width:100%;\"></div>            <script type=\"text/javascript\">                require([\"plotly\"], function(Plotly) {                    window.PLOTLYENV=window.PLOTLYENV || {};                                    if (document.getElementById(\"df7b5635-be92-4517-bc38-e02a8f1fa845\")) {                    Plotly.newPlot(                        \"df7b5635-be92-4517-bc38-e02a8f1fa845\",                        [{\"mode\": \"lines\", \"name\": \"y\", \"opacity\": 0.8, \"showlegend\": false, \"type\": \"scatter\", \"x\": [\"2020-04-01T00:00:00\", \"2020-04-02T00:00:00\", \"2020-04-03T00:00:00\", \"2020-04-04T00:00:00\", \"2020-04-05T00:00:00\", \"2020-04-06T00:00:00\", \"2020-04-07T00:00:00\", \"2020-04-08T00:00:00\", \"2020-04-09T00:00:00\", \"2020-04-10T00:00:00\", \"2020-04-11T00:00:00\", \"2020-04-12T00:00:00\", \"2020-04-13T00:00:00\", \"2020-04-14T00:00:00\", \"2020-04-15T00:00:00\", \"2020-04-16T00:00:00\", \"2020-04-17T00:00:00\", \"2020-04-18T00:00:00\", \"2020-04-19T00:00:00\", \"2020-04-20T00:00:00\", \"2020-04-21T00:00:00\", \"2020-04-22T00:00:00\", \"2020-04-23T00:00:00\", \"2020-04-24T00:00:00\", \"2020-04-25T00:00:00\", \"2020-04-26T00:00:00\", \"2020-04-27T00:00:00\", \"2020-04-28T00:00:00\", \"2020-04-29T00:00:00\", \"2020-04-30T00:00:00\", \"2020-05-01T00:00:00\", \"2020-05-02T00:00:00\", \"2020-05-03T00:00:00\", \"2020-05-04T00:00:00\", \"2020-05-05T00:00:00\", \"2020-05-06T00:00:00\", \"2020-05-07T00:00:00\", \"2020-05-08T00:00:00\", \"2020-05-09T00:00:00\", \"2020-05-10T00:00:00\", \"2020-05-11T00:00:00\", \"2020-05-12T00:00:00\", \"2020-05-13T00:00:00\", \"2020-05-14T00:00:00\", \"2020-05-15T00:00:00\", \"2020-05-16T00:00:00\", \"2020-05-17T00:00:00\", \"2020-05-18T00:00:00\", \"2020-05-19T00:00:00\", \"2020-05-20T00:00:00\", \"2020-05-21T00:00:00\", \"2020-05-22T00:00:00\", \"2020-05-23T00:00:00\", \"2020-05-24T00:00:00\", \"2020-05-25T00:00:00\", \"2020-05-26T00:00:00\", \"2020-05-27T00:00:00\", \"2020-05-28T00:00:00\", \"2020-05-29T00:00:00\", \"2020-05-30T00:00:00\", \"2020-05-31T00:00:00\", \"2020-06-01T00:00:00\", \"2020-06-02T00:00:00\", \"2020-06-03T00:00:00\", \"2020-06-04T00:00:00\", \"2020-06-05T00:00:00\", \"2020-06-06T00:00:00\", \"2020-06-07T00:00:00\", \"2020-06-08T00:00:00\", \"2020-06-09T00:00:00\", \"2020-06-10T00:00:00\", \"2020-06-11T00:00:00\", \"2020-06-12T00:00:00\", \"2020-06-13T00:00:00\", \"2020-06-14T00:00:00\", \"2020-06-15T00:00:00\", \"2020-06-16T00:00:00\", \"2020-06-17T00:00:00\", \"2020-06-18T00:00:00\", \"2020-06-19T00:00:00\", \"2020-06-20T00:00:00\", \"2020-06-21T00:00:00\", \"2020-06-22T00:00:00\", \"2020-06-23T00:00:00\", \"2020-06-24T00:00:00\", \"2020-06-25T00:00:00\", \"2020-06-26T00:00:00\", \"2020-06-27T00:00:00\", \"2020-06-28T00:00:00\", \"2020-06-29T00:00:00\", \"2020-06-30T00:00:00\", \"2020-07-01T00:00:00\", \"2020-07-02T00:00:00\", \"2020-07-03T00:00:00\", \"2020-07-04T00:00:00\", \"2020-07-05T00:00:00\", \"2020-07-06T00:00:00\", \"2020-07-07T00:00:00\", \"2020-07-08T00:00:00\", \"2020-07-09T00:00:00\", \"2020-07-10T00:00:00\", \"2020-07-11T00:00:00\", \"2020-07-12T00:00:00\", \"2020-07-13T00:00:00\", \"2020-07-14T00:00:00\", \"2020-07-15T00:00:00\", \"2020-07-16T00:00:00\", \"2020-07-17T00:00:00\", \"2020-07-18T00:00:00\", \"2020-07-19T00:00:00\", \"2020-07-20T00:00:00\", \"2020-07-21T00:00:00\", \"2020-07-22T00:00:00\", \"2020-07-23T00:00:00\", \"2020-07-24T00:00:00\", \"2020-07-25T00:00:00\", \"2020-07-26T00:00:00\", \"2020-07-27T00:00:00\", \"2020-07-28T00:00:00\", \"2020-07-29T00:00:00\", \"2020-07-30T00:00:00\", \"2020-07-31T00:00:00\", \"2020-08-01T00:00:00\", \"2020-08-02T00:00:00\", \"2020-08-03T00:00:00\", \"2020-08-04T00:00:00\", \"2020-08-05T00:00:00\", \"2020-08-06T00:00:00\", \"2020-08-07T00:00:00\", \"2020-08-08T00:00:00\", \"2020-08-09T00:00:00\", \"2020-08-10T00:00:00\", \"2020-08-11T00:00:00\", \"2020-08-12T00:00:00\", \"2020-08-13T00:00:00\", \"2020-08-14T00:00:00\", \"2020-08-15T00:00:00\", \"2020-08-16T00:00:00\", \"2020-08-17T00:00:00\", \"2020-08-18T00:00:00\", \"2020-08-19T00:00:00\", \"2020-08-20T00:00:00\", \"2020-08-21T00:00:00\", \"2020-08-22T00:00:00\", \"2020-08-23T00:00:00\", \"2020-08-24T00:00:00\", \"2020-08-25T00:00:00\", \"2020-08-26T00:00:00\", \"2020-08-27T00:00:00\", \"2020-08-28T00:00:00\", \"2020-08-29T00:00:00\", \"2020-08-30T00:00:00\", \"2020-08-31T00:00:00\", \"2020-09-01T00:00:00\", \"2020-09-02T00:00:00\", \"2020-09-03T00:00:00\", \"2020-09-04T00:00:00\", \"2020-09-05T00:00:00\", \"2020-09-06T00:00:00\", \"2020-09-07T00:00:00\", \"2020-09-08T00:00:00\", \"2020-09-09T00:00:00\", \"2020-09-10T00:00:00\", \"2020-09-11T00:00:00\", \"2020-09-12T00:00:00\", \"2020-09-13T00:00:00\", \"2020-09-14T00:00:00\", \"2020-09-15T00:00:00\", \"2020-09-16T00:00:00\", \"2020-09-17T00:00:00\", \"2020-09-18T00:00:00\", \"2020-09-19T00:00:00\", \"2020-09-20T00:00:00\", \"2020-09-21T00:00:00\", \"2020-09-22T00:00:00\", \"2020-09-23T00:00:00\", \"2020-09-24T00:00:00\", \"2020-09-25T00:00:00\", \"2020-09-26T00:00:00\", \"2020-09-27T00:00:00\", \"2020-09-28T00:00:00\", \"2020-09-29T00:00:00\", \"2020-09-30T00:00:00\", \"2020-10-01T00:00:00\", \"2020-10-02T00:00:00\", \"2020-10-03T00:00:00\", \"2020-10-04T00:00:00\", \"2020-10-05T00:00:00\", \"2020-10-06T00:00:00\", \"2020-10-07T00:00:00\", \"2020-10-08T00:00:00\", \"2020-10-09T00:00:00\", \"2020-10-10T00:00:00\", \"2020-10-11T00:00:00\", \"2020-10-12T00:00:00\", \"2020-10-13T00:00:00\", \"2020-10-14T00:00:00\", \"2020-10-15T00:00:00\", \"2020-10-16T00:00:00\", \"2020-10-17T00:00:00\", \"2020-10-18T00:00:00\", \"2020-10-19T00:00:00\", \"2020-10-20T00:00:00\", \"2020-10-21T00:00:00\", \"2020-10-22T00:00:00\", \"2020-10-23T00:00:00\", \"2020-10-24T00:00:00\", \"2020-10-25T00:00:00\", \"2020-10-26T00:00:00\", \"2020-10-27T00:00:00\", \"2020-10-28T00:00:00\", \"2020-10-29T00:00:00\", \"2020-10-30T00:00:00\", \"2020-10-31T00:00:00\", \"2020-11-01T00:00:00\", \"2020-11-02T00:00:00\", \"2020-11-03T00:00:00\", \"2020-11-04T00:00:00\", \"2020-11-05T00:00:00\", \"2020-11-06T00:00:00\", \"2020-11-07T00:00:00\", \"2020-11-08T00:00:00\", \"2020-11-09T00:00:00\", \"2020-11-10T00:00:00\", \"2020-11-11T00:00:00\", \"2020-11-12T00:00:00\", \"2020-11-13T00:00:00\", \"2020-11-14T00:00:00\", \"2020-11-15T00:00:00\", \"2020-11-16T00:00:00\", \"2020-11-17T00:00:00\", \"2020-11-18T00:00:00\", \"2020-11-19T00:00:00\", \"2020-11-20T00:00:00\", \"2020-11-21T00:00:00\", \"2020-11-22T00:00:00\", \"2020-11-23T00:00:00\", \"2020-11-24T00:00:00\", \"2020-11-25T00:00:00\", \"2020-11-26T00:00:00\", \"2020-11-27T00:00:00\", \"2020-11-28T00:00:00\", \"2020-11-29T00:00:00\", \"2020-11-30T00:00:00\", \"2020-12-01T00:00:00\", \"2020-12-02T00:00:00\", \"2020-12-03T00:00:00\", \"2020-12-04T00:00:00\", \"2020-12-05T00:00:00\", \"2020-12-06T00:00:00\", \"2020-12-07T00:00:00\", \"2020-12-08T00:00:00\", \"2020-12-09T00:00:00\", \"2020-12-10T00:00:00\", \"2020-12-11T00:00:00\", \"2020-12-12T00:00:00\", \"2020-12-13T00:00:00\", \"2020-12-14T00:00:00\", \"2020-12-15T00:00:00\", \"2020-12-16T00:00:00\", \"2020-12-17T00:00:00\", \"2020-12-18T00:00:00\", \"2020-12-19T00:00:00\", \"2020-12-20T00:00:00\", \"2020-12-21T00:00:00\", \"2020-12-22T00:00:00\", \"2020-12-23T00:00:00\", \"2020-12-24T00:00:00\", \"2020-12-25T00:00:00\", \"2020-12-26T00:00:00\", \"2020-12-27T00:00:00\", \"2020-12-28T00:00:00\", \"2020-12-29T00:00:00\", \"2020-12-30T00:00:00\", \"2020-12-31T00:00:00\", \"2021-01-01T00:00:00\", \"2021-01-02T00:00:00\", \"2021-01-03T00:00:00\", \"2021-01-04T00:00:00\", \"2021-01-05T00:00:00\", \"2021-01-06T00:00:00\", \"2021-01-07T00:00:00\", \"2021-01-08T00:00:00\", \"2021-01-09T00:00:00\", \"2021-01-10T00:00:00\", \"2021-01-11T00:00:00\", \"2021-01-12T00:00:00\", \"2021-01-13T00:00:00\", \"2021-01-14T00:00:00\", \"2021-01-15T00:00:00\", \"2021-01-16T00:00:00\", \"2021-01-17T00:00:00\", \"2021-01-18T00:00:00\", \"2021-01-19T00:00:00\", \"2021-01-20T00:00:00\", \"2021-01-21T00:00:00\", \"2021-01-22T00:00:00\", \"2021-01-23T00:00:00\", \"2021-01-24T00:00:00\", \"2021-01-25T00:00:00\", \"2021-01-26T00:00:00\", \"2021-01-27T00:00:00\", \"2021-01-28T00:00:00\", \"2021-01-29T00:00:00\", \"2021-01-30T00:00:00\", \"2021-01-31T00:00:00\", \"2021-02-01T00:00:00\", \"2021-02-02T00:00:00\", \"2021-02-03T00:00:00\", \"2021-02-04T00:00:00\", \"2021-02-05T00:00:00\", \"2021-02-06T00:00:00\", \"2021-02-07T00:00:00\", \"2021-02-08T00:00:00\", \"2021-02-09T00:00:00\", \"2021-02-10T00:00:00\", \"2021-02-11T00:00:00\", \"2021-02-12T00:00:00\", \"2021-02-13T00:00:00\", \"2021-02-14T00:00:00\", \"2021-02-15T00:00:00\", \"2021-02-16T00:00:00\", \"2021-02-17T00:00:00\", \"2021-02-18T00:00:00\", \"2021-02-19T00:00:00\", \"2021-02-20T00:00:00\", \"2021-02-21T00:00:00\", \"2021-02-22T00:00:00\", \"2021-02-23T00:00:00\", \"2021-02-24T00:00:00\", \"2021-02-25T00:00:00\", \"2021-02-26T00:00:00\", \"2021-02-27T00:00:00\", \"2021-02-28T00:00:00\", \"2021-03-01T00:00:00\"], \"xaxis\": \"x\", \"y\": [961150.0, 753357.1428571428, 681724.2068965518, 696218.8045977012, 710713.4022988506, 725208.0, 630053.7368421053, 676583.3333333334, 773225.2692307692, 666255.6428571428, 495627.8214285714, 325000.0, 1192963.4347826086, 883883.5, 1115649.0666666667, 703075.8947368421, 593240.8, 605677.12, 618113.4400000001, 630549.76, 788538.3684210526, 534571.5, 706054.68, 766311.7619047619, 670000.0, 671111.6285714286, 672223.2571428572, 589203.6666666666, 717248.3928571428, 645056.5660377359, 761566.3846153846, 755376.4539411206, 749186.5232668566, 742996.5925925926, 928117.8571428572, 722244.3181818182, 802193.448275862, 737056.8913043478, 828109.6334185848, 919162.3755328218, 1010215.1176470588, 559954.9, 594030.4, 786627.5, 2423803.590909091, 400000.0, 490058.31666666665, 580116.6333333333, 649406.4285714285, 571375.7666666667, 1257801.9523809524, 1018404.1714285715, 671702.0857142857, 325000.0, 448857.3043478261, 572714.6086956522, 601808.6341463415, 818277.015625, 685398.4583333334, 512699.2291666667, 340000.0, 558506.7741935484, 694160.2666666667, 1809577.5, 759085.9375, 663100.880952381, 636886.7873015873, 610672.6936507936, 584458.6, 1286910.6304347827, 674959.5454545454, 6283043.34375, 821677.42, 484787.0, 659201.3958333333, 833615.7916666666, 796530.75, 626165.4705882353, 562851.2580645161, 680855.3958333334, 665480.628968254, 650105.8621031747, 634731.0952380953, 2134153.5555555555, 1374770.888888889, 705734.1449275363, 732110.9016393443, 1530801.5742111758, 2329492.2467830074, 3128182.919354839, 771592.4027777778, 786353.2962962963, 635133.3111111111, 365000.0, 446705.42424242425, 528410.8484848485, 610116.2727272727, 855789.3243243244, 942172.3255813953, 1002349.9333333333, 1207195.462962963, 265000.0, 393223.8125, 521447.625, 1019686.8163265307, 734260.9615384615, 782620.7435897436, 675106.5769230769, 356000.0, 490834.2659574468, 625668.5319148937, 631018.0769230769, 623849.725490196, 1151866.625, 608356.5416666666, 594402.0912698413, 580447.6408730159, 566493.1904761905, 716382.7727272727, 1063304.0487804879, 657447.7843137255, 606157.1694915254, 336500.0, 718325.3875, 1100150.775, 703381.2105263158, 698784.5666666667, 597978.6666666666, 662752.4583333334, 687677.1507936508, 712601.8432539683, 737526.5357142857, 759952.6315789474, 664542.6666666666, 587161.7608695652, 640727.659574468, 804097.0, 120000.0, 681732.3103448276, 580265.8837209302, 1042224.8666666667, 822008.9818181818, 783539.5217391305, 306146.0, 471271.25, 684929.4545454546, 640625.1081081082, 1140819.3703703703, 631340.0, 3335524.5070422534, 303280.0, 991498.922077922, 1679717.844155844, 633616.3225806452, 690991.1, 681047.9714285714, 1435634.0, 850000.0, 428000.0, 6000.0, 583332.512195122, 11782759.705882354, 1010899.8372093023, 1133387.7567567567, 2590496.4548591143, 4047605.152961472, 5504713.85106383, 690470.3278688524, 872583.051724138, 615537.4716981133, 643329.4761904762, 430164.7380952381, 217000.0, 674469.5263157894, 1033372.1272727273, 802347.9649122807, 758760.3768115942, 715879.4533333334, 708316.7365656566, 700754.0197979797, 693191.303030303, 862207.5540540541, 14690100.05, 923863.4225352113, 712918.0363636364, 401459.0181818182, 90000.0, 683918.8484848485, 731857.1111111111, 631391.24, 587772.3191489362, 620802.2205882353, 519675.64705882355, 418549.0735294118, 317422.5, 712517.5714285715, 730325.5769230769, 830288.86, 639017.6101694915, 3000.0, 289445.51666666666, 575891.0333333333, 699273.3928571428, 693789.1833333333, 753131.0754716981, 747951.3, 285000.0, 5000.0, 652001.9298245613, 709614.3606557377, 831534.3918918918, 729093.1382978724, 1050691.7684210527, 410000.0, 399000.0, 694042.5588235294, 704709.475, 758629.3103448276, 640258.0714285715, 705806.2380952381, 562903.119047619, 420000.0, 740381.828125, 744469.9344262296, 500318.1818181818, 704503.1891891892, 2660488.6923076925, 1998253.4736596737, 1336018.2550116552, 673783.0363636364, 763621.4736842106, 1125740.4705882352, 697605.71875, 680614.3333333334, 666767.6240487063, 652920.9147640791, 639074.205479452, 779583.9784946237, 741491.7611940298, 787225.2555970149, 832958.75, 539811.375, 246664.0, 687234.4642857143, 710952.6323529412, 675483.515625, 781023.96875, 679605.7702702703, 519802.88513513515, 360000.0, 757934.828125, 676002.6111111111, 612785.8153846153, 673998.8533333334, 639837.875, 1000000.0, 395801.5, 1057572.6712328766, 787623.5, 815271.8, 1206976.66, 1029722.0260869565, 1399895.6737486927, 1770069.3214104287, 2140242.969072165, 3079420.9344262294, 818685.9696969697, 3036481.242424242, 1713634.121212121, 390787.0, 792379.5416666666, 1193972.0833333333, 745306.5108695652, 1182410.3086419753, 904587.4307692308, 807301.0644562335, 710014.6981432361, 612728.3318302387, 515441.9655172414, 937195.8113207547, 629678.7924528302, 870835.4074074074, 673749.8793103448, 200000.0, 419108.5378787879, 638217.0757575758, 941716.2987012987, 629515.2909090909, 617809.5576923077, 2060531.569620253, 980000.0, 75000.0, 665439.8, 734202.775862069, 728799.0289855072, 733167.7333333333, 798184.8815789474, 634500.0, 649681.0357142857, 664862.0714285715, 700602.1551724138, 808769.0724637681, 716158.5384615385, 965531.6880733945, 4098400.0, 1100000.0, 1030374.6666666666, 678594.1666666666, 673120.3773584906, 646879.6060606061, 679965.2934782609, 461500.0, 598306.8083333333, 735113.6166666667, 709083.7464788732, 721104.9714285714, 876941.2133333334, 809655.5571428571, 734948.1492063492, 660240.7412698413, 585533.3333333334, 620100.220338983, 672292.9245283019, 767958.2676056338, 934185.5, 660092.75, 386000.0, 1820586.35, 776674.421875, 714328.8309859155, 787634.8292682926, 707944.7699115045, 695201.2051935282, 682457.6404755521, 669714.0757575758], \"yaxis\": \"y\"}, {\"mode\": \"lines\", \"name\": \"trend\", \"opacity\": 0.8, \"showlegend\": false, \"type\": \"scatter\", \"x\": [\"2020-04-01T00:00:00\", \"2020-04-02T00:00:00\", \"2020-04-03T00:00:00\", \"2020-04-04T00:00:00\", \"2020-04-05T00:00:00\", \"2020-04-06T00:00:00\", \"2020-04-07T00:00:00\", \"2020-04-08T00:00:00\", \"2020-04-09T00:00:00\", \"2020-04-10T00:00:00\", \"2020-04-11T00:00:00\", \"2020-04-12T00:00:00\", \"2020-04-13T00:00:00\", \"2020-04-14T00:00:00\", \"2020-04-15T00:00:00\", \"2020-04-16T00:00:00\", \"2020-04-17T00:00:00\", \"2020-04-18T00:00:00\", \"2020-04-19T00:00:00\", \"2020-04-20T00:00:00\", \"2020-04-21T00:00:00\", \"2020-04-22T00:00:00\", \"2020-04-23T00:00:00\", \"2020-04-24T00:00:00\", \"2020-04-25T00:00:00\", \"2020-04-26T00:00:00\", \"2020-04-27T00:00:00\", \"2020-04-28T00:00:00\", \"2020-04-29T00:00:00\", \"2020-04-30T00:00:00\", \"2020-05-01T00:00:00\", \"2020-05-02T00:00:00\", \"2020-05-03T00:00:00\", \"2020-05-04T00:00:00\", \"2020-05-05T00:00:00\", \"2020-05-06T00:00:00\", \"2020-05-07T00:00:00\", \"2020-05-08T00:00:00\", \"2020-05-09T00:00:00\", \"2020-05-10T00:00:00\", \"2020-05-11T00:00:00\", \"2020-05-12T00:00:00\", \"2020-05-13T00:00:00\", \"2020-05-14T00:00:00\", \"2020-05-15T00:00:00\", \"2020-05-16T00:00:00\", \"2020-05-17T00:00:00\", \"2020-05-18T00:00:00\", \"2020-05-19T00:00:00\", \"2020-05-20T00:00:00\", \"2020-05-21T00:00:00\", \"2020-05-22T00:00:00\", \"2020-05-23T00:00:00\", \"2020-05-24T00:00:00\", \"2020-05-25T00:00:00\", \"2020-05-26T00:00:00\", \"2020-05-27T00:00:00\", \"2020-05-28T00:00:00\", \"2020-05-29T00:00:00\", \"2020-05-30T00:00:00\", \"2020-05-31T00:00:00\", \"2020-06-01T00:00:00\", \"2020-06-02T00:00:00\", \"2020-06-03T00:00:00\", \"2020-06-04T00:00:00\", \"2020-06-05T00:00:00\", \"2020-06-06T00:00:00\", \"2020-06-07T00:00:00\", \"2020-06-08T00:00:00\", \"2020-06-09T00:00:00\", \"2020-06-10T00:00:00\", \"2020-06-11T00:00:00\", \"2020-06-12T00:00:00\", \"2020-06-13T00:00:00\", \"2020-06-14T00:00:00\", \"2020-06-15T00:00:00\", \"2020-06-16T00:00:00\", \"2020-06-17T00:00:00\", \"2020-06-18T00:00:00\", \"2020-06-19T00:00:00\", \"2020-06-20T00:00:00\", \"2020-06-21T00:00:00\", \"2020-06-22T00:00:00\", \"2020-06-23T00:00:00\", \"2020-06-24T00:00:00\", \"2020-06-25T00:00:00\", \"2020-06-26T00:00:00\", \"2020-06-27T00:00:00\", \"2020-06-28T00:00:00\", \"2020-06-29T00:00:00\", \"2020-06-30T00:00:00\", \"2020-07-01T00:00:00\", \"2020-07-02T00:00:00\", \"2020-07-03T00:00:00\", \"2020-07-04T00:00:00\", \"2020-07-05T00:00:00\", \"2020-07-06T00:00:00\", \"2020-07-07T00:00:00\", \"2020-07-08T00:00:00\", \"2020-07-09T00:00:00\", \"2020-07-10T00:00:00\", \"2020-07-11T00:00:00\", \"2020-07-12T00:00:00\", \"2020-07-13T00:00:00\", \"2020-07-14T00:00:00\", \"2020-07-15T00:00:00\", \"2020-07-16T00:00:00\", \"2020-07-17T00:00:00\", \"2020-07-18T00:00:00\", \"2020-07-19T00:00:00\", \"2020-07-20T00:00:00\", \"2020-07-21T00:00:00\", \"2020-07-22T00:00:00\", \"2020-07-23T00:00:00\", \"2020-07-24T00:00:00\", \"2020-07-25T00:00:00\", \"2020-07-26T00:00:00\", \"2020-07-27T00:00:00\", \"2020-07-28T00:00:00\", \"2020-07-29T00:00:00\", \"2020-07-30T00:00:00\", \"2020-07-31T00:00:00\", \"2020-08-01T00:00:00\", \"2020-08-02T00:00:00\", \"2020-08-03T00:00:00\", \"2020-08-04T00:00:00\", \"2020-08-05T00:00:00\", \"2020-08-06T00:00:00\", \"2020-08-07T00:00:00\", \"2020-08-08T00:00:00\", \"2020-08-09T00:00:00\", \"2020-08-10T00:00:00\", \"2020-08-11T00:00:00\", \"2020-08-12T00:00:00\", \"2020-08-13T00:00:00\", \"2020-08-14T00:00:00\", \"2020-08-15T00:00:00\", \"2020-08-16T00:00:00\", \"2020-08-17T00:00:00\", \"2020-08-18T00:00:00\", \"2020-08-19T00:00:00\", \"2020-08-20T00:00:00\", \"2020-08-21T00:00:00\", \"2020-08-22T00:00:00\", \"2020-08-23T00:00:00\", \"2020-08-24T00:00:00\", \"2020-08-25T00:00:00\", \"2020-08-26T00:00:00\", \"2020-08-27T00:00:00\", \"2020-08-28T00:00:00\", \"2020-08-29T00:00:00\", \"2020-08-30T00:00:00\", \"2020-08-31T00:00:00\", \"2020-09-01T00:00:00\", \"2020-09-02T00:00:00\", \"2020-09-03T00:00:00\", \"2020-09-04T00:00:00\", \"2020-09-05T00:00:00\", \"2020-09-06T00:00:00\", \"2020-09-07T00:00:00\", \"2020-09-08T00:00:00\", \"2020-09-09T00:00:00\", \"2020-09-10T00:00:00\", \"2020-09-11T00:00:00\", \"2020-09-12T00:00:00\", \"2020-09-13T00:00:00\", \"2020-09-14T00:00:00\", \"2020-09-15T00:00:00\", \"2020-09-16T00:00:00\", \"2020-09-17T00:00:00\", \"2020-09-18T00:00:00\", \"2020-09-19T00:00:00\", \"2020-09-20T00:00:00\", \"2020-09-21T00:00:00\", \"2020-09-22T00:00:00\", \"2020-09-23T00:00:00\", \"2020-09-24T00:00:00\", \"2020-09-25T00:00:00\", \"2020-09-26T00:00:00\", \"2020-09-27T00:00:00\", \"2020-09-28T00:00:00\", \"2020-09-29T00:00:00\", \"2020-09-30T00:00:00\", \"2020-10-01T00:00:00\", \"2020-10-02T00:00:00\", \"2020-10-03T00:00:00\", \"2020-10-04T00:00:00\", \"2020-10-05T00:00:00\", \"2020-10-06T00:00:00\", \"2020-10-07T00:00:00\", \"2020-10-08T00:00:00\", \"2020-10-09T00:00:00\", \"2020-10-10T00:00:00\", \"2020-10-11T00:00:00\", \"2020-10-12T00:00:00\", \"2020-10-13T00:00:00\", \"2020-10-14T00:00:00\", \"2020-10-15T00:00:00\", \"2020-10-16T00:00:00\", \"2020-10-17T00:00:00\", \"2020-10-18T00:00:00\", \"2020-10-19T00:00:00\", \"2020-10-20T00:00:00\", \"2020-10-21T00:00:00\", \"2020-10-22T00:00:00\", \"2020-10-23T00:00:00\", \"2020-10-24T00:00:00\", \"2020-10-25T00:00:00\", \"2020-10-26T00:00:00\", \"2020-10-27T00:00:00\", \"2020-10-28T00:00:00\", \"2020-10-29T00:00:00\", \"2020-10-30T00:00:00\", \"2020-10-31T00:00:00\", \"2020-11-01T00:00:00\", \"2020-11-02T00:00:00\", \"2020-11-03T00:00:00\", \"2020-11-04T00:00:00\", \"2020-11-05T00:00:00\", \"2020-11-06T00:00:00\", \"2020-11-07T00:00:00\", \"2020-11-08T00:00:00\", \"2020-11-09T00:00:00\", \"2020-11-10T00:00:00\", \"2020-11-11T00:00:00\", \"2020-11-12T00:00:00\", \"2020-11-13T00:00:00\", \"2020-11-14T00:00:00\", \"2020-11-15T00:00:00\", \"2020-11-16T00:00:00\", \"2020-11-17T00:00:00\", \"2020-11-18T00:00:00\", \"2020-11-19T00:00:00\", \"2020-11-20T00:00:00\", \"2020-11-21T00:00:00\", \"2020-11-22T00:00:00\", \"2020-11-23T00:00:00\", \"2020-11-24T00:00:00\", \"2020-11-25T00:00:00\", \"2020-11-26T00:00:00\", \"2020-11-27T00:00:00\", \"2020-11-28T00:00:00\", \"2020-11-29T00:00:00\", \"2020-11-30T00:00:00\", \"2020-12-01T00:00:00\", \"2020-12-02T00:00:00\", \"2020-12-03T00:00:00\", \"2020-12-04T00:00:00\", \"2020-12-05T00:00:00\", \"2020-12-06T00:00:00\", \"2020-12-07T00:00:00\", \"2020-12-08T00:00:00\", \"2020-12-09T00:00:00\", \"2020-12-10T00:00:00\", \"2020-12-11T00:00:00\", \"2020-12-12T00:00:00\", \"2020-12-13T00:00:00\", \"2020-12-14T00:00:00\", \"2020-12-15T00:00:00\", \"2020-12-16T00:00:00\", \"2020-12-17T00:00:00\", \"2020-12-18T00:00:00\", \"2020-12-19T00:00:00\", \"2020-12-20T00:00:00\", \"2020-12-21T00:00:00\", \"2020-12-22T00:00:00\", \"2020-12-23T00:00:00\", \"2020-12-24T00:00:00\", \"2020-12-25T00:00:00\", \"2020-12-26T00:00:00\", \"2020-12-27T00:00:00\", \"2020-12-28T00:00:00\", \"2020-12-29T00:00:00\", \"2020-12-30T00:00:00\", \"2020-12-31T00:00:00\", \"2021-01-01T00:00:00\", \"2021-01-02T00:00:00\", \"2021-01-03T00:00:00\", \"2021-01-04T00:00:00\", \"2021-01-05T00:00:00\", \"2021-01-06T00:00:00\", \"2021-01-07T00:00:00\", \"2021-01-08T00:00:00\", \"2021-01-09T00:00:00\", \"2021-01-10T00:00:00\", \"2021-01-11T00:00:00\", \"2021-01-12T00:00:00\", \"2021-01-13T00:00:00\", \"2021-01-14T00:00:00\", \"2021-01-15T00:00:00\", \"2021-01-16T00:00:00\", \"2021-01-17T00:00:00\", \"2021-01-18T00:00:00\", \"2021-01-19T00:00:00\", \"2021-01-20T00:00:00\", \"2021-01-21T00:00:00\", \"2021-01-22T00:00:00\", \"2021-01-23T00:00:00\", \"2021-01-24T00:00:00\", \"2021-01-25T00:00:00\", \"2021-01-26T00:00:00\", \"2021-01-27T00:00:00\", \"2021-01-28T00:00:00\", \"2021-01-29T00:00:00\", \"2021-01-30T00:00:00\", \"2021-01-31T00:00:00\", \"2021-02-01T00:00:00\", \"2021-02-02T00:00:00\", \"2021-02-03T00:00:00\", \"2021-02-04T00:00:00\", \"2021-02-05T00:00:00\", \"2021-02-06T00:00:00\", \"2021-02-07T00:00:00\", \"2021-02-08T00:00:00\", \"2021-02-09T00:00:00\", \"2021-02-10T00:00:00\", \"2021-02-11T00:00:00\", \"2021-02-12T00:00:00\", \"2021-02-13T00:00:00\", \"2021-02-14T00:00:00\", \"2021-02-15T00:00:00\", \"2021-02-16T00:00:00\", \"2021-02-17T00:00:00\", \"2021-02-18T00:00:00\", \"2021-02-19T00:00:00\", \"2021-02-20T00:00:00\", \"2021-02-21T00:00:00\", \"2021-02-22T00:00:00\", \"2021-02-23T00:00:00\", \"2021-02-24T00:00:00\", \"2021-02-25T00:00:00\", \"2021-02-26T00:00:00\", \"2021-02-27T00:00:00\", \"2021-02-28T00:00:00\", \"2021-03-01T00:00:00\"], \"xaxis\": \"x2\", \"y\": [0.0, 4.688215623393865, 16.344920811436868, -41.66749220963711, -88.65923460672082, 25.41863742476722, 15.869285475217966, 170.72156761357752, 37.505724987541065, 73.55214365214601, -138.8916406999462, -243.81289517032678, 61.00472981927211, 34.383451862935566, 341.44313522715504, 70.32323435168826, 130.75936649285515, -236.1157891902553, -398.96655573393264, 96.59082221377699, 52.89761825065318, 512.1647028407326, 103.14074371583547, 187.9665893335643, -333.3399376805644, -554.1202162975387, 132.17691460828186, 71.41178463837078, 682.8862704543101, 135.95825307998265, 245.17381217427342, -430.5640861708735, -709.2738768611446, 167.76300700278676, 89.9259510260884, 853.6078380678878, 168.77576244412987, 302.38103501498256, -527.7882346611826, -864.4275374247505, 203.34909939729164, 108.44011741380601, 1024.3294056814652, 201.59327180827705, 359.5882578556917, -625.0123831514917, -1019.5811979883565, 238.9351917917965, 126.9542838015236, 1195.0509732950427, 234.41078117242427, 416.7954806964009, -722.2365316418008, -1174.7348585519624, 274.5212841863014, 145.46845018924122, 1365.7725409086202, 267.2282905365715, 474.00270353711, -819.4606801321098, -1329.8885191155684, 310.1073765808063, 163.98261657695883, 1536.4941085221978, 300.0457999007187, 531.2099263778191, -916.684828622419, -1485.0421796791743, 345.6934689753112, 182.4967829646764, 1707.2156761357755, 332.86330926486585, 588.4171492185283, -1013.908977112728, -1640.1958402427802, 381.27956136981607, 201.01094935239402, 1877.937243749353, 365.68081862901306, 645.6243720592374, -1111.1331256030373, -1795.3495008063862, 416.86565376432094, 219.52511574011166, 2048.6588113629305, 398.4983279931603, 702.8315948999466, -1208.3572740933464, -1950.503161369992, 452.4517461588258, 238.03928212782927, 2219.380378976508, 431.3158373573075, 760.0388177406558, -1305.5814225836555, -2105.656821933598, 488.0378385533307, 256.55344851554685, 2390.1019465900854, 464.1333467214547, 817.2460405813648, -1402.8055710739643, -2260.8104824972042, 523.6239309478356, 275.0676149032645, 2560.823514203663, 496.9508560856019, 874.453263422074, -1500.0297195642734, -2415.96414306081, 559.2100233423405, 293.5817812909821, 2731.5450818172403, 529.768365449749, 931.6604862627831, -1597.2538680545824, -2571.1178036244164, 594.7961157368453, 312.09594767869964, 2902.2666494308182, 562.5858748138963, 988.8677091034922, -1694.4780165448917, -2726.271464188022, 630.3822081313502, 330.61011406641734, 3072.9882170443957, 595.4033841780434, 1046.0749319442014, -1791.7021650352008, -2881.4251247516277, 665.9683005258552, 349.12428045413486, 3243.7097846579736, 628.2208935421907, 1103.2821547849107, -1888.9263135255096, -3036.578785315234, 701.55439292036, 367.6384468418525, 3414.431352271551, 661.0384029063379, 1160.4893776256197, -1986.1504620158194, -3191.73244587884, 737.1404853148649, 386.1526132295702, 3585.152919885128, 693.8559122704851, 1217.6966004663288, -2083.3746105061277, -3346.8861064424455, 772.7265777093697, 404.6667796172877, 3755.874487498706, 726.6734216346323, 1274.903823307038, -2180.5987589964375, -3502.0397670060515, 808.3126701038747, 423.18094600500535, 3926.5960551122835, 759.4909309987795, 1332.1110461477472, -2277.8229074867463, -3657.1934275696576, 843.8987624983796, 441.6951123927229, 4097.317622725861, 792.3084403629267, 1389.3182689884563, -2375.0470559770556, -3812.3470881332632, 879.4848548928844, 460.20927878044057, 4268.039190339439, 825.1259497270738, 1446.5254918291653, -2472.2712044673644, -3967.5007486968693, 915.0709472873893, 478.7234451681581, 4438.760757953016, 857.943459091221, 1503.7327146698744, -2569.4953529576733, -4122.654409260475, 950.6570396814711, 497.23761155587573, 4609.482325566593, 890.7609684553684, 1560.9399375105836, -2666.719501447983, -4277.808069824082, 986.2431320759761, 515.7517779435934, 4780.203893180171, 923.5784778195155, 1618.1471603512928, -2763.943649938292, -4432.961730387688, 1021.8292244704809, 534.265944331311, 4950.925460793749, 956.3959871836627, 1675.354383192002, -2861.1677984286007, -4588.115390951292, 1057.4153168649857, 552.7801107190286, 5121.647028407326, 989.21349654781, 1732.561606032711, -2958.39194691891, -4743.269051514899, 1093.0014092594906, 571.2942771067462, 5292.368596020904, 1022.031005911957, 1789.7688288734203, -3055.6160954092197, -4898.422712078505, 1128.5875016539956, 589.8084434944639, 5463.090163634481, 1054.8485152761043, 1846.9760517141294, -3152.840243899528, -5053.576372642111, 1164.1735940485005, 608.3226098821814, 5633.811731248059, 1087.6660246402514, 1904.1832745548386, -3250.064392389837, -5208.730033205717, 1199.7596864430054, 626.836776269899, 5804.5332988616365, 1120.4835340043987, 1961.3904973955478, -3347.2885408801462, -5363.883693769323, 1235.3457788375101, 645.3509426576167, 5975.254866475214, 1153.301043368546, 2018.597720236257, -3444.5126893704555, -5519.03735433293, 1270.931871232015, 663.8651090453343, 6145.976434088791, 1186.118552732693, 2075.804943076966, -3541.7368378607644, -5674.191014896534, 1306.51796362652, 682.3792754330517, 6316.698001702369, 1218.9360620968403, 2133.0121659176752, -3638.9609863510736, -5829.344675460141, 1342.104056021025, 700.8934418207693, 6487.419569315947, 1251.7535714609876, 2190.2193887583844, -3736.185134841383, -5984.4983360237475, 1377.6901484155298, 719.4076082084871, 6658.141136929525, 1284.5710808251347, 2247.4266115990936, -3833.4473358359546, -6139.773447593542, 1413.3180248719354, 737.9507595924771, 6829.196797630071, 1317.4656567473976, 2304.790566557016, -3930.937851856105, -6295.352186680655, 1449.0016134098885, 756.5156497236713, 7000.3860955654045, 1350.3730770960133, 2362.1545215149386, -4028.428367877411, -6450.930925765924, 1484.6852019478413, 775.0805398548657, 7171.575393500739, 1383.2804974450191, 2419.5184764735413, -4125.9188838975615, -6606.509664851192, 1520.3687904857943, 793.6454299860602, 7342.764691438102, 1416.1879177936348, 2476.882431431464, -4223.409399917712, -6762.088403936461, 1556.0523790237473, 812.2103201174746, 7513.953989373435, 1449.0953381422505, 2534.2463863893863, -4320.899915937863, -6917.667143021728, 1591.7359675621233, 830.7752102486689, 7685.14328730877, 1482.002758490866, 2591.610341347309, -4418.390431959168, -7073.245882108842, 1627.4195561000763, 849.3401003798632, 7856.332585244103, 1514.9101788394817, 2648.9742963059116, -4515.88094797932, -7228.8246211941105, 1663.103144638029, 867.9049905110576, 8027.521883179437, 1547.8175991884875, 2706.338251263834, -4613.37146399947, -7384.403360279379, 1698.7867331759821], \"yaxis\": \"y2\"}, {\"mode\": \"lines\", \"name\": \"WEEKLY_SEASONALITY\", \"opacity\": 0.8, \"showlegend\": false, \"type\": \"scatter\", \"x\": [0.0, 1.0, 2.0, 3.0, 4.0, 5.0, 6.0], \"xaxis\": \"x3\", \"y\": [11623.718763610044, -25600.129427988824, 80979.54393368073, -8456.240800609385, 12926.683147631404, -27098.041001380305, -44603.772789900475], \"yaxis\": \"y3\"}, {\"mode\": \"lines\", \"name\": \"QUARTERLY_SEASONALITY\", \"opacity\": 0.8, \"showlegend\": false, \"type\": \"scatter\", \"x\": [0.0, 0.010869565217391304, 0.01098901098901099, 0.011111111111111112, 0.021739130434782608, 0.02197802197802198, 0.022222222222222223, 0.03260869565217391, 0.03296703296703297, 0.03333333333333333, 0.043478260869565216, 0.04395604395604396, 0.044444444444444446, 0.05434782608695652, 0.054945054945054944, 0.05555555555555555, 0.06521739130434782, 0.06593406593406594, 0.06666666666666667, 0.07608695652173914, 0.07692307692307693, 0.07777777777777778, 0.08695652173913043, 0.08791208791208792, 0.08888888888888889, 0.09782608695652174, 0.0989010989010989, 0.1, 0.10869565217391304, 0.10989010989010989, 0.1111111111111111, 0.11956521739130435, 0.12087912087912088, 0.12222222222222222, 0.13043478260869565, 0.13186813186813187, 0.13333333333333333, 0.14130434782608695, 0.14285714285714285, 0.14444444444444443, 0.15217391304347827, 0.15384615384615385, 0.15555555555555556, 0.16304347826086957, 0.16483516483516483, 0.16666666666666666, 0.17391304347826086, 0.17582417582417584, 0.17777777777777778, 0.18478260869565216, 0.18681318681318682, 0.18888888888888888, 0.1956521739130435, 0.1978021978021978, 0.2, 0.20652173913043478, 0.2087912087912088, 0.2111111111111111, 0.21739130434782608, 0.21978021978021978, 0.2222222222222222, 0.22826086956521738, 0.23076923076923078, 0.23333333333333334, 0.2391304347826087, 0.24175824175824176, 0.24444444444444444, 0.25, 0.25274725274725274, 0.25555555555555554, 0.2608695652173913, 0.26373626373626374, 0.26666666666666666, 0.2717391304347826, 0.27472527472527475, 0.2777777777777778, 0.2826086956521739, 0.2857142857142857, 0.28888888888888886, 0.29347826086956524, 0.2967032967032967, 0.3, 0.30434782608695654, 0.3076923076923077, 0.3111111111111111, 0.31521739130434784, 0.31868131868131866, 0.32222222222222224, 0.32608695652173914, 0.32967032967032966, 0.3333333333333333, 0.33695652173913043, 0.34065934065934067, 0.34444444444444444, 0.34782608695652173, 0.3516483516483517, 0.35555555555555557, 0.358695652173913, 0.3626373626373626, 0.36666666666666664, 0.3695652173913043, 0.37362637362637363, 0.37777777777777777, 0.3804347826086957, 0.38461538461538464, 0.3888888888888889, 0.391304347826087, 0.3956043956043956, 0.4, 0.40217391304347827, 0.4065934065934066, 0.4111111111111111, 0.41304347826086957, 0.4175824175824176, 0.4222222222222222, 0.42391304347826086, 0.42857142857142855, 0.43333333333333335, 0.43478260869565216, 0.43956043956043955, 0.4444444444444444, 0.44565217391304346, 0.45054945054945056, 0.45555555555555555, 0.45652173913043476, 0.46153846153846156, 0.4666666666666667, 0.4673913043478261, 0.4725274725274725, 0.4777777777777778, 0.4782608695652174, 0.4835164835164835, 0.4888888888888889, 0.4891304347826087, 0.4945054945054945, 0.5, 0.5054945054945055, 0.5108695652173914, 0.5111111111111111, 0.5164835164835165, 0.5217391304347826, 0.5222222222222223, 0.5274725274725275, 0.532608695652174, 0.5333333333333333, 0.5384615384615384, 0.5434782608695652, 0.5444444444444444, 0.5494505494505495, 0.5543478260869565, 0.5555555555555556, 0.5604395604395604, 0.5652173913043478, 0.5666666666666667, 0.5714285714285714, 0.5760869565217391, 0.5777777777777777, 0.5824175824175825, 0.5869565217391305, 0.5888888888888889, 0.5934065934065934, 0.5978260869565217, 0.6, 0.6043956043956044, 0.6086956521739131, 0.6111111111111112, 0.6153846153846154, 0.6195652173913043, 0.6222222222222222, 0.6263736263736264, 0.6304347826086957, 0.6333333333333333, 0.6373626373626373, 0.6413043478260869, 0.6444444444444445, 0.6483516483516484, 0.6521739130434783, 0.6555555555555556, 0.6593406593406593, 0.6630434782608695, 0.6703296703296703, 0.6739130434782609, 0.6813186813186813, 0.6847826086956522, 0.6923076923076923, 0.6956521739130435, 0.7032967032967034, 0.7065217391304348, 0.7142857142857143, 0.717391304347826, 0.7252747252747253, 0.7282608695652174, 0.7362637362637363, 0.7391304347826086, 0.7472527472527473, 0.75, 0.7582417582417582, 0.7608695652173914, 0.7692307692307693, 0.7717391304347826, 0.7802197802197802, 0.782608695652174, 0.7912087912087912, 0.7934782608695652, 0.8021978021978022, 0.8043478260869565, 0.8131868131868132, 0.8152173913043478, 0.8241758241758241, 0.8260869565217391, 0.8351648351648352, 0.8369565217391305, 0.8461538461538461, 0.8478260869565217, 0.8571428571428571, 0.8586956521739131, 0.8681318681318682, 0.8695652173913043, 0.8791208791208791, 0.8804347826086957, 0.8901098901098901, 0.8913043478260869, 0.9010989010989011, 0.9021739130434783, 0.9120879120879121, 0.9130434782608695, 0.9230769230769231, 0.9239130434782609, 0.9340659340659341, 0.9347826086956522, 0.945054945054945, 0.9456521739130435, 0.9560439560439561, 0.9565217391304348, 0.967032967032967, 0.967391304347826, 0.978021978021978, 0.9782608695652174, 0.989010989010989, 0.9891304347826086], \"xaxis\": \"x4\", \"y\": [64702.377479454066, 51681.801820677894, 51519.96112809205, 51354.14559340393, 35640.29647825812, 35262.451331512115, 34875.30367077651, 17767.438840588642, 17162.242418749192, 16543.08661043358, -605.0983194297246, -1402.9664849516184, -2216.7583600820353, -18141.523151856818, -19055.928631504747, -19984.028068349122, -33636.1667788851, -34561.09484538363, -35492.727284245135, -46129.590824983716, -46945.87924538978, -47757.7173563995, -54994.49192897984, -55589.09062571825, -56165.65580768198, -59982.965758832914, -60267.699376409655, -60520.99722858677, -61231.193619078724, -61158.060608120984, -61043.27475108189, -59222.46242521866, -58793.004303764144, -58317.65584916214, -54714.06896787477, -53981.21499091301, -53206.177610193154, -48637.5687835532, -47699.47996370779, -46731.47949312228, -41984.57627042797, -40971.21795167628, -39947.75889252164, -35691.613012875925, -34745.90253861564, -33814.757125139215, -30537.21410266037, -29793.455627400923, -29089.745023140887, -27062.69947406436, -26625.5014723684, -26249.854992995006, -25524.934949237373, -25451.829796092195, -25453.050321446368, -25885.426690361208, -26175.962338350808, -26541.051289807034, -27835.69296538706, -28428.897899434458, -29082.27357395787, -30854.560573118968, -31635.509418934023, -32447.926632682087, -34289.3428072739, -35104.23176926644, -35910.46502746087, -37450.196649351776, -38128.06047129066, -38751.055821053036, -39705.62747699552, -40083.777211790344, -40361.91108031651, -40567.24800201072, -40516.83939927879, -40330.31163971455, -39753.46723559165, -39201.43166847725, -38493.76980244443, -37224.578528133694, -36168.50508027088, -34959.69527179096, -33185.38310088621, -31698.801173874563, -30087.63333048518, -28055.575866804884, -26282.350349750937, -24437.036311250344, -22412.135722498082, -20550.189571428135, -18687.98917447814, -16911.417411420975, -15187.538211665153, -13545.776265351891, -12201.121263135112, -10839.974703478149, -9642.215602531294, -8833.524742977816, -8024.990450792262, -7447.047167232411, -7191.154194358625, -7060.563115331524, -7201.302586750948, -7434.4855678273925, -8020.184313642254, -8881.682007281612, -9478.485414708997, -10720.373850266413, -12200.89085653625, -13001.17744011241, -14742.538365981527, -16644.16356849964, -17483.387648979344, -19486.60687085713, -21537.42527921839, -22274.874647098568, -24249.75140163309, -26138.326067307004, -26678.67409152201, -28320.19497781107, -29738.26725149641, -30043.093912305165, -31074.039399234523, -31761.93101661737, -31849.689144527936, -32062.48023067195, -31850.94109336368, -31785.868174311294, -31077.79980434388, -29920.125473781685, -29792.510557555215, -28189.030409345884, -26178.206980008275, -26079.915440549998, -23741.86539547553, -21109.20672081297, -18321.823756760954, -15540.546465077488, -15415.85916741864, -12684.306278424881, -10153.646791721265, -9931.280380101154, -7659.4498353886465, -5749.622040727454, -5509.378978446168, -4043.059897497502, -3045.7512249168453, -2907.50784536713, -2486.951108364976, -2575.9054686740596, -2676.225532415125, -3402.4786521003953, -4609.071789356709, -5070.570003050816, -6889.815659836737, -9096.58505710542, -9994.968504787073, -12702.742886987819, -15655.553220663263, -16990.064962482225, -20254.67516400173, -23591.87268414956, -25264.785491796618, -28666.818776292846, -31961.64491889346, -33771.472579055575, -36854.300549182604, -39665.25102670643, -41316.561989750415, -43641.43373285405, -45564.351238953845, -46694.71014059732, -47893.5525105987, -48609.12654983815, -48831.07390176825, -48650.517214092906, -47961.531338807064, -46915.01354463243, -45246.367736354856, -43100.38337105535, -37400.78772483294, -33895.802881874726, -25270.92974551239, -20643.66031303398, -9456.433063270404, -4054.96722824457, 9044.33516975055, 14799.921994981567, 28923.257322306607, 34587.38909952972, 48687.88337181356, 53837.42326557706, 66810.20646802543, 71088.20187897242, 81882.83047600875, 85033.10594828425, 92765.45407370431, 94654.36998556774, 98705.40689603346, 99328.78555367207, 99418.63375047423, 98893.72441030848, 95121.74872750093, 93665.91996327156, 86511.10596836769, 84410.49224531237, 74690.66261045227, 72263.06849094067, 61056.08527122277, 58612.94608465146, 47147.43138386427, 44959.50179065626, 34486.26542583926, 32756.996224576644, 24414.84389189418, 23264.225317126773, 17954.81639684041, 17414.982660149235, 15700.760476188949, 15723.068505347359, 17760.032089358785, 18231.856600378527, 23745.303808570206, 24513.619045228446, 32820.35388542853, 33718.442369773315, 43793.81604281253, 44667.23649366725, 55250.35983896949, 55978.62833420807, 65704.73120639572, 66215.95903445507, 73761.69040908774, 74038.55537284867, 78264.39930146516, 78341.13812489544, 78415.27266930712, 78366.68469024898, 73856.53931755954, 73781.10586476795], \"yaxis\": \"y4\"}, {\"mode\": \"lines\", \"name\": \"events\", \"opacity\": 0.8, \"showlegend\": false, \"type\": \"scatter\", \"x\": [\"2020-04-01T00:00:00\", \"2020-04-02T00:00:00\", \"2020-04-03T00:00:00\", \"2020-04-04T00:00:00\", \"2020-04-05T00:00:00\", \"2020-04-06T00:00:00\", \"2020-04-07T00:00:00\", \"2020-04-08T00:00:00\", \"2020-04-09T00:00:00\", \"2020-04-10T00:00:00\", \"2020-04-11T00:00:00\", \"2020-04-12T00:00:00\", \"2020-04-13T00:00:00\", \"2020-04-14T00:00:00\", \"2020-04-15T00:00:00\", \"2020-04-16T00:00:00\", \"2020-04-17T00:00:00\", \"2020-04-18T00:00:00\", \"2020-04-19T00:00:00\", \"2020-04-20T00:00:00\", \"2020-04-21T00:00:00\", \"2020-04-22T00:00:00\", \"2020-04-23T00:00:00\", \"2020-04-24T00:00:00\", \"2020-04-25T00:00:00\", \"2020-04-26T00:00:00\", \"2020-04-27T00:00:00\", \"2020-04-28T00:00:00\", \"2020-04-29T00:00:00\", \"2020-04-30T00:00:00\", \"2020-05-01T00:00:00\", \"2020-05-02T00:00:00\", \"2020-05-03T00:00:00\", \"2020-05-04T00:00:00\", \"2020-05-05T00:00:00\", \"2020-05-06T00:00:00\", \"2020-05-07T00:00:00\", \"2020-05-08T00:00:00\", \"2020-05-09T00:00:00\", \"2020-05-10T00:00:00\", \"2020-05-11T00:00:00\", \"2020-05-12T00:00:00\", \"2020-05-13T00:00:00\", \"2020-05-14T00:00:00\", \"2020-05-15T00:00:00\", \"2020-05-16T00:00:00\", \"2020-05-17T00:00:00\", \"2020-05-18T00:00:00\", \"2020-05-19T00:00:00\", \"2020-05-20T00:00:00\", \"2020-05-21T00:00:00\", \"2020-05-22T00:00:00\", \"2020-05-23T00:00:00\", \"2020-05-24T00:00:00\", \"2020-05-25T00:00:00\", \"2020-05-26T00:00:00\", \"2020-05-27T00:00:00\", \"2020-05-28T00:00:00\", \"2020-05-29T00:00:00\", \"2020-05-30T00:00:00\", \"2020-05-31T00:00:00\", \"2020-06-01T00:00:00\", \"2020-06-02T00:00:00\", \"2020-06-03T00:00:00\", \"2020-06-04T00:00:00\", \"2020-06-05T00:00:00\", \"2020-06-06T00:00:00\", \"2020-06-07T00:00:00\", \"2020-06-08T00:00:00\", \"2020-06-09T00:00:00\", \"2020-06-10T00:00:00\", \"2020-06-11T00:00:00\", \"2020-06-12T00:00:00\", \"2020-06-13T00:00:00\", \"2020-06-14T00:00:00\", \"2020-06-15T00:00:00\", \"2020-06-16T00:00:00\", \"2020-06-17T00:00:00\", \"2020-06-18T00:00:00\", \"2020-06-19T00:00:00\", \"2020-06-20T00:00:00\", \"2020-06-21T00:00:00\", \"2020-06-22T00:00:00\", \"2020-06-23T00:00:00\", \"2020-06-24T00:00:00\", \"2020-06-25T00:00:00\", \"2020-06-26T00:00:00\", \"2020-06-27T00:00:00\", \"2020-06-28T00:00:00\", \"2020-06-29T00:00:00\", \"2020-06-30T00:00:00\", \"2020-07-01T00:00:00\", \"2020-07-02T00:00:00\", \"2020-07-03T00:00:00\", \"2020-07-04T00:00:00\", \"2020-07-05T00:00:00\", \"2020-07-06T00:00:00\", \"2020-07-07T00:00:00\", \"2020-07-08T00:00:00\", \"2020-07-09T00:00:00\", \"2020-07-10T00:00:00\", \"2020-07-11T00:00:00\", \"2020-07-12T00:00:00\", \"2020-07-13T00:00:00\", \"2020-07-14T00:00:00\", \"2020-07-15T00:00:00\", \"2020-07-16T00:00:00\", \"2020-07-17T00:00:00\", \"2020-07-18T00:00:00\", \"2020-07-19T00:00:00\", \"2020-07-20T00:00:00\", \"2020-07-21T00:00:00\", \"2020-07-22T00:00:00\", \"2020-07-23T00:00:00\", \"2020-07-24T00:00:00\", \"2020-07-25T00:00:00\", \"2020-07-26T00:00:00\", \"2020-07-27T00:00:00\", \"2020-07-28T00:00:00\", \"2020-07-29T00:00:00\", \"2020-07-30T00:00:00\", \"2020-07-31T00:00:00\", \"2020-08-01T00:00:00\", \"2020-08-02T00:00:00\", \"2020-08-03T00:00:00\", \"2020-08-04T00:00:00\", \"2020-08-05T00:00:00\", \"2020-08-06T00:00:00\", \"2020-08-07T00:00:00\", \"2020-08-08T00:00:00\", \"2020-08-09T00:00:00\", \"2020-08-10T00:00:00\", \"2020-08-11T00:00:00\", \"2020-08-12T00:00:00\", \"2020-08-13T00:00:00\", \"2020-08-14T00:00:00\", \"2020-08-15T00:00:00\", \"2020-08-16T00:00:00\", \"2020-08-17T00:00:00\", \"2020-08-18T00:00:00\", \"2020-08-19T00:00:00\", \"2020-08-20T00:00:00\", \"2020-08-21T00:00:00\", \"2020-08-22T00:00:00\", \"2020-08-23T00:00:00\", \"2020-08-24T00:00:00\", \"2020-08-25T00:00:00\", \"2020-08-26T00:00:00\", \"2020-08-27T00:00:00\", \"2020-08-28T00:00:00\", \"2020-08-29T00:00:00\", \"2020-08-30T00:00:00\", \"2020-08-31T00:00:00\", \"2020-09-01T00:00:00\", \"2020-09-02T00:00:00\", \"2020-09-03T00:00:00\", \"2020-09-04T00:00:00\", \"2020-09-05T00:00:00\", \"2020-09-06T00:00:00\", \"2020-09-07T00:00:00\", \"2020-09-08T00:00:00\", \"2020-09-09T00:00:00\", \"2020-09-10T00:00:00\", \"2020-09-11T00:00:00\", \"2020-09-12T00:00:00\", \"2020-09-13T00:00:00\", \"2020-09-14T00:00:00\", \"2020-09-15T00:00:00\", \"2020-09-16T00:00:00\", \"2020-09-17T00:00:00\", \"2020-09-18T00:00:00\", \"2020-09-19T00:00:00\", \"2020-09-20T00:00:00\", \"2020-09-21T00:00:00\", \"2020-09-22T00:00:00\", \"2020-09-23T00:00:00\", \"2020-09-24T00:00:00\", \"2020-09-25T00:00:00\", \"2020-09-26T00:00:00\", \"2020-09-27T00:00:00\", \"2020-09-28T00:00:00\", \"2020-09-29T00:00:00\", \"2020-09-30T00:00:00\", \"2020-10-01T00:00:00\", \"2020-10-02T00:00:00\", \"2020-10-03T00:00:00\", \"2020-10-04T00:00:00\", \"2020-10-05T00:00:00\", \"2020-10-06T00:00:00\", \"2020-10-07T00:00:00\", \"2020-10-08T00:00:00\", \"2020-10-09T00:00:00\", \"2020-10-10T00:00:00\", \"2020-10-11T00:00:00\", \"2020-10-12T00:00:00\", \"2020-10-13T00:00:00\", \"2020-10-14T00:00:00\", \"2020-10-15T00:00:00\", \"2020-10-16T00:00:00\", \"2020-10-17T00:00:00\", \"2020-10-18T00:00:00\", \"2020-10-19T00:00:00\", \"2020-10-20T00:00:00\", \"2020-10-21T00:00:00\", \"2020-10-22T00:00:00\", \"2020-10-23T00:00:00\", \"2020-10-24T00:00:00\", \"2020-10-25T00:00:00\", \"2020-10-26T00:00:00\", \"2020-10-27T00:00:00\", \"2020-10-28T00:00:00\", \"2020-10-29T00:00:00\", \"2020-10-30T00:00:00\", \"2020-10-31T00:00:00\", \"2020-11-01T00:00:00\", \"2020-11-02T00:00:00\", \"2020-11-03T00:00:00\", \"2020-11-04T00:00:00\", \"2020-11-05T00:00:00\", \"2020-11-06T00:00:00\", \"2020-11-07T00:00:00\", \"2020-11-08T00:00:00\", \"2020-11-09T00:00:00\", \"2020-11-10T00:00:00\", \"2020-11-11T00:00:00\", \"2020-11-12T00:00:00\", \"2020-11-13T00:00:00\", \"2020-11-14T00:00:00\", \"2020-11-15T00:00:00\", \"2020-11-16T00:00:00\", \"2020-11-17T00:00:00\", \"2020-11-18T00:00:00\", \"2020-11-19T00:00:00\", \"2020-11-20T00:00:00\", \"2020-11-21T00:00:00\", \"2020-11-22T00:00:00\", \"2020-11-23T00:00:00\", \"2020-11-24T00:00:00\", \"2020-11-25T00:00:00\", \"2020-11-26T00:00:00\", \"2020-11-27T00:00:00\", \"2020-11-28T00:00:00\", \"2020-11-29T00:00:00\", \"2020-11-30T00:00:00\", \"2020-12-01T00:00:00\", \"2020-12-02T00:00:00\", \"2020-12-03T00:00:00\", \"2020-12-04T00:00:00\", \"2020-12-05T00:00:00\", \"2020-12-06T00:00:00\", \"2020-12-07T00:00:00\", \"2020-12-08T00:00:00\", \"2020-12-09T00:00:00\", \"2020-12-10T00:00:00\", \"2020-12-11T00:00:00\", \"2020-12-12T00:00:00\", \"2020-12-13T00:00:00\", \"2020-12-14T00:00:00\", \"2020-12-15T00:00:00\", \"2020-12-16T00:00:00\", \"2020-12-17T00:00:00\", \"2020-12-18T00:00:00\", \"2020-12-19T00:00:00\", \"2020-12-20T00:00:00\", \"2020-12-21T00:00:00\", \"2020-12-22T00:00:00\", \"2020-12-23T00:00:00\", \"2020-12-24T00:00:00\", \"2020-12-25T00:00:00\", \"2020-12-26T00:00:00\", \"2020-12-27T00:00:00\", \"2020-12-28T00:00:00\", \"2020-12-29T00:00:00\", \"2020-12-30T00:00:00\", \"2020-12-31T00:00:00\", \"2021-01-01T00:00:00\", \"2021-01-02T00:00:00\", \"2021-01-03T00:00:00\", \"2021-01-04T00:00:00\", \"2021-01-05T00:00:00\", \"2021-01-06T00:00:00\", \"2021-01-07T00:00:00\", \"2021-01-08T00:00:00\", \"2021-01-09T00:00:00\", \"2021-01-10T00:00:00\", \"2021-01-11T00:00:00\", \"2021-01-12T00:00:00\", \"2021-01-13T00:00:00\", \"2021-01-14T00:00:00\", \"2021-01-15T00:00:00\", \"2021-01-16T00:00:00\", \"2021-01-17T00:00:00\", \"2021-01-18T00:00:00\", \"2021-01-19T00:00:00\", \"2021-01-20T00:00:00\", \"2021-01-21T00:00:00\", \"2021-01-22T00:00:00\", \"2021-01-23T00:00:00\", \"2021-01-24T00:00:00\", \"2021-01-25T00:00:00\", \"2021-01-26T00:00:00\", \"2021-01-27T00:00:00\", \"2021-01-28T00:00:00\", \"2021-01-29T00:00:00\", \"2021-01-30T00:00:00\", \"2021-01-31T00:00:00\", \"2021-02-01T00:00:00\", \"2021-02-02T00:00:00\", \"2021-02-03T00:00:00\", \"2021-02-04T00:00:00\", \"2021-02-05T00:00:00\", \"2021-02-06T00:00:00\", \"2021-02-07T00:00:00\", \"2021-02-08T00:00:00\", \"2021-02-09T00:00:00\", \"2021-02-10T00:00:00\", \"2021-02-11T00:00:00\", \"2021-02-12T00:00:00\", \"2021-02-13T00:00:00\", \"2021-02-14T00:00:00\", \"2021-02-15T00:00:00\", \"2021-02-16T00:00:00\", \"2021-02-17T00:00:00\", \"2021-02-18T00:00:00\", \"2021-02-19T00:00:00\", \"2021-02-20T00:00:00\", \"2021-02-21T00:00:00\", \"2021-02-22T00:00:00\", \"2021-02-23T00:00:00\", \"2021-02-24T00:00:00\", \"2021-02-25T00:00:00\", \"2021-02-26T00:00:00\", \"2021-02-27T00:00:00\", \"2021-02-28T00:00:00\", \"2021-03-01T00:00:00\"], \"xaxis\": \"x5\", \"y\": [0.0, 9473.095950315894, 20753.073155724058, 5585.700606738041, -1946.253043996663, -721.4271798971577, 5003.645215745274, 10979.107538592247, -5762.018317728328, 13001.241368449533, 15578.87646208419, 4578.6169017671255, -1606.3591275106414, -664.8602942895086, -4301.051522439473, 0.0, 0.0, 0.0, 0.0, 0.0, 0.0, 0.0, 0.0, 0.0, 0.0, 0.0, 0.0, 0.0, 9145.20925342303, 10515.969537062687, -6874.740558921564, 3238.6030792732518, 6592.0483347163035, 0.0, 0.0, 9473.095950315894, 11279.977205408166, -5694.276598670125, 3748.023554673462, -4469.45073457062, 0.0, 0.0, 0.0, 0.0, 0.0, 0.0, 0.0, 0.0, 9473.095950315894, 11279.977205408166, -5694.276598670125, 13221.119504989356, 16059.66340449519, 5035.721757800141, -2419.6196801990823, -1011.2912319217085, -4845.8124165077115, 0.0, 9473.095950315894, 20753.073155724058, 5585.700606738041, -1946.253043996663, -721.4271798971577, -4469.45073457062, 0.0, 0.0, 0.0, 0.0, 0.0, 0.0, 0.0, 0.0, 0.0, 0.0, 0.0, 0.0, 0.0, 0.0, 0.0, 0.0, 0.0, 0.0, 0.0, 9473.095950315894, 11279.977205408166, -5694.276598670125, 3748.023554673462, -4469.45073457062, 0.0, 0.0, 0.0, 9473.095950315894, 10630.152671005975, -6586.573836036254, 3238.058342747735, -5554.379959321396, -537.9732334437323, 0.0, 0.0, 0.0, 9473.095950315894, 11279.977205408166, 3778.8193516457686, 15028.000760081628, -10163.727333240746, 3748.023554673462, -4469.45073457062, 0.0, 0.0, 0.0, 0.0, 0.0, 0.0, 0.0, 0.0, 0.0, 0.0, 0.0, 0.0, 0.0, 0.0, 0.0, 9473.095950315894, 11279.977205408166, -5694.276598670125, 3748.023554673462, -4469.45073457062, 0.0, 0.0, 0.0, 0.0, 0.0, 0.0, 0.0, 8823.271415913703, 10387.679968042037, -6204.241810595852, 2663.0943299226856, -5007.423968014352, 0.0, 0.0, 0.0, 0.0, 0.0, 0.0, 0.0, 0.0, 0.0, 9473.095950315894, 11279.977205408166, 3778.8193516457686, 15028.000760081628, -10163.727333240746, 3748.023554673462, -4469.45073457062, 9473.095950315894, 11279.977205408166, -6022.163295562988, 12457.111836643877, 5630.062510586106, -6203.6970740703355, 14809.522623960385, -4469.45073457062, 0.0, 0.0, 0.0, 0.0, 0.0, 0.0, 0.0, 0.0, 0.0, 0.0, 0.0, 0.0, 0.0, 0.0, 0.0, 0.0, 0.0, 0.0, 9473.095950315894, 20753.073155724058, 5585.700606738041, -1946.253043996663, -721.4271798971577, -4469.45073457062, 0.0, 0.0, 0.0, 0.0, 0.0, 9473.095950315894, 11279.977205408166, -5694.276598670125, 3748.023554673462, -4469.45073457062, 0.0, 0.0, 0.0, 0.0, 0.0, 0.0, 0.0, 0.0, 0.0, 0.0, 0.0, 0.0, 9473.095950315894, 11279.977205408166, -5694.276598670125, 13221.119504989356, 16283.622421153439, 5585.700606738041, -1946.253043996663, -721.4271798971577, -4469.45073457062, 0.0, 0.0, 0.0, 0.0, 9298.004707040036, 11151.743674968739, -6193.530174678602, 13031.676073205655, 8653.465129425946, -5694.276598670125, 3748.023554673462, -4469.45073457062, 0.0, 0.0, 0.0, 0.0, 0.0, 0.0, 0.0, -91.50673227716734, -260.4740708209458, -89.25171063204111, -54.30385520966567, 9164.608390358586, 11279.977205408166, -5694.276598670125, 3748.023554673462, -4469.45073457062, 0.0, 0.0, 0.0, 0.0, 0.0, 0.0, 0.0, 0.0, 0.0, 0.0, 0.0, 0.0, 0.0, 0.0, 0.0, 0.0, 0.0, 0.0, 0.0, 0.0, 9231.344355502644, 22926.593800557384, 6358.798995335059, 6959.042116687355, 10421.907799767174, -690.6313829248511, 15028.000760081628, -597.9115530157524, 24397.53445888965, 924.5282120543143, 7298.178187268377, 10267.085617260924, -10163.727333240746, 3748.023554673462, -4469.45073457062, 0.0, 0.0, 0.0, 0.0, 0.0, 0.0, 0.0, 0.0, 0.0, 9473.095950315894, 11279.977205408166, -5694.276598670125, 3748.023554673462, -4469.45073457062, 0.0, 0.0, 0.0, 9473.095950315894, 11279.977205408166, -5694.276598670125, 3748.023554673462, -4469.45073457062, 0.0, 0.0, 0.0, 0.0, 0.0, 0.0, 0.0, 0.0, 0.0, 0.0, 0.0, 0.0, -280.34953021435626, 2.600946929122013, -87.25585330405903, 9354.85683709646, 11103.70484216625, -5694.276598670125, 3748.023554673462, -4469.45073457062, 0.0, 0.0, 0.0, 0.0, 0.0, 0.0, 0.0, 0.0, 0.0, 0.0, 0.0, 0.0], \"yaxis\": \"y5\"}],                        {\"height\": 1750, \"showlegend\": true, \"template\": {\"data\": {\"bar\": [{\"error_x\": {\"color\": \"#2a3f5f\"}, \"error_y\": {\"color\": \"#2a3f5f\"}, \"marker\": {\"line\": {\"color\": \"#E5ECF6\", \"width\": 0.5}}, \"type\": \"bar\"}], \"barpolar\": [{\"marker\": {\"line\": {\"color\": \"#E5ECF6\", \"width\": 0.5}}, \"type\": \"barpolar\"}], \"carpet\": [{\"aaxis\": {\"endlinecolor\": \"#2a3f5f\", \"gridcolor\": \"white\", \"linecolor\": \"white\", \"minorgridcolor\": \"white\", \"startlinecolor\": \"#2a3f5f\"}, \"baxis\": {\"endlinecolor\": \"#2a3f5f\", \"gridcolor\": \"white\", \"linecolor\": \"white\", \"minorgridcolor\": \"white\", \"startlinecolor\": \"#2a3f5f\"}, \"type\": \"carpet\"}], \"choropleth\": [{\"colorbar\": {\"outlinewidth\": 0, \"ticks\": \"\"}, \"type\": \"choropleth\"}], \"contour\": [{\"colorbar\": {\"outlinewidth\": 0, \"ticks\": \"\"}, \"colorscale\": [[0.0, \"#0d0887\"], [0.1111111111111111, \"#46039f\"], [0.2222222222222222, \"#7201a8\"], [0.3333333333333333, \"#9c179e\"], [0.4444444444444444, \"#bd3786\"], [0.5555555555555556, \"#d8576b\"], [0.6666666666666666, \"#ed7953\"], [0.7777777777777778, \"#fb9f3a\"], [0.8888888888888888, \"#fdca26\"], [1.0, \"#f0f921\"]], \"type\": \"contour\"}], \"contourcarpet\": [{\"colorbar\": {\"outlinewidth\": 0, \"ticks\": \"\"}, \"type\": \"contourcarpet\"}], \"heatmap\": [{\"colorbar\": {\"outlinewidth\": 0, \"ticks\": \"\"}, \"colorscale\": [[0.0, \"#0d0887\"], [0.1111111111111111, \"#46039f\"], [0.2222222222222222, \"#7201a8\"], [0.3333333333333333, \"#9c179e\"], [0.4444444444444444, \"#bd3786\"], [0.5555555555555556, \"#d8576b\"], [0.6666666666666666, \"#ed7953\"], [0.7777777777777778, \"#fb9f3a\"], [0.8888888888888888, \"#fdca26\"], [1.0, \"#f0f921\"]], \"type\": \"heatmap\"}], \"heatmapgl\": [{\"colorbar\": {\"outlinewidth\": 0, \"ticks\": \"\"}, \"colorscale\": [[0.0, \"#0d0887\"], [0.1111111111111111, \"#46039f\"], [0.2222222222222222, \"#7201a8\"], [0.3333333333333333, \"#9c179e\"], [0.4444444444444444, \"#bd3786\"], [0.5555555555555556, \"#d8576b\"], [0.6666666666666666, \"#ed7953\"], [0.7777777777777778, \"#fb9f3a\"], [0.8888888888888888, \"#fdca26\"], [1.0, \"#f0f921\"]], \"type\": \"heatmapgl\"}], \"histogram\": [{\"marker\": {\"colorbar\": {\"outlinewidth\": 0, \"ticks\": \"\"}}, \"type\": \"histogram\"}], \"histogram2d\": [{\"colorbar\": {\"outlinewidth\": 0, \"ticks\": \"\"}, \"colorscale\": [[0.0, \"#0d0887\"], [0.1111111111111111, \"#46039f\"], [0.2222222222222222, \"#7201a8\"], [0.3333333333333333, \"#9c179e\"], [0.4444444444444444, \"#bd3786\"], [0.5555555555555556, \"#d8576b\"], [0.6666666666666666, \"#ed7953\"], [0.7777777777777778, \"#fb9f3a\"], [0.8888888888888888, \"#fdca26\"], [1.0, \"#f0f921\"]], \"type\": \"histogram2d\"}], \"histogram2dcontour\": [{\"colorbar\": {\"outlinewidth\": 0, \"ticks\": \"\"}, \"colorscale\": [[0.0, \"#0d0887\"], [0.1111111111111111, \"#46039f\"], [0.2222222222222222, \"#7201a8\"], [0.3333333333333333, \"#9c179e\"], [0.4444444444444444, \"#bd3786\"], [0.5555555555555556, \"#d8576b\"], [0.6666666666666666, \"#ed7953\"], [0.7777777777777778, \"#fb9f3a\"], [0.8888888888888888, \"#fdca26\"], [1.0, \"#f0f921\"]], \"type\": \"histogram2dcontour\"}], \"mesh3d\": [{\"colorbar\": {\"outlinewidth\": 0, \"ticks\": \"\"}, \"type\": \"mesh3d\"}], \"parcoords\": [{\"line\": {\"colorbar\": {\"outlinewidth\": 0, \"ticks\": \"\"}}, \"type\": \"parcoords\"}], \"pie\": [{\"automargin\": true, \"type\": \"pie\"}], \"scatter\": [{\"marker\": {\"colorbar\": {\"outlinewidth\": 0, \"ticks\": \"\"}}, \"type\": \"scatter\"}], \"scatter3d\": [{\"line\": {\"colorbar\": {\"outlinewidth\": 0, \"ticks\": \"\"}}, \"marker\": {\"colorbar\": {\"outlinewidth\": 0, \"ticks\": \"\"}}, \"type\": \"scatter3d\"}], \"scattercarpet\": [{\"marker\": {\"colorbar\": {\"outlinewidth\": 0, \"ticks\": \"\"}}, \"type\": \"scattercarpet\"}], \"scattergeo\": [{\"marker\": {\"colorbar\": {\"outlinewidth\": 0, \"ticks\": \"\"}}, \"type\": \"scattergeo\"}], \"scattergl\": [{\"marker\": {\"colorbar\": {\"outlinewidth\": 0, \"ticks\": \"\"}}, \"type\": \"scattergl\"}], \"scattermapbox\": [{\"marker\": {\"colorbar\": {\"outlinewidth\": 0, \"ticks\": \"\"}}, \"type\": \"scattermapbox\"}], \"scatterpolar\": [{\"marker\": {\"colorbar\": {\"outlinewidth\": 0, \"ticks\": \"\"}}, \"type\": \"scatterpolar\"}], \"scatterpolargl\": [{\"marker\": {\"colorbar\": {\"outlinewidth\": 0, \"ticks\": \"\"}}, \"type\": \"scatterpolargl\"}], \"scatterternary\": [{\"marker\": {\"colorbar\": {\"outlinewidth\": 0, \"ticks\": \"\"}}, \"type\": \"scatterternary\"}], \"surface\": [{\"colorbar\": {\"outlinewidth\": 0, \"ticks\": \"\"}, \"colorscale\": [[0.0, \"#0d0887\"], [0.1111111111111111, \"#46039f\"], [0.2222222222222222, \"#7201a8\"], [0.3333333333333333, \"#9c179e\"], [0.4444444444444444, \"#bd3786\"], [0.5555555555555556, \"#d8576b\"], [0.6666666666666666, \"#ed7953\"], [0.7777777777777778, \"#fb9f3a\"], [0.8888888888888888, \"#fdca26\"], [1.0, \"#f0f921\"]], \"type\": \"surface\"}], \"table\": [{\"cells\": {\"fill\": {\"color\": \"#EBF0F8\"}, \"line\": {\"color\": \"white\"}}, \"header\": {\"fill\": {\"color\": \"#C8D4E3\"}, \"line\": {\"color\": \"white\"}}, \"type\": \"table\"}]}, \"layout\": {\"annotationdefaults\": {\"arrowcolor\": \"#2a3f5f\", \"arrowhead\": 0, \"arrowwidth\": 1}, \"coloraxis\": {\"colorbar\": {\"outlinewidth\": 0, \"ticks\": \"\"}}, \"colorscale\": {\"diverging\": [[0, \"#8e0152\"], [0.1, \"#c51b7d\"], [0.2, \"#de77ae\"], [0.3, \"#f1b6da\"], [0.4, \"#fde0ef\"], [0.5, \"#f7f7f7\"], [0.6, \"#e6f5d0\"], [0.7, \"#b8e186\"], [0.8, \"#7fbc41\"], [0.9, \"#4d9221\"], [1, \"#276419\"]], \"sequential\": [[0.0, \"#0d0887\"], [0.1111111111111111, \"#46039f\"], [0.2222222222222222, \"#7201a8\"], [0.3333333333333333, \"#9c179e\"], [0.4444444444444444, \"#bd3786\"], [0.5555555555555556, \"#d8576b\"], [0.6666666666666666, \"#ed7953\"], [0.7777777777777778, \"#fb9f3a\"], [0.8888888888888888, \"#fdca26\"], [1.0, \"#f0f921\"]], \"sequentialminus\": [[0.0, \"#0d0887\"], [0.1111111111111111, \"#46039f\"], [0.2222222222222222, \"#7201a8\"], [0.3333333333333333, \"#9c179e\"], [0.4444444444444444, \"#bd3786\"], [0.5555555555555556, \"#d8576b\"], [0.6666666666666666, \"#ed7953\"], [0.7777777777777778, \"#fb9f3a\"], [0.8888888888888888, \"#fdca26\"], [1.0, \"#f0f921\"]]}, \"colorway\": [\"#636efa\", \"#EF553B\", \"#00cc96\", \"#ab63fa\", \"#FFA15A\", \"#19d3f3\", \"#FF6692\", \"#B6E880\", \"#FF97FF\", \"#FECB52\"], \"font\": {\"color\": \"#2a3f5f\"}, \"geo\": {\"bgcolor\": \"white\", \"lakecolor\": \"white\", \"landcolor\": \"#E5ECF6\", \"showlakes\": true, \"showland\": true, \"subunitcolor\": \"white\"}, \"hoverlabel\": {\"align\": \"left\"}, \"hovermode\": \"closest\", \"mapbox\": {\"style\": \"light\"}, \"paper_bgcolor\": \"white\", \"plot_bgcolor\": \"#E5ECF6\", \"polar\": {\"angularaxis\": {\"gridcolor\": \"white\", \"linecolor\": \"white\", \"ticks\": \"\"}, \"bgcolor\": \"#E5ECF6\", \"radialaxis\": {\"gridcolor\": \"white\", \"linecolor\": \"white\", \"ticks\": \"\"}}, \"scene\": {\"xaxis\": {\"backgroundcolor\": \"#E5ECF6\", \"gridcolor\": \"white\", \"gridwidth\": 2, \"linecolor\": \"white\", \"showbackground\": true, \"ticks\": \"\", \"zerolinecolor\": \"white\"}, \"yaxis\": {\"backgroundcolor\": \"#E5ECF6\", \"gridcolor\": \"white\", \"gridwidth\": 2, \"linecolor\": \"white\", \"showbackground\": true, \"ticks\": \"\", \"zerolinecolor\": \"white\"}, \"zaxis\": {\"backgroundcolor\": \"#E5ECF6\", \"gridcolor\": \"white\", \"gridwidth\": 2, \"linecolor\": \"white\", \"showbackground\": true, \"ticks\": \"\", \"zerolinecolor\": \"white\"}}, \"shapedefaults\": {\"line\": {\"color\": \"#2a3f5f\"}}, \"ternary\": {\"aaxis\": {\"gridcolor\": \"white\", \"linecolor\": \"white\", \"ticks\": \"\"}, \"baxis\": {\"gridcolor\": \"white\", \"linecolor\": \"white\", \"ticks\": \"\"}, \"bgcolor\": \"#E5ECF6\", \"caxis\": {\"gridcolor\": \"white\", \"linecolor\": \"white\", \"ticks\": \"\"}}, \"title\": {\"x\": 0.05}, \"xaxis\": {\"automargin\": true, \"gridcolor\": \"white\", \"linecolor\": \"white\", \"ticks\": \"\", \"title\": {\"standoff\": 15}, \"zerolinecolor\": \"white\", \"zerolinewidth\": 2}, \"yaxis\": {\"automargin\": true, \"gridcolor\": \"white\", \"linecolor\": \"white\", \"ticks\": \"\", \"title\": {\"standoff\": 15}, \"zerolinecolor\": \"white\", \"zerolinewidth\": 2}}}, \"title\": {\"text\": \"Component plots\"}, \"xaxis\": {\"anchor\": \"y\", \"domain\": [0.0, 1.0], \"mirror\": true, \"showline\": true, \"title\": {\"text\": \"ts\"}}, \"xaxis2\": {\"anchor\": \"y2\", \"domain\": [0.0, 1.0], \"mirror\": true, \"showline\": true, \"title\": {\"text\": \"ts\"}}, \"xaxis3\": {\"anchor\": \"y3\", \"domain\": [0.0, 1.0], \"mirror\": true, \"showline\": true, \"title\": {\"text\": \"Day of week\"}}, \"xaxis4\": {\"anchor\": \"y4\", \"domain\": [0.0, 1.0], \"mirror\": true, \"showline\": true, \"title\": {\"text\": \"Time of quarter\"}}, \"xaxis5\": {\"anchor\": \"y5\", \"domain\": [0.0, 1.0], \"mirror\": true, \"showline\": true, \"title\": {\"text\": \"ts\"}}, \"yaxis\": {\"anchor\": \"x\", \"domain\": [0.8559999999999999, 0.9999999999999999], \"mirror\": true, \"showline\": true, \"title\": {\"text\": \"y\"}}, \"yaxis2\": {\"anchor\": \"x2\", \"domain\": [0.6419999999999999, 0.7859999999999999], \"mirror\": true, \"showline\": true, \"title\": {\"text\": \"trend\"}}, \"yaxis3\": {\"anchor\": \"x3\", \"domain\": [0.42799999999999994, 0.572], \"mirror\": true, \"showline\": true, \"title\": {\"text\": \"weekly\"}}, \"yaxis4\": {\"anchor\": \"x4\", \"domain\": [0.21399999999999997, 0.358], \"mirror\": true, \"showline\": true, \"title\": {\"text\": \"quarterly\"}}, \"yaxis5\": {\"anchor\": \"x5\", \"domain\": [0.0, 0.144], \"mirror\": true, \"showline\": true, \"title\": {\"text\": \"events\"}}},                        {\"responsive\": true}                    ).then(function(){\n",
       "                            \n",
       "var gd = document.getElementById('df7b5635-be92-4517-bc38-e02a8f1fa845');\n",
       "var x = new MutationObserver(function (mutations, observer) {{\n",
       "        var display = window.getComputedStyle(gd).display;\n",
       "        if (!display || display === 'none') {{\n",
       "            console.log([gd, 'removed!']);\n",
       "            Plotly.purge(gd);\n",
       "            observer.disconnect();\n",
       "        }}\n",
       "}});\n",
       "\n",
       "// Listen for the removal of the full notebook cells\n",
       "var notebookContainer = gd.closest('#notebook-container');\n",
       "if (notebookContainer) {{\n",
       "    x.observe(notebookContainer, {childList: true});\n",
       "}}\n",
       "\n",
       "// Listen for the clearing of the current output cell\n",
       "var outputEl = gd.closest('.output');\n",
       "if (outputEl) {{\n",
       "    x.observe(outputEl, {childList: true});\n",
       "}}\n",
       "\n",
       "                        })                };                });            </script>        </div>"
      ]
     },
     "metadata": {},
     "output_type": "display_data"
    }
   ],
   "source": [
    "from plotly.offline import init_notebook_mode, iplot\n",
    "init_notebook_mode(connected=True)\n",
    "\n",
    "fig = backtest.plot_components()\n",
    "iplot(fig)  # fig.show() if you are using \"PROPHET\" template"
   ]
  },
  {
   "cell_type": "code",
   "execution_count": 142,
   "metadata": {},
   "outputs": [
    {
     "data": {
      "application/vnd.plotly.v1+json": {
       "config": {
        "linkText": "Export to plot.ly",
        "plotlyServerURL": "https://plot.ly",
        "showLink": false
       },
       "data": [
        {
         "legendgroup": "interval",
         "line": {
          "color": "rgba(0, 90, 181, 0.5)",
          "width": 0
         },
         "mode": "lines",
         "name": "Lower Bound",
         "type": "scatter",
         "x": [
          "2020-04-01T00:00:00",
          "2020-04-02T00:00:00",
          "2020-04-03T00:00:00",
          "2020-04-04T00:00:00",
          "2020-04-05T00:00:00",
          "2020-04-06T00:00:00",
          "2020-04-07T00:00:00",
          "2020-04-08T00:00:00",
          "2020-04-09T00:00:00",
          "2020-04-10T00:00:00",
          "2020-04-11T00:00:00",
          "2020-04-12T00:00:00",
          "2020-04-13T00:00:00",
          "2020-04-14T00:00:00",
          "2020-04-15T00:00:00",
          "2020-04-16T00:00:00",
          "2020-04-17T00:00:00",
          "2020-04-18T00:00:00",
          "2020-04-19T00:00:00",
          "2020-04-20T00:00:00",
          "2020-04-21T00:00:00",
          "2020-04-22T00:00:00",
          "2020-04-23T00:00:00",
          "2020-04-24T00:00:00",
          "2020-04-25T00:00:00",
          "2020-04-26T00:00:00",
          "2020-04-27T00:00:00",
          "2020-04-28T00:00:00",
          "2020-04-29T00:00:00",
          "2020-04-30T00:00:00",
          "2020-05-01T00:00:00",
          "2020-05-02T00:00:00",
          "2020-05-03T00:00:00",
          "2020-05-04T00:00:00",
          "2020-05-05T00:00:00",
          "2020-05-06T00:00:00",
          "2020-05-07T00:00:00",
          "2020-05-08T00:00:00",
          "2020-05-09T00:00:00",
          "2020-05-10T00:00:00",
          "2020-05-11T00:00:00",
          "2020-05-12T00:00:00",
          "2020-05-13T00:00:00",
          "2020-05-14T00:00:00",
          "2020-05-15T00:00:00",
          "2020-05-16T00:00:00",
          "2020-05-17T00:00:00",
          "2020-05-18T00:00:00",
          "2020-05-19T00:00:00",
          "2020-05-20T00:00:00",
          "2020-05-21T00:00:00",
          "2020-05-22T00:00:00",
          "2020-05-23T00:00:00",
          "2020-05-24T00:00:00",
          "2020-05-25T00:00:00",
          "2020-05-26T00:00:00",
          "2020-05-27T00:00:00",
          "2020-05-28T00:00:00",
          "2020-05-29T00:00:00",
          "2020-05-30T00:00:00",
          "2020-05-31T00:00:00",
          "2020-06-01T00:00:00",
          "2020-06-02T00:00:00",
          "2020-06-03T00:00:00",
          "2020-06-04T00:00:00",
          "2020-06-05T00:00:00",
          "2020-06-06T00:00:00",
          "2020-06-07T00:00:00",
          "2020-06-08T00:00:00",
          "2020-06-09T00:00:00",
          "2020-06-10T00:00:00",
          "2020-06-11T00:00:00",
          "2020-06-12T00:00:00",
          "2020-06-13T00:00:00",
          "2020-06-14T00:00:00",
          "2020-06-15T00:00:00",
          "2020-06-16T00:00:00",
          "2020-06-17T00:00:00",
          "2020-06-18T00:00:00",
          "2020-06-19T00:00:00",
          "2020-06-20T00:00:00",
          "2020-06-21T00:00:00",
          "2020-06-22T00:00:00",
          "2020-06-23T00:00:00",
          "2020-06-24T00:00:00",
          "2020-06-25T00:00:00",
          "2020-06-26T00:00:00",
          "2020-06-27T00:00:00",
          "2020-06-28T00:00:00",
          "2020-06-29T00:00:00",
          "2020-06-30T00:00:00",
          "2020-07-01T00:00:00",
          "2020-07-02T00:00:00",
          "2020-07-03T00:00:00",
          "2020-07-04T00:00:00",
          "2020-07-05T00:00:00",
          "2020-07-06T00:00:00",
          "2020-07-07T00:00:00",
          "2020-07-08T00:00:00",
          "2020-07-09T00:00:00",
          "2020-07-10T00:00:00",
          "2020-07-11T00:00:00",
          "2020-07-12T00:00:00",
          "2020-07-13T00:00:00",
          "2020-07-14T00:00:00",
          "2020-07-15T00:00:00",
          "2020-07-16T00:00:00",
          "2020-07-17T00:00:00",
          "2020-07-18T00:00:00",
          "2020-07-19T00:00:00",
          "2020-07-20T00:00:00",
          "2020-07-21T00:00:00",
          "2020-07-22T00:00:00",
          "2020-07-23T00:00:00",
          "2020-07-24T00:00:00",
          "2020-07-25T00:00:00",
          "2020-07-26T00:00:00",
          "2020-07-27T00:00:00",
          "2020-07-28T00:00:00",
          "2020-07-29T00:00:00",
          "2020-07-30T00:00:00",
          "2020-07-31T00:00:00",
          "2020-08-01T00:00:00",
          "2020-08-02T00:00:00",
          "2020-08-03T00:00:00",
          "2020-08-04T00:00:00",
          "2020-08-05T00:00:00",
          "2020-08-06T00:00:00",
          "2020-08-07T00:00:00",
          "2020-08-08T00:00:00",
          "2020-08-09T00:00:00",
          "2020-08-10T00:00:00",
          "2020-08-11T00:00:00",
          "2020-08-12T00:00:00",
          "2020-08-13T00:00:00",
          "2020-08-14T00:00:00",
          "2020-08-15T00:00:00",
          "2020-08-16T00:00:00",
          "2020-08-17T00:00:00",
          "2020-08-18T00:00:00",
          "2020-08-19T00:00:00",
          "2020-08-20T00:00:00",
          "2020-08-21T00:00:00",
          "2020-08-22T00:00:00",
          "2020-08-23T00:00:00",
          "2020-08-24T00:00:00",
          "2020-08-25T00:00:00",
          "2020-08-26T00:00:00",
          "2020-08-27T00:00:00",
          "2020-08-28T00:00:00",
          "2020-08-29T00:00:00",
          "2020-08-30T00:00:00",
          "2020-08-31T00:00:00",
          "2020-09-01T00:00:00",
          "2020-09-02T00:00:00",
          "2020-09-03T00:00:00",
          "2020-09-04T00:00:00",
          "2020-09-05T00:00:00",
          "2020-09-06T00:00:00",
          "2020-09-07T00:00:00",
          "2020-09-08T00:00:00",
          "2020-09-09T00:00:00",
          "2020-09-10T00:00:00",
          "2020-09-11T00:00:00",
          "2020-09-12T00:00:00",
          "2020-09-13T00:00:00",
          "2020-09-14T00:00:00",
          "2020-09-15T00:00:00",
          "2020-09-16T00:00:00",
          "2020-09-17T00:00:00",
          "2020-09-18T00:00:00",
          "2020-09-19T00:00:00",
          "2020-09-20T00:00:00",
          "2020-09-21T00:00:00",
          "2020-09-22T00:00:00",
          "2020-09-23T00:00:00",
          "2020-09-24T00:00:00",
          "2020-09-25T00:00:00",
          "2020-09-26T00:00:00",
          "2020-09-27T00:00:00",
          "2020-09-28T00:00:00",
          "2020-09-29T00:00:00",
          "2020-09-30T00:00:00",
          "2020-10-01T00:00:00",
          "2020-10-02T00:00:00",
          "2020-10-03T00:00:00",
          "2020-10-04T00:00:00",
          "2020-10-05T00:00:00",
          "2020-10-06T00:00:00",
          "2020-10-07T00:00:00",
          "2020-10-08T00:00:00",
          "2020-10-09T00:00:00",
          "2020-10-10T00:00:00",
          "2020-10-11T00:00:00",
          "2020-10-12T00:00:00",
          "2020-10-13T00:00:00",
          "2020-10-14T00:00:00",
          "2020-10-15T00:00:00",
          "2020-10-16T00:00:00",
          "2020-10-17T00:00:00",
          "2020-10-18T00:00:00",
          "2020-10-19T00:00:00",
          "2020-10-20T00:00:00",
          "2020-10-21T00:00:00",
          "2020-10-22T00:00:00",
          "2020-10-23T00:00:00",
          "2020-10-24T00:00:00",
          "2020-10-25T00:00:00",
          "2020-10-26T00:00:00",
          "2020-10-27T00:00:00",
          "2020-10-28T00:00:00",
          "2020-10-29T00:00:00",
          "2020-10-30T00:00:00",
          "2020-10-31T00:00:00",
          "2020-11-01T00:00:00",
          "2020-11-02T00:00:00",
          "2020-11-03T00:00:00",
          "2020-11-04T00:00:00",
          "2020-11-05T00:00:00",
          "2020-11-06T00:00:00",
          "2020-11-07T00:00:00",
          "2020-11-08T00:00:00",
          "2020-11-09T00:00:00",
          "2020-11-10T00:00:00",
          "2020-11-11T00:00:00",
          "2020-11-12T00:00:00",
          "2020-11-13T00:00:00",
          "2020-11-14T00:00:00",
          "2020-11-15T00:00:00",
          "2020-11-16T00:00:00",
          "2020-11-17T00:00:00",
          "2020-11-18T00:00:00",
          "2020-11-19T00:00:00",
          "2020-11-20T00:00:00",
          "2020-11-21T00:00:00",
          "2020-11-22T00:00:00",
          "2020-11-23T00:00:00",
          "2020-11-24T00:00:00",
          "2020-11-25T00:00:00",
          "2020-11-26T00:00:00",
          "2020-11-27T00:00:00",
          "2020-11-28T00:00:00",
          "2020-11-29T00:00:00",
          "2020-11-30T00:00:00",
          "2020-12-01T00:00:00",
          "2020-12-02T00:00:00",
          "2020-12-03T00:00:00",
          "2020-12-04T00:00:00",
          "2020-12-05T00:00:00",
          "2020-12-06T00:00:00",
          "2020-12-07T00:00:00",
          "2020-12-08T00:00:00",
          "2020-12-09T00:00:00",
          "2020-12-10T00:00:00",
          "2020-12-11T00:00:00",
          "2020-12-12T00:00:00",
          "2020-12-13T00:00:00",
          "2020-12-14T00:00:00",
          "2020-12-15T00:00:00",
          "2020-12-16T00:00:00",
          "2020-12-17T00:00:00",
          "2020-12-18T00:00:00",
          "2020-12-19T00:00:00",
          "2020-12-20T00:00:00",
          "2020-12-21T00:00:00",
          "2020-12-22T00:00:00",
          "2020-12-23T00:00:00",
          "2020-12-24T00:00:00",
          "2020-12-25T00:00:00",
          "2020-12-26T00:00:00",
          "2020-12-27T00:00:00",
          "2020-12-28T00:00:00",
          "2020-12-29T00:00:00",
          "2020-12-30T00:00:00",
          "2020-12-31T00:00:00",
          "2021-01-01T00:00:00",
          "2021-01-02T00:00:00",
          "2021-01-03T00:00:00",
          "2021-01-04T00:00:00",
          "2021-01-05T00:00:00",
          "2021-01-06T00:00:00",
          "2021-01-07T00:00:00",
          "2021-01-08T00:00:00",
          "2021-01-09T00:00:00",
          "2021-01-10T00:00:00",
          "2021-01-11T00:00:00",
          "2021-01-12T00:00:00",
          "2021-01-13T00:00:00",
          "2021-01-14T00:00:00",
          "2021-01-15T00:00:00",
          "2021-01-16T00:00:00",
          "2021-01-17T00:00:00",
          "2021-01-18T00:00:00",
          "2021-01-19T00:00:00",
          "2021-01-20T00:00:00",
          "2021-01-21T00:00:00",
          "2021-01-22T00:00:00",
          "2021-01-23T00:00:00",
          "2021-01-24T00:00:00",
          "2021-01-25T00:00:00",
          "2021-01-26T00:00:00",
          "2021-01-27T00:00:00",
          "2021-01-28T00:00:00",
          "2021-01-29T00:00:00",
          "2021-01-30T00:00:00",
          "2021-01-31T00:00:00",
          "2021-02-01T00:00:00",
          "2021-02-02T00:00:00",
          "2021-02-03T00:00:00",
          "2021-02-04T00:00:00",
          "2021-02-05T00:00:00",
          "2021-02-06T00:00:00",
          "2021-02-07T00:00:00",
          "2021-02-08T00:00:00",
          "2021-02-09T00:00:00",
          "2021-02-10T00:00:00",
          "2021-02-11T00:00:00",
          "2021-02-12T00:00:00",
          "2021-02-13T00:00:00",
          "2021-02-14T00:00:00",
          "2021-02-15T00:00:00",
          "2021-02-16T00:00:00",
          "2021-02-17T00:00:00",
          "2021-02-18T00:00:00",
          "2021-02-19T00:00:00",
          "2021-02-20T00:00:00",
          "2021-02-21T00:00:00",
          "2021-02-22T00:00:00",
          "2021-02-23T00:00:00",
          "2021-02-24T00:00:00",
          "2021-02-25T00:00:00",
          "2021-02-26T00:00:00",
          "2021-02-27T00:00:00",
          "2021-02-28T00:00:00",
          "2021-03-01T00:00:00",
          "2021-03-02T00:00:00",
          "2021-03-03T00:00:00",
          "2021-03-04T00:00:00",
          "2021-03-05T00:00:00",
          "2021-03-06T00:00:00",
          "2021-03-07T00:00:00",
          "2021-03-08T00:00:00",
          "2021-03-09T00:00:00",
          "2021-03-10T00:00:00",
          "2021-03-11T00:00:00",
          "2021-03-12T00:00:00",
          "2021-03-13T00:00:00",
          "2021-03-14T00:00:00",
          "2021-03-15T00:00:00",
          "2021-03-16T00:00:00",
          "2021-03-17T00:00:00",
          "2021-03-18T00:00:00",
          "2021-03-19T00:00:00",
          "2021-03-20T00:00:00",
          "2021-03-21T00:00:00",
          "2021-03-22T00:00:00",
          "2021-03-23T00:00:00",
          "2021-03-24T00:00:00",
          "2021-03-25T00:00:00",
          "2021-03-26T00:00:00",
          "2021-03-27T00:00:00",
          "2021-03-28T00:00:00",
          "2021-03-29T00:00:00",
          "2021-03-30T00:00:00",
          "2021-03-31T00:00:00",
          "2021-04-01T00:00:00",
          "2021-04-02T00:00:00",
          "2021-04-03T00:00:00",
          "2021-04-04T00:00:00",
          "2021-04-05T00:00:00",
          "2021-04-06T00:00:00",
          "2021-04-07T00:00:00",
          "2021-04-08T00:00:00",
          "2021-04-09T00:00:00",
          "2021-04-10T00:00:00",
          "2021-04-11T00:00:00",
          "2021-04-12T00:00:00",
          "2021-04-13T00:00:00",
          "2021-04-14T00:00:00",
          "2021-04-15T00:00:00",
          "2021-04-16T00:00:00",
          "2021-04-17T00:00:00",
          "2021-04-18T00:00:00",
          "2021-04-19T00:00:00",
          "2021-04-20T00:00:00",
          "2021-04-21T00:00:00",
          "2021-04-22T00:00:00",
          "2021-04-23T00:00:00",
          "2021-04-24T00:00:00",
          "2021-04-25T00:00:00",
          "2021-04-26T00:00:00",
          "2021-04-27T00:00:00",
          "2021-04-28T00:00:00",
          "2021-04-29T00:00:00",
          "2021-04-30T00:00:00"
         ],
         "y": [
          -3837001.101978433,
          -740924.9217644006,
          -196928.19143714313,
          -363628.2236762084,
          -334716.1173088384,
          -687885.0354403913,
          106389.04319006193,
          -3848043.324089333,
          -754277.2487351915,
          -208367.9579591581,
          -371395.65385258,
          -340680.89053854265,
          -692149.5174129843,
          104181.92966077814,
          -3848877.7547687907,
          -751451.4365524265,
          -206344.0146802389,
          -369263.36941484874,
          -337444.27877169545,
          -688846.8724839559,
          106397.27692816581,
          -3847374.6602572366,
          -751401.5673976181,
          -207221.425254266,
          -370774.80790954956,
          -339173.4104778707,
          -690321.9122094675,
          105534.7226610292,
          -3846394.875564007,
          -749335.5323638195,
          -205919.91179063986,
          -367676.2833088784,
          -335131.3138435257,
          -686801.6206811529,
          108864.03033642052,
          -3843611.746981727,
          -747448.5179503309,
          -205125.7978924811,
          -368134.80458734103,
          -337796.3104774988,
          -689121.411719125,
          106136.77795302006,
          -3847292.6448923703,
          -750923.1954323956,
          -206140.57584832865,
          -369093.450181109,
          -336877.43365981826,
          -687397.5049766995,
          109765.95166148711,
          -3842912.7058533006,
          -748189.1076342269,
          -201921.88957785582,
          -365419.7093450859,
          -335711.04550849146,
          -688441.3000938415,
          106459.86785354605,
          -3848103.012878697,
          -752318.0918313328,
          -207450.42917467048,
          -369987.1725113648,
          -339633.888800342,
          -690650.4387508681,
          106540.15886249102,
          -3845316.2961420063,
          -746768.0027453917,
          -200190.0713826362,
          -361608.5272828877,
          -328092.9956717482,
          -677511.3213037124,
          119335.29245548788,
          -3833248.359423016,
          -737129.4893547556,
          -193344.08588570857,
          -358054.15939276386,
          -327982.74609554093,
          -680637.7393193727,
          113417.90887870465,
          -3841230.3109601066,
          -746333.5204116559,
          -202752.1639066632,
          -366689.7465818438,
          -334936.7638945192,
          -685167.7137947652,
          112680.30859699729,
          -3838879.9000031906,
          -743062.7970691724,
          -196425.60500295868,
          -359767.8974579574,
          -327225.73096603283,
          -677932.3233426033,
          117531.86296272743,
          -3835415.048475242,
          -740586.5042664369,
          -199687.2512961505,
          -364392.9477672193,
          -335732.37020646967,
          -688133.6174689442,
          106007.65206374461,
          -3848419.893049391,
          -753421.751271339,
          -208736.57771227357,
          -372524.19227502716,
          -341603.1086695051,
          -690832.1325608409,
          103264.6086407688,
          -3847666.227441862,
          -751701.1665719076,
          -206475.43891681987,
          -369898.9848178853,
          -338277.112618556,
          -689090.686010636,
          106594.25663198484,
          -3846673.274877731,
          -751099.4884740752,
          -207190.53767962218,
          -371315.1630414666,
          -339999.7153227794,
          -690656.8734293658,
          105548.75489197555,
          -3846896.5421766173,
          -750392.5929769962,
          -205508.63419014087,
          -367821.3008247673,
          -335716.8108898541,
          -687734.1727918007,
          109359.22808474163,
          -3844256.861517436,
          -748236.9023008116,
          -204409.65394776245,
          -368870.34419053956,
          -338038.3565831649,
          -689205.2725557353,
          106390.54474377783,
          -3846649.101463166,
          -749874.5247605261,
          -205306.20632346778,
          -370558.9898758844,
          -337750.44141417975,
          -688401.9859833898,
          108638.15063461557,
          -3843637.7476404696,
          -747485.2322330247,
          -203232.61814971396,
          -367485.1735134026,
          -336643.1733610133,
          -687961.5850059713,
          107180.71385881805,
          -3846535.1487085386,
          -750663.4312062026,
          -207036.0884296171,
          -372235.1264603981,
          -339779.14150892745,
          -692259.7211795002,
          106095.34227676212,
          -3845919.310494818,
          -747018.1900120884,
          -200642.96694750432,
          -364319.74937869224,
          -329044.6927631366,
          -678262.4368350247,
          118051.69169759215,
          -3831538.0837165485,
          -737200.8133698304,
          -192875.86453889392,
          -357736.5461072355,
          -327610.5457789714,
          -679550.4010427843,
          114935.39184000297,
          -3839352.8207462644,
          -745116.6135159365,
          -202155.59736058104,
          -367063.31871348724,
          -336001.6688510468,
          -686109.2702723412,
          110825.88175746507,
          -3840650.185225666,
          -743618.829337174,
          -198108.63284277008,
          -361025.4393759675,
          -328707.783655794,
          -678397.9855126422,
          118968.80330631172,
          -3832797.347705031,
          -739551.8555373378,
          -197575.12618873,
          -363344.55415397685,
          -334424.1989476846,
          -686410.6241821668,
          107878.64965119364,
          -3846387.7921687625,
          -752190.9871591819,
          -209164.1308941167,
          -373106.3632454963,
          -341893.2407668034,
          -693677.1745285229,
          104022.93678593519,
          -3848529.3017917736,
          -751848.6643817425,
          -207110.23419254308,
          -370886.6165242309,
          -339286.33967148664,
          -689337.8491632022,
          106934.44079371146,
          -3845726.9548693746,
          -750506.5203671148,
          -206881.33958171145,
          -371643.10736122145,
          -340720.824256893,
          -691018.3047915478,
          106370.68204026308,
          -3845596.529213027,
          -751325.2807901887,
          -204842.73044827487,
          -368245.6504212223,
          -337642.0570441203,
          -688016.2146076264,
          108945.08369623497,
          -3843621.0655703354,
          -747799.2106418413,
          -204058.22489330638,
          -368945.00777773815,
          -338312.61812961637,
          -688016.6439312513,
          108038.23239805852,
          -3846424.40050467,
          -749242.6503893556,
          -205662.5820174045,
          -371506.72692171135,
          -339022.07976775186,
          -689262.175564046,
          108150.8074420453,
          -3843534.5954044494,
          -747595.2958890392,
          -203346.026310378,
          -367850.7561280662,
          -336964.0601761297,
          -687493.1745262706,
          108209.17830511113,
          -3844971.0451155086,
          -750533.699390121,
          -207520.56970522518,
          -371897.95797266054,
          -341000.2732582693,
          -692670.4912037749,
          105250.61650482868,
          -3846736.48591602,
          -749585.9623784085,
          -203889.63781279407,
          -366482.7001050168,
          -333248.62879601086,
          -681090.2197959815,
          117299.88807496638,
          -3833400.518779835,
          -737068.198842826,
          -192767.76692990016,
          -357618.17873981106,
          -327270.3518554381,
          -678334.1057165954,
          116724.69717586436,
          -3837088.8887367668,
          -743434.6717540198,
          -201056.35056300706,
          -366939.3036356864,
          -336615.43082351494,
          -686683.0817127931,
          110197.07437309506,
          -3840198.8169017234,
          -742433.656133841,
          -198920.07540203386,
          -362197.6559089724,
          -329439.52020674164,
          -679293.3323821311,
          119458.6837306585,
          -3833870.8457778017,
          -736560.4275203174,
          -195893.35447984305,
          -361522.9942835823,
          -331904.32547659625,
          -685719.2796606414,
          110160.43008570315,
          -3844593.057361321,
          -750772.4349591486,
          -208376.04180316476,
          -374208.64945405093,
          -343751.17386293574,
          -693572.0439479698,
          103383.7543760665,
          -3848067.227791278,
          -752169.8071708033,
          -207637.86551883083,
          -370874.90902862407,
          -339206.3975464653,
          -690266.8666564233,
          107487.63455508556,
          -3845325.4638020666,
          -750100.20250237,
          -206721.71812155854,
          -372054.00346090726,
          -340463.27154454205,
          -690128.5862799116,
          104904.3493177587,
          -3845881.4939168515,
          -751102.4763511444,
          -206469.62695753458,
          -370816.77354822704,
          -339241.5522470169,
          -688260.398811868,
          108956.62996343756,
          -3842683.473153332,
          -747563.1808001888,
          -204037.1826351214,
          -369438.89240866096,
          -339039.73012777977,
          -689162.3313081787,
          107108.46970726002,
          -3845186.2460993235,
          -750354.3445427044,
          -206690.20621597406,
          -370584.7285356795,
          -339119.7031552,
          -689747.7612977434,
          108677.90702836297,
          -3843246.2037870847,
          -747355.9489467051,
          -203374.78368109965,
          -368445.26661953167,
          -337838.04381760664,
          -687868.6110596005,
          108200.4616088433,
          -3844531.2090826184,
          -750522.74424742,
          -207756.15342126042,
          -373558.75523372076,
          -343002.33904740016,
          -692280.1216448189,
          105275.09723591222,
          -3845307.2410879564,
          -748730.273200307,
          -203133.17128379398,
          -366156.31823505124,
          -333119.67705533863,
          -680452.5351193777,
          118218.09731683403,
          -3832206.7685604305,
          -736553.8591242537,
          -192827.8248795697,
          -358546.5733348089,
          -328743.4793812372,
          -678535.779735373,
          116936.5753755694,
          -3838148.089328929,
          -743885.0479856273,
          -202310.1857060201,
          -368090.7218405233,
          -337643.82984827936,
          -686766.613599878,
          110905.7751693402,
          -3839640.15386901,
          -743416.0901651444,
          -197416.69010239828,
          -361192.8242593751,
          -330998.5015682409,
          -678596.8503213015,
          118883.47477303038,
          -3832577.889303065,
          -740279.2970705396,
          -196170.2933471148,
          -362903.04445841827,
          -335321.3149244302,
          -687199.798219595,
          108069.34101829666,
          -3845591.1383772856,
          -751861.8497255306,
          -209324.83658320166,
          -375281.7565613643,
          -344672.8414177875,
          -693615.6876718607,
          103988.21983283991,
          -3846840.1017929493,
          -751312.1373758855,
          -207094.1637250384,
          -371970.2812952985,
          -340880.65986969555,
          -689875.3528296594,
          107169.56066316029,
          -3844559.7972275093,
          -750170.5551306516,
          -207064.03993907745,
          -372889.20697287493,
          -342410.5779099985,
          -691562.3951722932,
          105725.7952587487,
          -3845385.1055460866,
          -749221.8016831093,
          -205017.7502741263
         ]
        },
        {
         "fill": "tonexty",
         "fillcolor": "rgba(0, 90, 181, 0.15)",
         "legendgroup": "interval",
         "line": {
          "color": "rgba(0, 90, 181, 0.5)",
          "width": 0
         },
         "mode": "lines",
         "name": "Upper Bound",
         "type": "scatter",
         "x": [
          "2020-04-01T00:00:00",
          "2020-04-02T00:00:00",
          "2020-04-03T00:00:00",
          "2020-04-04T00:00:00",
          "2020-04-05T00:00:00",
          "2020-04-06T00:00:00",
          "2020-04-07T00:00:00",
          "2020-04-08T00:00:00",
          "2020-04-09T00:00:00",
          "2020-04-10T00:00:00",
          "2020-04-11T00:00:00",
          "2020-04-12T00:00:00",
          "2020-04-13T00:00:00",
          "2020-04-14T00:00:00",
          "2020-04-15T00:00:00",
          "2020-04-16T00:00:00",
          "2020-04-17T00:00:00",
          "2020-04-18T00:00:00",
          "2020-04-19T00:00:00",
          "2020-04-20T00:00:00",
          "2020-04-21T00:00:00",
          "2020-04-22T00:00:00",
          "2020-04-23T00:00:00",
          "2020-04-24T00:00:00",
          "2020-04-25T00:00:00",
          "2020-04-26T00:00:00",
          "2020-04-27T00:00:00",
          "2020-04-28T00:00:00",
          "2020-04-29T00:00:00",
          "2020-04-30T00:00:00",
          "2020-05-01T00:00:00",
          "2020-05-02T00:00:00",
          "2020-05-03T00:00:00",
          "2020-05-04T00:00:00",
          "2020-05-05T00:00:00",
          "2020-05-06T00:00:00",
          "2020-05-07T00:00:00",
          "2020-05-08T00:00:00",
          "2020-05-09T00:00:00",
          "2020-05-10T00:00:00",
          "2020-05-11T00:00:00",
          "2020-05-12T00:00:00",
          "2020-05-13T00:00:00",
          "2020-05-14T00:00:00",
          "2020-05-15T00:00:00",
          "2020-05-16T00:00:00",
          "2020-05-17T00:00:00",
          "2020-05-18T00:00:00",
          "2020-05-19T00:00:00",
          "2020-05-20T00:00:00",
          "2020-05-21T00:00:00",
          "2020-05-22T00:00:00",
          "2020-05-23T00:00:00",
          "2020-05-24T00:00:00",
          "2020-05-25T00:00:00",
          "2020-05-26T00:00:00",
          "2020-05-27T00:00:00",
          "2020-05-28T00:00:00",
          "2020-05-29T00:00:00",
          "2020-05-30T00:00:00",
          "2020-05-31T00:00:00",
          "2020-06-01T00:00:00",
          "2020-06-02T00:00:00",
          "2020-06-03T00:00:00",
          "2020-06-04T00:00:00",
          "2020-06-05T00:00:00",
          "2020-06-06T00:00:00",
          "2020-06-07T00:00:00",
          "2020-06-08T00:00:00",
          "2020-06-09T00:00:00",
          "2020-06-10T00:00:00",
          "2020-06-11T00:00:00",
          "2020-06-12T00:00:00",
          "2020-06-13T00:00:00",
          "2020-06-14T00:00:00",
          "2020-06-15T00:00:00",
          "2020-06-16T00:00:00",
          "2020-06-17T00:00:00",
          "2020-06-18T00:00:00",
          "2020-06-19T00:00:00",
          "2020-06-20T00:00:00",
          "2020-06-21T00:00:00",
          "2020-06-22T00:00:00",
          "2020-06-23T00:00:00",
          "2020-06-24T00:00:00",
          "2020-06-25T00:00:00",
          "2020-06-26T00:00:00",
          "2020-06-27T00:00:00",
          "2020-06-28T00:00:00",
          "2020-06-29T00:00:00",
          "2020-06-30T00:00:00",
          "2020-07-01T00:00:00",
          "2020-07-02T00:00:00",
          "2020-07-03T00:00:00",
          "2020-07-04T00:00:00",
          "2020-07-05T00:00:00",
          "2020-07-06T00:00:00",
          "2020-07-07T00:00:00",
          "2020-07-08T00:00:00",
          "2020-07-09T00:00:00",
          "2020-07-10T00:00:00",
          "2020-07-11T00:00:00",
          "2020-07-12T00:00:00",
          "2020-07-13T00:00:00",
          "2020-07-14T00:00:00",
          "2020-07-15T00:00:00",
          "2020-07-16T00:00:00",
          "2020-07-17T00:00:00",
          "2020-07-18T00:00:00",
          "2020-07-19T00:00:00",
          "2020-07-20T00:00:00",
          "2020-07-21T00:00:00",
          "2020-07-22T00:00:00",
          "2020-07-23T00:00:00",
          "2020-07-24T00:00:00",
          "2020-07-25T00:00:00",
          "2020-07-26T00:00:00",
          "2020-07-27T00:00:00",
          "2020-07-28T00:00:00",
          "2020-07-29T00:00:00",
          "2020-07-30T00:00:00",
          "2020-07-31T00:00:00",
          "2020-08-01T00:00:00",
          "2020-08-02T00:00:00",
          "2020-08-03T00:00:00",
          "2020-08-04T00:00:00",
          "2020-08-05T00:00:00",
          "2020-08-06T00:00:00",
          "2020-08-07T00:00:00",
          "2020-08-08T00:00:00",
          "2020-08-09T00:00:00",
          "2020-08-10T00:00:00",
          "2020-08-11T00:00:00",
          "2020-08-12T00:00:00",
          "2020-08-13T00:00:00",
          "2020-08-14T00:00:00",
          "2020-08-15T00:00:00",
          "2020-08-16T00:00:00",
          "2020-08-17T00:00:00",
          "2020-08-18T00:00:00",
          "2020-08-19T00:00:00",
          "2020-08-20T00:00:00",
          "2020-08-21T00:00:00",
          "2020-08-22T00:00:00",
          "2020-08-23T00:00:00",
          "2020-08-24T00:00:00",
          "2020-08-25T00:00:00",
          "2020-08-26T00:00:00",
          "2020-08-27T00:00:00",
          "2020-08-28T00:00:00",
          "2020-08-29T00:00:00",
          "2020-08-30T00:00:00",
          "2020-08-31T00:00:00",
          "2020-09-01T00:00:00",
          "2020-09-02T00:00:00",
          "2020-09-03T00:00:00",
          "2020-09-04T00:00:00",
          "2020-09-05T00:00:00",
          "2020-09-06T00:00:00",
          "2020-09-07T00:00:00",
          "2020-09-08T00:00:00",
          "2020-09-09T00:00:00",
          "2020-09-10T00:00:00",
          "2020-09-11T00:00:00",
          "2020-09-12T00:00:00",
          "2020-09-13T00:00:00",
          "2020-09-14T00:00:00",
          "2020-09-15T00:00:00",
          "2020-09-16T00:00:00",
          "2020-09-17T00:00:00",
          "2020-09-18T00:00:00",
          "2020-09-19T00:00:00",
          "2020-09-20T00:00:00",
          "2020-09-21T00:00:00",
          "2020-09-22T00:00:00",
          "2020-09-23T00:00:00",
          "2020-09-24T00:00:00",
          "2020-09-25T00:00:00",
          "2020-09-26T00:00:00",
          "2020-09-27T00:00:00",
          "2020-09-28T00:00:00",
          "2020-09-29T00:00:00",
          "2020-09-30T00:00:00",
          "2020-10-01T00:00:00",
          "2020-10-02T00:00:00",
          "2020-10-03T00:00:00",
          "2020-10-04T00:00:00",
          "2020-10-05T00:00:00",
          "2020-10-06T00:00:00",
          "2020-10-07T00:00:00",
          "2020-10-08T00:00:00",
          "2020-10-09T00:00:00",
          "2020-10-10T00:00:00",
          "2020-10-11T00:00:00",
          "2020-10-12T00:00:00",
          "2020-10-13T00:00:00",
          "2020-10-14T00:00:00",
          "2020-10-15T00:00:00",
          "2020-10-16T00:00:00",
          "2020-10-17T00:00:00",
          "2020-10-18T00:00:00",
          "2020-10-19T00:00:00",
          "2020-10-20T00:00:00",
          "2020-10-21T00:00:00",
          "2020-10-22T00:00:00",
          "2020-10-23T00:00:00",
          "2020-10-24T00:00:00",
          "2020-10-25T00:00:00",
          "2020-10-26T00:00:00",
          "2020-10-27T00:00:00",
          "2020-10-28T00:00:00",
          "2020-10-29T00:00:00",
          "2020-10-30T00:00:00",
          "2020-10-31T00:00:00",
          "2020-11-01T00:00:00",
          "2020-11-02T00:00:00",
          "2020-11-03T00:00:00",
          "2020-11-04T00:00:00",
          "2020-11-05T00:00:00",
          "2020-11-06T00:00:00",
          "2020-11-07T00:00:00",
          "2020-11-08T00:00:00",
          "2020-11-09T00:00:00",
          "2020-11-10T00:00:00",
          "2020-11-11T00:00:00",
          "2020-11-12T00:00:00",
          "2020-11-13T00:00:00",
          "2020-11-14T00:00:00",
          "2020-11-15T00:00:00",
          "2020-11-16T00:00:00",
          "2020-11-17T00:00:00",
          "2020-11-18T00:00:00",
          "2020-11-19T00:00:00",
          "2020-11-20T00:00:00",
          "2020-11-21T00:00:00",
          "2020-11-22T00:00:00",
          "2020-11-23T00:00:00",
          "2020-11-24T00:00:00",
          "2020-11-25T00:00:00",
          "2020-11-26T00:00:00",
          "2020-11-27T00:00:00",
          "2020-11-28T00:00:00",
          "2020-11-29T00:00:00",
          "2020-11-30T00:00:00",
          "2020-12-01T00:00:00",
          "2020-12-02T00:00:00",
          "2020-12-03T00:00:00",
          "2020-12-04T00:00:00",
          "2020-12-05T00:00:00",
          "2020-12-06T00:00:00",
          "2020-12-07T00:00:00",
          "2020-12-08T00:00:00",
          "2020-12-09T00:00:00",
          "2020-12-10T00:00:00",
          "2020-12-11T00:00:00",
          "2020-12-12T00:00:00",
          "2020-12-13T00:00:00",
          "2020-12-14T00:00:00",
          "2020-12-15T00:00:00",
          "2020-12-16T00:00:00",
          "2020-12-17T00:00:00",
          "2020-12-18T00:00:00",
          "2020-12-19T00:00:00",
          "2020-12-20T00:00:00",
          "2020-12-21T00:00:00",
          "2020-12-22T00:00:00",
          "2020-12-23T00:00:00",
          "2020-12-24T00:00:00",
          "2020-12-25T00:00:00",
          "2020-12-26T00:00:00",
          "2020-12-27T00:00:00",
          "2020-12-28T00:00:00",
          "2020-12-29T00:00:00",
          "2020-12-30T00:00:00",
          "2020-12-31T00:00:00",
          "2021-01-01T00:00:00",
          "2021-01-02T00:00:00",
          "2021-01-03T00:00:00",
          "2021-01-04T00:00:00",
          "2021-01-05T00:00:00",
          "2021-01-06T00:00:00",
          "2021-01-07T00:00:00",
          "2021-01-08T00:00:00",
          "2021-01-09T00:00:00",
          "2021-01-10T00:00:00",
          "2021-01-11T00:00:00",
          "2021-01-12T00:00:00",
          "2021-01-13T00:00:00",
          "2021-01-14T00:00:00",
          "2021-01-15T00:00:00",
          "2021-01-16T00:00:00",
          "2021-01-17T00:00:00",
          "2021-01-18T00:00:00",
          "2021-01-19T00:00:00",
          "2021-01-20T00:00:00",
          "2021-01-21T00:00:00",
          "2021-01-22T00:00:00",
          "2021-01-23T00:00:00",
          "2021-01-24T00:00:00",
          "2021-01-25T00:00:00",
          "2021-01-26T00:00:00",
          "2021-01-27T00:00:00",
          "2021-01-28T00:00:00",
          "2021-01-29T00:00:00",
          "2021-01-30T00:00:00",
          "2021-01-31T00:00:00",
          "2021-02-01T00:00:00",
          "2021-02-02T00:00:00",
          "2021-02-03T00:00:00",
          "2021-02-04T00:00:00",
          "2021-02-05T00:00:00",
          "2021-02-06T00:00:00",
          "2021-02-07T00:00:00",
          "2021-02-08T00:00:00",
          "2021-02-09T00:00:00",
          "2021-02-10T00:00:00",
          "2021-02-11T00:00:00",
          "2021-02-12T00:00:00",
          "2021-02-13T00:00:00",
          "2021-02-14T00:00:00",
          "2021-02-15T00:00:00",
          "2021-02-16T00:00:00",
          "2021-02-17T00:00:00",
          "2021-02-18T00:00:00",
          "2021-02-19T00:00:00",
          "2021-02-20T00:00:00",
          "2021-02-21T00:00:00",
          "2021-02-22T00:00:00",
          "2021-02-23T00:00:00",
          "2021-02-24T00:00:00",
          "2021-02-25T00:00:00",
          "2021-02-26T00:00:00",
          "2021-02-27T00:00:00",
          "2021-02-28T00:00:00",
          "2021-03-01T00:00:00",
          "2021-03-02T00:00:00",
          "2021-03-03T00:00:00",
          "2021-03-04T00:00:00",
          "2021-03-05T00:00:00",
          "2021-03-06T00:00:00",
          "2021-03-07T00:00:00",
          "2021-03-08T00:00:00",
          "2021-03-09T00:00:00",
          "2021-03-10T00:00:00",
          "2021-03-11T00:00:00",
          "2021-03-12T00:00:00",
          "2021-03-13T00:00:00",
          "2021-03-14T00:00:00",
          "2021-03-15T00:00:00",
          "2021-03-16T00:00:00",
          "2021-03-17T00:00:00",
          "2021-03-18T00:00:00",
          "2021-03-19T00:00:00",
          "2021-03-20T00:00:00",
          "2021-03-21T00:00:00",
          "2021-03-22T00:00:00",
          "2021-03-23T00:00:00",
          "2021-03-24T00:00:00",
          "2021-03-25T00:00:00",
          "2021-03-26T00:00:00",
          "2021-03-27T00:00:00",
          "2021-03-28T00:00:00",
          "2021-03-29T00:00:00",
          "2021-03-30T00:00:00",
          "2021-03-31T00:00:00",
          "2021-04-01T00:00:00",
          "2021-04-02T00:00:00",
          "2021-04-03T00:00:00",
          "2021-04-04T00:00:00",
          "2021-04-05T00:00:00",
          "2021-04-06T00:00:00",
          "2021-04-07T00:00:00",
          "2021-04-08T00:00:00",
          "2021-04-09T00:00:00",
          "2021-04-10T00:00:00",
          "2021-04-11T00:00:00",
          "2021-04-12T00:00:00",
          "2021-04-13T00:00:00",
          "2021-04-14T00:00:00",
          "2021-04-15T00:00:00",
          "2021-04-16T00:00:00",
          "2021-04-17T00:00:00",
          "2021-04-18T00:00:00",
          "2021-04-19T00:00:00",
          "2021-04-20T00:00:00",
          "2021-04-21T00:00:00",
          "2021-04-22T00:00:00",
          "2021-04-23T00:00:00",
          "2021-04-24T00:00:00",
          "2021-04-25T00:00:00",
          "2021-04-26T00:00:00",
          "2021-04-27T00:00:00",
          "2021-04-28T00:00:00",
          "2021-04-29T00:00:00",
          "2021-04-30T00:00:00"
         ],
         "y": [
          5651094.261050442,
          2528563.5275331046,
          1990064.1808079856,
          2138044.397845374,
          2098320.963953737,
          2465420.1579103405,
          1656179.3091980466,
          5640052.038939542,
          2515211.200562313,
          1978624.4142859706,
          2130276.9676690022,
          2092356.190724033,
          2461155.6759377476,
          1653972.195668763,
          5639217.608260084,
          2518037.0127450787,
          1980648.3575648898,
          2132409.2521067336,
          2095592.80249088,
          2464458.3208667757,
          1656187.5429361505,
          5640720.702771638,
          2518086.8818998868,
          1979770.9469908627,
          2130897.8136120327,
          2093863.6707847049,
          2462983.2811412644,
          1655324.988669014,
          5641700.4874648675,
          2520152.9169336855,
          1981072.4604544889,
          2133996.338212704,
          2097905.7674190495,
          2466503.5726695787,
          1658654.2963444053,
          5644483.616047148,
          2522039.931347174,
          1981866.5743526476,
          2133537.8169342414,
          2095240.7707850765,
          2464183.7816316066,
          1655927.0439610048,
          5640802.718136504,
          2518565.2538651093,
          1980851.7963968,
          2132579.1713404735,
          2096159.6476027572,
          2465907.6883740323,
          1659556.2176694719,
          5645182.6571755735,
          2521299.341663278,
          1985070.482667273,
          2136252.9121764963,
          2097326.035754084,
          2464863.8932568906,
          1656250.1338615308,
          5639992.350150177,
          2517170.3574661724,
          1979541.9430704582,
          2131685.4490102176,
          2093403.1924622334,
          2462654.7545998637,
          1656330.4248704757,
          5642779.066886868,
          2522720.446552113,
          1986802.3008624925,
          2140064.0942386948,
          2104944.0855908273,
          2475793.872047019,
          1669125.5584634726,
          5654847.003605858,
          2532358.9599427492,
          1993648.28635942,
          2143618.4621288185,
          2105054.3351670345,
          2472667.4540313594,
          1663208.1748866895,
          5646865.052068768,
          2523154.928885849,
          1984240.2083384655,
          2134982.874939739,
          2098100.317368056,
          2468137.479555967,
          1662470.574604982,
          5649215.4630256845,
          2526425.6522283326,
          1990566.76724217,
          2141904.724063625,
          2105811.3502965425,
          2475372.8700081287,
          1667322.1289707122,
          5652680.314553632,
          2528901.9450310683,
          1987305.1209489782,
          2137279.6737543633,
          2097304.711056106,
          2465171.5758817876,
          1655797.9180717294,
          5639675.469979484,
          2516066.698026166,
          1978255.794532855,
          2129148.429246555,
          2091433.9725930705,
          2462473.060789891,
          1653054.8746487536,
          5640429.135587012,
          2517787.2827255973,
          1980516.9333283089,
          2131773.636703697,
          2094759.9686440194,
          2464214.507340096,
          1656384.5226399696,
          5641422.088151144,
          2518388.9608234297,
          1979801.8345655065,
          2130357.458480116,
          2093037.365939796,
          2462648.319921366,
          1655339.0208999603,
          5641198.820852257,
          2519095.8563205088,
          1981483.738054988,
          2133851.320696815,
          2097320.2703727214,
          2465571.020558931,
          1659149.4940927264,
          5643838.501511439,
          2521251.546996693,
          1982582.7182973663,
          2132802.277331043,
          2094998.7246794105,
          2464099.9207949964,
          1656180.8107517627,
          5641446.261565709,
          2519613.924536979,
          1981686.165921661,
          2131113.631645698,
          2095286.6398483957,
          2464903.207367342,
          1658428.4166426002,
          5644457.615388405,
          2522003.2170644803,
          1983759.7540954147,
          2134187.4480081797,
          2096393.9079015623,
          2465343.6083447607,
          1656970.9798668027,
          5641560.2143203365,
          2518825.0180913024,
          1979956.2838155115,
          2129437.4950611843,
          2093257.939753648,
          2461045.4721712316,
          1655885.6082847468,
          5642176.052534057,
          2522470.2592854165,
          1986349.4052976244,
          2137352.87214289,
          2103992.3884994388,
          2475042.756515707,
          1667841.957705577,
          5656557.279312326,
          2532287.6359276744,
          1994116.5077062347,
          2143936.075414347,
          2105426.5354836043,
          2473754.7923079478,
          1664725.6578479877,
          5648742.54228261,
          2524371.8357815687,
          1984836.7748845476,
          2134609.3028080952,
          2097035.4124115286,
          2467195.923078391,
          1660616.1477654497,
          5647445.177803209,
          2525869.619960331,
          1988883.7394023587,
          2140647.182145615,
          2104329.2976067816,
          2474907.2078380897,
          1668759.0693142964,
          5655298.015323844,
          2529936.5937601672,
          1989417.2460563988,
          2138328.0673676054,
          2098612.8823148906,
          2466894.569168565,
          1657668.9156591785,
          5641707.570860112,
          2517297.462138323,
          1977828.2413510121,
          2128566.2582760863,
          2091143.8404957722,
          2459628.018822209,
          1653813.20279392,
          5639566.0612371005,
          2517639.7849157625,
          1979882.1380525855,
          2130786.004997351,
          2093750.741591089,
          2463967.3441875298,
          1656724.7068016962,
          5642368.4081595,
          2518981.92893039,
          1980111.0326634173,
          2130029.514160361,
          2092316.2570056824,
          2462286.888559184,
          1656160.948048248,
          5642498.8338158475,
          2518163.168507316,
          1982149.6417968539,
          2133426.97110036,
          2095395.0242184552,
          2465288.978743105,
          1658735.3497042197,
          5644474.29745854,
          2521689.2386556636,
          1982934.1473518224,
          2132727.6137438444,
          2094724.463132959,
          2465288.5494194804,
          1657828.4984060433,
          5641670.9625242045,
          2520245.7989081494,
          1981329.7902277242,
          2130165.894599871,
          2094015.0014948235,
          2464043.017786686,
          1657941.07345003,
          5644560.767624426,
          2521893.153408466,
          1983646.3459347507,
          2133821.865393516,
          2096073.0210864458,
          2465812.0188244614,
          1657999.4443130959,
          5643124.3179133665,
          2518954.7499073837,
          1979471.8025399037,
          2129774.6635489217,
          2092036.8080043062,
          2460634.7021469567,
          1655040.8825128134,
          5641358.877112854,
          2519902.4869190967,
          1983102.7344323345,
          2135189.921416566,
          2099788.4524665647,
          2472214.9735547504,
          1667090.1540829511,
          5654694.84424904,
          2532420.250454679,
          1994224.6053152285,
          2144054.4427817715,
          2105766.7294071373,
          2474971.0876341364,
          1666514.9631838491,
          5651006.474292108,
          2526053.777543485,
          1985936.0216821218,
          2134733.317885896,
          2096421.6504390605,
          2466622.111637939,
          1659987.3403810798,
          5647896.546127151,
          2527054.7931636637,
          1988072.2968430948,
          2139474.96561261,
          2103597.561055834,
          2474011.860968601,
          1669248.9497386431,
          5654224.517251073,
          2532928.0217771875,
          1991099.0177652857,
          2140149.627238,
          2101132.7557859793,
          2467585.91369009,
          1659950.6960936878,
          5643502.305667554,
          2518716.0143383564,
          1978616.3304419639,
          2127463.972067531,
          2089285.9073996397,
          2459733.149402762,
          1653174.0203840514,
          5640028.135237596,
          2517318.642126702,
          1979354.506726298,
          2130797.712492958,
          2093830.6837161102,
          2463038.326694309,
          1657277.9005630703,
          5642769.899226808,
          2519388.246795135,
          1980270.6541235703,
          2129618.618060675,
          2092573.8097180333,
          2463176.6070708204,
          1654694.6153257433,
          5642213.869112023,
          2518385.9729463607,
          1980522.7452875942,
          2130855.847973355,
          2093795.5290155585,
          2465044.794538864,
          1658746.8959714223,
          5645411.889875542,
          2521925.268497316,
          1982955.1896100072,
          2132233.7291129213,
          2093997.3511347957,
          2464142.8620425533,
          1656898.735715245,
          5642909.116929552,
          2519134.1047548004,
          1980302.1660291548,
          2131087.8929859027,
          2093917.3781073755,
          2463557.4320529886,
          1658468.1730363476,
          5644849.15924179,
          2522132.5003508,
          1983617.588564029,
          2133227.3549020505,
          2095199.0374449687,
          2465436.5822911314,
          1657990.727616828,
          5643564.153946256,
          2518965.7050500847,
          1979236.2188238683,
          2128113.8662878615,
          2090034.7422151752,
          2461025.071705913,
          1655065.363243897,
          5642788.121940918,
          2520758.176097198,
          1983859.2009613346,
          2135516.303286531,
          2099917.404207237,
          2472852.6582313543,
          1668008.3633248187,
          5655888.594468445,
          2532934.590173251,
          1994164.547365559,
          2143126.0481867734,
          2104293.6018813383,
          2474769.413615359,
          1666726.841383554,
          5649947.273699946,
          2525603.4013118776,
          1984682.1865391086,
          2133581.899681059,
          2095393.2514142962,
          2466538.5797508536,
          1660696.041177325,
          5648455.209159864,
          2526072.3591323607,
          1989575.6821427303,
          2140479.797262207,
          2102038.5796943344,
          2474708.34302943,
          1668673.7407810153,
          5655517.47372581,
          2529209.1522269654,
          1990822.078898014,
          2138769.577063164,
          2097715.7663381454,
          2466105.3951311368,
          1657859.6070262813,
          5642504.224651589,
          2517626.5995719745,
          1977667.535661927,
          2126390.864960218,
          2088364.2398447879,
          2459689.505678871,
          1653778.4858408247,
          5641255.261235925,
          2518176.3119216193,
          1979898.2085200902,
          2129702.3402262838,
          2092156.42139288,
          2463429.8405210725,
          1656959.826671145,
          5643535.565801365,
          2519317.8941668533,
          1979928.3323060512,
          2128783.414548707,
          2090626.5033525769,
          2461742.7981784386,
          1655516.0612667333,
          5642710.257482788,
          2520266.6476143957,
          1981974.6219710023
         ]
        },
        {
         "line": {
          "color": "rgba(250, 43, 20, 0.7)"
         },
         "marker": {
          "color": "rgba(250, 43, 20, 0.7)",
          "size": 2
         },
         "mode": "lines+markers",
         "name": "Actual",
         "opacity": 1,
         "type": "scatter",
         "x": [
          "2020-04-01T00:00:00",
          "2020-04-02T00:00:00",
          "2020-04-03T00:00:00",
          "2020-04-04T00:00:00",
          "2020-04-05T00:00:00",
          "2020-04-06T00:00:00",
          "2020-04-07T00:00:00",
          "2020-04-08T00:00:00",
          "2020-04-09T00:00:00",
          "2020-04-10T00:00:00",
          "2020-04-11T00:00:00",
          "2020-04-12T00:00:00",
          "2020-04-13T00:00:00",
          "2020-04-14T00:00:00",
          "2020-04-15T00:00:00",
          "2020-04-16T00:00:00",
          "2020-04-17T00:00:00",
          "2020-04-18T00:00:00",
          "2020-04-19T00:00:00",
          "2020-04-20T00:00:00",
          "2020-04-21T00:00:00",
          "2020-04-22T00:00:00",
          "2020-04-23T00:00:00",
          "2020-04-24T00:00:00",
          "2020-04-25T00:00:00",
          "2020-04-26T00:00:00",
          "2020-04-27T00:00:00",
          "2020-04-28T00:00:00",
          "2020-04-29T00:00:00",
          "2020-04-30T00:00:00",
          "2020-05-01T00:00:00",
          "2020-05-02T00:00:00",
          "2020-05-03T00:00:00",
          "2020-05-04T00:00:00",
          "2020-05-05T00:00:00",
          "2020-05-06T00:00:00",
          "2020-05-07T00:00:00",
          "2020-05-08T00:00:00",
          "2020-05-09T00:00:00",
          "2020-05-10T00:00:00",
          "2020-05-11T00:00:00",
          "2020-05-12T00:00:00",
          "2020-05-13T00:00:00",
          "2020-05-14T00:00:00",
          "2020-05-15T00:00:00",
          "2020-05-16T00:00:00",
          "2020-05-17T00:00:00",
          "2020-05-18T00:00:00",
          "2020-05-19T00:00:00",
          "2020-05-20T00:00:00",
          "2020-05-21T00:00:00",
          "2020-05-22T00:00:00",
          "2020-05-23T00:00:00",
          "2020-05-24T00:00:00",
          "2020-05-25T00:00:00",
          "2020-05-26T00:00:00",
          "2020-05-27T00:00:00",
          "2020-05-28T00:00:00",
          "2020-05-29T00:00:00",
          "2020-05-30T00:00:00",
          "2020-05-31T00:00:00",
          "2020-06-01T00:00:00",
          "2020-06-02T00:00:00",
          "2020-06-03T00:00:00",
          "2020-06-04T00:00:00",
          "2020-06-05T00:00:00",
          "2020-06-06T00:00:00",
          "2020-06-07T00:00:00",
          "2020-06-08T00:00:00",
          "2020-06-09T00:00:00",
          "2020-06-10T00:00:00",
          "2020-06-11T00:00:00",
          "2020-06-12T00:00:00",
          "2020-06-13T00:00:00",
          "2020-06-14T00:00:00",
          "2020-06-15T00:00:00",
          "2020-06-16T00:00:00",
          "2020-06-17T00:00:00",
          "2020-06-18T00:00:00",
          "2020-06-19T00:00:00",
          "2020-06-20T00:00:00",
          "2020-06-21T00:00:00",
          "2020-06-22T00:00:00",
          "2020-06-23T00:00:00",
          "2020-06-24T00:00:00",
          "2020-06-25T00:00:00",
          "2020-06-26T00:00:00",
          "2020-06-27T00:00:00",
          "2020-06-28T00:00:00",
          "2020-06-29T00:00:00",
          "2020-06-30T00:00:00",
          "2020-07-01T00:00:00",
          "2020-07-02T00:00:00",
          "2020-07-03T00:00:00",
          "2020-07-04T00:00:00",
          "2020-07-05T00:00:00",
          "2020-07-06T00:00:00",
          "2020-07-07T00:00:00",
          "2020-07-08T00:00:00",
          "2020-07-09T00:00:00",
          "2020-07-10T00:00:00",
          "2020-07-11T00:00:00",
          "2020-07-12T00:00:00",
          "2020-07-13T00:00:00",
          "2020-07-14T00:00:00",
          "2020-07-15T00:00:00",
          "2020-07-16T00:00:00",
          "2020-07-17T00:00:00",
          "2020-07-18T00:00:00",
          "2020-07-19T00:00:00",
          "2020-07-20T00:00:00",
          "2020-07-21T00:00:00",
          "2020-07-22T00:00:00",
          "2020-07-23T00:00:00",
          "2020-07-24T00:00:00",
          "2020-07-25T00:00:00",
          "2020-07-26T00:00:00",
          "2020-07-27T00:00:00",
          "2020-07-28T00:00:00",
          "2020-07-29T00:00:00",
          "2020-07-30T00:00:00",
          "2020-07-31T00:00:00",
          "2020-08-01T00:00:00",
          "2020-08-02T00:00:00",
          "2020-08-03T00:00:00",
          "2020-08-04T00:00:00",
          "2020-08-05T00:00:00",
          "2020-08-06T00:00:00",
          "2020-08-07T00:00:00",
          "2020-08-08T00:00:00",
          "2020-08-09T00:00:00",
          "2020-08-10T00:00:00",
          "2020-08-11T00:00:00",
          "2020-08-12T00:00:00",
          "2020-08-13T00:00:00",
          "2020-08-14T00:00:00",
          "2020-08-15T00:00:00",
          "2020-08-16T00:00:00",
          "2020-08-17T00:00:00",
          "2020-08-18T00:00:00",
          "2020-08-19T00:00:00",
          "2020-08-20T00:00:00",
          "2020-08-21T00:00:00",
          "2020-08-22T00:00:00",
          "2020-08-23T00:00:00",
          "2020-08-24T00:00:00",
          "2020-08-25T00:00:00",
          "2020-08-26T00:00:00",
          "2020-08-27T00:00:00",
          "2020-08-28T00:00:00",
          "2020-08-29T00:00:00",
          "2020-08-30T00:00:00",
          "2020-08-31T00:00:00",
          "2020-09-01T00:00:00",
          "2020-09-02T00:00:00",
          "2020-09-03T00:00:00",
          "2020-09-04T00:00:00",
          "2020-09-05T00:00:00",
          "2020-09-06T00:00:00",
          "2020-09-07T00:00:00",
          "2020-09-08T00:00:00",
          "2020-09-09T00:00:00",
          "2020-09-10T00:00:00",
          "2020-09-11T00:00:00",
          "2020-09-12T00:00:00",
          "2020-09-13T00:00:00",
          "2020-09-14T00:00:00",
          "2020-09-15T00:00:00",
          "2020-09-16T00:00:00",
          "2020-09-17T00:00:00",
          "2020-09-18T00:00:00",
          "2020-09-19T00:00:00",
          "2020-09-20T00:00:00",
          "2020-09-21T00:00:00",
          "2020-09-22T00:00:00",
          "2020-09-23T00:00:00",
          "2020-09-24T00:00:00",
          "2020-09-25T00:00:00",
          "2020-09-26T00:00:00",
          "2020-09-27T00:00:00",
          "2020-09-28T00:00:00",
          "2020-09-29T00:00:00",
          "2020-09-30T00:00:00",
          "2020-10-01T00:00:00",
          "2020-10-02T00:00:00",
          "2020-10-03T00:00:00",
          "2020-10-04T00:00:00",
          "2020-10-05T00:00:00",
          "2020-10-06T00:00:00",
          "2020-10-07T00:00:00",
          "2020-10-08T00:00:00",
          "2020-10-09T00:00:00",
          "2020-10-10T00:00:00",
          "2020-10-11T00:00:00",
          "2020-10-12T00:00:00",
          "2020-10-13T00:00:00",
          "2020-10-14T00:00:00",
          "2020-10-15T00:00:00",
          "2020-10-16T00:00:00",
          "2020-10-17T00:00:00",
          "2020-10-18T00:00:00",
          "2020-10-19T00:00:00",
          "2020-10-20T00:00:00",
          "2020-10-21T00:00:00",
          "2020-10-22T00:00:00",
          "2020-10-23T00:00:00",
          "2020-10-24T00:00:00",
          "2020-10-25T00:00:00",
          "2020-10-26T00:00:00",
          "2020-10-27T00:00:00",
          "2020-10-28T00:00:00",
          "2020-10-29T00:00:00",
          "2020-10-30T00:00:00",
          "2020-10-31T00:00:00",
          "2020-11-01T00:00:00",
          "2020-11-02T00:00:00",
          "2020-11-03T00:00:00",
          "2020-11-04T00:00:00",
          "2020-11-05T00:00:00",
          "2020-11-06T00:00:00",
          "2020-11-07T00:00:00",
          "2020-11-08T00:00:00",
          "2020-11-09T00:00:00",
          "2020-11-10T00:00:00",
          "2020-11-11T00:00:00",
          "2020-11-12T00:00:00",
          "2020-11-13T00:00:00",
          "2020-11-14T00:00:00",
          "2020-11-15T00:00:00",
          "2020-11-16T00:00:00",
          "2020-11-17T00:00:00",
          "2020-11-18T00:00:00",
          "2020-11-19T00:00:00",
          "2020-11-20T00:00:00",
          "2020-11-21T00:00:00",
          "2020-11-22T00:00:00",
          "2020-11-23T00:00:00",
          "2020-11-24T00:00:00",
          "2020-11-25T00:00:00",
          "2020-11-26T00:00:00",
          "2020-11-27T00:00:00",
          "2020-11-28T00:00:00",
          "2020-11-29T00:00:00",
          "2020-11-30T00:00:00",
          "2020-12-01T00:00:00",
          "2020-12-02T00:00:00",
          "2020-12-03T00:00:00",
          "2020-12-04T00:00:00",
          "2020-12-05T00:00:00",
          "2020-12-06T00:00:00",
          "2020-12-07T00:00:00",
          "2020-12-08T00:00:00",
          "2020-12-09T00:00:00",
          "2020-12-10T00:00:00",
          "2020-12-11T00:00:00",
          "2020-12-12T00:00:00",
          "2020-12-13T00:00:00",
          "2020-12-14T00:00:00",
          "2020-12-15T00:00:00",
          "2020-12-16T00:00:00",
          "2020-12-17T00:00:00",
          "2020-12-18T00:00:00",
          "2020-12-19T00:00:00",
          "2020-12-20T00:00:00",
          "2020-12-21T00:00:00",
          "2020-12-22T00:00:00",
          "2020-12-23T00:00:00",
          "2020-12-24T00:00:00",
          "2020-12-25T00:00:00",
          "2020-12-26T00:00:00",
          "2020-12-27T00:00:00",
          "2020-12-28T00:00:00",
          "2020-12-29T00:00:00",
          "2020-12-30T00:00:00",
          "2020-12-31T00:00:00",
          "2021-01-01T00:00:00",
          "2021-01-02T00:00:00",
          "2021-01-03T00:00:00",
          "2021-01-04T00:00:00",
          "2021-01-05T00:00:00",
          "2021-01-06T00:00:00",
          "2021-01-07T00:00:00",
          "2021-01-08T00:00:00",
          "2021-01-09T00:00:00",
          "2021-01-10T00:00:00",
          "2021-01-11T00:00:00",
          "2021-01-12T00:00:00",
          "2021-01-13T00:00:00",
          "2021-01-14T00:00:00",
          "2021-01-15T00:00:00",
          "2021-01-16T00:00:00",
          "2021-01-17T00:00:00",
          "2021-01-18T00:00:00",
          "2021-01-19T00:00:00",
          "2021-01-20T00:00:00",
          "2021-01-21T00:00:00",
          "2021-01-22T00:00:00",
          "2021-01-23T00:00:00",
          "2021-01-24T00:00:00",
          "2021-01-25T00:00:00",
          "2021-01-26T00:00:00",
          "2021-01-27T00:00:00",
          "2021-01-28T00:00:00",
          "2021-01-29T00:00:00",
          "2021-01-30T00:00:00",
          "2021-01-31T00:00:00",
          "2021-02-01T00:00:00",
          "2021-02-02T00:00:00",
          "2021-02-03T00:00:00",
          "2021-02-04T00:00:00",
          "2021-02-05T00:00:00",
          "2021-02-06T00:00:00",
          "2021-02-07T00:00:00",
          "2021-02-08T00:00:00",
          "2021-02-09T00:00:00",
          "2021-02-10T00:00:00",
          "2021-02-11T00:00:00",
          "2021-02-12T00:00:00",
          "2021-02-13T00:00:00",
          "2021-02-14T00:00:00",
          "2021-02-15T00:00:00",
          "2021-02-16T00:00:00",
          "2021-02-17T00:00:00",
          "2021-02-18T00:00:00",
          "2021-02-19T00:00:00",
          "2021-02-20T00:00:00",
          "2021-02-21T00:00:00",
          "2021-02-22T00:00:00",
          "2021-02-23T00:00:00",
          "2021-02-24T00:00:00",
          "2021-02-25T00:00:00",
          "2021-02-26T00:00:00",
          "2021-02-27T00:00:00",
          "2021-02-28T00:00:00",
          "2021-03-01T00:00:00",
          "2021-03-02T00:00:00",
          "2021-03-03T00:00:00",
          "2021-03-04T00:00:00",
          "2021-03-05T00:00:00",
          "2021-03-06T00:00:00",
          "2021-03-07T00:00:00",
          "2021-03-08T00:00:00",
          "2021-03-09T00:00:00",
          "2021-03-10T00:00:00",
          "2021-03-11T00:00:00",
          "2021-03-12T00:00:00",
          "2021-03-13T00:00:00",
          "2021-03-14T00:00:00",
          "2021-03-15T00:00:00",
          "2021-03-16T00:00:00",
          "2021-03-17T00:00:00",
          "2021-03-18T00:00:00",
          "2021-03-19T00:00:00",
          "2021-03-20T00:00:00",
          "2021-03-21T00:00:00",
          "2021-03-22T00:00:00",
          "2021-03-23T00:00:00",
          "2021-03-24T00:00:00",
          "2021-03-25T00:00:00",
          "2021-03-26T00:00:00",
          "2021-03-27T00:00:00",
          "2021-03-28T00:00:00",
          "2021-03-29T00:00:00",
          "2021-03-30T00:00:00",
          "2021-03-31T00:00:00",
          "2021-04-01T00:00:00",
          "2021-04-02T00:00:00",
          "2021-04-03T00:00:00",
          "2021-04-04T00:00:00",
          "2021-04-05T00:00:00",
          "2021-04-06T00:00:00",
          "2021-04-07T00:00:00",
          "2021-04-08T00:00:00",
          "2021-04-09T00:00:00",
          "2021-04-10T00:00:00",
          "2021-04-11T00:00:00",
          "2021-04-12T00:00:00",
          "2021-04-13T00:00:00",
          "2021-04-14T00:00:00",
          "2021-04-15T00:00:00",
          "2021-04-16T00:00:00",
          "2021-04-17T00:00:00",
          "2021-04-18T00:00:00",
          "2021-04-19T00:00:00",
          "2021-04-20T00:00:00",
          "2021-04-21T00:00:00",
          "2021-04-22T00:00:00",
          "2021-04-23T00:00:00",
          "2021-04-24T00:00:00",
          "2021-04-25T00:00:00",
          "2021-04-26T00:00:00",
          "2021-04-27T00:00:00",
          "2021-04-28T00:00:00",
          "2021-04-29T00:00:00",
          "2021-04-30T00:00:00"
         ],
         "y": [
          961150,
          753357.1428571428,
          681724.2068965518,
          null,
          null,
          725208,
          630053.7368421053,
          676583.3333333334,
          773225.2692307692,
          666255.6428571428,
          null,
          325000,
          1192963.4347826086,
          883883.5,
          1115649.0666666667,
          703075.8947368421,
          593240.8,
          null,
          null,
          630549.76,
          788538.3684210526,
          534571.5,
          706054.68,
          766311.7619047619,
          670000,
          null,
          672223.2571428572,
          589203.6666666666,
          717248.3928571428,
          645056.5660377359,
          761566.3846153846,
          null,
          null,
          742996.5925925926,
          928117.8571428572,
          722244.3181818182,
          802193.448275862,
          737056.8913043478,
          null,
          null,
          1010215.1176470588,
          559954.9,
          594030.4,
          786627.5,
          2423803.590909091,
          400000,
          null,
          580116.6333333333,
          649406.4285714285,
          571375.7666666667,
          1257801.9523809524,
          1018404.1714285715,
          null,
          325000,
          null,
          572714.6086956522,
          601808.6341463415,
          818277.015625,
          685398.4583333334,
          null,
          340000,
          558506.7741935484,
          694160.2666666667,
          1809577.5,
          759085.9375,
          663100.880952381,
          null,
          null,
          584458.6,
          1286910.6304347827,
          674959.5454545454,
          6283043.34375,
          821677.42,
          484787,
          null,
          833615.7916666666,
          796530.75,
          626165.4705882353,
          562851.2580645161,
          680855.3958333334,
          null,
          null,
          634731.0952380953,
          2134153.5555555555,
          1374770.888888889,
          705734.1449275363,
          732110.9016393443,
          null,
          null,
          3128182.919354839,
          771592.4027777778,
          786353.2962962963,
          635133.3111111111,
          365000,
          null,
          null,
          610116.2727272727,
          855789.3243243244,
          942172.3255813953,
          1002349.9333333333,
          1207195.462962963,
          265000,
          null,
          521447.625,
          1019686.8163265307,
          734260.9615384615,
          782620.7435897436,
          675106.5769230769,
          356000,
          null,
          625668.5319148937,
          631018.0769230769,
          623849.725490196,
          1151866.625,
          608356.5416666666,
          null,
          null,
          566493.1904761905,
          716382.7727272727,
          1063304.0487804879,
          657447.7843137255,
          606157.1694915254,
          336500,
          null,
          1100150.775,
          703381.2105263158,
          698784.5666666667,
          597978.6666666666,
          662752.4583333334,
          null,
          null,
          737526.5357142857,
          759952.6315789474,
          664542.6666666666,
          587161.7608695652,
          640727.659574468,
          804097,
          120000,
          681732.3103448276,
          580265.8837209302,
          1042224.8666666667,
          822008.9818181818,
          783539.5217391305,
          306146,
          471271.25,
          684929.4545454546,
          640625.1081081082,
          1140819.3703703703,
          631340,
          3335524.5070422534,
          303280,
          null,
          1679717.844155844,
          633616.3225806452,
          690991.1,
          681047.9714285714,
          1435634,
          850000,
          null,
          6000,
          583332.512195122,
          11782759.705882354,
          1010899.8372093023,
          1133387.7567567567,
          null,
          null,
          5504713.85106383,
          690470.3278688524,
          872583.051724138,
          615537.4716981133,
          643329.4761904762,
          null,
          217000,
          674469.5263157894,
          1033372.1272727273,
          802347.9649122807,
          758760.3768115942,
          715879.4533333334,
          null,
          null,
          693191.303030303,
          862207.5540540541,
          14690100.05,
          923863.4225352113,
          712918.0363636364,
          null,
          90000,
          683918.8484848485,
          731857.1111111111,
          631391.24,
          587772.3191489362,
          620802.2205882353,
          null,
          null,
          317422.5,
          712517.5714285715,
          730325.5769230769,
          830288.86,
          639017.6101694915,
          3000,
          null,
          575891.0333333333,
          699273.3928571428,
          693789.1833333333,
          753131.0754716981,
          747951.3,
          285000,
          5000,
          652001.9298245613,
          709614.3606557377,
          831534.3918918918,
          729093.1382978724,
          1050691.7684210527,
          410000,
          399000,
          694042.5588235294,
          704709.475,
          758629.3103448276,
          640258.0714285715,
          705806.2380952381,
          null,
          420000,
          740381.828125,
          744469.9344262296,
          500318.1818181818,
          704503.1891891892,
          2660488.6923076925,
          null,
          null,
          673783.0363636364,
          763621.4736842106,
          1125740.4705882352,
          697605.71875,
          680614.3333333334,
          null,
          null,
          639074.205479452,
          779583.9784946237,
          741491.7611940298,
          null,
          832958.75,
          null,
          246664,
          687234.4642857143,
          710952.6323529412,
          675483.515625,
          781023.96875,
          679605.7702702703,
          null,
          360000,
          757934.828125,
          676002.6111111111,
          612785.8153846153,
          673998.8533333334,
          639837.875,
          1000000,
          395801.5,
          1057572.6712328766,
          787623.5,
          815271.8,
          1206976.66,
          1029722.0260869565,
          null,
          null,
          2140242.969072165,
          3079420.9344262294,
          818685.9696969697,
          3036481.242424242,
          null,
          390787,
          null,
          1193972.0833333333,
          745306.5108695652,
          1182410.3086419753,
          904587.4307692308,
          null,
          null,
          null,
          515441.9655172414,
          937195.8113207547,
          629678.7924528302,
          870835.4074074074,
          673749.8793103448,
          200000,
          null,
          638217.0757575758,
          941716.2987012987,
          629515.2909090909,
          617809.5576923077,
          2060531.569620253,
          980000,
          75000,
          665439.8,
          734202.775862069,
          728799.0289855072,
          733167.7333333333,
          798184.8815789474,
          634500,
          null,
          664862.0714285715,
          700602.1551724138,
          808769.0724637681,
          716158.5384615385,
          965531.6880733945,
          4098400,
          1100000,
          1030374.6666666666,
          678594.1666666666,
          673120.3773584906,
          646879.6060606061,
          679965.2934782609,
          461500,
          null,
          735113.6166666667,
          709083.7464788732,
          721104.9714285714,
          876941.2133333334,
          809655.5571428571,
          null,
          null,
          585533.3333333334,
          620100.220338983,
          672292.9245283019,
          767958.2676056338,
          934185.5,
          null,
          386000,
          1820586.35,
          776674.421875,
          714328.8309859155,
          787634.8292682926,
          707944.7699115045,
          null,
          null,
          669714.0757575758,
          823997.4807692308,
          631401.1692307693,
          1185896.3088235294,
          688686.8831168831,
          null,
          null,
          803755.25,
          644934.7166666667,
          1258062.7878787878,
          687746.140625,
          679635.9852941176,
          null,
          475000,
          684445.9333333333,
          943197.7692307692,
          600407.2586206896,
          735364.7924528302,
          614789.2542372881,
          null,
          30000,
          639942.1607142857,
          656634.75,
          634332.9649122807,
          609609.756097561,
          652589.2857142857,
          null,
          null,
          694114.4705882353,
          747610.9354838709,
          602154.75,
          null,
          null,
          null,
          null,
          null,
          null,
          null,
          null,
          null,
          null,
          null,
          null,
          null,
          null,
          null,
          null,
          null,
          null,
          null,
          null,
          null,
          null,
          null,
          null,
          null,
          null,
          null,
          null,
          null,
          null
         ]
        },
        {
         "line": {
          "color": "rgba(0, 90, 181, 0.7)",
          "dash": "solid"
         },
         "name": "Forecast",
         "type": "scatter",
         "x": [
          "2020-04-01T00:00:00",
          "2020-04-02T00:00:00",
          "2020-04-03T00:00:00",
          "2020-04-04T00:00:00",
          "2020-04-05T00:00:00",
          "2020-04-06T00:00:00",
          "2020-04-07T00:00:00",
          "2020-04-08T00:00:00",
          "2020-04-09T00:00:00",
          "2020-04-10T00:00:00",
          "2020-04-11T00:00:00",
          "2020-04-12T00:00:00",
          "2020-04-13T00:00:00",
          "2020-04-14T00:00:00",
          "2020-04-15T00:00:00",
          "2020-04-16T00:00:00",
          "2020-04-17T00:00:00",
          "2020-04-18T00:00:00",
          "2020-04-19T00:00:00",
          "2020-04-20T00:00:00",
          "2020-04-21T00:00:00",
          "2020-04-22T00:00:00",
          "2020-04-23T00:00:00",
          "2020-04-24T00:00:00",
          "2020-04-25T00:00:00",
          "2020-04-26T00:00:00",
          "2020-04-27T00:00:00",
          "2020-04-28T00:00:00",
          "2020-04-29T00:00:00",
          "2020-04-30T00:00:00",
          "2020-05-01T00:00:00",
          "2020-05-02T00:00:00",
          "2020-05-03T00:00:00",
          "2020-05-04T00:00:00",
          "2020-05-05T00:00:00",
          "2020-05-06T00:00:00",
          "2020-05-07T00:00:00",
          "2020-05-08T00:00:00",
          "2020-05-09T00:00:00",
          "2020-05-10T00:00:00",
          "2020-05-11T00:00:00",
          "2020-05-12T00:00:00",
          "2020-05-13T00:00:00",
          "2020-05-14T00:00:00",
          "2020-05-15T00:00:00",
          "2020-05-16T00:00:00",
          "2020-05-17T00:00:00",
          "2020-05-18T00:00:00",
          "2020-05-19T00:00:00",
          "2020-05-20T00:00:00",
          "2020-05-21T00:00:00",
          "2020-05-22T00:00:00",
          "2020-05-23T00:00:00",
          "2020-05-24T00:00:00",
          "2020-05-25T00:00:00",
          "2020-05-26T00:00:00",
          "2020-05-27T00:00:00",
          "2020-05-28T00:00:00",
          "2020-05-29T00:00:00",
          "2020-05-30T00:00:00",
          "2020-05-31T00:00:00",
          "2020-06-01T00:00:00",
          "2020-06-02T00:00:00",
          "2020-06-03T00:00:00",
          "2020-06-04T00:00:00",
          "2020-06-05T00:00:00",
          "2020-06-06T00:00:00",
          "2020-06-07T00:00:00",
          "2020-06-08T00:00:00",
          "2020-06-09T00:00:00",
          "2020-06-10T00:00:00",
          "2020-06-11T00:00:00",
          "2020-06-12T00:00:00",
          "2020-06-13T00:00:00",
          "2020-06-14T00:00:00",
          "2020-06-15T00:00:00",
          "2020-06-16T00:00:00",
          "2020-06-17T00:00:00",
          "2020-06-18T00:00:00",
          "2020-06-19T00:00:00",
          "2020-06-20T00:00:00",
          "2020-06-21T00:00:00",
          "2020-06-22T00:00:00",
          "2020-06-23T00:00:00",
          "2020-06-24T00:00:00",
          "2020-06-25T00:00:00",
          "2020-06-26T00:00:00",
          "2020-06-27T00:00:00",
          "2020-06-28T00:00:00",
          "2020-06-29T00:00:00",
          "2020-06-30T00:00:00",
          "2020-07-01T00:00:00",
          "2020-07-02T00:00:00",
          "2020-07-03T00:00:00",
          "2020-07-04T00:00:00",
          "2020-07-05T00:00:00",
          "2020-07-06T00:00:00",
          "2020-07-07T00:00:00",
          "2020-07-08T00:00:00",
          "2020-07-09T00:00:00",
          "2020-07-10T00:00:00",
          "2020-07-11T00:00:00",
          "2020-07-12T00:00:00",
          "2020-07-13T00:00:00",
          "2020-07-14T00:00:00",
          "2020-07-15T00:00:00",
          "2020-07-16T00:00:00",
          "2020-07-17T00:00:00",
          "2020-07-18T00:00:00",
          "2020-07-19T00:00:00",
          "2020-07-20T00:00:00",
          "2020-07-21T00:00:00",
          "2020-07-22T00:00:00",
          "2020-07-23T00:00:00",
          "2020-07-24T00:00:00",
          "2020-07-25T00:00:00",
          "2020-07-26T00:00:00",
          "2020-07-27T00:00:00",
          "2020-07-28T00:00:00",
          "2020-07-29T00:00:00",
          "2020-07-30T00:00:00",
          "2020-07-31T00:00:00",
          "2020-08-01T00:00:00",
          "2020-08-02T00:00:00",
          "2020-08-03T00:00:00",
          "2020-08-04T00:00:00",
          "2020-08-05T00:00:00",
          "2020-08-06T00:00:00",
          "2020-08-07T00:00:00",
          "2020-08-08T00:00:00",
          "2020-08-09T00:00:00",
          "2020-08-10T00:00:00",
          "2020-08-11T00:00:00",
          "2020-08-12T00:00:00",
          "2020-08-13T00:00:00",
          "2020-08-14T00:00:00",
          "2020-08-15T00:00:00",
          "2020-08-16T00:00:00",
          "2020-08-17T00:00:00",
          "2020-08-18T00:00:00",
          "2020-08-19T00:00:00",
          "2020-08-20T00:00:00",
          "2020-08-21T00:00:00",
          "2020-08-22T00:00:00",
          "2020-08-23T00:00:00",
          "2020-08-24T00:00:00",
          "2020-08-25T00:00:00",
          "2020-08-26T00:00:00",
          "2020-08-27T00:00:00",
          "2020-08-28T00:00:00",
          "2020-08-29T00:00:00",
          "2020-08-30T00:00:00",
          "2020-08-31T00:00:00",
          "2020-09-01T00:00:00",
          "2020-09-02T00:00:00",
          "2020-09-03T00:00:00",
          "2020-09-04T00:00:00",
          "2020-09-05T00:00:00",
          "2020-09-06T00:00:00",
          "2020-09-07T00:00:00",
          "2020-09-08T00:00:00",
          "2020-09-09T00:00:00",
          "2020-09-10T00:00:00",
          "2020-09-11T00:00:00",
          "2020-09-12T00:00:00",
          "2020-09-13T00:00:00",
          "2020-09-14T00:00:00",
          "2020-09-15T00:00:00",
          "2020-09-16T00:00:00",
          "2020-09-17T00:00:00",
          "2020-09-18T00:00:00",
          "2020-09-19T00:00:00",
          "2020-09-20T00:00:00",
          "2020-09-21T00:00:00",
          "2020-09-22T00:00:00",
          "2020-09-23T00:00:00",
          "2020-09-24T00:00:00",
          "2020-09-25T00:00:00",
          "2020-09-26T00:00:00",
          "2020-09-27T00:00:00",
          "2020-09-28T00:00:00",
          "2020-09-29T00:00:00",
          "2020-09-30T00:00:00",
          "2020-10-01T00:00:00",
          "2020-10-02T00:00:00",
          "2020-10-03T00:00:00",
          "2020-10-04T00:00:00",
          "2020-10-05T00:00:00",
          "2020-10-06T00:00:00",
          "2020-10-07T00:00:00",
          "2020-10-08T00:00:00",
          "2020-10-09T00:00:00",
          "2020-10-10T00:00:00",
          "2020-10-11T00:00:00",
          "2020-10-12T00:00:00",
          "2020-10-13T00:00:00",
          "2020-10-14T00:00:00",
          "2020-10-15T00:00:00",
          "2020-10-16T00:00:00",
          "2020-10-17T00:00:00",
          "2020-10-18T00:00:00",
          "2020-10-19T00:00:00",
          "2020-10-20T00:00:00",
          "2020-10-21T00:00:00",
          "2020-10-22T00:00:00",
          "2020-10-23T00:00:00",
          "2020-10-24T00:00:00",
          "2020-10-25T00:00:00",
          "2020-10-26T00:00:00",
          "2020-10-27T00:00:00",
          "2020-10-28T00:00:00",
          "2020-10-29T00:00:00",
          "2020-10-30T00:00:00",
          "2020-10-31T00:00:00",
          "2020-11-01T00:00:00",
          "2020-11-02T00:00:00",
          "2020-11-03T00:00:00",
          "2020-11-04T00:00:00",
          "2020-11-05T00:00:00",
          "2020-11-06T00:00:00",
          "2020-11-07T00:00:00",
          "2020-11-08T00:00:00",
          "2020-11-09T00:00:00",
          "2020-11-10T00:00:00",
          "2020-11-11T00:00:00",
          "2020-11-12T00:00:00",
          "2020-11-13T00:00:00",
          "2020-11-14T00:00:00",
          "2020-11-15T00:00:00",
          "2020-11-16T00:00:00",
          "2020-11-17T00:00:00",
          "2020-11-18T00:00:00",
          "2020-11-19T00:00:00",
          "2020-11-20T00:00:00",
          "2020-11-21T00:00:00",
          "2020-11-22T00:00:00",
          "2020-11-23T00:00:00",
          "2020-11-24T00:00:00",
          "2020-11-25T00:00:00",
          "2020-11-26T00:00:00",
          "2020-11-27T00:00:00",
          "2020-11-28T00:00:00",
          "2020-11-29T00:00:00",
          "2020-11-30T00:00:00",
          "2020-12-01T00:00:00",
          "2020-12-02T00:00:00",
          "2020-12-03T00:00:00",
          "2020-12-04T00:00:00",
          "2020-12-05T00:00:00",
          "2020-12-06T00:00:00",
          "2020-12-07T00:00:00",
          "2020-12-08T00:00:00",
          "2020-12-09T00:00:00",
          "2020-12-10T00:00:00",
          "2020-12-11T00:00:00",
          "2020-12-12T00:00:00",
          "2020-12-13T00:00:00",
          "2020-12-14T00:00:00",
          "2020-12-15T00:00:00",
          "2020-12-16T00:00:00",
          "2020-12-17T00:00:00",
          "2020-12-18T00:00:00",
          "2020-12-19T00:00:00",
          "2020-12-20T00:00:00",
          "2020-12-21T00:00:00",
          "2020-12-22T00:00:00",
          "2020-12-23T00:00:00",
          "2020-12-24T00:00:00",
          "2020-12-25T00:00:00",
          "2020-12-26T00:00:00",
          "2020-12-27T00:00:00",
          "2020-12-28T00:00:00",
          "2020-12-29T00:00:00",
          "2020-12-30T00:00:00",
          "2020-12-31T00:00:00",
          "2021-01-01T00:00:00",
          "2021-01-02T00:00:00",
          "2021-01-03T00:00:00",
          "2021-01-04T00:00:00",
          "2021-01-05T00:00:00",
          "2021-01-06T00:00:00",
          "2021-01-07T00:00:00",
          "2021-01-08T00:00:00",
          "2021-01-09T00:00:00",
          "2021-01-10T00:00:00",
          "2021-01-11T00:00:00",
          "2021-01-12T00:00:00",
          "2021-01-13T00:00:00",
          "2021-01-14T00:00:00",
          "2021-01-15T00:00:00",
          "2021-01-16T00:00:00",
          "2021-01-17T00:00:00",
          "2021-01-18T00:00:00",
          "2021-01-19T00:00:00",
          "2021-01-20T00:00:00",
          "2021-01-21T00:00:00",
          "2021-01-22T00:00:00",
          "2021-01-23T00:00:00",
          "2021-01-24T00:00:00",
          "2021-01-25T00:00:00",
          "2021-01-26T00:00:00",
          "2021-01-27T00:00:00",
          "2021-01-28T00:00:00",
          "2021-01-29T00:00:00",
          "2021-01-30T00:00:00",
          "2021-01-31T00:00:00",
          "2021-02-01T00:00:00",
          "2021-02-02T00:00:00",
          "2021-02-03T00:00:00",
          "2021-02-04T00:00:00",
          "2021-02-05T00:00:00",
          "2021-02-06T00:00:00",
          "2021-02-07T00:00:00",
          "2021-02-08T00:00:00",
          "2021-02-09T00:00:00",
          "2021-02-10T00:00:00",
          "2021-02-11T00:00:00",
          "2021-02-12T00:00:00",
          "2021-02-13T00:00:00",
          "2021-02-14T00:00:00",
          "2021-02-15T00:00:00",
          "2021-02-16T00:00:00",
          "2021-02-17T00:00:00",
          "2021-02-18T00:00:00",
          "2021-02-19T00:00:00",
          "2021-02-20T00:00:00",
          "2021-02-21T00:00:00",
          "2021-02-22T00:00:00",
          "2021-02-23T00:00:00",
          "2021-02-24T00:00:00",
          "2021-02-25T00:00:00",
          "2021-02-26T00:00:00",
          "2021-02-27T00:00:00",
          "2021-02-28T00:00:00",
          "2021-03-01T00:00:00",
          "2021-03-02T00:00:00",
          "2021-03-03T00:00:00",
          "2021-03-04T00:00:00",
          "2021-03-05T00:00:00",
          "2021-03-06T00:00:00",
          "2021-03-07T00:00:00",
          "2021-03-08T00:00:00",
          "2021-03-09T00:00:00",
          "2021-03-10T00:00:00",
          "2021-03-11T00:00:00",
          "2021-03-12T00:00:00",
          "2021-03-13T00:00:00",
          "2021-03-14T00:00:00",
          "2021-03-15T00:00:00",
          "2021-03-16T00:00:00",
          "2021-03-17T00:00:00",
          "2021-03-18T00:00:00",
          "2021-03-19T00:00:00",
          "2021-03-20T00:00:00",
          "2021-03-21T00:00:00",
          "2021-03-22T00:00:00",
          "2021-03-23T00:00:00",
          "2021-03-24T00:00:00",
          "2021-03-25T00:00:00",
          "2021-03-26T00:00:00",
          "2021-03-27T00:00:00",
          "2021-03-28T00:00:00",
          "2021-03-29T00:00:00",
          "2021-03-30T00:00:00",
          "2021-03-31T00:00:00",
          "2021-04-01T00:00:00",
          "2021-04-02T00:00:00",
          "2021-04-03T00:00:00",
          "2021-04-04T00:00:00",
          "2021-04-05T00:00:00",
          "2021-04-06T00:00:00",
          "2021-04-07T00:00:00",
          "2021-04-08T00:00:00",
          "2021-04-09T00:00:00",
          "2021-04-10T00:00:00",
          "2021-04-11T00:00:00",
          "2021-04-12T00:00:00",
          "2021-04-13T00:00:00",
          "2021-04-14T00:00:00",
          "2021-04-15T00:00:00",
          "2021-04-16T00:00:00",
          "2021-04-17T00:00:00",
          "2021-04-18T00:00:00",
          "2021-04-19T00:00:00",
          "2021-04-20T00:00:00",
          "2021-04-21T00:00:00",
          "2021-04-22T00:00:00",
          "2021-04-23T00:00:00",
          "2021-04-24T00:00:00",
          "2021-04-25T00:00:00",
          "2021-04-26T00:00:00",
          "2021-04-27T00:00:00",
          "2021-04-28T00:00:00",
          "2021-04-29T00:00:00",
          "2021-04-30T00:00:00"
         ],
         "y": [
          907046.5795360045,
          893819.3028843519,
          896567.9946854212,
          887208.0870845828,
          881802.4233224493,
          888767.5612349747,
          881284.1761940543,
          896004.3574251045,
          880466.975913561,
          885128.2281634063,
          879440.6569082112,
          875837.6500927451,
          884503.0792623817,
          879077.0626647705,
          895169.9267456469,
          883292.7880963259,
          887152.1714423255,
          881572.9413459424,
          879074.2618595923,
          887805.72419141,
          881292.4099321582,
          896673.0212572006,
          883342.6572511344,
          886274.7608682984,
          880061.5028512416,
          877345.130153417,
          886330.6844658984,
          880429.8556650216,
          897652.8059504302,
          885408.692284933,
          887576.2743319245,
          883160.0274519128,
          881387.226787762,
          889850.975994213,
          883759.1633404129,
          900435.9345327102,
          887295.7066984216,
          888370.3882300833,
          882701.5061734502,
          878722.2301537889,
          887531.1849562409,
          881031.9109570124,
          896755.0366220669,
          883821.0292163569,
          887355.6102742357,
          881742.8605796822,
          879641.1069714695,
          889255.0916986665,
          884661.0846654795,
          901134.9756611366,
          886555.1170145256,
          891574.2965447085,
          885416.6014157053,
          880807.4951227963,
          888211.2965815244,
          881355.0008575384,
          895944.6686357403,
          882426.1328174197,
          886045.7569478939,
          880849.1382494264,
          876884.6518309457,
          886002.1579244978,
          881435.2918664834,
          898731.385372431,
          887976.2219033608,
          893306.1147399282,
          889227.7834779035,
          888425.5449595395,
          899141.2753716535,
          894230.4254594803,
          910799.322091421,
          897614.7352939969,
          900152.1002368558,
          892782.1513680273,
          888535.7945357468,
          896014.8573559932,
          888313.041882697,
          902817.3705543306,
          888410.7042370966,
          890744.0222159012,
          884146.5641789474,
          881581.7767367685,
          891484.8828806008,
          887575.4416009897,
          905167.7815112468,
          891681.4275795801,
          897070.5811196057,
          891068.4133028338,
          889292.8096652549,
          898720.2733327626,
          892426.9959667198,
          908632.6330391951,
          894157.7203823156,
          893808.9348264139,
          886443.3629935719,
          880786.1704248181,
          888518.9792064218,
          880902.785067737,
          895627.7884650462,
          881322.4733774135,
          884759.6084102908,
          878312.118485764,
          874915.4319617826,
          885820.464114525,
          878159.7416447612,
          896381.4540725752,
          883043.0580768449,
          887020.7472057445,
          880937.3259429059,
          878241.4280127317,
          887561.9106647299,
          881489.3896359772,
          897374.4066367062,
          883644.7361746773,
          886305.6484429422,
          879521.1477193246,
          876518.8253085084,
          885995.7232460001,
          880443.8878959679,
          897151.1393378199,
          884351.6316717563,
          887987.5519324235,
          883015.0099360239,
          880801.7297414336,
          888918.4238835652,
          884254.361088734,
          899790.8199970012,
          886507.3223479409,
          889086.5321748019,
          881965.9665702516,
          878480.1840481228,
          887447.3241196306,
          881285.6777477702,
          897398.5800512711,
          884869.6998882263,
          888189.9797990966,
          880277.3208849068,
          878768.099217108,
          888250.6106919762,
          883533.283638608,
          900409.9338739676,
          887258.9924157278,
          890263.5679728504,
          883351.1372473886,
          879875.3672702744,
          888691.0116693947,
          882075.8468628104,
          897512.5328058988,
          884080.7934425499,
          886460.0976929473,
          878601.1843003931,
          876739.3991223603,
          884392.8754958657,
          880990.4752807545,
          898128.3710196197,
          887726.0346366641,
          892853.21917506,
          886516.5613820989,
          887473.8478681511,
          898390.1598403412,
          892946.8247015845,
          912509.5977978888,
          897543.4112789221,
          900620.3215836704,
          893099.7646535557,
          888907.9948523163,
          897102.1956325816,
          889830.5248439953,
          904694.8607681728,
          889627.611132816,
          891340.5887619833,
          883772.9920473039,
          880516.8717802409,
          890543.3264030247,
          885721.0147614575,
          903397.4962887714,
          891125.3953115785,
          895387.5532797943,
          889810.8713848237,
          887810.7569754937,
          898254.6111627237,
          893863.9363103041,
          911250.3338094065,
          895192.3691114146,
          895921.0599338344,
          887491.7566068143,
          882094.3416836031,
          890241.9724931992,
          882773.782655186,
          897659.8893456748,
          882553.2374895706,
          884332.0552284477,
          877729.9475152949,
          874625.2998644843,
          882975.422146843,
          878918.0697899276,
          895518.3797226637,
          882895.56026701,
          886385.9519300213,
          879949.6942365603,
          877232.2009598011,
          887314.7475121637,
          881829.5737977038,
          898320.7266450624,
          884237.7042816377,
          886614.8465408529,
          879193.2033995697,
          875797.7163743947,
          885634.2918838181,
          881265.8150442555,
          898451.1523014104,
          883418.9438585638,
          888653.4556742895,
          882590.6603395689,
          878876.4835871675,
          888636.3820677395,
          883840.2167002273,
          900426.615944102,
          886945.0140069112,
          889437.961229258,
          881891.302983053,
          878205.9225016714,
          888635.9527441147,
          882933.3654020509,
          897623.2810097672,
          885501.5742593969,
          887833.6041051599,
          879329.5838390798,
          877496.4608635359,
          887390.4211113199,
          883045.9404460377,
          900513.086109988,
          887148.9287597133,
          890150.1598121864,
          882985.554632725,
          879554.480455158,
          889159.4221490953,
          883104.3113091035,
          899076.6363989287,
          884210.5252586314,
          885975.6164173392,
          878938.3527881306,
          875518.2673730184,
          883982.105471591,
          880145.749508821,
          897311.1955984174,
          885158.262270344,
          889606.5483097703,
          884353.6106557744,
          883269.9118352769,
          895562.3768793844,
          892195.0210789588,
          910647.1627346021,
          897676.0258059265,
          900728.4191926642,
          893218.1320209801,
          889248.1887758496,
          898318.4909587705,
          891619.8301798567,
          906958.7927776703,
          891309.5528947327,
          892439.8355595573,
          883897.0071251048,
          879903.1098077728,
          889969.5149625728,
          885092.2073770874,
          903848.8646127138,
          892310.5685149115,
          894576.1107205305,
          888638.6548518188,
          887079.0204245461,
          897359.2642932348,
          894353.8167346509,
          910176.8357366357,
          898183.7971284351,
          897602.8316427213,
          889313.3164772089,
          884614.2151546915,
          890933.3170147245,
          885055.5630896955,
          899454.6241531164,
          883971.7896896038,
          885120.1443193996,
          876627.6613067403,
          872767.366768352,
          883080.5527273961,
          878278.8873800589,
          895980.453723159,
          882574.4174779492,
          885858.3206037335,
          879961.4017321671,
          877312.1430848225,
          886385.7300189426,
          882382.7675590779,
          898722.2177123706,
          884644.0221463825,
          886774.4680010058,
          878782.3072998839,
          876055.2690867457,
          886524.0103954544,
          879799.4823217511,
          898166.1875975858,
          883641.7482976081,
          887026.5591650298,
          880019.5372125641,
          877276.9883842708,
          888392.1978634979,
          883851.7629674299,
          901364.2083611055,
          887181.0438485637,
          889459.003487443,
          881397.4183521302,
          877478.810503508,
          887490.2653671872,
          882003.6027112524,
          898861.4354151139,
          884389.8801060481,
          886805.9799065903,
          880251.5822251117,
          877398.8374760877,
          886904.8353776225,
          883573.0400323553,
          900801.4777273528,
          887388.2757020474,
          890121.4024414647,
          882391.0441412595,
          878680.4968136811,
          888783.9856157654,
          883095.5946128357,
          899516.472431819,
          884221.4804013325,
          885740.032701304,
          877277.5555270704,
          873516.2015838876,
          884372.475030547,
          880170.2302399046,
          898740.4404264812,
          886013.9514484454,
          890363.0148387704,
          884679.99252574,
          883398.8635759491,
          896200.0615559883,
          893113.2303208264,
          911840.9129540069,
          898190.3655244987,
          900668.3612429947,
          892289.7374259823,
          887775.0612500506,
          898116.816939993,
          891831.7083795618,
          905899.5921855087,
          890859.1766631252,
          891186.0004165443,
          882745.5889202679,
          878874.7107830084,
          889885.9830754879,
          885800.9081733326,
          904407.5276454273,
          891328.1344836081,
          896079.4960201661,
          889643.4865014161,
          885520.0390630468,
          898055.7463540644,
          893778.6077770228,
          911469.7922113723,
          894464.9275782129,
          897325.8927754496,
          887933.2663023729,
          881197.2257068575,
          889452.798455771,
          882964.474022289,
          898456.5431371519,
          882882.3749232219,
          884171.3495393627,
          875554.5541994269,
          871845.6992135003,
          883036.9090035053,
          878883.3528368323,
          897207.5797214881,
          883432.087272867,
          886402.022397526,
          878866.0294654927,
          875637.8807615922,
          886777.2438457066,
          882064.6936671527,
          899487.8842869281,
          884573.6695181009,
          886432.1461834869,
          877947.1037879162,
          874107.9627212893,
          885090.2015030727,
          880620.9282627411,
          898662.5759683507,
          885522.4229656432,
          888478.4358484381
         ]
        }
       ],
       "layout": {
        "annotations": [
         {
          "arrowhead": 0,
          "ax": -60,
          "ay": 0,
          "showarrow": true,
          "text": "Train End Date",
          "x": "2021-03-31T00:00:00",
          "xref": "x",
          "y": 0.97,
          "yref": "paper"
         }
        ],
        "legend": {
         "traceorder": "reversed"
        },
        "shapes": [
         {
          "line": {
           "color": "rgba(100, 100, 100, 0.9)",
           "width": 1
          },
          "type": "line",
          "x0": "2021-03-31T00:00:00",
          "x1": "2021-03-31T00:00:00",
          "xref": "x",
          "y0": 0,
          "y1": 1,
          "yref": "paper"
         }
        ],
        "showlegend": true,
        "template": {
         "data": {
          "bar": [
           {
            "error_x": {
             "color": "#2a3f5f"
            },
            "error_y": {
             "color": "#2a3f5f"
            },
            "marker": {
             "line": {
              "color": "#E5ECF6",
              "width": 0.5
             }
            },
            "type": "bar"
           }
          ],
          "barpolar": [
           {
            "marker": {
             "line": {
              "color": "#E5ECF6",
              "width": 0.5
             }
            },
            "type": "barpolar"
           }
          ],
          "carpet": [
           {
            "aaxis": {
             "endlinecolor": "#2a3f5f",
             "gridcolor": "white",
             "linecolor": "white",
             "minorgridcolor": "white",
             "startlinecolor": "#2a3f5f"
            },
            "baxis": {
             "endlinecolor": "#2a3f5f",
             "gridcolor": "white",
             "linecolor": "white",
             "minorgridcolor": "white",
             "startlinecolor": "#2a3f5f"
            },
            "type": "carpet"
           }
          ],
          "choropleth": [
           {
            "colorbar": {
             "outlinewidth": 0,
             "ticks": ""
            },
            "type": "choropleth"
           }
          ],
          "contour": [
           {
            "colorbar": {
             "outlinewidth": 0,
             "ticks": ""
            },
            "colorscale": [
             [
              0,
              "#0d0887"
             ],
             [
              0.1111111111111111,
              "#46039f"
             ],
             [
              0.2222222222222222,
              "#7201a8"
             ],
             [
              0.3333333333333333,
              "#9c179e"
             ],
             [
              0.4444444444444444,
              "#bd3786"
             ],
             [
              0.5555555555555556,
              "#d8576b"
             ],
             [
              0.6666666666666666,
              "#ed7953"
             ],
             [
              0.7777777777777778,
              "#fb9f3a"
             ],
             [
              0.8888888888888888,
              "#fdca26"
             ],
             [
              1,
              "#f0f921"
             ]
            ],
            "type": "contour"
           }
          ],
          "contourcarpet": [
           {
            "colorbar": {
             "outlinewidth": 0,
             "ticks": ""
            },
            "type": "contourcarpet"
           }
          ],
          "heatmap": [
           {
            "colorbar": {
             "outlinewidth": 0,
             "ticks": ""
            },
            "colorscale": [
             [
              0,
              "#0d0887"
             ],
             [
              0.1111111111111111,
              "#46039f"
             ],
             [
              0.2222222222222222,
              "#7201a8"
             ],
             [
              0.3333333333333333,
              "#9c179e"
             ],
             [
              0.4444444444444444,
              "#bd3786"
             ],
             [
              0.5555555555555556,
              "#d8576b"
             ],
             [
              0.6666666666666666,
              "#ed7953"
             ],
             [
              0.7777777777777778,
              "#fb9f3a"
             ],
             [
              0.8888888888888888,
              "#fdca26"
             ],
             [
              1,
              "#f0f921"
             ]
            ],
            "type": "heatmap"
           }
          ],
          "heatmapgl": [
           {
            "colorbar": {
             "outlinewidth": 0,
             "ticks": ""
            },
            "colorscale": [
             [
              0,
              "#0d0887"
             ],
             [
              0.1111111111111111,
              "#46039f"
             ],
             [
              0.2222222222222222,
              "#7201a8"
             ],
             [
              0.3333333333333333,
              "#9c179e"
             ],
             [
              0.4444444444444444,
              "#bd3786"
             ],
             [
              0.5555555555555556,
              "#d8576b"
             ],
             [
              0.6666666666666666,
              "#ed7953"
             ],
             [
              0.7777777777777778,
              "#fb9f3a"
             ],
             [
              0.8888888888888888,
              "#fdca26"
             ],
             [
              1,
              "#f0f921"
             ]
            ],
            "type": "heatmapgl"
           }
          ],
          "histogram": [
           {
            "marker": {
             "colorbar": {
              "outlinewidth": 0,
              "ticks": ""
             }
            },
            "type": "histogram"
           }
          ],
          "histogram2d": [
           {
            "colorbar": {
             "outlinewidth": 0,
             "ticks": ""
            },
            "colorscale": [
             [
              0,
              "#0d0887"
             ],
             [
              0.1111111111111111,
              "#46039f"
             ],
             [
              0.2222222222222222,
              "#7201a8"
             ],
             [
              0.3333333333333333,
              "#9c179e"
             ],
             [
              0.4444444444444444,
              "#bd3786"
             ],
             [
              0.5555555555555556,
              "#d8576b"
             ],
             [
              0.6666666666666666,
              "#ed7953"
             ],
             [
              0.7777777777777778,
              "#fb9f3a"
             ],
             [
              0.8888888888888888,
              "#fdca26"
             ],
             [
              1,
              "#f0f921"
             ]
            ],
            "type": "histogram2d"
           }
          ],
          "histogram2dcontour": [
           {
            "colorbar": {
             "outlinewidth": 0,
             "ticks": ""
            },
            "colorscale": [
             [
              0,
              "#0d0887"
             ],
             [
              0.1111111111111111,
              "#46039f"
             ],
             [
              0.2222222222222222,
              "#7201a8"
             ],
             [
              0.3333333333333333,
              "#9c179e"
             ],
             [
              0.4444444444444444,
              "#bd3786"
             ],
             [
              0.5555555555555556,
              "#d8576b"
             ],
             [
              0.6666666666666666,
              "#ed7953"
             ],
             [
              0.7777777777777778,
              "#fb9f3a"
             ],
             [
              0.8888888888888888,
              "#fdca26"
             ],
             [
              1,
              "#f0f921"
             ]
            ],
            "type": "histogram2dcontour"
           }
          ],
          "mesh3d": [
           {
            "colorbar": {
             "outlinewidth": 0,
             "ticks": ""
            },
            "type": "mesh3d"
           }
          ],
          "parcoords": [
           {
            "line": {
             "colorbar": {
              "outlinewidth": 0,
              "ticks": ""
             }
            },
            "type": "parcoords"
           }
          ],
          "pie": [
           {
            "automargin": true,
            "type": "pie"
           }
          ],
          "scatter": [
           {
            "marker": {
             "colorbar": {
              "outlinewidth": 0,
              "ticks": ""
             }
            },
            "type": "scatter"
           }
          ],
          "scatter3d": [
           {
            "line": {
             "colorbar": {
              "outlinewidth": 0,
              "ticks": ""
             }
            },
            "marker": {
             "colorbar": {
              "outlinewidth": 0,
              "ticks": ""
             }
            },
            "type": "scatter3d"
           }
          ],
          "scattercarpet": [
           {
            "marker": {
             "colorbar": {
              "outlinewidth": 0,
              "ticks": ""
             }
            },
            "type": "scattercarpet"
           }
          ],
          "scattergeo": [
           {
            "marker": {
             "colorbar": {
              "outlinewidth": 0,
              "ticks": ""
             }
            },
            "type": "scattergeo"
           }
          ],
          "scattergl": [
           {
            "marker": {
             "colorbar": {
              "outlinewidth": 0,
              "ticks": ""
             }
            },
            "type": "scattergl"
           }
          ],
          "scattermapbox": [
           {
            "marker": {
             "colorbar": {
              "outlinewidth": 0,
              "ticks": ""
             }
            },
            "type": "scattermapbox"
           }
          ],
          "scatterpolar": [
           {
            "marker": {
             "colorbar": {
              "outlinewidth": 0,
              "ticks": ""
             }
            },
            "type": "scatterpolar"
           }
          ],
          "scatterpolargl": [
           {
            "marker": {
             "colorbar": {
              "outlinewidth": 0,
              "ticks": ""
             }
            },
            "type": "scatterpolargl"
           }
          ],
          "scatterternary": [
           {
            "marker": {
             "colorbar": {
              "outlinewidth": 0,
              "ticks": ""
             }
            },
            "type": "scatterternary"
           }
          ],
          "surface": [
           {
            "colorbar": {
             "outlinewidth": 0,
             "ticks": ""
            },
            "colorscale": [
             [
              0,
              "#0d0887"
             ],
             [
              0.1111111111111111,
              "#46039f"
             ],
             [
              0.2222222222222222,
              "#7201a8"
             ],
             [
              0.3333333333333333,
              "#9c179e"
             ],
             [
              0.4444444444444444,
              "#bd3786"
             ],
             [
              0.5555555555555556,
              "#d8576b"
             ],
             [
              0.6666666666666666,
              "#ed7953"
             ],
             [
              0.7777777777777778,
              "#fb9f3a"
             ],
             [
              0.8888888888888888,
              "#fdca26"
             ],
             [
              1,
              "#f0f921"
             ]
            ],
            "type": "surface"
           }
          ],
          "table": [
           {
            "cells": {
             "fill": {
              "color": "#EBF0F8"
             },
             "line": {
              "color": "white"
             }
            },
            "header": {
             "fill": {
              "color": "#C8D4E3"
             },
             "line": {
              "color": "white"
             }
            },
            "type": "table"
           }
          ]
         },
         "layout": {
          "annotationdefaults": {
           "arrowcolor": "#2a3f5f",
           "arrowhead": 0,
           "arrowwidth": 1
          },
          "coloraxis": {
           "colorbar": {
            "outlinewidth": 0,
            "ticks": ""
           }
          },
          "colorscale": {
           "diverging": [
            [
             0,
             "#8e0152"
            ],
            [
             0.1,
             "#c51b7d"
            ],
            [
             0.2,
             "#de77ae"
            ],
            [
             0.3,
             "#f1b6da"
            ],
            [
             0.4,
             "#fde0ef"
            ],
            [
             0.5,
             "#f7f7f7"
            ],
            [
             0.6,
             "#e6f5d0"
            ],
            [
             0.7,
             "#b8e186"
            ],
            [
             0.8,
             "#7fbc41"
            ],
            [
             0.9,
             "#4d9221"
            ],
            [
             1,
             "#276419"
            ]
           ],
           "sequential": [
            [
             0,
             "#0d0887"
            ],
            [
             0.1111111111111111,
             "#46039f"
            ],
            [
             0.2222222222222222,
             "#7201a8"
            ],
            [
             0.3333333333333333,
             "#9c179e"
            ],
            [
             0.4444444444444444,
             "#bd3786"
            ],
            [
             0.5555555555555556,
             "#d8576b"
            ],
            [
             0.6666666666666666,
             "#ed7953"
            ],
            [
             0.7777777777777778,
             "#fb9f3a"
            ],
            [
             0.8888888888888888,
             "#fdca26"
            ],
            [
             1,
             "#f0f921"
            ]
           ],
           "sequentialminus": [
            [
             0,
             "#0d0887"
            ],
            [
             0.1111111111111111,
             "#46039f"
            ],
            [
             0.2222222222222222,
             "#7201a8"
            ],
            [
             0.3333333333333333,
             "#9c179e"
            ],
            [
             0.4444444444444444,
             "#bd3786"
            ],
            [
             0.5555555555555556,
             "#d8576b"
            ],
            [
             0.6666666666666666,
             "#ed7953"
            ],
            [
             0.7777777777777778,
             "#fb9f3a"
            ],
            [
             0.8888888888888888,
             "#fdca26"
            ],
            [
             1,
             "#f0f921"
            ]
           ]
          },
          "colorway": [
           "#636efa",
           "#EF553B",
           "#00cc96",
           "#ab63fa",
           "#FFA15A",
           "#19d3f3",
           "#FF6692",
           "#B6E880",
           "#FF97FF",
           "#FECB52"
          ],
          "font": {
           "color": "#2a3f5f"
          },
          "geo": {
           "bgcolor": "white",
           "lakecolor": "white",
           "landcolor": "#E5ECF6",
           "showlakes": true,
           "showland": true,
           "subunitcolor": "white"
          },
          "hoverlabel": {
           "align": "left"
          },
          "hovermode": "closest",
          "mapbox": {
           "style": "light"
          },
          "paper_bgcolor": "white",
          "plot_bgcolor": "#E5ECF6",
          "polar": {
           "angularaxis": {
            "gridcolor": "white",
            "linecolor": "white",
            "ticks": ""
           },
           "bgcolor": "#E5ECF6",
           "radialaxis": {
            "gridcolor": "white",
            "linecolor": "white",
            "ticks": ""
           }
          },
          "scene": {
           "xaxis": {
            "backgroundcolor": "#E5ECF6",
            "gridcolor": "white",
            "gridwidth": 2,
            "linecolor": "white",
            "showbackground": true,
            "ticks": "",
            "zerolinecolor": "white"
           },
           "yaxis": {
            "backgroundcolor": "#E5ECF6",
            "gridcolor": "white",
            "gridwidth": 2,
            "linecolor": "white",
            "showbackground": true,
            "ticks": "",
            "zerolinecolor": "white"
           },
           "zaxis": {
            "backgroundcolor": "#E5ECF6",
            "gridcolor": "white",
            "gridwidth": 2,
            "linecolor": "white",
            "showbackground": true,
            "ticks": "",
            "zerolinecolor": "white"
           }
          },
          "shapedefaults": {
           "line": {
            "color": "#2a3f5f"
           }
          },
          "ternary": {
           "aaxis": {
            "gridcolor": "white",
            "linecolor": "white",
            "ticks": ""
           },
           "baxis": {
            "gridcolor": "white",
            "linecolor": "white",
            "ticks": ""
           },
           "bgcolor": "#E5ECF6",
           "caxis": {
            "gridcolor": "white",
            "linecolor": "white",
            "ticks": ""
           }
          },
          "title": {
           "x": 0.05
          },
          "xaxis": {
           "automargin": true,
           "gridcolor": "white",
           "linecolor": "white",
           "ticks": "",
           "title": {
            "standoff": 15
           },
           "zerolinecolor": "white",
           "zerolinewidth": 2
          },
          "yaxis": {
           "automargin": true,
           "gridcolor": "white",
           "linecolor": "white",
           "ticks": "",
           "title": {
            "standoff": 15
           },
           "zerolinecolor": "white",
           "zerolinewidth": 2
          }
         }
        },
        "title": {
         "text": "Forecast vs Actual"
        },
        "xaxis": {
         "title": {
          "text": "ts"
         }
        },
        "yaxis": {
         "title": {
          "text": "y"
         }
        }
       }
      },
      "text/html": [
       "<div>                            <div id=\"e7e62125-62d9-421b-a297-6dcbdb61ea71\" class=\"plotly-graph-div\" style=\"height:525px; width:100%;\"></div>            <script type=\"text/javascript\">                require([\"plotly\"], function(Plotly) {                    window.PLOTLYENV=window.PLOTLYENV || {};                                    if (document.getElementById(\"e7e62125-62d9-421b-a297-6dcbdb61ea71\")) {                    Plotly.newPlot(                        \"e7e62125-62d9-421b-a297-6dcbdb61ea71\",                        [{\"legendgroup\": \"interval\", \"line\": {\"color\": \"rgba(0, 90, 181, 0.5)\", \"width\": 0.0}, \"mode\": \"lines\", \"name\": \"Lower Bound\", \"type\": \"scatter\", \"x\": [\"2020-04-01T00:00:00\", \"2020-04-02T00:00:00\", \"2020-04-03T00:00:00\", \"2020-04-04T00:00:00\", \"2020-04-05T00:00:00\", \"2020-04-06T00:00:00\", \"2020-04-07T00:00:00\", \"2020-04-08T00:00:00\", \"2020-04-09T00:00:00\", \"2020-04-10T00:00:00\", \"2020-04-11T00:00:00\", \"2020-04-12T00:00:00\", \"2020-04-13T00:00:00\", \"2020-04-14T00:00:00\", \"2020-04-15T00:00:00\", \"2020-04-16T00:00:00\", \"2020-04-17T00:00:00\", \"2020-04-18T00:00:00\", \"2020-04-19T00:00:00\", \"2020-04-20T00:00:00\", \"2020-04-21T00:00:00\", \"2020-04-22T00:00:00\", \"2020-04-23T00:00:00\", \"2020-04-24T00:00:00\", \"2020-04-25T00:00:00\", \"2020-04-26T00:00:00\", \"2020-04-27T00:00:00\", \"2020-04-28T00:00:00\", \"2020-04-29T00:00:00\", \"2020-04-30T00:00:00\", \"2020-05-01T00:00:00\", \"2020-05-02T00:00:00\", \"2020-05-03T00:00:00\", \"2020-05-04T00:00:00\", \"2020-05-05T00:00:00\", \"2020-05-06T00:00:00\", \"2020-05-07T00:00:00\", \"2020-05-08T00:00:00\", \"2020-05-09T00:00:00\", \"2020-05-10T00:00:00\", \"2020-05-11T00:00:00\", \"2020-05-12T00:00:00\", \"2020-05-13T00:00:00\", \"2020-05-14T00:00:00\", \"2020-05-15T00:00:00\", \"2020-05-16T00:00:00\", \"2020-05-17T00:00:00\", \"2020-05-18T00:00:00\", \"2020-05-19T00:00:00\", \"2020-05-20T00:00:00\", \"2020-05-21T00:00:00\", \"2020-05-22T00:00:00\", \"2020-05-23T00:00:00\", \"2020-05-24T00:00:00\", \"2020-05-25T00:00:00\", \"2020-05-26T00:00:00\", \"2020-05-27T00:00:00\", \"2020-05-28T00:00:00\", \"2020-05-29T00:00:00\", \"2020-05-30T00:00:00\", \"2020-05-31T00:00:00\", \"2020-06-01T00:00:00\", \"2020-06-02T00:00:00\", \"2020-06-03T00:00:00\", \"2020-06-04T00:00:00\", \"2020-06-05T00:00:00\", \"2020-06-06T00:00:00\", \"2020-06-07T00:00:00\", \"2020-06-08T00:00:00\", \"2020-06-09T00:00:00\", \"2020-06-10T00:00:00\", \"2020-06-11T00:00:00\", \"2020-06-12T00:00:00\", \"2020-06-13T00:00:00\", \"2020-06-14T00:00:00\", \"2020-06-15T00:00:00\", \"2020-06-16T00:00:00\", \"2020-06-17T00:00:00\", \"2020-06-18T00:00:00\", \"2020-06-19T00:00:00\", \"2020-06-20T00:00:00\", \"2020-06-21T00:00:00\", \"2020-06-22T00:00:00\", \"2020-06-23T00:00:00\", \"2020-06-24T00:00:00\", \"2020-06-25T00:00:00\", \"2020-06-26T00:00:00\", \"2020-06-27T00:00:00\", \"2020-06-28T00:00:00\", \"2020-06-29T00:00:00\", \"2020-06-30T00:00:00\", \"2020-07-01T00:00:00\", \"2020-07-02T00:00:00\", \"2020-07-03T00:00:00\", \"2020-07-04T00:00:00\", \"2020-07-05T00:00:00\", \"2020-07-06T00:00:00\", \"2020-07-07T00:00:00\", \"2020-07-08T00:00:00\", \"2020-07-09T00:00:00\", \"2020-07-10T00:00:00\", \"2020-07-11T00:00:00\", \"2020-07-12T00:00:00\", \"2020-07-13T00:00:00\", \"2020-07-14T00:00:00\", \"2020-07-15T00:00:00\", \"2020-07-16T00:00:00\", \"2020-07-17T00:00:00\", \"2020-07-18T00:00:00\", \"2020-07-19T00:00:00\", \"2020-07-20T00:00:00\", \"2020-07-21T00:00:00\", \"2020-07-22T00:00:00\", \"2020-07-23T00:00:00\", \"2020-07-24T00:00:00\", \"2020-07-25T00:00:00\", \"2020-07-26T00:00:00\", \"2020-07-27T00:00:00\", \"2020-07-28T00:00:00\", \"2020-07-29T00:00:00\", \"2020-07-30T00:00:00\", \"2020-07-31T00:00:00\", \"2020-08-01T00:00:00\", \"2020-08-02T00:00:00\", \"2020-08-03T00:00:00\", \"2020-08-04T00:00:00\", \"2020-08-05T00:00:00\", \"2020-08-06T00:00:00\", \"2020-08-07T00:00:00\", \"2020-08-08T00:00:00\", \"2020-08-09T00:00:00\", \"2020-08-10T00:00:00\", \"2020-08-11T00:00:00\", \"2020-08-12T00:00:00\", \"2020-08-13T00:00:00\", \"2020-08-14T00:00:00\", \"2020-08-15T00:00:00\", \"2020-08-16T00:00:00\", \"2020-08-17T00:00:00\", \"2020-08-18T00:00:00\", \"2020-08-19T00:00:00\", \"2020-08-20T00:00:00\", \"2020-08-21T00:00:00\", \"2020-08-22T00:00:00\", \"2020-08-23T00:00:00\", \"2020-08-24T00:00:00\", \"2020-08-25T00:00:00\", \"2020-08-26T00:00:00\", \"2020-08-27T00:00:00\", \"2020-08-28T00:00:00\", \"2020-08-29T00:00:00\", \"2020-08-30T00:00:00\", \"2020-08-31T00:00:00\", \"2020-09-01T00:00:00\", \"2020-09-02T00:00:00\", \"2020-09-03T00:00:00\", \"2020-09-04T00:00:00\", \"2020-09-05T00:00:00\", \"2020-09-06T00:00:00\", \"2020-09-07T00:00:00\", \"2020-09-08T00:00:00\", \"2020-09-09T00:00:00\", \"2020-09-10T00:00:00\", \"2020-09-11T00:00:00\", \"2020-09-12T00:00:00\", \"2020-09-13T00:00:00\", \"2020-09-14T00:00:00\", \"2020-09-15T00:00:00\", \"2020-09-16T00:00:00\", \"2020-09-17T00:00:00\", \"2020-09-18T00:00:00\", \"2020-09-19T00:00:00\", \"2020-09-20T00:00:00\", \"2020-09-21T00:00:00\", \"2020-09-22T00:00:00\", \"2020-09-23T00:00:00\", \"2020-09-24T00:00:00\", \"2020-09-25T00:00:00\", \"2020-09-26T00:00:00\", \"2020-09-27T00:00:00\", \"2020-09-28T00:00:00\", \"2020-09-29T00:00:00\", \"2020-09-30T00:00:00\", \"2020-10-01T00:00:00\", \"2020-10-02T00:00:00\", \"2020-10-03T00:00:00\", \"2020-10-04T00:00:00\", \"2020-10-05T00:00:00\", \"2020-10-06T00:00:00\", \"2020-10-07T00:00:00\", \"2020-10-08T00:00:00\", \"2020-10-09T00:00:00\", \"2020-10-10T00:00:00\", \"2020-10-11T00:00:00\", \"2020-10-12T00:00:00\", \"2020-10-13T00:00:00\", \"2020-10-14T00:00:00\", \"2020-10-15T00:00:00\", \"2020-10-16T00:00:00\", \"2020-10-17T00:00:00\", \"2020-10-18T00:00:00\", \"2020-10-19T00:00:00\", \"2020-10-20T00:00:00\", \"2020-10-21T00:00:00\", \"2020-10-22T00:00:00\", \"2020-10-23T00:00:00\", \"2020-10-24T00:00:00\", \"2020-10-25T00:00:00\", \"2020-10-26T00:00:00\", \"2020-10-27T00:00:00\", \"2020-10-28T00:00:00\", \"2020-10-29T00:00:00\", \"2020-10-30T00:00:00\", \"2020-10-31T00:00:00\", \"2020-11-01T00:00:00\", \"2020-11-02T00:00:00\", \"2020-11-03T00:00:00\", \"2020-11-04T00:00:00\", \"2020-11-05T00:00:00\", \"2020-11-06T00:00:00\", \"2020-11-07T00:00:00\", \"2020-11-08T00:00:00\", \"2020-11-09T00:00:00\", \"2020-11-10T00:00:00\", \"2020-11-11T00:00:00\", \"2020-11-12T00:00:00\", \"2020-11-13T00:00:00\", \"2020-11-14T00:00:00\", \"2020-11-15T00:00:00\", \"2020-11-16T00:00:00\", \"2020-11-17T00:00:00\", \"2020-11-18T00:00:00\", \"2020-11-19T00:00:00\", \"2020-11-20T00:00:00\", \"2020-11-21T00:00:00\", \"2020-11-22T00:00:00\", \"2020-11-23T00:00:00\", \"2020-11-24T00:00:00\", \"2020-11-25T00:00:00\", \"2020-11-26T00:00:00\", \"2020-11-27T00:00:00\", \"2020-11-28T00:00:00\", \"2020-11-29T00:00:00\", \"2020-11-30T00:00:00\", \"2020-12-01T00:00:00\", \"2020-12-02T00:00:00\", \"2020-12-03T00:00:00\", \"2020-12-04T00:00:00\", \"2020-12-05T00:00:00\", \"2020-12-06T00:00:00\", \"2020-12-07T00:00:00\", \"2020-12-08T00:00:00\", \"2020-12-09T00:00:00\", \"2020-12-10T00:00:00\", \"2020-12-11T00:00:00\", \"2020-12-12T00:00:00\", \"2020-12-13T00:00:00\", \"2020-12-14T00:00:00\", \"2020-12-15T00:00:00\", \"2020-12-16T00:00:00\", \"2020-12-17T00:00:00\", \"2020-12-18T00:00:00\", \"2020-12-19T00:00:00\", \"2020-12-20T00:00:00\", \"2020-12-21T00:00:00\", \"2020-12-22T00:00:00\", \"2020-12-23T00:00:00\", \"2020-12-24T00:00:00\", \"2020-12-25T00:00:00\", \"2020-12-26T00:00:00\", \"2020-12-27T00:00:00\", \"2020-12-28T00:00:00\", \"2020-12-29T00:00:00\", \"2020-12-30T00:00:00\", \"2020-12-31T00:00:00\", \"2021-01-01T00:00:00\", \"2021-01-02T00:00:00\", \"2021-01-03T00:00:00\", \"2021-01-04T00:00:00\", \"2021-01-05T00:00:00\", \"2021-01-06T00:00:00\", \"2021-01-07T00:00:00\", \"2021-01-08T00:00:00\", \"2021-01-09T00:00:00\", \"2021-01-10T00:00:00\", \"2021-01-11T00:00:00\", \"2021-01-12T00:00:00\", \"2021-01-13T00:00:00\", \"2021-01-14T00:00:00\", \"2021-01-15T00:00:00\", \"2021-01-16T00:00:00\", \"2021-01-17T00:00:00\", \"2021-01-18T00:00:00\", \"2021-01-19T00:00:00\", \"2021-01-20T00:00:00\", \"2021-01-21T00:00:00\", \"2021-01-22T00:00:00\", \"2021-01-23T00:00:00\", \"2021-01-24T00:00:00\", \"2021-01-25T00:00:00\", \"2021-01-26T00:00:00\", \"2021-01-27T00:00:00\", \"2021-01-28T00:00:00\", \"2021-01-29T00:00:00\", \"2021-01-30T00:00:00\", \"2021-01-31T00:00:00\", \"2021-02-01T00:00:00\", \"2021-02-02T00:00:00\", \"2021-02-03T00:00:00\", \"2021-02-04T00:00:00\", \"2021-02-05T00:00:00\", \"2021-02-06T00:00:00\", \"2021-02-07T00:00:00\", \"2021-02-08T00:00:00\", \"2021-02-09T00:00:00\", \"2021-02-10T00:00:00\", \"2021-02-11T00:00:00\", \"2021-02-12T00:00:00\", \"2021-02-13T00:00:00\", \"2021-02-14T00:00:00\", \"2021-02-15T00:00:00\", \"2021-02-16T00:00:00\", \"2021-02-17T00:00:00\", \"2021-02-18T00:00:00\", \"2021-02-19T00:00:00\", \"2021-02-20T00:00:00\", \"2021-02-21T00:00:00\", \"2021-02-22T00:00:00\", \"2021-02-23T00:00:00\", \"2021-02-24T00:00:00\", \"2021-02-25T00:00:00\", \"2021-02-26T00:00:00\", \"2021-02-27T00:00:00\", \"2021-02-28T00:00:00\", \"2021-03-01T00:00:00\", \"2021-03-02T00:00:00\", \"2021-03-03T00:00:00\", \"2021-03-04T00:00:00\", \"2021-03-05T00:00:00\", \"2021-03-06T00:00:00\", \"2021-03-07T00:00:00\", \"2021-03-08T00:00:00\", \"2021-03-09T00:00:00\", \"2021-03-10T00:00:00\", \"2021-03-11T00:00:00\", \"2021-03-12T00:00:00\", \"2021-03-13T00:00:00\", \"2021-03-14T00:00:00\", \"2021-03-15T00:00:00\", \"2021-03-16T00:00:00\", \"2021-03-17T00:00:00\", \"2021-03-18T00:00:00\", \"2021-03-19T00:00:00\", \"2021-03-20T00:00:00\", \"2021-03-21T00:00:00\", \"2021-03-22T00:00:00\", \"2021-03-23T00:00:00\", \"2021-03-24T00:00:00\", \"2021-03-25T00:00:00\", \"2021-03-26T00:00:00\", \"2021-03-27T00:00:00\", \"2021-03-28T00:00:00\", \"2021-03-29T00:00:00\", \"2021-03-30T00:00:00\", \"2021-03-31T00:00:00\", \"2021-04-01T00:00:00\", \"2021-04-02T00:00:00\", \"2021-04-03T00:00:00\", \"2021-04-04T00:00:00\", \"2021-04-05T00:00:00\", \"2021-04-06T00:00:00\", \"2021-04-07T00:00:00\", \"2021-04-08T00:00:00\", \"2021-04-09T00:00:00\", \"2021-04-10T00:00:00\", \"2021-04-11T00:00:00\", \"2021-04-12T00:00:00\", \"2021-04-13T00:00:00\", \"2021-04-14T00:00:00\", \"2021-04-15T00:00:00\", \"2021-04-16T00:00:00\", \"2021-04-17T00:00:00\", \"2021-04-18T00:00:00\", \"2021-04-19T00:00:00\", \"2021-04-20T00:00:00\", \"2021-04-21T00:00:00\", \"2021-04-22T00:00:00\", \"2021-04-23T00:00:00\", \"2021-04-24T00:00:00\", \"2021-04-25T00:00:00\", \"2021-04-26T00:00:00\", \"2021-04-27T00:00:00\", \"2021-04-28T00:00:00\", \"2021-04-29T00:00:00\", \"2021-04-30T00:00:00\"], \"y\": [-3837001.101978433, -740924.9217644006, -196928.19143714313, -363628.2236762084, -334716.1173088384, -687885.0354403913, 106389.04319006193, -3848043.324089333, -754277.2487351915, -208367.9579591581, -371395.65385258, -340680.89053854265, -692149.5174129843, 104181.92966077814, -3848877.7547687907, -751451.4365524265, -206344.0146802389, -369263.36941484874, -337444.27877169545, -688846.8724839559, 106397.27692816581, -3847374.6602572366, -751401.5673976181, -207221.425254266, -370774.80790954956, -339173.4104778707, -690321.9122094675, 105534.7226610292, -3846394.875564007, -749335.5323638195, -205919.91179063986, -367676.2833088784, -335131.3138435257, -686801.6206811529, 108864.03033642052, -3843611.746981727, -747448.5179503309, -205125.7978924811, -368134.80458734103, -337796.3104774988, -689121.411719125, 106136.77795302006, -3847292.6448923703, -750923.1954323956, -206140.57584832865, -369093.450181109, -336877.43365981826, -687397.5049766995, 109765.95166148711, -3842912.7058533006, -748189.1076342269, -201921.88957785582, -365419.7093450859, -335711.04550849146, -688441.3000938415, 106459.86785354605, -3848103.012878697, -752318.0918313328, -207450.42917467048, -369987.1725113648, -339633.888800342, -690650.4387508681, 106540.15886249102, -3845316.2961420063, -746768.0027453917, -200190.0713826362, -361608.5272828877, -328092.9956717482, -677511.3213037124, 119335.29245548788, -3833248.359423016, -737129.4893547556, -193344.08588570857, -358054.15939276386, -327982.74609554093, -680637.7393193727, 113417.90887870465, -3841230.3109601066, -746333.5204116559, -202752.1639066632, -366689.7465818438, -334936.7638945192, -685167.7137947652, 112680.30859699729, -3838879.9000031906, -743062.7970691724, -196425.60500295868, -359767.8974579574, -327225.73096603283, -677932.3233426033, 117531.86296272743, -3835415.048475242, -740586.5042664369, -199687.2512961505, -364392.9477672193, -335732.37020646967, -688133.6174689442, 106007.65206374461, -3848419.893049391, -753421.751271339, -208736.57771227357, -372524.19227502716, -341603.1086695051, -690832.1325608409, 103264.6086407688, -3847666.227441862, -751701.1665719076, -206475.43891681987, -369898.9848178853, -338277.112618556, -689090.686010636, 106594.25663198484, -3846673.274877731, -751099.4884740752, -207190.53767962218, -371315.1630414666, -339999.7153227794, -690656.8734293658, 105548.75489197555, -3846896.5421766173, -750392.5929769962, -205508.63419014087, -367821.3008247673, -335716.8108898541, -687734.1727918007, 109359.22808474163, -3844256.861517436, -748236.9023008116, -204409.65394776245, -368870.34419053956, -338038.3565831649, -689205.2725557353, 106390.54474377783, -3846649.101463166, -749874.5247605261, -205306.20632346778, -370558.9898758844, -337750.44141417975, -688401.9859833898, 108638.15063461557, -3843637.7476404696, -747485.2322330247, -203232.61814971396, -367485.1735134026, -336643.1733610133, -687961.5850059713, 107180.71385881805, -3846535.1487085386, -750663.4312062026, -207036.0884296171, -372235.1264603981, -339779.14150892745, -692259.7211795002, 106095.34227676212, -3845919.310494818, -747018.1900120884, -200642.96694750432, -364319.74937869224, -329044.6927631366, -678262.4368350247, 118051.69169759215, -3831538.0837165485, -737200.8133698304, -192875.86453889392, -357736.5461072355, -327610.5457789714, -679550.4010427843, 114935.39184000297, -3839352.8207462644, -745116.6135159365, -202155.59736058104, -367063.31871348724, -336001.6688510468, -686109.2702723412, 110825.88175746507, -3840650.185225666, -743618.829337174, -198108.63284277008, -361025.4393759675, -328707.783655794, -678397.9855126422, 118968.80330631172, -3832797.347705031, -739551.8555373378, -197575.12618873, -363344.55415397685, -334424.1989476846, -686410.6241821668, 107878.64965119364, -3846387.7921687625, -752190.9871591819, -209164.1308941167, -373106.3632454963, -341893.2407668034, -693677.1745285229, 104022.93678593519, -3848529.3017917736, -751848.6643817425, -207110.23419254308, -370886.6165242309, -339286.33967148664, -689337.8491632022, 106934.44079371146, -3845726.9548693746, -750506.5203671148, -206881.33958171145, -371643.10736122145, -340720.824256893, -691018.3047915478, 106370.68204026308, -3845596.529213027, -751325.2807901887, -204842.73044827487, -368245.6504212223, -337642.0570441203, -688016.2146076264, 108945.08369623497, -3843621.0655703354, -747799.2106418413, -204058.22489330638, -368945.00777773815, -338312.61812961637, -688016.6439312513, 108038.23239805852, -3846424.40050467, -749242.6503893556, -205662.5820174045, -371506.72692171135, -339022.07976775186, -689262.175564046, 108150.8074420453, -3843534.5954044494, -747595.2958890392, -203346.026310378, -367850.7561280662, -336964.0601761297, -687493.1745262706, 108209.17830511113, -3844971.0451155086, -750533.699390121, -207520.56970522518, -371897.95797266054, -341000.2732582693, -692670.4912037749, 105250.61650482868, -3846736.48591602, -749585.9623784085, -203889.63781279407, -366482.7001050168, -333248.62879601086, -681090.2197959815, 117299.88807496638, -3833400.518779835, -737068.198842826, -192767.76692990016, -357618.17873981106, -327270.3518554381, -678334.1057165954, 116724.69717586436, -3837088.8887367668, -743434.6717540198, -201056.35056300706, -366939.3036356864, -336615.43082351494, -686683.0817127931, 110197.07437309506, -3840198.8169017234, -742433.656133841, -198920.07540203386, -362197.6559089724, -329439.52020674164, -679293.3323821311, 119458.6837306585, -3833870.8457778017, -736560.4275203174, -195893.35447984305, -361522.9942835823, -331904.32547659625, -685719.2796606414, 110160.43008570315, -3844593.057361321, -750772.4349591486, -208376.04180316476, -374208.64945405093, -343751.17386293574, -693572.0439479698, 103383.7543760665, -3848067.227791278, -752169.8071708033, -207637.86551883083, -370874.90902862407, -339206.3975464653, -690266.8666564233, 107487.63455508556, -3845325.4638020666, -750100.20250237, -206721.71812155854, -372054.00346090726, -340463.27154454205, -690128.5862799116, 104904.3493177587, -3845881.4939168515, -751102.4763511444, -206469.62695753458, -370816.77354822704, -339241.5522470169, -688260.398811868, 108956.62996343756, -3842683.473153332, -747563.1808001888, -204037.1826351214, -369438.89240866096, -339039.73012777977, -689162.3313081787, 107108.46970726002, -3845186.2460993235, -750354.3445427044, -206690.20621597406, -370584.7285356795, -339119.7031552, -689747.7612977434, 108677.90702836297, -3843246.2037870847, -747355.9489467051, -203374.78368109965, -368445.26661953167, -337838.04381760664, -687868.6110596005, 108200.4616088433, -3844531.2090826184, -750522.74424742, -207756.15342126042, -373558.75523372076, -343002.33904740016, -692280.1216448189, 105275.09723591222, -3845307.2410879564, -748730.273200307, -203133.17128379398, -366156.31823505124, -333119.67705533863, -680452.5351193777, 118218.09731683403, -3832206.7685604305, -736553.8591242537, -192827.8248795697, -358546.5733348089, -328743.4793812372, -678535.779735373, 116936.5753755694, -3838148.089328929, -743885.0479856273, -202310.1857060201, -368090.7218405233, -337643.82984827936, -686766.613599878, 110905.7751693402, -3839640.15386901, -743416.0901651444, -197416.69010239828, -361192.8242593751, -330998.5015682409, -678596.8503213015, 118883.47477303038, -3832577.889303065, -740279.2970705396, -196170.2933471148, -362903.04445841827, -335321.3149244302, -687199.798219595, 108069.34101829666, -3845591.1383772856, -751861.8497255306, -209324.83658320166, -375281.7565613643, -344672.8414177875, -693615.6876718607, 103988.21983283991, -3846840.1017929493, -751312.1373758855, -207094.1637250384, -371970.2812952985, -340880.65986969555, -689875.3528296594, 107169.56066316029, -3844559.7972275093, -750170.5551306516, -207064.03993907745, -372889.20697287493, -342410.5779099985, -691562.3951722932, 105725.7952587487, -3845385.1055460866, -749221.8016831093, -205017.7502741263]}, {\"fill\": \"tonexty\", \"fillcolor\": \"rgba(0, 90, 181, 0.15)\", \"legendgroup\": \"interval\", \"line\": {\"color\": \"rgba(0, 90, 181, 0.5)\", \"width\": 0.0}, \"mode\": \"lines\", \"name\": \"Upper Bound\", \"type\": \"scatter\", \"x\": [\"2020-04-01T00:00:00\", \"2020-04-02T00:00:00\", \"2020-04-03T00:00:00\", \"2020-04-04T00:00:00\", \"2020-04-05T00:00:00\", \"2020-04-06T00:00:00\", \"2020-04-07T00:00:00\", \"2020-04-08T00:00:00\", \"2020-04-09T00:00:00\", \"2020-04-10T00:00:00\", \"2020-04-11T00:00:00\", \"2020-04-12T00:00:00\", \"2020-04-13T00:00:00\", \"2020-04-14T00:00:00\", \"2020-04-15T00:00:00\", \"2020-04-16T00:00:00\", \"2020-04-17T00:00:00\", \"2020-04-18T00:00:00\", \"2020-04-19T00:00:00\", \"2020-04-20T00:00:00\", \"2020-04-21T00:00:00\", \"2020-04-22T00:00:00\", \"2020-04-23T00:00:00\", \"2020-04-24T00:00:00\", \"2020-04-25T00:00:00\", \"2020-04-26T00:00:00\", \"2020-04-27T00:00:00\", \"2020-04-28T00:00:00\", \"2020-04-29T00:00:00\", \"2020-04-30T00:00:00\", \"2020-05-01T00:00:00\", \"2020-05-02T00:00:00\", \"2020-05-03T00:00:00\", \"2020-05-04T00:00:00\", \"2020-05-05T00:00:00\", \"2020-05-06T00:00:00\", \"2020-05-07T00:00:00\", \"2020-05-08T00:00:00\", \"2020-05-09T00:00:00\", \"2020-05-10T00:00:00\", \"2020-05-11T00:00:00\", \"2020-05-12T00:00:00\", \"2020-05-13T00:00:00\", \"2020-05-14T00:00:00\", \"2020-05-15T00:00:00\", \"2020-05-16T00:00:00\", \"2020-05-17T00:00:00\", \"2020-05-18T00:00:00\", \"2020-05-19T00:00:00\", \"2020-05-20T00:00:00\", \"2020-05-21T00:00:00\", \"2020-05-22T00:00:00\", \"2020-05-23T00:00:00\", \"2020-05-24T00:00:00\", \"2020-05-25T00:00:00\", \"2020-05-26T00:00:00\", \"2020-05-27T00:00:00\", \"2020-05-28T00:00:00\", \"2020-05-29T00:00:00\", \"2020-05-30T00:00:00\", \"2020-05-31T00:00:00\", \"2020-06-01T00:00:00\", \"2020-06-02T00:00:00\", \"2020-06-03T00:00:00\", \"2020-06-04T00:00:00\", \"2020-06-05T00:00:00\", \"2020-06-06T00:00:00\", \"2020-06-07T00:00:00\", \"2020-06-08T00:00:00\", \"2020-06-09T00:00:00\", \"2020-06-10T00:00:00\", \"2020-06-11T00:00:00\", \"2020-06-12T00:00:00\", \"2020-06-13T00:00:00\", \"2020-06-14T00:00:00\", \"2020-06-15T00:00:00\", \"2020-06-16T00:00:00\", \"2020-06-17T00:00:00\", \"2020-06-18T00:00:00\", \"2020-06-19T00:00:00\", \"2020-06-20T00:00:00\", \"2020-06-21T00:00:00\", \"2020-06-22T00:00:00\", \"2020-06-23T00:00:00\", \"2020-06-24T00:00:00\", \"2020-06-25T00:00:00\", \"2020-06-26T00:00:00\", \"2020-06-27T00:00:00\", \"2020-06-28T00:00:00\", \"2020-06-29T00:00:00\", \"2020-06-30T00:00:00\", \"2020-07-01T00:00:00\", \"2020-07-02T00:00:00\", \"2020-07-03T00:00:00\", \"2020-07-04T00:00:00\", \"2020-07-05T00:00:00\", \"2020-07-06T00:00:00\", \"2020-07-07T00:00:00\", \"2020-07-08T00:00:00\", \"2020-07-09T00:00:00\", \"2020-07-10T00:00:00\", \"2020-07-11T00:00:00\", \"2020-07-12T00:00:00\", \"2020-07-13T00:00:00\", \"2020-07-14T00:00:00\", \"2020-07-15T00:00:00\", \"2020-07-16T00:00:00\", \"2020-07-17T00:00:00\", \"2020-07-18T00:00:00\", \"2020-07-19T00:00:00\", \"2020-07-20T00:00:00\", \"2020-07-21T00:00:00\", \"2020-07-22T00:00:00\", \"2020-07-23T00:00:00\", \"2020-07-24T00:00:00\", \"2020-07-25T00:00:00\", \"2020-07-26T00:00:00\", \"2020-07-27T00:00:00\", \"2020-07-28T00:00:00\", \"2020-07-29T00:00:00\", \"2020-07-30T00:00:00\", \"2020-07-31T00:00:00\", \"2020-08-01T00:00:00\", \"2020-08-02T00:00:00\", \"2020-08-03T00:00:00\", \"2020-08-04T00:00:00\", \"2020-08-05T00:00:00\", \"2020-08-06T00:00:00\", \"2020-08-07T00:00:00\", \"2020-08-08T00:00:00\", \"2020-08-09T00:00:00\", \"2020-08-10T00:00:00\", \"2020-08-11T00:00:00\", \"2020-08-12T00:00:00\", \"2020-08-13T00:00:00\", \"2020-08-14T00:00:00\", \"2020-08-15T00:00:00\", \"2020-08-16T00:00:00\", \"2020-08-17T00:00:00\", \"2020-08-18T00:00:00\", \"2020-08-19T00:00:00\", \"2020-08-20T00:00:00\", \"2020-08-21T00:00:00\", \"2020-08-22T00:00:00\", \"2020-08-23T00:00:00\", \"2020-08-24T00:00:00\", \"2020-08-25T00:00:00\", \"2020-08-26T00:00:00\", \"2020-08-27T00:00:00\", \"2020-08-28T00:00:00\", \"2020-08-29T00:00:00\", \"2020-08-30T00:00:00\", \"2020-08-31T00:00:00\", \"2020-09-01T00:00:00\", \"2020-09-02T00:00:00\", \"2020-09-03T00:00:00\", \"2020-09-04T00:00:00\", \"2020-09-05T00:00:00\", \"2020-09-06T00:00:00\", \"2020-09-07T00:00:00\", \"2020-09-08T00:00:00\", \"2020-09-09T00:00:00\", \"2020-09-10T00:00:00\", \"2020-09-11T00:00:00\", \"2020-09-12T00:00:00\", \"2020-09-13T00:00:00\", \"2020-09-14T00:00:00\", \"2020-09-15T00:00:00\", \"2020-09-16T00:00:00\", \"2020-09-17T00:00:00\", \"2020-09-18T00:00:00\", \"2020-09-19T00:00:00\", \"2020-09-20T00:00:00\", \"2020-09-21T00:00:00\", \"2020-09-22T00:00:00\", \"2020-09-23T00:00:00\", \"2020-09-24T00:00:00\", \"2020-09-25T00:00:00\", \"2020-09-26T00:00:00\", \"2020-09-27T00:00:00\", \"2020-09-28T00:00:00\", \"2020-09-29T00:00:00\", \"2020-09-30T00:00:00\", \"2020-10-01T00:00:00\", \"2020-10-02T00:00:00\", \"2020-10-03T00:00:00\", \"2020-10-04T00:00:00\", \"2020-10-05T00:00:00\", \"2020-10-06T00:00:00\", \"2020-10-07T00:00:00\", \"2020-10-08T00:00:00\", \"2020-10-09T00:00:00\", \"2020-10-10T00:00:00\", \"2020-10-11T00:00:00\", \"2020-10-12T00:00:00\", \"2020-10-13T00:00:00\", \"2020-10-14T00:00:00\", \"2020-10-15T00:00:00\", \"2020-10-16T00:00:00\", \"2020-10-17T00:00:00\", \"2020-10-18T00:00:00\", \"2020-10-19T00:00:00\", \"2020-10-20T00:00:00\", \"2020-10-21T00:00:00\", \"2020-10-22T00:00:00\", \"2020-10-23T00:00:00\", \"2020-10-24T00:00:00\", \"2020-10-25T00:00:00\", \"2020-10-26T00:00:00\", \"2020-10-27T00:00:00\", \"2020-10-28T00:00:00\", \"2020-10-29T00:00:00\", \"2020-10-30T00:00:00\", \"2020-10-31T00:00:00\", \"2020-11-01T00:00:00\", \"2020-11-02T00:00:00\", \"2020-11-03T00:00:00\", \"2020-11-04T00:00:00\", \"2020-11-05T00:00:00\", \"2020-11-06T00:00:00\", \"2020-11-07T00:00:00\", \"2020-11-08T00:00:00\", \"2020-11-09T00:00:00\", \"2020-11-10T00:00:00\", \"2020-11-11T00:00:00\", \"2020-11-12T00:00:00\", \"2020-11-13T00:00:00\", \"2020-11-14T00:00:00\", \"2020-11-15T00:00:00\", \"2020-11-16T00:00:00\", \"2020-11-17T00:00:00\", \"2020-11-18T00:00:00\", \"2020-11-19T00:00:00\", \"2020-11-20T00:00:00\", \"2020-11-21T00:00:00\", \"2020-11-22T00:00:00\", \"2020-11-23T00:00:00\", \"2020-11-24T00:00:00\", \"2020-11-25T00:00:00\", \"2020-11-26T00:00:00\", \"2020-11-27T00:00:00\", \"2020-11-28T00:00:00\", \"2020-11-29T00:00:00\", \"2020-11-30T00:00:00\", \"2020-12-01T00:00:00\", \"2020-12-02T00:00:00\", \"2020-12-03T00:00:00\", \"2020-12-04T00:00:00\", \"2020-12-05T00:00:00\", \"2020-12-06T00:00:00\", \"2020-12-07T00:00:00\", \"2020-12-08T00:00:00\", \"2020-12-09T00:00:00\", \"2020-12-10T00:00:00\", \"2020-12-11T00:00:00\", \"2020-12-12T00:00:00\", \"2020-12-13T00:00:00\", \"2020-12-14T00:00:00\", \"2020-12-15T00:00:00\", \"2020-12-16T00:00:00\", \"2020-12-17T00:00:00\", \"2020-12-18T00:00:00\", \"2020-12-19T00:00:00\", \"2020-12-20T00:00:00\", \"2020-12-21T00:00:00\", \"2020-12-22T00:00:00\", \"2020-12-23T00:00:00\", \"2020-12-24T00:00:00\", \"2020-12-25T00:00:00\", \"2020-12-26T00:00:00\", \"2020-12-27T00:00:00\", \"2020-12-28T00:00:00\", \"2020-12-29T00:00:00\", \"2020-12-30T00:00:00\", \"2020-12-31T00:00:00\", \"2021-01-01T00:00:00\", \"2021-01-02T00:00:00\", \"2021-01-03T00:00:00\", \"2021-01-04T00:00:00\", \"2021-01-05T00:00:00\", \"2021-01-06T00:00:00\", \"2021-01-07T00:00:00\", \"2021-01-08T00:00:00\", \"2021-01-09T00:00:00\", \"2021-01-10T00:00:00\", \"2021-01-11T00:00:00\", \"2021-01-12T00:00:00\", \"2021-01-13T00:00:00\", \"2021-01-14T00:00:00\", \"2021-01-15T00:00:00\", \"2021-01-16T00:00:00\", \"2021-01-17T00:00:00\", \"2021-01-18T00:00:00\", \"2021-01-19T00:00:00\", \"2021-01-20T00:00:00\", \"2021-01-21T00:00:00\", \"2021-01-22T00:00:00\", \"2021-01-23T00:00:00\", \"2021-01-24T00:00:00\", \"2021-01-25T00:00:00\", \"2021-01-26T00:00:00\", \"2021-01-27T00:00:00\", \"2021-01-28T00:00:00\", \"2021-01-29T00:00:00\", \"2021-01-30T00:00:00\", \"2021-01-31T00:00:00\", \"2021-02-01T00:00:00\", \"2021-02-02T00:00:00\", \"2021-02-03T00:00:00\", \"2021-02-04T00:00:00\", \"2021-02-05T00:00:00\", \"2021-02-06T00:00:00\", \"2021-02-07T00:00:00\", \"2021-02-08T00:00:00\", \"2021-02-09T00:00:00\", \"2021-02-10T00:00:00\", \"2021-02-11T00:00:00\", \"2021-02-12T00:00:00\", \"2021-02-13T00:00:00\", \"2021-02-14T00:00:00\", \"2021-02-15T00:00:00\", \"2021-02-16T00:00:00\", \"2021-02-17T00:00:00\", \"2021-02-18T00:00:00\", \"2021-02-19T00:00:00\", \"2021-02-20T00:00:00\", \"2021-02-21T00:00:00\", \"2021-02-22T00:00:00\", \"2021-02-23T00:00:00\", \"2021-02-24T00:00:00\", \"2021-02-25T00:00:00\", \"2021-02-26T00:00:00\", \"2021-02-27T00:00:00\", \"2021-02-28T00:00:00\", \"2021-03-01T00:00:00\", \"2021-03-02T00:00:00\", \"2021-03-03T00:00:00\", \"2021-03-04T00:00:00\", \"2021-03-05T00:00:00\", \"2021-03-06T00:00:00\", \"2021-03-07T00:00:00\", \"2021-03-08T00:00:00\", \"2021-03-09T00:00:00\", \"2021-03-10T00:00:00\", \"2021-03-11T00:00:00\", \"2021-03-12T00:00:00\", \"2021-03-13T00:00:00\", \"2021-03-14T00:00:00\", \"2021-03-15T00:00:00\", \"2021-03-16T00:00:00\", \"2021-03-17T00:00:00\", \"2021-03-18T00:00:00\", \"2021-03-19T00:00:00\", \"2021-03-20T00:00:00\", \"2021-03-21T00:00:00\", \"2021-03-22T00:00:00\", \"2021-03-23T00:00:00\", \"2021-03-24T00:00:00\", \"2021-03-25T00:00:00\", \"2021-03-26T00:00:00\", \"2021-03-27T00:00:00\", \"2021-03-28T00:00:00\", \"2021-03-29T00:00:00\", \"2021-03-30T00:00:00\", \"2021-03-31T00:00:00\", \"2021-04-01T00:00:00\", \"2021-04-02T00:00:00\", \"2021-04-03T00:00:00\", \"2021-04-04T00:00:00\", \"2021-04-05T00:00:00\", \"2021-04-06T00:00:00\", \"2021-04-07T00:00:00\", \"2021-04-08T00:00:00\", \"2021-04-09T00:00:00\", \"2021-04-10T00:00:00\", \"2021-04-11T00:00:00\", \"2021-04-12T00:00:00\", \"2021-04-13T00:00:00\", \"2021-04-14T00:00:00\", \"2021-04-15T00:00:00\", \"2021-04-16T00:00:00\", \"2021-04-17T00:00:00\", \"2021-04-18T00:00:00\", \"2021-04-19T00:00:00\", \"2021-04-20T00:00:00\", \"2021-04-21T00:00:00\", \"2021-04-22T00:00:00\", \"2021-04-23T00:00:00\", \"2021-04-24T00:00:00\", \"2021-04-25T00:00:00\", \"2021-04-26T00:00:00\", \"2021-04-27T00:00:00\", \"2021-04-28T00:00:00\", \"2021-04-29T00:00:00\", \"2021-04-30T00:00:00\"], \"y\": [5651094.261050442, 2528563.5275331046, 1990064.1808079856, 2138044.397845374, 2098320.963953737, 2465420.1579103405, 1656179.3091980466, 5640052.038939542, 2515211.200562313, 1978624.4142859706, 2130276.9676690022, 2092356.190724033, 2461155.6759377476, 1653972.195668763, 5639217.608260084, 2518037.0127450787, 1980648.3575648898, 2132409.2521067336, 2095592.80249088, 2464458.3208667757, 1656187.5429361505, 5640720.702771638, 2518086.8818998868, 1979770.9469908627, 2130897.8136120327, 2093863.6707847049, 2462983.2811412644, 1655324.988669014, 5641700.4874648675, 2520152.9169336855, 1981072.4604544889, 2133996.338212704, 2097905.7674190495, 2466503.5726695787, 1658654.2963444053, 5644483.616047148, 2522039.931347174, 1981866.5743526476, 2133537.8169342414, 2095240.7707850765, 2464183.7816316066, 1655927.0439610048, 5640802.718136504, 2518565.2538651093, 1980851.7963968, 2132579.1713404735, 2096159.6476027572, 2465907.6883740323, 1659556.2176694719, 5645182.6571755735, 2521299.341663278, 1985070.482667273, 2136252.9121764963, 2097326.035754084, 2464863.8932568906, 1656250.1338615308, 5639992.350150177, 2517170.3574661724, 1979541.9430704582, 2131685.4490102176, 2093403.1924622334, 2462654.7545998637, 1656330.4248704757, 5642779.066886868, 2522720.446552113, 1986802.3008624925, 2140064.0942386948, 2104944.0855908273, 2475793.872047019, 1669125.5584634726, 5654847.003605858, 2532358.9599427492, 1993648.28635942, 2143618.4621288185, 2105054.3351670345, 2472667.4540313594, 1663208.1748866895, 5646865.052068768, 2523154.928885849, 1984240.2083384655, 2134982.874939739, 2098100.317368056, 2468137.479555967, 1662470.574604982, 5649215.4630256845, 2526425.6522283326, 1990566.76724217, 2141904.724063625, 2105811.3502965425, 2475372.8700081287, 1667322.1289707122, 5652680.314553632, 2528901.9450310683, 1987305.1209489782, 2137279.6737543633, 2097304.711056106, 2465171.5758817876, 1655797.9180717294, 5639675.469979484, 2516066.698026166, 1978255.794532855, 2129148.429246555, 2091433.9725930705, 2462473.060789891, 1653054.8746487536, 5640429.135587012, 2517787.2827255973, 1980516.9333283089, 2131773.636703697, 2094759.9686440194, 2464214.507340096, 1656384.5226399696, 5641422.088151144, 2518388.9608234297, 1979801.8345655065, 2130357.458480116, 2093037.365939796, 2462648.319921366, 1655339.0208999603, 5641198.820852257, 2519095.8563205088, 1981483.738054988, 2133851.320696815, 2097320.2703727214, 2465571.020558931, 1659149.4940927264, 5643838.501511439, 2521251.546996693, 1982582.7182973663, 2132802.277331043, 2094998.7246794105, 2464099.9207949964, 1656180.8107517627, 5641446.261565709, 2519613.924536979, 1981686.165921661, 2131113.631645698, 2095286.6398483957, 2464903.207367342, 1658428.4166426002, 5644457.615388405, 2522003.2170644803, 1983759.7540954147, 2134187.4480081797, 2096393.9079015623, 2465343.6083447607, 1656970.9798668027, 5641560.2143203365, 2518825.0180913024, 1979956.2838155115, 2129437.4950611843, 2093257.939753648, 2461045.4721712316, 1655885.6082847468, 5642176.052534057, 2522470.2592854165, 1986349.4052976244, 2137352.87214289, 2103992.3884994388, 2475042.756515707, 1667841.957705577, 5656557.279312326, 2532287.6359276744, 1994116.5077062347, 2143936.075414347, 2105426.5354836043, 2473754.7923079478, 1664725.6578479877, 5648742.54228261, 2524371.8357815687, 1984836.7748845476, 2134609.3028080952, 2097035.4124115286, 2467195.923078391, 1660616.1477654497, 5647445.177803209, 2525869.619960331, 1988883.7394023587, 2140647.182145615, 2104329.2976067816, 2474907.2078380897, 1668759.0693142964, 5655298.015323844, 2529936.5937601672, 1989417.2460563988, 2138328.0673676054, 2098612.8823148906, 2466894.569168565, 1657668.9156591785, 5641707.570860112, 2517297.462138323, 1977828.2413510121, 2128566.2582760863, 2091143.8404957722, 2459628.018822209, 1653813.20279392, 5639566.0612371005, 2517639.7849157625, 1979882.1380525855, 2130786.004997351, 2093750.741591089, 2463967.3441875298, 1656724.7068016962, 5642368.4081595, 2518981.92893039, 1980111.0326634173, 2130029.514160361, 2092316.2570056824, 2462286.888559184, 1656160.948048248, 5642498.8338158475, 2518163.168507316, 1982149.6417968539, 2133426.97110036, 2095395.0242184552, 2465288.978743105, 1658735.3497042197, 5644474.29745854, 2521689.2386556636, 1982934.1473518224, 2132727.6137438444, 2094724.463132959, 2465288.5494194804, 1657828.4984060433, 5641670.9625242045, 2520245.7989081494, 1981329.7902277242, 2130165.894599871, 2094015.0014948235, 2464043.017786686, 1657941.07345003, 5644560.767624426, 2521893.153408466, 1983646.3459347507, 2133821.865393516, 2096073.0210864458, 2465812.0188244614, 1657999.4443130959, 5643124.3179133665, 2518954.7499073837, 1979471.8025399037, 2129774.6635489217, 2092036.8080043062, 2460634.7021469567, 1655040.8825128134, 5641358.877112854, 2519902.4869190967, 1983102.7344323345, 2135189.921416566, 2099788.4524665647, 2472214.9735547504, 1667090.1540829511, 5654694.84424904, 2532420.250454679, 1994224.6053152285, 2144054.4427817715, 2105766.7294071373, 2474971.0876341364, 1666514.9631838491, 5651006.474292108, 2526053.777543485, 1985936.0216821218, 2134733.317885896, 2096421.6504390605, 2466622.111637939, 1659987.3403810798, 5647896.546127151, 2527054.7931636637, 1988072.2968430948, 2139474.96561261, 2103597.561055834, 2474011.860968601, 1669248.9497386431, 5654224.517251073, 2532928.0217771875, 1991099.0177652857, 2140149.627238, 2101132.7557859793, 2467585.91369009, 1659950.6960936878, 5643502.305667554, 2518716.0143383564, 1978616.3304419639, 2127463.972067531, 2089285.9073996397, 2459733.149402762, 1653174.0203840514, 5640028.135237596, 2517318.642126702, 1979354.506726298, 2130797.712492958, 2093830.6837161102, 2463038.326694309, 1657277.9005630703, 5642769.899226808, 2519388.246795135, 1980270.6541235703, 2129618.618060675, 2092573.8097180333, 2463176.6070708204, 1654694.6153257433, 5642213.869112023, 2518385.9729463607, 1980522.7452875942, 2130855.847973355, 2093795.5290155585, 2465044.794538864, 1658746.8959714223, 5645411.889875542, 2521925.268497316, 1982955.1896100072, 2132233.7291129213, 2093997.3511347957, 2464142.8620425533, 1656898.735715245, 5642909.116929552, 2519134.1047548004, 1980302.1660291548, 2131087.8929859027, 2093917.3781073755, 2463557.4320529886, 1658468.1730363476, 5644849.15924179, 2522132.5003508, 1983617.588564029, 2133227.3549020505, 2095199.0374449687, 2465436.5822911314, 1657990.727616828, 5643564.153946256, 2518965.7050500847, 1979236.2188238683, 2128113.8662878615, 2090034.7422151752, 2461025.071705913, 1655065.363243897, 5642788.121940918, 2520758.176097198, 1983859.2009613346, 2135516.303286531, 2099917.404207237, 2472852.6582313543, 1668008.3633248187, 5655888.594468445, 2532934.590173251, 1994164.547365559, 2143126.0481867734, 2104293.6018813383, 2474769.413615359, 1666726.841383554, 5649947.273699946, 2525603.4013118776, 1984682.1865391086, 2133581.899681059, 2095393.2514142962, 2466538.5797508536, 1660696.041177325, 5648455.209159864, 2526072.3591323607, 1989575.6821427303, 2140479.797262207, 2102038.5796943344, 2474708.34302943, 1668673.7407810153, 5655517.47372581, 2529209.1522269654, 1990822.078898014, 2138769.577063164, 2097715.7663381454, 2466105.3951311368, 1657859.6070262813, 5642504.224651589, 2517626.5995719745, 1977667.535661927, 2126390.864960218, 2088364.2398447879, 2459689.505678871, 1653778.4858408247, 5641255.261235925, 2518176.3119216193, 1979898.2085200902, 2129702.3402262838, 2092156.42139288, 2463429.8405210725, 1656959.826671145, 5643535.565801365, 2519317.8941668533, 1979928.3323060512, 2128783.414548707, 2090626.5033525769, 2461742.7981784386, 1655516.0612667333, 5642710.257482788, 2520266.6476143957, 1981974.6219710023]}, {\"line\": {\"color\": \"rgba(250, 43, 20, 0.7)\"}, \"marker\": {\"color\": \"rgba(250, 43, 20, 0.7)\", \"size\": 2.0}, \"mode\": \"lines+markers\", \"name\": \"Actual\", \"opacity\": 1.0, \"type\": \"scatter\", \"x\": [\"2020-04-01T00:00:00\", \"2020-04-02T00:00:00\", \"2020-04-03T00:00:00\", \"2020-04-04T00:00:00\", \"2020-04-05T00:00:00\", \"2020-04-06T00:00:00\", \"2020-04-07T00:00:00\", \"2020-04-08T00:00:00\", \"2020-04-09T00:00:00\", \"2020-04-10T00:00:00\", \"2020-04-11T00:00:00\", \"2020-04-12T00:00:00\", \"2020-04-13T00:00:00\", \"2020-04-14T00:00:00\", \"2020-04-15T00:00:00\", \"2020-04-16T00:00:00\", \"2020-04-17T00:00:00\", \"2020-04-18T00:00:00\", \"2020-04-19T00:00:00\", \"2020-04-20T00:00:00\", \"2020-04-21T00:00:00\", \"2020-04-22T00:00:00\", \"2020-04-23T00:00:00\", \"2020-04-24T00:00:00\", \"2020-04-25T00:00:00\", \"2020-04-26T00:00:00\", \"2020-04-27T00:00:00\", \"2020-04-28T00:00:00\", \"2020-04-29T00:00:00\", \"2020-04-30T00:00:00\", \"2020-05-01T00:00:00\", \"2020-05-02T00:00:00\", \"2020-05-03T00:00:00\", \"2020-05-04T00:00:00\", \"2020-05-05T00:00:00\", \"2020-05-06T00:00:00\", \"2020-05-07T00:00:00\", \"2020-05-08T00:00:00\", \"2020-05-09T00:00:00\", \"2020-05-10T00:00:00\", \"2020-05-11T00:00:00\", \"2020-05-12T00:00:00\", \"2020-05-13T00:00:00\", \"2020-05-14T00:00:00\", \"2020-05-15T00:00:00\", \"2020-05-16T00:00:00\", \"2020-05-17T00:00:00\", \"2020-05-18T00:00:00\", \"2020-05-19T00:00:00\", \"2020-05-20T00:00:00\", \"2020-05-21T00:00:00\", \"2020-05-22T00:00:00\", \"2020-05-23T00:00:00\", \"2020-05-24T00:00:00\", \"2020-05-25T00:00:00\", \"2020-05-26T00:00:00\", \"2020-05-27T00:00:00\", \"2020-05-28T00:00:00\", \"2020-05-29T00:00:00\", \"2020-05-30T00:00:00\", \"2020-05-31T00:00:00\", \"2020-06-01T00:00:00\", \"2020-06-02T00:00:00\", \"2020-06-03T00:00:00\", \"2020-06-04T00:00:00\", \"2020-06-05T00:00:00\", \"2020-06-06T00:00:00\", \"2020-06-07T00:00:00\", \"2020-06-08T00:00:00\", \"2020-06-09T00:00:00\", \"2020-06-10T00:00:00\", \"2020-06-11T00:00:00\", \"2020-06-12T00:00:00\", \"2020-06-13T00:00:00\", \"2020-06-14T00:00:00\", \"2020-06-15T00:00:00\", \"2020-06-16T00:00:00\", \"2020-06-17T00:00:00\", \"2020-06-18T00:00:00\", \"2020-06-19T00:00:00\", \"2020-06-20T00:00:00\", \"2020-06-21T00:00:00\", \"2020-06-22T00:00:00\", \"2020-06-23T00:00:00\", \"2020-06-24T00:00:00\", \"2020-06-25T00:00:00\", \"2020-06-26T00:00:00\", \"2020-06-27T00:00:00\", \"2020-06-28T00:00:00\", \"2020-06-29T00:00:00\", \"2020-06-30T00:00:00\", \"2020-07-01T00:00:00\", \"2020-07-02T00:00:00\", \"2020-07-03T00:00:00\", \"2020-07-04T00:00:00\", \"2020-07-05T00:00:00\", \"2020-07-06T00:00:00\", \"2020-07-07T00:00:00\", \"2020-07-08T00:00:00\", \"2020-07-09T00:00:00\", \"2020-07-10T00:00:00\", \"2020-07-11T00:00:00\", \"2020-07-12T00:00:00\", \"2020-07-13T00:00:00\", \"2020-07-14T00:00:00\", \"2020-07-15T00:00:00\", \"2020-07-16T00:00:00\", \"2020-07-17T00:00:00\", \"2020-07-18T00:00:00\", \"2020-07-19T00:00:00\", \"2020-07-20T00:00:00\", \"2020-07-21T00:00:00\", \"2020-07-22T00:00:00\", \"2020-07-23T00:00:00\", \"2020-07-24T00:00:00\", \"2020-07-25T00:00:00\", \"2020-07-26T00:00:00\", \"2020-07-27T00:00:00\", \"2020-07-28T00:00:00\", \"2020-07-29T00:00:00\", \"2020-07-30T00:00:00\", \"2020-07-31T00:00:00\", \"2020-08-01T00:00:00\", \"2020-08-02T00:00:00\", \"2020-08-03T00:00:00\", \"2020-08-04T00:00:00\", \"2020-08-05T00:00:00\", \"2020-08-06T00:00:00\", \"2020-08-07T00:00:00\", \"2020-08-08T00:00:00\", \"2020-08-09T00:00:00\", \"2020-08-10T00:00:00\", \"2020-08-11T00:00:00\", \"2020-08-12T00:00:00\", \"2020-08-13T00:00:00\", \"2020-08-14T00:00:00\", \"2020-08-15T00:00:00\", \"2020-08-16T00:00:00\", \"2020-08-17T00:00:00\", \"2020-08-18T00:00:00\", \"2020-08-19T00:00:00\", \"2020-08-20T00:00:00\", \"2020-08-21T00:00:00\", \"2020-08-22T00:00:00\", \"2020-08-23T00:00:00\", \"2020-08-24T00:00:00\", \"2020-08-25T00:00:00\", \"2020-08-26T00:00:00\", \"2020-08-27T00:00:00\", \"2020-08-28T00:00:00\", \"2020-08-29T00:00:00\", \"2020-08-30T00:00:00\", \"2020-08-31T00:00:00\", \"2020-09-01T00:00:00\", \"2020-09-02T00:00:00\", \"2020-09-03T00:00:00\", \"2020-09-04T00:00:00\", \"2020-09-05T00:00:00\", \"2020-09-06T00:00:00\", \"2020-09-07T00:00:00\", \"2020-09-08T00:00:00\", \"2020-09-09T00:00:00\", \"2020-09-10T00:00:00\", \"2020-09-11T00:00:00\", \"2020-09-12T00:00:00\", \"2020-09-13T00:00:00\", \"2020-09-14T00:00:00\", \"2020-09-15T00:00:00\", \"2020-09-16T00:00:00\", \"2020-09-17T00:00:00\", \"2020-09-18T00:00:00\", \"2020-09-19T00:00:00\", \"2020-09-20T00:00:00\", \"2020-09-21T00:00:00\", \"2020-09-22T00:00:00\", \"2020-09-23T00:00:00\", \"2020-09-24T00:00:00\", \"2020-09-25T00:00:00\", \"2020-09-26T00:00:00\", \"2020-09-27T00:00:00\", \"2020-09-28T00:00:00\", \"2020-09-29T00:00:00\", \"2020-09-30T00:00:00\", \"2020-10-01T00:00:00\", \"2020-10-02T00:00:00\", \"2020-10-03T00:00:00\", \"2020-10-04T00:00:00\", \"2020-10-05T00:00:00\", \"2020-10-06T00:00:00\", \"2020-10-07T00:00:00\", \"2020-10-08T00:00:00\", \"2020-10-09T00:00:00\", \"2020-10-10T00:00:00\", \"2020-10-11T00:00:00\", \"2020-10-12T00:00:00\", \"2020-10-13T00:00:00\", \"2020-10-14T00:00:00\", \"2020-10-15T00:00:00\", \"2020-10-16T00:00:00\", \"2020-10-17T00:00:00\", \"2020-10-18T00:00:00\", \"2020-10-19T00:00:00\", \"2020-10-20T00:00:00\", \"2020-10-21T00:00:00\", \"2020-10-22T00:00:00\", \"2020-10-23T00:00:00\", \"2020-10-24T00:00:00\", \"2020-10-25T00:00:00\", \"2020-10-26T00:00:00\", \"2020-10-27T00:00:00\", \"2020-10-28T00:00:00\", \"2020-10-29T00:00:00\", \"2020-10-30T00:00:00\", \"2020-10-31T00:00:00\", \"2020-11-01T00:00:00\", \"2020-11-02T00:00:00\", \"2020-11-03T00:00:00\", \"2020-11-04T00:00:00\", \"2020-11-05T00:00:00\", \"2020-11-06T00:00:00\", \"2020-11-07T00:00:00\", \"2020-11-08T00:00:00\", \"2020-11-09T00:00:00\", \"2020-11-10T00:00:00\", \"2020-11-11T00:00:00\", \"2020-11-12T00:00:00\", \"2020-11-13T00:00:00\", \"2020-11-14T00:00:00\", \"2020-11-15T00:00:00\", \"2020-11-16T00:00:00\", \"2020-11-17T00:00:00\", \"2020-11-18T00:00:00\", \"2020-11-19T00:00:00\", \"2020-11-20T00:00:00\", \"2020-11-21T00:00:00\", \"2020-11-22T00:00:00\", \"2020-11-23T00:00:00\", \"2020-11-24T00:00:00\", \"2020-11-25T00:00:00\", \"2020-11-26T00:00:00\", \"2020-11-27T00:00:00\", \"2020-11-28T00:00:00\", \"2020-11-29T00:00:00\", \"2020-11-30T00:00:00\", \"2020-12-01T00:00:00\", \"2020-12-02T00:00:00\", \"2020-12-03T00:00:00\", \"2020-12-04T00:00:00\", \"2020-12-05T00:00:00\", \"2020-12-06T00:00:00\", \"2020-12-07T00:00:00\", \"2020-12-08T00:00:00\", \"2020-12-09T00:00:00\", \"2020-12-10T00:00:00\", \"2020-12-11T00:00:00\", \"2020-12-12T00:00:00\", \"2020-12-13T00:00:00\", \"2020-12-14T00:00:00\", \"2020-12-15T00:00:00\", \"2020-12-16T00:00:00\", \"2020-12-17T00:00:00\", \"2020-12-18T00:00:00\", \"2020-12-19T00:00:00\", \"2020-12-20T00:00:00\", \"2020-12-21T00:00:00\", \"2020-12-22T00:00:00\", \"2020-12-23T00:00:00\", \"2020-12-24T00:00:00\", \"2020-12-25T00:00:00\", \"2020-12-26T00:00:00\", \"2020-12-27T00:00:00\", \"2020-12-28T00:00:00\", \"2020-12-29T00:00:00\", \"2020-12-30T00:00:00\", \"2020-12-31T00:00:00\", \"2021-01-01T00:00:00\", \"2021-01-02T00:00:00\", \"2021-01-03T00:00:00\", \"2021-01-04T00:00:00\", \"2021-01-05T00:00:00\", \"2021-01-06T00:00:00\", \"2021-01-07T00:00:00\", \"2021-01-08T00:00:00\", \"2021-01-09T00:00:00\", \"2021-01-10T00:00:00\", \"2021-01-11T00:00:00\", \"2021-01-12T00:00:00\", \"2021-01-13T00:00:00\", \"2021-01-14T00:00:00\", \"2021-01-15T00:00:00\", \"2021-01-16T00:00:00\", \"2021-01-17T00:00:00\", \"2021-01-18T00:00:00\", \"2021-01-19T00:00:00\", \"2021-01-20T00:00:00\", \"2021-01-21T00:00:00\", \"2021-01-22T00:00:00\", \"2021-01-23T00:00:00\", \"2021-01-24T00:00:00\", \"2021-01-25T00:00:00\", \"2021-01-26T00:00:00\", \"2021-01-27T00:00:00\", \"2021-01-28T00:00:00\", \"2021-01-29T00:00:00\", \"2021-01-30T00:00:00\", \"2021-01-31T00:00:00\", \"2021-02-01T00:00:00\", \"2021-02-02T00:00:00\", \"2021-02-03T00:00:00\", \"2021-02-04T00:00:00\", \"2021-02-05T00:00:00\", \"2021-02-06T00:00:00\", \"2021-02-07T00:00:00\", \"2021-02-08T00:00:00\", \"2021-02-09T00:00:00\", \"2021-02-10T00:00:00\", \"2021-02-11T00:00:00\", \"2021-02-12T00:00:00\", \"2021-02-13T00:00:00\", \"2021-02-14T00:00:00\", \"2021-02-15T00:00:00\", \"2021-02-16T00:00:00\", \"2021-02-17T00:00:00\", \"2021-02-18T00:00:00\", \"2021-02-19T00:00:00\", \"2021-02-20T00:00:00\", \"2021-02-21T00:00:00\", \"2021-02-22T00:00:00\", \"2021-02-23T00:00:00\", \"2021-02-24T00:00:00\", \"2021-02-25T00:00:00\", \"2021-02-26T00:00:00\", \"2021-02-27T00:00:00\", \"2021-02-28T00:00:00\", \"2021-03-01T00:00:00\", \"2021-03-02T00:00:00\", \"2021-03-03T00:00:00\", \"2021-03-04T00:00:00\", \"2021-03-05T00:00:00\", \"2021-03-06T00:00:00\", \"2021-03-07T00:00:00\", \"2021-03-08T00:00:00\", \"2021-03-09T00:00:00\", \"2021-03-10T00:00:00\", \"2021-03-11T00:00:00\", \"2021-03-12T00:00:00\", \"2021-03-13T00:00:00\", \"2021-03-14T00:00:00\", \"2021-03-15T00:00:00\", \"2021-03-16T00:00:00\", \"2021-03-17T00:00:00\", \"2021-03-18T00:00:00\", \"2021-03-19T00:00:00\", \"2021-03-20T00:00:00\", \"2021-03-21T00:00:00\", \"2021-03-22T00:00:00\", \"2021-03-23T00:00:00\", \"2021-03-24T00:00:00\", \"2021-03-25T00:00:00\", \"2021-03-26T00:00:00\", \"2021-03-27T00:00:00\", \"2021-03-28T00:00:00\", \"2021-03-29T00:00:00\", \"2021-03-30T00:00:00\", \"2021-03-31T00:00:00\", \"2021-04-01T00:00:00\", \"2021-04-02T00:00:00\", \"2021-04-03T00:00:00\", \"2021-04-04T00:00:00\", \"2021-04-05T00:00:00\", \"2021-04-06T00:00:00\", \"2021-04-07T00:00:00\", \"2021-04-08T00:00:00\", \"2021-04-09T00:00:00\", \"2021-04-10T00:00:00\", \"2021-04-11T00:00:00\", \"2021-04-12T00:00:00\", \"2021-04-13T00:00:00\", \"2021-04-14T00:00:00\", \"2021-04-15T00:00:00\", \"2021-04-16T00:00:00\", \"2021-04-17T00:00:00\", \"2021-04-18T00:00:00\", \"2021-04-19T00:00:00\", \"2021-04-20T00:00:00\", \"2021-04-21T00:00:00\", \"2021-04-22T00:00:00\", \"2021-04-23T00:00:00\", \"2021-04-24T00:00:00\", \"2021-04-25T00:00:00\", \"2021-04-26T00:00:00\", \"2021-04-27T00:00:00\", \"2021-04-28T00:00:00\", \"2021-04-29T00:00:00\", \"2021-04-30T00:00:00\"], \"y\": [961150.0, 753357.1428571428, 681724.2068965518, null, null, 725208.0, 630053.7368421053, 676583.3333333334, 773225.2692307692, 666255.6428571428, null, 325000.0, 1192963.4347826086, 883883.5, 1115649.0666666667, 703075.8947368421, 593240.8, null, null, 630549.76, 788538.3684210526, 534571.5, 706054.68, 766311.7619047619, 670000.0, null, 672223.2571428572, 589203.6666666666, 717248.3928571428, 645056.5660377359, 761566.3846153846, null, null, 742996.5925925926, 928117.8571428572, 722244.3181818182, 802193.448275862, 737056.8913043478, null, null, 1010215.1176470588, 559954.9, 594030.4, 786627.5, 2423803.590909091, 400000.0, null, 580116.6333333333, 649406.4285714285, 571375.7666666667, 1257801.9523809524, 1018404.1714285715, null, 325000.0, null, 572714.6086956522, 601808.6341463415, 818277.015625, 685398.4583333334, null, 340000.0, 558506.7741935484, 694160.2666666667, 1809577.5, 759085.9375, 663100.880952381, null, null, 584458.6, 1286910.6304347827, 674959.5454545454, 6283043.34375, 821677.42, 484787.0, null, 833615.7916666666, 796530.75, 626165.4705882353, 562851.2580645161, 680855.3958333334, null, null, 634731.0952380953, 2134153.5555555555, 1374770.888888889, 705734.1449275363, 732110.9016393443, null, null, 3128182.919354839, 771592.4027777778, 786353.2962962963, 635133.3111111111, 365000.0, null, null, 610116.2727272727, 855789.3243243244, 942172.3255813953, 1002349.9333333333, 1207195.462962963, 265000.0, null, 521447.625, 1019686.8163265307, 734260.9615384615, 782620.7435897436, 675106.5769230769, 356000.0, null, 625668.5319148937, 631018.0769230769, 623849.725490196, 1151866.625, 608356.5416666666, null, null, 566493.1904761905, 716382.7727272727, 1063304.0487804879, 657447.7843137255, 606157.1694915254, 336500.0, null, 1100150.775, 703381.2105263158, 698784.5666666667, 597978.6666666666, 662752.4583333334, null, null, 737526.5357142857, 759952.6315789474, 664542.6666666666, 587161.7608695652, 640727.659574468, 804097.0, 120000.0, 681732.3103448276, 580265.8837209302, 1042224.8666666667, 822008.9818181818, 783539.5217391305, 306146.0, 471271.25, 684929.4545454546, 640625.1081081082, 1140819.3703703703, 631340.0, 3335524.5070422534, 303280.0, null, 1679717.844155844, 633616.3225806452, 690991.1, 681047.9714285714, 1435634.0, 850000.0, null, 6000.0, 583332.512195122, 11782759.705882354, 1010899.8372093023, 1133387.7567567567, null, null, 5504713.85106383, 690470.3278688524, 872583.051724138, 615537.4716981133, 643329.4761904762, null, 217000.0, 674469.5263157894, 1033372.1272727273, 802347.9649122807, 758760.3768115942, 715879.4533333334, null, null, 693191.303030303, 862207.5540540541, 14690100.05, 923863.4225352113, 712918.0363636364, null, 90000.0, 683918.8484848485, 731857.1111111111, 631391.24, 587772.3191489362, 620802.2205882353, null, null, 317422.5, 712517.5714285715, 730325.5769230769, 830288.86, 639017.6101694915, 3000.0, null, 575891.0333333333, 699273.3928571428, 693789.1833333333, 753131.0754716981, 747951.3, 285000.0, 5000.0, 652001.9298245613, 709614.3606557377, 831534.3918918918, 729093.1382978724, 1050691.7684210527, 410000.0, 399000.0, 694042.5588235294, 704709.475, 758629.3103448276, 640258.0714285715, 705806.2380952381, null, 420000.0, 740381.828125, 744469.9344262296, 500318.1818181818, 704503.1891891892, 2660488.6923076925, null, null, 673783.0363636364, 763621.4736842106, 1125740.4705882352, 697605.71875, 680614.3333333334, null, null, 639074.205479452, 779583.9784946237, 741491.7611940298, null, 832958.75, null, 246664.0, 687234.4642857143, 710952.6323529412, 675483.515625, 781023.96875, 679605.7702702703, null, 360000.0, 757934.828125, 676002.6111111111, 612785.8153846153, 673998.8533333334, 639837.875, 1000000.0, 395801.5, 1057572.6712328766, 787623.5, 815271.8, 1206976.66, 1029722.0260869565, null, null, 2140242.969072165, 3079420.9344262294, 818685.9696969697, 3036481.242424242, null, 390787.0, null, 1193972.0833333333, 745306.5108695652, 1182410.3086419753, 904587.4307692308, null, null, null, 515441.9655172414, 937195.8113207547, 629678.7924528302, 870835.4074074074, 673749.8793103448, 200000.0, null, 638217.0757575758, 941716.2987012987, 629515.2909090909, 617809.5576923077, 2060531.569620253, 980000.0, 75000.0, 665439.8, 734202.775862069, 728799.0289855072, 733167.7333333333, 798184.8815789474, 634500.0, null, 664862.0714285715, 700602.1551724138, 808769.0724637681, 716158.5384615385, 965531.6880733945, 4098400.0, 1100000.0, 1030374.6666666666, 678594.1666666666, 673120.3773584906, 646879.6060606061, 679965.2934782609, 461500.0, null, 735113.6166666667, 709083.7464788732, 721104.9714285714, 876941.2133333334, 809655.5571428571, null, null, 585533.3333333334, 620100.220338983, 672292.9245283019, 767958.2676056338, 934185.5, null, 386000.0, 1820586.35, 776674.421875, 714328.8309859155, 787634.8292682926, 707944.7699115045, null, null, 669714.0757575758, 823997.4807692308, 631401.1692307693, 1185896.3088235294, 688686.8831168831, null, null, 803755.25, 644934.7166666667, 1258062.7878787878, 687746.140625, 679635.9852941176, null, 475000.0, 684445.9333333333, 943197.7692307692, 600407.2586206896, 735364.7924528302, 614789.2542372881, null, 30000.0, 639942.1607142857, 656634.75, 634332.9649122807, 609609.756097561, 652589.2857142857, null, null, 694114.4705882353, 747610.9354838709, 602154.75, null, null, null, null, null, null, null, null, null, null, null, null, null, null, null, null, null, null, null, null, null, null, null, null, null, null, null, null, null, null]}, {\"line\": {\"color\": \"rgba(0, 90, 181, 0.7)\", \"dash\": \"solid\"}, \"name\": \"Forecast\", \"type\": \"scatter\", \"x\": [\"2020-04-01T00:00:00\", \"2020-04-02T00:00:00\", \"2020-04-03T00:00:00\", \"2020-04-04T00:00:00\", \"2020-04-05T00:00:00\", \"2020-04-06T00:00:00\", \"2020-04-07T00:00:00\", \"2020-04-08T00:00:00\", \"2020-04-09T00:00:00\", \"2020-04-10T00:00:00\", \"2020-04-11T00:00:00\", \"2020-04-12T00:00:00\", \"2020-04-13T00:00:00\", \"2020-04-14T00:00:00\", \"2020-04-15T00:00:00\", \"2020-04-16T00:00:00\", \"2020-04-17T00:00:00\", \"2020-04-18T00:00:00\", \"2020-04-19T00:00:00\", \"2020-04-20T00:00:00\", \"2020-04-21T00:00:00\", \"2020-04-22T00:00:00\", \"2020-04-23T00:00:00\", \"2020-04-24T00:00:00\", \"2020-04-25T00:00:00\", \"2020-04-26T00:00:00\", \"2020-04-27T00:00:00\", \"2020-04-28T00:00:00\", \"2020-04-29T00:00:00\", \"2020-04-30T00:00:00\", \"2020-05-01T00:00:00\", \"2020-05-02T00:00:00\", \"2020-05-03T00:00:00\", \"2020-05-04T00:00:00\", \"2020-05-05T00:00:00\", \"2020-05-06T00:00:00\", \"2020-05-07T00:00:00\", \"2020-05-08T00:00:00\", \"2020-05-09T00:00:00\", \"2020-05-10T00:00:00\", \"2020-05-11T00:00:00\", \"2020-05-12T00:00:00\", \"2020-05-13T00:00:00\", \"2020-05-14T00:00:00\", \"2020-05-15T00:00:00\", \"2020-05-16T00:00:00\", \"2020-05-17T00:00:00\", \"2020-05-18T00:00:00\", \"2020-05-19T00:00:00\", \"2020-05-20T00:00:00\", \"2020-05-21T00:00:00\", \"2020-05-22T00:00:00\", \"2020-05-23T00:00:00\", \"2020-05-24T00:00:00\", \"2020-05-25T00:00:00\", \"2020-05-26T00:00:00\", \"2020-05-27T00:00:00\", \"2020-05-28T00:00:00\", \"2020-05-29T00:00:00\", \"2020-05-30T00:00:00\", \"2020-05-31T00:00:00\", \"2020-06-01T00:00:00\", \"2020-06-02T00:00:00\", \"2020-06-03T00:00:00\", \"2020-06-04T00:00:00\", \"2020-06-05T00:00:00\", \"2020-06-06T00:00:00\", \"2020-06-07T00:00:00\", \"2020-06-08T00:00:00\", \"2020-06-09T00:00:00\", \"2020-06-10T00:00:00\", \"2020-06-11T00:00:00\", \"2020-06-12T00:00:00\", \"2020-06-13T00:00:00\", \"2020-06-14T00:00:00\", \"2020-06-15T00:00:00\", \"2020-06-16T00:00:00\", \"2020-06-17T00:00:00\", \"2020-06-18T00:00:00\", \"2020-06-19T00:00:00\", \"2020-06-20T00:00:00\", \"2020-06-21T00:00:00\", \"2020-06-22T00:00:00\", \"2020-06-23T00:00:00\", \"2020-06-24T00:00:00\", \"2020-06-25T00:00:00\", \"2020-06-26T00:00:00\", \"2020-06-27T00:00:00\", \"2020-06-28T00:00:00\", \"2020-06-29T00:00:00\", \"2020-06-30T00:00:00\", \"2020-07-01T00:00:00\", \"2020-07-02T00:00:00\", \"2020-07-03T00:00:00\", \"2020-07-04T00:00:00\", \"2020-07-05T00:00:00\", \"2020-07-06T00:00:00\", \"2020-07-07T00:00:00\", \"2020-07-08T00:00:00\", \"2020-07-09T00:00:00\", \"2020-07-10T00:00:00\", \"2020-07-11T00:00:00\", \"2020-07-12T00:00:00\", \"2020-07-13T00:00:00\", \"2020-07-14T00:00:00\", \"2020-07-15T00:00:00\", \"2020-07-16T00:00:00\", \"2020-07-17T00:00:00\", \"2020-07-18T00:00:00\", \"2020-07-19T00:00:00\", \"2020-07-20T00:00:00\", \"2020-07-21T00:00:00\", \"2020-07-22T00:00:00\", \"2020-07-23T00:00:00\", \"2020-07-24T00:00:00\", \"2020-07-25T00:00:00\", \"2020-07-26T00:00:00\", \"2020-07-27T00:00:00\", \"2020-07-28T00:00:00\", \"2020-07-29T00:00:00\", \"2020-07-30T00:00:00\", \"2020-07-31T00:00:00\", \"2020-08-01T00:00:00\", \"2020-08-02T00:00:00\", \"2020-08-03T00:00:00\", \"2020-08-04T00:00:00\", \"2020-08-05T00:00:00\", \"2020-08-06T00:00:00\", \"2020-08-07T00:00:00\", \"2020-08-08T00:00:00\", \"2020-08-09T00:00:00\", \"2020-08-10T00:00:00\", \"2020-08-11T00:00:00\", \"2020-08-12T00:00:00\", \"2020-08-13T00:00:00\", \"2020-08-14T00:00:00\", \"2020-08-15T00:00:00\", \"2020-08-16T00:00:00\", \"2020-08-17T00:00:00\", \"2020-08-18T00:00:00\", \"2020-08-19T00:00:00\", \"2020-08-20T00:00:00\", \"2020-08-21T00:00:00\", \"2020-08-22T00:00:00\", \"2020-08-23T00:00:00\", \"2020-08-24T00:00:00\", \"2020-08-25T00:00:00\", \"2020-08-26T00:00:00\", \"2020-08-27T00:00:00\", \"2020-08-28T00:00:00\", \"2020-08-29T00:00:00\", \"2020-08-30T00:00:00\", \"2020-08-31T00:00:00\", \"2020-09-01T00:00:00\", \"2020-09-02T00:00:00\", \"2020-09-03T00:00:00\", \"2020-09-04T00:00:00\", \"2020-09-05T00:00:00\", \"2020-09-06T00:00:00\", \"2020-09-07T00:00:00\", \"2020-09-08T00:00:00\", \"2020-09-09T00:00:00\", \"2020-09-10T00:00:00\", \"2020-09-11T00:00:00\", \"2020-09-12T00:00:00\", \"2020-09-13T00:00:00\", \"2020-09-14T00:00:00\", \"2020-09-15T00:00:00\", \"2020-09-16T00:00:00\", \"2020-09-17T00:00:00\", \"2020-09-18T00:00:00\", \"2020-09-19T00:00:00\", \"2020-09-20T00:00:00\", \"2020-09-21T00:00:00\", \"2020-09-22T00:00:00\", \"2020-09-23T00:00:00\", \"2020-09-24T00:00:00\", \"2020-09-25T00:00:00\", \"2020-09-26T00:00:00\", \"2020-09-27T00:00:00\", \"2020-09-28T00:00:00\", \"2020-09-29T00:00:00\", \"2020-09-30T00:00:00\", \"2020-10-01T00:00:00\", \"2020-10-02T00:00:00\", \"2020-10-03T00:00:00\", \"2020-10-04T00:00:00\", \"2020-10-05T00:00:00\", \"2020-10-06T00:00:00\", \"2020-10-07T00:00:00\", \"2020-10-08T00:00:00\", \"2020-10-09T00:00:00\", \"2020-10-10T00:00:00\", \"2020-10-11T00:00:00\", \"2020-10-12T00:00:00\", \"2020-10-13T00:00:00\", \"2020-10-14T00:00:00\", \"2020-10-15T00:00:00\", \"2020-10-16T00:00:00\", \"2020-10-17T00:00:00\", \"2020-10-18T00:00:00\", \"2020-10-19T00:00:00\", \"2020-10-20T00:00:00\", \"2020-10-21T00:00:00\", \"2020-10-22T00:00:00\", \"2020-10-23T00:00:00\", \"2020-10-24T00:00:00\", \"2020-10-25T00:00:00\", \"2020-10-26T00:00:00\", \"2020-10-27T00:00:00\", \"2020-10-28T00:00:00\", \"2020-10-29T00:00:00\", \"2020-10-30T00:00:00\", \"2020-10-31T00:00:00\", \"2020-11-01T00:00:00\", \"2020-11-02T00:00:00\", \"2020-11-03T00:00:00\", \"2020-11-04T00:00:00\", \"2020-11-05T00:00:00\", \"2020-11-06T00:00:00\", \"2020-11-07T00:00:00\", \"2020-11-08T00:00:00\", \"2020-11-09T00:00:00\", \"2020-11-10T00:00:00\", \"2020-11-11T00:00:00\", \"2020-11-12T00:00:00\", \"2020-11-13T00:00:00\", \"2020-11-14T00:00:00\", \"2020-11-15T00:00:00\", \"2020-11-16T00:00:00\", \"2020-11-17T00:00:00\", \"2020-11-18T00:00:00\", \"2020-11-19T00:00:00\", \"2020-11-20T00:00:00\", \"2020-11-21T00:00:00\", \"2020-11-22T00:00:00\", \"2020-11-23T00:00:00\", \"2020-11-24T00:00:00\", \"2020-11-25T00:00:00\", \"2020-11-26T00:00:00\", \"2020-11-27T00:00:00\", \"2020-11-28T00:00:00\", \"2020-11-29T00:00:00\", \"2020-11-30T00:00:00\", \"2020-12-01T00:00:00\", \"2020-12-02T00:00:00\", \"2020-12-03T00:00:00\", \"2020-12-04T00:00:00\", \"2020-12-05T00:00:00\", \"2020-12-06T00:00:00\", \"2020-12-07T00:00:00\", \"2020-12-08T00:00:00\", \"2020-12-09T00:00:00\", \"2020-12-10T00:00:00\", \"2020-12-11T00:00:00\", \"2020-12-12T00:00:00\", \"2020-12-13T00:00:00\", \"2020-12-14T00:00:00\", \"2020-12-15T00:00:00\", \"2020-12-16T00:00:00\", \"2020-12-17T00:00:00\", \"2020-12-18T00:00:00\", \"2020-12-19T00:00:00\", \"2020-12-20T00:00:00\", \"2020-12-21T00:00:00\", \"2020-12-22T00:00:00\", \"2020-12-23T00:00:00\", \"2020-12-24T00:00:00\", \"2020-12-25T00:00:00\", \"2020-12-26T00:00:00\", \"2020-12-27T00:00:00\", \"2020-12-28T00:00:00\", \"2020-12-29T00:00:00\", \"2020-12-30T00:00:00\", \"2020-12-31T00:00:00\", \"2021-01-01T00:00:00\", \"2021-01-02T00:00:00\", \"2021-01-03T00:00:00\", \"2021-01-04T00:00:00\", \"2021-01-05T00:00:00\", \"2021-01-06T00:00:00\", \"2021-01-07T00:00:00\", \"2021-01-08T00:00:00\", \"2021-01-09T00:00:00\", \"2021-01-10T00:00:00\", \"2021-01-11T00:00:00\", \"2021-01-12T00:00:00\", \"2021-01-13T00:00:00\", \"2021-01-14T00:00:00\", \"2021-01-15T00:00:00\", \"2021-01-16T00:00:00\", \"2021-01-17T00:00:00\", \"2021-01-18T00:00:00\", \"2021-01-19T00:00:00\", \"2021-01-20T00:00:00\", \"2021-01-21T00:00:00\", \"2021-01-22T00:00:00\", \"2021-01-23T00:00:00\", \"2021-01-24T00:00:00\", \"2021-01-25T00:00:00\", \"2021-01-26T00:00:00\", \"2021-01-27T00:00:00\", \"2021-01-28T00:00:00\", \"2021-01-29T00:00:00\", \"2021-01-30T00:00:00\", \"2021-01-31T00:00:00\", \"2021-02-01T00:00:00\", \"2021-02-02T00:00:00\", \"2021-02-03T00:00:00\", \"2021-02-04T00:00:00\", \"2021-02-05T00:00:00\", \"2021-02-06T00:00:00\", \"2021-02-07T00:00:00\", \"2021-02-08T00:00:00\", \"2021-02-09T00:00:00\", \"2021-02-10T00:00:00\", \"2021-02-11T00:00:00\", \"2021-02-12T00:00:00\", \"2021-02-13T00:00:00\", \"2021-02-14T00:00:00\", \"2021-02-15T00:00:00\", \"2021-02-16T00:00:00\", \"2021-02-17T00:00:00\", \"2021-02-18T00:00:00\", \"2021-02-19T00:00:00\", \"2021-02-20T00:00:00\", \"2021-02-21T00:00:00\", \"2021-02-22T00:00:00\", \"2021-02-23T00:00:00\", \"2021-02-24T00:00:00\", \"2021-02-25T00:00:00\", \"2021-02-26T00:00:00\", \"2021-02-27T00:00:00\", \"2021-02-28T00:00:00\", \"2021-03-01T00:00:00\", \"2021-03-02T00:00:00\", \"2021-03-03T00:00:00\", \"2021-03-04T00:00:00\", \"2021-03-05T00:00:00\", \"2021-03-06T00:00:00\", \"2021-03-07T00:00:00\", \"2021-03-08T00:00:00\", \"2021-03-09T00:00:00\", \"2021-03-10T00:00:00\", \"2021-03-11T00:00:00\", \"2021-03-12T00:00:00\", \"2021-03-13T00:00:00\", \"2021-03-14T00:00:00\", \"2021-03-15T00:00:00\", \"2021-03-16T00:00:00\", \"2021-03-17T00:00:00\", \"2021-03-18T00:00:00\", \"2021-03-19T00:00:00\", \"2021-03-20T00:00:00\", \"2021-03-21T00:00:00\", \"2021-03-22T00:00:00\", \"2021-03-23T00:00:00\", \"2021-03-24T00:00:00\", \"2021-03-25T00:00:00\", \"2021-03-26T00:00:00\", \"2021-03-27T00:00:00\", \"2021-03-28T00:00:00\", \"2021-03-29T00:00:00\", \"2021-03-30T00:00:00\", \"2021-03-31T00:00:00\", \"2021-04-01T00:00:00\", \"2021-04-02T00:00:00\", \"2021-04-03T00:00:00\", \"2021-04-04T00:00:00\", \"2021-04-05T00:00:00\", \"2021-04-06T00:00:00\", \"2021-04-07T00:00:00\", \"2021-04-08T00:00:00\", \"2021-04-09T00:00:00\", \"2021-04-10T00:00:00\", \"2021-04-11T00:00:00\", \"2021-04-12T00:00:00\", \"2021-04-13T00:00:00\", \"2021-04-14T00:00:00\", \"2021-04-15T00:00:00\", \"2021-04-16T00:00:00\", \"2021-04-17T00:00:00\", \"2021-04-18T00:00:00\", \"2021-04-19T00:00:00\", \"2021-04-20T00:00:00\", \"2021-04-21T00:00:00\", \"2021-04-22T00:00:00\", \"2021-04-23T00:00:00\", \"2021-04-24T00:00:00\", \"2021-04-25T00:00:00\", \"2021-04-26T00:00:00\", \"2021-04-27T00:00:00\", \"2021-04-28T00:00:00\", \"2021-04-29T00:00:00\", \"2021-04-30T00:00:00\"], \"y\": [907046.5795360045, 893819.3028843519, 896567.9946854212, 887208.0870845828, 881802.4233224493, 888767.5612349747, 881284.1761940543, 896004.3574251045, 880466.975913561, 885128.2281634063, 879440.6569082112, 875837.6500927451, 884503.0792623817, 879077.0626647705, 895169.9267456469, 883292.7880963259, 887152.1714423255, 881572.9413459424, 879074.2618595923, 887805.72419141, 881292.4099321582, 896673.0212572006, 883342.6572511344, 886274.7608682984, 880061.5028512416, 877345.130153417, 886330.6844658984, 880429.8556650216, 897652.8059504302, 885408.692284933, 887576.2743319245, 883160.0274519128, 881387.226787762, 889850.975994213, 883759.1633404129, 900435.9345327102, 887295.7066984216, 888370.3882300833, 882701.5061734502, 878722.2301537889, 887531.1849562409, 881031.9109570124, 896755.0366220669, 883821.0292163569, 887355.6102742357, 881742.8605796822, 879641.1069714695, 889255.0916986665, 884661.0846654795, 901134.9756611366, 886555.1170145256, 891574.2965447085, 885416.6014157053, 880807.4951227963, 888211.2965815244, 881355.0008575384, 895944.6686357403, 882426.1328174197, 886045.7569478939, 880849.1382494264, 876884.6518309457, 886002.1579244978, 881435.2918664834, 898731.385372431, 887976.2219033608, 893306.1147399282, 889227.7834779035, 888425.5449595395, 899141.2753716535, 894230.4254594803, 910799.322091421, 897614.7352939969, 900152.1002368558, 892782.1513680273, 888535.7945357468, 896014.8573559932, 888313.041882697, 902817.3705543306, 888410.7042370966, 890744.0222159012, 884146.5641789474, 881581.7767367685, 891484.8828806008, 887575.4416009897, 905167.7815112468, 891681.4275795801, 897070.5811196057, 891068.4133028338, 889292.8096652549, 898720.2733327626, 892426.9959667198, 908632.6330391951, 894157.7203823156, 893808.9348264139, 886443.3629935719, 880786.1704248181, 888518.9792064218, 880902.785067737, 895627.7884650462, 881322.4733774135, 884759.6084102908, 878312.118485764, 874915.4319617826, 885820.464114525, 878159.7416447612, 896381.4540725752, 883043.0580768449, 887020.7472057445, 880937.3259429059, 878241.4280127317, 887561.9106647299, 881489.3896359772, 897374.4066367062, 883644.7361746773, 886305.6484429422, 879521.1477193246, 876518.8253085084, 885995.7232460001, 880443.8878959679, 897151.1393378199, 884351.6316717563, 887987.5519324235, 883015.0099360239, 880801.7297414336, 888918.4238835652, 884254.361088734, 899790.8199970012, 886507.3223479409, 889086.5321748019, 881965.9665702516, 878480.1840481228, 887447.3241196306, 881285.6777477702, 897398.5800512711, 884869.6998882263, 888189.9797990966, 880277.3208849068, 878768.099217108, 888250.6106919762, 883533.283638608, 900409.9338739676, 887258.9924157278, 890263.5679728504, 883351.1372473886, 879875.3672702744, 888691.0116693947, 882075.8468628104, 897512.5328058988, 884080.7934425499, 886460.0976929473, 878601.1843003931, 876739.3991223603, 884392.8754958657, 880990.4752807545, 898128.3710196197, 887726.0346366641, 892853.21917506, 886516.5613820989, 887473.8478681511, 898390.1598403412, 892946.8247015845, 912509.5977978888, 897543.4112789221, 900620.3215836704, 893099.7646535557, 888907.9948523163, 897102.1956325816, 889830.5248439953, 904694.8607681728, 889627.611132816, 891340.5887619833, 883772.9920473039, 880516.8717802409, 890543.3264030247, 885721.0147614575, 903397.4962887714, 891125.3953115785, 895387.5532797943, 889810.8713848237, 887810.7569754937, 898254.6111627237, 893863.9363103041, 911250.3338094065, 895192.3691114146, 895921.0599338344, 887491.7566068143, 882094.3416836031, 890241.9724931992, 882773.782655186, 897659.8893456748, 882553.2374895706, 884332.0552284477, 877729.9475152949, 874625.2998644843, 882975.422146843, 878918.0697899276, 895518.3797226637, 882895.56026701, 886385.9519300213, 879949.6942365603, 877232.2009598011, 887314.7475121637, 881829.5737977038, 898320.7266450624, 884237.7042816377, 886614.8465408529, 879193.2033995697, 875797.7163743947, 885634.2918838181, 881265.8150442555, 898451.1523014104, 883418.9438585638, 888653.4556742895, 882590.6603395689, 878876.4835871675, 888636.3820677395, 883840.2167002273, 900426.615944102, 886945.0140069112, 889437.961229258, 881891.302983053, 878205.9225016714, 888635.9527441147, 882933.3654020509, 897623.2810097672, 885501.5742593969, 887833.6041051599, 879329.5838390798, 877496.4608635359, 887390.4211113199, 883045.9404460377, 900513.086109988, 887148.9287597133, 890150.1598121864, 882985.554632725, 879554.480455158, 889159.4221490953, 883104.3113091035, 899076.6363989287, 884210.5252586314, 885975.6164173392, 878938.3527881306, 875518.2673730184, 883982.105471591, 880145.749508821, 897311.1955984174, 885158.262270344, 889606.5483097703, 884353.6106557744, 883269.9118352769, 895562.3768793844, 892195.0210789588, 910647.1627346021, 897676.0258059265, 900728.4191926642, 893218.1320209801, 889248.1887758496, 898318.4909587705, 891619.8301798567, 906958.7927776703, 891309.5528947327, 892439.8355595573, 883897.0071251048, 879903.1098077728, 889969.5149625728, 885092.2073770874, 903848.8646127138, 892310.5685149115, 894576.1107205305, 888638.6548518188, 887079.0204245461, 897359.2642932348, 894353.8167346509, 910176.8357366357, 898183.7971284351, 897602.8316427213, 889313.3164772089, 884614.2151546915, 890933.3170147245, 885055.5630896955, 899454.6241531164, 883971.7896896038, 885120.1443193996, 876627.6613067403, 872767.366768352, 883080.5527273961, 878278.8873800589, 895980.453723159, 882574.4174779492, 885858.3206037335, 879961.4017321671, 877312.1430848225, 886385.7300189426, 882382.7675590779, 898722.2177123706, 884644.0221463825, 886774.4680010058, 878782.3072998839, 876055.2690867457, 886524.0103954544, 879799.4823217511, 898166.1875975858, 883641.7482976081, 887026.5591650298, 880019.5372125641, 877276.9883842708, 888392.1978634979, 883851.7629674299, 901364.2083611055, 887181.0438485637, 889459.003487443, 881397.4183521302, 877478.810503508, 887490.2653671872, 882003.6027112524, 898861.4354151139, 884389.8801060481, 886805.9799065903, 880251.5822251117, 877398.8374760877, 886904.8353776225, 883573.0400323553, 900801.4777273528, 887388.2757020474, 890121.4024414647, 882391.0441412595, 878680.4968136811, 888783.9856157654, 883095.5946128357, 899516.472431819, 884221.4804013325, 885740.032701304, 877277.5555270704, 873516.2015838876, 884372.475030547, 880170.2302399046, 898740.4404264812, 886013.9514484454, 890363.0148387704, 884679.99252574, 883398.8635759491, 896200.0615559883, 893113.2303208264, 911840.9129540069, 898190.3655244987, 900668.3612429947, 892289.7374259823, 887775.0612500506, 898116.816939993, 891831.7083795618, 905899.5921855087, 890859.1766631252, 891186.0004165443, 882745.5889202679, 878874.7107830084, 889885.9830754879, 885800.9081733326, 904407.5276454273, 891328.1344836081, 896079.4960201661, 889643.4865014161, 885520.0390630468, 898055.7463540644, 893778.6077770228, 911469.7922113723, 894464.9275782129, 897325.8927754496, 887933.2663023729, 881197.2257068575, 889452.798455771, 882964.474022289, 898456.5431371519, 882882.3749232219, 884171.3495393627, 875554.5541994269, 871845.6992135003, 883036.9090035053, 878883.3528368323, 897207.5797214881, 883432.087272867, 886402.022397526, 878866.0294654927, 875637.8807615922, 886777.2438457066, 882064.6936671527, 899487.8842869281, 884573.6695181009, 886432.1461834869, 877947.1037879162, 874107.9627212893, 885090.2015030727, 880620.9282627411, 898662.5759683507, 885522.4229656432, 888478.4358484381]}],                        {\"annotations\": [{\"arrowhead\": 0, \"ax\": -60, \"ay\": 0, \"showarrow\": true, \"text\": \"Train End Date\", \"x\": \"2021-03-31T00:00:00\", \"xref\": \"x\", \"y\": 0.97, \"yref\": \"paper\"}], \"legend\": {\"traceorder\": \"reversed\"}, \"shapes\": [{\"line\": {\"color\": \"rgba(100, 100, 100, 0.9)\", \"width\": 1.0}, \"type\": \"line\", \"x0\": \"2021-03-31T00:00:00\", \"x1\": \"2021-03-31T00:00:00\", \"xref\": \"x\", \"y0\": 0, \"y1\": 1, \"yref\": \"paper\"}], \"showlegend\": true, \"template\": {\"data\": {\"bar\": [{\"error_x\": {\"color\": \"#2a3f5f\"}, \"error_y\": {\"color\": \"#2a3f5f\"}, \"marker\": {\"line\": {\"color\": \"#E5ECF6\", \"width\": 0.5}}, \"type\": \"bar\"}], \"barpolar\": [{\"marker\": {\"line\": {\"color\": \"#E5ECF6\", \"width\": 0.5}}, \"type\": \"barpolar\"}], \"carpet\": [{\"aaxis\": {\"endlinecolor\": \"#2a3f5f\", \"gridcolor\": \"white\", \"linecolor\": \"white\", \"minorgridcolor\": \"white\", \"startlinecolor\": \"#2a3f5f\"}, \"baxis\": {\"endlinecolor\": \"#2a3f5f\", \"gridcolor\": \"white\", \"linecolor\": \"white\", \"minorgridcolor\": \"white\", \"startlinecolor\": \"#2a3f5f\"}, \"type\": \"carpet\"}], \"choropleth\": [{\"colorbar\": {\"outlinewidth\": 0, \"ticks\": \"\"}, \"type\": \"choropleth\"}], \"contour\": [{\"colorbar\": {\"outlinewidth\": 0, \"ticks\": \"\"}, \"colorscale\": [[0.0, \"#0d0887\"], [0.1111111111111111, \"#46039f\"], [0.2222222222222222, \"#7201a8\"], [0.3333333333333333, \"#9c179e\"], [0.4444444444444444, \"#bd3786\"], [0.5555555555555556, \"#d8576b\"], [0.6666666666666666, \"#ed7953\"], [0.7777777777777778, \"#fb9f3a\"], [0.8888888888888888, \"#fdca26\"], [1.0, \"#f0f921\"]], \"type\": \"contour\"}], \"contourcarpet\": [{\"colorbar\": {\"outlinewidth\": 0, \"ticks\": \"\"}, \"type\": \"contourcarpet\"}], \"heatmap\": [{\"colorbar\": {\"outlinewidth\": 0, \"ticks\": \"\"}, \"colorscale\": [[0.0, \"#0d0887\"], [0.1111111111111111, \"#46039f\"], [0.2222222222222222, \"#7201a8\"], [0.3333333333333333, \"#9c179e\"], [0.4444444444444444, \"#bd3786\"], [0.5555555555555556, \"#d8576b\"], [0.6666666666666666, \"#ed7953\"], [0.7777777777777778, \"#fb9f3a\"], [0.8888888888888888, \"#fdca26\"], [1.0, \"#f0f921\"]], \"type\": \"heatmap\"}], \"heatmapgl\": [{\"colorbar\": {\"outlinewidth\": 0, \"ticks\": \"\"}, \"colorscale\": [[0.0, \"#0d0887\"], [0.1111111111111111, \"#46039f\"], [0.2222222222222222, \"#7201a8\"], [0.3333333333333333, \"#9c179e\"], [0.4444444444444444, \"#bd3786\"], [0.5555555555555556, \"#d8576b\"], [0.6666666666666666, \"#ed7953\"], [0.7777777777777778, \"#fb9f3a\"], [0.8888888888888888, \"#fdca26\"], [1.0, \"#f0f921\"]], \"type\": \"heatmapgl\"}], \"histogram\": [{\"marker\": {\"colorbar\": {\"outlinewidth\": 0, \"ticks\": \"\"}}, \"type\": \"histogram\"}], \"histogram2d\": [{\"colorbar\": {\"outlinewidth\": 0, \"ticks\": \"\"}, \"colorscale\": [[0.0, \"#0d0887\"], [0.1111111111111111, \"#46039f\"], [0.2222222222222222, \"#7201a8\"], [0.3333333333333333, \"#9c179e\"], [0.4444444444444444, \"#bd3786\"], [0.5555555555555556, \"#d8576b\"], [0.6666666666666666, \"#ed7953\"], [0.7777777777777778, \"#fb9f3a\"], [0.8888888888888888, \"#fdca26\"], [1.0, \"#f0f921\"]], \"type\": \"histogram2d\"}], \"histogram2dcontour\": [{\"colorbar\": {\"outlinewidth\": 0, \"ticks\": \"\"}, \"colorscale\": [[0.0, \"#0d0887\"], [0.1111111111111111, \"#46039f\"], [0.2222222222222222, \"#7201a8\"], [0.3333333333333333, \"#9c179e\"], [0.4444444444444444, \"#bd3786\"], [0.5555555555555556, \"#d8576b\"], [0.6666666666666666, \"#ed7953\"], [0.7777777777777778, \"#fb9f3a\"], [0.8888888888888888, \"#fdca26\"], [1.0, \"#f0f921\"]], \"type\": \"histogram2dcontour\"}], \"mesh3d\": [{\"colorbar\": {\"outlinewidth\": 0, \"ticks\": \"\"}, \"type\": \"mesh3d\"}], \"parcoords\": [{\"line\": {\"colorbar\": {\"outlinewidth\": 0, \"ticks\": \"\"}}, \"type\": \"parcoords\"}], \"pie\": [{\"automargin\": true, \"type\": \"pie\"}], \"scatter\": [{\"marker\": {\"colorbar\": {\"outlinewidth\": 0, \"ticks\": \"\"}}, \"type\": \"scatter\"}], \"scatter3d\": [{\"line\": {\"colorbar\": {\"outlinewidth\": 0, \"ticks\": \"\"}}, \"marker\": {\"colorbar\": {\"outlinewidth\": 0, \"ticks\": \"\"}}, \"type\": \"scatter3d\"}], \"scattercarpet\": [{\"marker\": {\"colorbar\": {\"outlinewidth\": 0, \"ticks\": \"\"}}, \"type\": \"scattercarpet\"}], \"scattergeo\": [{\"marker\": {\"colorbar\": {\"outlinewidth\": 0, \"ticks\": \"\"}}, \"type\": \"scattergeo\"}], \"scattergl\": [{\"marker\": {\"colorbar\": {\"outlinewidth\": 0, \"ticks\": \"\"}}, \"type\": \"scattergl\"}], \"scattermapbox\": [{\"marker\": {\"colorbar\": {\"outlinewidth\": 0, \"ticks\": \"\"}}, \"type\": \"scattermapbox\"}], \"scatterpolar\": [{\"marker\": {\"colorbar\": {\"outlinewidth\": 0, \"ticks\": \"\"}}, \"type\": \"scatterpolar\"}], \"scatterpolargl\": [{\"marker\": {\"colorbar\": {\"outlinewidth\": 0, \"ticks\": \"\"}}, \"type\": \"scatterpolargl\"}], \"scatterternary\": [{\"marker\": {\"colorbar\": {\"outlinewidth\": 0, \"ticks\": \"\"}}, \"type\": \"scatterternary\"}], \"surface\": [{\"colorbar\": {\"outlinewidth\": 0, \"ticks\": \"\"}, \"colorscale\": [[0.0, \"#0d0887\"], [0.1111111111111111, \"#46039f\"], [0.2222222222222222, \"#7201a8\"], [0.3333333333333333, \"#9c179e\"], [0.4444444444444444, \"#bd3786\"], [0.5555555555555556, \"#d8576b\"], [0.6666666666666666, \"#ed7953\"], [0.7777777777777778, \"#fb9f3a\"], [0.8888888888888888, \"#fdca26\"], [1.0, \"#f0f921\"]], \"type\": \"surface\"}], \"table\": [{\"cells\": {\"fill\": {\"color\": \"#EBF0F8\"}, \"line\": {\"color\": \"white\"}}, \"header\": {\"fill\": {\"color\": \"#C8D4E3\"}, \"line\": {\"color\": \"white\"}}, \"type\": \"table\"}]}, \"layout\": {\"annotationdefaults\": {\"arrowcolor\": \"#2a3f5f\", \"arrowhead\": 0, \"arrowwidth\": 1}, \"coloraxis\": {\"colorbar\": {\"outlinewidth\": 0, \"ticks\": \"\"}}, \"colorscale\": {\"diverging\": [[0, \"#8e0152\"], [0.1, \"#c51b7d\"], [0.2, \"#de77ae\"], [0.3, \"#f1b6da\"], [0.4, \"#fde0ef\"], [0.5, \"#f7f7f7\"], [0.6, \"#e6f5d0\"], [0.7, \"#b8e186\"], [0.8, \"#7fbc41\"], [0.9, \"#4d9221\"], [1, \"#276419\"]], \"sequential\": [[0.0, \"#0d0887\"], [0.1111111111111111, \"#46039f\"], [0.2222222222222222, \"#7201a8\"], [0.3333333333333333, \"#9c179e\"], [0.4444444444444444, \"#bd3786\"], [0.5555555555555556, \"#d8576b\"], [0.6666666666666666, \"#ed7953\"], [0.7777777777777778, \"#fb9f3a\"], [0.8888888888888888, \"#fdca26\"], [1.0, \"#f0f921\"]], \"sequentialminus\": [[0.0, \"#0d0887\"], [0.1111111111111111, \"#46039f\"], [0.2222222222222222, \"#7201a8\"], [0.3333333333333333, \"#9c179e\"], [0.4444444444444444, \"#bd3786\"], [0.5555555555555556, \"#d8576b\"], [0.6666666666666666, \"#ed7953\"], [0.7777777777777778, \"#fb9f3a\"], [0.8888888888888888, \"#fdca26\"], [1.0, \"#f0f921\"]]}, \"colorway\": [\"#636efa\", \"#EF553B\", \"#00cc96\", \"#ab63fa\", \"#FFA15A\", \"#19d3f3\", \"#FF6692\", \"#B6E880\", \"#FF97FF\", \"#FECB52\"], \"font\": {\"color\": \"#2a3f5f\"}, \"geo\": {\"bgcolor\": \"white\", \"lakecolor\": \"white\", \"landcolor\": \"#E5ECF6\", \"showlakes\": true, \"showland\": true, \"subunitcolor\": \"white\"}, \"hoverlabel\": {\"align\": \"left\"}, \"hovermode\": \"closest\", \"mapbox\": {\"style\": \"light\"}, \"paper_bgcolor\": \"white\", \"plot_bgcolor\": \"#E5ECF6\", \"polar\": {\"angularaxis\": {\"gridcolor\": \"white\", \"linecolor\": \"white\", \"ticks\": \"\"}, \"bgcolor\": \"#E5ECF6\", \"radialaxis\": {\"gridcolor\": \"white\", \"linecolor\": \"white\", \"ticks\": \"\"}}, \"scene\": {\"xaxis\": {\"backgroundcolor\": \"#E5ECF6\", \"gridcolor\": \"white\", \"gridwidth\": 2, \"linecolor\": \"white\", \"showbackground\": true, \"ticks\": \"\", \"zerolinecolor\": \"white\"}, \"yaxis\": {\"backgroundcolor\": \"#E5ECF6\", \"gridcolor\": \"white\", \"gridwidth\": 2, \"linecolor\": \"white\", \"showbackground\": true, \"ticks\": \"\", \"zerolinecolor\": \"white\"}, \"zaxis\": {\"backgroundcolor\": \"#E5ECF6\", \"gridcolor\": \"white\", \"gridwidth\": 2, \"linecolor\": \"white\", \"showbackground\": true, \"ticks\": \"\", \"zerolinecolor\": \"white\"}}, \"shapedefaults\": {\"line\": {\"color\": \"#2a3f5f\"}}, \"ternary\": {\"aaxis\": {\"gridcolor\": \"white\", \"linecolor\": \"white\", \"ticks\": \"\"}, \"baxis\": {\"gridcolor\": \"white\", \"linecolor\": \"white\", \"ticks\": \"\"}, \"bgcolor\": \"#E5ECF6\", \"caxis\": {\"gridcolor\": \"white\", \"linecolor\": \"white\", \"ticks\": \"\"}}, \"title\": {\"x\": 0.05}, \"xaxis\": {\"automargin\": true, \"gridcolor\": \"white\", \"linecolor\": \"white\", \"ticks\": \"\", \"title\": {\"standoff\": 15}, \"zerolinecolor\": \"white\", \"zerolinewidth\": 2}, \"yaxis\": {\"automargin\": true, \"gridcolor\": \"white\", \"linecolor\": \"white\", \"ticks\": \"\", \"title\": {\"standoff\": 15}, \"zerolinecolor\": \"white\", \"zerolinewidth\": 2}}}, \"title\": {\"text\": \"Forecast vs Actual\"}, \"xaxis\": {\"title\": {\"text\": \"ts\"}}, \"yaxis\": {\"title\": {\"text\": \"y\"}}},                        {\"responsive\": true}                    ).then(function(){\n",
       "                            \n",
       "var gd = document.getElementById('e7e62125-62d9-421b-a297-6dcbdb61ea71');\n",
       "var x = new MutationObserver(function (mutations, observer) {{\n",
       "        var display = window.getComputedStyle(gd).display;\n",
       "        if (!display || display === 'none') {{\n",
       "            console.log([gd, 'removed!']);\n",
       "            Plotly.purge(gd);\n",
       "            observer.disconnect();\n",
       "        }}\n",
       "}});\n",
       "\n",
       "// Listen for the removal of the full notebook cells\n",
       "var notebookContainer = gd.closest('#notebook-container');\n",
       "if (notebookContainer) {{\n",
       "    x.observe(notebookContainer, {childList: true});\n",
       "}}\n",
       "\n",
       "// Listen for the clearing of the current output cell\n",
       "var outputEl = gd.closest('.output');\n",
       "if (outputEl) {{\n",
       "    x.observe(outputEl, {childList: true});\n",
       "}}\n",
       "\n",
       "                        })                };                });            </script>        </div>"
      ]
     },
     "metadata": {},
     "output_type": "display_data"
    }
   ],
   "source": [
    "forecast = result.forecast\n",
    "fig = forecast.plot()\n",
    "iplot(fig)"
   ]
  },
  {
   "cell_type": "code",
   "execution_count": 143,
   "metadata": {},
   "outputs": [
    {
     "data": {
      "text/html": [
       "        <script type=\"text/javascript\">\n",
       "        window.PlotlyConfig = {MathJaxConfig: 'local'};\n",
       "        if (window.MathJax) {MathJax.Hub.Config({SVG: {font: \"STIX-Web\"}});}\n",
       "        if (typeof require !== 'undefined') {\n",
       "        require.undef(\"plotly\");\n",
       "        requirejs.config({\n",
       "            paths: {\n",
       "                'plotly': ['https://cdn.plot.ly/plotly-latest.min']\n",
       "            }\n",
       "        });\n",
       "        require(['plotly'], function(Plotly) {\n",
       "            window._Plotly = Plotly;\n",
       "        });\n",
       "        }\n",
       "        </script>\n",
       "        "
      ]
     },
     "metadata": {},
     "output_type": "display_data"
    },
    {
     "name": "stderr",
     "output_type": "stream",
     "text": [
      "../greykite\\greykite\\common\\evaluation.py:90: UserWarning:\n",
      "\n",
      "1 value(s) in y_true were NA or infinite and are omitted in error calc.\n",
      "\n",
      "../greykite\\greykite\\common\\evaluation.py:90: UserWarning:\n",
      "\n",
      "2 value(s) in y_true were NA or infinite and are omitted in error calc.\n",
      "\n",
      "../greykite\\greykite\\common\\evaluation.py:90: UserWarning:\n",
      "\n",
      "28 value(s) in y_true were NA or infinite and are omitted in error calc.\n",
      "\n",
      "../greykite\\greykite\\common\\evaluation.py:90: UserWarning:\n",
      "\n",
      "32 value(s) in y_true were NA or infinite and are omitted in error calc.\n",
      "\n"
     ]
    },
    {
     "data": {
      "application/vnd.plotly.v1+json": {
       "config": {
        "linkText": "Export to plot.ly",
        "plotlyServerURL": "https://plot.ly",
        "showLink": false
       },
       "data": [
        {
         "line": {
          "color": "rgb(32, 149, 212)"
         },
         "mode": "lines",
         "name": "train MAPE",
         "opacity": 0.8,
         "type": "scatter",
         "x": [
          1,
          2,
          3,
          4,
          5,
          6,
          7
         ],
         "y": [
          392.74571589580086,
          25.804082715593086,
          41.53135050519132,
          26.888474025995002,
          34.82528782870622,
          1501.0010035144735,
          1265.258040819772
         ]
        }
       ],
       "layout": {
        "legend": {
         "traceorder": "reversed"
        },
        "showlegend": true,
        "template": {
         "data": {
          "bar": [
           {
            "error_x": {
             "color": "#2a3f5f"
            },
            "error_y": {
             "color": "#2a3f5f"
            },
            "marker": {
             "line": {
              "color": "#E5ECF6",
              "width": 0.5
             }
            },
            "type": "bar"
           }
          ],
          "barpolar": [
           {
            "marker": {
             "line": {
              "color": "#E5ECF6",
              "width": 0.5
             }
            },
            "type": "barpolar"
           }
          ],
          "carpet": [
           {
            "aaxis": {
             "endlinecolor": "#2a3f5f",
             "gridcolor": "white",
             "linecolor": "white",
             "minorgridcolor": "white",
             "startlinecolor": "#2a3f5f"
            },
            "baxis": {
             "endlinecolor": "#2a3f5f",
             "gridcolor": "white",
             "linecolor": "white",
             "minorgridcolor": "white",
             "startlinecolor": "#2a3f5f"
            },
            "type": "carpet"
           }
          ],
          "choropleth": [
           {
            "colorbar": {
             "outlinewidth": 0,
             "ticks": ""
            },
            "type": "choropleth"
           }
          ],
          "contour": [
           {
            "colorbar": {
             "outlinewidth": 0,
             "ticks": ""
            },
            "colorscale": [
             [
              0,
              "#0d0887"
             ],
             [
              0.1111111111111111,
              "#46039f"
             ],
             [
              0.2222222222222222,
              "#7201a8"
             ],
             [
              0.3333333333333333,
              "#9c179e"
             ],
             [
              0.4444444444444444,
              "#bd3786"
             ],
             [
              0.5555555555555556,
              "#d8576b"
             ],
             [
              0.6666666666666666,
              "#ed7953"
             ],
             [
              0.7777777777777778,
              "#fb9f3a"
             ],
             [
              0.8888888888888888,
              "#fdca26"
             ],
             [
              1,
              "#f0f921"
             ]
            ],
            "type": "contour"
           }
          ],
          "contourcarpet": [
           {
            "colorbar": {
             "outlinewidth": 0,
             "ticks": ""
            },
            "type": "contourcarpet"
           }
          ],
          "heatmap": [
           {
            "colorbar": {
             "outlinewidth": 0,
             "ticks": ""
            },
            "colorscale": [
             [
              0,
              "#0d0887"
             ],
             [
              0.1111111111111111,
              "#46039f"
             ],
             [
              0.2222222222222222,
              "#7201a8"
             ],
             [
              0.3333333333333333,
              "#9c179e"
             ],
             [
              0.4444444444444444,
              "#bd3786"
             ],
             [
              0.5555555555555556,
              "#d8576b"
             ],
             [
              0.6666666666666666,
              "#ed7953"
             ],
             [
              0.7777777777777778,
              "#fb9f3a"
             ],
             [
              0.8888888888888888,
              "#fdca26"
             ],
             [
              1,
              "#f0f921"
             ]
            ],
            "type": "heatmap"
           }
          ],
          "heatmapgl": [
           {
            "colorbar": {
             "outlinewidth": 0,
             "ticks": ""
            },
            "colorscale": [
             [
              0,
              "#0d0887"
             ],
             [
              0.1111111111111111,
              "#46039f"
             ],
             [
              0.2222222222222222,
              "#7201a8"
             ],
             [
              0.3333333333333333,
              "#9c179e"
             ],
             [
              0.4444444444444444,
              "#bd3786"
             ],
             [
              0.5555555555555556,
              "#d8576b"
             ],
             [
              0.6666666666666666,
              "#ed7953"
             ],
             [
              0.7777777777777778,
              "#fb9f3a"
             ],
             [
              0.8888888888888888,
              "#fdca26"
             ],
             [
              1,
              "#f0f921"
             ]
            ],
            "type": "heatmapgl"
           }
          ],
          "histogram": [
           {
            "marker": {
             "colorbar": {
              "outlinewidth": 0,
              "ticks": ""
             }
            },
            "type": "histogram"
           }
          ],
          "histogram2d": [
           {
            "colorbar": {
             "outlinewidth": 0,
             "ticks": ""
            },
            "colorscale": [
             [
              0,
              "#0d0887"
             ],
             [
              0.1111111111111111,
              "#46039f"
             ],
             [
              0.2222222222222222,
              "#7201a8"
             ],
             [
              0.3333333333333333,
              "#9c179e"
             ],
             [
              0.4444444444444444,
              "#bd3786"
             ],
             [
              0.5555555555555556,
              "#d8576b"
             ],
             [
              0.6666666666666666,
              "#ed7953"
             ],
             [
              0.7777777777777778,
              "#fb9f3a"
             ],
             [
              0.8888888888888888,
              "#fdca26"
             ],
             [
              1,
              "#f0f921"
             ]
            ],
            "type": "histogram2d"
           }
          ],
          "histogram2dcontour": [
           {
            "colorbar": {
             "outlinewidth": 0,
             "ticks": ""
            },
            "colorscale": [
             [
              0,
              "#0d0887"
             ],
             [
              0.1111111111111111,
              "#46039f"
             ],
             [
              0.2222222222222222,
              "#7201a8"
             ],
             [
              0.3333333333333333,
              "#9c179e"
             ],
             [
              0.4444444444444444,
              "#bd3786"
             ],
             [
              0.5555555555555556,
              "#d8576b"
             ],
             [
              0.6666666666666666,
              "#ed7953"
             ],
             [
              0.7777777777777778,
              "#fb9f3a"
             ],
             [
              0.8888888888888888,
              "#fdca26"
             ],
             [
              1,
              "#f0f921"
             ]
            ],
            "type": "histogram2dcontour"
           }
          ],
          "mesh3d": [
           {
            "colorbar": {
             "outlinewidth": 0,
             "ticks": ""
            },
            "type": "mesh3d"
           }
          ],
          "parcoords": [
           {
            "line": {
             "colorbar": {
              "outlinewidth": 0,
              "ticks": ""
             }
            },
            "type": "parcoords"
           }
          ],
          "pie": [
           {
            "automargin": true,
            "type": "pie"
           }
          ],
          "scatter": [
           {
            "marker": {
             "colorbar": {
              "outlinewidth": 0,
              "ticks": ""
             }
            },
            "type": "scatter"
           }
          ],
          "scatter3d": [
           {
            "line": {
             "colorbar": {
              "outlinewidth": 0,
              "ticks": ""
             }
            },
            "marker": {
             "colorbar": {
              "outlinewidth": 0,
              "ticks": ""
             }
            },
            "type": "scatter3d"
           }
          ],
          "scattercarpet": [
           {
            "marker": {
             "colorbar": {
              "outlinewidth": 0,
              "ticks": ""
             }
            },
            "type": "scattercarpet"
           }
          ],
          "scattergeo": [
           {
            "marker": {
             "colorbar": {
              "outlinewidth": 0,
              "ticks": ""
             }
            },
            "type": "scattergeo"
           }
          ],
          "scattergl": [
           {
            "marker": {
             "colorbar": {
              "outlinewidth": 0,
              "ticks": ""
             }
            },
            "type": "scattergl"
           }
          ],
          "scattermapbox": [
           {
            "marker": {
             "colorbar": {
              "outlinewidth": 0,
              "ticks": ""
             }
            },
            "type": "scattermapbox"
           }
          ],
          "scatterpolar": [
           {
            "marker": {
             "colorbar": {
              "outlinewidth": 0,
              "ticks": ""
             }
            },
            "type": "scatterpolar"
           }
          ],
          "scatterpolargl": [
           {
            "marker": {
             "colorbar": {
              "outlinewidth": 0,
              "ticks": ""
             }
            },
            "type": "scatterpolargl"
           }
          ],
          "scatterternary": [
           {
            "marker": {
             "colorbar": {
              "outlinewidth": 0,
              "ticks": ""
             }
            },
            "type": "scatterternary"
           }
          ],
          "surface": [
           {
            "colorbar": {
             "outlinewidth": 0,
             "ticks": ""
            },
            "colorscale": [
             [
              0,
              "#0d0887"
             ],
             [
              0.1111111111111111,
              "#46039f"
             ],
             [
              0.2222222222222222,
              "#7201a8"
             ],
             [
              0.3333333333333333,
              "#9c179e"
             ],
             [
              0.4444444444444444,
              "#bd3786"
             ],
             [
              0.5555555555555556,
              "#d8576b"
             ],
             [
              0.6666666666666666,
              "#ed7953"
             ],
             [
              0.7777777777777778,
              "#fb9f3a"
             ],
             [
              0.8888888888888888,
              "#fdca26"
             ],
             [
              1,
              "#f0f921"
             ]
            ],
            "type": "surface"
           }
          ],
          "table": [
           {
            "cells": {
             "fill": {
              "color": "#EBF0F8"
             },
             "line": {
              "color": "white"
             }
            },
            "header": {
             "fill": {
              "color": "#C8D4E3"
             },
             "line": {
              "color": "white"
             }
            },
            "type": "table"
           }
          ]
         },
         "layout": {
          "annotationdefaults": {
           "arrowcolor": "#2a3f5f",
           "arrowhead": 0,
           "arrowwidth": 1
          },
          "coloraxis": {
           "colorbar": {
            "outlinewidth": 0,
            "ticks": ""
           }
          },
          "colorscale": {
           "diverging": [
            [
             0,
             "#8e0152"
            ],
            [
             0.1,
             "#c51b7d"
            ],
            [
             0.2,
             "#de77ae"
            ],
            [
             0.3,
             "#f1b6da"
            ],
            [
             0.4,
             "#fde0ef"
            ],
            [
             0.5,
             "#f7f7f7"
            ],
            [
             0.6,
             "#e6f5d0"
            ],
            [
             0.7,
             "#b8e186"
            ],
            [
             0.8,
             "#7fbc41"
            ],
            [
             0.9,
             "#4d9221"
            ],
            [
             1,
             "#276419"
            ]
           ],
           "sequential": [
            [
             0,
             "#0d0887"
            ],
            [
             0.1111111111111111,
             "#46039f"
            ],
            [
             0.2222222222222222,
             "#7201a8"
            ],
            [
             0.3333333333333333,
             "#9c179e"
            ],
            [
             0.4444444444444444,
             "#bd3786"
            ],
            [
             0.5555555555555556,
             "#d8576b"
            ],
            [
             0.6666666666666666,
             "#ed7953"
            ],
            [
             0.7777777777777778,
             "#fb9f3a"
            ],
            [
             0.8888888888888888,
             "#fdca26"
            ],
            [
             1,
             "#f0f921"
            ]
           ],
           "sequentialminus": [
            [
             0,
             "#0d0887"
            ],
            [
             0.1111111111111111,
             "#46039f"
            ],
            [
             0.2222222222222222,
             "#7201a8"
            ],
            [
             0.3333333333333333,
             "#9c179e"
            ],
            [
             0.4444444444444444,
             "#bd3786"
            ],
            [
             0.5555555555555556,
             "#d8576b"
            ],
            [
             0.6666666666666666,
             "#ed7953"
            ],
            [
             0.7777777777777778,
             "#fb9f3a"
            ],
            [
             0.8888888888888888,
             "#fdca26"
            ],
            [
             1,
             "#f0f921"
            ]
           ]
          },
          "colorway": [
           "#636efa",
           "#EF553B",
           "#00cc96",
           "#ab63fa",
           "#FFA15A",
           "#19d3f3",
           "#FF6692",
           "#B6E880",
           "#FF97FF",
           "#FECB52"
          ],
          "font": {
           "color": "#2a3f5f"
          },
          "geo": {
           "bgcolor": "white",
           "lakecolor": "white",
           "landcolor": "#E5ECF6",
           "showlakes": true,
           "showland": true,
           "subunitcolor": "white"
          },
          "hoverlabel": {
           "align": "left"
          },
          "hovermode": "closest",
          "mapbox": {
           "style": "light"
          },
          "paper_bgcolor": "white",
          "plot_bgcolor": "#E5ECF6",
          "polar": {
           "angularaxis": {
            "gridcolor": "white",
            "linecolor": "white",
            "ticks": ""
           },
           "bgcolor": "#E5ECF6",
           "radialaxis": {
            "gridcolor": "white",
            "linecolor": "white",
            "ticks": ""
           }
          },
          "scene": {
           "xaxis": {
            "backgroundcolor": "#E5ECF6",
            "gridcolor": "white",
            "gridwidth": 2,
            "linecolor": "white",
            "showbackground": true,
            "ticks": "",
            "zerolinecolor": "white"
           },
           "yaxis": {
            "backgroundcolor": "#E5ECF6",
            "gridcolor": "white",
            "gridwidth": 2,
            "linecolor": "white",
            "showbackground": true,
            "ticks": "",
            "zerolinecolor": "white"
           },
           "zaxis": {
            "backgroundcolor": "#E5ECF6",
            "gridcolor": "white",
            "gridwidth": 2,
            "linecolor": "white",
            "showbackground": true,
            "ticks": "",
            "zerolinecolor": "white"
           }
          },
          "shapedefaults": {
           "line": {
            "color": "#2a3f5f"
           }
          },
          "ternary": {
           "aaxis": {
            "gridcolor": "white",
            "linecolor": "white",
            "ticks": ""
           },
           "baxis": {
            "gridcolor": "white",
            "linecolor": "white",
            "ticks": ""
           },
           "bgcolor": "#E5ECF6",
           "caxis": {
            "gridcolor": "white",
            "linecolor": "white",
            "ticks": ""
           }
          },
          "title": {
           "x": 0.05
          },
          "xaxis": {
           "automargin": true,
           "gridcolor": "white",
           "linecolor": "white",
           "ticks": "",
           "title": {
            "standoff": 15
           },
           "zerolinecolor": "white",
           "zerolinewidth": 2
          },
          "yaxis": {
           "automargin": true,
           "gridcolor": "white",
           "linecolor": "white",
           "ticks": "",
           "title": {
            "standoff": 15
           },
           "zerolinecolor": "white",
           "zerolinewidth": 2
          }
         }
        },
        "title": {
         "text": "train MAPE vs dow"
        },
        "xaxis": {
         "title": {
          "text": "dow"
         }
        },
        "yaxis": {
         "title": {
          "text": "train MAPE"
         }
        }
       }
      },
      "text/html": [
       "<div>                            <div id=\"44278ed7-02bd-4f97-9883-8328bea5bc11\" class=\"plotly-graph-div\" style=\"height:525px; width:100%;\"></div>            <script type=\"text/javascript\">                require([\"plotly\"], function(Plotly) {                    window.PLOTLYENV=window.PLOTLYENV || {};                                    if (document.getElementById(\"44278ed7-02bd-4f97-9883-8328bea5bc11\")) {                    Plotly.newPlot(                        \"44278ed7-02bd-4f97-9883-8328bea5bc11\",                        [{\"line\": {\"color\": \"rgb(32, 149, 212)\"}, \"mode\": \"lines\", \"name\": \"train MAPE\", \"opacity\": 0.8, \"type\": \"scatter\", \"x\": [1, 2, 3, 4, 5, 6, 7], \"y\": [392.74571589580086, 25.804082715593086, 41.53135050519132, 26.888474025995002, 34.82528782870622, 1501.0010035144735, 1265.258040819772]}],                        {\"legend\": {\"traceorder\": \"reversed\"}, \"showlegend\": true, \"template\": {\"data\": {\"bar\": [{\"error_x\": {\"color\": \"#2a3f5f\"}, \"error_y\": {\"color\": \"#2a3f5f\"}, \"marker\": {\"line\": {\"color\": \"#E5ECF6\", \"width\": 0.5}}, \"type\": \"bar\"}], \"barpolar\": [{\"marker\": {\"line\": {\"color\": \"#E5ECF6\", \"width\": 0.5}}, \"type\": \"barpolar\"}], \"carpet\": [{\"aaxis\": {\"endlinecolor\": \"#2a3f5f\", \"gridcolor\": \"white\", \"linecolor\": \"white\", \"minorgridcolor\": \"white\", \"startlinecolor\": \"#2a3f5f\"}, \"baxis\": {\"endlinecolor\": \"#2a3f5f\", \"gridcolor\": \"white\", \"linecolor\": \"white\", \"minorgridcolor\": \"white\", \"startlinecolor\": \"#2a3f5f\"}, \"type\": \"carpet\"}], \"choropleth\": [{\"colorbar\": {\"outlinewidth\": 0, \"ticks\": \"\"}, \"type\": \"choropleth\"}], \"contour\": [{\"colorbar\": {\"outlinewidth\": 0, \"ticks\": \"\"}, \"colorscale\": [[0.0, \"#0d0887\"], [0.1111111111111111, \"#46039f\"], [0.2222222222222222, \"#7201a8\"], [0.3333333333333333, \"#9c179e\"], [0.4444444444444444, \"#bd3786\"], [0.5555555555555556, \"#d8576b\"], [0.6666666666666666, \"#ed7953\"], [0.7777777777777778, \"#fb9f3a\"], [0.8888888888888888, \"#fdca26\"], [1.0, \"#f0f921\"]], \"type\": \"contour\"}], \"contourcarpet\": [{\"colorbar\": {\"outlinewidth\": 0, \"ticks\": \"\"}, \"type\": \"contourcarpet\"}], \"heatmap\": [{\"colorbar\": {\"outlinewidth\": 0, \"ticks\": \"\"}, \"colorscale\": [[0.0, \"#0d0887\"], [0.1111111111111111, \"#46039f\"], [0.2222222222222222, \"#7201a8\"], [0.3333333333333333, \"#9c179e\"], [0.4444444444444444, \"#bd3786\"], [0.5555555555555556, \"#d8576b\"], [0.6666666666666666, \"#ed7953\"], [0.7777777777777778, \"#fb9f3a\"], [0.8888888888888888, \"#fdca26\"], [1.0, \"#f0f921\"]], \"type\": \"heatmap\"}], \"heatmapgl\": [{\"colorbar\": {\"outlinewidth\": 0, \"ticks\": \"\"}, \"colorscale\": [[0.0, \"#0d0887\"], [0.1111111111111111, \"#46039f\"], [0.2222222222222222, \"#7201a8\"], [0.3333333333333333, \"#9c179e\"], [0.4444444444444444, \"#bd3786\"], [0.5555555555555556, \"#d8576b\"], [0.6666666666666666, \"#ed7953\"], [0.7777777777777778, \"#fb9f3a\"], [0.8888888888888888, \"#fdca26\"], [1.0, \"#f0f921\"]], \"type\": \"heatmapgl\"}], \"histogram\": [{\"marker\": {\"colorbar\": {\"outlinewidth\": 0, \"ticks\": \"\"}}, \"type\": \"histogram\"}], \"histogram2d\": [{\"colorbar\": {\"outlinewidth\": 0, \"ticks\": \"\"}, \"colorscale\": [[0.0, \"#0d0887\"], [0.1111111111111111, \"#46039f\"], [0.2222222222222222, \"#7201a8\"], [0.3333333333333333, \"#9c179e\"], [0.4444444444444444, \"#bd3786\"], [0.5555555555555556, \"#d8576b\"], [0.6666666666666666, \"#ed7953\"], [0.7777777777777778, \"#fb9f3a\"], [0.8888888888888888, \"#fdca26\"], [1.0, \"#f0f921\"]], \"type\": \"histogram2d\"}], \"histogram2dcontour\": [{\"colorbar\": {\"outlinewidth\": 0, \"ticks\": \"\"}, \"colorscale\": [[0.0, \"#0d0887\"], [0.1111111111111111, \"#46039f\"], [0.2222222222222222, \"#7201a8\"], [0.3333333333333333, \"#9c179e\"], [0.4444444444444444, \"#bd3786\"], [0.5555555555555556, \"#d8576b\"], [0.6666666666666666, \"#ed7953\"], [0.7777777777777778, \"#fb9f3a\"], [0.8888888888888888, \"#fdca26\"], [1.0, \"#f0f921\"]], \"type\": \"histogram2dcontour\"}], \"mesh3d\": [{\"colorbar\": {\"outlinewidth\": 0, \"ticks\": \"\"}, \"type\": \"mesh3d\"}], \"parcoords\": [{\"line\": {\"colorbar\": {\"outlinewidth\": 0, \"ticks\": \"\"}}, \"type\": \"parcoords\"}], \"pie\": [{\"automargin\": true, \"type\": \"pie\"}], \"scatter\": [{\"marker\": {\"colorbar\": {\"outlinewidth\": 0, \"ticks\": \"\"}}, \"type\": \"scatter\"}], \"scatter3d\": [{\"line\": {\"colorbar\": {\"outlinewidth\": 0, \"ticks\": \"\"}}, \"marker\": {\"colorbar\": {\"outlinewidth\": 0, \"ticks\": \"\"}}, \"type\": \"scatter3d\"}], \"scattercarpet\": [{\"marker\": {\"colorbar\": {\"outlinewidth\": 0, \"ticks\": \"\"}}, \"type\": \"scattercarpet\"}], \"scattergeo\": [{\"marker\": {\"colorbar\": {\"outlinewidth\": 0, \"ticks\": \"\"}}, \"type\": \"scattergeo\"}], \"scattergl\": [{\"marker\": {\"colorbar\": {\"outlinewidth\": 0, \"ticks\": \"\"}}, \"type\": \"scattergl\"}], \"scattermapbox\": [{\"marker\": {\"colorbar\": {\"outlinewidth\": 0, \"ticks\": \"\"}}, \"type\": \"scattermapbox\"}], \"scatterpolar\": [{\"marker\": {\"colorbar\": {\"outlinewidth\": 0, \"ticks\": \"\"}}, \"type\": \"scatterpolar\"}], \"scatterpolargl\": [{\"marker\": {\"colorbar\": {\"outlinewidth\": 0, \"ticks\": \"\"}}, \"type\": \"scatterpolargl\"}], \"scatterternary\": [{\"marker\": {\"colorbar\": {\"outlinewidth\": 0, \"ticks\": \"\"}}, \"type\": \"scatterternary\"}], \"surface\": [{\"colorbar\": {\"outlinewidth\": 0, \"ticks\": \"\"}, \"colorscale\": [[0.0, \"#0d0887\"], [0.1111111111111111, \"#46039f\"], [0.2222222222222222, \"#7201a8\"], [0.3333333333333333, \"#9c179e\"], [0.4444444444444444, \"#bd3786\"], [0.5555555555555556, \"#d8576b\"], [0.6666666666666666, \"#ed7953\"], [0.7777777777777778, \"#fb9f3a\"], [0.8888888888888888, \"#fdca26\"], [1.0, \"#f0f921\"]], \"type\": \"surface\"}], \"table\": [{\"cells\": {\"fill\": {\"color\": \"#EBF0F8\"}, \"line\": {\"color\": \"white\"}}, \"header\": {\"fill\": {\"color\": \"#C8D4E3\"}, \"line\": {\"color\": \"white\"}}, \"type\": \"table\"}]}, \"layout\": {\"annotationdefaults\": {\"arrowcolor\": \"#2a3f5f\", \"arrowhead\": 0, \"arrowwidth\": 1}, \"coloraxis\": {\"colorbar\": {\"outlinewidth\": 0, \"ticks\": \"\"}}, \"colorscale\": {\"diverging\": [[0, \"#8e0152\"], [0.1, \"#c51b7d\"], [0.2, \"#de77ae\"], [0.3, \"#f1b6da\"], [0.4, \"#fde0ef\"], [0.5, \"#f7f7f7\"], [0.6, \"#e6f5d0\"], [0.7, \"#b8e186\"], [0.8, \"#7fbc41\"], [0.9, \"#4d9221\"], [1, \"#276419\"]], \"sequential\": [[0.0, \"#0d0887\"], [0.1111111111111111, \"#46039f\"], [0.2222222222222222, \"#7201a8\"], [0.3333333333333333, \"#9c179e\"], [0.4444444444444444, \"#bd3786\"], [0.5555555555555556, \"#d8576b\"], [0.6666666666666666, \"#ed7953\"], [0.7777777777777778, \"#fb9f3a\"], [0.8888888888888888, \"#fdca26\"], [1.0, \"#f0f921\"]], \"sequentialminus\": [[0.0, \"#0d0887\"], [0.1111111111111111, \"#46039f\"], [0.2222222222222222, \"#7201a8\"], [0.3333333333333333, \"#9c179e\"], [0.4444444444444444, \"#bd3786\"], [0.5555555555555556, \"#d8576b\"], [0.6666666666666666, \"#ed7953\"], [0.7777777777777778, \"#fb9f3a\"], [0.8888888888888888, \"#fdca26\"], [1.0, \"#f0f921\"]]}, \"colorway\": [\"#636efa\", \"#EF553B\", \"#00cc96\", \"#ab63fa\", \"#FFA15A\", \"#19d3f3\", \"#FF6692\", \"#B6E880\", \"#FF97FF\", \"#FECB52\"], \"font\": {\"color\": \"#2a3f5f\"}, \"geo\": {\"bgcolor\": \"white\", \"lakecolor\": \"white\", \"landcolor\": \"#E5ECF6\", \"showlakes\": true, \"showland\": true, \"subunitcolor\": \"white\"}, \"hoverlabel\": {\"align\": \"left\"}, \"hovermode\": \"closest\", \"mapbox\": {\"style\": \"light\"}, \"paper_bgcolor\": \"white\", \"plot_bgcolor\": \"#E5ECF6\", \"polar\": {\"angularaxis\": {\"gridcolor\": \"white\", \"linecolor\": \"white\", \"ticks\": \"\"}, \"bgcolor\": \"#E5ECF6\", \"radialaxis\": {\"gridcolor\": \"white\", \"linecolor\": \"white\", \"ticks\": \"\"}}, \"scene\": {\"xaxis\": {\"backgroundcolor\": \"#E5ECF6\", \"gridcolor\": \"white\", \"gridwidth\": 2, \"linecolor\": \"white\", \"showbackground\": true, \"ticks\": \"\", \"zerolinecolor\": \"white\"}, \"yaxis\": {\"backgroundcolor\": \"#E5ECF6\", \"gridcolor\": \"white\", \"gridwidth\": 2, \"linecolor\": \"white\", \"showbackground\": true, \"ticks\": \"\", \"zerolinecolor\": \"white\"}, \"zaxis\": {\"backgroundcolor\": \"#E5ECF6\", \"gridcolor\": \"white\", \"gridwidth\": 2, \"linecolor\": \"white\", \"showbackground\": true, \"ticks\": \"\", \"zerolinecolor\": \"white\"}}, \"shapedefaults\": {\"line\": {\"color\": \"#2a3f5f\"}}, \"ternary\": {\"aaxis\": {\"gridcolor\": \"white\", \"linecolor\": \"white\", \"ticks\": \"\"}, \"baxis\": {\"gridcolor\": \"white\", \"linecolor\": \"white\", \"ticks\": \"\"}, \"bgcolor\": \"#E5ECF6\", \"caxis\": {\"gridcolor\": \"white\", \"linecolor\": \"white\", \"ticks\": \"\"}}, \"title\": {\"x\": 0.05}, \"xaxis\": {\"automargin\": true, \"gridcolor\": \"white\", \"linecolor\": \"white\", \"ticks\": \"\", \"title\": {\"standoff\": 15}, \"zerolinecolor\": \"white\", \"zerolinewidth\": 2}, \"yaxis\": {\"automargin\": true, \"gridcolor\": \"white\", \"linecolor\": \"white\", \"ticks\": \"\", \"title\": {\"standoff\": 15}, \"zerolinecolor\": \"white\", \"zerolinewidth\": 2}}}, \"title\": {\"text\": \"train MAPE vs dow\"}, \"xaxis\": {\"title\": {\"text\": \"dow\"}}, \"yaxis\": {\"title\": {\"text\": \"train MAPE\"}}},                        {\"responsive\": true}                    ).then(function(){\n",
       "                            \n",
       "var gd = document.getElementById('44278ed7-02bd-4f97-9883-8328bea5bc11');\n",
       "var x = new MutationObserver(function (mutations, observer) {{\n",
       "        var display = window.getComputedStyle(gd).display;\n",
       "        if (!display || display === 'none') {{\n",
       "            console.log([gd, 'removed!']);\n",
       "            Plotly.purge(gd);\n",
       "            observer.disconnect();\n",
       "        }}\n",
       "}});\n",
       "\n",
       "// Listen for the removal of the full notebook cells\n",
       "var notebookContainer = gd.closest('#notebook-container');\n",
       "if (notebookContainer) {{\n",
       "    x.observe(notebookContainer, {childList: true});\n",
       "}}\n",
       "\n",
       "// Listen for the clearing of the current output cell\n",
       "var outputEl = gd.closest('.output');\n",
       "if (outputEl) {{\n",
       "    x.observe(outputEl, {childList: true});\n",
       "}}\n",
       "\n",
       "                        })                };                });            </script>        </div>"
      ]
     },
     "metadata": {},
     "output_type": "display_data"
    },
    {
     "name": "stderr",
     "output_type": "stream",
     "text": [
      "../greykite\\greykite\\common\\evaluation.py:90: UserWarning:\n",
      "\n",
      "2 value(s) in y_true were NA or infinite and are omitted in error calc.\n",
      "\n",
      "../greykite\\greykite\\common\\evaluation.py:90: UserWarning:\n",
      "\n",
      "1 value(s) in y_true were NA or infinite and are omitted in error calc.\n",
      "\n",
      "../greykite\\greykite\\common\\evaluation.py:90: UserWarning:\n",
      "\n",
      "1 value(s) in y_true were NA or infinite and are omitted in error calc.\n",
      "\n",
      "../greykite\\greykite\\common\\evaluation.py:90: UserWarning:\n",
      "\n",
      "2 value(s) in y_true were NA or infinite and are omitted in error calc.\n",
      "\n"
     ]
    },
    {
     "data": {
      "application/vnd.plotly.v1+json": {
       "config": {
        "linkText": "Export to plot.ly",
        "plotlyServerURL": "https://plot.ly",
        "showLink": false
       },
       "data": [
        {
         "line": {
          "color": "rgb(32, 149, 212)"
         },
         "mode": "lines",
         "name": "test RMSE",
         "opacity": 0.8,
         "type": "scatter",
         "x": [
          "2021-03-02T00:00:00",
          "2021-03-09T00:00:00",
          "2021-03-16T00:00:00",
          "2021-03-23T00:00:00",
          "2021-03-30T00:00:00"
         ],
         "y": [
          254254.95934044605,
          244119.28973121443,
          352504.11827512534,
          440725.48414631834,
          353861.62314090104
         ]
        }
       ],
       "layout": {
        "legend": {
         "traceorder": "reversed"
        },
        "showlegend": true,
        "template": {
         "data": {
          "bar": [
           {
            "error_x": {
             "color": "#2a3f5f"
            },
            "error_y": {
             "color": "#2a3f5f"
            },
            "marker": {
             "line": {
              "color": "#E5ECF6",
              "width": 0.5
             }
            },
            "type": "bar"
           }
          ],
          "barpolar": [
           {
            "marker": {
             "line": {
              "color": "#E5ECF6",
              "width": 0.5
             }
            },
            "type": "barpolar"
           }
          ],
          "carpet": [
           {
            "aaxis": {
             "endlinecolor": "#2a3f5f",
             "gridcolor": "white",
             "linecolor": "white",
             "minorgridcolor": "white",
             "startlinecolor": "#2a3f5f"
            },
            "baxis": {
             "endlinecolor": "#2a3f5f",
             "gridcolor": "white",
             "linecolor": "white",
             "minorgridcolor": "white",
             "startlinecolor": "#2a3f5f"
            },
            "type": "carpet"
           }
          ],
          "choropleth": [
           {
            "colorbar": {
             "outlinewidth": 0,
             "ticks": ""
            },
            "type": "choropleth"
           }
          ],
          "contour": [
           {
            "colorbar": {
             "outlinewidth": 0,
             "ticks": ""
            },
            "colorscale": [
             [
              0,
              "#0d0887"
             ],
             [
              0.1111111111111111,
              "#46039f"
             ],
             [
              0.2222222222222222,
              "#7201a8"
             ],
             [
              0.3333333333333333,
              "#9c179e"
             ],
             [
              0.4444444444444444,
              "#bd3786"
             ],
             [
              0.5555555555555556,
              "#d8576b"
             ],
             [
              0.6666666666666666,
              "#ed7953"
             ],
             [
              0.7777777777777778,
              "#fb9f3a"
             ],
             [
              0.8888888888888888,
              "#fdca26"
             ],
             [
              1,
              "#f0f921"
             ]
            ],
            "type": "contour"
           }
          ],
          "contourcarpet": [
           {
            "colorbar": {
             "outlinewidth": 0,
             "ticks": ""
            },
            "type": "contourcarpet"
           }
          ],
          "heatmap": [
           {
            "colorbar": {
             "outlinewidth": 0,
             "ticks": ""
            },
            "colorscale": [
             [
              0,
              "#0d0887"
             ],
             [
              0.1111111111111111,
              "#46039f"
             ],
             [
              0.2222222222222222,
              "#7201a8"
             ],
             [
              0.3333333333333333,
              "#9c179e"
             ],
             [
              0.4444444444444444,
              "#bd3786"
             ],
             [
              0.5555555555555556,
              "#d8576b"
             ],
             [
              0.6666666666666666,
              "#ed7953"
             ],
             [
              0.7777777777777778,
              "#fb9f3a"
             ],
             [
              0.8888888888888888,
              "#fdca26"
             ],
             [
              1,
              "#f0f921"
             ]
            ],
            "type": "heatmap"
           }
          ],
          "heatmapgl": [
           {
            "colorbar": {
             "outlinewidth": 0,
             "ticks": ""
            },
            "colorscale": [
             [
              0,
              "#0d0887"
             ],
             [
              0.1111111111111111,
              "#46039f"
             ],
             [
              0.2222222222222222,
              "#7201a8"
             ],
             [
              0.3333333333333333,
              "#9c179e"
             ],
             [
              0.4444444444444444,
              "#bd3786"
             ],
             [
              0.5555555555555556,
              "#d8576b"
             ],
             [
              0.6666666666666666,
              "#ed7953"
             ],
             [
              0.7777777777777778,
              "#fb9f3a"
             ],
             [
              0.8888888888888888,
              "#fdca26"
             ],
             [
              1,
              "#f0f921"
             ]
            ],
            "type": "heatmapgl"
           }
          ],
          "histogram": [
           {
            "marker": {
             "colorbar": {
              "outlinewidth": 0,
              "ticks": ""
             }
            },
            "type": "histogram"
           }
          ],
          "histogram2d": [
           {
            "colorbar": {
             "outlinewidth": 0,
             "ticks": ""
            },
            "colorscale": [
             [
              0,
              "#0d0887"
             ],
             [
              0.1111111111111111,
              "#46039f"
             ],
             [
              0.2222222222222222,
              "#7201a8"
             ],
             [
              0.3333333333333333,
              "#9c179e"
             ],
             [
              0.4444444444444444,
              "#bd3786"
             ],
             [
              0.5555555555555556,
              "#d8576b"
             ],
             [
              0.6666666666666666,
              "#ed7953"
             ],
             [
              0.7777777777777778,
              "#fb9f3a"
             ],
             [
              0.8888888888888888,
              "#fdca26"
             ],
             [
              1,
              "#f0f921"
             ]
            ],
            "type": "histogram2d"
           }
          ],
          "histogram2dcontour": [
           {
            "colorbar": {
             "outlinewidth": 0,
             "ticks": ""
            },
            "colorscale": [
             [
              0,
              "#0d0887"
             ],
             [
              0.1111111111111111,
              "#46039f"
             ],
             [
              0.2222222222222222,
              "#7201a8"
             ],
             [
              0.3333333333333333,
              "#9c179e"
             ],
             [
              0.4444444444444444,
              "#bd3786"
             ],
             [
              0.5555555555555556,
              "#d8576b"
             ],
             [
              0.6666666666666666,
              "#ed7953"
             ],
             [
              0.7777777777777778,
              "#fb9f3a"
             ],
             [
              0.8888888888888888,
              "#fdca26"
             ],
             [
              1,
              "#f0f921"
             ]
            ],
            "type": "histogram2dcontour"
           }
          ],
          "mesh3d": [
           {
            "colorbar": {
             "outlinewidth": 0,
             "ticks": ""
            },
            "type": "mesh3d"
           }
          ],
          "parcoords": [
           {
            "line": {
             "colorbar": {
              "outlinewidth": 0,
              "ticks": ""
             }
            },
            "type": "parcoords"
           }
          ],
          "pie": [
           {
            "automargin": true,
            "type": "pie"
           }
          ],
          "scatter": [
           {
            "marker": {
             "colorbar": {
              "outlinewidth": 0,
              "ticks": ""
             }
            },
            "type": "scatter"
           }
          ],
          "scatter3d": [
           {
            "line": {
             "colorbar": {
              "outlinewidth": 0,
              "ticks": ""
             }
            },
            "marker": {
             "colorbar": {
              "outlinewidth": 0,
              "ticks": ""
             }
            },
            "type": "scatter3d"
           }
          ],
          "scattercarpet": [
           {
            "marker": {
             "colorbar": {
              "outlinewidth": 0,
              "ticks": ""
             }
            },
            "type": "scattercarpet"
           }
          ],
          "scattergeo": [
           {
            "marker": {
             "colorbar": {
              "outlinewidth": 0,
              "ticks": ""
             }
            },
            "type": "scattergeo"
           }
          ],
          "scattergl": [
           {
            "marker": {
             "colorbar": {
              "outlinewidth": 0,
              "ticks": ""
             }
            },
            "type": "scattergl"
           }
          ],
          "scattermapbox": [
           {
            "marker": {
             "colorbar": {
              "outlinewidth": 0,
              "ticks": ""
             }
            },
            "type": "scattermapbox"
           }
          ],
          "scatterpolar": [
           {
            "marker": {
             "colorbar": {
              "outlinewidth": 0,
              "ticks": ""
             }
            },
            "type": "scatterpolar"
           }
          ],
          "scatterpolargl": [
           {
            "marker": {
             "colorbar": {
              "outlinewidth": 0,
              "ticks": ""
             }
            },
            "type": "scatterpolargl"
           }
          ],
          "scatterternary": [
           {
            "marker": {
             "colorbar": {
              "outlinewidth": 0,
              "ticks": ""
             }
            },
            "type": "scatterternary"
           }
          ],
          "surface": [
           {
            "colorbar": {
             "outlinewidth": 0,
             "ticks": ""
            },
            "colorscale": [
             [
              0,
              "#0d0887"
             ],
             [
              0.1111111111111111,
              "#46039f"
             ],
             [
              0.2222222222222222,
              "#7201a8"
             ],
             [
              0.3333333333333333,
              "#9c179e"
             ],
             [
              0.4444444444444444,
              "#bd3786"
             ],
             [
              0.5555555555555556,
              "#d8576b"
             ],
             [
              0.6666666666666666,
              "#ed7953"
             ],
             [
              0.7777777777777778,
              "#fb9f3a"
             ],
             [
              0.8888888888888888,
              "#fdca26"
             ],
             [
              1,
              "#f0f921"
             ]
            ],
            "type": "surface"
           }
          ],
          "table": [
           {
            "cells": {
             "fill": {
              "color": "#EBF0F8"
             },
             "line": {
              "color": "white"
             }
            },
            "header": {
             "fill": {
              "color": "#C8D4E3"
             },
             "line": {
              "color": "white"
             }
            },
            "type": "table"
           }
          ]
         },
         "layout": {
          "annotationdefaults": {
           "arrowcolor": "#2a3f5f",
           "arrowhead": 0,
           "arrowwidth": 1
          },
          "coloraxis": {
           "colorbar": {
            "outlinewidth": 0,
            "ticks": ""
           }
          },
          "colorscale": {
           "diverging": [
            [
             0,
             "#8e0152"
            ],
            [
             0.1,
             "#c51b7d"
            ],
            [
             0.2,
             "#de77ae"
            ],
            [
             0.3,
             "#f1b6da"
            ],
            [
             0.4,
             "#fde0ef"
            ],
            [
             0.5,
             "#f7f7f7"
            ],
            [
             0.6,
             "#e6f5d0"
            ],
            [
             0.7,
             "#b8e186"
            ],
            [
             0.8,
             "#7fbc41"
            ],
            [
             0.9,
             "#4d9221"
            ],
            [
             1,
             "#276419"
            ]
           ],
           "sequential": [
            [
             0,
             "#0d0887"
            ],
            [
             0.1111111111111111,
             "#46039f"
            ],
            [
             0.2222222222222222,
             "#7201a8"
            ],
            [
             0.3333333333333333,
             "#9c179e"
            ],
            [
             0.4444444444444444,
             "#bd3786"
            ],
            [
             0.5555555555555556,
             "#d8576b"
            ],
            [
             0.6666666666666666,
             "#ed7953"
            ],
            [
             0.7777777777777778,
             "#fb9f3a"
            ],
            [
             0.8888888888888888,
             "#fdca26"
            ],
            [
             1,
             "#f0f921"
            ]
           ],
           "sequentialminus": [
            [
             0,
             "#0d0887"
            ],
            [
             0.1111111111111111,
             "#46039f"
            ],
            [
             0.2222222222222222,
             "#7201a8"
            ],
            [
             0.3333333333333333,
             "#9c179e"
            ],
            [
             0.4444444444444444,
             "#bd3786"
            ],
            [
             0.5555555555555556,
             "#d8576b"
            ],
            [
             0.6666666666666666,
             "#ed7953"
            ],
            [
             0.7777777777777778,
             "#fb9f3a"
            ],
            [
             0.8888888888888888,
             "#fdca26"
            ],
            [
             1,
             "#f0f921"
            ]
           ]
          },
          "colorway": [
           "#636efa",
           "#EF553B",
           "#00cc96",
           "#ab63fa",
           "#FFA15A",
           "#19d3f3",
           "#FF6692",
           "#B6E880",
           "#FF97FF",
           "#FECB52"
          ],
          "font": {
           "color": "#2a3f5f"
          },
          "geo": {
           "bgcolor": "white",
           "lakecolor": "white",
           "landcolor": "#E5ECF6",
           "showlakes": true,
           "showland": true,
           "subunitcolor": "white"
          },
          "hoverlabel": {
           "align": "left"
          },
          "hovermode": "closest",
          "mapbox": {
           "style": "light"
          },
          "paper_bgcolor": "white",
          "plot_bgcolor": "#E5ECF6",
          "polar": {
           "angularaxis": {
            "gridcolor": "white",
            "linecolor": "white",
            "ticks": ""
           },
           "bgcolor": "#E5ECF6",
           "radialaxis": {
            "gridcolor": "white",
            "linecolor": "white",
            "ticks": ""
           }
          },
          "scene": {
           "xaxis": {
            "backgroundcolor": "#E5ECF6",
            "gridcolor": "white",
            "gridwidth": 2,
            "linecolor": "white",
            "showbackground": true,
            "ticks": "",
            "zerolinecolor": "white"
           },
           "yaxis": {
            "backgroundcolor": "#E5ECF6",
            "gridcolor": "white",
            "gridwidth": 2,
            "linecolor": "white",
            "showbackground": true,
            "ticks": "",
            "zerolinecolor": "white"
           },
           "zaxis": {
            "backgroundcolor": "#E5ECF6",
            "gridcolor": "white",
            "gridwidth": 2,
            "linecolor": "white",
            "showbackground": true,
            "ticks": "",
            "zerolinecolor": "white"
           }
          },
          "shapedefaults": {
           "line": {
            "color": "#2a3f5f"
           }
          },
          "ternary": {
           "aaxis": {
            "gridcolor": "white",
            "linecolor": "white",
            "ticks": ""
           },
           "baxis": {
            "gridcolor": "white",
            "linecolor": "white",
            "ticks": ""
           },
           "bgcolor": "#E5ECF6",
           "caxis": {
            "gridcolor": "white",
            "linecolor": "white",
            "ticks": ""
           }
          },
          "title": {
           "x": 0.05
          },
          "xaxis": {
           "automargin": true,
           "gridcolor": "white",
           "linecolor": "white",
           "ticks": "",
           "title": {
            "standoff": 15
           },
           "zerolinecolor": "white",
           "zerolinewidth": 2
          },
          "yaxis": {
           "automargin": true,
           "gridcolor": "white",
           "linecolor": "white",
           "ticks": "",
           "title": {
            "standoff": 15
           },
           "zerolinecolor": "white",
           "zerolinewidth": 2
          }
         }
        },
        "title": {
         "text": "test RMSE vs ts_downsample"
        },
        "xaxis": {
         "title": {
          "text": "ts_downsample"
         }
        },
        "yaxis": {
         "title": {
          "text": "test RMSE"
         }
        }
       }
      },
      "text/html": [
       "<div>                            <div id=\"430cad19-f319-45c9-a857-1e442b513d8d\" class=\"plotly-graph-div\" style=\"height:525px; width:100%;\"></div>            <script type=\"text/javascript\">                require([\"plotly\"], function(Plotly) {                    window.PLOTLYENV=window.PLOTLYENV || {};                                    if (document.getElementById(\"430cad19-f319-45c9-a857-1e442b513d8d\")) {                    Plotly.newPlot(                        \"430cad19-f319-45c9-a857-1e442b513d8d\",                        [{\"line\": {\"color\": \"rgb(32, 149, 212)\"}, \"mode\": \"lines\", \"name\": \"test RMSE\", \"opacity\": 0.8, \"type\": \"scatter\", \"x\": [\"2021-03-02T00:00:00\", \"2021-03-09T00:00:00\", \"2021-03-16T00:00:00\", \"2021-03-23T00:00:00\", \"2021-03-30T00:00:00\"], \"y\": [254254.95934044605, 244119.28973121443, 352504.11827512534, 440725.48414631834, 353861.62314090104]}],                        {\"legend\": {\"traceorder\": \"reversed\"}, \"showlegend\": true, \"template\": {\"data\": {\"bar\": [{\"error_x\": {\"color\": \"#2a3f5f\"}, \"error_y\": {\"color\": \"#2a3f5f\"}, \"marker\": {\"line\": {\"color\": \"#E5ECF6\", \"width\": 0.5}}, \"type\": \"bar\"}], \"barpolar\": [{\"marker\": {\"line\": {\"color\": \"#E5ECF6\", \"width\": 0.5}}, \"type\": \"barpolar\"}], \"carpet\": [{\"aaxis\": {\"endlinecolor\": \"#2a3f5f\", \"gridcolor\": \"white\", \"linecolor\": \"white\", \"minorgridcolor\": \"white\", \"startlinecolor\": \"#2a3f5f\"}, \"baxis\": {\"endlinecolor\": \"#2a3f5f\", \"gridcolor\": \"white\", \"linecolor\": \"white\", \"minorgridcolor\": \"white\", \"startlinecolor\": \"#2a3f5f\"}, \"type\": \"carpet\"}], \"choropleth\": [{\"colorbar\": {\"outlinewidth\": 0, \"ticks\": \"\"}, \"type\": \"choropleth\"}], \"contour\": [{\"colorbar\": {\"outlinewidth\": 0, \"ticks\": \"\"}, \"colorscale\": [[0.0, \"#0d0887\"], [0.1111111111111111, \"#46039f\"], [0.2222222222222222, \"#7201a8\"], [0.3333333333333333, \"#9c179e\"], [0.4444444444444444, \"#bd3786\"], [0.5555555555555556, \"#d8576b\"], [0.6666666666666666, \"#ed7953\"], [0.7777777777777778, \"#fb9f3a\"], [0.8888888888888888, \"#fdca26\"], [1.0, \"#f0f921\"]], \"type\": \"contour\"}], \"contourcarpet\": [{\"colorbar\": {\"outlinewidth\": 0, \"ticks\": \"\"}, \"type\": \"contourcarpet\"}], \"heatmap\": [{\"colorbar\": {\"outlinewidth\": 0, \"ticks\": \"\"}, \"colorscale\": [[0.0, \"#0d0887\"], [0.1111111111111111, \"#46039f\"], [0.2222222222222222, \"#7201a8\"], [0.3333333333333333, \"#9c179e\"], [0.4444444444444444, \"#bd3786\"], [0.5555555555555556, \"#d8576b\"], [0.6666666666666666, \"#ed7953\"], [0.7777777777777778, \"#fb9f3a\"], [0.8888888888888888, \"#fdca26\"], [1.0, \"#f0f921\"]], \"type\": \"heatmap\"}], \"heatmapgl\": [{\"colorbar\": {\"outlinewidth\": 0, \"ticks\": \"\"}, \"colorscale\": [[0.0, \"#0d0887\"], [0.1111111111111111, \"#46039f\"], [0.2222222222222222, \"#7201a8\"], [0.3333333333333333, \"#9c179e\"], [0.4444444444444444, \"#bd3786\"], [0.5555555555555556, \"#d8576b\"], [0.6666666666666666, \"#ed7953\"], [0.7777777777777778, \"#fb9f3a\"], [0.8888888888888888, \"#fdca26\"], [1.0, \"#f0f921\"]], \"type\": \"heatmapgl\"}], \"histogram\": [{\"marker\": {\"colorbar\": {\"outlinewidth\": 0, \"ticks\": \"\"}}, \"type\": \"histogram\"}], \"histogram2d\": [{\"colorbar\": {\"outlinewidth\": 0, \"ticks\": \"\"}, \"colorscale\": [[0.0, \"#0d0887\"], [0.1111111111111111, \"#46039f\"], [0.2222222222222222, \"#7201a8\"], [0.3333333333333333, \"#9c179e\"], [0.4444444444444444, \"#bd3786\"], [0.5555555555555556, \"#d8576b\"], [0.6666666666666666, \"#ed7953\"], [0.7777777777777778, \"#fb9f3a\"], [0.8888888888888888, \"#fdca26\"], [1.0, \"#f0f921\"]], \"type\": \"histogram2d\"}], \"histogram2dcontour\": [{\"colorbar\": {\"outlinewidth\": 0, \"ticks\": \"\"}, \"colorscale\": [[0.0, \"#0d0887\"], [0.1111111111111111, \"#46039f\"], [0.2222222222222222, \"#7201a8\"], [0.3333333333333333, \"#9c179e\"], [0.4444444444444444, \"#bd3786\"], [0.5555555555555556, \"#d8576b\"], [0.6666666666666666, \"#ed7953\"], [0.7777777777777778, \"#fb9f3a\"], [0.8888888888888888, \"#fdca26\"], [1.0, \"#f0f921\"]], \"type\": \"histogram2dcontour\"}], \"mesh3d\": [{\"colorbar\": {\"outlinewidth\": 0, \"ticks\": \"\"}, \"type\": \"mesh3d\"}], \"parcoords\": [{\"line\": {\"colorbar\": {\"outlinewidth\": 0, \"ticks\": \"\"}}, \"type\": \"parcoords\"}], \"pie\": [{\"automargin\": true, \"type\": \"pie\"}], \"scatter\": [{\"marker\": {\"colorbar\": {\"outlinewidth\": 0, \"ticks\": \"\"}}, \"type\": \"scatter\"}], \"scatter3d\": [{\"line\": {\"colorbar\": {\"outlinewidth\": 0, \"ticks\": \"\"}}, \"marker\": {\"colorbar\": {\"outlinewidth\": 0, \"ticks\": \"\"}}, \"type\": \"scatter3d\"}], \"scattercarpet\": [{\"marker\": {\"colorbar\": {\"outlinewidth\": 0, \"ticks\": \"\"}}, \"type\": \"scattercarpet\"}], \"scattergeo\": [{\"marker\": {\"colorbar\": {\"outlinewidth\": 0, \"ticks\": \"\"}}, \"type\": \"scattergeo\"}], \"scattergl\": [{\"marker\": {\"colorbar\": {\"outlinewidth\": 0, \"ticks\": \"\"}}, \"type\": \"scattergl\"}], \"scattermapbox\": [{\"marker\": {\"colorbar\": {\"outlinewidth\": 0, \"ticks\": \"\"}}, \"type\": \"scattermapbox\"}], \"scatterpolar\": [{\"marker\": {\"colorbar\": {\"outlinewidth\": 0, \"ticks\": \"\"}}, \"type\": \"scatterpolar\"}], \"scatterpolargl\": [{\"marker\": {\"colorbar\": {\"outlinewidth\": 0, \"ticks\": \"\"}}, \"type\": \"scatterpolargl\"}], \"scatterternary\": [{\"marker\": {\"colorbar\": {\"outlinewidth\": 0, \"ticks\": \"\"}}, \"type\": \"scatterternary\"}], \"surface\": [{\"colorbar\": {\"outlinewidth\": 0, \"ticks\": \"\"}, \"colorscale\": [[0.0, \"#0d0887\"], [0.1111111111111111, \"#46039f\"], [0.2222222222222222, \"#7201a8\"], [0.3333333333333333, \"#9c179e\"], [0.4444444444444444, \"#bd3786\"], [0.5555555555555556, \"#d8576b\"], [0.6666666666666666, \"#ed7953\"], [0.7777777777777778, \"#fb9f3a\"], [0.8888888888888888, \"#fdca26\"], [1.0, \"#f0f921\"]], \"type\": \"surface\"}], \"table\": [{\"cells\": {\"fill\": {\"color\": \"#EBF0F8\"}, \"line\": {\"color\": \"white\"}}, \"header\": {\"fill\": {\"color\": \"#C8D4E3\"}, \"line\": {\"color\": \"white\"}}, \"type\": \"table\"}]}, \"layout\": {\"annotationdefaults\": {\"arrowcolor\": \"#2a3f5f\", \"arrowhead\": 0, \"arrowwidth\": 1}, \"coloraxis\": {\"colorbar\": {\"outlinewidth\": 0, \"ticks\": \"\"}}, \"colorscale\": {\"diverging\": [[0, \"#8e0152\"], [0.1, \"#c51b7d\"], [0.2, \"#de77ae\"], [0.3, \"#f1b6da\"], [0.4, \"#fde0ef\"], [0.5, \"#f7f7f7\"], [0.6, \"#e6f5d0\"], [0.7, \"#b8e186\"], [0.8, \"#7fbc41\"], [0.9, \"#4d9221\"], [1, \"#276419\"]], \"sequential\": [[0.0, \"#0d0887\"], [0.1111111111111111, \"#46039f\"], [0.2222222222222222, \"#7201a8\"], [0.3333333333333333, \"#9c179e\"], [0.4444444444444444, \"#bd3786\"], [0.5555555555555556, \"#d8576b\"], [0.6666666666666666, \"#ed7953\"], [0.7777777777777778, \"#fb9f3a\"], [0.8888888888888888, \"#fdca26\"], [1.0, \"#f0f921\"]], \"sequentialminus\": [[0.0, \"#0d0887\"], [0.1111111111111111, \"#46039f\"], [0.2222222222222222, \"#7201a8\"], [0.3333333333333333, \"#9c179e\"], [0.4444444444444444, \"#bd3786\"], [0.5555555555555556, \"#d8576b\"], [0.6666666666666666, \"#ed7953\"], [0.7777777777777778, \"#fb9f3a\"], [0.8888888888888888, \"#fdca26\"], [1.0, \"#f0f921\"]]}, \"colorway\": [\"#636efa\", \"#EF553B\", \"#00cc96\", \"#ab63fa\", \"#FFA15A\", \"#19d3f3\", \"#FF6692\", \"#B6E880\", \"#FF97FF\", \"#FECB52\"], \"font\": {\"color\": \"#2a3f5f\"}, \"geo\": {\"bgcolor\": \"white\", \"lakecolor\": \"white\", \"landcolor\": \"#E5ECF6\", \"showlakes\": true, \"showland\": true, \"subunitcolor\": \"white\"}, \"hoverlabel\": {\"align\": \"left\"}, \"hovermode\": \"closest\", \"mapbox\": {\"style\": \"light\"}, \"paper_bgcolor\": \"white\", \"plot_bgcolor\": \"#E5ECF6\", \"polar\": {\"angularaxis\": {\"gridcolor\": \"white\", \"linecolor\": \"white\", \"ticks\": \"\"}, \"bgcolor\": \"#E5ECF6\", \"radialaxis\": {\"gridcolor\": \"white\", \"linecolor\": \"white\", \"ticks\": \"\"}}, \"scene\": {\"xaxis\": {\"backgroundcolor\": \"#E5ECF6\", \"gridcolor\": \"white\", \"gridwidth\": 2, \"linecolor\": \"white\", \"showbackground\": true, \"ticks\": \"\", \"zerolinecolor\": \"white\"}, \"yaxis\": {\"backgroundcolor\": \"#E5ECF6\", \"gridcolor\": \"white\", \"gridwidth\": 2, \"linecolor\": \"white\", \"showbackground\": true, \"ticks\": \"\", \"zerolinecolor\": \"white\"}, \"zaxis\": {\"backgroundcolor\": \"#E5ECF6\", \"gridcolor\": \"white\", \"gridwidth\": 2, \"linecolor\": \"white\", \"showbackground\": true, \"ticks\": \"\", \"zerolinecolor\": \"white\"}}, \"shapedefaults\": {\"line\": {\"color\": \"#2a3f5f\"}}, \"ternary\": {\"aaxis\": {\"gridcolor\": \"white\", \"linecolor\": \"white\", \"ticks\": \"\"}, \"baxis\": {\"gridcolor\": \"white\", \"linecolor\": \"white\", \"ticks\": \"\"}, \"bgcolor\": \"#E5ECF6\", \"caxis\": {\"gridcolor\": \"white\", \"linecolor\": \"white\", \"ticks\": \"\"}}, \"title\": {\"x\": 0.05}, \"xaxis\": {\"automargin\": true, \"gridcolor\": \"white\", \"linecolor\": \"white\", \"ticks\": \"\", \"title\": {\"standoff\": 15}, \"zerolinecolor\": \"white\", \"zerolinewidth\": 2}, \"yaxis\": {\"automargin\": true, \"gridcolor\": \"white\", \"linecolor\": \"white\", \"ticks\": \"\", \"title\": {\"standoff\": 15}, \"zerolinecolor\": \"white\", \"zerolinewidth\": 2}}}, \"title\": {\"text\": \"test RMSE vs ts_downsample\"}, \"xaxis\": {\"title\": {\"text\": \"ts_downsample\"}}, \"yaxis\": {\"title\": {\"text\": \"test RMSE\"}}},                        {\"responsive\": true}                    ).then(function(){\n",
       "                            \n",
       "var gd = document.getElementById('430cad19-f319-45c9-a857-1e442b513d8d');\n",
       "var x = new MutationObserver(function (mutations, observer) {{\n",
       "        var display = window.getComputedStyle(gd).display;\n",
       "        if (!display || display === 'none') {{\n",
       "            console.log([gd, 'removed!']);\n",
       "            Plotly.purge(gd);\n",
       "            observer.disconnect();\n",
       "        }}\n",
       "}});\n",
       "\n",
       "// Listen for the removal of the full notebook cells\n",
       "var notebookContainer = gd.closest('#notebook-container');\n",
       "if (notebookContainer) {{\n",
       "    x.observe(notebookContainer, {childList: true});\n",
       "}}\n",
       "\n",
       "// Listen for the clearing of the current output cell\n",
       "var outputEl = gd.closest('.output');\n",
       "if (outputEl) {{\n",
       "    x.observe(outputEl, {childList: true});\n",
       "}}\n",
       "\n",
       "                        })                };                });            </script>        </div>"
      ]
     },
     "metadata": {},
     "output_type": "display_data"
    }
   ],
   "source": [
    "from plotly.offline import init_notebook_mode, iplot\n",
    "from greykite.common.evaluation import EvaluationMetricEnum\n",
    "\n",
    "init_notebook_mode(connected=True)   # for generating offline graphs within Jupyter Notebook\n",
    "\n",
    "# MAPE by day of week\n",
    "fig = backtest.plot_grouping_evaluation(\n",
    "    score_func=EvaluationMetricEnum.MeanAbsolutePercentError.get_metric_func(),\n",
    "    score_func_name=EvaluationMetricEnum.MeanAbsolutePercentError.get_metric_name(),\n",
    "    which=\"train\", # \"train\" or \"test\" set\n",
    "    groupby_time_feature=\"dow\",  # day of week\n",
    "    groupby_sliding_window_size=None,\n",
    "    groupby_custom_column=None)\n",
    "iplot(fig)\n",
    "\n",
    "# RMSE over time\n",
    "fig = backtest.plot_grouping_evaluation(\n",
    "    score_func=EvaluationMetricEnum.RootMeanSquaredError.get_metric_func(),\n",
    "    score_func_name=EvaluationMetricEnum.RootMeanSquaredError.get_metric_name(),\n",
    "    which=\"test\", # \"train\" or \"test\" set\n",
    "    groupby_time_feature=None,\n",
    "    groupby_sliding_window_size=7,  # weekly aggregation of daily data\n",
    "    groupby_custom_column=None)\n",
    "iplot(fig)"
   ]
  },
  {
   "cell_type": "code",
   "execution_count": 146,
   "metadata": {},
   "outputs": [
    {
     "name": "stdout",
     "output_type": "stream",
     "text": [
      "================================ Model Summary =================================\n",
      "\n",
      "Number of observations: 365,   Number of features: 92\n",
      "Method: Ridge regression\n",
      "Number of nonzero features: 92\n",
      "Regularization parameter: 9770.0\n",
      "\n",
      "Residuals:\n",
      "         Min           1Q       Median           3Q          Max\n",
      "  -8.924e+05   -2.735e+05   -1.967e+05   -8.940e+04    1.378e+07\n",
      "\n",
      "             Pred_col   Estimate   Std. Err Pr(>)_boot sig. code                   95%CI\n",
      "            Intercept  8.882e+05  5.885e+04     <2e-16       ***  (7.886e+05, 1.012e+06)\n",
      "  events_C...New Year     -7.897      10.64      0.198                    (-32.51, 1.18)\n",
      "  events_C...w Year-1    -0.7624      7.682      0.558                   (-21.15, 15.23)\n",
      "  events_C...w Year-2     -18.19      19.06      0.488                       (-65.3, 0.)\n",
      "  events_C...w Year+1     -14.87      16.17      0.162                      (-53.16, 0.)\n",
      "  events_C...w Year+2     -22.23      24.16      0.164                      (-78.84, 0.)\n",
      " events_Christmas Day      83.83      90.87      0.526                       (0., 318.9)\n",
      "  events_C...as Day-1      219.5      225.6      0.216                       (0., 679.4)\n",
      "  events_C...as Day-2     -8.717      10.56      0.228                   (-33.96, 2.088)\n",
      "  events_C...as Day+1     -50.96       55.1      0.480                      (-180.8, 0.)\n",
      "  events_C...as Day+2     -9.693      12.88      0.530                      (-42.88, 0.)\n",
      "  events_E...Ireland]      31.57      32.24      0.478                       (0., 115.0)\n",
      "  events_E...eland]-1     -56.38       58.3      0.534                      (-191.6, 0.)\n",
      "  events_E...eland]-2     -39.28      38.93      0.474                      (-131.2, 0.)\n",
      "  events_E...eland]+1      0.492      7.974      0.956                   (-14.49, 18.19)\n",
      "  events_E...eland]+2      22.57      25.04      0.552                       (0., 79.63)\n",
      "   events_Good Friday      -22.4      24.04      0.166                      (-80.55, 0.)\n",
      " events_Good Friday-1     -10.98      15.39      0.548                      (-48.65, 0.)\n",
      " events_Good Friday-2     -54.12       42.6      0.190                      (-164.1, 0.)\n",
      " events_Good Friday+1     -39.28      38.93      0.474                      (-131.2, 0.)\n",
      " events_Good Friday+2     -56.38       58.3      0.534                      (-191.6, 0.)\n",
      "  events_I...ence Day     -52.81      45.11      0.136                      (-165.7, 0.)\n",
      "  events_I...ce Day-1     -79.45      64.46      0.236                      (-225.0, 0.)\n",
      "  events_I...ce Day-2     -56.98      42.82      0.106                      (-155.4, 0.)\n",
      "  events_I...ce Day+1     -113.7       83.6      0.200                      (-302.7, 0.)\n",
      "  events_I...ce Day+2     -49.63       41.3      0.090         .            (-155.7, 0.)\n",
      "     events_Labor Day     -104.2       91.3      0.124                      (-335.1, 0.)\n",
      "   events_Labor Day-1     -71.63       51.3      0.096         .            (-188.4, 0.)\n",
      "   events_Labor Day-2      -22.2      24.71      0.200                   (-87.85, 8.641)\n",
      "   events_Labor Day+1     -44.77      37.02      0.118                      (-130.8, 0.)\n",
      "   events_Labor Day+2     1099.0     1049.0      0.252                  (-35.63, 3320.0)\n",
      "  events_Memorial Day     -44.97      43.02      0.174                      (-146.4, 0.)\n",
      "  events_M...al Day-1     -56.89      63.54      0.504                      (-225.9, 0.)\n",
      "  events_M...al Day-2     -21.87      24.88      0.520                      (-87.31, 0.)\n",
      "  events_M...al Day+1     -31.59      31.24      0.154                      (-109.7, 0.)\n",
      "  events_M...al Day+2     -30.11       31.1      0.530                      (-106.1, 0.)\n",
      " events_New Years Day     -9.243      11.88      0.176                   (-39.41, 1.413)\n",
      "  events_N...rs Day-1     0.6554      9.234      0.974                   (-17.76, 21.88)\n",
      "  events_N...rs Day-2      27.86      31.17      0.504                       (0., 107.8)\n",
      "  events_N...rs Day+1     -18.35      20.17      0.526                       (-71.1, 0.)\n",
      "  events_N...rs Day+2     -27.83      27.97      0.180                      (-93.45, 0.)\n",
      "         events_Other     -564.4      367.1      0.106                  (-1195.0, 103.7)\n",
      "       events_Other-1     1139.0     1345.0      0.390                  (-656.3, 4217.0)\n",
      "       events_Other-2      971.2     1315.0      0.504                  (-684.2, 3983.0)\n",
      "       events_Other+1      380.3      974.5      0.684                  (-943.4, 2630.0)\n",
      "       events_Other+2     -353.0      372.4      0.354                  (-1086.0, 332.5)\n",
      "  events_Thanksgiving     -9.927      11.85      0.172                       (-36.6, 0.)\n",
      "  events_T...giving-1     -16.13      19.03      0.516                       (-66.8, 0.)\n",
      "  events_T...giving-2      -10.6      12.26      0.164                      (-40.16, 0.)\n",
      "  events_T...giving+1     -5.426      8.309      0.310                   (-26.47, 6.476)\n",
      "  events_T...giving+2     -34.71      38.59      0.526                      (-125.7, 0.)\n",
      "  events_Veterans Day     -40.67      43.52      0.516                      (-145.6, 0.)\n",
      "  events_V...ns Day-1     -14.17      15.69      0.150                       (-59.0, 0.)\n",
      "  events_V...ns Day-2     -15.17      15.82      0.142                      (-52.27, 0.)\n",
      "  events_V...ns Day+1     -18.53      19.33      0.474                      (-67.01, 0.)\n",
      "  events_V...ns Day+2      181.4      175.8      0.190                       (0., 559.5)\n",
      "        str_dow_2-Tue     -331.8      382.0      0.366                  (-1047.0, 506.8)\n",
      "        str_dow_3-Wed     1962.0     1515.0      0.204                  (-346.1, 5107.0)\n",
      "        str_dow_4-Thu      187.8      590.2      0.756                  (-780.2, 1496.0)\n",
      "        str_dow_5-Fri      157.0      458.4      0.724                  (-669.0, 1145.0)\n",
      "        str_dow_6-Sat     -833.5      478.5      0.086         .        (-1828.0, 131.2)\n",
      "        str_dow_7-Sun    -1195.0      493.0      0.024         *       (-2091.0, -160.3)\n",
      "                  ct1     -149.9      283.3      0.580                   (-771.0, 354.1)\n",
      "       is_weekend:ct1     -934.3      418.0      0.028         *       (-1777.0, -134.0)\n",
      "    str_dow_2-Tue:ct1     -156.6      217.0      0.426                   (-547.5, 329.9)\n",
      "    str_dow_3-Wed:ct1      850.7      716.7      0.248                  (-222.6, 2246.0)\n",
      "    str_dow_4-Thu:ct1     -15.94      217.3      0.934                   (-362.6, 426.1)\n",
      "    str_dow_5-Fri:ct1      89.71      235.1      0.692                   (-331.2, 584.4)\n",
      "    str_dow_6-Sat:ct1     -281.6      315.6      0.344                   (-880.7, 428.5)\n",
      "    str_dow_7-Sun:ct1     -652.7      253.4      0.010         *       (-1139.0, -178.3)\n",
      "  ct1:sin1_tow_weekly     1446.0      908.9      0.074         .        (-13.77, 3214.0)\n",
      "  ct1:cos1_tow_weekly     -681.2      463.9      0.152                  (-1602.0, 215.7)\n",
      "  ct1:sin2_tow_weekly      74.94      531.2      0.848                  (-923.7, 1031.0)\n",
      "  ct1:cos2_tow_weekly     -270.2      894.4      0.790                 (-2015.0, 1306.0)\n",
      "      sin1_tow_weekly     3413.0     1864.0      0.052         .         (486.8, 7500.0)\n",
      "      cos1_tow_weekly    -1461.0     1026.0      0.162                  (-3419.0, 688.2)\n",
      "      sin2_tow_weekly     -395.9     1088.0      0.700                 (-2531.0, 1692.0)\n",
      "      cos2_tow_weekly     -409.5     1841.0      0.842                 (-3822.0, 2812.0)\n",
      "      sin3_tow_weekly    -1781.0     1534.0      0.240                  (-4881.0, 952.8)\n",
      "      cos3_tow_weekly     2055.0     1313.0      0.112                  (-476.0, 4735.0)\n",
      "      sin4_tow_weekly     1781.0     1534.0      0.240                  (-952.8, 4881.0)\n",
      "      cos4_tow_weekly     2055.0     1313.0      0.112                  (-476.0, 4735.0)\n",
      "   sin1_toq_quarterly    -3685.0     1317.0      0.010         *      (-6385.0, -1439.0)\n",
      "   cos1_toq_quarterly     2179.0     1584.0      0.136                  (-175.1, 5952.0)\n",
      "   sin2_toq_quarterly    -2640.0      819.3      0.004        **      (-4313.0, -1128.0)\n",
      "   cos2_toq_quarterly     -20.49     1937.0      0.988                 (-3560.0, 4261.0)\n",
      "   sin3_toq_quarterly      661.6     1322.0      0.630                 (-1641.0, 3474.0)\n",
      "   cos3_toq_quarterly      388.2     1738.0      0.804                 (-2442.0, 4276.0)\n",
      "   sin4_toq_quarterly      410.0      992.6      0.660                 (-1481.0, 2295.0)\n",
      "   cos4_toq_quarterly     2667.0     1853.0      0.150                  (-547.7, 6347.0)\n",
      "   sin5_toq_quarterly    -2185.0     1347.0      0.098         .        (-4882.0, 209.0)\n",
      "   cos5_toq_quarterly     2108.0     1641.0      0.168                  (-866.9, 5658.0)\n",
      "Signif. Code: 0 '***' 0.001 '**' 0.01 '*' 0.05 '.' 0.1 ' ' 1\n",
      "\n",
      "Multiple R-squared: 0.0038,   Adjusted R-squared: 0.005245\n",
      "F-statistic: -0.03447 on 0 and 364 DF,   p-value: nan\n",
      "Model AIC: 12315.0,   model BIC: 12317.0\n",
      "\n",
      "WARNING: the F-ratio and its p-value on regularized methods might be misleading, they are provided only for reference purposes.\n",
      "\n"
     ]
    }
   ],
   "source": [
    " summary = result.model[-1].summary()  # -1 retrieves the estimator from the pipeline\n",
    " print(summary)"
   ]
  },
  {
   "cell_type": "code",
   "execution_count": 147,
   "metadata": {},
   "outputs": [
    {
     "data": {
      "text/html": [
       "<div>\n",
       "<style scoped>\n",
       "    .dataframe tbody tr th:only-of-type {\n",
       "        vertical-align: middle;\n",
       "    }\n",
       "\n",
       "    .dataframe tbody tr th {\n",
       "        vertical-align: top;\n",
       "    }\n",
       "\n",
       "    .dataframe thead th {\n",
       "        text-align: right;\n",
       "    }\n",
       "</style>\n",
       "<table border=\"1\" class=\"dataframe\">\n",
       "  <thead>\n",
       "    <tr style=\"text-align: right;\">\n",
       "      <th></th>\n",
       "      <th>ts</th>\n",
       "      <th>y</th>\n",
       "    </tr>\n",
       "  </thead>\n",
       "  <tbody>\n",
       "    <tr>\n",
       "      <th>2021-04-01</th>\n",
       "      <td>2021-04-01</td>\n",
       "      <td>NaN</td>\n",
       "    </tr>\n",
       "    <tr>\n",
       "      <th>2021-04-02</th>\n",
       "      <td>2021-04-02</td>\n",
       "      <td>NaN</td>\n",
       "    </tr>\n",
       "    <tr>\n",
       "      <th>2021-04-03</th>\n",
       "      <td>2021-04-03</td>\n",
       "      <td>NaN</td>\n",
       "    </tr>\n",
       "    <tr>\n",
       "      <th>2021-04-04</th>\n",
       "      <td>2021-04-04</td>\n",
       "      <td>NaN</td>\n",
       "    </tr>\n",
       "    <tr>\n",
       "      <th>2021-04-05</th>\n",
       "      <td>2021-04-05</td>\n",
       "      <td>NaN</td>\n",
       "    </tr>\n",
       "    <tr>\n",
       "      <th>2021-04-06</th>\n",
       "      <td>2021-04-06</td>\n",
       "      <td>NaN</td>\n",
       "    </tr>\n",
       "    <tr>\n",
       "      <th>2021-04-07</th>\n",
       "      <td>2021-04-07</td>\n",
       "      <td>NaN</td>\n",
       "    </tr>\n",
       "    <tr>\n",
       "      <th>2021-04-08</th>\n",
       "      <td>2021-04-08</td>\n",
       "      <td>NaN</td>\n",
       "    </tr>\n",
       "    <tr>\n",
       "      <th>2021-04-09</th>\n",
       "      <td>2021-04-09</td>\n",
       "      <td>NaN</td>\n",
       "    </tr>\n",
       "    <tr>\n",
       "      <th>2021-04-10</th>\n",
       "      <td>2021-04-10</td>\n",
       "      <td>NaN</td>\n",
       "    </tr>\n",
       "    <tr>\n",
       "      <th>2021-04-11</th>\n",
       "      <td>2021-04-11</td>\n",
       "      <td>NaN</td>\n",
       "    </tr>\n",
       "    <tr>\n",
       "      <th>2021-04-12</th>\n",
       "      <td>2021-04-12</td>\n",
       "      <td>NaN</td>\n",
       "    </tr>\n",
       "    <tr>\n",
       "      <th>2021-04-13</th>\n",
       "      <td>2021-04-13</td>\n",
       "      <td>NaN</td>\n",
       "    </tr>\n",
       "    <tr>\n",
       "      <th>2021-04-14</th>\n",
       "      <td>2021-04-14</td>\n",
       "      <td>NaN</td>\n",
       "    </tr>\n",
       "    <tr>\n",
       "      <th>2021-04-15</th>\n",
       "      <td>2021-04-15</td>\n",
       "      <td>NaN</td>\n",
       "    </tr>\n",
       "    <tr>\n",
       "      <th>2021-04-16</th>\n",
       "      <td>2021-04-16</td>\n",
       "      <td>NaN</td>\n",
       "    </tr>\n",
       "    <tr>\n",
       "      <th>2021-04-17</th>\n",
       "      <td>2021-04-17</td>\n",
       "      <td>NaN</td>\n",
       "    </tr>\n",
       "    <tr>\n",
       "      <th>2021-04-18</th>\n",
       "      <td>2021-04-18</td>\n",
       "      <td>NaN</td>\n",
       "    </tr>\n",
       "    <tr>\n",
       "      <th>2021-04-19</th>\n",
       "      <td>2021-04-19</td>\n",
       "      <td>NaN</td>\n",
       "    </tr>\n",
       "    <tr>\n",
       "      <th>2021-04-20</th>\n",
       "      <td>2021-04-20</td>\n",
       "      <td>NaN</td>\n",
       "    </tr>\n",
       "    <tr>\n",
       "      <th>2021-04-21</th>\n",
       "      <td>2021-04-21</td>\n",
       "      <td>NaN</td>\n",
       "    </tr>\n",
       "    <tr>\n",
       "      <th>2021-04-22</th>\n",
       "      <td>2021-04-22</td>\n",
       "      <td>NaN</td>\n",
       "    </tr>\n",
       "    <tr>\n",
       "      <th>2021-04-23</th>\n",
       "      <td>2021-04-23</td>\n",
       "      <td>NaN</td>\n",
       "    </tr>\n",
       "    <tr>\n",
       "      <th>2021-04-24</th>\n",
       "      <td>2021-04-24</td>\n",
       "      <td>NaN</td>\n",
       "    </tr>\n",
       "    <tr>\n",
       "      <th>2021-04-25</th>\n",
       "      <td>2021-04-25</td>\n",
       "      <td>NaN</td>\n",
       "    </tr>\n",
       "    <tr>\n",
       "      <th>2021-04-26</th>\n",
       "      <td>2021-04-26</td>\n",
       "      <td>NaN</td>\n",
       "    </tr>\n",
       "    <tr>\n",
       "      <th>2021-04-27</th>\n",
       "      <td>2021-04-27</td>\n",
       "      <td>NaN</td>\n",
       "    </tr>\n",
       "    <tr>\n",
       "      <th>2021-04-28</th>\n",
       "      <td>2021-04-28</td>\n",
       "      <td>NaN</td>\n",
       "    </tr>\n",
       "    <tr>\n",
       "      <th>2021-04-29</th>\n",
       "      <td>2021-04-29</td>\n",
       "      <td>NaN</td>\n",
       "    </tr>\n",
       "    <tr>\n",
       "      <th>2021-04-30</th>\n",
       "      <td>2021-04-30</td>\n",
       "      <td>NaN</td>\n",
       "    </tr>\n",
       "  </tbody>\n",
       "</table>\n",
       "</div>"
      ],
      "text/plain": [
       "                   ts   y\n",
       "2021-04-01 2021-04-01 NaN\n",
       "2021-04-02 2021-04-02 NaN\n",
       "2021-04-03 2021-04-03 NaN\n",
       "2021-04-04 2021-04-04 NaN\n",
       "2021-04-05 2021-04-05 NaN\n",
       "2021-04-06 2021-04-06 NaN\n",
       "2021-04-07 2021-04-07 NaN\n",
       "2021-04-08 2021-04-08 NaN\n",
       "2021-04-09 2021-04-09 NaN\n",
       "2021-04-10 2021-04-10 NaN\n",
       "2021-04-11 2021-04-11 NaN\n",
       "2021-04-12 2021-04-12 NaN\n",
       "2021-04-13 2021-04-13 NaN\n",
       "2021-04-14 2021-04-14 NaN\n",
       "2021-04-15 2021-04-15 NaN\n",
       "2021-04-16 2021-04-16 NaN\n",
       "2021-04-17 2021-04-17 NaN\n",
       "2021-04-18 2021-04-18 NaN\n",
       "2021-04-19 2021-04-19 NaN\n",
       "2021-04-20 2021-04-20 NaN\n",
       "2021-04-21 2021-04-21 NaN\n",
       "2021-04-22 2021-04-22 NaN\n",
       "2021-04-23 2021-04-23 NaN\n",
       "2021-04-24 2021-04-24 NaN\n",
       "2021-04-25 2021-04-25 NaN\n",
       "2021-04-26 2021-04-26 NaN\n",
       "2021-04-27 2021-04-27 NaN\n",
       "2021-04-28 2021-04-28 NaN\n",
       "2021-04-29 2021-04-29 NaN\n",
       "2021-04-30 2021-04-30 NaN"
      ]
     },
     "execution_count": 147,
     "metadata": {},
     "output_type": "execute_result"
    }
   ],
   "source": [
    " future_df = result.timeseries.make_future_dataframe(\n",
    "     periods=30,\n",
    "     include_history=False)\n",
    " future_df"
   ]
  },
  {
   "cell_type": "code",
   "execution_count": 148,
   "metadata": {},
   "outputs": [
    {
     "name": "stderr",
     "output_type": "stream",
     "text": [
      "../greykite\\greykite\\sklearn\\transform\\null_transformer.py:177: RuntimeWarning:\n",
      "\n",
      "Input data has many null values. Missing 100.00% of one input.\n",
      "\n"
     ]
    },
    {
     "data": {
      "text/html": [
       "<div>\n",
       "<style scoped>\n",
       "    .dataframe tbody tr th:only-of-type {\n",
       "        vertical-align: middle;\n",
       "    }\n",
       "\n",
       "    .dataframe tbody tr th {\n",
       "        vertical-align: top;\n",
       "    }\n",
       "\n",
       "    .dataframe thead th {\n",
       "        text-align: right;\n",
       "    }\n",
       "</style>\n",
       "<table border=\"1\" class=\"dataframe\">\n",
       "  <thead>\n",
       "    <tr style=\"text-align: right;\">\n",
       "      <th></th>\n",
       "      <th>ts</th>\n",
       "      <th>forecast</th>\n",
       "      <th>forecast_lower</th>\n",
       "      <th>forecast_upper</th>\n",
       "      <th>y_quantile_summary</th>\n",
       "    </tr>\n",
       "  </thead>\n",
       "  <tbody>\n",
       "    <tr>\n",
       "      <th>0</th>\n",
       "      <td>2021-04-01</td>\n",
       "      <td>894464.927578</td>\n",
       "      <td>-7.402793e+05</td>\n",
       "      <td>2.529209e+06</td>\n",
       "      <td>(-740279.2970705396, 2529209.1522269654)</td>\n",
       "    </tr>\n",
       "    <tr>\n",
       "      <th>1</th>\n",
       "      <td>2021-04-02</td>\n",
       "      <td>897325.892775</td>\n",
       "      <td>-1.961703e+05</td>\n",
       "      <td>1.990822e+06</td>\n",
       "      <td>(-196170.2933471148, 1990822.078898014)</td>\n",
       "    </tr>\n",
       "    <tr>\n",
       "      <th>2</th>\n",
       "      <td>2021-04-03</td>\n",
       "      <td>887933.266302</td>\n",
       "      <td>-3.629030e+05</td>\n",
       "      <td>2.138770e+06</td>\n",
       "      <td>(-362903.04445841827, 2138769.577063164)</td>\n",
       "    </tr>\n",
       "    <tr>\n",
       "      <th>3</th>\n",
       "      <td>2021-04-04</td>\n",
       "      <td>881197.225707</td>\n",
       "      <td>-3.353213e+05</td>\n",
       "      <td>2.097716e+06</td>\n",
       "      <td>(-335321.3149244302, 2097715.7663381454)</td>\n",
       "    </tr>\n",
       "    <tr>\n",
       "      <th>4</th>\n",
       "      <td>2021-04-05</td>\n",
       "      <td>889452.798456</td>\n",
       "      <td>-6.871998e+05</td>\n",
       "      <td>2.466105e+06</td>\n",
       "      <td>(-687199.798219595, 2466105.3951311368)</td>\n",
       "    </tr>\n",
       "    <tr>\n",
       "      <th>5</th>\n",
       "      <td>2021-04-06</td>\n",
       "      <td>882964.474022</td>\n",
       "      <td>1.080693e+05</td>\n",
       "      <td>1.657860e+06</td>\n",
       "      <td>(108069.34101829666, 1657859.6070262813)</td>\n",
       "    </tr>\n",
       "    <tr>\n",
       "      <th>6</th>\n",
       "      <td>2021-04-07</td>\n",
       "      <td>898456.543137</td>\n",
       "      <td>-3.845591e+06</td>\n",
       "      <td>5.642504e+06</td>\n",
       "      <td>(-3845591.1383772856, 5642504.224651589)</td>\n",
       "    </tr>\n",
       "    <tr>\n",
       "      <th>7</th>\n",
       "      <td>2021-04-08</td>\n",
       "      <td>882882.374923</td>\n",
       "      <td>-7.518618e+05</td>\n",
       "      <td>2.517627e+06</td>\n",
       "      <td>(-751861.8497255306, 2517626.5995719745)</td>\n",
       "    </tr>\n",
       "    <tr>\n",
       "      <th>8</th>\n",
       "      <td>2021-04-09</td>\n",
       "      <td>884171.349539</td>\n",
       "      <td>-2.093248e+05</td>\n",
       "      <td>1.977668e+06</td>\n",
       "      <td>(-209324.83658320166, 1977667.535661927)</td>\n",
       "    </tr>\n",
       "    <tr>\n",
       "      <th>9</th>\n",
       "      <td>2021-04-10</td>\n",
       "      <td>875554.554199</td>\n",
       "      <td>-3.752818e+05</td>\n",
       "      <td>2.126391e+06</td>\n",
       "      <td>(-375281.7565613643, 2126390.864960218)</td>\n",
       "    </tr>\n",
       "    <tr>\n",
       "      <th>10</th>\n",
       "      <td>2021-04-11</td>\n",
       "      <td>871845.699214</td>\n",
       "      <td>-3.446728e+05</td>\n",
       "      <td>2.088364e+06</td>\n",
       "      <td>(-344672.8414177875, 2088364.2398447879)</td>\n",
       "    </tr>\n",
       "    <tr>\n",
       "      <th>11</th>\n",
       "      <td>2021-04-12</td>\n",
       "      <td>883036.909004</td>\n",
       "      <td>-6.936157e+05</td>\n",
       "      <td>2.459690e+06</td>\n",
       "      <td>(-693615.6876718607, 2459689.505678871)</td>\n",
       "    </tr>\n",
       "    <tr>\n",
       "      <th>12</th>\n",
       "      <td>2021-04-13</td>\n",
       "      <td>878883.352837</td>\n",
       "      <td>1.039882e+05</td>\n",
       "      <td>1.653778e+06</td>\n",
       "      <td>(103988.21983283991, 1653778.4858408247)</td>\n",
       "    </tr>\n",
       "    <tr>\n",
       "      <th>13</th>\n",
       "      <td>2021-04-14</td>\n",
       "      <td>897207.579721</td>\n",
       "      <td>-3.846840e+06</td>\n",
       "      <td>5.641255e+06</td>\n",
       "      <td>(-3846840.1017929493, 5641255.261235925)</td>\n",
       "    </tr>\n",
       "    <tr>\n",
       "      <th>14</th>\n",
       "      <td>2021-04-15</td>\n",
       "      <td>883432.087273</td>\n",
       "      <td>-7.513121e+05</td>\n",
       "      <td>2.518176e+06</td>\n",
       "      <td>(-751312.1373758855, 2518176.3119216193)</td>\n",
       "    </tr>\n",
       "    <tr>\n",
       "      <th>15</th>\n",
       "      <td>2021-04-16</td>\n",
       "      <td>886402.022398</td>\n",
       "      <td>-2.070942e+05</td>\n",
       "      <td>1.979898e+06</td>\n",
       "      <td>(-207094.1637250384, 1979898.2085200902)</td>\n",
       "    </tr>\n",
       "    <tr>\n",
       "      <th>16</th>\n",
       "      <td>2021-04-17</td>\n",
       "      <td>878866.029465</td>\n",
       "      <td>-3.719703e+05</td>\n",
       "      <td>2.129702e+06</td>\n",
       "      <td>(-371970.2812952985, 2129702.3402262838)</td>\n",
       "    </tr>\n",
       "    <tr>\n",
       "      <th>17</th>\n",
       "      <td>2021-04-18</td>\n",
       "      <td>875637.880762</td>\n",
       "      <td>-3.408807e+05</td>\n",
       "      <td>2.092156e+06</td>\n",
       "      <td>(-340880.65986969555, 2092156.42139288)</td>\n",
       "    </tr>\n",
       "    <tr>\n",
       "      <th>18</th>\n",
       "      <td>2021-04-19</td>\n",
       "      <td>886777.243846</td>\n",
       "      <td>-6.898754e+05</td>\n",
       "      <td>2.463430e+06</td>\n",
       "      <td>(-689875.3528296594, 2463429.8405210725)</td>\n",
       "    </tr>\n",
       "    <tr>\n",
       "      <th>19</th>\n",
       "      <td>2021-04-20</td>\n",
       "      <td>882064.693667</td>\n",
       "      <td>1.071696e+05</td>\n",
       "      <td>1.656960e+06</td>\n",
       "      <td>(107169.56066316029, 1656959.826671145)</td>\n",
       "    </tr>\n",
       "    <tr>\n",
       "      <th>20</th>\n",
       "      <td>2021-04-21</td>\n",
       "      <td>899487.884287</td>\n",
       "      <td>-3.844560e+06</td>\n",
       "      <td>5.643536e+06</td>\n",
       "      <td>(-3844559.7972275093, 5643535.565801365)</td>\n",
       "    </tr>\n",
       "    <tr>\n",
       "      <th>21</th>\n",
       "      <td>2021-04-22</td>\n",
       "      <td>884573.669518</td>\n",
       "      <td>-7.501706e+05</td>\n",
       "      <td>2.519318e+06</td>\n",
       "      <td>(-750170.5551306516, 2519317.8941668533)</td>\n",
       "    </tr>\n",
       "    <tr>\n",
       "      <th>22</th>\n",
       "      <td>2021-04-23</td>\n",
       "      <td>886432.146183</td>\n",
       "      <td>-2.070640e+05</td>\n",
       "      <td>1.979928e+06</td>\n",
       "      <td>(-207064.03993907745, 1979928.3323060512)</td>\n",
       "    </tr>\n",
       "    <tr>\n",
       "      <th>23</th>\n",
       "      <td>2021-04-24</td>\n",
       "      <td>877947.103788</td>\n",
       "      <td>-3.728892e+05</td>\n",
       "      <td>2.128783e+06</td>\n",
       "      <td>(-372889.20697287493, 2128783.414548707)</td>\n",
       "    </tr>\n",
       "    <tr>\n",
       "      <th>24</th>\n",
       "      <td>2021-04-25</td>\n",
       "      <td>874107.962721</td>\n",
       "      <td>-3.424106e+05</td>\n",
       "      <td>2.090627e+06</td>\n",
       "      <td>(-342410.5779099985, 2090626.5033525769)</td>\n",
       "    </tr>\n",
       "    <tr>\n",
       "      <th>25</th>\n",
       "      <td>2021-04-26</td>\n",
       "      <td>885090.201503</td>\n",
       "      <td>-6.915624e+05</td>\n",
       "      <td>2.461743e+06</td>\n",
       "      <td>(-691562.3951722932, 2461742.7981784386)</td>\n",
       "    </tr>\n",
       "    <tr>\n",
       "      <th>26</th>\n",
       "      <td>2021-04-27</td>\n",
       "      <td>880620.928263</td>\n",
       "      <td>1.057258e+05</td>\n",
       "      <td>1.655516e+06</td>\n",
       "      <td>(105725.7952587487, 1655516.0612667333)</td>\n",
       "    </tr>\n",
       "    <tr>\n",
       "      <th>27</th>\n",
       "      <td>2021-04-28</td>\n",
       "      <td>898662.575968</td>\n",
       "      <td>-3.845385e+06</td>\n",
       "      <td>5.642710e+06</td>\n",
       "      <td>(-3845385.1055460866, 5642710.257482788)</td>\n",
       "    </tr>\n",
       "    <tr>\n",
       "      <th>28</th>\n",
       "      <td>2021-04-29</td>\n",
       "      <td>885522.422966</td>\n",
       "      <td>-7.492218e+05</td>\n",
       "      <td>2.520267e+06</td>\n",
       "      <td>(-749221.8016831093, 2520266.6476143957)</td>\n",
       "    </tr>\n",
       "    <tr>\n",
       "      <th>29</th>\n",
       "      <td>2021-04-30</td>\n",
       "      <td>888478.435848</td>\n",
       "      <td>-2.050178e+05</td>\n",
       "      <td>1.981975e+06</td>\n",
       "      <td>(-205017.7502741263, 1981974.6219710023)</td>\n",
       "    </tr>\n",
       "  </tbody>\n",
       "</table>\n",
       "</div>"
      ],
      "text/plain": [
       "           ts       forecast  forecast_lower  forecast_upper  \\\n",
       "0  2021-04-01  894464.927578   -7.402793e+05    2.529209e+06   \n",
       "1  2021-04-02  897325.892775   -1.961703e+05    1.990822e+06   \n",
       "2  2021-04-03  887933.266302   -3.629030e+05    2.138770e+06   \n",
       "3  2021-04-04  881197.225707   -3.353213e+05    2.097716e+06   \n",
       "4  2021-04-05  889452.798456   -6.871998e+05    2.466105e+06   \n",
       "5  2021-04-06  882964.474022    1.080693e+05    1.657860e+06   \n",
       "6  2021-04-07  898456.543137   -3.845591e+06    5.642504e+06   \n",
       "7  2021-04-08  882882.374923   -7.518618e+05    2.517627e+06   \n",
       "8  2021-04-09  884171.349539   -2.093248e+05    1.977668e+06   \n",
       "9  2021-04-10  875554.554199   -3.752818e+05    2.126391e+06   \n",
       "10 2021-04-11  871845.699214   -3.446728e+05    2.088364e+06   \n",
       "11 2021-04-12  883036.909004   -6.936157e+05    2.459690e+06   \n",
       "12 2021-04-13  878883.352837    1.039882e+05    1.653778e+06   \n",
       "13 2021-04-14  897207.579721   -3.846840e+06    5.641255e+06   \n",
       "14 2021-04-15  883432.087273   -7.513121e+05    2.518176e+06   \n",
       "15 2021-04-16  886402.022398   -2.070942e+05    1.979898e+06   \n",
       "16 2021-04-17  878866.029465   -3.719703e+05    2.129702e+06   \n",
       "17 2021-04-18  875637.880762   -3.408807e+05    2.092156e+06   \n",
       "18 2021-04-19  886777.243846   -6.898754e+05    2.463430e+06   \n",
       "19 2021-04-20  882064.693667    1.071696e+05    1.656960e+06   \n",
       "20 2021-04-21  899487.884287   -3.844560e+06    5.643536e+06   \n",
       "21 2021-04-22  884573.669518   -7.501706e+05    2.519318e+06   \n",
       "22 2021-04-23  886432.146183   -2.070640e+05    1.979928e+06   \n",
       "23 2021-04-24  877947.103788   -3.728892e+05    2.128783e+06   \n",
       "24 2021-04-25  874107.962721   -3.424106e+05    2.090627e+06   \n",
       "25 2021-04-26  885090.201503   -6.915624e+05    2.461743e+06   \n",
       "26 2021-04-27  880620.928263    1.057258e+05    1.655516e+06   \n",
       "27 2021-04-28  898662.575968   -3.845385e+06    5.642710e+06   \n",
       "28 2021-04-29  885522.422966   -7.492218e+05    2.520267e+06   \n",
       "29 2021-04-30  888478.435848   -2.050178e+05    1.981975e+06   \n",
       "\n",
       "                           y_quantile_summary  \n",
       "0    (-740279.2970705396, 2529209.1522269654)  \n",
       "1     (-196170.2933471148, 1990822.078898014)  \n",
       "2    (-362903.04445841827, 2138769.577063164)  \n",
       "3    (-335321.3149244302, 2097715.7663381454)  \n",
       "4     (-687199.798219595, 2466105.3951311368)  \n",
       "5    (108069.34101829666, 1657859.6070262813)  \n",
       "6    (-3845591.1383772856, 5642504.224651589)  \n",
       "7    (-751861.8497255306, 2517626.5995719745)  \n",
       "8    (-209324.83658320166, 1977667.535661927)  \n",
       "9     (-375281.7565613643, 2126390.864960218)  \n",
       "10   (-344672.8414177875, 2088364.2398447879)  \n",
       "11    (-693615.6876718607, 2459689.505678871)  \n",
       "12   (103988.21983283991, 1653778.4858408247)  \n",
       "13   (-3846840.1017929493, 5641255.261235925)  \n",
       "14   (-751312.1373758855, 2518176.3119216193)  \n",
       "15   (-207094.1637250384, 1979898.2085200902)  \n",
       "16   (-371970.2812952985, 2129702.3402262838)  \n",
       "17    (-340880.65986969555, 2092156.42139288)  \n",
       "18   (-689875.3528296594, 2463429.8405210725)  \n",
       "19    (107169.56066316029, 1656959.826671145)  \n",
       "20   (-3844559.7972275093, 5643535.565801365)  \n",
       "21   (-750170.5551306516, 2519317.8941668533)  \n",
       "22  (-207064.03993907745, 1979928.3323060512)  \n",
       "23   (-372889.20697287493, 2128783.414548707)  \n",
       "24   (-342410.5779099985, 2090626.5033525769)  \n",
       "25   (-691562.3951722932, 2461742.7981784386)  \n",
       "26    (105725.7952587487, 1655516.0612667333)  \n",
       "27   (-3845385.1055460866, 5642710.257482788)  \n",
       "28   (-749221.8016831093, 2520266.6476143957)  \n",
       "29   (-205017.7502741263, 1981974.6219710023)  "
      ]
     },
     "execution_count": 148,
     "metadata": {},
     "output_type": "execute_result"
    }
   ],
   "source": [
    "model.predict(future_df)"
   ]
  },
  {
   "cell_type": "markdown",
   "metadata": {},
   "source": [
    "### Observation:\n",
    "\n",
    "Per the model in Linkedin Greykite, house prices will be stable around almost $900,000 for Queens"
   ]
  },
  {
   "cell_type": "code",
   "execution_count": null,
   "metadata": {},
   "outputs": [],
   "source": []
  }
 ],
 "metadata": {
  "kernelspec": {
   "display_name": "Python 3",
   "language": "python",
   "name": "python3"
  },
  "language_info": {
   "codemirror_mode": {
    "name": "ipython",
    "version": 3
   },
   "file_extension": ".py",
   "mimetype": "text/x-python",
   "name": "python",
   "nbconvert_exporter": "python",
   "pygments_lexer": "ipython3",
   "version": "3.8.5"
  }
 },
 "nbformat": 4,
 "nbformat_minor": 4
}
