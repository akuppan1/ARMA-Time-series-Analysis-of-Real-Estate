{
 "cells": [
  {
   "cell_type": "markdown",
   "metadata": {},
   "source": [
    "# Analysis of Rolling Sales Data - Queens"
   ]
  },
  {
   "cell_type": "markdown",
   "metadata": {},
   "source": [
    "# Steps"
   ]
  },
  {
   "cell_type": "markdown",
   "metadata": {},
   "source": [
    "I am going to do the following:\n",
    "\n",
    "    1. Import necessary modules\n",
    "    2. Load the prepped data per borough \n",
    "    3. Analyze the data for trends and seasonality\n",
    "    4. Dickey-Fuller Tests and preparing data for ARMA modeling by inducing stationarity\n",
    "    5. ARMA model of the data\n",
    "    6. Error analysis of the ARMA model\n",
    "    7. Comparison with latest data\n",
    "    8. Onservations/Conclusions"
   ]
  },
  {
   "cell_type": "markdown",
   "metadata": {},
   "source": [
    "## 1. Imports"
   ]
  },
  {
   "cell_type": "code",
   "execution_count": 57,
   "metadata": {},
   "outputs": [],
   "source": [
    "import pandas as pd\n",
    "from pandas.plotting import register_matplotlib_converters\n",
    "import matplotlib.pyplot as plt\n",
    "import matplotlib as mpl\n",
    "from sklearn.metrics import mean_squared_error, r2_score, mean_absolute_error\n",
    "import datetime\n",
    "from statsmodels.tsa.arima_model import ARMA\n",
    "from statsmodels.tsa.stattools import adfuller, acf, pacf\n",
    "from statsmodels.graphics.tsaplots import plot_acf, plot_pacf\n",
    "import statsmodels.api as sm\n",
    "from statsmodels.tsa.seasonal import seasonal_decompose\n",
    "import numpy as np\n",
    "from matplotlib.pylab import rcParams\n",
    "from sklearn.metrics import mean_squared_error\n",
    "from math import sqrt\n",
    "import sklearn\n",
    "import math"
   ]
  },
  {
   "cell_type": "markdown",
   "metadata": {},
   "source": [
    "## 2. Loading the prepared data\n",
    "\n",
    "##### Observations: \n",
    " - Once I loaded the data and sorted it, the SALE DATE values range from 4/1/2020 until 3/31/2021.\n",
    " - This data was the most recent data when I started working on the project. \n",
    " - NYC OpenData website updates this data regularly with newer months about every 2-3 months"
   ]
  },
  {
   "cell_type": "code",
   "execution_count": 58,
   "metadata": {},
   "outputs": [
    {
     "data": {
      "text/html": [
       "<div>\n",
       "<style scoped>\n",
       "    .dataframe tbody tr th:only-of-type {\n",
       "        vertical-align: middle;\n",
       "    }\n",
       "\n",
       "    .dataframe tbody tr th {\n",
       "        vertical-align: top;\n",
       "    }\n",
       "\n",
       "    .dataframe thead th {\n",
       "        text-align: right;\n",
       "    }\n",
       "</style>\n",
       "<table border=\"1\" class=\"dataframe\">\n",
       "  <thead>\n",
       "    <tr style=\"text-align: right;\">\n",
       "      <th></th>\n",
       "      <th>TAX CLASS AT PRESENT</th>\n",
       "      <th>ZIP CODE</th>\n",
       "      <th>SALE PRICE</th>\n",
       "      <th>SALE DATE</th>\n",
       "    </tr>\n",
       "  </thead>\n",
       "  <tbody>\n",
       "    <tr>\n",
       "      <th>11776</th>\n",
       "      <td>1</td>\n",
       "      <td>11434</td>\n",
       "      <td>434500</td>\n",
       "      <td>2020-04-01</td>\n",
       "    </tr>\n",
       "    <tr>\n",
       "      <th>5303</th>\n",
       "      <td>2</td>\n",
       "      <td>11375</td>\n",
       "      <td>1150000</td>\n",
       "      <td>2020-04-01</td>\n",
       "    </tr>\n",
       "    <tr>\n",
       "      <th>10406</th>\n",
       "      <td>4</td>\n",
       "      <td>11418</td>\n",
       "      <td>2500000</td>\n",
       "      <td>2020-04-01</td>\n",
       "    </tr>\n",
       "    <tr>\n",
       "      <th>11814</th>\n",
       "      <td>1</td>\n",
       "      <td>11434</td>\n",
       "      <td>358000</td>\n",
       "      <td>2020-04-01</td>\n",
       "    </tr>\n",
       "    <tr>\n",
       "      <th>12658</th>\n",
       "      <td>1</td>\n",
       "      <td>11357</td>\n",
       "      <td>720000</td>\n",
       "      <td>2020-04-01</td>\n",
       "    </tr>\n",
       "    <tr>\n",
       "      <th>...</th>\n",
       "      <td>...</td>\n",
       "      <td>...</td>\n",
       "      <td>...</td>\n",
       "      <td>...</td>\n",
       "    </tr>\n",
       "    <tr>\n",
       "      <th>13114</th>\n",
       "      <td>2</td>\n",
       "      <td>11377</td>\n",
       "      <td>370000</td>\n",
       "      <td>2021-03-31</td>\n",
       "    </tr>\n",
       "    <tr>\n",
       "      <th>10094</th>\n",
       "      <td>1</td>\n",
       "      <td>11418</td>\n",
       "      <td>773800</td>\n",
       "      <td>2021-03-31</td>\n",
       "    </tr>\n",
       "    <tr>\n",
       "      <th>5566</th>\n",
       "      <td>2</td>\n",
       "      <td>11004</td>\n",
       "      <td>167600</td>\n",
       "      <td>2021-03-31</td>\n",
       "    </tr>\n",
       "    <tr>\n",
       "      <th>5156</th>\n",
       "      <td>2</td>\n",
       "      <td>11375</td>\n",
       "      <td>425000</td>\n",
       "      <td>2021-03-31</td>\n",
       "    </tr>\n",
       "    <tr>\n",
       "      <th>4230</th>\n",
       "      <td>2</td>\n",
       "      <td>11355</td>\n",
       "      <td>400000</td>\n",
       "      <td>2021-03-31</td>\n",
       "    </tr>\n",
       "  </tbody>\n",
       "</table>\n",
       "<p>13171 rows × 4 columns</p>\n",
       "</div>"
      ],
      "text/plain": [
       "      TAX CLASS AT PRESENT  ZIP CODE  SALE PRICE   SALE DATE\n",
       "11776                    1     11434      434500  2020-04-01\n",
       "5303                     2     11375     1150000  2020-04-01\n",
       "10406                    4     11418     2500000  2020-04-01\n",
       "11814                    1     11434      358000  2020-04-01\n",
       "12658                    1     11357      720000  2020-04-01\n",
       "...                    ...       ...         ...         ...\n",
       "13114                    2     11377      370000  2021-03-31\n",
       "10094                    1     11418      773800  2021-03-31\n",
       "5566                     2     11004      167600  2021-03-31\n",
       "5156                     2     11375      425000  2021-03-31\n",
       "4230                     2     11355      400000  2021-03-31\n",
       "\n",
       "[13171 rows x 4 columns]"
      ]
     },
     "execution_count": 58,
     "metadata": {},
     "output_type": "execute_result"
    }
   ],
   "source": [
    "df = pd.read_csv('rollingsales_queens.xls_prepped_bare.csv')\n",
    "df.reset_index(drop=True, inplace=True)\n",
    "df.sort_values('SALE DATE')"
   ]
  },
  {
   "cell_type": "markdown",
   "metadata": {},
   "source": [
    "## 3. Analyzing the data for trends/seasonality"
   ]
  },
  {
   "cell_type": "markdown",
   "metadata": {},
   "source": [
    "I do the following steps here to help the data work with the modules:\n",
    "\n",
    "    1. Convert 'SALE DATE' column to datetime format\n",
    "    2. Create new dataframe with 'SALE DATE' as the index and 'SALE PRICE' as the column\n",
    "    3. Since we have multiple sales per day, I will aggregate the data into daily data by taking the daily average of sales\n",
    "    4. Check the data for any nulls/NaNs\n",
    "    5. Use statsmodels to observe the data for trends and seasonality\n",
    "    \n",
    "##### Observations:\n",
    "    - NaN values came into the data after the data got aggregated. \n",
    "    - Upon further inspection, this was due to the 70 days of no sales in the origional data. \n",
    "    - Thus, after aggregation, there were 70 days with no data, which I dropped"
   ]
  },
  {
   "cell_type": "code",
   "execution_count": 59,
   "metadata": {},
   "outputs": [],
   "source": [
    "# Convert 'SALE DATE' column to datetime format\n",
    "df['SALE DATE'] = pd.to_datetime(df['SALE DATE'])"
   ]
  },
  {
   "cell_type": "code",
   "execution_count": 60,
   "metadata": {},
   "outputs": [
    {
     "data": {
      "text/html": [
       "<div>\n",
       "<style scoped>\n",
       "    .dataframe tbody tr th:only-of-type {\n",
       "        vertical-align: middle;\n",
       "    }\n",
       "\n",
       "    .dataframe tbody tr th {\n",
       "        vertical-align: top;\n",
       "    }\n",
       "\n",
       "    .dataframe thead th {\n",
       "        text-align: right;\n",
       "    }\n",
       "</style>\n",
       "<table border=\"1\" class=\"dataframe\">\n",
       "  <thead>\n",
       "    <tr style=\"text-align: right;\">\n",
       "      <th></th>\n",
       "      <th>SALE PRICE</th>\n",
       "    </tr>\n",
       "    <tr>\n",
       "      <th>SALE DATE</th>\n",
       "      <th></th>\n",
       "    </tr>\n",
       "  </thead>\n",
       "  <tbody>\n",
       "    <tr>\n",
       "      <th>2020-07-16</th>\n",
       "      <td>4121000</td>\n",
       "    </tr>\n",
       "    <tr>\n",
       "      <th>2020-08-28</th>\n",
       "      <td>584569</td>\n",
       "    </tr>\n",
       "    <tr>\n",
       "      <th>2021-01-11</th>\n",
       "      <td>800000</td>\n",
       "    </tr>\n",
       "    <tr>\n",
       "      <th>2020-12-16</th>\n",
       "      <td>300000</td>\n",
       "    </tr>\n",
       "    <tr>\n",
       "      <th>2020-06-23</th>\n",
       "      <td>360000</td>\n",
       "    </tr>\n",
       "  </tbody>\n",
       "</table>\n",
       "</div>"
      ],
      "text/plain": [
       "            SALE PRICE\n",
       "SALE DATE             \n",
       "2020-07-16     4121000\n",
       "2020-08-28      584569\n",
       "2021-01-11      800000\n",
       "2020-12-16      300000\n",
       "2020-06-23      360000"
      ]
     },
     "execution_count": 60,
     "metadata": {},
     "output_type": "execute_result"
    }
   ],
   "source": [
    "# Create new dataframe with 'SALE DATE' as the index and 'SALE PRICE' as the column\n",
    "df_price_date = pd.DataFrame(df, columns=['SALE DATE', 'SALE PRICE'])\n",
    "df_price_date = df_price_date.set_index('SALE DATE')\n",
    "df_price_date.head()"
   ]
  },
  {
   "cell_type": "code",
   "execution_count": 61,
   "metadata": {},
   "outputs": [],
   "source": [
    "#Group the sales data by daily average\n",
    "df_price_date = df_price_date.resample('D').mean()"
   ]
  },
  {
   "cell_type": "code",
   "execution_count": 62,
   "metadata": {},
   "outputs": [
    {
     "name": "stdout",
     "output_type": "stream",
     "text": [
      "<class 'pandas.core.frame.DataFrame'>\n",
      "DatetimeIndex: 365 entries, 2020-04-01 to 2021-03-31\n",
      "Freq: D\n",
      "Data columns (total 1 columns):\n",
      " #   Column      Non-Null Count  Dtype  \n",
      "---  ------      --------------  -----  \n",
      " 0   SALE PRICE  295 non-null    float64\n",
      "dtypes: float64(1)\n",
      "memory usage: 5.7 KB\n"
     ]
    }
   ],
   "source": [
    "# We see here number of rows went down from 13171 to 295. Why wasn't it 365 rows to represent all days of the year?\n",
    "df_price_date.info()"
   ]
  },
  {
   "cell_type": "code",
   "execution_count": 63,
   "metadata": {},
   "outputs": [
    {
     "data": {
      "text/plain": [
       "70"
      ]
     },
     "execution_count": 63,
     "metadata": {},
     "output_type": "execute_result"
    }
   ],
   "source": [
    "#Here we see that since we resampled by day, there are NaN values for the days that there were no sales due to no sale date, pandas autofilled it with NaN\n",
    "df_price_date['SALE PRICE'].isna().sum()"
   ]
  },
  {
   "cell_type": "code",
   "execution_count": 64,
   "metadata": {},
   "outputs": [
    {
     "data": {
      "text/html": [
       "<div>\n",
       "<style scoped>\n",
       "    .dataframe tbody tr th:only-of-type {\n",
       "        vertical-align: middle;\n",
       "    }\n",
       "\n",
       "    .dataframe tbody tr th {\n",
       "        vertical-align: top;\n",
       "    }\n",
       "\n",
       "    .dataframe thead th {\n",
       "        text-align: right;\n",
       "    }\n",
       "</style>\n",
       "<table border=\"1\" class=\"dataframe\">\n",
       "  <thead>\n",
       "    <tr style=\"text-align: right;\">\n",
       "      <th></th>\n",
       "      <th>SALE PRICE</th>\n",
       "    </tr>\n",
       "    <tr>\n",
       "      <th>SALE DATE</th>\n",
       "      <th></th>\n",
       "    </tr>\n",
       "  </thead>\n",
       "  <tbody>\n",
       "    <tr>\n",
       "      <th>2020-04-01</th>\n",
       "      <td>961150.000000</td>\n",
       "    </tr>\n",
       "    <tr>\n",
       "      <th>2020-04-02</th>\n",
       "      <td>753357.142857</td>\n",
       "    </tr>\n",
       "    <tr>\n",
       "      <th>2020-04-03</th>\n",
       "      <td>681724.206897</td>\n",
       "    </tr>\n",
       "    <tr>\n",
       "      <th>2020-04-04</th>\n",
       "      <td>0.000000</td>\n",
       "    </tr>\n",
       "    <tr>\n",
       "      <th>2020-04-05</th>\n",
       "      <td>0.000000</td>\n",
       "    </tr>\n",
       "    <tr>\n",
       "      <th>...</th>\n",
       "      <td>...</td>\n",
       "    </tr>\n",
       "    <tr>\n",
       "      <th>2021-03-27</th>\n",
       "      <td>0.000000</td>\n",
       "    </tr>\n",
       "    <tr>\n",
       "      <th>2021-03-28</th>\n",
       "      <td>0.000000</td>\n",
       "    </tr>\n",
       "    <tr>\n",
       "      <th>2021-03-29</th>\n",
       "      <td>694114.470588</td>\n",
       "    </tr>\n",
       "    <tr>\n",
       "      <th>2021-03-30</th>\n",
       "      <td>747610.935484</td>\n",
       "    </tr>\n",
       "    <tr>\n",
       "      <th>2021-03-31</th>\n",
       "      <td>602154.750000</td>\n",
       "    </tr>\n",
       "  </tbody>\n",
       "</table>\n",
       "<p>365 rows × 1 columns</p>\n",
       "</div>"
      ],
      "text/plain": [
       "               SALE PRICE\n",
       "SALE DATE                \n",
       "2020-04-01  961150.000000\n",
       "2020-04-02  753357.142857\n",
       "2020-04-03  681724.206897\n",
       "2020-04-04       0.000000\n",
       "2020-04-05       0.000000\n",
       "...                   ...\n",
       "2021-03-27       0.000000\n",
       "2021-03-28       0.000000\n",
       "2021-03-29  694114.470588\n",
       "2021-03-30  747610.935484\n",
       "2021-03-31  602154.750000\n",
       "\n",
       "[365 rows x 1 columns]"
      ]
     },
     "execution_count": 64,
     "metadata": {},
     "output_type": "execute_result"
    }
   ],
   "source": [
    "# df_price_date.dropna(inplace=True)\n",
    "df_price_date['SALE PRICE'].fillna(0, inplace=True)\n",
    "df_price_date"
   ]
  },
  {
   "cell_type": "code",
   "execution_count": 65,
   "metadata": {},
   "outputs": [
    {
     "data": {
      "text/html": [
       "<div>\n",
       "<style scoped>\n",
       "    .dataframe tbody tr th:only-of-type {\n",
       "        vertical-align: middle;\n",
       "    }\n",
       "\n",
       "    .dataframe tbody tr th {\n",
       "        vertical-align: top;\n",
       "    }\n",
       "\n",
       "    .dataframe thead th {\n",
       "        text-align: right;\n",
       "    }\n",
       "</style>\n",
       "<table border=\"1\" class=\"dataframe\">\n",
       "  <thead>\n",
       "    <tr style=\"text-align: right;\">\n",
       "      <th></th>\n",
       "      <th>SALE PRICE</th>\n",
       "      <th>roll_avg</th>\n",
       "    </tr>\n",
       "    <tr>\n",
       "      <th>SALE DATE</th>\n",
       "      <th></th>\n",
       "      <th></th>\n",
       "    </tr>\n",
       "  </thead>\n",
       "  <tbody>\n",
       "    <tr>\n",
       "      <th>2020-04-01</th>\n",
       "      <td>961150.000000</td>\n",
       "      <td>NaN</td>\n",
       "    </tr>\n",
       "    <tr>\n",
       "      <th>2020-04-02</th>\n",
       "      <td>753357.142857</td>\n",
       "      <td>NaN</td>\n",
       "    </tr>\n",
       "    <tr>\n",
       "      <th>2020-04-03</th>\n",
       "      <td>681724.206897</td>\n",
       "      <td>NaN</td>\n",
       "    </tr>\n",
       "    <tr>\n",
       "      <th>2020-04-04</th>\n",
       "      <td>0.000000</td>\n",
       "      <td>NaN</td>\n",
       "    </tr>\n",
       "    <tr>\n",
       "      <th>2020-04-05</th>\n",
       "      <td>0.000000</td>\n",
       "      <td>NaN</td>\n",
       "    </tr>\n",
       "    <tr>\n",
       "      <th>...</th>\n",
       "      <td>...</td>\n",
       "      <td>...</td>\n",
       "    </tr>\n",
       "    <tr>\n",
       "      <th>2021-03-27</th>\n",
       "      <td>0.000000</td>\n",
       "      <td>460444.131063</td>\n",
       "    </tr>\n",
       "    <tr>\n",
       "      <th>2021-03-28</th>\n",
       "      <td>0.000000</td>\n",
       "      <td>456158.416777</td>\n",
       "    </tr>\n",
       "    <tr>\n",
       "      <th>2021-03-29</th>\n",
       "      <td>694114.470588</td>\n",
       "      <td>463897.318187</td>\n",
       "    </tr>\n",
       "    <tr>\n",
       "      <th>2021-03-30</th>\n",
       "      <td>747610.935484</td>\n",
       "      <td>476893.916114</td>\n",
       "    </tr>\n",
       "    <tr>\n",
       "      <th>2021-03-31</th>\n",
       "      <td>602154.750000</td>\n",
       "      <td>472297.028269</td>\n",
       "    </tr>\n",
       "  </tbody>\n",
       "</table>\n",
       "<p>365 rows × 2 columns</p>\n",
       "</div>"
      ],
      "text/plain": [
       "               SALE PRICE       roll_avg\n",
       "SALE DATE                               \n",
       "2020-04-01  961150.000000            NaN\n",
       "2020-04-02  753357.142857            NaN\n",
       "2020-04-03  681724.206897            NaN\n",
       "2020-04-04       0.000000            NaN\n",
       "2020-04-05       0.000000            NaN\n",
       "...                   ...            ...\n",
       "2021-03-27       0.000000  460444.131063\n",
       "2021-03-28       0.000000  456158.416777\n",
       "2021-03-29  694114.470588  463897.318187\n",
       "2021-03-30  747610.935484  476893.916114\n",
       "2021-03-31  602154.750000  472297.028269\n",
       "\n",
       "[365 rows x 2 columns]"
      ]
     },
     "execution_count": 65,
     "metadata": {},
     "output_type": "execute_result"
    }
   ],
   "source": [
    "# df_price_date.rolling(window=2).mean().head()\n",
    "df_price_date['roll_avg'] = df_price_date.rolling(window=7).mean()\n",
    "df_price_date"
   ]
  },
  {
   "cell_type": "markdown",
   "metadata": {},
   "source": [
    "I plotted the data here against its 7 day rolling average to see if I can discern any pattern"
   ]
  },
  {
   "cell_type": "code",
   "execution_count": 66,
   "metadata": {},
   "outputs": [
    {
     "data": {
      "text/plain": [
       "Text(0, 0.5, 'Average Price')"
      ]
     },
     "execution_count": 66,
     "metadata": {},
     "output_type": "execute_result"
    },
    {
     "data": {
      "image/png": "[encoded data removed]",
      "text/plain": [
       "<Figure size 1440x288 with 1 Axes>"
      ]
     },
     "metadata": {
      "needs_background": "light"
     },
     "output_type": "display_data"
    },
    {
     "data": {
      "image/png": "[encoded data removed]",
      "text/plain": [
       "<Figure size 1440x288 with 1 Axes>"
      ]
     },
     "metadata": {
      "needs_background": "light"
     },
     "output_type": "display_data"
    }
   ],
   "source": [
    "plt.figure(figsize=(20, 4))\n",
    "plt.title(\"SCATTERPLOT OF DATA VS. ROLLING AVERAGE\")\n",
    "plt.xlabel(\"Year-Month\")\n",
    "plt.ylabel(\"Average Price\")\n",
    "#s=20 to keep dots small in size\n",
    "plt.scatter(df_price_date.index[:365], df_price_date['SALE PRICE'][:365], s=20)\n",
    "plt.scatter(df_price_date.index[7:], df_price_date['roll_avg'][7:], s=20);\n",
    "plt.figure(figsize=(20, 4))\n",
    "plt.title(\"LINE GRAPH OF DATA VS. ROLLING AVERAGE\")\n",
    "plt.plot(df_price_date.index[:365], df_price_date['SALE PRICE'][:365])\n",
    "plt.plot(df_price_date.index[7:], df_price_date['roll_avg'][7:]);\n",
    "plt.xlabel(\"Year-Month\")\n",
    "plt.ylabel(\"Average Price\")"
   ]
  },
  {
   "cell_type": "code",
   "execution_count": 67,
   "metadata": {},
   "outputs": [],
   "source": [
    "# Statsmodels\n",
    "decomposition = seasonal_decompose(df_price_date['SALE PRICE'], model='additive', period=7)\n",
    "observed = decomposition.observed\n",
    "trend = decomposition.trend\n",
    "seasonal = decomposition.seasonal\n",
    "residual = decomposition.resid"
   ]
  },
  {
   "cell_type": "code",
   "execution_count": 68,
   "metadata": {},
   "outputs": [],
   "source": [
    "register_matplotlib_converters()"
   ]
  },
  {
   "cell_type": "code",
   "execution_count": 69,
   "metadata": {},
   "outputs": [
    {
     "data": {
      "image/png": "[encoded data removed]",
      "text/plain": [
       "<Figure size 1440x720 with 4 Axes>"
      ]
     },
     "metadata": {
      "needs_background": "light"
     },
     "output_type": "display_data"
    }
   ],
   "source": [
    "plt.figure(figsize=(20,10))\n",
    "plt.subplot(411)\n",
    "plt.plot(observed, label='Original', color=\"blue\")\n",
    "plt.legend(loc='upper left')\n",
    "plt.subplot(412)\n",
    "plt.plot(trend, label='Trend', color=\"blue\")\n",
    "plt.legend(loc='upper left')\n",
    "plt.subplot(413)\n",
    "plt.plot(seasonal,label='Seasonality', color=\"blue\")\n",
    "plt.legend(loc='upper left')\n",
    "plt.subplot(414)\n",
    "plt.plot(residual, label='Residuals', color=\"blue\")\n",
    "plt.legend(loc='upper left')\n",
    "plt.tight_layout()"
   ]
  },
  {
   "cell_type": "markdown",
   "metadata": {},
   "source": [
    "##### Observations: \n",
    " - A large amount of sales happened between August 2020 and November 2020. \n",
    " - There was some seasonality that happened once a month and in the middle of the month"
   ]
  },
  {
   "cell_type": "markdown",
   "metadata": {},
   "source": [
    "## 4. Dickey-Fuller Tests and preparing data for ARMA modeling by inducing stationarity\n",
    "\n",
    "I had to do the following to induce stationarity:"
   ]
  },
  {
   "cell_type": "code",
   "execution_count": 70,
   "metadata": {},
   "outputs": [
    {
     "name": "stdout",
     "output_type": "stream",
     "text": [
      "(-8.565541911900292, 8.466399684197556e-14, 4, 360, {'1%': -3.448645946352023, '5%': -2.869602139060357, '10%': -2.5710650077160495}, 10680.436655510479)\n",
      "\n",
      "Test Statistic                -8.565542e+00\n",
      "p-value                        8.466400e-14\n",
      "#Lags Used                     4.000000e+00\n",
      "Number of Observations Used    3.600000e+02\n",
      "Critical Value (1%)           -3.448646e+00\n",
      "Critical Value (5%)           -2.869602e+00\n",
      "Critical Value (10%)          -2.571065e+00\n",
      "dtype: float64\n"
     ]
    }
   ],
   "source": [
    "# Initial test\n",
    "dftest = adfuller(df_price_date['SALE PRICE'])\n",
    "dfoutput = pd.Series(dftest[0:4], index=['Test Statistic','p-value','#Lags Used','Number of Observations Used'])\n",
    "for key,value in dftest[4].items():\n",
    "    dfoutput['Critical Value (%s)'%key] = value\n",
    "print(dftest)\n",
    "print()\n",
    "print(dfoutput)"
   ]
  },
  {
   "cell_type": "markdown",
   "metadata": {},
   "source": [
    "### Augmented Dickey Fuller Test Goals: \n",
    "\n",
    "Our goal is to induce stationarity and show that the data does not have a unit root. \n",
    "\n",
    "ADF Test Null Hypothesis: The data has a unit root and is non-stationary.\n",
    "\n",
    "Requirements for stationarity:\n",
    "\n",
    "    1. If p-value <= 0.05: Reject the null hypothesis (H0), the data does not have a unit root and is stationary.\n",
    "        - If p-value > 0.05: Fail to reject the null hypothesis (H0), the data has a unit root and is non-stationary.\n",
    "    2. If the Test Statistic is lower than the critical values, then reject the null hypothesis. Data does not have a unity root and is stationary\n",
    "\n",
    "\n",
    "### Results of ADF Test\n",
    "\n",
    "<b><u>Test Statistic vs. Critical Values</b></u>\n",
    "- Initial test shows Test Statistic of **-2.6448**, this is greater than the critical values for 1% and 5%.\n",
    "    - <i>We fail to reject the null hypothesis that the time series is not stationary!</i>\n",
    "\n",
    "<b><u>P-Value Analysis</b></u>\n",
    "\n",
    "\n",
    "- Our current p-value is **0.084092**\n",
    "    - <i>This means: p-value > 0.05: Fail to reject the null hypothesis (H0), the data has a unit root and is non-stationary.</i>"
   ]
  },
  {
   "cell_type": "code",
   "execution_count": 71,
   "metadata": {},
   "outputs": [],
   "source": [
    "#Logging the data and then rerunning ADF test\n",
    "\n",
    "# df_price_date['SALE_PRICE_LOGGED'] = df_price_date['SALE PRICE'].apply(lambda x : np.log(x))"
   ]
  },
  {
   "cell_type": "code",
   "execution_count": 72,
   "metadata": {},
   "outputs": [],
   "source": [
    "# df_price_date['SALE_PRICE_LOGGED']"
   ]
  },
  {
   "cell_type": "code",
   "execution_count": 73,
   "metadata": {},
   "outputs": [],
   "source": [
    "# plt.figure(figsize=(20, 4))\n",
    "# # plt.title(\"SCATTERPLOT OF DATA VS. ROLLING AVERAGE\")\n",
    "# plt.xlabel(\"Year-Month\")\n",
    "# plt.ylabel(\"Average Price\")\n",
    "# #s=20 to keep dots small in size\n",
    "# df_price_date['SALE_PRICE_LOGGED'].plot(color=\"tab:green\", title=\"LOG TRANSFORMED VALUES\");\n",
    "\n",
    "# plt.figure(figsize=(20, 4))\n",
    "# plt.title(\"LINE GRAPH OF DATA VS. ROLLING AVERAGE\")\n",
    "# df_price_date['SALE PRICE'].plot(color=\"tab:blue\", title=\"ORIGINAL VALUES\");\n",
    "# plt.xlabel(\"Year-Month\")\n",
    "# plt.ylabel(\"Average Price\")"
   ]
  },
  {
   "cell_type": "code",
   "execution_count": 74,
   "metadata": {},
   "outputs": [],
   "source": [
    "# # Initial test\n",
    "# dftest = adfuller(df_price_date['SALE_PRICE_LOGGED'])\n",
    "# dfoutput = pd.Series(dftest[0:4], index=['Test Statistic','p-value','#Lags Used','Number of Observations Used'])\n",
    "# for key,value in dftest[4].items():\n",
    "#     dfoutput['Critical Value (%s)'%key] = value\n",
    "# print(dftest)\n",
    "# print()\n",
    "# print(dfoutput)"
   ]
  },
  {
   "cell_type": "markdown",
   "metadata": {},
   "source": [
    "### Results of ADF Test\n",
    "\n",
    "<b><u>Test Statistic vs. Critical Values</b></u>\n",
    "- Initial test shows Test Statistic of **-5.053760**, this is greater than the critical values for 1% and 5%.\n",
    "    - <i>We **REJECT** the null hypothesis! The data does not have a unit root and is stationary</i>\n",
    "\n",
    "<b><u>P-Value Analysis</b></u>\n",
    "\n",
    "\n",
    "- Our current p-value is **0.000017**\n",
    "    - <i>This means: p-value <= 0.05: </i>\n",
    "    - <i>We **REJECT** the null hypothesis! The data does not have a unit root and is stationary</i>"
   ]
  },
  {
   "cell_type": "markdown",
   "metadata": {},
   "source": [
    "## 5. ARMA MODELING"
   ]
  },
  {
   "cell_type": "code",
   "execution_count": 75,
   "metadata": {},
   "outputs": [
    {
     "data": {
      "image/png": "[encoded data removed]",
      "text/plain": [
       "<Figure size 1080x216 with 1 Axes>"
      ]
     },
     "metadata": {
      "needs_background": "light"
     },
     "output_type": "display_data"
    },
    {
     "data": {
      "image/png": "[encoded data removed]",
      "text/plain": [
       "<Figure size 1080x216 with 1 Axes>"
      ]
     },
     "metadata": {
      "needs_background": "light"
     },
     "output_type": "display_data"
    }
   ],
   "source": [
    "# ACF AND PACF\n",
    "\n",
    "rcParams['figure.figsize'] = 15, 3\n",
    "plot_acf(df_price_date['SALE PRICE'], lags=30, alpha=0.05);\n",
    "\n",
    "rcParams['figure.figsize'] = 15, 3\n",
    "plot_pacf(df_price_date['SALE PRICE'], lags=30, alpha=0.05);"
   ]
  },
  {
   "cell_type": "code",
   "execution_count": 77,
   "metadata": {},
   "outputs": [
    {
     "data": {
      "text/plain": [
       "SALE DATE\n",
       "2020-04-01    961150.000000\n",
       "2020-04-02    753357.142857\n",
       "2020-04-03    681724.206897\n",
       "2020-04-04         0.000000\n",
       "2020-04-05         0.000000\n",
       "                  ...      \n",
       "2021-03-27         0.000000\n",
       "2021-03-28         0.000000\n",
       "2021-03-29    694114.470588\n",
       "2021-03-30    747610.935484\n",
       "2021-03-31    602154.750000\n",
       "Freq: D, Name: SALE PRICE, Length: 365, dtype: float64"
      ]
     },
     "execution_count": 77,
     "metadata": {},
     "output_type": "execute_result"
    }
   ],
   "source": [
    "df_price_date['SALE PRICE']"
   ]
  },
  {
   "cell_type": "code",
   "execution_count": 78,
   "metadata": {},
   "outputs": [
    {
     "name": "stderr",
     "output_type": "stream",
     "text": [
      "C:\\Users\\booos\\anaconda3\\envs\\learn-env\\lib\\site-packages\\statsmodels\\tsa\\arima_model.py:472: FutureWarning: \n",
      "statsmodels.tsa.arima_model.ARMA and statsmodels.tsa.arima_model.ARIMA have\n",
      "been deprecated in favor of statsmodels.tsa.arima.model.ARIMA (note the .\n",
      "between arima and model) and\n",
      "statsmodels.tsa.SARIMAX. These will be removed after the 0.12 release.\n",
      "\n",
      "statsmodels.tsa.arima.model.ARIMA makes use of the statespace framework and\n",
      "is both well tested and maintained.\n",
      "\n",
      "To silence this warning and continue using ARMA and ARIMA until they are\n",
      "removed, use:\n",
      "\n",
      "import warnings\n",
      "warnings.filterwarnings('ignore', 'statsmodels.tsa.arima_model.ARMA',\n",
      "                        FutureWarning)\n",
      "warnings.filterwarnings('ignore', 'statsmodels.tsa.arima_model.ARIMA',\n",
      "                        FutureWarning)\n",
      "\n",
      "  warnings.warn(ARIMA_DEPRECATION_WARN, FutureWarning)\n",
      "C:\\Users\\booos\\anaconda3\\envs\\learn-env\\lib\\site-packages\\statsmodels\\base\\model.py:547: HessianInversionWarning: Inverting hessian failed, no bse or cov_params available\n",
      "  warnings.warn('Inverting hessian failed, no bse or cov_params '\n",
      "C:\\Users\\booos\\anaconda3\\envs\\learn-env\\lib\\site-packages\\statsmodels\\tsa\\arima_model.py:1521: RuntimeWarning: invalid value encountered in sqrt\n",
      "  return np.sqrt(np.diag(-inv(hess)))\n"
     ]
    },
    {
     "data": {
      "text/html": [
       "<table class=\"simpletable\">\n",
       "<caption>ARMA Model Results</caption>\n",
       "<tr>\n",
       "  <th>Dep. Variable:</th>    <td>SALE PRICE</td>    <th>  No. Observations:  </th>     <td>365</td>    \n",
       "</tr>\n",
       "<tr>\n",
       "  <th>Model:</th>            <td>ARMA(5, 5)</td>    <th>  Log Likelihood     </th>  <td>-5588.405</td> \n",
       "</tr>\n",
       "<tr>\n",
       "  <th>Method:</th>             <td>css-mle</td>     <th>  S.D. of innovations</th> <td>1062824.560</td>\n",
       "</tr>\n",
       "<tr>\n",
       "  <th>Date:</th>          <td>Sun, 20 Jun 2021</td> <th>  AIC                </th>  <td>11200.810</td> \n",
       "</tr>\n",
       "<tr>\n",
       "  <th>Time:</th>              <td>12:16:25</td>     <th>  BIC                </th>  <td>11247.609</td> \n",
       "</tr>\n",
       "<tr>\n",
       "  <th>Sample:</th>           <td>04-01-2020</td>    <th>  HQIC               </th>  <td>11219.408</td> \n",
       "</tr>\n",
       "<tr>\n",
       "  <th></th>                 <td>- 03-31-2021</td>   <th>                     </th>      <td> </td>     \n",
       "</tr>\n",
       "</table>\n",
       "<table class=\"simpletable\">\n",
       "<tr>\n",
       "          <td></td>            <th>coef</th>     <th>std err</th>      <th>z</th>      <th>P>|z|</th>  <th>[0.025</th>    <th>0.975]</th>  \n",
       "</tr>\n",
       "<tr>\n",
       "  <th>const</th>            <td>  7.33e+05</td> <td> 5.79e+04</td> <td>   12.654</td> <td> 0.000</td> <td>  6.2e+05</td> <td> 8.47e+05</td>\n",
       "</tr>\n",
       "<tr>\n",
       "  <th>ar.L1.SALE PRICE</th> <td>   -0.9124</td> <td>      nan</td> <td>      nan</td> <td>   nan</td> <td>      nan</td> <td>      nan</td>\n",
       "</tr>\n",
       "<tr>\n",
       "  <th>ar.L2.SALE PRICE</th> <td>   -0.3866</td> <td>      nan</td> <td>      nan</td> <td>   nan</td> <td>      nan</td> <td>      nan</td>\n",
       "</tr>\n",
       "<tr>\n",
       "  <th>ar.L3.SALE PRICE</th> <td>   -0.4637</td> <td>      nan</td> <td>      nan</td> <td>   nan</td> <td>      nan</td> <td>      nan</td>\n",
       "</tr>\n",
       "<tr>\n",
       "  <th>ar.L4.SALE PRICE</th> <td>   -0.9571</td> <td>      nan</td> <td>      nan</td> <td>   nan</td> <td>      nan</td> <td>      nan</td>\n",
       "</tr>\n",
       "<tr>\n",
       "  <th>ar.L5.SALE PRICE</th> <td>   -0.9011</td> <td>      nan</td> <td>      nan</td> <td>   nan</td> <td>      nan</td> <td>      nan</td>\n",
       "</tr>\n",
       "<tr>\n",
       "  <th>ma.L1.SALE PRICE</th> <td>    0.9621</td> <td>    0.022</td> <td>   44.568</td> <td> 0.000</td> <td>    0.920</td> <td>    1.004</td>\n",
       "</tr>\n",
       "<tr>\n",
       "  <th>ma.L2.SALE PRICE</th> <td>    0.4438</td> <td>    0.029</td> <td>   15.290</td> <td> 0.000</td> <td>    0.387</td> <td>    0.501</td>\n",
       "</tr>\n",
       "<tr>\n",
       "  <th>ma.L3.SALE PRICE</th> <td>    0.4430</td> <td>    0.031</td> <td>   14.354</td> <td> 0.000</td> <td>    0.382</td> <td>    0.503</td>\n",
       "</tr>\n",
       "<tr>\n",
       "  <th>ma.L4.SALE PRICE</th> <td>    0.9637</td> <td>    0.038</td> <td>   25.625</td> <td> 0.000</td> <td>    0.890</td> <td>    1.037</td>\n",
       "</tr>\n",
       "<tr>\n",
       "  <th>ma.L5.SALE PRICE</th> <td>    0.9984</td> <td>    0.030</td> <td>   33.307</td> <td> 0.000</td> <td>    0.940</td> <td>    1.057</td>\n",
       "</tr>\n",
       "</table>\n",
       "<table class=\"simpletable\">\n",
       "<caption>Roots</caption>\n",
       "<tr>\n",
       "    <td></td>   <th>            Real</th>  <th>         Imaginary</th> <th>         Modulus</th>  <th>        Frequency</th>\n",
       "</tr>\n",
       "<tr>\n",
       "  <th>AR.1</th> <td>           0.6239</td> <td>          -0.7816j</td> <td>           1.0001</td> <td>          -0.1428</td>\n",
       "</tr>\n",
       "<tr>\n",
       "  <th>AR.2</th> <td>           0.6239</td> <td>          +0.7816j</td> <td>           1.0001</td> <td>           0.1428</td>\n",
       "</tr>\n",
       "<tr>\n",
       "  <th>AR.3</th> <td>          -0.6407</td> <td>          -0.8175j</td> <td>           1.0387</td> <td>          -0.3558</td>\n",
       "</tr>\n",
       "<tr>\n",
       "  <th>AR.4</th> <td>          -0.6407</td> <td>          +0.8175j</td> <td>           1.0387</td> <td>           0.3558</td>\n",
       "</tr>\n",
       "<tr>\n",
       "  <th>AR.5</th> <td>          -1.0285</td> <td>          -0.0000j</td> <td>           1.0285</td> <td>          -0.5000</td>\n",
       "</tr>\n",
       "<tr>\n",
       "  <th>MA.1</th> <td>           0.6256</td> <td>          -0.7802j</td> <td>           1.0000</td> <td>          -0.1424</td>\n",
       "</tr>\n",
       "<tr>\n",
       "  <th>MA.2</th> <td>           0.6256</td> <td>          +0.7802j</td> <td>           1.0000</td> <td>           0.1424</td>\n",
       "</tr>\n",
       "<tr>\n",
       "  <th>MA.3</th> <td>          -0.6074</td> <td>          -0.7944j</td> <td>           1.0000</td> <td>          -0.3539</td>\n",
       "</tr>\n",
       "<tr>\n",
       "  <th>MA.4</th> <td>          -0.6074</td> <td>          +0.7944j</td> <td>           1.0000</td> <td>           0.3539</td>\n",
       "</tr>\n",
       "<tr>\n",
       "  <th>MA.5</th> <td>          -1.0016</td> <td>          -0.0000j</td> <td>           1.0016</td> <td>          -0.5000</td>\n",
       "</tr>\n",
       "</table>"
      ],
      "text/plain": [
       "<class 'statsmodels.iolib.summary.Summary'>\n",
       "\"\"\"\n",
       "                              ARMA Model Results                              \n",
       "==============================================================================\n",
       "Dep. Variable:             SALE PRICE   No. Observations:                  365\n",
       "Model:                     ARMA(5, 5)   Log Likelihood               -5588.405\n",
       "Method:                       css-mle   S.D. of innovations        1062824.560\n",
       "Date:                Sun, 20 Jun 2021   AIC                          11200.810\n",
       "Time:                        12:16:25   BIC                          11247.609\n",
       "Sample:                    04-01-2020   HQIC                         11219.408\n",
       "                         - 03-31-2021                                         \n",
       "====================================================================================\n",
       "                       coef    std err          z      P>|z|      [0.025      0.975]\n",
       "------------------------------------------------------------------------------------\n",
       "const              7.33e+05   5.79e+04     12.654      0.000     6.2e+05    8.47e+05\n",
       "ar.L1.SALE PRICE    -0.9124        nan        nan        nan         nan         nan\n",
       "ar.L2.SALE PRICE    -0.3866        nan        nan        nan         nan         nan\n",
       "ar.L3.SALE PRICE    -0.4637        nan        nan        nan         nan         nan\n",
       "ar.L4.SALE PRICE    -0.9571        nan        nan        nan         nan         nan\n",
       "ar.L5.SALE PRICE    -0.9011        nan        nan        nan         nan         nan\n",
       "ma.L1.SALE PRICE     0.9621      0.022     44.568      0.000       0.920       1.004\n",
       "ma.L2.SALE PRICE     0.4438      0.029     15.290      0.000       0.387       0.501\n",
       "ma.L3.SALE PRICE     0.4430      0.031     14.354      0.000       0.382       0.503\n",
       "ma.L4.SALE PRICE     0.9637      0.038     25.625      0.000       0.890       1.037\n",
       "ma.L5.SALE PRICE     0.9984      0.030     33.307      0.000       0.940       1.057\n",
       "                                    Roots                                    \n",
       "=============================================================================\n",
       "                  Real          Imaginary           Modulus         Frequency\n",
       "-----------------------------------------------------------------------------\n",
       "AR.1            0.6239           -0.7816j            1.0001           -0.1428\n",
       "AR.2            0.6239           +0.7816j            1.0001            0.1428\n",
       "AR.3           -0.6407           -0.8175j            1.0387           -0.3558\n",
       "AR.4           -0.6407           +0.8175j            1.0387            0.3558\n",
       "AR.5           -1.0285           -0.0000j            1.0285           -0.5000\n",
       "MA.1            0.6256           -0.7802j            1.0000           -0.1424\n",
       "MA.2            0.6256           +0.7802j            1.0000            0.1424\n",
       "MA.3           -0.6074           -0.7944j            1.0000           -0.3539\n",
       "MA.4           -0.6074           +0.7944j            1.0000            0.3539\n",
       "MA.5           -1.0016           -0.0000j            1.0016           -0.5000\n",
       "-----------------------------------------------------------------------------\n",
       "\"\"\""
      ]
     },
     "execution_count": 78,
     "metadata": {},
     "output_type": "execute_result"
    }
   ],
   "source": [
    "# Instantiate & fit model with statsmodels\n",
    "#p = num lags - ACF\n",
    "p = 5\n",
    "\n",
    "# q = lagged forecast errors - PACF\n",
    "q = 5\n",
    "\n",
    "#d = number of differences\n",
    "\n",
    "\n",
    "\n",
    "# Fitting ARMA model and summary\n",
    "ar = ARMA(df_price_date['SALE PRICE'],(p,q)).fit()\n",
    "ar.summary()"
   ]
  },
  {
   "cell_type": "code",
   "execution_count": null,
   "metadata": {},
   "outputs": [],
   "source": [
    "# start_index = len(df_price_date['SALE_PRICE_LOGGED'])\n",
    "# end_index = start_index + 30\n",
    "# forecast = ar.predict(start=start_index, end=end_index)\n",
    "# start_index\n",
    "# end_index"
   ]
  },
  {
   "cell_type": "code",
   "execution_count": null,
   "metadata": {},
   "outputs": [],
   "source": [
    "# dta.index = pd.date_range(start='1700', end='2009', freq='A')\n",
    "\n",
    "# df_price_date.index= pd.to_datetime(df_price_date.index, format=\"%Y/%m/%d\")"
   ]
  },
  {
   "cell_type": "code",
   "execution_count": null,
   "metadata": {},
   "outputs": [],
   "source": [
    "df_price_date.reset_index(inplace=True)"
   ]
  },
  {
   "cell_type": "code",
   "execution_count": null,
   "metadata": {},
   "outputs": [],
   "source": [
    "df_price_date.index"
   ]
  },
  {
   "cell_type": "code",
   "execution_count": null,
   "metadata": {},
   "outputs": [],
   "source": [
    "df_price_date"
   ]
  },
  {
   "cell_type": "code",
   "execution_count": null,
   "metadata": {
    "scrolled": false
   },
   "outputs": [],
   "source": [
    "#plot of ARMA model\n",
    "fig, ax = plt.subplots()\n",
    "# ax = df_price_date['SALE_PRICE_LOGGED'].plot(ax=ax, title='FORECAST')\n",
    "ax = df_price_date['SALE PRICE'].plot(ax=ax, title='FORECAST')\n",
    "fig = ar.plot_predict(365, 395, dynamic=True, ax=ax, plot_insample=True)\n",
    "plt.show()"
   ]
  },
  {
   "cell_type": "code",
   "execution_count": null,
   "metadata": {},
   "outputs": [],
   "source": [
    "excel_df = pd.read_csv('NYC_Citywide_Rolling_Calendar_Sales.csv', usecols=['BOROUGH', 'SALE DATE', 'SALE PRICE'])\n",
    "excel_df = excel_df[excel_df['BOROUGH']=='QUEENS']\n",
    "# excel_df['SALE PRICE'].astype(int)"
   ]
  },
  {
   "cell_type": "code",
   "execution_count": null,
   "metadata": {},
   "outputs": [],
   "source": [
    "# excel_df['SALE PRICE'].astype(int)\n",
    "\n",
    "# excel_df['SALE_PRICE_LOGGED'] = excel_df['SALE PRICE'].apply(lambda x : np.log(x))\n",
    "excel_df.reset_index(drop=True, inplace=True)\n",
    "# excel_df"
   ]
  },
  {
   "cell_type": "code",
   "execution_count": null,
   "metadata": {},
   "outputs": [],
   "source": [
    "excel_df['SALE PRICE'] = excel_df['SALE PRICE'].str.replace(',','')"
   ]
  },
  {
   "cell_type": "code",
   "execution_count": null,
   "metadata": {},
   "outputs": [],
   "source": [
    "excel_df['SALE PRICE'] = excel_df['SALE PRICE'].astype(int)"
   ]
  },
  {
   "cell_type": "code",
   "execution_count": null,
   "metadata": {},
   "outputs": [],
   "source": [
    "excel_df['SALE DATE'] = pd.to_datetime(excel_df['SALE DATE'])"
   ]
  },
  {
   "cell_type": "code",
   "execution_count": null,
   "metadata": {},
   "outputs": [],
   "source": [
    "excel_price_date = pd.DataFrame(excel_df, columns=['SALE DATE', 'SALE PRICE'])\n",
    "excel_price_date = excel_price_date.set_index('SALE DATE')\n",
    "# excel_price_date.dropna(inplace=True)"
   ]
  },
  {
   "cell_type": "code",
   "execution_count": null,
   "metadata": {},
   "outputs": [],
   "source": [
    "excel_price_date = excel_price_date.resample('D').mean()"
   ]
  },
  {
   "cell_type": "code",
   "execution_count": null,
   "metadata": {},
   "outputs": [],
   "source": [
    "excel_price_date = excel_price_date.fillna(0)\n",
    "# excel_price_date"
   ]
  },
  {
   "cell_type": "code",
   "execution_count": null,
   "metadata": {},
   "outputs": [],
   "source": [
    "excel_price_date.head()"
   ]
  },
  {
   "cell_type": "code",
   "execution_count": null,
   "metadata": {},
   "outputs": [],
   "source": [
    "# excel_price_date.isnull().sum()\n",
    "#  df = df[(df.T != 0).any()]\n",
    "# excel_price_date = excel_price_date[(excel_price_date['SALE PRICE'] !=0)]"
   ]
  },
  {
   "cell_type": "code",
   "execution_count": null,
   "metadata": {},
   "outputs": [],
   "source": [
    "excel_price_date"
   ]
  },
  {
   "cell_type": "code",
   "execution_count": null,
   "metadata": {},
   "outputs": [],
   "source": [
    "# excel_price_date['SALE_PRICE_LOGGED'] = excel_price_date['SALE PRICE'].apply(lambda x : np.log(x))"
   ]
  },
  {
   "cell_type": "code",
   "execution_count": null,
   "metadata": {},
   "outputs": [],
   "source": [
    "excel_price_date"
   ]
  },
  {
   "cell_type": "code",
   "execution_count": null,
   "metadata": {
    "scrolled": false
   },
   "outputs": [],
   "source": [
    "# #plot of ARMA model\n",
    "# plt.figure(figsize=(20,10))\n",
    "# # figsize(20,10)\n",
    "\n",
    "# x1= df_price_date.index\n",
    "# y1=df_price_date['SALE PRICE']\n",
    "# plt.plot(x1,y1)\n",
    "# # x2= np.array(range(365,396))\n",
    "# # y2= np.array(ar.predict(366,395))\n",
    "# fig = ar.plot_predict(365, 395, dynamic=True, ax=ax, plot_insample=True)\n",
    "# plt.plot(x2,y2)\n",
    "# x3= range(365,395)\n",
    "# y3=excel_price_date['SALE PRICE'][335:366]\n",
    "# plt.plot(x3,y3)"
   ]
  },
  {
   "cell_type": "code",
   "execution_count": null,
   "metadata": {},
   "outputs": [],
   "source": [
    "fig, ax = plt.subplots()\n",
    "# ax = df_price_date['SALE_PRICE_LOGGED'].plot(ax=ax, title='FORECAST')\n",
    "ax = excel_price_date['SALE PRICE'].plot(title='RECENT DATA vs. FORECAST', color='green')\n",
    "# ax1 = excel_price_date['SALE PRICE'].plot(ax=ax1)\n",
    "fig = ar.plot_predict(365, 395, dynamic=True, ax = ax, plot_insample=True)\n",
    "handles, labels = ax.get_legend_handles_labels()\n",
    "labels = ['RECENT APRIL 2021 DATA SALE PRICE', 'FORECAST','95% confidence interval']\n",
    "ax.legend(handles, labels)\n",
    "plt.show()"
   ]
  },
  {
   "cell_type": "code",
   "execution_count": null,
   "metadata": {},
   "outputs": [],
   "source": [
    "#r^2 score\n",
    "r2_score(df_price_date['SALE PRICE'], ar.predict())\n",
    "# Low r^2 indicates a good fit"
   ]
  },
  {
   "cell_type": "code",
   "execution_count": null,
   "metadata": {},
   "outputs": [],
   "source": [
    "#Predicting ERROR\n",
    "predictions = list(ar.predict(365, 394))\n",
    "test = list(excel_price_date['SALE PRICE'][335:365])"
   ]
  },
  {
   "cell_type": "code",
   "execution_count": null,
   "metadata": {},
   "outputs": [],
   "source": [
    "print(len(predictions))\n",
    "print(len(test))\n",
    "print(test)"
   ]
  },
  {
   "cell_type": "code",
   "execution_count": null,
   "metadata": {},
   "outputs": [],
   "source": [
    "mse = sklearn.metrics.mean_squared_error(test, predictions)\n",
    "rmse = math.sqrt(mse)\n",
    "rmse\n",
    "\n",
    "#RMSE very high due to huge sale"
   ]
  },
  {
   "cell_type": "code",
   "execution_count": null,
   "metadata": {
    "scrolled": true
   },
   "outputs": [],
   "source": [
    "plt.plot(predictions, color='blue')\n",
    "plt.plot(test, color='green')\n",
    "x=[0,30]\n",
    "y=[rmse,rmse]\n",
    "plt.plot(x,y, color='red')"
   ]
  },
  {
   "cell_type": "code",
   "execution_count": null,
   "metadata": {},
   "outputs": [],
   "source": [
    "#Predicting ERROR when we remove the last 4 days to get rid of the huge sale, we see there is a RMSE within the range of the data\n",
    "predictions = list(ar.predict(365, 393))\n",
    "test = list(excel_price_date['SALE PRICE'][335:364])\n",
    "print(len(predictions))\n",
    "print(len(test))\n",
    "mse = sklearn.metrics.mean_squared_error(test, predictions)\n",
    "rmse = math.sqrt(mse)\n",
    "rmse\n",
    "plt.plot(predictions, color='blue')\n",
    "plt.plot(test, color='green')\n",
    "\n",
    "x=[0,29]\n",
    "y=[rmse,rmse]\n",
    "plt.plot(x,y, color='red')"
   ]
  },
  {
   "cell_type": "code",
   "execution_count": null,
   "metadata": {},
   "outputs": [],
   "source": [
    "print(rmse)\n",
    "print(mse)\n",
    "#this rmse looks acceptable. It is not too low nor high with outlier removed\n"
   ]
  },
  {
   "cell_type": "code",
   "execution_count": null,
   "metadata": {},
   "outputs": [],
   "source": []
  }
 ],
 "metadata": {
  "kernelspec": {
   "display_name": "Python 3",
   "language": "python",
   "name": "python3"
  },
  "language_info": {
   "codemirror_mode": {
    "name": "ipython",
    "version": 3
   },
   "file_extension": ".py",
   "mimetype": "text/x-python",
   "name": "python",
   "nbconvert_exporter": "python",
   "pygments_lexer": "ipython3",
   "version": "3.8.5"
  }
 },
 "nbformat": 4,
 "nbformat_minor": 4
}
