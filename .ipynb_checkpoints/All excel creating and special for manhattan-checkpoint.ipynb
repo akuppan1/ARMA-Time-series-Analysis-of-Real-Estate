{
 "cells": [
  {
   "cell_type": "code",
   "execution_count": 1,
   "metadata": {},
   "outputs": [],
   "source": [
    "import pandas as pd\n",
    "import warnings\n",
    "import pandas as pd\n",
    "from pandas.core.common import SettingWithCopyWarning\n",
    "warnings.simplefilter(action=\"ignore\", category=SettingWithCopyWarning)"
   ]
  },
  {
   "cell_type": "code",
   "execution_count": 2,
   "metadata": {},
   "outputs": [],
   "source": [
    "list_excels = ['rollingsales_queens.xls', 'rollingsales_bronx.xls', 'rollingsales_brooklyn.xls', 'rollingsales_manhattan.xls', 'rollingsales_statenisland.xls']"
   ]
  },
  {
   "cell_type": "code",
   "execution_count": 3,
   "metadata": {},
   "outputs": [
    {
     "name": "stdout",
     "output_type": "stream",
     "text": [
      "-------------- rollingsales_queens.xls -----------------------\n",
      "before:  20945\n",
      "after:  14325\n",
      "-------------- rollingsales_bronx.xls -----------------------\n",
      "before:  6139\n",
      "after:  4181\n",
      "-------------- rollingsales_brooklyn.xls -----------------------\n",
      "before:  19244\n",
      "after:  11778\n",
      "-------------- rollingsales_manhattan.xls -----------------------\n",
      "before:  12190\n",
      "after:  1009\n",
      "-------------- rollingsales_statenisland.xls -----------------------\n",
      "before:  6483\n",
      "after:  5470\n"
     ]
    }
   ],
   "source": [
    "for excel in list_excels:\n",
    "    excel_df = pd.read_excel(excel, skiprows=4, header=[0])\n",
    "    excel_df_cleaned = excel_df[['TAX CLASS AT PRESENT','ZIP CODE', 'RESIDENTIAL UNITS', 'TOTAL UNITS', 'LAND SQUARE FEET', 'GROSS SQUARE FEET', 'YEAR BUILT', 'TAX CLASS AT TIME OF SALE', 'SALE PRICE', 'SALE DATE']]\n",
    "    excel_df_cleaned.dropna(inplace = True)\n",
    "    excel_df_cleaned.reset_index(drop=True)\n",
    "    excel_df_cleaned.to_csv((str(excel) + '_prepped' + '.csv'),index=False)\n",
    "    print('--------------', excel, '-----------------------')\n",
    "    print('before: ', len(excel_df.index))\n",
    "    print('after: ', len(excel_df_cleaned.index))"
   ]
  },
  {
   "cell_type": "code",
   "execution_count": 4,
   "metadata": {},
   "outputs": [
    {
     "name": "stdout",
     "output_type": "stream",
     "text": [
      "-------------- rollingsales_manhattan.xls -----------------------\n",
      "before:  12190\n",
      "after:  10761\n"
     ]
    }
   ],
   "source": [
    "#For some reason, no one likes reporting square footage in manhattan....I wonder why\n",
    "# In that case, for manhattan specifically, we won't analyze square footage\n",
    "# At least this time around, onle 2K rows were lost rather than 11k rows\n",
    "list_excels=['rollingsales_manhattan.xls']\n",
    "for excel in list_excels:\n",
    "    excel_df = pd.read_excel(excel, skiprows=4, header=[0])\n",
    "    excel_df_cleaned = excel_df[['TAX CLASS AT PRESENT','ZIP CODE', 'YEAR BUILT','SALE PRICE', 'SALE DATE']]\n",
    "    excel_df_cleaned.dropna(inplace = True)\n",
    "    excel_df_cleaned.reset_index(drop=True)\n",
    "    excel_df_cleaned.to_csv((str(excel) + '_prepped' + '.csv'),index=False)\n",
    "    print('--------------', excel, '-----------------------')\n",
    "    print('before: ', len(excel_df.index))\n",
    "    print('after: ', len(excel_df_cleaned.index))"
   ]
  },
  {
   "cell_type": "code",
   "execution_count": 5,
   "metadata": {},
   "outputs": [
    {
     "data": {
      "text/plain": [
       "TAX CLASS AT PRESENT    0\n",
       "ZIP CODE                0\n",
       "YEAR BUILT              0\n",
       "SALE PRICE              0\n",
       "SALE DATE               0\n",
       "dtype: int64"
      ]
     },
     "execution_count": 5,
     "metadata": {},
     "output_type": "execute_result"
    }
   ],
   "source": [
    "excel_df_cleaned.isna().sum()"
   ]
  },
  {
   "cell_type": "code",
   "execution_count": 6,
   "metadata": {
    "scrolled": true
   },
   "outputs": [
    {
     "data": {
      "text/plain": [
       "BOROUGH                               0\n",
       "NEIGHBORHOOD                          0\n",
       "BUILDING CLASS CATEGORY               0\n",
       "TAX CLASS AT PRESENT                 30\n",
       "BLOCK                                 0\n",
       "LOT                                   0\n",
       "EASE-MENT                         12190\n",
       "BUILDING CLASS AT PRESENT            30\n",
       "ADDRESS                               0\n",
       "APARTMENT NUMBER                   6459\n",
       "ZIP CODE                              0\n",
       "RESIDENTIAL UNITS                  5832\n",
       "COMMERCIAL UNITS                  10716\n",
       "TOTAL UNITS                        5418\n",
       "LAND SQUARE FEET                  11130\n",
       "GROSS SQUARE FEET                 11130\n",
       "YEAR BUILT                         1426\n",
       "TAX CLASS AT TIME OF SALE             0\n",
       "BUILDING CLASS AT TIME OF SALE        0\n",
       "SALE PRICE                            0\n",
       "SALE DATE                             0\n",
       "dtype: int64"
      ]
     },
     "execution_count": 6,
     "metadata": {},
     "output_type": "execute_result"
    }
   ],
   "source": [
    "excel_df.isna().sum()\n",
    "#Either they are lazy at filling out values or they don't care, but I have less data, much less if i drop NaNs from all columns, rather I will focus on fewer columns which have less NaNs"
   ]
  },
  {
   "cell_type": "code",
   "execution_count": 7,
   "metadata": {},
   "outputs": [
    {
     "name": "stdout",
     "output_type": "stream",
     "text": [
      "-------------- rollingsales_queens.xls -----------------------\n",
      "before:  20945\n",
      "after:  13171\n",
      "-------------- rollingsales_bronx.xls -----------------------\n",
      "before:  6139\n",
      "after:  3982\n",
      "-------------- rollingsales_brooklyn.xls -----------------------\n",
      "before:  19244\n",
      "after:  11624\n",
      "-------------- rollingsales_manhattan.xls -----------------------\n",
      "before:  12190\n",
      "after:  9234\n",
      "-------------- rollingsales_statenisland.xls -----------------------\n",
      "before:  6483\n",
      "after:  4515\n"
     ]
    }
   ],
   "source": [
    "#I will revisit these datasets with just time and value amounts and tax class to see if that has any significance on the data quality\n",
    "# It seems tax class, sale price, sale date\n",
    "list_excels=['rollingsales_queens.xls', 'rollingsales_bronx.xls', 'rollingsales_brooklyn.xls', 'rollingsales_manhattan.xls', 'rollingsales_statenisland.xls']\n",
    "for excel in list_excels:\n",
    "    excel_df = pd.read_excel(excel, skiprows=4, header=[0])\n",
    "    excel_df_cleaned = excel_df[['TAX CLASS AT PRESENT', 'ZIP CODE', 'SALE PRICE', 'SALE DATE']]\n",
    "    excel_df_cleaned.dropna(inplace = True)\n",
    "    excel_df_cleaned.reset_index(drop=True)\n",
    "    excel_df_cleaned1 = excel_df_cleaned[excel_df_cleaned['SALE PRICE'] > 10]\n",
    "    excel_df_cleaned1.to_csv((str(excel) + '_prepped_bare' + '.csv'),index=False)\n",
    "    print('--------------', excel, '-----------------------')\n",
    "    print('before: ', len(excel_df.index))\n",
    "    print('after: ', len(excel_df_cleaned1.index))"
   ]
  },
  {
   "cell_type": "code",
   "execution_count": null,
   "metadata": {},
   "outputs": [],
   "source": []
  }
 ],
 "metadata": {
  "kernelspec": {
   "display_name": "Python 3",
   "language": "python",
   "name": "python3"
  },
  "language_info": {
   "codemirror_mode": {
    "name": "ipython",
    "version": 3
   },
   "file_extension": ".py",
   "mimetype": "text/x-python",
   "name": "python",
   "nbconvert_exporter": "python",
   "pygments_lexer": "ipython3",
   "version": "3.8.5"
  }
 },
 "nbformat": 4,
 "nbformat_minor": 4
}
