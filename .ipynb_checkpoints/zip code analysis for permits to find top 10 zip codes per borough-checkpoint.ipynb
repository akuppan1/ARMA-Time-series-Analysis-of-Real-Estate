{
 "cells": [
  {
   "cell_type": "code",
   "execution_count": 129,
   "metadata": {},
   "outputs": [],
   "source": [
    "import pandas as pd"
   ]
  },
  {
   "cell_type": "code",
   "execution_count": 130,
   "metadata": {},
   "outputs": [],
   "source": [
    "data=pd.read_csv(filepath_or_buffer =  '../capstone 1/DOB_Permit_Issuance.csv', usecols=['Zip Code', 'Job Type', 'BOROUGH'])"
   ]
  },
  {
   "cell_type": "code",
   "execution_count": 131,
   "metadata": {},
   "outputs": [
    {
     "data": {
      "text/html": [
       "<div>\n",
       "<style scoped>\n",
       "    .dataframe tbody tr th:only-of-type {\n",
       "        vertical-align: middle;\n",
       "    }\n",
       "\n",
       "    .dataframe tbody tr th {\n",
       "        vertical-align: top;\n",
       "    }\n",
       "\n",
       "    .dataframe thead th {\n",
       "        text-align: right;\n",
       "    }\n",
       "</style>\n",
       "<table border=\"1\" class=\"dataframe\">\n",
       "  <thead>\n",
       "    <tr style=\"text-align: right;\">\n",
       "      <th></th>\n",
       "      <th>BOROUGH</th>\n",
       "      <th>Job Type</th>\n",
       "      <th>Zip Code</th>\n",
       "    </tr>\n",
       "  </thead>\n",
       "  <tbody>\n",
       "    <tr>\n",
       "      <th>0</th>\n",
       "      <td>MANHATTAN</td>\n",
       "      <td>A2</td>\n",
       "      <td>10020.0</td>\n",
       "    </tr>\n",
       "    <tr>\n",
       "      <th>1</th>\n",
       "      <td>STATEN ISLAND</td>\n",
       "      <td>A2</td>\n",
       "      <td>10301.0</td>\n",
       "    </tr>\n",
       "    <tr>\n",
       "      <th>2</th>\n",
       "      <td>BROOKLYN</td>\n",
       "      <td>DM</td>\n",
       "      <td>11209.0</td>\n",
       "    </tr>\n",
       "    <tr>\n",
       "      <th>3</th>\n",
       "      <td>BROOKLYN</td>\n",
       "      <td>DM</td>\n",
       "      <td>11226.0</td>\n",
       "    </tr>\n",
       "    <tr>\n",
       "      <th>4</th>\n",
       "      <td>BROOKLYN</td>\n",
       "      <td>DM</td>\n",
       "      <td>11210.0</td>\n",
       "    </tr>\n",
       "    <tr>\n",
       "      <th>...</th>\n",
       "      <td>...</td>\n",
       "      <td>...</td>\n",
       "      <td>...</td>\n",
       "    </tr>\n",
       "    <tr>\n",
       "      <th>3747447</th>\n",
       "      <td>QUEENS</td>\n",
       "      <td>A2</td>\n",
       "      <td>11419.0</td>\n",
       "    </tr>\n",
       "    <tr>\n",
       "      <th>3747448</th>\n",
       "      <td>BROOKLYN</td>\n",
       "      <td>A2</td>\n",
       "      <td>11205.0</td>\n",
       "    </tr>\n",
       "    <tr>\n",
       "      <th>3747449</th>\n",
       "      <td>BROOKLYN</td>\n",
       "      <td>A1</td>\n",
       "      <td>11230.0</td>\n",
       "    </tr>\n",
       "    <tr>\n",
       "      <th>3747450</th>\n",
       "      <td>QUEENS</td>\n",
       "      <td>A1</td>\n",
       "      <td>11378.0</td>\n",
       "    </tr>\n",
       "    <tr>\n",
       "      <th>3747451</th>\n",
       "      <td>BROOKLYN</td>\n",
       "      <td>NB</td>\n",
       "      <td>11231.0</td>\n",
       "    </tr>\n",
       "  </tbody>\n",
       "</table>\n",
       "<p>3747452 rows × 3 columns</p>\n",
       "</div>"
      ],
      "text/plain": [
       "               BOROUGH Job Type  Zip Code\n",
       "0            MANHATTAN       A2   10020.0\n",
       "1        STATEN ISLAND       A2   10301.0\n",
       "2             BROOKLYN       DM   11209.0\n",
       "3             BROOKLYN       DM   11226.0\n",
       "4             BROOKLYN       DM   11210.0\n",
       "...                ...      ...       ...\n",
       "3747447         QUEENS       A2   11419.0\n",
       "3747448       BROOKLYN       A2   11205.0\n",
       "3747449       BROOKLYN       A1   11230.0\n",
       "3747450         QUEENS       A1   11378.0\n",
       "3747451       BROOKLYN       NB   11231.0\n",
       "\n",
       "[3747452 rows x 3 columns]"
      ]
     },
     "execution_count": 131,
     "metadata": {},
     "output_type": "execute_result"
    }
   ],
   "source": [
    "data"
   ]
  },
  {
   "cell_type": "code",
   "execution_count": 140,
   "metadata": {},
   "outputs": [],
   "source": [
    "list_boroughs = list(data['BOROUGH'].unique())\n",
    "list_boroughs\n",
    "\n",
    "for borough in list_boroughs:\n",
    "    df_name = 'df_' + borough\n",
    "    df_name = data[data['BOROUGH'] == borough]"
   ]
  },
  {
   "cell_type": "code",
   "execution_count": 150,
   "metadata": {},
   "outputs": [
    {
     "data": {
      "text/html": [
       "<div>\n",
       "<style scoped>\n",
       "    .dataframe tbody tr th:only-of-type {\n",
       "        vertical-align: middle;\n",
       "    }\n",
       "\n",
       "    .dataframe tbody tr th {\n",
       "        vertical-align: top;\n",
       "    }\n",
       "\n",
       "    .dataframe thead th {\n",
       "        text-align: right;\n",
       "    }\n",
       "</style>\n",
       "<table border=\"1\" class=\"dataframe\">\n",
       "  <thead>\n",
       "    <tr style=\"text-align: right;\">\n",
       "      <th></th>\n",
       "      <th>Job Type</th>\n",
       "      <th>Zip Code</th>\n",
       "    </tr>\n",
       "  </thead>\n",
       "  <tbody>\n",
       "    <tr>\n",
       "      <th>11</th>\n",
       "      <td>NB</td>\n",
       "      <td>11697.0</td>\n",
       "    </tr>\n",
       "    <tr>\n",
       "      <th>32</th>\n",
       "      <td>A2</td>\n",
       "      <td>11691.0</td>\n",
       "    </tr>\n",
       "    <tr>\n",
       "      <th>107</th>\n",
       "      <td>A2</td>\n",
       "      <td>11368.0</td>\n",
       "    </tr>\n",
       "    <tr>\n",
       "      <th>131</th>\n",
       "      <td>A2</td>\n",
       "      <td>11420.0</td>\n",
       "    </tr>\n",
       "    <tr>\n",
       "      <th>137</th>\n",
       "      <td>NB</td>\n",
       "      <td>11103.0</td>\n",
       "    </tr>\n",
       "    <tr>\n",
       "      <th>...</th>\n",
       "      <td>...</td>\n",
       "      <td>...</td>\n",
       "    </tr>\n",
       "    <tr>\n",
       "      <th>3747432</th>\n",
       "      <td>NB</td>\n",
       "      <td>11362.0</td>\n",
       "    </tr>\n",
       "    <tr>\n",
       "      <th>3747436</th>\n",
       "      <td>NB</td>\n",
       "      <td>11355.0</td>\n",
       "    </tr>\n",
       "    <tr>\n",
       "      <th>3747438</th>\n",
       "      <td>A1</td>\n",
       "      <td>11355.0</td>\n",
       "    </tr>\n",
       "    <tr>\n",
       "      <th>3747447</th>\n",
       "      <td>A2</td>\n",
       "      <td>11419.0</td>\n",
       "    </tr>\n",
       "    <tr>\n",
       "      <th>3747450</th>\n",
       "      <td>A1</td>\n",
       "      <td>11378.0</td>\n",
       "    </tr>\n",
       "  </tbody>\n",
       "</table>\n",
       "<p>782863 rows × 2 columns</p>\n",
       "</div>"
      ],
      "text/plain": [
       "        Job Type  Zip Code\n",
       "11            NB   11697.0\n",
       "32            A2   11691.0\n",
       "107           A2   11368.0\n",
       "131           A2   11420.0\n",
       "137           NB   11103.0\n",
       "...          ...       ...\n",
       "3747432       NB   11362.0\n",
       "3747436       NB   11355.0\n",
       "3747438       A1   11355.0\n",
       "3747447       A2   11419.0\n",
       "3747450       A1   11378.0\n",
       "\n",
       "[782863 rows x 2 columns]"
      ]
     },
     "execution_count": 150,
     "metadata": {},
     "output_type": "execute_result"
    }
   ],
   "source": [
    "df_QUEENS = data[data['BOROUGH'] == 'QUEENS']\n",
    "df_QUEENS.drop(columns=['BOROUGH'])\n",
    "# df_QUEENS.reset_index(inplace=True)"
   ]
  },
  {
   "cell_type": "code",
   "execution_count": 147,
   "metadata": {},
   "outputs": [
    {
     "data": {
      "text/html": [
       "<div>\n",
       "<style scoped>\n",
       "    .dataframe tbody tr th:only-of-type {\n",
       "        vertical-align: middle;\n",
       "    }\n",
       "\n",
       "    .dataframe tbody tr th {\n",
       "        vertical-align: top;\n",
       "    }\n",
       "\n",
       "    .dataframe thead th {\n",
       "        text-align: right;\n",
       "    }\n",
       "</style>\n",
       "<table border=\"1\" class=\"dataframe\">\n",
       "  <thead>\n",
       "    <tr style=\"text-align: right;\">\n",
       "      <th></th>\n",
       "      <th>index</th>\n",
       "      <th>BOROUGH</th>\n",
       "      <th>Job Type</th>\n",
       "      <th>Zip Code</th>\n",
       "    </tr>\n",
       "  </thead>\n",
       "  <tbody>\n",
       "    <tr>\n",
       "      <th>0</th>\n",
       "      <td>11</td>\n",
       "      <td>QUEENS</td>\n",
       "      <td>NB</td>\n",
       "      <td>11697.0</td>\n",
       "    </tr>\n",
       "    <tr>\n",
       "      <th>1</th>\n",
       "      <td>32</td>\n",
       "      <td>QUEENS</td>\n",
       "      <td>A2</td>\n",
       "      <td>11691.0</td>\n",
       "    </tr>\n",
       "    <tr>\n",
       "      <th>2</th>\n",
       "      <td>107</td>\n",
       "      <td>QUEENS</td>\n",
       "      <td>A2</td>\n",
       "      <td>11368.0</td>\n",
       "    </tr>\n",
       "    <tr>\n",
       "      <th>3</th>\n",
       "      <td>131</td>\n",
       "      <td>QUEENS</td>\n",
       "      <td>A2</td>\n",
       "      <td>11420.0</td>\n",
       "    </tr>\n",
       "    <tr>\n",
       "      <th>4</th>\n",
       "      <td>137</td>\n",
       "      <td>QUEENS</td>\n",
       "      <td>NB</td>\n",
       "      <td>11103.0</td>\n",
       "    </tr>\n",
       "    <tr>\n",
       "      <th>...</th>\n",
       "      <td>...</td>\n",
       "      <td>...</td>\n",
       "      <td>...</td>\n",
       "      <td>...</td>\n",
       "    </tr>\n",
       "    <tr>\n",
       "      <th>782858</th>\n",
       "      <td>3747432</td>\n",
       "      <td>QUEENS</td>\n",
       "      <td>NB</td>\n",
       "      <td>11362.0</td>\n",
       "    </tr>\n",
       "    <tr>\n",
       "      <th>782859</th>\n",
       "      <td>3747436</td>\n",
       "      <td>QUEENS</td>\n",
       "      <td>NB</td>\n",
       "      <td>11355.0</td>\n",
       "    </tr>\n",
       "    <tr>\n",
       "      <th>782860</th>\n",
       "      <td>3747438</td>\n",
       "      <td>QUEENS</td>\n",
       "      <td>A1</td>\n",
       "      <td>11355.0</td>\n",
       "    </tr>\n",
       "    <tr>\n",
       "      <th>782861</th>\n",
       "      <td>3747447</td>\n",
       "      <td>QUEENS</td>\n",
       "      <td>A2</td>\n",
       "      <td>11419.0</td>\n",
       "    </tr>\n",
       "    <tr>\n",
       "      <th>782862</th>\n",
       "      <td>3747450</td>\n",
       "      <td>QUEENS</td>\n",
       "      <td>A1</td>\n",
       "      <td>11378.0</td>\n",
       "    </tr>\n",
       "  </tbody>\n",
       "</table>\n",
       "<p>782863 rows × 4 columns</p>\n",
       "</div>"
      ],
      "text/plain": [
       "          index BOROUGH Job Type  Zip Code\n",
       "0            11  QUEENS       NB   11697.0\n",
       "1            32  QUEENS       A2   11691.0\n",
       "2           107  QUEENS       A2   11368.0\n",
       "3           131  QUEENS       A2   11420.0\n",
       "4           137  QUEENS       NB   11103.0\n",
       "...         ...     ...      ...       ...\n",
       "782858  3747432  QUEENS       NB   11362.0\n",
       "782859  3747436  QUEENS       NB   11355.0\n",
       "782860  3747438  QUEENS       A1   11355.0\n",
       "782861  3747447  QUEENS       A2   11419.0\n",
       "782862  3747450  QUEENS       A1   11378.0\n",
       "\n",
       "[782863 rows x 4 columns]"
      ]
     },
     "execution_count": 147,
     "metadata": {},
     "output_type": "execute_result"
    }
   ],
   "source": [
    "df_QUEENS"
   ]
  },
  {
   "cell_type": "code",
   "execution_count": 3,
   "metadata": {},
   "outputs": [],
   "source": [
    "job_types = ['A2', 'A1', 'NB', 'DM']"
   ]
  },
  {
   "cell_type": "code",
   "execution_count": 75,
   "metadata": {},
   "outputs": [],
   "source": [
    "zip_values = data['Zip Code'].value_counts().to_list()"
   ]
  },
  {
   "cell_type": "code",
   "execution_count": 77,
   "metadata": {},
   "outputs": [],
   "source": [
    "data = data[data['Job Type'].isin(job_types)]"
   ]
  },
  {
   "cell_type": "code",
   "execution_count": 78,
   "metadata": {},
   "outputs": [],
   "source": [
    "zip_values = data['Zip Code'].value_counts().to_list()"
   ]
  },
  {
   "cell_type": "code",
   "execution_count": 82,
   "metadata": {},
   "outputs": [
    {
     "data": {
      "text/plain": [
       "10022.0    85031\n",
       "10019.0    67246\n",
       "10013.0    60019\n",
       "10011.0    58819\n",
       "10003.0    57544\n",
       "           ...  \n",
       "11376.0        6\n",
       "10803.0        3\n",
       "10487.0        2\n",
       "10045.0        1\n",
       "10048.0        1\n",
       "Name: Zip Code, Length: 231, dtype: int64"
      ]
     },
     "execution_count": 82,
     "metadata": {},
     "output_type": "execute_result"
    }
   ],
   "source": [
    "data['Zip Code'].value_counts()"
   ]
  },
  {
   "cell_type": "code",
   "execution_count": 117,
   "metadata": {},
   "outputs": [],
   "source": [
    "data_grouped = data['Zip Code'].groupby(data['BOROUGH']).value_counts()"
   ]
  },
  {
   "cell_type": "code",
   "execution_count": 124,
   "metadata": {},
   "outputs": [
    {
     "data": {
      "text/html": [
       "<div>\n",
       "<style scoped>\n",
       "    .dataframe tbody tr th:only-of-type {\n",
       "        vertical-align: middle;\n",
       "    }\n",
       "\n",
       "    .dataframe tbody tr th {\n",
       "        vertical-align: top;\n",
       "    }\n",
       "\n",
       "    .dataframe thead th {\n",
       "        text-align: right;\n",
       "    }\n",
       "</style>\n",
       "<table border=\"1\" class=\"dataframe\">\n",
       "  <thead>\n",
       "    <tr style=\"text-align: right;\">\n",
       "      <th></th>\n",
       "      <th></th>\n",
       "      <th>Zip Code</th>\n",
       "    </tr>\n",
       "    <tr>\n",
       "      <th>BOROUGH</th>\n",
       "      <th>Zip Code</th>\n",
       "      <th></th>\n",
       "    </tr>\n",
       "  </thead>\n",
       "  <tbody>\n",
       "    <tr>\n",
       "      <th rowspan=\"5\" valign=\"top\">BRONX</th>\n",
       "      <th>10456.0</th>\n",
       "      <td>18616</td>\n",
       "    </tr>\n",
       "    <tr>\n",
       "      <th>10467.0</th>\n",
       "      <td>18606</td>\n",
       "    </tr>\n",
       "    <tr>\n",
       "      <th>10457.0</th>\n",
       "      <td>18148</td>\n",
       "    </tr>\n",
       "    <tr>\n",
       "      <th>10461.0</th>\n",
       "      <td>16257</td>\n",
       "    </tr>\n",
       "    <tr>\n",
       "      <th>10458.0</th>\n",
       "      <td>16196</td>\n",
       "    </tr>\n",
       "    <tr>\n",
       "      <th>...</th>\n",
       "      <th>...</th>\n",
       "      <td>...</td>\n",
       "    </tr>\n",
       "    <tr>\n",
       "      <th rowspan=\"5\" valign=\"top\">STATEN ISLAND</th>\n",
       "      <th>10307.0</th>\n",
       "      <td>11651</td>\n",
       "    </tr>\n",
       "    <tr>\n",
       "      <th>10303.0</th>\n",
       "      <td>10569</td>\n",
       "    </tr>\n",
       "    <tr>\n",
       "      <th>10308.0</th>\n",
       "      <td>9789</td>\n",
       "    </tr>\n",
       "    <tr>\n",
       "      <th>10310.0</th>\n",
       "      <td>9318</td>\n",
       "    </tr>\n",
       "    <tr>\n",
       "      <th>10302.0</th>\n",
       "      <td>7562</td>\n",
       "    </tr>\n",
       "  </tbody>\n",
       "</table>\n",
       "<p>236 rows × 1 columns</p>\n",
       "</div>"
      ],
      "text/plain": [
       "                        Zip Code\n",
       "BOROUGH       Zip Code          \n",
       "BRONX         10456.0      18616\n",
       "              10467.0      18606\n",
       "              10457.0      18148\n",
       "              10461.0      16257\n",
       "              10458.0      16196\n",
       "...                          ...\n",
       "STATEN ISLAND 10307.0      11651\n",
       "              10303.0      10569\n",
       "              10308.0       9789\n",
       "              10310.0       9318\n",
       "              10302.0       7562\n",
       "\n",
       "[236 rows x 1 columns]"
      ]
     },
     "execution_count": 124,
     "metadata": {},
     "output_type": "execute_result"
    }
   ],
   "source": [
    "df_data_grouped = pd.DataFrame(data_grouped)\n",
    "df_data_grouped"
   ]
  },
  {
   "cell_type": "code",
   "execution_count": 127,
   "metadata": {},
   "outputs": [
    {
     "data": {
      "text/plain": [
       "<AxesSubplot:xlabel='BOROUGH,Zip Code'>"
      ]
     },
     "execution_count": 127,
     "metadata": {},
     "output_type": "execute_result"
    },
    {
     "data": {
      "image/png": "[encoded data removed]",
      "text/plain": [
       "<Figure size 432x288 with 1 Axes>"
      ]
     },
     "metadata": {
      "needs_background": "light"
     },
     "output_type": "display_data"
    }
   ],
   "source": [
    "df_data_grouped.plot(kind='bar')"
   ]
  },
  {
   "cell_type": "code",
   "execution_count": 128,
   "metadata": {},
   "outputs": [
    {
     "ename": "AttributeError",
     "evalue": "'DataFrameGroupBy' object has no attribute 'nlargest'",
     "output_type": "error",
     "traceback": [
      "\u001b[1;31m---------------------------------------------------------------------------\u001b[0m",
      "\u001b[1;31mAttributeError\u001b[0m                            Traceback (most recent call last)",
      "\u001b[1;32m<ipython-input-128-8324b41fda08>\u001b[0m in \u001b[0;36m<module>\u001b[1;34m\u001b[0m\n\u001b[1;32m----> 1\u001b[1;33m \u001b[0mprint\u001b[0m \u001b[1;33m(\u001b[0m\u001b[0mdf_data_grouped\u001b[0m\u001b[1;33m.\u001b[0m\u001b[0mgroupby\u001b[0m\u001b[1;33m(\u001b[0m\u001b[0mlevel\u001b[0m\u001b[1;33m=\u001b[0m\u001b[1;34m'Zip Code'\u001b[0m\u001b[1;33m)\u001b[0m\u001b[1;33m.\u001b[0m\u001b[0mnlargest\u001b[0m\u001b[1;33m(\u001b[0m\u001b[1;36m10\u001b[0m\u001b[1;33m)\u001b[0m\u001b[1;33m.\u001b[0m\u001b[0mreset_index\u001b[0m\u001b[1;33m(\u001b[0m\u001b[0mlevel\u001b[0m\u001b[1;33m=\u001b[0m\u001b[1;36m0\u001b[0m\u001b[1;33m,\u001b[0m \u001b[0mdrop\u001b[0m\u001b[1;33m=\u001b[0m\u001b[1;32mTrue\u001b[0m\u001b[1;33m)\u001b[0m\u001b[1;33m)\u001b[0m\u001b[1;33m\u001b[0m\u001b[1;33m\u001b[0m\u001b[0m\n\u001b[0m",
      "\u001b[1;32m~\\anaconda3\\envs\\learn-env\\lib\\site-packages\\pandas\\core\\groupby\\groupby.py\u001b[0m in \u001b[0;36m__getattr__\u001b[1;34m(self, attr)\u001b[0m\n\u001b[0;32m    701\u001b[0m             \u001b[1;32mreturn\u001b[0m \u001b[0mself\u001b[0m\u001b[1;33m[\u001b[0m\u001b[0mattr\u001b[0m\u001b[1;33m]\u001b[0m\u001b[1;33m\u001b[0m\u001b[1;33m\u001b[0m\u001b[0m\n\u001b[0;32m    702\u001b[0m \u001b[1;33m\u001b[0m\u001b[0m\n\u001b[1;32m--> 703\u001b[1;33m         raise AttributeError(\n\u001b[0m\u001b[0;32m    704\u001b[0m             \u001b[1;34mf\"'{type(self).__name__}' object has no attribute '{attr}'\"\u001b[0m\u001b[1;33m\u001b[0m\u001b[1;33m\u001b[0m\u001b[0m\n\u001b[0;32m    705\u001b[0m         )\n",
      "\u001b[1;31mAttributeError\u001b[0m: 'DataFrameGroupBy' object has no attribute 'nlargest'"
     ]
    }
   ],
   "source": [
    "print (df_data_grouped.groupby(level='Zip Code').nlargest(10).reset_index(level=0, drop=True))"
   ]
  },
  {
   "cell_type": "code",
   "execution_count": 102,
   "metadata": {},
   "outputs": [],
   "source": [
    "# grouped = data.groupby(['Zip Code','BOROUGH'], as_index=False)"
   ]
  },
  {
   "cell_type": "code",
   "execution_count": 84,
   "metadata": {},
   "outputs": [],
   "source": [
    "# data_grouped = pd.DataFrame(grouped.size())"
   ]
  },
  {
   "cell_type": "code",
   "execution_count": 85,
   "metadata": {},
   "outputs": [],
   "source": [
    "# data_grouped = data_grouped.set_index(['BOROUGH'])"
   ]
  },
  {
   "cell_type": "code",
   "execution_count": 86,
   "metadata": {},
   "outputs": [],
   "source": [
    "# data_grouped"
   ]
  },
  {
   "cell_type": "code",
   "execution_count": null,
   "metadata": {},
   "outputs": [],
   "source": []
  }
 ],
 "metadata": {
  "kernelspec": {
   "display_name": "Python 3",
   "language": "python",
   "name": "python3"
  },
  "language_info": {
   "codemirror_mode": {
    "name": "ipython",
    "version": 3
   },
   "file_extension": ".py",
   "mimetype": "text/x-python",
   "name": "python",
   "nbconvert_exporter": "python",
   "pygments_lexer": "ipython3",
   "version": "3.8.5"
  }
 },
 "nbformat": 4,
 "nbformat_minor": 4
}
