{
 "cells": [
  {
   "cell_type": "code",
   "execution_count": 1,
   "metadata": {},
   "outputs": [],
   "source": [
    "import pandas as pd"
   ]
  },
  {
   "cell_type": "code",
   "execution_count": 6,
   "metadata": {},
   "outputs": [],
   "source": [
    "data=pd.read_csv(filepath_or_buffer =  '../capstone 1/DOB_Permit_Issuance.csv', usecols=['BOROUGH','Zip Code', 'Job Type', 'Issuance Date'])"
   ]
  },
  {
   "cell_type": "code",
   "execution_count": 10,
   "metadata": {},
   "outputs": [
    {
     "data": {
      "text/html": [
       "<div>\n",
       "<style scoped>\n",
       "    .dataframe tbody tr th:only-of-type {\n",
       "        vertical-align: middle;\n",
       "    }\n",
       "\n",
       "    .dataframe tbody tr th {\n",
       "        vertical-align: top;\n",
       "    }\n",
       "\n",
       "    .dataframe thead th {\n",
       "        text-align: right;\n",
       "    }\n",
       "</style>\n",
       "<table border=\"1\" class=\"dataframe\">\n",
       "  <thead>\n",
       "    <tr style=\"text-align: right;\">\n",
       "      <th></th>\n",
       "      <th>BOROUGH</th>\n",
       "      <th>Job Type</th>\n",
       "      <th>Zip Code</th>\n",
       "      <th>Issuance Date</th>\n",
       "    </tr>\n",
       "  </thead>\n",
       "  <tbody>\n",
       "    <tr>\n",
       "      <th>0</th>\n",
       "      <td>MANHATTAN</td>\n",
       "      <td>A2</td>\n",
       "      <td>10020.0</td>\n",
       "      <td>12/11/2020</td>\n",
       "    </tr>\n",
       "    <tr>\n",
       "      <th>1</th>\n",
       "      <td>STATEN ISLAND</td>\n",
       "      <td>A2</td>\n",
       "      <td>10301.0</td>\n",
       "      <td>12/11/2020</td>\n",
       "    </tr>\n",
       "    <tr>\n",
       "      <th>2</th>\n",
       "      <td>BROOKLYN</td>\n",
       "      <td>DM</td>\n",
       "      <td>11209.0</td>\n",
       "      <td>06/17/2020</td>\n",
       "    </tr>\n",
       "    <tr>\n",
       "      <th>3</th>\n",
       "      <td>BROOKLYN</td>\n",
       "      <td>DM</td>\n",
       "      <td>11226.0</td>\n",
       "      <td>06/17/2020</td>\n",
       "    </tr>\n",
       "    <tr>\n",
       "      <th>4</th>\n",
       "      <td>BROOKLYN</td>\n",
       "      <td>DM</td>\n",
       "      <td>11210.0</td>\n",
       "      <td>06/17/2020</td>\n",
       "    </tr>\n",
       "    <tr>\n",
       "      <th>...</th>\n",
       "      <td>...</td>\n",
       "      <td>...</td>\n",
       "      <td>...</td>\n",
       "      <td>...</td>\n",
       "    </tr>\n",
       "    <tr>\n",
       "      <th>3747446</th>\n",
       "      <td>BROOKLYN</td>\n",
       "      <td>A2</td>\n",
       "      <td>11231.0</td>\n",
       "      <td>05/31/2021</td>\n",
       "    </tr>\n",
       "    <tr>\n",
       "      <th>3747448</th>\n",
       "      <td>BROOKLYN</td>\n",
       "      <td>A2</td>\n",
       "      <td>11205.0</td>\n",
       "      <td>05/31/2021</td>\n",
       "    </tr>\n",
       "    <tr>\n",
       "      <th>3747449</th>\n",
       "      <td>BROOKLYN</td>\n",
       "      <td>A1</td>\n",
       "      <td>11230.0</td>\n",
       "      <td>05/31/2021</td>\n",
       "    </tr>\n",
       "    <tr>\n",
       "      <th>3747450</th>\n",
       "      <td>QUEENS</td>\n",
       "      <td>A1</td>\n",
       "      <td>11378.0</td>\n",
       "      <td>05/31/2021</td>\n",
       "    </tr>\n",
       "    <tr>\n",
       "      <th>3747451</th>\n",
       "      <td>BROOKLYN</td>\n",
       "      <td>NB</td>\n",
       "      <td>11231.0</td>\n",
       "      <td>05/31/2021</td>\n",
       "    </tr>\n",
       "  </tbody>\n",
       "</table>\n",
       "<p>3724122 rows × 4 columns</p>\n",
       "</div>"
      ],
      "text/plain": [
       "               BOROUGH Job Type  Zip Code Issuance Date\n",
       "0            MANHATTAN       A2   10020.0    12/11/2020\n",
       "1        STATEN ISLAND       A2   10301.0    12/11/2020\n",
       "2             BROOKLYN       DM   11209.0    06/17/2020\n",
       "3             BROOKLYN       DM   11226.0    06/17/2020\n",
       "4             BROOKLYN       DM   11210.0    06/17/2020\n",
       "...                ...      ...       ...           ...\n",
       "3747446       BROOKLYN       A2   11231.0    05/31/2021\n",
       "3747448       BROOKLYN       A2   11205.0    05/31/2021\n",
       "3747449       BROOKLYN       A1   11230.0    05/31/2021\n",
       "3747450         QUEENS       A1   11378.0    05/31/2021\n",
       "3747451       BROOKLYN       NB   11231.0    05/31/2021\n",
       "\n",
       "[3724122 rows x 4 columns]"
      ]
     },
     "execution_count": 10,
     "metadata": {},
     "output_type": "execute_result"
    }
   ],
   "source": [
    "data.dropna(inplace=True)\n",
    "data.sort_values(by=['Issuance Date'])\n",
    "data"
   ]
  },
  {
   "cell_type": "code",
   "execution_count": 47,
   "metadata": {},
   "outputs": [
    {
     "data": {
      "text/plain": [
       "[11101.0,\n",
       " 11368.0,\n",
       " 11354.0,\n",
       " 11355.0,\n",
       " 11385.0,\n",
       " 11373.0,\n",
       " 11357.0,\n",
       " 11432.0,\n",
       " 11377.0,\n",
       " 11691.0]"
      ]
     },
     "execution_count": 47,
     "metadata": {},
     "output_type": "execute_result"
    }
   ],
   "source": [
    "# We want to focus only on the recent data andonly want A2 DM NB A1,\n",
    "\n",
    "# WE DONT WANT A3 and SG\n",
    "\n",
    "BOROUGH = 'QUEENS'\n",
    "df = data[data['BOROUGH'] == BOROUGH]\n",
    "df = df[df['Job Type'].isin(['A2', 'DM', 'NB', 'A1'])]\n",
    "df['Zip Code'].value_counts().head(10)\n",
    "list = df['Zip Code'].value_counts().index.to_list()[:10]\n",
    "list"
   ]
  },
  {
   "cell_type": "code",
   "execution_count": 48,
   "metadata": {},
   "outputs": [
    {
     "data": {
      "text/plain": [
       "[10022.0,\n",
       " 10019.0,\n",
       " 10013.0,\n",
       " 10011.0,\n",
       " 10003.0,\n",
       " 10017.0,\n",
       " 10036.0,\n",
       " 10016.0,\n",
       " 10001.0,\n",
       " 10023.0]"
      ]
     },
     "execution_count": 48,
     "metadata": {},
     "output_type": "execute_result"
    }
   ],
   "source": [
    "BOROUGH = 'MANHATTAN'\n",
    "df = data[data['BOROUGH'] == BOROUGH]\n",
    "df = df[df['Job Type'].isin(['A2', 'DM', 'NB', 'A1'])]\n",
    "df['Zip Code'].value_counts().head(10)\n",
    "list = df['Zip Code'].value_counts().index.to_list()[:10]\n",
    "list"
   ]
  },
  {
   "cell_type": "code",
   "execution_count": 49,
   "metadata": {},
   "outputs": [
    {
     "data": {
      "text/plain": [
       "[10467.0,\n",
       " 10456.0,\n",
       " 10457.0,\n",
       " 10461.0,\n",
       " 10469.0,\n",
       " 10458.0,\n",
       " 10451.0,\n",
       " 10459.0,\n",
       " 10473.0,\n",
       " 10460.0]"
      ]
     },
     "execution_count": 49,
     "metadata": {},
     "output_type": "execute_result"
    }
   ],
   "source": [
    "BOROUGH = 'BRONX'\n",
    "df = data[data['BOROUGH'] == BOROUGH]\n",
    "df = df[df['Job Type'].isin(['A2', 'DM', 'NB', 'A1'])]\n",
    "df['Zip Code'].value_counts().head(10)\n",
    "list = df['Zip Code'].value_counts().index.to_list()[:10]\n",
    "list"
   ]
  },
  {
   "cell_type": "code",
   "execution_count": 50,
   "metadata": {},
   "outputs": [
    {
     "data": {
      "text/plain": [
       "[11201.0,\n",
       " 11215.0,\n",
       " 11221.0,\n",
       " 11211.0,\n",
       " 11206.0,\n",
       " 11220.0,\n",
       " 11207.0,\n",
       " 11238.0,\n",
       " 11235.0,\n",
       " 11219.0]"
      ]
     },
     "execution_count": 50,
     "metadata": {},
     "output_type": "execute_result"
    }
   ],
   "source": [
    "BOROUGH = 'BROOKLYN'\n",
    "df = data[data['BOROUGH'] == BOROUGH]\n",
    "df = df[df['Job Type'].isin(['A2', 'DM', 'NB', 'A1'])]\n",
    "df['Zip Code'].value_counts().head(10)\n",
    "list = df['Zip Code'].value_counts().index.to_list()[:10]\n",
    "list"
   ]
  },
  {
   "cell_type": "code",
   "execution_count": 51,
   "metadata": {},
   "outputs": [
    {
     "data": {
      "text/plain": [
       "[10314.0,\n",
       " 10306.0,\n",
       " 10312.0,\n",
       " 10309.0,\n",
       " 10305.0,\n",
       " 10304.0,\n",
       " 10301.0,\n",
       " 10307.0,\n",
       " 10303.0,\n",
       " 10308.0]"
      ]
     },
     "execution_count": 51,
     "metadata": {},
     "output_type": "execute_result"
    }
   ],
   "source": [
    "BOROUGH = 'STATEN ISLAND'\n",
    "df = data[data['BOROUGH'] == BOROUGH]\n",
    "df = df[df['Job Type'].isin(['A2', 'DM', 'NB', 'A1'])]\n",
    "df['Zip Code'].value_counts().head(10)\n",
    "list = df['Zip Code'].value_counts().index.to_list()[:10]\n",
    "list"
   ]
  },
  {
   "cell_type": "code",
   "execution_count": null,
   "metadata": {},
   "outputs": [],
   "source": []
  }
 ],
 "metadata": {
  "kernelspec": {
   "display_name": "Python 3",
   "language": "python",
   "name": "python3"
  },
  "language_info": {
   "codemirror_mode": {
    "name": "ipython",
    "version": 3
   },
   "file_extension": ".py",
   "mimetype": "text/x-python",
   "name": "python",
   "nbconvert_exporter": "python",
   "pygments_lexer": "ipython3",
   "version": "3.8.5"
  }
 },
 "nbformat": 4,
 "nbformat_minor": 4
}
