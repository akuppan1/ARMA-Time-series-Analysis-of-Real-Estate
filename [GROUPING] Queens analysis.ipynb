{
 "cells": [
  {
   "cell_type": "code",
   "execution_count": 60,
   "metadata": {},
   "outputs": [],
   "source": [
    "import warnings\n",
    "import pandas as pd\n",
    "from pandas.core.common import SettingWithCopyWarning\n",
    "warnings.simplefilter(action=\"ignore\", category=SettingWithCopyWarning)\n",
    "#Imports\n",
    "import pandas as pd\n",
    "import numpy as np\n",
    "from pandas.plotting import register_matplotlib_converters\n",
    "import matplotlib.pyplot as plt\n",
    "from matplotlib.pylab import rcParams\n",
    "register_matplotlib_converters()\n",
    "\n",
    "from sklearn.linear_model import LinearRegression\n",
    "from sklearn.preprocessing import OneHotEncoder\n",
    "from sklearn.metrics import mean_squared_error, r2_score, mean_absolute_error\n",
    "\n",
    "from scipy import stats\n",
    "from random import gauss as gs\n",
    "import datetime\n",
    "\n",
    "from statsmodels.tsa.arima_model import ARMA\n",
    "from statsmodels.tsa.stattools import adfuller, acf, pacf\n",
    "from statsmodels.graphics.tsaplots import plot_acf, plot_pacf\n",
    "import statsmodels.api as sm\n",
    "from statsmodels.tsa.seasonal import seasonal_decompose\n",
    "\n",
    "#Supress default INFO logging\n",
    "%matplotlib inline\n",
    "import warnings\n",
    "warnings.filterwarnings('ignore')\n",
    "import logging\n",
    "logger = logging.getLogger()\n",
    "logger.setLevel(logging.CRITICAL)\n",
    "import logging, sys\n",
    "warnings.simplefilter(action='ignore', category=FutureWarning)"
   ]
  },
  {
   "cell_type": "code",
   "execution_count": 61,
   "metadata": {},
   "outputs": [],
   "source": [
    "df = pd.read_csv('rollingsales_queens.xls_prepped_bare.csv')"
   ]
  },
  {
   "cell_type": "code",
   "execution_count": 62,
   "metadata": {},
   "outputs": [
    {
     "data": {
      "text/html": [
       "<div>\n",
       "<style scoped>\n",
       "    .dataframe tbody tr th:only-of-type {\n",
       "        vertical-align: middle;\n",
       "    }\n",
       "\n",
       "    .dataframe tbody tr th {\n",
       "        vertical-align: top;\n",
       "    }\n",
       "\n",
       "    .dataframe thead th {\n",
       "        text-align: right;\n",
       "    }\n",
       "</style>\n",
       "<table border=\"1\" class=\"dataframe\">\n",
       "  <thead>\n",
       "    <tr style=\"text-align: right;\">\n",
       "      <th></th>\n",
       "      <th>TAX CLASS AT PRESENT</th>\n",
       "      <th>ZIP CODE</th>\n",
       "      <th>SALE PRICE</th>\n",
       "      <th>SALE DATE</th>\n",
       "    </tr>\n",
       "  </thead>\n",
       "  <tbody>\n",
       "    <tr>\n",
       "      <th>0</th>\n",
       "      <td>4</td>\n",
       "      <td>11434</td>\n",
       "      <td>4121000</td>\n",
       "      <td>2020-07-16</td>\n",
       "    </tr>\n",
       "    <tr>\n",
       "      <th>1</th>\n",
       "      <td>1</td>\n",
       "      <td>11370</td>\n",
       "      <td>584569</td>\n",
       "      <td>2020-08-28</td>\n",
       "    </tr>\n",
       "    <tr>\n",
       "      <th>2</th>\n",
       "      <td>1</td>\n",
       "      <td>11370</td>\n",
       "      <td>800000</td>\n",
       "      <td>2021-01-11</td>\n",
       "    </tr>\n",
       "    <tr>\n",
       "      <th>3</th>\n",
       "      <td>1</td>\n",
       "      <td>11691</td>\n",
       "      <td>300000</td>\n",
       "      <td>2020-12-16</td>\n",
       "    </tr>\n",
       "    <tr>\n",
       "      <th>4</th>\n",
       "      <td>1</td>\n",
       "      <td>11691</td>\n",
       "      <td>360000</td>\n",
       "      <td>2020-06-23</td>\n",
       "    </tr>\n",
       "    <tr>\n",
       "      <th>...</th>\n",
       "      <td>...</td>\n",
       "      <td>...</td>\n",
       "      <td>...</td>\n",
       "      <td>...</td>\n",
       "    </tr>\n",
       "    <tr>\n",
       "      <th>13166</th>\n",
       "      <td>4</td>\n",
       "      <td>11377</td>\n",
       "      <td>254563</td>\n",
       "      <td>2020-12-31</td>\n",
       "    </tr>\n",
       "    <tr>\n",
       "      <th>13167</th>\n",
       "      <td>4</td>\n",
       "      <td>11377</td>\n",
       "      <td>254563</td>\n",
       "      <td>2020-12-31</td>\n",
       "    </tr>\n",
       "    <tr>\n",
       "      <th>13168</th>\n",
       "      <td>4</td>\n",
       "      <td>11377</td>\n",
       "      <td>1000000</td>\n",
       "      <td>2020-07-10</td>\n",
       "    </tr>\n",
       "    <tr>\n",
       "      <th>13169</th>\n",
       "      <td>4</td>\n",
       "      <td>11377</td>\n",
       "      <td>960000</td>\n",
       "      <td>2020-07-01</td>\n",
       "    </tr>\n",
       "    <tr>\n",
       "      <th>13170</th>\n",
       "      <td>4</td>\n",
       "      <td>11377</td>\n",
       "      <td>718000</td>\n",
       "      <td>2020-11-03</td>\n",
       "    </tr>\n",
       "  </tbody>\n",
       "</table>\n",
       "<p>13171 rows × 4 columns</p>\n",
       "</div>"
      ],
      "text/plain": [
       "      TAX CLASS AT PRESENT  ZIP CODE  SALE PRICE   SALE DATE\n",
       "0                        4     11434     4121000  2020-07-16\n",
       "1                        1     11370      584569  2020-08-28\n",
       "2                        1     11370      800000  2021-01-11\n",
       "3                        1     11691      300000  2020-12-16\n",
       "4                        1     11691      360000  2020-06-23\n",
       "...                    ...       ...         ...         ...\n",
       "13166                    4     11377      254563  2020-12-31\n",
       "13167                    4     11377      254563  2020-12-31\n",
       "13168                    4     11377     1000000  2020-07-10\n",
       "13169                    4     11377      960000  2020-07-01\n",
       "13170                    4     11377      718000  2020-11-03\n",
       "\n",
       "[13171 rows x 4 columns]"
      ]
     },
     "execution_count": 62,
     "metadata": {},
     "output_type": "execute_result"
    }
   ],
   "source": [
    "df.reset_index(drop=True)"
   ]
  },
  {
   "cell_type": "code",
   "execution_count": 63,
   "metadata": {},
   "outputs": [
    {
     "data": {
      "text/html": [
       "<div>\n",
       "<style scoped>\n",
       "    .dataframe tbody tr th:only-of-type {\n",
       "        vertical-align: middle;\n",
       "    }\n",
       "\n",
       "    .dataframe tbody tr th {\n",
       "        vertical-align: top;\n",
       "    }\n",
       "\n",
       "    .dataframe thead th {\n",
       "        text-align: right;\n",
       "    }\n",
       "</style>\n",
       "<table border=\"1\" class=\"dataframe\">\n",
       "  <thead>\n",
       "    <tr style=\"text-align: right;\">\n",
       "      <th></th>\n",
       "      <th>TAX CLASS AT PRESENT</th>\n",
       "      <th>ZIP CODE</th>\n",
       "      <th>SALE PRICE</th>\n",
       "      <th>SALE DATE</th>\n",
       "    </tr>\n",
       "  </thead>\n",
       "  <tbody>\n",
       "    <tr>\n",
       "      <th>11776</th>\n",
       "      <td>1</td>\n",
       "      <td>11434</td>\n",
       "      <td>434500</td>\n",
       "      <td>2020-04-01</td>\n",
       "    </tr>\n",
       "    <tr>\n",
       "      <th>5303</th>\n",
       "      <td>2</td>\n",
       "      <td>11375</td>\n",
       "      <td>1150000</td>\n",
       "      <td>2020-04-01</td>\n",
       "    </tr>\n",
       "    <tr>\n",
       "      <th>10406</th>\n",
       "      <td>4</td>\n",
       "      <td>11418</td>\n",
       "      <td>2500000</td>\n",
       "      <td>2020-04-01</td>\n",
       "    </tr>\n",
       "    <tr>\n",
       "      <th>11814</th>\n",
       "      <td>1</td>\n",
       "      <td>11434</td>\n",
       "      <td>358000</td>\n",
       "      <td>2020-04-01</td>\n",
       "    </tr>\n",
       "    <tr>\n",
       "      <th>12658</th>\n",
       "      <td>1</td>\n",
       "      <td>11357</td>\n",
       "      <td>720000</td>\n",
       "      <td>2020-04-01</td>\n",
       "    </tr>\n",
       "    <tr>\n",
       "      <th>...</th>\n",
       "      <td>...</td>\n",
       "      <td>...</td>\n",
       "      <td>...</td>\n",
       "      <td>...</td>\n",
       "    </tr>\n",
       "    <tr>\n",
       "      <th>13114</th>\n",
       "      <td>2</td>\n",
       "      <td>11377</td>\n",
       "      <td>370000</td>\n",
       "      <td>2021-03-31</td>\n",
       "    </tr>\n",
       "    <tr>\n",
       "      <th>10094</th>\n",
       "      <td>1</td>\n",
       "      <td>11418</td>\n",
       "      <td>773800</td>\n",
       "      <td>2021-03-31</td>\n",
       "    </tr>\n",
       "    <tr>\n",
       "      <th>5566</th>\n",
       "      <td>2</td>\n",
       "      <td>11004</td>\n",
       "      <td>167600</td>\n",
       "      <td>2021-03-31</td>\n",
       "    </tr>\n",
       "    <tr>\n",
       "      <th>5156</th>\n",
       "      <td>2</td>\n",
       "      <td>11375</td>\n",
       "      <td>425000</td>\n",
       "      <td>2021-03-31</td>\n",
       "    </tr>\n",
       "    <tr>\n",
       "      <th>4230</th>\n",
       "      <td>2</td>\n",
       "      <td>11355</td>\n",
       "      <td>400000</td>\n",
       "      <td>2021-03-31</td>\n",
       "    </tr>\n",
       "  </tbody>\n",
       "</table>\n",
       "<p>13171 rows × 4 columns</p>\n",
       "</div>"
      ],
      "text/plain": [
       "      TAX CLASS AT PRESENT  ZIP CODE  SALE PRICE   SALE DATE\n",
       "11776                    1     11434      434500  2020-04-01\n",
       "5303                     2     11375     1150000  2020-04-01\n",
       "10406                    4     11418     2500000  2020-04-01\n",
       "11814                    1     11434      358000  2020-04-01\n",
       "12658                    1     11357      720000  2020-04-01\n",
       "...                    ...       ...         ...         ...\n",
       "13114                    2     11377      370000  2021-03-31\n",
       "10094                    1     11418      773800  2021-03-31\n",
       "5566                     2     11004      167600  2021-03-31\n",
       "5156                     2     11375      425000  2021-03-31\n",
       "4230                     2     11355      400000  2021-03-31\n",
       "\n",
       "[13171 rows x 4 columns]"
      ]
     },
     "execution_count": 63,
     "metadata": {},
     "output_type": "execute_result"
    }
   ],
   "source": [
    "df.sort_values('SALE DATE')"
   ]
  },
  {
   "cell_type": "code",
   "execution_count": 5,
   "metadata": {},
   "outputs": [
    {
     "data": {
      "text/html": [
       "<div>\n",
       "<style scoped>\n",
       "    .dataframe tbody tr th:only-of-type {\n",
       "        vertical-align: middle;\n",
       "    }\n",
       "\n",
       "    .dataframe tbody tr th {\n",
       "        vertical-align: top;\n",
       "    }\n",
       "\n",
       "    .dataframe thead th {\n",
       "        text-align: right;\n",
       "    }\n",
       "</style>\n",
       "<table border=\"1\" class=\"dataframe\">\n",
       "  <thead>\n",
       "    <tr style=\"text-align: right;\">\n",
       "      <th></th>\n",
       "      <th>TAX CLASS AT PRESENT</th>\n",
       "      <th>ZIP CODE</th>\n",
       "      <th>SALE PRICE</th>\n",
       "      <th>SALE DATE</th>\n",
       "    </tr>\n",
       "  </thead>\n",
       "  <tbody>\n",
       "    <tr>\n",
       "      <th>421</th>\n",
       "      <td>2</td>\n",
       "      <td>11102</td>\n",
       "      <td>650000</td>\n",
       "      <td>2020-04-01</td>\n",
       "    </tr>\n",
       "    <tr>\n",
       "      <th>1706</th>\n",
       "      <td>1</td>\n",
       "      <td>11411</td>\n",
       "      <td>615000</td>\n",
       "      <td>2020-04-01</td>\n",
       "    </tr>\n",
       "    <tr>\n",
       "      <th>2349</th>\n",
       "      <td>1</td>\n",
       "      <td>11369</td>\n",
       "      <td>535000</td>\n",
       "      <td>2020-04-01</td>\n",
       "    </tr>\n",
       "    <tr>\n",
       "      <th>3821</th>\n",
       "      <td>2</td>\n",
       "      <td>11355</td>\n",
       "      <td>182000</td>\n",
       "      <td>2020-04-01</td>\n",
       "    </tr>\n",
       "    <tr>\n",
       "      <th>5303</th>\n",
       "      <td>2</td>\n",
       "      <td>11375</td>\n",
       "      <td>1150000</td>\n",
       "      <td>2020-04-01</td>\n",
       "    </tr>\n",
       "    <tr>\n",
       "      <th>5450</th>\n",
       "      <td>1</td>\n",
       "      <td>11365</td>\n",
       "      <td>760000</td>\n",
       "      <td>2020-04-01</td>\n",
       "    </tr>\n",
       "    <tr>\n",
       "      <th>5921</th>\n",
       "      <td>2A</td>\n",
       "      <td>11385</td>\n",
       "      <td>1880000</td>\n",
       "      <td>2020-04-01</td>\n",
       "    </tr>\n",
       "    <tr>\n",
       "      <th>6999</th>\n",
       "      <td>2</td>\n",
       "      <td>11372</td>\n",
       "      <td>427500</td>\n",
       "      <td>2020-04-01</td>\n",
       "    </tr>\n",
       "    <tr>\n",
       "      <th>7320</th>\n",
       "      <td>1</td>\n",
       "      <td>11415</td>\n",
       "      <td>899000</td>\n",
       "      <td>2020-04-01</td>\n",
       "    </tr>\n",
       "    <tr>\n",
       "      <th>8783</th>\n",
       "      <td>1</td>\n",
       "      <td>11379</td>\n",
       "      <td>675000</td>\n",
       "      <td>2020-04-01</td>\n",
       "    </tr>\n",
       "    <tr>\n",
       "      <th>9793</th>\n",
       "      <td>1</td>\n",
       "      <td>11374</td>\n",
       "      <td>810000</td>\n",
       "      <td>2020-04-01</td>\n",
       "    </tr>\n",
       "    <tr>\n",
       "      <th>10406</th>\n",
       "      <td>4</td>\n",
       "      <td>11418</td>\n",
       "      <td>2500000</td>\n",
       "      <td>2020-04-01</td>\n",
       "    </tr>\n",
       "    <tr>\n",
       "      <th>10410</th>\n",
       "      <td>4</td>\n",
       "      <td>11418</td>\n",
       "      <td>2500000</td>\n",
       "      <td>2020-04-01</td>\n",
       "    </tr>\n",
       "    <tr>\n",
       "      <th>10411</th>\n",
       "      <td>4</td>\n",
       "      <td>11418</td>\n",
       "      <td>2500000</td>\n",
       "      <td>2020-04-01</td>\n",
       "    </tr>\n",
       "    <tr>\n",
       "      <th>10915</th>\n",
       "      <td>1</td>\n",
       "      <td>11413</td>\n",
       "      <td>815000</td>\n",
       "      <td>2020-04-01</td>\n",
       "    </tr>\n",
       "    <tr>\n",
       "      <th>11628</th>\n",
       "      <td>1</td>\n",
       "      <td>11420</td>\n",
       "      <td>555000</td>\n",
       "      <td>2020-04-01</td>\n",
       "    </tr>\n",
       "    <tr>\n",
       "      <th>11776</th>\n",
       "      <td>1</td>\n",
       "      <td>11434</td>\n",
       "      <td>434500</td>\n",
       "      <td>2020-04-01</td>\n",
       "    </tr>\n",
       "    <tr>\n",
       "      <th>11814</th>\n",
       "      <td>1</td>\n",
       "      <td>11434</td>\n",
       "      <td>358000</td>\n",
       "      <td>2020-04-01</td>\n",
       "    </tr>\n",
       "    <tr>\n",
       "      <th>12658</th>\n",
       "      <td>1</td>\n",
       "      <td>11357</td>\n",
       "      <td>720000</td>\n",
       "      <td>2020-04-01</td>\n",
       "    </tr>\n",
       "    <tr>\n",
       "      <th>13097</th>\n",
       "      <td>2</td>\n",
       "      <td>11377</td>\n",
       "      <td>257000</td>\n",
       "      <td>2020-04-01</td>\n",
       "    </tr>\n",
       "  </tbody>\n",
       "</table>\n",
       "</div>"
      ],
      "text/plain": [
       "      TAX CLASS AT PRESENT  ZIP CODE  SALE PRICE   SALE DATE\n",
       "421                      2     11102      650000  2020-04-01\n",
       "1706                     1     11411      615000  2020-04-01\n",
       "2349                     1     11369      535000  2020-04-01\n",
       "3821                     2     11355      182000  2020-04-01\n",
       "5303                     2     11375     1150000  2020-04-01\n",
       "5450                     1     11365      760000  2020-04-01\n",
       "5921                    2A     11385     1880000  2020-04-01\n",
       "6999                     2     11372      427500  2020-04-01\n",
       "7320                     1     11415      899000  2020-04-01\n",
       "8783                     1     11379      675000  2020-04-01\n",
       "9793                     1     11374      810000  2020-04-01\n",
       "10406                    4     11418     2500000  2020-04-01\n",
       "10410                    4     11418     2500000  2020-04-01\n",
       "10411                    4     11418     2500000  2020-04-01\n",
       "10915                    1     11413      815000  2020-04-01\n",
       "11628                    1     11420      555000  2020-04-01\n",
       "11776                    1     11434      434500  2020-04-01\n",
       "11814                    1     11434      358000  2020-04-01\n",
       "12658                    1     11357      720000  2020-04-01\n",
       "13097                    2     11377      257000  2020-04-01"
      ]
     },
     "execution_count": 5,
     "metadata": {},
     "output_type": "execute_result"
    }
   ],
   "source": [
    "df[df['SALE DATE'] == '2020-04-01']"
   ]
  },
  {
   "cell_type": "code",
   "execution_count": 6,
   "metadata": {},
   "outputs": [
    {
     "data": {
      "text/html": [
       "<div>\n",
       "<style scoped>\n",
       "    .dataframe tbody tr th:only-of-type {\n",
       "        vertical-align: middle;\n",
       "    }\n",
       "\n",
       "    .dataframe tbody tr th {\n",
       "        vertical-align: top;\n",
       "    }\n",
       "\n",
       "    .dataframe thead th {\n",
       "        text-align: right;\n",
       "    }\n",
       "</style>\n",
       "<table border=\"1\" class=\"dataframe\">\n",
       "  <thead>\n",
       "    <tr style=\"text-align: right;\">\n",
       "      <th></th>\n",
       "      <th>TAX CLASS AT PRESENT</th>\n",
       "      <th>ZIP CODE</th>\n",
       "      <th>SALE PRICE</th>\n",
       "      <th>SALE DATE</th>\n",
       "    </tr>\n",
       "  </thead>\n",
       "  <tbody>\n",
       "  </tbody>\n",
       "</table>\n",
       "</div>"
      ],
      "text/plain": [
       "Empty DataFrame\n",
       "Columns: [TAX CLASS AT PRESENT, ZIP CODE, SALE PRICE, SALE DATE]\n",
       "Index: []"
      ]
     },
     "execution_count": 6,
     "metadata": {},
     "output_type": "execute_result"
    }
   ],
   "source": [
    "df[df['SALE DATE'] == '2020-04-04']"
   ]
  },
  {
   "cell_type": "code",
   "execution_count": 64,
   "metadata": {},
   "outputs": [],
   "source": [
    "df['SALE DATE']= pd.to_datetime(df['SALE DATE'])\n",
    "df=df.sort_values(by='SALE DATE')"
   ]
  },
  {
   "cell_type": "code",
   "execution_count": 8,
   "metadata": {},
   "outputs": [
    {
     "data": {
      "text/plain": [
       "pandas._libs.tslibs.timestamps.Timestamp"
      ]
     },
     "execution_count": 8,
     "metadata": {},
     "output_type": "execute_result"
    }
   ],
   "source": [
    "type(df['SALE DATE'][2])"
   ]
  },
  {
   "cell_type": "code",
   "execution_count": 65,
   "metadata": {},
   "outputs": [],
   "source": [
    "df_price_date = pd.DataFrame(df, columns=['SALE DATE', 'SALE PRICE'])"
   ]
  },
  {
   "cell_type": "code",
   "execution_count": 66,
   "metadata": {},
   "outputs": [],
   "source": [
    "df_price_date = df_price_date.set_index('SALE DATE')"
   ]
  },
  {
   "cell_type": "code",
   "execution_count": 67,
   "metadata": {},
   "outputs": [
    {
     "data": {
      "text/plain": [
       "0"
      ]
     },
     "execution_count": 67,
     "metadata": {},
     "output_type": "execute_result"
    }
   ],
   "source": [
    "df_price_date['SALE PRICE'].isnull().sum()"
   ]
  },
  {
   "cell_type": "code",
   "execution_count": 68,
   "metadata": {},
   "outputs": [
    {
     "data": {
      "text/plain": [
       "DatetimeIndex(['2020-04-01', '2020-04-02', '2020-04-03', '2020-04-06',\n",
       "               '2020-04-07', '2020-04-08', '2020-04-09', '2020-04-10',\n",
       "               '2020-04-12', '2020-04-13',\n",
       "               ...\n",
       "               '2021-03-19', '2021-03-21', '2021-03-22', '2021-03-23',\n",
       "               '2021-03-24', '2021-03-25', '2021-03-26', '2021-03-29',\n",
       "               '2021-03-30', '2021-03-31'],\n",
       "              dtype='datetime64[ns]', name='SALE DATE', length=295, freq=None)"
      ]
     },
     "execution_count": 68,
     "metadata": {},
     "output_type": "execute_result"
    }
   ],
   "source": [
    "#We see here that there are 295 unique values in terms of the dates that are attached to prices. There are 70 days which are\n",
    "#not present. \n",
    "df_price_date.index.unique()"
   ]
  },
  {
   "cell_type": "code",
   "execution_count": 69,
   "metadata": {},
   "outputs": [
    {
     "data": {
      "text/html": [
       "<div>\n",
       "<style scoped>\n",
       "    .dataframe tbody tr th:only-of-type {\n",
       "        vertical-align: middle;\n",
       "    }\n",
       "\n",
       "    .dataframe tbody tr th {\n",
       "        vertical-align: top;\n",
       "    }\n",
       "\n",
       "    .dataframe thead th {\n",
       "        text-align: right;\n",
       "    }\n",
       "</style>\n",
       "<table border=\"1\" class=\"dataframe\">\n",
       "  <thead>\n",
       "    <tr style=\"text-align: right;\">\n",
       "      <th></th>\n",
       "      <th>SALE PRICE</th>\n",
       "    </tr>\n",
       "    <tr>\n",
       "      <th>SALE DATE</th>\n",
       "      <th></th>\n",
       "    </tr>\n",
       "  </thead>\n",
       "  <tbody>\n",
       "    <tr>\n",
       "      <th>2020-04-01</th>\n",
       "      <td>434500</td>\n",
       "    </tr>\n",
       "    <tr>\n",
       "      <th>2020-04-01</th>\n",
       "      <td>1150000</td>\n",
       "    </tr>\n",
       "    <tr>\n",
       "      <th>2020-04-01</th>\n",
       "      <td>2500000</td>\n",
       "    </tr>\n",
       "    <tr>\n",
       "      <th>2020-04-01</th>\n",
       "      <td>358000</td>\n",
       "    </tr>\n",
       "    <tr>\n",
       "      <th>2020-04-01</th>\n",
       "      <td>720000</td>\n",
       "    </tr>\n",
       "    <tr>\n",
       "      <th>...</th>\n",
       "      <td>...</td>\n",
       "    </tr>\n",
       "    <tr>\n",
       "      <th>2021-03-31</th>\n",
       "      <td>370000</td>\n",
       "    </tr>\n",
       "    <tr>\n",
       "      <th>2021-03-31</th>\n",
       "      <td>773800</td>\n",
       "    </tr>\n",
       "    <tr>\n",
       "      <th>2021-03-31</th>\n",
       "      <td>167600</td>\n",
       "    </tr>\n",
       "    <tr>\n",
       "      <th>2021-03-31</th>\n",
       "      <td>425000</td>\n",
       "    </tr>\n",
       "    <tr>\n",
       "      <th>2021-03-31</th>\n",
       "      <td>400000</td>\n",
       "    </tr>\n",
       "  </tbody>\n",
       "</table>\n",
       "<p>13171 rows × 1 columns</p>\n",
       "</div>"
      ],
      "text/plain": [
       "            SALE PRICE\n",
       "SALE DATE             \n",
       "2020-04-01      434500\n",
       "2020-04-01     1150000\n",
       "2020-04-01     2500000\n",
       "2020-04-01      358000\n",
       "2020-04-01      720000\n",
       "...                ...\n",
       "2021-03-31      370000\n",
       "2021-03-31      773800\n",
       "2021-03-31      167600\n",
       "2021-03-31      425000\n",
       "2021-03-31      400000\n",
       "\n",
       "[13171 rows x 1 columns]"
      ]
     },
     "execution_count": 69,
     "metadata": {},
     "output_type": "execute_result"
    }
   ],
   "source": [
    "df_price_date"
   ]
  },
  {
   "cell_type": "code",
   "execution_count": 14,
   "metadata": {},
   "outputs": [],
   "source": [
    "# df_price_date.index.unique"
   ]
  },
  {
   "cell_type": "code",
   "execution_count": 78,
   "metadata": {},
   "outputs": [],
   "source": [
    "#group by day\n",
    "df_price_date = df_price_date.resample('D').mean()"
   ]
  },
  {
   "cell_type": "code",
   "execution_count": 79,
   "metadata": {},
   "outputs": [
    {
     "data": {
      "text/plain": [
       "SALE DATE\n",
       "2020-04-01    False\n",
       "2020-04-02    False\n",
       "2020-04-03    False\n",
       "2020-04-04     True\n",
       "2020-04-05     True\n",
       "              ...  \n",
       "2021-03-27     True\n",
       "2021-03-28     True\n",
       "2021-03-29    False\n",
       "2021-03-30    False\n",
       "2021-03-31    False\n",
       "Freq: D, Name: SALE PRICE, Length: 365, dtype: bool"
      ]
     },
     "execution_count": 79,
     "metadata": {},
     "output_type": "execute_result"
    }
   ],
   "source": [
    "#Here we see that since we resampled by day, there are NaN values for the days that there were no sales due to no sale date, pandas autofilled it with NaN\n",
    "df_price_date['SALE PRICE'].isna()"
   ]
  },
  {
   "cell_type": "code",
   "execution_count": 80,
   "metadata": {},
   "outputs": [],
   "source": [
    "#The values that did not have any sale days where showing up as NaN, so instead I filled it with 0 values.\n",
    "df_price_date['SALE PRICE']=df_price_date['SALE PRICE'].fillna(0)"
   ]
  },
  {
   "cell_type": "code",
   "execution_count": 81,
   "metadata": {},
   "outputs": [],
   "source": [
    "df_price_date.dropna(inplace=True)"
   ]
  },
  {
   "cell_type": "code",
   "execution_count": 82,
   "metadata": {},
   "outputs": [],
   "source": [
    "df_price_date.dropna(inplace=True)"
   ]
  },
  {
   "cell_type": "code",
   "execution_count": 83,
   "metadata": {},
   "outputs": [
    {
     "data": {
      "text/html": [
       "<div>\n",
       "<style scoped>\n",
       "    .dataframe tbody tr th:only-of-type {\n",
       "        vertical-align: middle;\n",
       "    }\n",
       "\n",
       "    .dataframe tbody tr th {\n",
       "        vertical-align: top;\n",
       "    }\n",
       "\n",
       "    .dataframe thead th {\n",
       "        text-align: right;\n",
       "    }\n",
       "</style>\n",
       "<table border=\"1\" class=\"dataframe\">\n",
       "  <thead>\n",
       "    <tr style=\"text-align: right;\">\n",
       "      <th></th>\n",
       "      <th>SALE PRICE</th>\n",
       "    </tr>\n",
       "    <tr>\n",
       "      <th>SALE DATE</th>\n",
       "      <th></th>\n",
       "    </tr>\n",
       "  </thead>\n",
       "  <tbody>\n",
       "    <tr>\n",
       "      <th>2020-04-01</th>\n",
       "      <td>961150.000000</td>\n",
       "    </tr>\n",
       "    <tr>\n",
       "      <th>2020-04-02</th>\n",
       "      <td>753357.142857</td>\n",
       "    </tr>\n",
       "    <tr>\n",
       "      <th>2020-04-03</th>\n",
       "      <td>681724.206897</td>\n",
       "    </tr>\n",
       "    <tr>\n",
       "      <th>2020-04-06</th>\n",
       "      <td>725208.000000</td>\n",
       "    </tr>\n",
       "    <tr>\n",
       "      <th>2020-04-07</th>\n",
       "      <td>630053.736842</td>\n",
       "    </tr>\n",
       "    <tr>\n",
       "      <th>...</th>\n",
       "      <td>...</td>\n",
       "    </tr>\n",
       "    <tr>\n",
       "      <th>2021-03-25</th>\n",
       "      <td>609609.756098</td>\n",
       "    </tr>\n",
       "    <tr>\n",
       "      <th>2021-03-26</th>\n",
       "      <td>652589.285714</td>\n",
       "    </tr>\n",
       "    <tr>\n",
       "      <th>2021-03-29</th>\n",
       "      <td>694114.470588</td>\n",
       "    </tr>\n",
       "    <tr>\n",
       "      <th>2021-03-30</th>\n",
       "      <td>747610.935484</td>\n",
       "    </tr>\n",
       "    <tr>\n",
       "      <th>2021-03-31</th>\n",
       "      <td>602154.750000</td>\n",
       "    </tr>\n",
       "  </tbody>\n",
       "</table>\n",
       "<p>295 rows × 1 columns</p>\n",
       "</div>"
      ],
      "text/plain": [
       "               SALE PRICE\n",
       "SALE DATE                \n",
       "2020-04-01  961150.000000\n",
       "2020-04-02  753357.142857\n",
       "2020-04-03  681724.206897\n",
       "2020-04-06  725208.000000\n",
       "2020-04-07  630053.736842\n",
       "...                   ...\n",
       "2021-03-25  609609.756098\n",
       "2021-03-26  652589.285714\n",
       "2021-03-29  694114.470588\n",
       "2021-03-30  747610.935484\n",
       "2021-03-31  602154.750000\n",
       "\n",
       "[295 rows x 1 columns]"
      ]
     },
     "execution_count": 83,
     "metadata": {},
     "output_type": "execute_result"
    }
   ],
   "source": [
    "#I just get rid of all the 0 values and Nan values for a total of 70 dates gone and then proceed with the decomposition and arma modeling\n",
    "\n",
    "df_price_date.loc[(df_price_date!=0).any(1)]"
   ]
  },
  {
   "cell_type": "code",
   "execution_count": 84,
   "metadata": {},
   "outputs": [
    {
     "data": {
      "text/html": [
       "<div>\n",
       "<style scoped>\n",
       "    .dataframe tbody tr th:only-of-type {\n",
       "        vertical-align: middle;\n",
       "    }\n",
       "\n",
       "    .dataframe tbody tr th {\n",
       "        vertical-align: top;\n",
       "    }\n",
       "\n",
       "    .dataframe thead th {\n",
       "        text-align: right;\n",
       "    }\n",
       "</style>\n",
       "<table border=\"1\" class=\"dataframe\">\n",
       "  <thead>\n",
       "    <tr style=\"text-align: right;\">\n",
       "      <th></th>\n",
       "      <th>SALE PRICE</th>\n",
       "    </tr>\n",
       "    <tr>\n",
       "      <th>SALE DATE</th>\n",
       "      <th></th>\n",
       "    </tr>\n",
       "  </thead>\n",
       "  <tbody>\n",
       "    <tr>\n",
       "      <th>2020-04-01</th>\n",
       "      <td>961150.000000</td>\n",
       "    </tr>\n",
       "    <tr>\n",
       "      <th>2020-04-02</th>\n",
       "      <td>753357.142857</td>\n",
       "    </tr>\n",
       "    <tr>\n",
       "      <th>2020-04-03</th>\n",
       "      <td>681724.206897</td>\n",
       "    </tr>\n",
       "    <tr>\n",
       "      <th>2020-04-04</th>\n",
       "      <td>0.000000</td>\n",
       "    </tr>\n",
       "    <tr>\n",
       "      <th>2020-04-05</th>\n",
       "      <td>0.000000</td>\n",
       "    </tr>\n",
       "    <tr>\n",
       "      <th>...</th>\n",
       "      <td>...</td>\n",
       "    </tr>\n",
       "    <tr>\n",
       "      <th>2021-03-27</th>\n",
       "      <td>0.000000</td>\n",
       "    </tr>\n",
       "    <tr>\n",
       "      <th>2021-03-28</th>\n",
       "      <td>0.000000</td>\n",
       "    </tr>\n",
       "    <tr>\n",
       "      <th>2021-03-29</th>\n",
       "      <td>694114.470588</td>\n",
       "    </tr>\n",
       "    <tr>\n",
       "      <th>2021-03-30</th>\n",
       "      <td>747610.935484</td>\n",
       "    </tr>\n",
       "    <tr>\n",
       "      <th>2021-03-31</th>\n",
       "      <td>602154.750000</td>\n",
       "    </tr>\n",
       "  </tbody>\n",
       "</table>\n",
       "<p>365 rows × 1 columns</p>\n",
       "</div>"
      ],
      "text/plain": [
       "               SALE PRICE\n",
       "SALE DATE                \n",
       "2020-04-01  961150.000000\n",
       "2020-04-02  753357.142857\n",
       "2020-04-03  681724.206897\n",
       "2020-04-04       0.000000\n",
       "2020-04-05       0.000000\n",
       "...                   ...\n",
       "2021-03-27       0.000000\n",
       "2021-03-28       0.000000\n",
       "2021-03-29  694114.470588\n",
       "2021-03-30  747610.935484\n",
       "2021-03-31  602154.750000\n",
       "\n",
       "[365 rows x 1 columns]"
      ]
     },
     "execution_count": 84,
     "metadata": {},
     "output_type": "execute_result"
    }
   ],
   "source": [
    "df_price_date"
   ]
  },
  {
   "cell_type": "code",
   "execution_count": 85,
   "metadata": {},
   "outputs": [],
   "source": [
    "decomposition = seasonal_decompose(df_price_date['SALE PRICE'], model='additive', period=30)\n",
    "observed = decomposition.observed\n",
    "trend = decomposition.trend\n",
    "seasonal = decomposition.seasonal\n",
    "residual = decomposition.resid"
   ]
  },
  {
   "cell_type": "code",
   "execution_count": 86,
   "metadata": {},
   "outputs": [
    {
     "data": {
      "text/html": [
       "<div>\n",
       "<style scoped>\n",
       "    .dataframe tbody tr th:only-of-type {\n",
       "        vertical-align: middle;\n",
       "    }\n",
       "\n",
       "    .dataframe tbody tr th {\n",
       "        vertical-align: top;\n",
       "    }\n",
       "\n",
       "    .dataframe thead th {\n",
       "        text-align: right;\n",
       "    }\n",
       "</style>\n",
       "<table border=\"1\" class=\"dataframe\">\n",
       "  <thead>\n",
       "    <tr style=\"text-align: right;\">\n",
       "      <th></th>\n",
       "      <th>SALE PRICE</th>\n",
       "    </tr>\n",
       "    <tr>\n",
       "      <th>SALE DATE</th>\n",
       "      <th></th>\n",
       "    </tr>\n",
       "  </thead>\n",
       "  <tbody>\n",
       "    <tr>\n",
       "      <th>2020-04-01</th>\n",
       "      <td>961150.000000</td>\n",
       "    </tr>\n",
       "    <tr>\n",
       "      <th>2020-04-02</th>\n",
       "      <td>753357.142857</td>\n",
       "    </tr>\n",
       "    <tr>\n",
       "      <th>2020-04-03</th>\n",
       "      <td>681724.206897</td>\n",
       "    </tr>\n",
       "    <tr>\n",
       "      <th>2020-04-04</th>\n",
       "      <td>0.000000</td>\n",
       "    </tr>\n",
       "    <tr>\n",
       "      <th>2020-04-05</th>\n",
       "      <td>0.000000</td>\n",
       "    </tr>\n",
       "    <tr>\n",
       "      <th>...</th>\n",
       "      <td>...</td>\n",
       "    </tr>\n",
       "    <tr>\n",
       "      <th>2021-03-27</th>\n",
       "      <td>0.000000</td>\n",
       "    </tr>\n",
       "    <tr>\n",
       "      <th>2021-03-28</th>\n",
       "      <td>0.000000</td>\n",
       "    </tr>\n",
       "    <tr>\n",
       "      <th>2021-03-29</th>\n",
       "      <td>694114.470588</td>\n",
       "    </tr>\n",
       "    <tr>\n",
       "      <th>2021-03-30</th>\n",
       "      <td>747610.935484</td>\n",
       "    </tr>\n",
       "    <tr>\n",
       "      <th>2021-03-31</th>\n",
       "      <td>602154.750000</td>\n",
       "    </tr>\n",
       "  </tbody>\n",
       "</table>\n",
       "<p>365 rows × 1 columns</p>\n",
       "</div>"
      ],
      "text/plain": [
       "               SALE PRICE\n",
       "SALE DATE                \n",
       "2020-04-01  961150.000000\n",
       "2020-04-02  753357.142857\n",
       "2020-04-03  681724.206897\n",
       "2020-04-04       0.000000\n",
       "2020-04-05       0.000000\n",
       "...                   ...\n",
       "2021-03-27       0.000000\n",
       "2021-03-28       0.000000\n",
       "2021-03-29  694114.470588\n",
       "2021-03-30  747610.935484\n",
       "2021-03-31  602154.750000\n",
       "\n",
       "[365 rows x 1 columns]"
      ]
     },
     "execution_count": 86,
     "metadata": {},
     "output_type": "execute_result"
    }
   ],
   "source": [
    "df_price_date"
   ]
  },
  {
   "cell_type": "code",
   "execution_count": 87,
   "metadata": {},
   "outputs": [],
   "source": [
    "register_matplotlib_converters()"
   ]
  },
  {
   "cell_type": "code",
   "execution_count": 88,
   "metadata": {},
   "outputs": [
    {
     "data": {
      "image/png": "[encoded data removed]",
      "text/plain": [
       "<Figure size 1440x720 with 4 Axes>"
      ]
     },
     "metadata": {
      "needs_background": "light"
     },
     "output_type": "display_data"
    }
   ],
   "source": [
    "plt.figure(figsize=(20,10))\n",
    "plt.subplot(411)\n",
    "plt.plot(observed, label='Original', color=\"blue\")\n",
    "plt.legend(loc='upper left')\n",
    "plt.subplot(412)\n",
    "plt.plot(trend, label='Trend', color=\"blue\")\n",
    "plt.legend(loc='upper left')\n",
    "plt.subplot(413)\n",
    "plt.plot(seasonal,label='Seasonality', color=\"blue\")\n",
    "plt.legend(loc='upper left')\n",
    "plt.subplot(414)\n",
    "plt.plot(residual, label='Residuals', color=\"blue\")\n",
    "plt.legend(loc='upper left')\n",
    "plt.tight_layout()"
   ]
  },
  {
   "cell_type": "code",
   "execution_count": 75,
   "metadata": {},
   "outputs": [],
   "source": [
    "decomposition = seasonal_decompose(df['SALE PRICE'], model='additive', period=12)\n",
    "observed = decomposition.observed\n",
    "trend = decomposition.trend\n",
    "seasonal = decomposition.seasonal\n",
    "residual = decomposition.resid"
   ]
  },
  {
   "cell_type": "code",
   "execution_count": 76,
   "metadata": {},
   "outputs": [],
   "source": [
    "register_matplotlib_converters()"
   ]
  },
  {
   "cell_type": "code",
   "execution_count": 77,
   "metadata": {},
   "outputs": [
    {
     "data": {
      "image/png": "[encoded data removed]",
      "text/plain": [
       "<Figure size 1440x720 with 4 Axes>"
      ]
     },
     "metadata": {
      "needs_background": "light"
     },
     "output_type": "display_data"
    }
   ],
   "source": [
    "plt.figure(figsize=(20,10))\n",
    "plt.subplot(411)\n",
    "plt.plot(observed, label='Original', color=\"blue\")\n",
    "plt.legend(loc='upper left')\n",
    "plt.subplot(412)\n",
    "plt.plot(trend, label='Trend', color=\"blue\")\n",
    "plt.legend(loc='upper left')\n",
    "plt.subplot(413)\n",
    "plt.plot(seasonal,label='Seasonality', color=\"blue\")\n",
    "plt.legend(loc='upper left')\n",
    "plt.subplot(414)\n",
    "plt.plot(residual, label='Residuals', color=\"blue\")\n",
    "plt.legend(loc='upper left')\n",
    "plt.tight_layout()"
   ]
  },
  {
   "cell_type": "code",
   "execution_count": 26,
   "metadata": {},
   "outputs": [],
   "source": [
    "# df_price_date['roll_avg'] = df_price_date['SALE PRICE'].rolling(window=5).mean()"
   ]
  },
  {
   "cell_type": "code",
   "execution_count": 27,
   "metadata": {},
   "outputs": [],
   "source": [
    "# df_price_date"
   ]
  },
  {
   "cell_type": "code",
   "execution_count": 28,
   "metadata": {},
   "outputs": [],
   "source": [
    "# plt.figure(figsize=(20, 10))\n",
    "# plt.scatter(df_price_date.index[:365], df_price_date['SALE PRICE'][:365], s=20)\n",
    "# plt.scatter(df_price_date.index[4:365], df_price_date['roll_avg'][4:365], s=20);"
   ]
  },
  {
   "cell_type": "code",
   "execution_count": 29,
   "metadata": {},
   "outputs": [],
   "source": [
    "# lr = LinearRegression()\n",
    "# lr.fit(df_price_date[['roll_avg']][4:], df_price_date['SALE PRICE'][4:])"
   ]
  },
  {
   "cell_type": "code",
   "execution_count": 30,
   "metadata": {},
   "outputs": [],
   "source": [
    "# plt.figure(figsize=(20, 10))\n",
    "# plt.plot(df_price_date.index[:265], df_price_date['SALE PRICE'][:265], label='Data')\n",
    "# plt.plot(df_price_date.index[4:265], lr.predict(df_price_date[['roll_avg']][4:265]),\n",
    "#          label='Predicted')\n",
    "# plt.legend();"
   ]
  },
  {
   "cell_type": "code",
   "execution_count": 31,
   "metadata": {},
   "outputs": [
    {
     "name": "stdout",
     "output_type": "stream",
     "text": [
      "(-8.565541911900292, 8.466399684197556e-14, 4, 360, {'1%': -3.448645946352023, '5%': -2.869602139060357, '10%': -2.5710650077160495}, 10680.436655510479)\n",
      "\n",
      "Test Statistic                -8.565542e+00\n",
      "p-value                        8.466400e-14\n",
      "#Lags Used                     4.000000e+00\n",
      "Number of Observations Used    3.600000e+02\n",
      "Critical Value (1%)           -3.448646e+00\n",
      "Critical Value (5%)           -2.869602e+00\n",
      "Critical Value (10%)          -2.571065e+00\n",
      "dtype: float64\n"
     ]
    }
   ],
   "source": [
    "dftest = adfuller(df_price_date['SALE PRICE'])\n",
    "dfoutput = pd.Series(dftest[0:4], index=['Test Statistic','p-value','#Lags Used','Number of Observations Used'])\n",
    "for key,value in dftest[4].items():\n",
    "    dfoutput['Critical Value (%s)'%key] = value\n",
    "print(dftest)\n",
    "print()\n",
    "print(dfoutput)"
   ]
  },
  {
   "cell_type": "code",
   "execution_count": 32,
   "metadata": {},
   "outputs": [
    {
     "data": {
      "text/html": [
       "<div>\n",
       "<style scoped>\n",
       "    .dataframe tbody tr th:only-of-type {\n",
       "        vertical-align: middle;\n",
       "    }\n",
       "\n",
       "    .dataframe tbody tr th {\n",
       "        vertical-align: top;\n",
       "    }\n",
       "\n",
       "    .dataframe thead th {\n",
       "        text-align: right;\n",
       "    }\n",
       "</style>\n",
       "<table border=\"1\" class=\"dataframe\">\n",
       "  <thead>\n",
       "    <tr style=\"text-align: right;\">\n",
       "      <th></th>\n",
       "      <th>SALE PRICE</th>\n",
       "    </tr>\n",
       "  </thead>\n",
       "  <tbody>\n",
       "    <tr>\n",
       "      <th>0</th>\n",
       "      <td>231813.434783</td>\n",
       "    </tr>\n",
       "    <tr>\n",
       "      <th>1</th>\n",
       "      <td>130526.357143</td>\n",
       "    </tr>\n",
       "    <tr>\n",
       "      <th>2</th>\n",
       "      <td>433924.859770</td>\n",
       "    </tr>\n",
       "    <tr>\n",
       "      <th>3</th>\n",
       "      <td>703075.894737</td>\n",
       "    </tr>\n",
       "    <tr>\n",
       "      <th>4</th>\n",
       "      <td>593240.800000</td>\n",
       "    </tr>\n",
       "    <tr>\n",
       "      <th>...</th>\n",
       "      <td>...</td>\n",
       "    </tr>\n",
       "    <tr>\n",
       "      <th>348</th>\n",
       "      <td>-684445.933333</td>\n",
       "    </tr>\n",
       "    <tr>\n",
       "      <th>349</th>\n",
       "      <td>-943197.769231</td>\n",
       "    </tr>\n",
       "    <tr>\n",
       "      <th>350</th>\n",
       "      <td>93707.211968</td>\n",
       "    </tr>\n",
       "    <tr>\n",
       "      <th>351</th>\n",
       "      <td>12246.143031</td>\n",
       "    </tr>\n",
       "    <tr>\n",
       "      <th>352</th>\n",
       "      <td>-12634.504237</td>\n",
       "    </tr>\n",
       "  </tbody>\n",
       "</table>\n",
       "<p>353 rows × 1 columns</p>\n",
       "</div>"
      ],
      "text/plain": [
       "        SALE PRICE\n",
       "0    231813.434783\n",
       "1    130526.357143\n",
       "2    433924.859770\n",
       "3    703075.894737\n",
       "4    593240.800000\n",
       "..             ...\n",
       "348 -684445.933333\n",
       "349 -943197.769231\n",
       "350   93707.211968\n",
       "351   12246.143031\n",
       "352  -12634.504237\n",
       "\n",
       "[353 rows x 1 columns]"
      ]
     },
     "execution_count": 32,
     "metadata": {},
     "output_type": "execute_result"
    }
   ],
   "source": [
    "#differencing to remove seasonality period 12 rolling mean\n",
    "df_price_date_diff= df_price_date.diff(periods=12)\n",
    "df_price_date_diff.dropna(inplace=True)\n",
    "df_price_date_diff.reset_index(drop=True)\n"
   ]
  },
  {
   "cell_type": "code",
   "execution_count": 33,
   "metadata": {},
   "outputs": [],
   "source": [
    "df_price_date = df_price_date - df_price_date_diff"
   ]
  },
  {
   "cell_type": "code",
   "execution_count": 34,
   "metadata": {},
   "outputs": [],
   "source": [
    "df_price_date.dropna(inplace=True)"
   ]
  },
  {
   "cell_type": "code",
   "execution_count": 35,
   "metadata": {},
   "outputs": [
    {
     "name": "stdout",
     "output_type": "stream",
     "text": [
      "(-8.459627641669952, 1.5801689255180333e-13, 4, 348, {'1%': -3.4492815848836296, '5%': -2.8698813715275406, '10%': -2.5712138845950587}, 10321.579392840436)\n",
      "\n",
      "Test Statistic                -8.459628e+00\n",
      "p-value                        1.580169e-13\n",
      "#Lags Used                     4.000000e+00\n",
      "Number of Observations Used    3.480000e+02\n",
      "Critical Value (1%)           -3.449282e+00\n",
      "Critical Value (5%)           -2.869881e+00\n",
      "Critical Value (10%)          -2.571214e+00\n",
      "dtype: float64\n"
     ]
    }
   ],
   "source": [
    "dftest = adfuller(df_price_date['SALE PRICE'])\n",
    "dfoutput = pd.Series(dftest[0:4], index=['Test Statistic','p-value','#Lags Used','Number of Observations Used'])\n",
    "for key,value in dftest[4].items():\n",
    "    dfoutput['Critical Value (%s)'%key] = value\n",
    "print(dftest)\n",
    "print()\n",
    "print(dfoutput)"
   ]
  },
  {
   "cell_type": "code",
   "execution_count": 36,
   "metadata": {},
   "outputs": [
    {
     "data": {
      "image/png": "[encoded data removed]",
      "text/plain": [
       "<Figure size 1080x216 with 1 Axes>"
      ]
     },
     "metadata": {
      "needs_background": "light"
     },
     "output_type": "display_data"
    },
    {
     "data": {
      "image/png": "[encoded data removed]",
      "text/plain": [
       "<Figure size 1080x216 with 1 Axes>"
      ]
     },
     "metadata": {
      "needs_background": "light"
     },
     "output_type": "display_data"
    }
   ],
   "source": [
    "rcParams['figure.figsize'] = 15, 3\n",
    "plot_acf(df_price_date, lags=12, alpha=0.05);\n",
    "\n",
    "rcParams['figure.figsize'] = 15, 3\n",
    "plot_pacf(df_price_date, lags=12, alpha=0.05);"
   ]
  },
  {
   "cell_type": "code",
   "execution_count": 37,
   "metadata": {},
   "outputs": [
    {
     "data": {
      "text/html": [
       "<table class=\"simpletable\">\n",
       "<caption>ARMA Model Results</caption>\n",
       "<tr>\n",
       "  <th>Dep. Variable:</th>    <td>SALE PRICE</td>    <th>  No. Observations:  </th>     <td>353</td>    \n",
       "</tr>\n",
       "<tr>\n",
       "  <th>Model:</th>            <td>ARMA(5, 5)</td>    <th>  Log Likelihood     </th>  <td>-5409.904</td> \n",
       "</tr>\n",
       "<tr>\n",
       "  <th>Method:</th>             <td>css-mle</td>     <th>  S.D. of innovations</th> <td>1078132.039</td>\n",
       "</tr>\n",
       "<tr>\n",
       "  <th>Date:</th>          <td>Fri, 18 Jun 2021</td> <th>  AIC                </th>  <td>10843.808</td> \n",
       "</tr>\n",
       "<tr>\n",
       "  <th>Time:</th>              <td>05:43:45</td>     <th>  BIC                </th>  <td>10890.206</td> \n",
       "</tr>\n",
       "<tr>\n",
       "  <th>Sample:</th>           <td>04-13-2020</td>    <th>  HQIC               </th>  <td>10862.270</td> \n",
       "</tr>\n",
       "<tr>\n",
       "  <th></th>                 <td>- 03-31-2021</td>   <th>                     </th>      <td> </td>     \n",
       "</tr>\n",
       "</table>\n",
       "<table class=\"simpletable\">\n",
       "<tr>\n",
       "          <td></td>            <th>coef</th>     <th>std err</th>      <th>z</th>      <th>P>|z|</th>  <th>[0.025</th>    <th>0.975]</th>  \n",
       "</tr>\n",
       "<tr>\n",
       "  <th>const</th>            <td>  7.43e+05</td> <td> 5.98e+04</td> <td>   12.426</td> <td> 0.000</td> <td> 6.26e+05</td> <td>  8.6e+05</td>\n",
       "</tr>\n",
       "<tr>\n",
       "  <th>ar.L1.SALE PRICE</th> <td>   -0.9106</td> <td>    0.038</td> <td>  -23.993</td> <td> 0.000</td> <td>   -0.985</td> <td>   -0.836</td>\n",
       "</tr>\n",
       "<tr>\n",
       "  <th>ar.L2.SALE PRICE</th> <td>   -0.3834</td> <td>    0.026</td> <td>  -14.702</td> <td> 0.000</td> <td>   -0.435</td> <td>   -0.332</td>\n",
       "</tr>\n",
       "<tr>\n",
       "  <th>ar.L3.SALE PRICE</th> <td>   -0.4637</td> <td>    0.019</td> <td>  -24.969</td> <td> 0.000</td> <td>   -0.500</td> <td>   -0.427</td>\n",
       "</tr>\n",
       "<tr>\n",
       "  <th>ar.L4.SALE PRICE</th> <td>   -0.9560</td> <td>    0.031</td> <td>  -31.175</td> <td> 0.000</td> <td>   -1.016</td> <td>   -0.896</td>\n",
       "</tr>\n",
       "<tr>\n",
       "  <th>ar.L5.SALE PRICE</th> <td>   -0.8983</td> <td>    0.031</td> <td>  -28.634</td> <td> 0.000</td> <td>   -0.960</td> <td>   -0.837</td>\n",
       "</tr>\n",
       "<tr>\n",
       "  <th>ma.L1.SALE PRICE</th> <td>    0.9616</td> <td>    0.026</td> <td>   36.317</td> <td> 0.000</td> <td>    0.910</td> <td>    1.013</td>\n",
       "</tr>\n",
       "<tr>\n",
       "  <th>ma.L2.SALE PRICE</th> <td>    0.4417</td> <td>    0.031</td> <td>   14.074</td> <td> 0.000</td> <td>    0.380</td> <td>    0.503</td>\n",
       "</tr>\n",
       "<tr>\n",
       "  <th>ma.L3.SALE PRICE</th> <td>    0.4411</td> <td>    0.035</td> <td>   12.496</td> <td> 0.000</td> <td>    0.372</td> <td>    0.510</td>\n",
       "</tr>\n",
       "<tr>\n",
       "  <th>ma.L4.SALE PRICE</th> <td>    0.9628</td> <td>    0.046</td> <td>   20.919</td> <td> 0.000</td> <td>    0.873</td> <td>    1.053</td>\n",
       "</tr>\n",
       "<tr>\n",
       "  <th>ma.L5.SALE PRICE</th> <td>    0.9989</td> <td>    0.032</td> <td>   30.906</td> <td> 0.000</td> <td>    0.936</td> <td>    1.062</td>\n",
       "</tr>\n",
       "</table>\n",
       "<table class=\"simpletable\">\n",
       "<caption>Roots</caption>\n",
       "<tr>\n",
       "    <td></td>   <th>            Real</th>  <th>         Imaginary</th> <th>         Modulus</th>  <th>        Frequency</th>\n",
       "</tr>\n",
       "<tr>\n",
       "  <th>AR.1</th> <td>           0.6241</td> <td>          -0.7814j</td> <td>           1.0001</td> <td>          -0.1427</td>\n",
       "</tr>\n",
       "<tr>\n",
       "  <th>AR.2</th> <td>           0.6241</td> <td>          +0.7814j</td> <td>           1.0001</td> <td>           0.1427</td>\n",
       "</tr>\n",
       "<tr>\n",
       "  <th>AR.3</th> <td>          -0.6419</td> <td>          -0.8185j</td> <td>           1.0402</td> <td>          -0.3558</td>\n",
       "</tr>\n",
       "<tr>\n",
       "  <th>AR.4</th> <td>          -0.6419</td> <td>          +0.8185j</td> <td>           1.0402</td> <td>           0.3558</td>\n",
       "</tr>\n",
       "<tr>\n",
       "  <th>AR.5</th> <td>          -1.0287</td> <td>          -0.0000j</td> <td>           1.0287</td> <td>          -0.5000</td>\n",
       "</tr>\n",
       "<tr>\n",
       "  <th>MA.1</th> <td>           0.6260</td> <td>          -0.7798j</td> <td>           1.0000</td> <td>          -0.1423</td>\n",
       "</tr>\n",
       "<tr>\n",
       "  <th>MA.2</th> <td>           0.6260</td> <td>          +0.7798j</td> <td>           1.0000</td> <td>           0.1423</td>\n",
       "</tr>\n",
       "<tr>\n",
       "  <th>MA.3</th> <td>          -0.6074</td> <td>          -0.7944j</td> <td>           1.0000</td> <td>          -0.3539</td>\n",
       "</tr>\n",
       "<tr>\n",
       "  <th>MA.4</th> <td>          -0.6074</td> <td>          +0.7944j</td> <td>           1.0000</td> <td>           0.3539</td>\n",
       "</tr>\n",
       "<tr>\n",
       "  <th>MA.5</th> <td>          -1.0011</td> <td>          -0.0000j</td> <td>           1.0011</td> <td>          -0.5000</td>\n",
       "</tr>\n",
       "</table>"
      ],
      "text/plain": [
       "<class 'statsmodels.iolib.summary.Summary'>\n",
       "\"\"\"\n",
       "                              ARMA Model Results                              \n",
       "==============================================================================\n",
       "Dep. Variable:             SALE PRICE   No. Observations:                  353\n",
       "Model:                     ARMA(5, 5)   Log Likelihood               -5409.904\n",
       "Method:                       css-mle   S.D. of innovations        1078132.039\n",
       "Date:                Fri, 18 Jun 2021   AIC                          10843.808\n",
       "Time:                        05:43:45   BIC                          10890.206\n",
       "Sample:                    04-13-2020   HQIC                         10862.270\n",
       "                         - 03-31-2021                                         \n",
       "====================================================================================\n",
       "                       coef    std err          z      P>|z|      [0.025      0.975]\n",
       "------------------------------------------------------------------------------------\n",
       "const              7.43e+05   5.98e+04     12.426      0.000    6.26e+05     8.6e+05\n",
       "ar.L1.SALE PRICE    -0.9106      0.038    -23.993      0.000      -0.985      -0.836\n",
       "ar.L2.SALE PRICE    -0.3834      0.026    -14.702      0.000      -0.435      -0.332\n",
       "ar.L3.SALE PRICE    -0.4637      0.019    -24.969      0.000      -0.500      -0.427\n",
       "ar.L4.SALE PRICE    -0.9560      0.031    -31.175      0.000      -1.016      -0.896\n",
       "ar.L5.SALE PRICE    -0.8983      0.031    -28.634      0.000      -0.960      -0.837\n",
       "ma.L1.SALE PRICE     0.9616      0.026     36.317      0.000       0.910       1.013\n",
       "ma.L2.SALE PRICE     0.4417      0.031     14.074      0.000       0.380       0.503\n",
       "ma.L3.SALE PRICE     0.4411      0.035     12.496      0.000       0.372       0.510\n",
       "ma.L4.SALE PRICE     0.9628      0.046     20.919      0.000       0.873       1.053\n",
       "ma.L5.SALE PRICE     0.9989      0.032     30.906      0.000       0.936       1.062\n",
       "                                    Roots                                    \n",
       "=============================================================================\n",
       "                  Real          Imaginary           Modulus         Frequency\n",
       "-----------------------------------------------------------------------------\n",
       "AR.1            0.6241           -0.7814j            1.0001           -0.1427\n",
       "AR.2            0.6241           +0.7814j            1.0001            0.1427\n",
       "AR.3           -0.6419           -0.8185j            1.0402           -0.3558\n",
       "AR.4           -0.6419           +0.8185j            1.0402            0.3558\n",
       "AR.5           -1.0287           -0.0000j            1.0287           -0.5000\n",
       "MA.1            0.6260           -0.7798j            1.0000           -0.1423\n",
       "MA.2            0.6260           +0.7798j            1.0000            0.1423\n",
       "MA.3           -0.6074           -0.7944j            1.0000           -0.3539\n",
       "MA.4           -0.6074           +0.7944j            1.0000            0.3539\n",
       "MA.5           -1.0011           -0.0000j            1.0011           -0.5000\n",
       "-----------------------------------------------------------------------------\n",
       "\"\"\""
      ]
     },
     "execution_count": 37,
     "metadata": {},
     "output_type": "execute_result"
    }
   ],
   "source": [
    "# Instantiate & fit model with statsmodels\n",
    "#p = num lags - ACF\n",
    "#about 2/3 of the way between 25 and 50, 2/3 of 25 is roughly 17. Ill say 25 + 17 = 42\n",
    "p = 5\n",
    "\n",
    " # q = lagged forecast errors - PACF\n",
    "    \n",
    "q = 5\n",
    "\n",
    "\n",
    "# Fitting ARMA model and summary\n",
    "ar = ARMA(df_price_date,(p, q)).fit()\n",
    "ar.summary()"
   ]
  },
  {
   "cell_type": "code",
   "execution_count": 38,
   "metadata": {},
   "outputs": [
    {
     "data": {
      "text/plain": [
       "0.10605085056277352"
      ]
     },
     "execution_count": 38,
     "metadata": {},
     "output_type": "execute_result"
    }
   ],
   "source": [
    "r2_score(df_price_date, ar.predict())"
   ]
  },
  {
   "cell_type": "code",
   "execution_count": 39,
   "metadata": {},
   "outputs": [
    {
     "data": {
      "text/plain": [
       "DatetimeIndex(['2020-04-13', '2020-04-14', '2020-04-15', '2020-04-16',\n",
       "               '2020-04-17', '2020-04-18', '2020-04-19', '2020-04-20',\n",
       "               '2020-04-21', '2020-04-22',\n",
       "               ...\n",
       "               '2021-03-22', '2021-03-23', '2021-03-24', '2021-03-25',\n",
       "               '2021-03-26', '2021-03-27', '2021-03-28', '2021-03-29',\n",
       "               '2021-03-30', '2021-03-31'],\n",
       "              dtype='datetime64[ns]', name='SALE DATE', length=353, freq=None)"
      ]
     },
     "execution_count": 39,
     "metadata": {},
     "output_type": "execute_result"
    }
   ],
   "source": [
    "df_price_date.index.unique()"
   ]
  },
  {
   "cell_type": "code",
   "execution_count": 40,
   "metadata": {},
   "outputs": [
    {
     "ename": "KeyError",
     "evalue": "'The `start` argument could not be matched to a location related to the index of the data.'",
     "output_type": "error",
     "traceback": [
      "\u001b[1;31m---------------------------------------------------------------------------\u001b[0m",
      "\u001b[1;31mKeyError\u001b[0m                                  Traceback (most recent call last)",
      "\u001b[1;32mpandas\\_libs\\index.pyx\u001b[0m in \u001b[0;36mpandas._libs.index.DatetimeEngine.get_loc\u001b[1;34m()\u001b[0m\n",
      "\u001b[1;32mpandas\\_libs\\hashtable_class_helper.pxi\u001b[0m in \u001b[0;36mpandas._libs.hashtable.Int64HashTable.get_item\u001b[1;34m()\u001b[0m\n",
      "\u001b[1;32mpandas\\_libs\\hashtable_class_helper.pxi\u001b[0m in \u001b[0;36mpandas._libs.hashtable.Int64HashTable.get_item\u001b[1;34m()\u001b[0m\n",
      "\u001b[1;31mKeyError\u001b[0m: 1585699200000000000",
      "\nDuring handling of the above exception, another exception occurred:\n",
      "\u001b[1;31mKeyError\u001b[0m                                  Traceback (most recent call last)",
      "\u001b[1;32m~\\anaconda3\\envs\\learn-env\\lib\\site-packages\\pandas\\core\\indexes\\base.py\u001b[0m in \u001b[0;36mget_loc\u001b[1;34m(self, key, method, tolerance)\u001b[0m\n\u001b[0;32m   2894\u001b[0m             \u001b[1;32mtry\u001b[0m\u001b[1;33m:\u001b[0m\u001b[1;33m\u001b[0m\u001b[1;33m\u001b[0m\u001b[0m\n\u001b[1;32m-> 2895\u001b[1;33m                 \u001b[1;32mreturn\u001b[0m \u001b[0mself\u001b[0m\u001b[1;33m.\u001b[0m\u001b[0m_engine\u001b[0m\u001b[1;33m.\u001b[0m\u001b[0mget_loc\u001b[0m\u001b[1;33m(\u001b[0m\u001b[0mcasted_key\u001b[0m\u001b[1;33m)\u001b[0m\u001b[1;33m\u001b[0m\u001b[1;33m\u001b[0m\u001b[0m\n\u001b[0m\u001b[0;32m   2896\u001b[0m             \u001b[1;32mexcept\u001b[0m \u001b[0mKeyError\u001b[0m \u001b[1;32mas\u001b[0m \u001b[0merr\u001b[0m\u001b[1;33m:\u001b[0m\u001b[1;33m\u001b[0m\u001b[1;33m\u001b[0m\u001b[0m\n",
      "\u001b[1;32mpandas\\_libs\\index.pyx\u001b[0m in \u001b[0;36mpandas._libs.index.DatetimeEngine.get_loc\u001b[1;34m()\u001b[0m\n",
      "\u001b[1;32mpandas\\_libs\\index.pyx\u001b[0m in \u001b[0;36mpandas._libs.index.DatetimeEngine.get_loc\u001b[1;34m()\u001b[0m\n",
      "\u001b[1;31mKeyError\u001b[0m: Timestamp('2020-04-01 00:00:00')",
      "\nThe above exception was the direct cause of the following exception:\n",
      "\u001b[1;31mKeyError\u001b[0m                                  Traceback (most recent call last)",
      "\u001b[1;32m~\\anaconda3\\envs\\learn-env\\lib\\site-packages\\pandas\\core\\indexes\\datetimes.py\u001b[0m in \u001b[0;36mget_loc\u001b[1;34m(self, key, method, tolerance)\u001b[0m\n\u001b[0;32m    624\u001b[0m         \u001b[1;32mtry\u001b[0m\u001b[1;33m:\u001b[0m\u001b[1;33m\u001b[0m\u001b[1;33m\u001b[0m\u001b[0m\n\u001b[1;32m--> 625\u001b[1;33m             \u001b[1;32mreturn\u001b[0m \u001b[0mIndex\u001b[0m\u001b[1;33m.\u001b[0m\u001b[0mget_loc\u001b[0m\u001b[1;33m(\u001b[0m\u001b[0mself\u001b[0m\u001b[1;33m,\u001b[0m \u001b[0mkey\u001b[0m\u001b[1;33m,\u001b[0m \u001b[0mmethod\u001b[0m\u001b[1;33m,\u001b[0m \u001b[0mtolerance\u001b[0m\u001b[1;33m)\u001b[0m\u001b[1;33m\u001b[0m\u001b[1;33m\u001b[0m\u001b[0m\n\u001b[0m\u001b[0;32m    626\u001b[0m         \u001b[1;32mexcept\u001b[0m \u001b[0mKeyError\u001b[0m \u001b[1;32mas\u001b[0m \u001b[0merr\u001b[0m\u001b[1;33m:\u001b[0m\u001b[1;33m\u001b[0m\u001b[1;33m\u001b[0m\u001b[0m\n",
      "\u001b[1;32m~\\anaconda3\\envs\\learn-env\\lib\\site-packages\\pandas\\core\\indexes\\base.py\u001b[0m in \u001b[0;36mget_loc\u001b[1;34m(self, key, method, tolerance)\u001b[0m\n\u001b[0;32m   2896\u001b[0m             \u001b[1;32mexcept\u001b[0m \u001b[0mKeyError\u001b[0m \u001b[1;32mas\u001b[0m \u001b[0merr\u001b[0m\u001b[1;33m:\u001b[0m\u001b[1;33m\u001b[0m\u001b[1;33m\u001b[0m\u001b[0m\n\u001b[1;32m-> 2897\u001b[1;33m                 \u001b[1;32mraise\u001b[0m \u001b[0mKeyError\u001b[0m\u001b[1;33m(\u001b[0m\u001b[0mkey\u001b[0m\u001b[1;33m)\u001b[0m \u001b[1;32mfrom\u001b[0m \u001b[0merr\u001b[0m\u001b[1;33m\u001b[0m\u001b[1;33m\u001b[0m\u001b[0m\n\u001b[0m\u001b[0;32m   2898\u001b[0m \u001b[1;33m\u001b[0m\u001b[0m\n",
      "\u001b[1;31mKeyError\u001b[0m: Timestamp('2020-04-01 00:00:00')",
      "\nThe above exception was the direct cause of the following exception:\n",
      "\u001b[1;31mKeyError\u001b[0m                                  Traceback (most recent call last)",
      "\u001b[1;32m~\\anaconda3\\envs\\learn-env\\lib\\site-packages\\statsmodels\\tsa\\base\\tsa_model.py\u001b[0m in \u001b[0;36mget_prediction_index\u001b[1;34m(start, end, nobs, base_index, index, silent, index_none, index_generated, data)\u001b[0m\n\u001b[0;32m    323\u001b[0m     \u001b[1;32mtry\u001b[0m\u001b[1;33m:\u001b[0m\u001b[1;33m\u001b[0m\u001b[1;33m\u001b[0m\u001b[0m\n\u001b[1;32m--> 324\u001b[1;33m         \u001b[0mstart\u001b[0m\u001b[1;33m,\u001b[0m \u001b[0m_\u001b[0m\u001b[1;33m,\u001b[0m \u001b[0mstart_oos\u001b[0m \u001b[1;33m=\u001b[0m \u001b[0mget_index_label_loc\u001b[0m\u001b[1;33m(\u001b[0m\u001b[0mstart\u001b[0m\u001b[1;33m,\u001b[0m \u001b[0mbase_index\u001b[0m\u001b[1;33m,\u001b[0m \u001b[0mdata\u001b[0m\u001b[1;33m.\u001b[0m\u001b[0mrow_labels\u001b[0m\u001b[1;33m)\u001b[0m\u001b[1;33m\u001b[0m\u001b[1;33m\u001b[0m\u001b[0m\n\u001b[0m\u001b[0;32m    325\u001b[0m     \u001b[1;32mexcept\u001b[0m \u001b[0mKeyError\u001b[0m\u001b[1;33m:\u001b[0m\u001b[1;33m\u001b[0m\u001b[1;33m\u001b[0m\u001b[0m\n",
      "\u001b[1;32m~\\anaconda3\\envs\\learn-env\\lib\\site-packages\\statsmodels\\tsa\\base\\tsa_model.py\u001b[0m in \u001b[0;36mget_index_label_loc\u001b[1;34m(key, index, row_labels)\u001b[0m\n\u001b[0;32m    255\u001b[0m         \u001b[1;32mexcept\u001b[0m\u001b[1;33m:\u001b[0m\u001b[1;33m\u001b[0m\u001b[1;33m\u001b[0m\u001b[0m\n\u001b[1;32m--> 256\u001b[1;33m             \u001b[1;32mraise\u001b[0m \u001b[0me\u001b[0m\u001b[1;33m\u001b[0m\u001b[1;33m\u001b[0m\u001b[0m\n\u001b[0m\u001b[0;32m    257\u001b[0m     \u001b[1;32mreturn\u001b[0m \u001b[0mloc\u001b[0m\u001b[1;33m,\u001b[0m \u001b[0mindex\u001b[0m\u001b[1;33m,\u001b[0m \u001b[0mindex_was_expanded\u001b[0m\u001b[1;33m\u001b[0m\u001b[1;33m\u001b[0m\u001b[0m\n",
      "\u001b[1;32m~\\anaconda3\\envs\\learn-env\\lib\\site-packages\\statsmodels\\tsa\\base\\tsa_model.py\u001b[0m in \u001b[0;36mget_index_label_loc\u001b[1;34m(key, index, row_labels)\u001b[0m\n\u001b[0;32m    219\u001b[0m     \u001b[1;32mtry\u001b[0m\u001b[1;33m:\u001b[0m\u001b[1;33m\u001b[0m\u001b[1;33m\u001b[0m\u001b[0m\n\u001b[1;32m--> 220\u001b[1;33m         \u001b[0mloc\u001b[0m\u001b[1;33m,\u001b[0m \u001b[0mindex\u001b[0m\u001b[1;33m,\u001b[0m \u001b[0mindex_was_expanded\u001b[0m \u001b[1;33m=\u001b[0m \u001b[0mget_index_loc\u001b[0m\u001b[1;33m(\u001b[0m\u001b[0mkey\u001b[0m\u001b[1;33m,\u001b[0m \u001b[0mindex\u001b[0m\u001b[1;33m)\u001b[0m\u001b[1;33m\u001b[0m\u001b[1;33m\u001b[0m\u001b[0m\n\u001b[0m\u001b[0;32m    221\u001b[0m     \u001b[1;32mexcept\u001b[0m \u001b[0mKeyError\u001b[0m \u001b[1;32mas\u001b[0m \u001b[0me\u001b[0m\u001b[1;33m:\u001b[0m\u001b[1;33m\u001b[0m\u001b[1;33m\u001b[0m\u001b[0m\n",
      "\u001b[1;32m~\\anaconda3\\envs\\learn-env\\lib\\site-packages\\statsmodels\\tsa\\base\\tsa_model.py\u001b[0m in \u001b[0;36mget_index_loc\u001b[1;34m(key, index)\u001b[0m\n\u001b[0;32m    152\u001b[0m         \u001b[1;31m# (note that get_loc will throw a KeyError if key is invalid)\u001b[0m\u001b[1;33m\u001b[0m\u001b[1;33m\u001b[0m\u001b[1;33m\u001b[0m\u001b[0m\n\u001b[1;32m--> 153\u001b[1;33m         \u001b[0mloc\u001b[0m \u001b[1;33m=\u001b[0m \u001b[0mindex\u001b[0m\u001b[1;33m.\u001b[0m\u001b[0mget_loc\u001b[0m\u001b[1;33m(\u001b[0m\u001b[0mkey\u001b[0m\u001b[1;33m)\u001b[0m\u001b[1;33m\u001b[0m\u001b[1;33m\u001b[0m\u001b[0m\n\u001b[0m\u001b[0;32m    154\u001b[0m     \u001b[1;32melif\u001b[0m \u001b[0mint_index\u001b[0m \u001b[1;32mor\u001b[0m \u001b[0mrange_index\u001b[0m\u001b[1;33m:\u001b[0m\u001b[1;33m\u001b[0m\u001b[1;33m\u001b[0m\u001b[0m\n",
      "\u001b[1;32m~\\anaconda3\\envs\\learn-env\\lib\\site-packages\\pandas\\core\\indexes\\datetimes.py\u001b[0m in \u001b[0;36mget_loc\u001b[1;34m(self, key, method, tolerance)\u001b[0m\n\u001b[0;32m    626\u001b[0m         \u001b[1;32mexcept\u001b[0m \u001b[0mKeyError\u001b[0m \u001b[1;32mas\u001b[0m \u001b[0merr\u001b[0m\u001b[1;33m:\u001b[0m\u001b[1;33m\u001b[0m\u001b[1;33m\u001b[0m\u001b[0m\n\u001b[1;32m--> 627\u001b[1;33m             \u001b[1;32mraise\u001b[0m \u001b[0mKeyError\u001b[0m\u001b[1;33m(\u001b[0m\u001b[0morig_key\u001b[0m\u001b[1;33m)\u001b[0m \u001b[1;32mfrom\u001b[0m \u001b[0merr\u001b[0m\u001b[1;33m\u001b[0m\u001b[1;33m\u001b[0m\u001b[0m\n\u001b[0m\u001b[0;32m    628\u001b[0m \u001b[1;33m\u001b[0m\u001b[0m\n",
      "\u001b[1;31mKeyError\u001b[0m: '2020-04-01'",
      "\nDuring handling of the above exception, another exception occurred:\n",
      "\u001b[1;31mKeyError\u001b[0m                                  Traceback (most recent call last)",
      "\u001b[1;32m<ipython-input-40-0240ce8b586a>\u001b[0m in \u001b[0;36m<module>\u001b[1;34m\u001b[0m\n\u001b[0;32m      2\u001b[0m \u001b[0mfig\u001b[0m\u001b[1;33m,\u001b[0m \u001b[0max\u001b[0m \u001b[1;33m=\u001b[0m \u001b[0mplt\u001b[0m\u001b[1;33m.\u001b[0m\u001b[0msubplots\u001b[0m\u001b[1;33m(\u001b[0m\u001b[1;33m)\u001b[0m\u001b[1;33m\u001b[0m\u001b[1;33m\u001b[0m\u001b[0m\n\u001b[0;32m      3\u001b[0m \u001b[0max\u001b[0m \u001b[1;33m=\u001b[0m \u001b[0mdf_price_date\u001b[0m\u001b[1;33m.\u001b[0m\u001b[0mplot\u001b[0m\u001b[1;33m(\u001b[0m\u001b[0max\u001b[0m\u001b[1;33m=\u001b[0m\u001b[0max\u001b[0m\u001b[1;33m,\u001b[0m \u001b[0mtitle\u001b[0m\u001b[1;33m=\u001b[0m\u001b[1;34m'FORECAST'\u001b[0m\u001b[1;33m)\u001b[0m\u001b[1;33m\u001b[0m\u001b[1;33m\u001b[0m\u001b[0m\n\u001b[1;32m----> 4\u001b[1;33m \u001b[0mfig\u001b[0m \u001b[1;33m=\u001b[0m \u001b[0mar\u001b[0m\u001b[1;33m.\u001b[0m\u001b[0mplot_predict\u001b[0m\u001b[1;33m(\u001b[0m\u001b[1;34m'2020-04-01'\u001b[0m\u001b[1;33m,\u001b[0m \u001b[1;34m'2021-06-01'\u001b[0m\u001b[1;33m,\u001b[0m \u001b[0mdynamic\u001b[0m\u001b[1;33m=\u001b[0m\u001b[1;32mTrue\u001b[0m\u001b[1;33m,\u001b[0m \u001b[0max\u001b[0m\u001b[1;33m=\u001b[0m\u001b[0max\u001b[0m\u001b[1;33m,\u001b[0m \u001b[0mplot_insample\u001b[0m\u001b[1;33m=\u001b[0m\u001b[1;32mFalse\u001b[0m\u001b[1;33m)\u001b[0m\u001b[1;33m\u001b[0m\u001b[1;33m\u001b[0m\u001b[0m\n\u001b[0m\u001b[0;32m      5\u001b[0m \u001b[0mplt\u001b[0m\u001b[1;33m.\u001b[0m\u001b[0mshow\u001b[0m\u001b[1;33m(\u001b[0m\u001b[1;33m)\u001b[0m\u001b[1;33m\u001b[0m\u001b[1;33m\u001b[0m\u001b[0m\n",
      "\u001b[1;32m~\\anaconda3\\envs\\learn-env\\lib\\site-packages\\statsmodels\\tsa\\arima_model.py\u001b[0m in \u001b[0;36mplot_predict\u001b[1;34m(self, start, end, exog, dynamic, alpha, plot_insample, ax)\u001b[0m\n\u001b[0;32m   1839\u001b[0m \u001b[1;33m\u001b[0m\u001b[0m\n\u001b[0;32m   1840\u001b[0m         \u001b[1;31m# use predict so you set dates\u001b[0m\u001b[1;33m\u001b[0m\u001b[1;33m\u001b[0m\u001b[1;33m\u001b[0m\u001b[0m\n\u001b[1;32m-> 1841\u001b[1;33m         \u001b[0mforecast\u001b[0m \u001b[1;33m=\u001b[0m \u001b[0mself\u001b[0m\u001b[1;33m.\u001b[0m\u001b[0mpredict\u001b[0m\u001b[1;33m(\u001b[0m\u001b[0mstart\u001b[0m\u001b[1;33m,\u001b[0m \u001b[0mend\u001b[0m\u001b[1;33m,\u001b[0m \u001b[0mexog\u001b[0m\u001b[1;33m,\u001b[0m \u001b[0mdynamic\u001b[0m\u001b[1;33m)\u001b[0m\u001b[1;33m\u001b[0m\u001b[1;33m\u001b[0m\u001b[0m\n\u001b[0m\u001b[0;32m   1842\u001b[0m         \u001b[1;31m# doing this twice. just add a plot keyword to predict?\u001b[0m\u001b[1;33m\u001b[0m\u001b[1;33m\u001b[0m\u001b[1;33m\u001b[0m\u001b[0m\n\u001b[0;32m   1843\u001b[0m         start, end, out_of_sample, _ = (\n",
      "\u001b[1;32m~\\anaconda3\\envs\\learn-env\\lib\\site-packages\\statsmodels\\tsa\\arima_model.py\u001b[0m in \u001b[0;36mpredict\u001b[1;34m(self, start, end, exog, dynamic, **kwargs)\u001b[0m\n\u001b[0;32m   1562\u001b[0m     def predict(self, start=None, end=None, exog=None, dynamic=False,\n\u001b[0;32m   1563\u001b[0m                 **kwargs):\n\u001b[1;32m-> 1564\u001b[1;33m         return self.model.predict(self.params, start, end, exog, dynamic,\n\u001b[0m\u001b[0;32m   1565\u001b[0m                                   **kwargs)\n\u001b[0;32m   1566\u001b[0m \u001b[1;33m\u001b[0m\u001b[0m\n",
      "\u001b[1;32m~\\anaconda3\\envs\\learn-env\\lib\\site-packages\\statsmodels\\tsa\\arima_model.py\u001b[0m in \u001b[0;36mpredict\u001b[1;34m(self, params, start, end, exog, dynamic, **kwargs)\u001b[0m\n\u001b[0;32m    766\u001b[0m         \u001b[1;31m# will return an index of a date\u001b[0m\u001b[1;33m\u001b[0m\u001b[1;33m\u001b[0m\u001b[1;33m\u001b[0m\u001b[0m\n\u001b[0;32m    767\u001b[0m         start, end, out_of_sample, _ = (\n\u001b[1;32m--> 768\u001b[1;33m             self._get_prediction_index(start, end, dynamic))\n\u001b[0m\u001b[0;32m    769\u001b[0m \u001b[1;33m\u001b[0m\u001b[0m\n\u001b[0;32m    770\u001b[0m         \u001b[1;32mif\u001b[0m \u001b[0mout_of_sample\u001b[0m \u001b[1;32mand\u001b[0m \u001b[1;33m(\u001b[0m\u001b[0mexog\u001b[0m \u001b[1;32mis\u001b[0m \u001b[1;32mNone\u001b[0m \u001b[1;32mand\u001b[0m \u001b[0mself\u001b[0m\u001b[1;33m.\u001b[0m\u001b[0mk_exog\u001b[0m \u001b[1;33m>\u001b[0m \u001b[1;36m0\u001b[0m\u001b[1;33m)\u001b[0m\u001b[1;33m:\u001b[0m\u001b[1;33m\u001b[0m\u001b[1;33m\u001b[0m\u001b[0m\n",
      "\u001b[1;32m~\\anaconda3\\envs\\learn-env\\lib\\site-packages\\statsmodels\\tsa\\arima_model.py\u001b[0m in \u001b[0;36m_get_prediction_index\u001b[1;34m(self, start, end, dynamic, index)\u001b[0m\n\u001b[0;32m    695\u001b[0m \u001b[1;33m\u001b[0m\u001b[0m\n\u001b[0;32m    696\u001b[0m         start, end, out_of_sample, prediction_index = (\n\u001b[1;32m--> 697\u001b[1;33m             super(ARMA, self)._get_prediction_index(start, end, index))\n\u001b[0m\u001b[0;32m    698\u001b[0m \u001b[1;33m\u001b[0m\u001b[0m\n\u001b[0;32m    699\u001b[0m         \u001b[1;31m# This replaces the _validate() call\u001b[0m\u001b[1;33m\u001b[0m\u001b[1;33m\u001b[0m\u001b[1;33m\u001b[0m\u001b[0m\n",
      "\u001b[1;32m~\\anaconda3\\envs\\learn-env\\lib\\site-packages\\statsmodels\\tsa\\base\\tsa_model.py\u001b[0m in \u001b[0;36m_get_prediction_index\u001b[1;34m(self, start, end, index, silent)\u001b[0m\n\u001b[0;32m    736\u001b[0m         \"\"\"\n\u001b[0;32m    737\u001b[0m         \u001b[0mnobs\u001b[0m \u001b[1;33m=\u001b[0m \u001b[0mlen\u001b[0m\u001b[1;33m(\u001b[0m\u001b[0mself\u001b[0m\u001b[1;33m.\u001b[0m\u001b[0mendog\u001b[0m\u001b[1;33m)\u001b[0m\u001b[1;33m\u001b[0m\u001b[1;33m\u001b[0m\u001b[0m\n\u001b[1;32m--> 738\u001b[1;33m         return get_prediction_index(start,\n\u001b[0m\u001b[0;32m    739\u001b[0m                                     \u001b[0mend\u001b[0m\u001b[1;33m,\u001b[0m\u001b[1;33m\u001b[0m\u001b[1;33m\u001b[0m\u001b[0m\n\u001b[0;32m    740\u001b[0m                                     \u001b[0mnobs\u001b[0m\u001b[1;33m,\u001b[0m\u001b[1;33m\u001b[0m\u001b[1;33m\u001b[0m\u001b[0m\n",
      "\u001b[1;32m~\\anaconda3\\envs\\learn-env\\lib\\site-packages\\statsmodels\\tsa\\base\\tsa_model.py\u001b[0m in \u001b[0;36mget_prediction_index\u001b[1;34m(start, end, nobs, base_index, index, silent, index_none, index_generated, data)\u001b[0m\n\u001b[0;32m    324\u001b[0m         \u001b[0mstart\u001b[0m\u001b[1;33m,\u001b[0m \u001b[0m_\u001b[0m\u001b[1;33m,\u001b[0m \u001b[0mstart_oos\u001b[0m \u001b[1;33m=\u001b[0m \u001b[0mget_index_label_loc\u001b[0m\u001b[1;33m(\u001b[0m\u001b[0mstart\u001b[0m\u001b[1;33m,\u001b[0m \u001b[0mbase_index\u001b[0m\u001b[1;33m,\u001b[0m \u001b[0mdata\u001b[0m\u001b[1;33m.\u001b[0m\u001b[0mrow_labels\u001b[0m\u001b[1;33m)\u001b[0m\u001b[1;33m\u001b[0m\u001b[1;33m\u001b[0m\u001b[0m\n\u001b[0;32m    325\u001b[0m     \u001b[1;32mexcept\u001b[0m \u001b[0mKeyError\u001b[0m\u001b[1;33m:\u001b[0m\u001b[1;33m\u001b[0m\u001b[1;33m\u001b[0m\u001b[0m\n\u001b[1;32m--> 326\u001b[1;33m         raise KeyError('The `start` argument could not be matched to a'\n\u001b[0m\u001b[0;32m    327\u001b[0m                        ' location related to the index of the data.')\n\u001b[0;32m    328\u001b[0m     \u001b[1;32mif\u001b[0m \u001b[0mend\u001b[0m \u001b[1;32mis\u001b[0m \u001b[1;32mNone\u001b[0m\u001b[1;33m:\u001b[0m\u001b[1;33m\u001b[0m\u001b[1;33m\u001b[0m\u001b[0m\n",
      "\u001b[1;31mKeyError\u001b[0m: 'The `start` argument could not be matched to a location related to the index of the data.'"
     ]
    },
    {
     "data": {
      "image/png": "[encoded data removed]",
      "text/plain": [
       "<Figure size 1080x216 with 1 Axes>"
      ]
     },
     "metadata": {
      "needs_background": "light"
     },
     "output_type": "display_data"
    }
   ],
   "source": [
    "#plot of ARMA model\n",
    "fig, ax = plt.subplots()\n",
    "ax = df_price_date.plot(ax=ax, title='FORECAST')\n",
    "fig = ar.plot_predict('2020-04-01', '2021-06-01', dynamic=True, ax=ax, plot_insample=False)\n",
    "plt.show()"
   ]
  },
  {
   "cell_type": "code",
   "execution_count": null,
   "metadata": {},
   "outputs": [],
   "source": []
  }
 ],
 "metadata": {
  "kernelspec": {
   "display_name": "Python 3",
   "language": "python",
   "name": "python3"
  },
  "language_info": {
   "codemirror_mode": {
    "name": "ipython",
    "version": 3
   },
   "file_extension": ".py",
   "mimetype": "text/x-python",
   "name": "python",
   "nbconvert_exporter": "python",
   "pygments_lexer": "ipython3",
   "version": "3.8.5"
  }
 },
 "nbformat": 4,
 "nbformat_minor": 4
}
